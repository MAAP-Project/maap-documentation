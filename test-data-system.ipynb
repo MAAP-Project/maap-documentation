{
 "cells": [
  {
   "cell_type": "markdown",
   "id": "7755cc5c",
   "metadata": {},
   "source": [
    "# **WIP** Notebook for testing MAAP Data System Services and their ADE integrations.\n",
    "\n",
    "This notebook is a suite of tests for testing that each of the MAAP Data System services is operating as expecting in one of the following environments:\n",
    "\n",
    "* `dit`: DEvelopment Integration Testing - UAH AWS account and JPL AWS account (separate)\n",
    "* `uat`: GCC UAT environment\n",
    "* `ops`: GCC OPS environment\n",
    "\n",
    "\n",
    "Each environment will eventually have instances of the data system services and the ADE. \n",
    "\n",
    "At time of this writing, none of these environments is \"completely\" deployed so many of these instructions and commands are expected to fail."
   ]
  },
  {
   "cell_type": "markdown",
   "id": "1979c8be",
   "metadata": {},
   "source": [
    "## User-Metadata Form\n",
    "\n",
    "### What is the User-Metadata Form?\n",
    "\n",
    "ADD ME\n",
    "\n",
    "### Who uses it?\n",
    "\n",
    "ADD ME\n",
    "\n",
    "### How can we test it?\n",
    "\n",
    "UMF is integrated with the ADE through the sidebar. Depending on the environment, test that `ade.<environment>.maap-project.org` has a link to `questionnaire.<environment>.maap-project.org`, e.g.:\n",
    "\n",
    "* ade.ops.maap-project.org has a link to questionnaire.ops.maap-project.org\n",
    "* ade.uat.maap-project.org has a link to questionnaire.uat.maap-project.org\n",
    "* ade.dit.maap-project.org has a link to questionnaire.dit.maap-project.org\n",
    "\n",
    "Then follow the link and complete the form. A draft collection should show up in `mmt.<environment>.maap-project.org`.\n",
    "    \n"
   ]
  },
  {
   "cell_type": "markdown",
   "id": "d95beb44",
   "metadata": {},
   "source": [
    "## Earthdata Search Client (EDSC)\n",
    "\n",
    "### What is the Earthdata Search Client?\n",
    "\n",
    "ADD ME\n",
    "\n",
    "### Who uses it?\n",
    "\n",
    "ADD ME\n",
    "\n",
    "### How can we test it?\n",
    "\n",
    "EDSC is integrated with the ADE through the sidebar. Depending on the environment, test that `ade.<environment>.maap-project.org` has a link to `search.<environment>.maap-project.org`, e.g.:\n",
    "\n",
    "* ade.ops.maap-project.org has a link to search.ops.maap-project.org\n",
    "* ade.uat.maap-project.org has a link to search.uat.maap-project.org\n",
    "* ade.dit.maap-project.org has a link to search.dit.maap-project.org\n",
    "\n",
    "Then follow the link and perform a search.\n"
   ]
  },
  {
   "cell_type": "markdown",
   "id": "9a25fc2d",
   "metadata": {},
   "source": [
    "## Common Metadata Repository (CMR)\n",
    "\n",
    "### What is the Common Metadata Repository (CMR)?\n",
    "\n",
    "ADD ME\n",
    "\n",
    "### Who uses it?\n",
    "\n",
    "ADD ME\n",
    "\n",
    "### How can we test it?\n",
    "\n",
    "CMR is integrated with the ADE through `maap-py` and `api.<environment>.maap-project.org/search`.\n",
    "\n",
    "\n",
    "ADD EXAMPLE QUERIES FOR maap-py\n",
    "\n",
    "ADD EXAMPLE QUERYES FOR `api.<environment>`\n",
    "\n",
    "_How do we know maap-py is calling the right environment?_.\n",
    "\n",
    "Search results should return a link to `cmr.<environment>.maap-project.org`\n",
    "\n",
    "\n"
   ]
  },
  {
   "cell_type": "markdown",
   "id": "cab39bc3",
   "metadata": {},
   "source": [
    "## Features Service\n",
    "\n",
    "### What is the Features Service?\n",
    "\n",
    "ADD ME\n",
    "\n",
    "### Who uses it?\n",
    "\n",
    "ADD ME\n",
    "\n",
    "### How can we test it?\n",
    "\n",
    "The features service is not integrated with maap-py or the api at this time and there is no documentation :sob:.\n",
    "\n",
    "The UAH AWS features service endpoint is here: https://qbthn6qpr5.execute-api.us-east-1.amazonaws.com/collections and the current docs are here: https://docs.maap-project.org/en/latest/query/testing-ept-stores.html but the docs do not reference the features service.\n"
   ]
  },
  {
   "cell_type": "markdown",
   "id": "0f9b4511",
   "metadata": {},
   "source": [
    "## Query Service\n",
    "\n",
    "### What is the Query Service?\n",
    "\n",
    "ADD ME\n",
    "\n",
    "### Who uses it?\n",
    "\n",
    "ADD ME\n",
    "\n",
    "### How can we test it?\n",
    "\n",
    "The query service is integrated with `maap-py` and api.maap-project.org.\n",
    "\n",
    "_How do we know it's executing the right state machine?_\n",
    "\n",
    "https://docs.maap-project.org/en/latest/query/query_data_python.html"
   ]
  },
  {
   "cell_type": "markdown",
   "id": "703239df",
   "metadata": {},
   "source": [
    "## 3D Tiles\n",
    "\n",
    "### What is the 3D Tiles Service?\n",
    "\n",
    "ADD ME\n",
    "\n",
    "### Who uses it?\n",
    "\n",
    "ADD ME\n",
    "\n",
    "### How can we test it?\n",
    "\n",
    "_How do we know it's using the right API deployment?_\n",
    "\n",
    "https://github.com/MAAP-Project/maap-documentation/blob/abarciauskas-bgse_add-3dtiles-example/docs/source/visualization/pycmc_3dtiles.ipynb"
   ]
  },
  {
   "cell_type": "markdown",
   "id": "8b4022cc",
   "metadata": {},
   "source": [
    "## Dynamic Tile Service (WMTS)\n",
    "\n",
    "### What is the Dynamic Tile Service (WMTS)?\n",
    "\n",
    "ADD ME\n",
    "\n",
    "### Who uses it?\n",
    "\n",
    "ADD ME\n",
    "\n",
    "### How can we test it?\n",
    "\n",
    "_How do we know it's executing the API deployment?_\n",
    "\n",
    "https://docs.maap-project.org/en/latest/visualization/using_pycmc.html"
   ]
  }
 ],
 "metadata": {
  "kernelspec": {
   "display_name": "Python 3",
   "language": "python",
   "name": "python3"
  },
  "language_info": {
   "codemirror_mode": {
    "name": "ipython",
    "version": 3
   },
   "file_extension": ".py",
   "mimetype": "text/x-python",
   "name": "python",
   "nbconvert_exporter": "python",
   "pygments_lexer": "ipython3",
   "version": "3.7.8"
  }
 },
 "nbformat": 4,
 "nbformat_minor": 5
}
