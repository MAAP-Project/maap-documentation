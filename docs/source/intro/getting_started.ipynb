{
 "cells": [
  {
   "cell_type": "markdown",
   "metadata": {},
   "source": [
    "## Getting started with the MAAP\n",
    "\n",
    "Learn how to sign up for an account and access all the services of the MAAP."
   ]
  },
  {
   "cell_type": "markdown",
   "metadata": {},
   "source": [
    "### Signing up for an Earthdata Login account\n",
    "\n",
    "The MAAP offers accounts for NASA users through [Earthdata Login](https://urs.earthdata.nasa.gov/). Before accessing the MAAP as a NASA user, you will need to create an Earthdata Login account. Anyone can register for an Earthdata Login profile here: https://urs.earthdata.nasa.gov/users/new."
   ]
  },
  {
   "cell_type": "markdown",
   "metadata": {},
   "source": [
    "### Signing up for a new MAAP account\n",
    "\n",
    "Once registered, you can register for a MAAP account by navigating to the MAAP ADE at http://ade.ops.maap-project.org. On your first visit, select the \"URS\" login button shown here:\n",
    "\n",
    "![ADE Login](../_static/ade_login.png)  \n",
    "  \n",
    "\n",
    "If this is your first visit to the MAAP, you will be asked to agree to the MAAP Terms of Use:\n",
    "\n",
    "![MAAP Terms of Use](../_static/tou.png)  \n",
    "  \n",
    "\n",
    "Once registered, you should be redirected back to the MAAP ADE showing a disabled account message similar to this:\n",
    "\n",
    "![ADE Access Denied](../_static/access_denied.png)  \n",
    "  \n",
    "  \n",
    "At this point, a MAAP administrator will approve your account, which will grant you access to the MAAP ADE. This process typically takes 5-10 minutes. To check on the status of your pending account, contact the MAAP team at support@maap-project.org.\n",
    "\n",
    "Once your MAAP account is approved, you will receive an email notification using the address of your Earthdata Login account to let you know that your access is enabled."
   ]
  },
  {
   "cell_type": "markdown",
   "metadata": {},
   "source": [
    "### Code repository access\n",
    "\n",
    "After creating your MAAP account, you can create a code repository by navigating to the MAAP GitLab account at https://repo.ops.maap-project.org. This GitLab account is connected to your ADE workspaces automatically when signing into the ADE."
   ]
  },
  {
   "cell_type": "markdown",
   "metadata": {},
   "source": [
    "### Uploading your public SSH key \n",
    "\n",
    "In order to access your ADE workspaces using SSH, you'll need to upload your public SSH key to your MAAP profile using the MAAP portal at https://ops.maap-project.org. \n",
    "\n",
    "Click on your profile name (or the \"Login\" button) in the top right corner shown here:\n",
    "\n",
    "![MAAP Portal](../_static/portal.png)\n",
    "\n",
    "On your profile page, click the \"Choose File\" button to upload your key.\n",
    "\n",
    "![SSH Key Upload](../_static/sshkey.png)\n",
    "\n",
    "After uploading your key, the SSH connection will be enabled **after your next** login into the ADE."
   ]
  },
  {
   "cell_type": "markdown",
   "metadata": {},
   "source": [
    "### Note on future URL changes\n",
    "\n",
    "The \"*.ops.maap-project.org\" URLs referenced in this guide will be converted to \"*.maap-project.org\" once the version one of MAAP is released in the near future. At that time, these URLs will be updated accordingly."
   ]
  }
 ],
 "metadata": {
  "kernelspec": {
   "display_name": "Python [conda env:root] *",
   "language": "python",
   "name": "conda-root-py"
  },
  "language_info": {
   "codemirror_mode": {
    "name": "ipython",
    "version": 3
   },
   "file_extension": ".py",
   "mimetype": "text/x-python",
   "name": "python",
   "nbconvert_exporter": "python",
   "pygments_lexer": "ipython3",
   "version": "3.7.8"
  },
  "metadata": {
   "interpreter": {
    "hash": "31f2aee4e71d21fbe5cf8b01ff0e069b9275f58929596ceb00d14d90e3e16cd6"
   }
  }
 },
 "nbformat": 4,
 "nbformat_minor": 4
}
