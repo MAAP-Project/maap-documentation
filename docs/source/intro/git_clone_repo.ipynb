{
 "cells": [
  {
   "cell_type": "markdown",
   "metadata": {},
   "source": [
    "# How To Git Clone a Repository Into the Algorithm Development Environment (ADE)"
   ]
  },
  {
   "cell_type": "markdown",
   "metadata": {},
   "source": [
    "This example walks through cloning a repository into the ADE. Cloning a repository allows you to open, edit, and run files contained within the cloned repository. In this example, we look at cloning the \"MAAP-Project/maap-documentation\" Git repository, so that you are able to experiment with the code examples contained within this user documentation."
   ]
  },
  {
   "cell_type": "markdown",
   "metadata": {},
   "source": [
    "When inside of a workspace, navigate to **Git** tab at the top of the Jupyter window. Click it to see the option to **Clone**."
   ]
  },
  {
   "cell_type": "markdown",
   "metadata": {},
   "source": [
    "![Git Clone](../_static/git_clone.png) "
   ]
  },
  {
   "cell_type": "markdown",
   "metadata": {},
   "source": [
    "We can also access the \"Clone a repo\" dialogue box by selecting the **File Browser** ![File Browser](../_static/file_browser.png) tab on the JupyterLab sidebar and using the **Git Clone** ![Git Hub](../_static/git_hub.png) button located at the top of the sidebar. The \"Clone a repo\" dialogue box prompts you to enter the URI of the repository you wish to clone. For this example we enter \" https://github.com/MAAP-Project/maap-documentation.git \". This can be found by visiting the [GitHub site for the \"MAAP-Project/maap-documentation\" Git repository](https://github.com/MAAP-Project/maap-documentation) and clicking the **Code** button. ![Code Button](../_static/code_button.png) Then press the **CLONE** button to clone the repository into the ADE. ![Clone a Repo](../_static/clone_a_repo.png)"
   ]
  },
  {
   "cell_type": "markdown",
   "metadata": {},
   "source": [
    "With the **File Browser** tab on the JupyterLab sidebar selected, a folder named \"maap-documentation\" should now appear under the \"projects\" directory. Folders for the various sections of the guide can be found in the \"docs/source/\" directory. "
   ]
  },
  {
   "cell_type": "markdown",
   "metadata": {},
   "source": [
    "![docs/source/](../_static/docs_source.png)"
   ]
  },
  {
   "cell_type": "markdown",
   "metadata": {},
   "source": [
    "To open the IPython Notebook for an example, go to a section directory and double-click on appropriate \".ipynb\" file. For more information about the using Git in Jupyterlab, see https://github.com/jupyterlab/jupyterlab-git ."
   ]
  }
 ],
 "metadata": {
  "kernelspec": {
   "display_name": "Python 3",
   "language": "python",
   "name": "python3"
  },
  "language_info": {
   "codemirror_mode": {
    "name": "ipython",
    "version": 3
   },
   "file_extension": ".py",
   "mimetype": "text/x-python",
   "name": "python",
   "nbconvert_exporter": "python",
   "pygments_lexer": "ipython3",
   "version": "3.7.8"
  }
 },
 "nbformat": 4,
 "nbformat_minor": 4
}
