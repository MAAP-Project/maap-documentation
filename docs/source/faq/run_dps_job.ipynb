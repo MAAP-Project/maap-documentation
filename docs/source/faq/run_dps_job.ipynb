{
 "cells": [
  {
   "cell_type": "markdown",
   "metadata": {},
   "source": [
    "# How Do I Run A DPS Job?\n",
    "\n",
    "There are 3 ways to do this: guided through popups, via the *Jobs Main Widget UI*, and via a call to the maap-py Python library.\n",
    "\n",
    "## Option 1: Guided Popups\n",
    "Open the *DPS/MAS Operations* menu and select *Execute DPS Job*. \n",
    "\n",
    "![execute dps job](../_static/execute_dps_job.png) \n",
    "\n",
    "Then select the algorithm you wish to run from the dropdown of what is currently available and click OK.\n",
    "\n",
    "![select an algorithm](../_static/select_an_algorithm.png) \n",
    "\n",
    "If the chosen algorithm requires inputs, a new popup will ask for inputs to each field the algorithm takes. If it doesn’t take inputs, the popup will say so. Click OK again to view the ID for the job you just submitted. If you didn’t get to save it, just click *DPS UI -> Refresh Job List*, and the latest job will appear at the top of the Jobs side panel.\n",
    "\n",
    "## Option 2: Jobs UI\n",
    "Open the UI if you haven’t already done so (*DPS UI Menu -> DPS Jobs UI*).\n",
    "\n",
    "![dps jobs ui](../_static/dps_jobs_ui.png)\n",
    "\n",
    "Under the *Run Jobs* tab and under *Algorithms List*, click on the algorithm you wish to run. To the side, you will see the stored algorithm description, and the Execute Job column will automatically update for required inputs. Fill out those fields and click the *Execute Job* button. Your submitted job’s ID will appear below the button.\n",
    "\n",
    "## Option 3: Python Call\n",
    "From within a *Jupyter Notebook* running Python, or inside a Python script, you can use the maap-py library. This is already installed on all ADE workspaces. To import/set it up, you can click the small *MAAP* button ![maap](../_static/maap.png) at the top left of the *Jupyter* toolbar, or you can add these lines before your script: \n"
   ]
  },
  {
   "cell_type": "code",
   "execution_count": null,
   "metadata": {},
   "outputs": [],
   "source": [
    "from maap.maap import MAAP\n",
    "maap = MAAP()"
   ]
  },
  {
   "cell_type": "markdown",
   "metadata": {},
   "source": [
    "You are then required to pass your algorithm’s name, version, required inputs, and username to the function maap.submitJob (identifier is job-algo_name:algo_version): "
   ]
  },
  {
   "cell_type": "code",
   "execution_count": null,
   "metadata": {},
   "outputs": [],
   "source": [
    "# Add some search results to create a list of granules\n",
    "granules = []\n",
    "mit_result = maap.submitJob(\n",
    "    identifier=\"jobplot_analysis_demo_ubuntu:master\",\n",
    "    algo_id=\"plot_analysis_demo_ubuntu\",\n",
    "    version=\"master\",\n",
    "    username=\"bsatoriu\",\n",
    "    granules=[]\n",
    ")"
   ]
  }
 ],
 "metadata": {
  "kernelspec": {
   "display_name": "Python 3",
   "language": "python",
   "name": "python3"
  },
  "language_info": {
   "codemirror_mode": {
    "name": "ipython",
    "version": 3
   },
   "file_extension": ".py",
   "mimetype": "text/x-python",
   "name": "python",
   "nbconvert_exporter": "python",
   "pygments_lexer": "ipython3",
   "version": "3.7.8"
  }
 },
 "nbformat": 4,
 "nbformat_minor": 4
}
