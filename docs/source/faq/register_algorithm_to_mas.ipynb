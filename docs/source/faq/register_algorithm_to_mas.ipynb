{
 "cells": [
  {
   "cell_type": "markdown",
   "metadata": {},
   "source": [
    "# How Do I Register An Algorithm To MAS?\n",
    "\n",
    "Before starting, make sure your algorithm can run in your environment and all changes have been committed/pushed to GitLab or your external repository.\n",
    "\n",
    "When you are ready, in the file browser, right click the file which you wish to register as an algorithm and select *Register as MAS Algorithm*. \n",
    "\n",
    "![register as mas algorithm](../_static/register_as_mas_algorithm.png)\n",
    "\n",
    "If your changes have not been committed, there will be a popup asking you to commit your changes first. The fields will be summarized for you in a form. \n",
    "\n",
    "![register algorithm](../_static/register_algorithm.png)\n",
    "\n",
    "These are saved in the automatically generated file *algorithm_config.yaml*, in the same directory as the script to be run. Don’t register the algorithm if any fields are missing or incorrect.\n",
    "\n",
    "Click cancel and open the file *algorithm_config.yaml* to edit those fields. \n",
    "\n",
    "![algorithm config](../_static/algorithm_config.png)\n",
    "\n",
    "When everything is correct, save your config changes and right-click the file again to register your algorithm.\n",
    "\n",
    "Notes: \n",
    "\n",
    "There will only be one *algorithm_config.yaml* file for any directory. If you have multiple scripts to be registered as algorithms, consider separating them into different folders.The outputs should be written to a folder named outputs."
   ]
  }
 ],
 "metadata": {
  "kernelspec": {
   "display_name": "Python 3",
   "language": "python",
   "name": "python3"
  },
  "language_info": {
   "codemirror_mode": {
    "name": "ipython",
    "version": 3
   },
   "file_extension": ".py",
   "mimetype": "text/x-python",
   "name": "python",
   "nbconvert_exporter": "python",
   "pygments_lexer": "ipython3",
   "version": "3.7.8"
  }
 },
 "nbformat": 4,
 "nbformat_minor": 4
}
