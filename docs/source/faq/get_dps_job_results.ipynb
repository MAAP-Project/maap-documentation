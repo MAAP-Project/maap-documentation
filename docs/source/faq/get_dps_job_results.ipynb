{
 "cells": [
  {
   "cell_type": "markdown",
   "metadata": {},
   "source": [
    "# How Do I Get Results From My DPS Job?\n",
    "\n",
    "## Option 1: Menu Popup\n",
    "Open the *DPS/MAS Operations* menu and select *Get DPS Job Result*. \n",
    "\n",
    "![get dps job result](../_static/get_dps_job_result.png) \n",
    "\n",
    "Enter the job ID of the job you are checking and click OK.  \n",
    "\n",
    "![get job result](../_static/get_job_result.png) \n",
    "\n",
    "If the outputs have been written to the correct folder, you will be given a list of product names and links. The clickable link goes to the AWS S3 location where your outputs have been exported. \n",
    "\n",
    "If there were no outputs detected, there will be a blank popup.  \n",
    "\n",
    "If the job is incomplete (any state other than complete), there will be an error and you should wait until the job has completed before checking for results.\n",
    "\n",
    "## Option 2: Jobs UI – Side Panel\n",
    "From the *Jobs* side panel, click *DPS UI -> Refresh Job List* to update the list of jobs. \n",
    "\n",
    "![jobs](../_static/jobs.png)\n",
    "\n",
    "They will be sorted in order of most recently submitted. Click on a job ID in the side panel to review more information about the run and results if the job has been completed.\n",
    "\n",
    "## Option 3: Jobs UI – Main Widget\n",
    "You can also view job status in the *DPS UI* (open the *DPS Jobs UI* option on the *DPS UI Menu*).\n",
    "\n",
    "![dps jobs ui](../_static/dps_jobs_ui.png)\n",
    "\n",
    "Click on a job ID under the *Submitted Jobs* list, and the job information and results (if completed) will be shown under the *Job Info* tab.\n",
    "\n",
    "## Option 4: Workspace File Directory\n",
    "In the latest ADE images (v2.0), your personal s3-backed folder is automatically populated with a dps_output folder, where the outputs of completed jobs are automatically uploaded and accessible from within your workspace. \n",
    "\n",
    "![dps output](../_static/dps_output.png) \n",
    "\n",
    "The hierarchy is as follows: \n",
    "\n",
    "*username/dps_output/algo_name/algo_verison/run_year/run_month/run_day/run_hr/run_min/run_sec/run_ms*\n",
    "\n",
    "For example:\n",
    "eyam/dps_output/hello_world/master/2020/03/10/00/44/15/865562"
   ]
  }
 ],
 "metadata": {
  "kernelspec": {
   "display_name": "Python 3",
   "language": "python",
   "name": "python3"
  },
  "language_info": {
   "codemirror_mode": {
    "name": "ipython",
    "version": 3
   },
   "file_extension": ".py",
   "mimetype": "text/x-python",
   "name": "python",
   "nbconvert_exporter": "python",
   "pygments_lexer": "ipython3",
   "version": "3.7.8"
  }
 },
 "nbformat": 4,
 "nbformat_minor": 4
}
