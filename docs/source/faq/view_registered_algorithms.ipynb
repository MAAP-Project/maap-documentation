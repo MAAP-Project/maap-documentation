{
 "cells": [
  {
   "cell_type": "markdown",
   "metadata": {},
   "source": [
    "# How Do I View Algorithms Already Registered In MAS?\n",
    "\n",
    "## Option 1: Menu\n",
    "Open the *DPS/MAS* Operations menu and select *List Algorithms*.\n",
    "\n",
    "![list algorithms](../_static/list_algorithms.png) \n",
    "\n",
    "## Option 2: Jobs UI\n",
    "Another way would be via the *DPS UI* (open the *DPS Jobs UI* option on the *DPS UI Menu*), which automatically displays the list of algorithms under the *Run Jobs* tab.\n",
    "\n",
    "![dps jobs ui](../_static/dps_jobs_ui.png)"
   ]
  }
 ],
 "metadata": {
  "kernelspec": {
   "display_name": "Python 3",
   "language": "python",
   "name": "python3"
  },
  "language_info": {
   "codemirror_mode": {
    "name": "ipython",
    "version": 3
   },
   "file_extension": ".py",
   "mimetype": "text/x-python",
   "name": "python",
   "nbconvert_exporter": "python",
   "pygments_lexer": "ipython3",
   "version": "3.7.8"
  }
 },
 "nbformat": 4,
 "nbformat_minor": 4
}
