{
 "cells": [
  {
   "cell_type": "markdown",
   "metadata": {},
   "source": [
    "# Check DPS Job Status\n",
    "\n",
    "## Option 1: Menu Popup\n",
    "Open the *DPS/MAS Operations* menu and select *Get DPS Job Status*.\n",
    "\n",
    "![get dps job status](../_static/get_dps_job_status.png) \n",
    "\n",
    "Enter the job ID of the job you are checking and click OK.  \n",
    "\n",
    "![get job status](../_static/get_job_status.png)\n",
    "\n",
    "You will see the job’s status (queued, started, complete, failed, or dismissed).\n",
    "\n",
    "## Option 2: Jobs UI – Side Panel\n",
    "From the *Jobs* side panel, click *DPS UI -> Refresh Job List* to update the list of jobs.  \n",
    "\n",
    "![jobs](../_static/jobs.png)\n",
    "\n",
    "They will be sorted in order of most recently submitted. The job statuses are listed next to their corresponding job IDs.\n",
    "\n",
    "## Option 3: Jobs UI – Main Widget\n",
    "You can also view job status in the *DPS UI* (open the *DPS Jobs UI* option on the *DPS UI Menu*), in the list of submitted jobs at the bottom (same list as in the side panel).\n",
    "\n",
    "![dps jobs ui](../_static/dps_jobs_ui.png)"
   ]
  }
 ],
 "metadata": {
  "kernelspec": {
   "display_name": "Python 3",
   "language": "python",
   "name": "python3"
  },
  "language_info": {
   "codemirror_mode": {
    "name": "ipython",
    "version": 3
   },
   "file_extension": ".py",
   "mimetype": "text/x-python",
   "name": "python",
   "nbconvert_exporter": "python",
   "pygments_lexer": "ipython3",
   "version": "3.7.8"
  }
 },
 "nbformat": 4,
 "nbformat_minor": 4
}
