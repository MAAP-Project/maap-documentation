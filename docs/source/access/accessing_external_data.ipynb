{
 "cells": [
  {
   "cell_type": "markdown",
   "source": [
    "## Accessing External Granule Data\n",
    "\n",
    "It is possible to download granules hosted on external Distributed Active Archive Centers (DAACs) using the MAAP ADE. This data is hosted externally from the MAAP but can be accessed using the MAAP ADE's authentication systems.\n",
    "\n",
    "In order to do this, we start by creating a Jupyter workspace within the [NASA Goddard Commercial Cloud (GCC) MAAP ADE](https://ade.ops.maap-project.org/). Using the left-hand navigation, select \"+ Get Started\" and then select the \"Jupyter - MAAP Basic Stable\" workspace.\n",
    "\n",
    "![Create Jupyter Workspace](../_static/create_jupyter_workspace.png)\n",
    "\n",
    "Alternatively, you can create a workspace using the \"Workspaces\" interface. See [Create Workspace](https://docs.maap-project.org/en/latest/platform_technical_documentation/create_workspace.html) for more information."
   ],
   "metadata": {}
  },
  {
   "cell_type": "markdown",
   "source": [
    "# Accessing data from Jupyter Notebooks in your workspace\n",
    "\n",
    "Within your Jupyter Notebook, start by importing the `maap` package. Then invoke the MAAP, setting the `maap_host` argument to `api.ops.maap-project.org`."
   ],
   "metadata": {}
  },
  {
   "cell_type": "code",
   "execution_count": 1,
   "source": [
    "# import the maap package to handle queries\n",
    "from maap.maap import MAAP\n",
    "# invoke the MAAP using the MAAP host argument\n",
    "maap = MAAP(maap_host='api.ops.maap-project.org')"
   ],
   "outputs": [],
   "metadata": {}
  },
  {
   "cell_type": "markdown",
   "source": [
    "### External data access application approval\n",
    "\n",
    "In order to access external DAAC data from the ADE, MAAP uses your Earthdata Login profile to send a data request to the desired DAAC application. For an example on how to grant access to an external DAAC, see [this example](https://disc.gsfc.nasa.gov/earthdata-login) on granting access to Goddard Earth Sciences Data and Information Services Center (GES DISC) from your Earthdata Login profile.\n",
    "\n",
    "If Earthdata Login access is not granted to your target DAAC application, the following examples will result in a 401 permission error."
   ],
   "metadata": {}
  },
  {
   "cell_type": "markdown",
   "source": [
    "### Accessing Sentinel-1 Granule Data from the Alaska Satellite Facility (ASF)\n",
    "\n",
    "Search for a granule using the `searchGranule` function (for more information on searching for granules, see [Searching for Granules in MAAP](https://docs.maap-project.org/en/latest/search/granules.html)). Then utilize the `getData` function, which downloads granule data if it doesn't already exist locally. We can use `getData` to download the first result from our granule search into the file system and assign it to a variable (in this case `download`)."
   ],
   "metadata": {}
  },
  {
   "cell_type": "code",
   "execution_count": 2,
   "source": [
    "# search for granule data using the collection concept ID argument \n",
    "results = maap.searchGranule(collection_concept_id='C1200231010-NASA_MAAP')\n",
    "# download first result\n",
    "download = results[0].getData()"
   ],
   "outputs": [],
   "metadata": {}
  },
  {
   "cell_type": "markdown",
   "source": [
    "We can then use the `print` function to see the file name and directory."
   ],
   "metadata": {}
  },
  {
   "cell_type": "code",
   "execution_count": 3,
   "source": [
    "# print file directory\n",
    "print(download)"
   ],
   "outputs": [
    {
     "output_type": "stream",
     "name": "stdout",
     "text": [
      "./S1A_S3_GRDH_1SDH_20140615T034444_20140615T034512_001055_00107C_8977.zip\n"
     ]
    }
   ],
   "metadata": {}
  },
  {
   "cell_type": "markdown",
   "source": [
    "### Accessing Global Ecosystem Dynamics Investigation (GEDI) Level 3 Granule Data from the Oak Ridge National Lab (ORNL)\n",
    "\n",
    "We use a similar approach in order to access GEDI Level 3 granule data. Note that we can use `searchGranule`'s `cmr_host` argument to specify a CMR instance external to MAAP."
   ],
   "metadata": {}
  },
  {
   "cell_type": "code",
   "execution_count": 4,
   "source": [
    "# search for granule data using CMR host name, collection concept ID, and Granule UR arguments\n",
    "results = maap.searchGranule(\n",
    "    cmr_host='cmr.earthdata.nasa.gov',\n",
    "    collection_concept_id='C2067521974-ORNL_CLOUD',\n",
    "    granule_ur='GEDI_L3_Land_Surface_Metrics.GEDI03_elev_lowestmode_stddev_2019108_2020106_001_08.tif')\n",
    "# download first result\n",
    "download_2 = results[0].getData()"
   ],
   "outputs": [],
   "metadata": {}
  },
  {
   "cell_type": "markdown",
   "source": [
    "As in the previous example, we can use the `print` function to see the file name and directory."
   ],
   "metadata": {}
  },
  {
   "cell_type": "code",
   "execution_count": 5,
   "source": [
    "# print file directory\n",
    "print(download_2)"
   ],
   "outputs": [
    {
     "output_type": "stream",
     "name": "stdout",
     "text": [
      "./GEDI03_elev_lowestmode_stddev_2019108_2020106_001_08.tif\n"
     ]
    }
   ],
   "metadata": {}
  }
 ],
 "metadata": {
  "kernelspec": {
   "display_name": "Python 3",
   "language": "python",
   "name": "python3"
  },
  "language_info": {
   "codemirror_mode": {
    "name": "ipython",
    "version": 3
   },
   "file_extension": ".py",
   "mimetype": "text/x-python",
   "name": "python",
   "nbconvert_exporter": "python",
   "pygments_lexer": "ipython3",
   "version": "3.7.8"
  }
 },
 "nbformat": 4,
 "nbformat_minor": 5
}