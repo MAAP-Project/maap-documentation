{
 "cells": [
  {
   "cell_type": "code",
   "execution_count": 2,
   "metadata": {},
   "outputs": [],
   "source": [
    "# import the json module\n",
    "import json\n",
    "# import the MAAP package\n",
    "from maap.maap import MAAP\n",
    "from maappy_helpers import fetch_results"
   ]
  },
  {
   "cell_type": "markdown",
   "metadata": {},
   "source": [
    "# Test different environments\n",
    "\n",
    "TODO: We can use `MAAP(maap_host='api.ops.maap-project.org')` to test a different API endpoint.\n",
    "\n",
    "For each piece of functionality we want to assert:\n",
    "\n",
    "- maap-py is configured with the right API endpoint\n",
    "- maap-py utility functions have the expected results\n",
    "- (configured) API endpoint has the expected results"
   ]
  },
  {
   "cell_type": "code",
   "execution_count": 3,
   "metadata": {},
   "outputs": [],
   "source": [
    "# create MAAP class\n",
    "maap = MAAP()"
   ]
  },
  {
   "cell_type": "markdown",
   "metadata": {},
   "source": [
    "## Testing maap-py\n",
    "\n",
    "Use the settings in https://github.com/MAAP-Project/maap-py/blob/master/maap/maap.py to test maap-py"
   ]
  },
  {
   "cell_type": "code",
   "execution_count": 4,
   "metadata": {},
   "outputs": [],
   "source": [
    "assert maap._MAAP_HOST == 'api.maap-project.org'"
   ]
  },
  {
   "cell_type": "markdown",
   "metadata": {},
   "source": [
    "## Search\n"
   ]
  },
  {
   "cell_type": "code",
   "execution_count": 5,
   "metadata": {},
   "outputs": [],
   "source": [
    "# Test endpoints\n",
    "assert maap._SEARCH_GRANULE_URL == 'https://api.maap-project.org/api/cmr/granules'\n",
    "assert maap._SEARCH_COLLECTION_URL == 'https://api.maap-project.org/api/cmr/collections'\n",
    "\n",
    "## Test maap-py results\n",
    "COLLECTIONID = 'C1200116818-NASA_MAAP' # specify the collection id for the ATLAS dataset\n",
    "\n",
    "results = maap.searchGranule(concept_id=COLLECTIONID, limit=500)\n",
    "assert len(results) == 500\n",
    "\n",
    "results = maap.searchCollection()\n",
    "# print the number of collections\n",
    "assert len(results) >= 61"
   ]
  },
  {
   "cell_type": "markdown",
   "metadata": {},
   "source": [
    "# Test Algorithms and Data Processing System\n",
    "\n",
    "TODO"
   ]
  },
  {
   "cell_type": "code",
   "execution_count": 6,
   "metadata": {},
   "outputs": [],
   "source": [
    "# maap._ALGORITHM_REGISTER\n",
    "\n",
    "# maap._ALGORITHM_BUILD\n",
    "\n",
    "# maap._MAS_ALGO\n",
    "\n",
    "# maap._DPS_JOB"
   ]
  },
  {
   "cell_type": "markdown",
   "metadata": {},
   "source": [
    "# Test Members\n",
    "\n",
    "TODO"
   ]
  },
  {
   "cell_type": "code",
   "execution_count": 7,
   "metadata": {},
   "outputs": [],
   "source": [
    "# maap._MEMBER"
   ]
  },
  {
   "cell_type": "markdown",
   "metadata": {},
   "source": [
    "# Test Query Endpoint"
   ]
  },
  {
   "cell_type": "code",
   "execution_count": 8,
   "metadata": {},
   "outputs": [],
   "source": [
    "assert maap._QUERY_ENDPOINT == 'https://api.maap-project.org/api/query/'"
   ]
  },
  {
   "cell_type": "code",
   "execution_count": 10,
   "metadata": {},
   "outputs": [],
   "source": [
    "collection  = { \n",
    "  \"Collection\": { \n",
    "      \"ShortName\": \"GEDI Cal/Val Field Data_1\", \n",
    "      \"VersionId\": \"2\" \n",
    "  } \n",
    "}\n",
    "\n",
    "query = {\n",
    "    \"bbox\": [9.31, 0.53, 9.32, 0.54],\n",
    "    \"fields\": [\"project\"]\n",
    "}"
   ]
  },
  {
   "cell_type": "code",
   "execution_count": 11,
   "metadata": {},
   "outputs": [],
   "source": [
    "results = fetch_results(maap, collection, query)\n",
    "\n",
    "assert len(results) == 258\n",
    "assert results[0] == {\n",
    "    'project': 'gabon_mondah'\n",
    "}"
   ]
  },
  {
   "cell_type": "markdown",
   "metadata": {},
   "source": [
    "# Test WMTS and tiler endpoints\n",
    "\n",
    "Todo: Add test for WMS"
   ]
  },
  {
   "cell_type": "code",
   "execution_count": 12,
   "metadata": {},
   "outputs": [],
   "source": [
    "assert maap._WMTS == 'https://api.maap-project.org/api/wmts'"
   ]
  },
  {
   "cell_type": "code",
   "execution_count": 14,
   "metadata": {},
   "outputs": [],
   "source": [
    "import requests\n",
    "\n",
    "# this file was downloaded from the API docs (swagger)\n",
    "xml = open('getCapabilities.xml', 'r')\n",
    "expected_get_capabilities_xml = xml.read()\n",
    "get_capabiities_response = requests.get(f'{maap._WMTS}/GetCapabilities')\n",
    "\n",
    "assert get_capabiities_response.status_code == 200"
   ]
  },
  {
   "cell_type": "code",
   "execution_count": 15,
   "metadata": {},
   "outputs": [],
   "source": [
    "from difflib import SequenceMatcher\n",
    "\n",
    "def similar(a, b):\n",
    "    return SequenceMatcher(None, a, b).ratio()\n",
    "\n",
    "# Todo: figure out why these things are different\n",
    "assert similar(get_capabiities_response.text, expected_get_capabilities_xml) > 0.87"
   ]
  },
  {
   "cell_type": "code",
   "execution_count": 16,
   "metadata": {},
   "outputs": [],
   "source": [
    "# TODO: I think we want to remove this, this is only used by https://github.com/MAAP-Project/maap-py/blob/master/maap/maap.py#L438\n",
    "# TODO: This should be different for 'ops'\n",
    "assert maap._TILER_ENDPOINT == 'https://8e9mu91qr6.execute-api.us-east-1.amazonaws.com/production'"
   ]
  },
  {
   "cell_type": "markdown",
   "metadata": {},
   "source": [
    "# Test 3D-Tiles"
   ]
  },
  {
   "cell_type": "code",
   "execution_count": null,
   "metadata": {},
   "outputs": [],
   "source": [
    "# TODO\n",
    "# assert maap._3DTILES_ENDPOINT == 'https://api.maap-project.org/api/3d-tiles'"
   ]
  },
  {
   "cell_type": "code",
   "execution_count": 17,
   "metadata": {},
   "outputs": [],
   "source": [
    "# peru and global are other endpoints\n",
    "threed_tiles_endpoint = 'https://llxbmdibvf.execute-api.us-east-1.amazonaws.com/test//file-staging/nasa-map/ATL08_ARD-beta___001/afrisar/ept/ept-tileset/tileset.json'"
   ]
  },
  {
   "cell_type": "code",
   "execution_count": 18,
   "metadata": {},
   "outputs": [],
   "source": [
    "tileset_response = requests.get(threed_tiles_endpoint)\n",
    "assert tileset_response.status_code == 200\n",
    "assert list(json.loads(tileset_response.text).keys()) == ['asset', 'geometricError', 'root']"
   ]
  },
  {
   "cell_type": "markdown",
   "metadata": {},
   "source": [
    "# Test Features"
   ]
  },
  {
   "cell_type": "code",
   "execution_count": 19,
   "metadata": {},
   "outputs": [],
   "source": [
    "# To implement\n",
    "\n",
    "# assert maap._FEATURES_ENDPOINT == 'https://api.maap-project.org/api/collections'\n",
    "\n",
    "features_endpoint = 'https://8k07ljl96e.execute-api.us-east-1.amazonaws.com/collections'\n",
    "items_endpoint = f'{features_endpoint}/AfriSAR/items?f=json'\n",
    "items_response = requests.get(items_endpoint)\n",
    "\n",
    "assert items_response.status_code == 200\n",
    "assert json.loads(items_response.text)['type'] == 'FeatureCollection'"
   ]
  },
  {
   "cell_type": "markdown",
   "metadata": {},
   "source": [
    "# Test Vector Tiles\n",
    "\n",
    "TODO"
   ]
  },
  {
   "cell_type": "markdown",
   "metadata": {},
   "source": [
    "# Test Services\n",
    "\n",
    "## MMT\n",
    "\n",
    "## UMF\n",
    "\n",
    "## EDSC"
   ]
  },
  {
   "cell_type": "markdown",
   "metadata": {},
   "source": [
    "# Laundry List\n",
    "\n",
    "- [ ] We should have a data system api which acts as a \"discovery service\" so that the api.maap-project.org or other systems can discover backend APIs w/o hard-coding API gateway in configs.\n",
    "- [ ] How doe we test the endpoints are configured in 'https://github.com/MAAP-Project/maap-api-nasa/blob/master/api/settings.py'"
   ]
  }
 ],
 "metadata": {
  "kernelspec": {
   "display_name": "Python 3",
   "language": "python",
   "name": "python3"
  },
  "language_info": {
   "codemirror_mode": {
    "name": "ipython",
    "version": 3
   },
   "file_extension": ".py",
   "mimetype": "text/x-python",
   "name": "python",
   "nbconvert_exporter": "python",
   "pygments_lexer": "ipython3",
   "version": "3.7.8"
  }
 },
 "nbformat": 4,
 "nbformat_minor": 4
}
