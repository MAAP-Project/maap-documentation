{
 "cells": [
  {
   "cell_type": "markdown",
   "metadata": {},
   "source": [
    "## Create Workspace\n",
    "Navigate to the side panel tab `Workspaces` and click `Add Workspace`. Name your workspace, choose your stack and the amount of RAM you will need. Make sure you pay close attention to the Organization you start the workspace in. This is something that cannot be changed, and will affect who you are able to share the workspace with!\n",
    "\n",
    "If you want to add a git project, you may do this when creating the workspace, or add after creation."
   ]
  }
 ],
 "metadata": {
  "kernelspec": {
   "display_name": "Python 3",
   "language": "python",
   "name": "python3"
  },
  "language_info": {
   "codemirror_mode": {
    "name": "ipython",
    "version": 3
   },
   "file_extension": ".py",
   "mimetype": "text/x-python",
   "name": "python",
   "nbconvert_exporter": "python",
   "pygments_lexer": "ipython3",
   "version": "3.7.8"
  }
 },
 "nbformat": 4,
 "nbformat_minor": 4
}
