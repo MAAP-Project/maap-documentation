{
 "cells": [
  {
   "cell_type": "markdown",
   "metadata": {},
   "source": [
    "### Update Project from Workspace\n",
    "All projects imported from GitLab can be found in `/projects`.\n",
    "\n",
    "Using the left side panel in the jupyter interface, you can push changes to your gitlab project.\n",
    "\n",
    "If you are more comfortable using the command line to interact with git, you do not need to use the side panel. It will work the same way in the terminal, once you navigate to the project's filepath.\n",
    "\n",
    "When you are ready to update your project with your changes, navigate to the git panel. Add the files you want to change to the list of staged changes. Then write a commit message, and click the check. Now you need to push your changes by selecting the push changes button on the toolbar.\n",
    "\n",
    "![update project 1](../_static/update_project_1.png)\n",
    "\n",
    "If you want to check your commit history, look at branches, and confirm your updates have been pushed, you can see this on the history tab.\n",
    "\n",
    "![update project 2](../_static/update_project_2.png)"
   ]
  }
 ],
 "metadata": {
  "kernelspec": {
   "display_name": "Python 3",
   "language": "python",
   "name": "python3"
  },
  "language_info": {
   "codemirror_mode": {
    "name": "ipython",
    "version": 3
   },
   "file_extension": ".py",
   "mimetype": "text/x-python",
   "name": "python",
   "nbconvert_exporter": "python",
   "pygments_lexer": "ipython3",
   "version": "3.7.8"
  }
 },
 "nbformat": 4,
 "nbformat_minor": 4
}
