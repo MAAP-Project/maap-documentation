{
 "cells": [
  {
   "cell_type": "code",
   "execution_count": 1,
   "metadata": {},
   "outputs": [
    {
     "ename": "ModuleNotFoundError",
     "evalue": "No module named 'ipycmc'",
     "output_type": "error",
     "traceback": [
      "\u001b[0;31m---------------------------------------------------------------------------\u001b[0m",
      "\u001b[0;31mModuleNotFoundError\u001b[0m                       Traceback (most recent call last)",
      "\u001b[0;32m/var/folders/j0/cxn4ctnx4kv5j_zvr8_8gzl80000gp/T/ipykernel_72701/3530188617.py\u001b[0m in \u001b[0;36m<module>\u001b[0;34m\u001b[0m\n\u001b[1;32m      1\u001b[0m \u001b[0;31m# import the MAAP package\u001b[0m\u001b[0;34m\u001b[0m\u001b[0;34m\u001b[0m\u001b[0;34m\u001b[0m\u001b[0m\n\u001b[1;32m      2\u001b[0m \u001b[0;32mfrom\u001b[0m \u001b[0mmaap\u001b[0m\u001b[0;34m.\u001b[0m\u001b[0mmaap\u001b[0m \u001b[0;32mimport\u001b[0m \u001b[0mMAAP\u001b[0m\u001b[0;34m\u001b[0m\u001b[0;34m\u001b[0m\u001b[0m\n\u001b[0;32m----> 3\u001b[0;31m \u001b[0;32mimport\u001b[0m \u001b[0mipycmc\u001b[0m\u001b[0;34m\u001b[0m\u001b[0;34m\u001b[0m\u001b[0m\n\u001b[0m\u001b[1;32m      4\u001b[0m \u001b[0;34m\u001b[0m\u001b[0m\n\u001b[1;32m      5\u001b[0m \u001b[0;31m# import printing package to help display outputs\u001b[0m\u001b[0;34m\u001b[0m\u001b[0;34m\u001b[0m\u001b[0;34m\u001b[0m\u001b[0m\n",
      "\u001b[0;31mModuleNotFoundError\u001b[0m: No module named 'ipycmc'"
     ]
    }
   ],
   "source": [
    "# import the MAAP package\n",
    "from maap.maap import MAAP\n",
    "import ipycmc\n",
    "\n",
    "# import printing package to help display outputs\n",
    "from pprint import pprint\n",
    "\n",
    "# create MAAP class\n",
    "maap = MAAP()"
   ]
  },
  {
   "cell_type": "markdown",
   "metadata": {},
   "source": [
    "# Visualizing 3D Tiles\n",
    "\n",
    "The ATL08 V003 product is available as an Entwine Point Tile Store. You can read more about the tile store and how to query it in the [Querying ATL08 Entwine Point Tiles Notebook\n",
    "](https://docs.maap-project.org/en/latest/query/ept_stores.html). This notebook demonstrates how to visualize 3D Tiles using `ipyCMC`, a Jupyter Lab widget for the Common Mapping Client (CMC). The CMC is a starter-kit for web-based mapping applications which utilizes several common mapping funtionalities. "
   ]
  },
  {
   "cell_type": "markdown",
   "metadata": {},
   "source": [
    "To get started, we do a search for granules in the `ATL08_ARD-beta` collection. The `_ARD-beta` suffix indicates that this is a \"beta\" (or prototype) product of \"analysis-ready data (ARD)\" for the MAAP."
   ]
  },
  {
   "cell_type": "code",
   "execution_count": null,
   "metadata": {},
   "outputs": [],
   "source": [
    "atl08_ept_granules = maap.searchGranule(short_name=\"ATL08_ARD-beta\")"
   ]
  },
  {
   "cell_type": "markdown",
   "metadata": {},
   "source": [
    "We then select the first granule and check that it is the `global` granule. There are 2 other granules in this collection at this time which represent smaller data stores over the Peru and Afrisar regions of interest."
   ]
  },
  {
   "cell_type": "code",
   "execution_count": null,
   "metadata": {},
   "outputs": [],
   "source": [
    "global_atl08 = atl08_ept_granules[0]['Granule']\n",
    "global_atl08['GranuleUR'] == 'ATL08_ARD-beta.global'"
   ]
  },
  {
   "cell_type": "code",
   "execution_count": null,
   "metadata": {},
   "outputs": [],
   "source": [
    "global_atl08_granule_id = atl08_ept_granules[0]['concept-id']\n",
    "global_atl08_granule_id"
   ]
  },
  {
   "cell_type": "markdown",
   "metadata": {},
   "source": [
    "Instantiate the map by calling `ipycmc.MapCMC()`."
   ]
  },
  {
   "cell_type": "code",
   "execution_count": null,
   "metadata": {},
   "outputs": [],
   "source": [
    "w = ipycmc.MapCMC()\n",
    "w"
   ]
  },
  {
   "attachments": {
    "3121c7e0-979d-4bde-adc6-76d75a2f83bd.png": {
     "image/png": "[encoded data removed]"
    }
   },
   "cell_type": "markdown",
   "metadata": {},
   "source": [
    "Switch to the 3D map view by clicking the globe icon on the right side ![image.png](attachment:3121c7e0-979d-4bde-adc6-76d75a2f83bd.png).\n",
    "Then load the 3D Tile layer."
   ]
  },
  {
   "cell_type": "code",
   "execution_count": null,
   "metadata": {},
   "outputs": [],
   "source": [
    "w.load_layer_config(f\"https://cmr.maap-project.org/search/concepts/{global_atl08_granule_id}.json\", \"json\", {\"handleAs\": \"vector-3d-tile\"})"
   ]
  },
  {
   "cell_type": "markdown",
   "metadata": {},
   "source": [
    "Now enable the layer on the Map Layers menu in the upper left."
   ]
  }
 ],
 "metadata": {
  "kernelspec": {
   "display_name": "Python 3",
   "language": "python",
   "name": "python3"
  },
  "language_info": {
   "codemirror_mode": {
    "name": "ipython",
    "version": 3
   },
   "file_extension": ".py",
   "mimetype": "text/x-python",
   "name": "python",
   "nbconvert_exporter": "python",
   "pygments_lexer": "ipython3",
   "version": "3.7.8"
  }
 },
 "nbformat": 4,
 "nbformat_minor": 5
}
