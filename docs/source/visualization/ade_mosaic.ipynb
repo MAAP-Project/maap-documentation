{
 "cells": [
  {
   "cell_type": "markdown",
   "metadata": {},
   "source": [
    "## Algorithm Development Environment (ADE) Visualization Example\n",
    "\n",
    "### MosaicJSON\n",
    "\n",
    "**A common challenge in visualizing spatial data is data is stored across many files representing small spatial extents.**\n",
    "\n",
    "MosaicJSON is a specification created by DevelopmentSeed which aims to be an open standard for representing metadata about a spatial mosaic of many COG files.\n",
    "\n",
    "> MosaicJSON can be seen as a cloud friendly virtual raster (see GDAL's VRT) enabling spatial and temporal indexing for a list of Cloud-Optimized GeoTIFF.\n",
    "\n",
    "Ref: https://github.com/developmentseed/mosaicjson-spec\n",
    "\n",
    "### Visualizing COGs generated in the MAAP Algorithm Development Environment (ADE)\n",
    "\n",
    "**This notebook visualizes COGs generated in the ADE using the python [Common Mapping Client](https://github.com/nasa/common-mapping-client), an open source project of NASA and JPL.**\n",
    "\n",
    "Any Cloud Optimized GeoTIFF (COG), or group of COGs, in an ADE workspace can be visualized in a dynamic map by using a tiling service hosted in MAAP.\n",
    "\n",
    "Steps:\n",
    "1. Make a list of TIFFs in your workspace to use as a single layer\n",
    "2. Generate a MosaicJSON file from this list of files (or a GeoJSON index)\n",
    "3. Combine the MosaicJSON with other tiler visualization parameters to register a layer with your visualization tool.\n",
    "\n"
   ]
  },
  {
   "cell_type": "code",
   "execution_count": 1,
   "metadata": {},
   "outputs": [],
   "source": [
    "import glob\n",
    "import os\n",
    "import urllib\n",
    "\n",
    "from cogeo_mosaic.mosaic import MosaicJSON\n",
    "from cogeo_mosaic.backends import MosaicBackend"
   ]
  },
  {
   "cell_type": "markdown",
   "metadata": {},
   "source": [
    "### Build a list of files\n",
    "\n",
    "You can either make a list of file paths, or create a GeoJSON layer with a column containing the file paths.\n",
    "The paths need to be **S3** paths currently."
   ]
  },
  {
   "cell_type": "code",
   "execution_count": 2,
   "metadata": {},
   "outputs": [
    {
     "name": "stdout",
     "output_type": "stream",
     "text": [
      "['s3://maap-ops-workspace/maap-users/alexdevseed/landsat8/viz/Landsat8_30542_comp_cog_2015-2020_dps.tif', 's3://maap-ops-workspace/maap-users/alexdevseed/landsat8/viz/Landsat8_30543_comp_cog_2015-2020_dps.tif', 's3://maap-ops-workspace/maap-users/alexdevseed/landsat8/viz/Landsat8_30822_comp_cog_2015-2020_dps.tif', 's3://maap-ops-workspace/maap-users/alexdevseed/landsat8/viz/Landsat8_30823_comp_cog_2015-2020_dps.tif']\n"
     ]
    }
   ],
   "source": [
    "# Local Path to your COGs\n",
    "dps_output = \"/projects/shared-buckets/alexdevseed/landsat8/viz/\"\n",
    "\n",
    "# Search for files to include, use recursive if nested folders (common in DPS output)\n",
    "files = glob.glob(os.path.join(dps_output, \"Landsat*_dps.tif\"), recursive=False)\n",
    "\n",
    "def local_to_s3(url):\n",
    "    ''' A Function to convert local paths to s3 urls'''\n",
    "    return url.replace(\"/projects/shared-buckets\", \"s3://maap-ops-workspace/maap-users\")\n",
    "\n",
    "tiles = [local_to_s3(file) for file in files]\n",
    "print(tiles)"
   ]
  },
  {
   "cell_type": "markdown",
   "metadata": {},
   "source": [
    "#### How to find the S3 path\n",
    "\n",
    "You might be wondering how to find the S3 path to begin with. Right now the easiest way is to right click on a file in the file explorer on the left panel, and **Get Presigned S3 Url**.\n",
    "\n",
    "It will look something like `https://maap-ops-workspace.s3.amazonaws.com/shared/alexdevseed/landsat8/viz/Copernicus_30438_covars_cog_topo_stack.tif?AWSAccessKeyId...`\n",
    "\n",
    "The first part of the url is the bucket name: `maap-ops-workspace`.\n",
    "After the next `/`, it then matches to the local path.\n",
    "\n",
    "Future versions of MAAP will include functions to do this part for you..."
   ]
  },
  {
   "cell_type": "markdown",
   "metadata": {},
   "source": [
    "### Make a mosaic"
   ]
  },
  {
   "cell_type": "code",
   "execution_count": 3,
   "metadata": {},
   "outputs": [],
   "source": [
    "# Now take the list of S3 paths and generate a mosaic\n",
    "# TODO: if you have a lot of files (more than 100), creating a GeoJSON index and using from_features will be more efficient.\n",
    "\n",
    "mosaicdata = MosaicJSON.from_urls(files, minzoom=9, maxzoom=16)\n"
   ]
  },
  {
   "cell_type": "code",
   "execution_count": 4,
   "metadata": {},
   "outputs": [],
   "source": [
    "# Now save the MosaicJSON to a file on S3 so the tile server can use it.\n",
    "with MosaicBackend(\"L8_tile_test.json\", mosaic_def=mosaicdata) as mosaic:\n",
    "    mosaic.write(overwrite=True)\n",
    "\n",
    "# The S3 path to the file is going to be\n",
    "# s3://maap-ops-workspace/maap-users/alexdevseed/L8_tile_test.json"
   ]
  },
  {
   "cell_type": "markdown",
   "metadata": {},
   "source": [
    "### Make a Map"
   ]
  },
  {
   "cell_type": "code",
   "execution_count": 5,
   "metadata": {},
   "outputs": [],
   "source": [
    "import ipycmc"
   ]
  },
  {
   "cell_type": "code",
   "execution_count": 6,
   "metadata": {},
   "outputs": [
    {
     "data": {
      "application/vnd.jupyter.widget-view+json": {
       "model_id": "7cc57a905cf746109df4a97099a01c4d",
       "version_major": 2,
       "version_minor": 0
      },
      "text/plain": [
       "MapCMC()"
      ]
     },
     "metadata": {},
     "output_type": "display_data"
    }
   ],
   "source": [
    "w = ipycmc.MapCMC()\n",
    "w"
   ]
  },
  {
   "cell_type": "markdown",
   "metadata": {},
   "source": [
    "![ADE Mosaic](../_static/ade_mosaic.png)"
   ]
  },
  {
   "cell_type": "code",
   "execution_count": 7,
   "metadata": {},
   "outputs": [
    {
     "data": {
      "text/plain": [
       "'https://h9su0upami.execute-api.us-east-1.amazonaws.com//mosaicjson/WMTSCapabilities.xml?tile_format=png&tile_scale=1&pixel_selection=first&TileMatrixSetId=WebMercatorQuad&url=s3%3A%2F%2Fmaap-ops-workspace%2Fmaap-users%2Falexdevseed%2Flandsat8%2Fviz%2FL8_tile_test.json&bidx=6&resampling_method=nearest&rescale=0%2C1&return_mask=true&colormap_name=viridis'"
      ]
     },
     "execution_count": 7,
     "metadata": {},
     "output_type": "execute_result"
    }
   ],
   "source": [
    "# Build a WMTS call\n",
    "\"\"\"\n",
    "All of this is subject to change in a future version\n",
    "The important parameters for users:\n",
    "  url : the S3 path to the MosaicJSON file,\n",
    "  bidx (band number), \n",
    "  rescale (required if using non Byte data type), \n",
    "  colormap_name or colormap\n",
    "\n",
    "Other parameters are possible, see https://titiler.maap-project.org/docs#/MosaicJSON/wmts_mosaicjson_WMTSCapabilities_xml_get\n",
    "\"\"\"\n",
    "\n",
    "wmts_url = \"https://titiler.maap-project.org/mosaicjson/WMTSCapabilities.xml\"\n",
    "params = {\n",
    "    \"tile_format\":\"png\",\n",
    "    \"tile_scale\":\"1\",\n",
    "    \"pixel_selection\":\"first\",\n",
    "    \"TileMatrixSetId\":\"WebMercatorQuad\",\n",
    "    \"url\":\"s3://maap-ops-workspace/maap-users/alexdevseed/landsat8/viz/L8_tile_test.json\",\n",
    "    \"bidx\":\"6\", # Select which band to use\n",
    "    \"resampling_method\":\"nearest\",\n",
    "    \"rescale\":\"0,1\", # Values in data are from 0 to 1\n",
    "    \"return_mask\":\"true\",\n",
    "    \"colormap_name\":\"viridis\" # Any colormap from matplotlib will work\n",
    "}\n",
    "\n",
    "wmts_call = \"?\".join([wmts_url, urllib.parse.urlencode(params)])\n",
    "\n",
    "# Note Jupyter bug add amp; incorrectly when printing the url\n",
    "wmts_call\n"
   ]
  },
  {
   "cell_type": "code",
   "execution_count": 8,
   "metadata": {},
   "outputs": [],
   "source": [
    "# This adds a new layer to the map above, call Cloud Optimized GeoTIFF\n",
    "w.load_layer_config(wmts_call, \"wmts/xml\")"
   ]
  }
 ],
 "metadata": {
  "kernelspec": {
   "display_name": "Python [conda env:root] *",
   "language": "python",
   "name": "conda-root-py"
  },
  "language_info": {
   "codemirror_mode": {
    "name": "ipython",
    "version": 3
   },
   "file_extension": ".py",
   "mimetype": "text/x-python",
   "name": "python",
   "nbconvert_exporter": "python",
   "pygments_lexer": "ipython3",
   "version": "3.7.8"
  }
 },
 "nbformat": 4,
 "nbformat_minor": 4
}
