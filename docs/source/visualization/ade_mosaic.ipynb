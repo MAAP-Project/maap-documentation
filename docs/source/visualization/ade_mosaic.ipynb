{
 "cells": [
  {
   "cell_type": "markdown",
   "metadata": {},
   "source": [
    "# Visualization example\n",
    "\n",
    "## Make a mosaic"
   ]
  },
  {
   "cell_type": "code",
   "execution_count": 2,
   "metadata": {},
   "outputs": [
    {
     "name": "stdout",
     "output_type": "stream",
     "text": [
      "Collecting cogeo-mosaic\n",
      "  Downloading cogeo-mosaic-3.0.0.tar.gz (22 kB)\n",
      "Requirement already satisfied: attrs in /opt/conda/lib/python3.7/site-packages (from cogeo-mosaic) (20.2.0)\n",
      "Collecting mercantile\n",
      "  Downloading mercantile-1.2.1-py3-none-any.whl (14 kB)\n",
      "Requirement already satisfied: morecantile>=2.1 in /opt/conda/lib/python3.7/site-packages (from cogeo-mosaic) (2.1.2)\n",
      "Collecting pygeos>=0.10\n",
      "  Downloading pygeos-0.10-cp37-cp37m-manylinux_2_5_x86_64.manylinux1_x86_64.whl (2.0 MB)\n",
      "\u001b[K     |████████████████████████████████| 2.0 MB 46.4 MB/s eta 0:00:01\n",
      "\u001b[?25hRequirement already satisfied: pydantic in /opt/conda/lib/python3.7/site-packages (from cogeo-mosaic) (1.8.2)\n",
      "Requirement already satisfied: requests in /opt/conda/lib/python3.7/site-packages (from cogeo-mosaic) (2.24.0)\n",
      "Requirement already satisfied: rasterio in /opt/conda/lib/python3.7/site-packages (from cogeo-mosaic) (1.2.3)\n",
      "Requirement already satisfied: rio-tiler>=2.0 in /opt/conda/lib/python3.7/site-packages (from cogeo-mosaic) (2.1.0)\n",
      "Collecting cachetools\n",
      "  Downloading cachetools-4.2.2-py3-none-any.whl (11 kB)\n",
      "Collecting supermercado\n",
      "  Downloading supermercado-0.2.0-py3-none-any.whl (8.1 kB)\n",
      "Requirement already satisfied: numpy>=1.13 in /opt/conda/lib/python3.7/site-packages (from pygeos>=0.10->cogeo-mosaic) (1.19.2)\n",
      "Requirement already satisfied: affine in /opt/conda/lib/python3.7/site-packages (from rasterio->cogeo-mosaic) (2.3.0)\n",
      "Requirement already satisfied: snuggs>=1.4.1 in /opt/conda/lib/python3.7/site-packages (from rasterio->cogeo-mosaic) (1.4.7)\n",
      "Requirement already satisfied: cligj>=0.5 in /opt/conda/lib/python3.7/site-packages (from rasterio->cogeo-mosaic) (0.7.0)\n",
      "Requirement already satisfied: click-plugins in /opt/conda/lib/python3.7/site-packages (from rasterio->cogeo-mosaic) (1.1.1)\n",
      "Requirement already satisfied: click<8,>=4.0 in /opt/conda/lib/python3.7/site-packages (from rasterio->cogeo-mosaic) (7.1.2)\n",
      "Requirement already satisfied: certifi in /opt/conda/lib/python3.7/site-packages (from rasterio->cogeo-mosaic) (2020.12.5)\n",
      "Requirement already satisfied: boto3 in /opt/conda/lib/python3.7/site-packages/boto3-1.16.8-py3.7.egg (from rio-tiler>=2.0->cogeo-mosaic) (1.16.8)\n",
      "Requirement already satisfied: numexpr in /opt/conda/lib/python3.7/site-packages (from rio-tiler>=2.0->cogeo-mosaic) (2.7.3)\n",
      "Requirement already satisfied: importlib-resources>=1.1.0 in /opt/conda/lib/python3.7/site-packages (from rio-tiler>=2.0->cogeo-mosaic) (5.1.4)\n",
      "Requirement already satisfied: rio-color in /opt/conda/lib/python3.7/site-packages (from rio-tiler>=2.0->cogeo-mosaic) (1.0.2)\n",
      "Requirement already satisfied: pystac>=0.5.3 in /opt/conda/lib/python3.7/site-packages (from rio-tiler>=2.0->cogeo-mosaic) (0.5.6)\n",
      "Requirement already satisfied: zipp>=3.1.0 in /opt/conda/lib/python3.7/site-packages (from importlib-resources>=1.1.0->rio-tiler>=2.0->cogeo-mosaic) (3.4.0)\n",
      "Requirement already satisfied: python-dateutil>=2.7.0 in /opt/conda/lib/python3.7/site-packages (from pystac>=0.5.3->rio-tiler>=2.0->cogeo-mosaic) (2.8.1)\n",
      "Requirement already satisfied: six>=1.5 in /opt/conda/lib/python3.7/site-packages (from python-dateutil>=2.7.0->pystac>=0.5.3->rio-tiler>=2.0->cogeo-mosaic) (1.15.0)\n",
      "Requirement already satisfied: pyparsing>=2.1.6 in /opt/conda/lib/python3.7/site-packages (from snuggs>=1.4.1->rasterio->cogeo-mosaic) (2.4.7)\n",
      "Requirement already satisfied: botocore<1.20.0,>=1.19.8 in /opt/conda/lib/python3.7/site-packages/botocore-1.19.8-py3.7.egg (from boto3->rio-tiler>=2.0->cogeo-mosaic) (1.19.8)\n",
      "Requirement already satisfied: jmespath<1.0.0,>=0.7.1 in /opt/conda/lib/python3.7/site-packages/jmespath-0.10.0-py3.7.egg (from boto3->rio-tiler>=2.0->cogeo-mosaic) (0.10.0)\n",
      "Requirement already satisfied: s3transfer<0.4.0,>=0.3.0 in /opt/conda/lib/python3.7/site-packages/s3transfer-0.3.3-py3.7.egg (from boto3->rio-tiler>=2.0->cogeo-mosaic) (0.3.3)\n",
      "Requirement already satisfied: urllib3<1.26,>=1.25.4 in /opt/conda/lib/python3.7/site-packages (from botocore<1.20.0,>=1.19.8->boto3->rio-tiler>=2.0->cogeo-mosaic) (1.25.11)\n",
      "Requirement already satisfied: typing-extensions>=3.7.4.3 in /opt/conda/lib/python3.7/site-packages (from pydantic->cogeo-mosaic) (3.7.4.3)\n",
      "Requirement already satisfied: idna<3,>=2.5 in /opt/conda/lib/python3.7/site-packages (from requests->cogeo-mosaic) (2.10)\n",
      "Requirement already satisfied: chardet<4,>=3.0.2 in /opt/conda/lib/python3.7/site-packages (from requests->cogeo-mosaic) (3.0.4)\n",
      "Requirement already satisfied: rio-mucho in /opt/conda/lib/python3.7/site-packages (from rio-color->rio-tiler>=2.0->cogeo-mosaic) (1.0.0)\n",
      "Building wheels for collected packages: cogeo-mosaic\n",
      "  Building wheel for cogeo-mosaic (setup.py) ... \u001b[?25ldone\n",
      "\u001b[?25h  Created wheel for cogeo-mosaic: filename=cogeo_mosaic-3.0.0-py3-none-any.whl size=30357 sha256=9cf564efeafc013755f9a93881c8c844ceafdf8e4b73b28e50d41bbe94082064\n",
      "  Stored in directory: /projects/.cache/pip/wheels/84/5e/a0/08e8fa5cc910de11b527d021c856feb8b73e18c7f655d688c0\n",
      "Successfully built cogeo-mosaic\n",
      "Installing collected packages: mercantile, supermercado, pygeos, cachetools, cogeo-mosaic\n",
      "  Attempting uninstall: pygeos\n",
      "    Found existing installation: pygeos 0.8\n",
      "    Uninstalling pygeos-0.8:\n",
      "      Successfully uninstalled pygeos-0.8\n",
      "Successfully installed cachetools-4.2.2 cogeo-mosaic-3.0.0 mercantile-1.2.1 pygeos-0.10 supermercado-0.2.0\n",
      "\u001b[33mWARNING: You are using pip version 21.0.1; however, version 21.1.2 is available.\n",
      "You should consider upgrading via the '/opt/conda/bin/python3.7 -m pip install --upgrade pip' command.\u001b[0m\n"
     ]
    }
   ],
   "source": [
    "!pip install cogeo-mosaic"
   ]
  },
  {
   "cell_type": "code",
   "execution_count": 3,
   "metadata": {},
   "outputs": [],
   "source": [
    "from cogeo_mosaic.mosaic import MosaicJSON\n",
    "from cogeo_mosaic.backends import MosaicBackend"
   ]
  },
  {
   "cell_type": "code",
   "execution_count": 4,
   "metadata": {},
   "outputs": [],
   "source": [
    "#items\n",
    "orig = 'https://maap-ops-dataset.s3.amazonaws.com/bobafett/dps_output/latest/Landsat8_30542_comp_cog_2015-2020_dps.tif'\n",
    "becomes = 's3://maap-ops-dataset/bobafett/dps_output/latest/Landsat8_30542_comp_cog_2015-2020_dps.tif'\n",
    "\n",
    "#tiles = [\n",
    "#    's3://maap-ops-dataset/bobafett/dps_output/latest/Landsat8_30542_comp_cog_2015-2020_dps.tif',\n",
    "#    's3://maap-ops-dataset/bobafett/dps_output/latest/Landsat8_30543_comp_cog_2015-2020_dps.tif',\n",
    "#    's3://maap-ops-dataset/bobafett/dps_output/latest/Landsat8_30822_comp_cog_2015-2020_dps.tif',\n",
    "#    's3://maap-ops-dataset/bobafett/dps_output/latest/Landsat8_30823_comp_cog_2015-2020_dps.tif',\n",
    "#]\n",
    "\n",
    "tiles = [\n",
    "    's3://maap-ops-dataset/maap-users/alexdevseed/landsat8/viz/Landsat8_30542_comp_cog_2015-2020_dps.tif',\n",
    "    's3://maap-ops-dataset/maap-users/alexdevseed/landsat8/viz/Landsat8_30543_comp_cog_2015-2020_dps.tif',\n",
    "    's3://maap-ops-dataset/maap-users/alexdevseed/landsat8/viz/Landsat8_30822_comp_cog_2015-2020_dps.tif',\n",
    "    's3://maap-ops-dataset/maap-users/alexdevseed/landsat8/viz/Landsat8_30823_comp_cog_2015-2020_dps.tif',\n",
    "]\n",
    "\n",
    "\n",
    "mosaicdata = MosaicJSON.from_urls(tiles, minzoom=9, maxzoom=16)\n"
   ]
  },
  {
   "cell_type": "code",
   "execution_count": 5,
   "metadata": {},
   "outputs": [],
   "source": [
    "with MosaicBackend(\"/projects/maap-users/alexdevseed/landsat8/viz/L8_tile_test.json\", mosaic_def=mosaicdata) as mosaic:\n",
    "    mosaic.write(overwrite=True)\n",
    "    \n",
    "# s3://maap-ops-dataset/maap-users/alexdevseed/L8_tile_test.json"
   ]
  },
  {
   "cell_type": "markdown",
   "metadata": {},
   "source": [
    "## Make a Map"
   ]
  },
  {
   "cell_type": "code",
   "execution_count": 10,
   "metadata": {},
   "outputs": [],
   "source": [
    "import ipycmc"
   ]
  },
  {
   "cell_type": "code",
   "execution_count": 11,
   "metadata": {},
   "outputs": [
    {
     "data": {
      "application/vnd.jupyter.widget-view+json": {
       "model_id": "2bc6ebf67a374bebaf5f702c5dc7e37c",
       "version_major": 2,
       "version_minor": 0
      },
      "text/plain": [
       "MapCMC()"
      ]
     },
     "metadata": {},
     "output_type": "display_data"
    }
   ],
   "source": [
    "w = ipycmc.MapCMC()\n",
    "w"
   ]
  },
  {
   "cell_type": "code",
   "execution_count": 14,
   "metadata": {},
   "outputs": [
    {
     "data": {
      "text/plain": [
       "'https://baxpil3vd6.execute-api.us-east-1.amazonaws.com/mosaicjson/WMTSCapabilities.xml?tile_format=png&tile_scale=1&pixel_selection=first&TileMatrixSetId=WebMercatorQuad&url=s3%3A%2F%2Fmaap-ops-dataset%2Fmaap-users%2Falexdevseed%2Flandsat8%2Fviz%2FL8_tile_test.json&bidx=6&resampling_method=nearest&rescale=0%2C1&return_mask=true&colormap_name=viridis'"
      ]
     },
     "execution_count": 14,
     "metadata": {},
     "output_type": "execute_result"
    }
   ],
   "source": [
    "wmts_url = \"https://baxpil3vd6.execute-api.us-east-1.amazonaws.com/mosaicjson/WMTSCapabilities.xml\"\n",
    "params = [\n",
    "    \"tile_format=png\",\n",
    "    \"tile_scale=1\",\n",
    "    \"pixel_selection=first\",\n",
    "    \"TileMatrixSetId=WebMercatorQuad\",\n",
    "    \"url=s3%3A%2F%2Fmaap-ops-dataset%2Fmaap-users%2Falexdevseed%2Flandsat8%2Fviz%2FL8_tile_test.json\",\n",
    "    \"bidx=6\",\n",
    "    \"resampling_method=nearest\",\n",
    "    \"rescale=0%2C1\",\n",
    "    \"return_mask=true\",\n",
    "    \"colormap_name=viridis\"\n",
    "]\n",
    "#TODO url encode so the params can be human readable\n",
    "wmts_call = \"?\".join([wmts_url, \"&\".join([*params])])\n",
    "wmts_call"
   ]
  },
  {
   "cell_type": "code",
   "execution_count": 15,
   "metadata": {},
   "outputs": [],
   "source": [
    "w.load_layer_config(wmts_call\n",
    "                    , \"wmts/xml\")"
   ]
  },
  {
   "cell_type": "code",
   "execution_count": 16,
   "metadata": {},
   "outputs": [],
   "source": [
    "import urllib"
   ]
  },
  {
   "cell_type": "code",
   "execution_count": 19,
   "metadata": {},
   "outputs": [
    {
     "data": {
      "text/plain": [
       "'s3://maap-ops-dataset/maap-users/alexdevseed/landsat8/viz/L8_tile_test.json'"
      ]
     },
     "execution_count": 19,
     "metadata": {},
     "output_type": "execute_result"
    }
   ],
   "source": [
    "urllib.parse.unquote(\"s3%3A%2F%2Fmaap-ops-dataset%2Fmaap-users%2Falexdevseed%2Flandsat8%2Fviz%2FL8_tile_test.json\")"
   ]
  }
 ],
 "metadata": {
  "kernelspec": {
   "display_name": "Python [conda env:root] *",
   "language": "python",
   "name": "conda-root-py"
  },
  "language_info": {
   "codemirror_mode": {
    "name": "ipython",
    "version": 3
   },
   "file_extension": ".py",
   "mimetype": "text/x-python",
   "name": "python",
   "nbconvert_exporter": "python",
   "pygments_lexer": "ipython3",
   "version": "3.7.8"
  }
 },
 "nbformat": 4,
 "nbformat_minor": 4
}
