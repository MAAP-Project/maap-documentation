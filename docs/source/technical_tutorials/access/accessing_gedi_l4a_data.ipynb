{
 "cells": [
  {
   "cell_type": "markdown",
   "id": "5b3b27fe",
   "metadata": {},
   "source": [
    "## Accessing Global Ecosystem Dynamics Investigation (GEDI) Level 4A Granule Data\n",
    "\n",
    "In this example, we demonstrate how to access GEDI Level 4A granule data on the MAAP ADE.\n",
    "\n",
    "Within your Jupyter Notebook, start by importing the `maap` package. Then invoke the `MAAP` constructor, setting the `maap_host` argument to `'api.maap-project.org'`."
   ]
  },
  {
   "cell_type": "code",
   "execution_count": 7,
   "id": "34d5748a",
   "metadata": {},
   "outputs": [],
   "source": [
    "# import os module\n",
    "import os\n",
    "# import the maap package to handle queries\n",
    "from maap.maap import MAAP\n",
    "# invoke the MAAP constructor using the maap_host argument\n",
    "maap = MAAP(maap_host='api.maap-project.org')"
   ]
  },
  {
   "cell_type": "markdown",
   "id": "0348dcff",
   "metadata": {},
   "source": [
    "Search for a granule using the `searchGranule` function (for more information on searching for granules, see [Searching for Granules in MAAP](https://docs.maap-project.org/en/latest/search/granules.html)). Note that we can use `searchGranule`'s `cmr_host` argument to specify `cmr.earthdata.nasa.gov` as the CMR instance. Then utilize the `getData` function, which downloads granule data if it doesn't already exist locally. We can use `getData` to download the first result from our granule search into the file system and assign its local path to a variable (in this case `download`)."
   ]
  },
  {
   "cell_type": "code",
   "execution_count": 9,
   "id": "16b471f4",
   "metadata": {},
   "outputs": [],
   "source": [
    "# search for granule data using CMR host name, collection concept ID, and Granule UR arguments\n",
    "results = maap.searchGranule(\n",
    "    cmr_host='cmr.earthdata.nasa.gov',\n",
    "    collection_concept_id='C2237824918-ORNL_CLOUD',\n",
    "    granule_ur='GEDI_L4A_AGB_Density_V2_1.GEDI04_A_2019107224731_O01958_01_T02638_02_002_02_V002.h5')\n",
    "# download first result\n",
    "local_dir = '/projects/local_data'  # Download directory (absolute path or relative to current directory)\n",
    "os.makedirs(local_dir, exist_ok=True) # Create directories, as necessary\n",
    "download = results[0].getData(local_dir)  # Default download directory is current directory, if no directory is given"
   ]
  },
  {
   "cell_type": "markdown",
   "id": "757dca1d",
   "metadata": {},
   "source": [
    "We can then use the `print` function to see the file name and directory."
   ]
  },
  {
   "cell_type": "code",
   "execution_count": 10,
   "id": "88d326de",
   "metadata": {},
   "outputs": [
    {
     "name": "stdout",
     "output_type": "stream",
     "text": [
      "/projects/local_data/GEDI04_A_2019107224731_O01958_01_T02638_02_002_02_V002.h5\n"
     ]
    }
   ],
   "source": [
    "# print path to downloaded file\n",
    "print(download)"
   ]
  }
 ],
 "metadata": {
  "kernelspec": {
   "display_name": "Python 3 (ipykernel)",
   "language": "python",
   "name": "python3"
  },
  "language_info": {
   "codemirror_mode": {
    "name": "ipython",
    "version": 3
   },
   "file_extension": ".py",
   "mimetype": "text/x-python",
   "name": "python",
   "nbconvert_exporter": "python",
   "pygments_lexer": "ipython3",
   "version": "3.7.8"
  }
 },
 "nbformat": 4,
 "nbformat_minor": 5
}
