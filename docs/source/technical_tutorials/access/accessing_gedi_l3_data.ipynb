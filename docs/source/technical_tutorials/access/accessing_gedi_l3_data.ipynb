{
 "cells": [
  {
   "cell_type": "markdown",
   "id": "04ae0304",
   "metadata": {},
   "source": [
    "## Accessing Global Ecosystem Dynamics Investigation (GEDI) Level 3 Granule Data\n",
    "\n",
    "In this example, we demonstrate how to access GEDI Level 3 granule data on the MAAP ADE.\n",
    "\n",
    "Within your Jupyter Notebook, start by importing the `maap` package. Then invoke the `MAAP` constructor, setting the `maap_host` argument to `'api.maap-project.org'`."
   ]
  },
  {
   "cell_type": "code",
   "execution_count": 8,
   "id": "01faea33",
   "metadata": {},
   "outputs": [],
   "source": [
    "# import os module\n",
    "import os\n",
    "# import the maap package to handle queries\n",
    "from maap.maap import MAAP\n",
    "# invoke the MAAP constructor using the maap_host argument\n",
    "maap = MAAP(maap_host='api.maap-project.org')"
   ]
  },
  {
   "cell_type": "markdown",
   "id": "4ab93e08",
   "metadata": {},
   "source": [
    "Search for a granule using the `searchGranule` function (for more information on searching for granules, see [Searching for Granules in MAAP](https://docs.maap-project.org/en/latest/search/granules.html)). Note that we can use `searchGranule`'s `cmr_host` argument to specify `cmr.earthdata.nasa.gov` as the CMR instance. "
   ]
  },
  {
   "cell_type": "code",
   "execution_count": 3,
   "id": "2a2b7a34",
   "metadata": {},
   "outputs": [],
   "source": [
    "# search for granule data using CMR host name and collection concept ID arguments\n",
    "results = maap.searchGranule(\n",
    "    cmr_host='cmr.earthdata.nasa.gov',\n",
    "    collection_concept_id='C2153683336-ORNL_CLOUD'\n",
    ")"
   ]
  },
  {
   "cell_type": "markdown",
   "id": "af72ac45",
   "metadata": {},
   "source": [
    "Let's view the list of `GranuleUR`s within our `results`:"
   ]
  },
  {
   "cell_type": "code",
   "execution_count": 4,
   "id": "a140c212",
   "metadata": {},
   "outputs": [
    {
     "data": {
      "text/plain": [
       "['GEDI_L3_LandSurface_Metrics_V2.GEDI03_elev_lowestmode_stddev_2019108_2020287_002_02.tif',\n",
       " 'GEDI_L3_LandSurface_Metrics_V2.GEDI03_counts_2019108_2020287_002_02.tif',\n",
       " 'GEDI_L3_LandSurface_Metrics_V2.GEDI03_counts_2019108_2021104_002_02.tif',\n",
       " 'GEDI_L3_LandSurface_Metrics_V2.GEDI03_rh100_mean_2019108_2020287_002_02.tif',\n",
       " 'GEDI_L3_LandSurface_Metrics_V2.GEDI03_rh100_stddev_2019108_2020287_002_02.tif',\n",
       " 'GEDI_L3_LandSurface_Metrics_V2.GEDI03_elev_lowestmode_stddev_2019108_2021104_002_02.tif',\n",
       " 'GEDI_L3_LandSurface_Metrics_V2.GEDI03_rh100_stddev_2019108_2021104_002_02.tif',\n",
       " 'GEDI_L3_LandSurface_Metrics_V2.GEDI03_elev_lowestmode_mean_2019108_2020287_002_02.tif',\n",
       " 'GEDI_L3_LandSurface_Metrics_V2.GEDI03_elev_lowestmode_mean_2019108_2021104_002_02.tif',\n",
       " 'GEDI_L3_LandSurface_Metrics_V2.GEDI03_rh100_mean_2019108_2021104_002_02.tif',\n",
       " 'GEDI_L3_LandSurface_Metrics_V2.GEDI03_elev_lowestmode_stddev_2019108_2021216_002_02.tif',\n",
       " 'GEDI_L3_LandSurface_Metrics_V2.GEDI03_elev_lowestmode_mean_2019108_2021216_002_02.tif',\n",
       " 'GEDI_L3_LandSurface_Metrics_V2.GEDI03_rh100_stddev_2019108_2021216_002_02.tif',\n",
       " 'GEDI_L3_LandSurface_Metrics_V2.GEDI03_rh100_mean_2019108_2021216_002_02.tif',\n",
       " 'GEDI_L3_LandSurface_Metrics_V2.GEDI03_counts_2019108_2021216_002_02.tif',\n",
       " 'GEDI_L3_LandSurface_Metrics_V2.GEDI03_elev_lowestmode_mean_2019108_2022019_002_03.tif',\n",
       " 'GEDI_L3_LandSurface_Metrics_V2.GEDI03_counts_2019108_2022019_002_03.tif',\n",
       " 'GEDI_L3_LandSurface_Metrics_V2.GEDI03_rh100_mean_2019108_2022019_002_03.tif',\n",
       " 'GEDI_L3_LandSurface_Metrics_V2.GEDI03_elev_lowestmode_stddev_2019108_2022019_002_03.tif',\n",
       " 'GEDI_L3_LandSurface_Metrics_V2.GEDI03_rh100_stddev_2019108_2022019_002_03.tif']"
      ]
     },
     "execution_count": 4,
     "metadata": {},
     "output_type": "execute_result"
    }
   ],
   "source": [
    "# show all of the items\n",
    "[item['Granule']['GranuleUR'] for item in results]"
   ]
  },
  {
   "cell_type": "markdown",
   "id": "7102c2b2",
   "metadata": {},
   "source": [
    "For this example, we are interested in downloading `GEDI03_elev_lowestmode_stddev_2019108_2021104_002_02.tif`."
   ]
  },
  {
   "cell_type": "code",
   "execution_count": 9,
   "id": "f5911308",
   "metadata": {},
   "outputs": [
    {
     "data": {
      "text/plain": [
       "'GEDI_L3_LandSurface_Metrics_V2.GEDI03_elev_lowestmode_stddev_2019108_2021104_002_02.tif'"
      ]
     },
     "execution_count": 9,
     "metadata": {},
     "output_type": "execute_result"
    }
   ],
   "source": [
    "# select item\n",
    "results[5]['Granule']['GranuleUR']"
   ]
  },
  {
   "cell_type": "markdown",
   "id": "669d87d7",
   "metadata": {},
   "source": [
    "Now utilize the `getData` function, which downloads granule data if it doesn't already exist locally. We can use `getData` to download the third result from our granule search into the file system and assign its local path to a variable (in this case `download`)."
   ]
  },
  {
   "cell_type": "code",
   "execution_count": 12,
   "id": "8bae223d",
   "metadata": {},
   "outputs": [],
   "source": [
    "# download granule item\n",
    "local_dir = '/projects/local_data'  # download directory (absolute path or relative to current directory)\n",
    "os.makedirs(local_dir, exist_ok=True) # create directories, as necessary\n",
    "download = results[5].getData(local_dir)  # default download directory is current directory, if no directory is given"
   ]
  },
  {
   "cell_type": "markdown",
   "id": "544d8587",
   "metadata": {},
   "source": [
    "We can then use the `print` function to see the file name and directory."
   ]
  },
  {
   "cell_type": "code",
   "execution_count": 13,
   "id": "0b37aa45",
   "metadata": {},
   "outputs": [
    {
     "name": "stdout",
     "output_type": "stream",
     "text": [
      "/projects/local_data/GEDI03_elev_lowestmode_stddev_2019108_2021104_002_02.tif\n"
     ]
    }
   ],
   "source": [
    "# print path to downloaded file\n",
    "print(download)"
   ]
  }
 ],
 "metadata": {
  "kernelspec": {
   "display_name": "Python 3 (ipykernel)",
   "language": "python",
   "name": "python3"
  },
  "language_info": {
   "codemirror_mode": {
    "name": "ipython",
    "version": 3
   },
   "file_extension": ".py",
   "mimetype": "text/x-python",
   "name": "python",
   "nbconvert_exporter": "python",
   "pygments_lexer": "ipython3",
   "version": "3.7.8"
  }
 },
 "nbformat": 4,
 "nbformat_minor": 5
}
