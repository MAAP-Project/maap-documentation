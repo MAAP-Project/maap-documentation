{
 "cells": [
  {
   "cell_type": "markdown",
   "metadata": {},
   "source": [
    "## Accessing Data from the MAAP"
   ]
  },
  {
   "cell_type": "markdown",
   "metadata": {},
   "source": [
    "In this example, we demonstrate how to access data from the MAAP using the 'requests' method of python. At this time, this procedure is the same for user-contributed data added to the store."
   ]
  },
  {
   "cell_type": "markdown",
   "metadata": {},
   "source": [
    "We import the `os` module, import the `MAAP` package, and create a new MAAP class."
   ]
  },
  {
   "cell_type": "code",
   "execution_count": 41,
   "metadata": {
    "tags": []
   },
   "outputs": [],
   "source": [
    "# import os module\n",
    "import os\n",
    "\n",
    "# import the MAAP package\n",
    "from maap.maap import MAAP\n",
    "\n",
    "# create MAAP class\n",
    "maap = MAAP()"
   ]
  },
  {
   "cell_type": "code",
   "execution_count": 42,
   "metadata": {
    "tags": []
   },
   "outputs": [],
   "source": [
    "SHORTNAME = \"AFLVIS2\"\n",
    "\n",
    "# search for granules with SHORTNAME\n",
    "results = maap.searchGranule(short_name=SHORTNAME)\n"
   ]
  },
  {
   "cell_type": "markdown",
   "metadata": {},
   "source": [
    "We assign a variable (in this case, `data_file`) to the first result of our search from the cell above."
   ]
  },
  {
   "cell_type": "code",
   "execution_count": 43,
   "metadata": {
    "tags": []
   },
   "outputs": [
    {
     "data": {
      "text/plain": [
       "{'concept-id': 'G1549411275-NSIDC_ECS',\n",
       " 'collection-concept-id': 'C1549378743-NSIDC_ECS',\n",
       " 'revision-id': '3',\n",
       " 'format': 'application/echo10+xml',\n",
       " 'Granule': {'GranuleUR': 'SC:AFLVIS2.001:138345559',\n",
       "  'InsertTime': '2018-09-24T10:55:46.870Z',\n",
       "  'LastUpdate': '2018-09-24T10:56:29.264Z',\n",
       "  'Collection': {'DataSetId': 'AfriSAR LVIS L2 Geolocated Surface Elevation Product V001'},\n",
       "  'DataGranule': {'SizeMBDataGranule': '130.082',\n",
       "   'ProducerGranuleId': 'LVIS2_Gabon2016_0220_R1808_038024.TXT',\n",
       "   'DayNightFlag': 'UNSPECIFIED',\n",
       "   'ProductionDateTime': '2018-08-23T18:27:43.000Z',\n",
       "   'LocalVersionId': '001'},\n",
       "  'Temporal': {'RangeDateTime': {'BeginningDateTime': '2016-02-20T10:33:44.015000Z',\n",
       "    'EndingDateTime': '2016-02-20T10:43:39.524000Z'}},\n",
       "  'Spatial': {'HorizontalSpatialDomain': {'Geometry': {'GPolygon': {'Boundary': {'Point': [{'PointLongitude': '9.78612',\n",
       "         'PointLatitude': '0.17149'},\n",
       "        {'PointLongitude': '9.84714', 'PointLatitude': '0.14268'},\n",
       "        {'PointLongitude': '9.90816', 'PointLatitude': '0.09226'},\n",
       "        {'PointLongitude': '9.97636', 'PointLatitude': '0.03825'},\n",
       "        {'PointLongitude': '10.04456', 'PointLatitude': '-0.01927'},\n",
       "        {'PointLongitude': '10.11276', 'PointLatitude': '-0.07668'},\n",
       "        {'PointLongitude': '10.18455', 'PointLatitude': '-0.1305'},\n",
       "        {'PointLongitude': '10.20968', 'PointLatitude': '-0.15557'},\n",
       "        {'PointLongitude': '10.2025', 'PointLatitude': '-0.17711'},\n",
       "        {'PointLongitude': '10.13071', 'PointLatitude': '-0.12334'},\n",
       "        {'PointLongitude': '10.06251', 'PointLatitude': '-0.06594'},\n",
       "        {'PointLongitude': '9.99072', 'PointLatitude': '-0.01211'},\n",
       "        {'PointLongitude': '9.92252', 'PointLatitude': '0.04185'},\n",
       "        {'PointLongitude': '9.85432', 'PointLatitude': '0.09946'},\n",
       "        {'PointLongitude': '9.78612', 'PointLatitude': '0.15709'},\n",
       "        {'PointLongitude': '9.78612', 'PointLatitude': '0.16429'},\n",
       "        {'PointLongitude': '9.78612', 'PointLatitude': '0.16789'}]}}}}},\n",
       "  'Platforms': {'Platform': {'ShortName': 'B-200',\n",
       "    'Instruments': {'Instrument': {'ShortName': 'LVIS',\n",
       "      'Sensors': {'Sensor': {'ShortName': 'LVIS'}}}}}},\n",
       "  'Campaigns': {'Campaign': {'ShortName': 'AfriSAR'}},\n",
       "  'AdditionalAttributes': {'AdditionalAttribute': [{'Name': 'SIPSMetGenVersion',\n",
       "     'Values': {'Value': '2.5'}},\n",
       "    {'Name': 'ThemeID', 'Values': {'Value': 'AfriSAR'}},\n",
       "    {'Name': 'AircraftID', 'Values': {'Value': 'N529NA'}}]},\n",
       "  'OnlineAccessURLs': {'OnlineAccessURL': [{'URL': 'https://n5eil01u.ecs.nsidc.org/DP8/ICEBRIDGE/AFLVIS2.001/2016.02.20/LVIS2_Gabon2016_0220_R1808_038024.TXT',\n",
       "     'MimeType': 'application/octet-stream'}]},\n",
       "  'OnlineResources': {'OnlineResource': {'URL': 'https://n5eil01u.ecs.nsidc.org/DP8/ICEBRIDGE/AFLVIS2.001/2016.02.20/LVIS2_Gabon2016_0220_R1808_038024.TXT.xml',\n",
       "    'Type': 'METADATA',\n",
       "    'MimeType': 'text/xml'}},\n",
       "  'Orderable': 'true',\n",
       "  'Visible': 'true'}}"
      ]
     },
     "execution_count": 43,
     "metadata": {},
     "output_type": "execute_result"
    }
   ],
   "source": [
    "# grab first result\n",
    "data_file = results[0]\n",
    "data_file"
   ]
  },
  {
   "cell_type": "markdown",
   "metadata": {},
   "source": [
    "A data directory is then set, and if the directory does not already exist, it is created. The file from our search is then downloaded into the file system in this directory. Here, the function `requests` method from python to download the URL."
   ]
  },
  {
   "cell_type": "code",
   "execution_count": 56,
   "metadata": {
    "tags": []
   },
   "outputs": [],
   "source": [
    "# set data directory\n",
    "dataDir = './data'\n",
    "\n",
    "# check if directory exists -> if directory doesn't exist, directory is created\n",
    "if not os.path.exists(dataDir):\n",
    "    os.mkdir(dataDir)\n",
    "# extract the link to the resource \n",
    "data_url = data_file['Granule']['OnlineAccessURLs']['OnlineAccessURL'][0]['URL']\n"
   ]
  },
  {
   "cell_type": "markdown",
   "metadata": {},
   "source": [
    "Now we can see that the data directory has been created and the 'LVIS2_Gabon2016_0308_R1808_038002.TXT' file is downloaded into the directory. The downloaded file remains in the data directory until the user deletes it."
   ]
  },
  {
   "cell_type": "code",
   "execution_count": 57,
   "metadata": {},
   "outputs": [],
   "source": [
    "import requests\n",
    "r = requests.get(data_url)\n",
    "\n",
    "from pathlib import Path\n",
    "filename = Path(data_url).name\n",
    "with open(f'./{dataDir}/{filename}', 'wb') as f:\n",
    "    f.write(r.content)"
   ]
  },
  {
   "cell_type": "markdown",
   "metadata": {},
   "source": [
    "## Accessing Data from AWS Requester Pays Buckets"
   ]
  },
  {
   "cell_type": "markdown",
   "metadata": {},
   "source": [
    "Some data is cloud available but in requester pays buckets. In this example, we use Rasterio, Boto3, and MAAP's `aws.requester_pays_credentials()` function to retrieve data within the `usgs-landsat` requester pays bucket."
   ]
  },
  {
   "cell_type": "code",
   "execution_count": null,
   "metadata": {
    "tags": []
   },
   "outputs": [],
   "source": [
    "import boto3\n",
    "import rasterio as rio\n",
    "\n",
    "from maap.maap import MAAP\n",
    "from rasterio.plot import show\n",
    "from rasterio.session import AWSSession\n",
    "\n",
    "\n",
    "maap = MAAP(maap_host='api.ops.maap-project.org')\n",
    "credentials = maap.aws.requester_pays_credentials()\n",
    "\n",
    "boto3_session = boto3.Session(\n",
    "    aws_access_key_id=credentials['aws_access_key_id'],\n",
    "    aws_secret_access_key=credentials['aws_secret_access_key'],\n",
    "    aws_session_token=credentials['aws_session_token']\n",
    ")\n",
    "\n",
    "aws_session = AWSSession(boto3_session, requester_pays=True)\n",
    "file_s3 = 's3://usgs-landsat/collection02/level-2/standard/oli-tirs/2015/044/025/LC08_L2SP_044025_20150812_20200908_02_T1/LC08_L2SP_044025_20150812_20200908_02_T1_SR_B2.TIF'\n",
    "with rio.Env(aws_session):\n",
    "    with rio.open(file_s3, 'r') as src:\n",
    "        # list of overviews\n",
    "        oviews = src.overviews(1)\n",
    "        # get second item from list to retrieve a thumbnail\n",
    "        oview = oviews[1]\n",
    "        # read first band of file and set shape of new output array\n",
    "        thumbnail = src.read(1, out_shape=(1, int(src.height // oview), int(src.width // oview)))\n",
    "# now display the thumbnail\n",
    "show(thumbnail)"
   ]
  },
  {
   "cell_type": "markdown",
   "metadata": {},
   "source": [
    "You may adjust the expiration time of the AWS credentials generated by `maap.aws.requester_pays_credentials()`: "
   ]
  },
  {
   "cell_type": "code",
   "execution_count": null,
   "metadata": {},
   "outputs": [],
   "source": [
    "# Credential expiration time in seconds (defaults to 12 hours)\n",
    "maap.aws.requester_pays_credentials(expiration=3600)"
   ]
  }
 ],
 "metadata": {
  "kernelspec": {
   "display_name": "conda_base",
   "language": "python",
   "name": "conda_base"
  },
  "language_info": {
   "codemirror_mode": {
    "name": "ipython",
    "version": 3
   },
   "file_extension": ".py",
   "mimetype": "text/x-python",
   "name": "python",
   "nbconvert_exporter": "python",
   "pygments_lexer": "ipython3",
   "version": "3.10.8"
  }
 },
 "nbformat": 4,
 "nbformat_minor": 4
}
