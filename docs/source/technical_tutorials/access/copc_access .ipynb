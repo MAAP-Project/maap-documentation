{
 "cells": [
  {
   "cell_type": "markdown",
   "id": "119688c0-9e8f-4bd6-ba80-f6725863a5a7",
   "metadata": {},
   "source": [
    "# Working with LiDAR Cloud Optimized Point Cloud (COPC) in MAAP"
   ]
  },
  {
   "cell_type": "markdown",
   "id": "59b8ea1e-d938-4cf9-a975-27f5152dd6d8",
   "metadata": {},
   "source": [
    "**Authors**: Harshini Girish (UAH), Rajat Shinde (UAH), Alex Mandel (DevSeed), Jamison French (DevSeed), Brian Freitag (NASA MSFC), Sheyenne Kirkland (UAH), Henry Rodman (DevSeed), Zac Deziel (DevSeed), Chuck Daniels (DevSeed)\n",
    "\n",
    "**Date**: November 14, 2024\n",
    "\n",
    "**Description**: The LASER (LAS) file format is designed to store 3-dimensional (x,y,z) point cloud data typically collected from LiDAR. An LAZ file is a compressed LAS file, and a Cloud-Optimized Point Cloud (COPC) file is a valid LAZ file. COPC files are similar to COGs for GeoTIFFs: Both are valid versions of the original file format but with additional requirements to support cloud-optimized data access. In the case of COGs, there are additional requirements for tiling and overviews. For COPC, data must be organized into a clustered octree with a variable-length record (VLR) describing the octree structure.\n",
    "\n",
    "**Setup**\n",
    "This tutorial will explore how to:\n",
    "\n",
    "1. Read a LiDAR LAS file using PDAL in Python\n",
    "2. Convert the LiDAR LAS file to Cloud-Optimized Point Cloud (COPC) format\n",
    "3. Validate the generated COPC file\n",
    "\n",
    "## Run This Notebook\n",
    "\n",
    "To access and run this tutorial within MAAP’s Algorithm Development Environment (ADE), please refer to the [Getting started with the MAAP](#) section of our documentation.\n",
    "\n",
    "**Disclaimer**: It is highly recommended to run this tutorial within MAAP’s ADE, which already includes packages specific to MAAP, such as maap-py. Running the tutorial outside of the MAAP ADE may lead to errors.\n"
   ]
  },
  {
   "cell_type": "markdown",
   "id": "1de8e60d-5a61-438d-83a2-45476986277c",
   "metadata": {},
   "source": [
    "## Importing Packages\n",
    "In this example, we demonstrate how to read a LiDAR LAS file using PDAL in Python and convert the LiDAR LAS file to Cloud-Optimized Point Cloud (COPC) format in the MAAP ADE.\n",
    "\n",
    "Within your Jupyter Notebook, start by importing the maap package. Then invoke the MAAP constructor, setting the `maap_host` argument to `'api.maap-project.org'`."
   ]
  },
  {
   "cell_type": "code",
   "execution_count": 70,
   "id": "901fdb83-fbdf-4eac-896a-6411e83e2dee",
   "metadata": {},
   "outputs": [],
   "source": [
    "# import os module\n",
    "import os\n",
    "# import the maap package to handle queries\n",
    "from maap.maap import MAAP\n",
    "# invoke the MAAP constructor using the maap_host argument\n",
    "maap = MAAP(maap_host='api.maap-project.org')\n"
   ]
  },
  {
   "cell_type": "markdown",
   "id": "9c31c8b1-2778-4355-9408-14da183bea1c",
   "metadata": {},
   "source": [
    "## Downloading The Data\n",
    "We are using `searchCollection` method from the maap module for searching the granules from the collection. \n"
   ]
  },
  {
   "cell_type": "code",
   "execution_count": 66,
   "id": "c5e77431-bad2-40e6-8b18-0e4ef632daed",
   "metadata": {},
   "outputs": [
    {
     "name": "stdout",
     "output_type": "stream",
     "text": [
      "First granule metadata: {'concept-id': 'G2164306102-LPCLOUD', 'collection-concept-id': 'C2142771958-LPCLOUD', 'revision-id': '3', 'format': 'application/echo10+xml', 'Granule': {'GranuleUR': 'GEDI02_A_2019108002012_O01959_04_T03909_02_003_01_V002', 'InsertTime': '2021-02-21T13:39:49.553Z', 'LastUpdate': '2021-03-29T12:23:24.958Z', 'Collection': {'ShortName': 'GEDI02_A', 'VersionId': '002'}, 'DataGranule': {'SizeMBDataGranule': '685.071', 'ProducerGranuleId': 'GEDI02_A_2019108002012_O01959_04_T03909_02_003_01_V002', 'DayNightFlag': 'UNSPECIFIED', 'ProductionDateTime': '2021-02-21T14:37:35Z', 'AdditionalFile': {'Name': 'GEDI02_A_2019108002012_O01959_04_T03909_02_003_01_V002.png', 'SizeInBytes': '305718', 'Checksum': {'Value': '4e2ce5ada8384de2def51cf3e1fe6de072d8654ac62872cc21944a45502f0cdf', 'Algorithm': 'SHA256'}}}, 'PGEVersionClass': {'PGEVersion': '003'}, 'Temporal': {'RangeDateTime': {'BeginningDateTime': '2019-04-18T00:20:12.000000Z', 'EndingDateTime': '2019-04-18T01:52:53.000000Z'}}, 'Spatial': {'HorizontalSpatialDomain': {'Geometry': {'GPolygon': {'Boundary': {'Point': [{'PointLongitude': '-90.5073993256', 'PointLatitude': '-23.0437200989'}, {'PointLongitude': '-87.8552288451', 'PointLatitude': '-25.8963352537'}, {'PointLongitude': '-85.0632546358', 'PointLatitude': '-28.6856624588'}, {'PointLongitude': '-82.1098363941', 'PointLatitude': '-31.3993325939'}, {'PointLongitude': '-78.9683054348', 'PointLatitude': '-34.0300270554'}, {'PointLongitude': '-75.6177436219', 'PointLatitude': '-36.5575860156'}, {'PointLongitude': '-72.0312055013', 'PointLatitude': '-38.9682788413'}, {'PointLongitude': '-68.1847230312', 'PointLatitude': '-41.2424966400'}, {'PointLongitude': '-64.0555599402', 'PointLatitude': '-43.3601507811'}, {'PointLongitude': '-63.3438869955', 'PointLatitude': '-43.6937963164'}, {'PointLongitude': '-63.3814827211', 'PointLatitude': '-43.7361982405'}, {'PointLongitude': '-64.0936501540', 'PointLatitude': '-43.4022213074'}, {'PointLongitude': '-68.2245419256', 'PointLatitude': '-41.2829988845'}, {'PointLongitude': '-72.0722211631', 'PointLatitude': '-39.0072654418'}, {'PointLongitude': '-75.6595255572', 'PointLatitude': '-36.5951425276'}, {'PointLongitude': '-79.0105403177', 'PointLatitude': '-34.0662447327'}, {'PointLongitude': '-82.1522642597', 'PointLatitude': '-31.4343372209'}, {'PointLongitude': '-85.1057263343', 'PointLatitude': '-28.7195527043'}, {'PointLongitude': '-87.8976217030', 'PointLatitude': '-25.9292348283'}, {'PointLongitude': '-90.5495203238', 'PointLatitude': '-23.0758814399'}]}}}}}, 'OrbitCalculatedSpatialDomains': {'OrbitCalculatedSpatialDomain': {'StartOrbitNumber': '1959', 'StopOrbitNumber': '1959'}}, 'MeasuredParameters': {'MeasuredParameter': {'ParameterName': 'Level2A'}}, 'Platforms': {'Platform': {'ShortName': 'ISS', 'Instruments': {'Instrument': {'ShortName': 'GEDI', 'Sensors': {'Sensor': {'ShortName': 'LIDAR'}}}}}}, 'Campaigns': {'Campaign': {'ShortName': 'GEDI'}}, 'AdditionalAttributes': {'AdditionalAttribute': [{'Name': 'identifier_product_doi', 'Values': {'Value': '10.5067/GEDI/GEDI02_A.002'}}, {'Name': 'identifier_product_doi_authority', 'Values': {'Value': 'https://doi.org'}}, {'Name': 'Reference_Ground_Track', 'Values': {'Value': '3909'}}, {'Name': 'SEGMENT_NUMBER', 'Values': {'Value': '04'}}]}, 'InputGranules': {'InputGranule': ['GEDI01_B_2019108002012_O01959_04_T03909_02_005_01_V002.h5', 'GEDI01_B_2019108002012_O01959_04_T03909_02_005_01_V002_rx-1gaussfit.h5', 'manifest-percent-nonvegetated-sd.csv', 'manifest-percent-nonvegetated.csv', 'manifest-percent-tree-cover-sd.csv', 'manifest-percent-tree-cover.csv', 'manifest.csv', 'GEDI_ANCI_CONTINENT_r1000m_EASE2.0_UMD_v4.tif', 'GEDI_ANCI_PFT_r1000m_EASE2.0_UMD_v4.tif']}, 'OnlineAccessURLs': {'OnlineAccessURL': [{'URL': 'https://data.lpdaac.earthdatacloud.nasa.gov/lp-prod-protected/GEDI02_A.002/GEDI02_A_2019108002012_O01959_04_T03909_02_003_01_V002/GEDI02_A_2019108002012_O01959_04_T03909_02_003_01_V002.h5', 'URLDescription': 'Download GEDI02_A_2019108002012_O01959_04_T03909_02_003_01_V002.h5'}, {'URL': 's3://lp-prod-protected/GEDI02_A.002/GEDI02_A_2019108002012_O01959_04_T03909_02_003_01_V002/GEDI02_A_2019108002012_O01959_04_T03909_02_003_01_V002.h5', 'URLDescription': 'This link provides direct download access via S3 to the granule'}]}, 'OnlineResources': {'OnlineResource': [{'URL': 'https://doi.org/10.5067/GEDI/GEDI02_A.002', 'Description': 'The Landing Page for this file may be accessed directly from this link', 'Type': 'DOI', 'MimeType': 'text/html'}, {'URL': 'https://data.lpdaac.earthdatacloud.nasa.gov/lp-prod-protected/GEDI02_A.002/GEDI02_A_2019108002012_O01959_04_T03909_02_003_01_V002/GEDI02_A_2019108002012_O01959_04_T03909_02_003_01_V002.cmr.xml', 'Description': 'Download GEDI02_A_2019108002012_O01959_04_T03909_02_003_01_V002.cmr.xml', 'Type': 'EXTENDED METADATA'}, {'URL': 's3://lp-prod-protected/GEDI02_A.002/GEDI02_A_2019108002012_O01959_04_T03909_02_003_01_V002/GEDI02_A_2019108002012_O01959_04_T03909_02_003_01_V002.cmr.xml', 'Description': 'This link provides direct download access via S3 to the granule', 'Type': 'EXTENDED METADATA'}, {'URL': 'https://data.lpdaac.earthdatacloud.nasa.gov/s3credentials', 'Description': 'api endpoint to retrieve temporary credentials valid for same-region direct s3 access', 'Type': 'VIEW RELATED INFORMATION'}]}, 'DataFormat': 'HDF5', 'AssociatedBrowseImageUrls': {'ProviderBrowseUrl': [{'URL': 'https://data.lpdaac.earthdatacloud.nasa.gov/lp-prod-public/GEDI02_A.002/GEDI02_A_2019108002012_O01959_04_T03909_02_003_01_V002/GEDI02_A_2019108002012_O01959_04_T03909_02_003_01_V002.png', 'Description': 'Download GEDI02_A_2019108002012_O01959_04_T03909_02_003_01_V002.png'}, {'URL': 's3://lp-prod-public/GEDI02_A.002/GEDI02_A_2019108002012_O01959_04_T03909_02_003_01_V002/GEDI02_A_2019108002012_O01959_04_T03909_02_003_01_V002.png', 'Description': 'This link provides direct download access via S3 to the granule'}]}}}\n"
     ]
    }
   ],
   "source": [
    "collections = maap.searchCollection(\n",
    "    short_name=\"G-LiHT\",    \n",
    "    version=\"001\",            \n",
    "    cmr_host=\"cmr.earthdata.nasa.gov\",\n",
    "    cloud_hosted=\"true\"       )\n",
    "\n",
    "\n",
    "# Search for granules in the collection\n",
    "granules = maap.searchGranule(\n",
    "    concept_id=collection_id,\n",
    "    cmr_host=\"cmr.earthdata.nasa.gov\",\n",
    "    limit=10  # Number of granules to retrieve\n",
    ")\n",
    "print(\"First granule metadata:\", granules[2])\n"
   ]
  },
  {
   "cell_type": "markdown",
   "id": "ffc8fd49-e278-4c7a-9bb4-aaf2d4eca517",
   "metadata": {},
   "source": [
    "Here we are using searchGranule method along with the temporal argument that defines the temporal range."
   ]
  },
  {
   "cell_type": "code",
   "execution_count": 68,
   "id": "fb8dd3eb-b3ec-4cb4-9dc0-b5c85816dd92",
   "metadata": {},
   "outputs": [
    {
     "name": "stdout",
     "output_type": "stream",
     "text": [
      "'Got 10 results'\n",
      "(\"First granule metadata: {'concept-id': 'G2164305167-LPCLOUD', \"\n",
      " \"'collection-concept-id': 'C2142771958-LPCLOUD', 'revision-id': '3', \"\n",
      " \"'format': 'application/echo10+xml', 'Granule': {'GranuleUR': \"\n",
      " \"'GEDI02_A_2019108002012_O01959_01_T03909_02_003_01_V002', 'InsertTime': \"\n",
      " \"'2021-02-21T13:34:19.936Z', 'LastUpdate': '2021-09-16T13:43:36.441Z', \"\n",
      " \"'Collection': {'ShortName': 'GEDI02_A', 'VersionId': '002'}, 'DataGranule': \"\n",
      " \"{'SizeMBDataGranule': '84.0355', 'ProducerGranuleId': \"\n",
      " \"'GEDI02_A_2019108002012_O01959_01_T03909_02_003_01_V002', 'DayNightFlag': \"\n",
      " \"'UNSPECIFIED', 'ProductionDateTime': '2021-02-21T14:33:03Z', \"\n",
      " \"'AdditionalFile': {'Name': \"\n",
      " \"'GEDI02_A_2019108002012_O01959_01_T03909_02_003_01_V002.png', 'SizeInBytes': \"\n",
      " \"'270695', 'Checksum': {'Value': \"\n",
      " \"'53dff154a2e73288da9aaf6d1fd54ed2326f0a1176f696b9a1b2f6ad327312c4', \"\n",
      " \"'Algorithm': 'SHA256'}}}, 'PGEVersionClass': {'PGEVersion': '003'}, \"\n",
      " \"'Temporal': {'RangeDateTime': {'BeginningDateTime': \"\n",
      " \"'2019-04-18T00:20:12.000000Z', 'EndingDateTime': \"\n",
      " \"'2019-04-18T01:52:53.000000Z'}}, 'Spatial': {'HorizontalSpatialDomain': \"\n",
      " \"{'Geometry': {'GPolygon': {'Boundary': {'Point': [{'PointLongitude': \"\n",
      " \"'80.2890335089', 'PointLatitude': '-4.6168623465'}, {'PointLongitude': \"\n",
      " \"'82.4542052313', 'PointLatitude': '-1.5568021223'}, {'PointLongitude': \"\n",
      " \"'83.6402279084', 'PointLatitude': '0.1277767863'}, {'PointLongitude': \"\n",
      " \"'83.6814118126', 'PointLatitude': '0.0987901632'}, {'PointLongitude': \"\n",
      " \"'82.4953794073', 'PointLatitude': '-1.5858244175'}, {'PointLongitude': \"\n",
      " \"'80.3302671214', 'PointLatitude': '-4.6459691487'}]}}}}}, \"\n",
      " \"'OrbitCalculatedSpatialDomains': {'OrbitCalculatedSpatialDomain': \"\n",
      " \"{'StartOrbitNumber': '1959', 'StopOrbitNumber': '1959'}}, \"\n",
      " \"'MeasuredParameters': {'MeasuredParameter': {'ParameterName': 'Level2A'}}, \"\n",
      " \"'Platforms': {'Platform': {'ShortName': 'ISS', 'Instruments': {'Instrument': \"\n",
      " \"{'ShortName': 'GEDI', 'Sensors': {'Sensor': {'ShortName': 'LIDAR'}}}}}}, \"\n",
      " \"'Campaigns': {'Campaign': {'ShortName': 'GEDI'}}, 'AdditionalAttributes': \"\n",
      " \"{'AdditionalAttribute': [{'Name': 'identifier_product_doi', 'Values': \"\n",
      " \"{'Value': '10.5067/GEDI/GEDI02_A.002'}}, {'Name': \"\n",
      " \"'identifier_product_doi_authority', 'Values': {'Value': 'https://doi.org'}}, \"\n",
      " \"{'Name': 'Reference_Ground_Track', 'Values': {'Value': '3909'}}, {'Name': \"\n",
      " \"'SEGMENT_NUMBER', 'Values': {'Value': '01'}}]}, 'InputGranules': \"\n",
      " \"{'InputGranule': \"\n",
      " \"['GEDI01_B_2019108002012_O01959_01_T03909_02_005_01_V002.h5', \"\n",
      " \"'GEDI01_B_2019108002012_O01959_01_T03909_02_005_01_V002_rx-1gaussfit.h5', \"\n",
      " \"'manifest-percent-nonvegetated-sd.csv', 'manifest-percent-nonvegetated.csv', \"\n",
      " \"'manifest-percent-tree-cover-sd.csv', 'manifest-percent-tree-cover.csv', \"\n",
      " \"'manifest.csv', 'GEDI_ANCI_CONTINENT_r1000m_EASE2.0_UMD_v4.tif', \"\n",
      " \"'GEDI_ANCI_PFT_r1000m_EASE2.0_UMD_v4.tif']}, 'OnlineAccessURLs': \"\n",
      " \"{'OnlineAccessURL': [{'URL': \"\n",
      " \"'https://data.lpdaac.earthdatacloud.nasa.gov/lp-prod-protected/GEDI02_A.002/GEDI02_A_2019108002012_O01959_01_T03909_02_003_01_V002/GEDI02_A_2019108002012_O01959_01_T03909_02_003_01_V002.h5', \"\n",
      " \"'URLDescription': 'Download \"\n",
      " \"GEDI02_A_2019108002012_O01959_01_T03909_02_003_01_V002.h5'}, {'URL': \"\n",
      " \"'s3://lp-prod-protected/GEDI02_A.002/GEDI02_A_2019108002012_O01959_01_T03909_02_003_01_V002/GEDI02_A_2019108002012_O01959_01_T03909_02_003_01_V002.h5', \"\n",
      " \"'URLDescription': 'This link provides direct download access via S3 to the \"\n",
      " \"granule'}]}, 'OnlineResources': {'OnlineResource': [{'URL': \"\n",
      " \"'https://doi.org/10.5067/GEDI/GEDI02_A.002', 'Description': 'The Landing \"\n",
      " \"Page for this file may be accessed directly from this link', 'Type': 'DOI', \"\n",
      " \"'MimeType': 'text/html'}, {'URL': \"\n",
      " \"'https://data.lpdaac.earthdatacloud.nasa.gov/lp-prod-protected/GEDI02_A.002/GEDI02_A_2019108002012_O01959_01_T03909_02_003_01_V002/GEDI02_A_2019108002012_O01959_01_T03909_02_003_01_V002.cmr.xml', \"\n",
      " \"'Description': 'Download \"\n",
      " \"GEDI02_A_2019108002012_O01959_01_T03909_02_003_01_V002.cmr.xml', 'Type': \"\n",
      " \"'EXTENDED METADATA'}, {'URL': \"\n",
      " \"'s3://lp-prod-protected/GEDI02_A.002/GEDI02_A_2019108002012_O01959_01_T03909_02_003_01_V002/GEDI02_A_2019108002012_O01959_01_T03909_02_003_01_V002.cmr.xml', \"\n",
      " \"'Description': 'This link provides direct download access via S3 to the \"\n",
      " \"granule', 'Type': 'EXTENDED METADATA'}, {'URL': \"\n",
      " \"'https://data.lpdaac.earthdatacloud.nasa.gov/s3credentials', 'Description': \"\n",
      " \"'api endpoint to retrieve temporary credentials valid for same-region direct \"\n",
      " \"s3 access', 'Type': 'VIEW RELATED INFORMATION'}]}, 'DataFormat': 'HDF5', \"\n",
      " \"'AssociatedBrowseImageUrls': {'ProviderBrowseUrl': [{'URL': \"\n",
      " \"'https://data.lpdaac.earthdatacloud.nasa.gov/lp-prod-public/GEDI02_A.002/GEDI02_A_2019108002012_O01959_01_T03909_02_003_01_V002/GEDI02_A_2019108002012_O01959_01_T03909_02_003_01_V002.png', \"\n",
      " \"'Description': 'Download \"\n",
      " \"GEDI02_A_2019108002012_O01959_01_T03909_02_003_01_V002.png'}, {'URL': \"\n",
      " \"'s3://lp-prod-public/GEDI02_A.002/GEDI02_A_2019108002012_O01959_01_T03909_02_003_01_V002/GEDI02_A_2019108002012_O01959_01_T03909_02_003_01_V002.png', \"\n",
      " \"'Description': 'This link provides direct download access via S3 to the \"\n",
      " \"granule'}]}}}\")\n"
     ]
    }
   ],
   "source": [
    "# Define the collection concept ID \n",
    "COLLECTION_ID = \"C2142771958-LPCLOUD\"  \n",
    "\n",
    "# Define temporal filter\n",
    "temporal_filter = \"2019-04-01T00:00:00Z,2019-04-30T23:59:59Z\"  # Combined as a single string\n",
    "\n",
    "# Search for granules in the collection with temporal filter\n",
    "granules = maap.searchGranule(\n",
    "    concept_id=COLLECTION_ID,             \n",
    "    cmr_host=\"cmr.earthdata.nasa.gov\",\n",
    "    temporal=temporal_filter,\n",
    "    limit=10  # Number of granules to retrieve\n",
    ")\n",
    "# Print the number of results and metadata for the first granule\n",
    "pprint(f\"Got {len(granules)} results\")\n",
    "if granules:\n",
    "    pprint(f\"First granule metadata: {granules[0]}\")\n"
   ]
  },
  {
   "cell_type": "code",
   "execution_count": 69,
   "id": "d10bd18d-e7eb-4666-8439-f26656fff27a",
   "metadata": {},
   "outputs": [],
   "source": [
    "# Filter for LAS files\n",
    "las_files = [\n",
    "    granule for granule in granules\n",
    "    if granule.get('DataFormat') == 'LAS' or granule.get('GranuleUR', '').endswith('.las')\n",
    "]\n"
   ]
  },
  {
   "cell_type": "code",
   "execution_count": null,
   "id": "c3d15690-1187-4bbb-aa6c-6a909f76d242",
   "metadata": {},
   "outputs": [],
   "source": [
    "# using -go for removing user details and h for getting memory size in MBs\n",
    "!ls -goh ./data"
   ]
  },
  {
   "cell_type": "markdown",
   "id": "ee22da36-86c3-48f3-aa8b-9a760393bc99",
   "metadata": {},
   "source": [
    "## PDAL Pipelines for converting the LiDAR LAS file to COPC format"
   ]
  },
  {
   "cell_type": "markdown",
   "id": "f2c1708d-d445-4063-928d-cef2e4ba463b",
   "metadata": {},
   "source": [
    "PDAL CLI provides multiple applications for processing point clouds. Also, it allows chaining of these applications for processing point clouds. Similar to gdal info for TIFFs, we can run `pdal info <filename>` on the command line for getting metadata from a point cloud file without reading it in memory."
   ]
  },
  {
   "cell_type": "markdown",
   "id": "38094936-ce9d-4759-bce0-55c37dc8bca5",
   "metadata": {},
   "source": [
    "For converting the LiDAR LAS file to COPC format, we will define a pdal pipeline. A pipeline defines data processing within pdal for reading (using pdal readers), processing (using pdal filters) and writing operations (using pdal writers). The pipelines can also represent sequential operations and can be executed as stages.\n"
   ]
  },
  {
   "cell_type": "code",
   "execution_count": null,
   "id": "4221fca6-78d3-483b-b7a5-54c6347f59f5",
   "metadata": {},
   "outputs": [],
   "source": [
    "{\n",
    "  \"pipeline\": [\n",
    "    {\n",
    "        \"filename\":las_filename,\n",
    "        \"type\":\"readers.las\"\n",
    "    },\n",
    "    {\n",
    "        \"type\":\"filters.stats\",\n",
    "    },\n",
    "    {\n",
    "        \"type\":\"writers.copc\",\n",
    "        \"filename\":copc_filename\n",
    "    }\n",
    "]\n",
    "}"
   ]
  },
  {
   "cell_type": "markdown",
   "id": "cc7e0bdd-e537-4985-af58-9a3d2f23d233",
   "metadata": {},
   "source": [
    "This pipeline can be executed using the pdal pipeline `<path_to_json_file>` from the command line for a pipeline saved as a local JSON file."
   ]
  },
  {
   "cell_type": "markdown",
   "id": "9e5afb2f-d568-4327-8393-2d3a74152a4d",
   "metadata": {},
   "source": [
    "## LAS to COPC Conversion\n",
    "Now, to convert the LAS file to a COPC format based on the programmatic pipeline construction.\n"
   ]
  },
  {
   "cell_type": "code",
   "execution_count": null,
   "id": "570d1e0c-41f0-4f2c-a2cc-d728cdd43c7c",
   "metadata": {},
   "outputs": [],
   "source": [
    "# Defining output filename. Usually, COPC files are saved as .copc.laz\n",
    "copc_filename = las_filename.replace('.las', '.copc.laz')\n",
    "copc_filename\n"
   ]
  },
  {
   "cell_type": "code",
   "execution_count": null,
   "id": "88d432d6-7453-4cfd-af93-1d302c6944f3",
   "metadata": {},
   "outputs": [],
   "source": [
    "# Once the pipeline is executed successfully, it prints the count of number of points\n",
    "pipe = pdal.Reader.las(filename=las_filename) | pdal.Writer.copc(filename=copc_filename)\n",
    "pipe.execute()"
   ]
  },
  {
   "cell_type": "markdown",
   "id": "7426b2df-c9e2-43fe-95c7-1dc298db3546",
   "metadata": {},
   "source": [
    "# Validating The Product\n"
   ]
  },
  {
   "cell_type": "markdown",
   "id": "827cd449-ba00-4aba-85f0-e3610cf23131",
   "metadata": {},
   "source": [
    "As we can see from output of the below cell, the `.copc.laz` file is created in the destination directory."
   ]
  },
  {
   "cell_type": "code",
   "execution_count": null,
   "id": "0344bd84-bbdb-40cf-b92d-457e84742e0d",
   "metadata": {},
   "outputs": [],
   "source": [
    "# using -go for removing user details and h for getting memory size in MBs\n",
    "!ls -goh ./data"
   ]
  },
  {
   "cell_type": "markdown",
   "id": "c555fa00-7888-4f5e-b062-ba23c5b990c7",
   "metadata": {},
   "source": [
    "Let’s read the created COPC file again and check the value of copc flag from the metadata. If the generated LiDAR file is a valid COPC file, then this flag should be set to True.\n"
   ]
  },
  {
   "cell_type": "code",
   "execution_count": null,
   "id": "d4040182-ca1b-4988-bef7-f04591fb7c3e",
   "metadata": {},
   "outputs": [],
   "source": [
    "# Creating a pipeline to validate COPC file and check metadata\n",
    "valid_pipe = pdal.Reader.copc(filename=copc_filename) | pdal.Filter.stats()\n",
    "valid_pipe.execute()\n",
    "\n",
    "# Getting value for the \"copc\" key under the metadata\n",
    "# Output is True for a valid COPC\n",
    "value = valid_pipe.metadata[\"metadata\"][\"readers.copc\"].get(\"copc\")\n",
    "print(value)\n"
   ]
  },
  {
   "cell_type": "markdown",
   "id": "7eee3c51-c4fa-4ad5-91e6-5c75f03e417f",
   "metadata": {},
   "source": [
    "# Accessing The Data\n",
    "The data values can be accessed from the executed pipeline using `valid_pipe.arrays`. The values in the arrays represent the LiDAR point cloud attributes such as X, Y, Z, and intensity, etc."
   ]
  },
  {
   "cell_type": "code",
   "execution_count": null,
   "id": "3cd2a89c-6509-4388-bd61-0f0eecf764a7",
   "metadata": {},
   "outputs": [],
   "source": [
    "# Extract array values from the pipeline\n",
    "arr_values = valid_pipe.arrays\n",
    "\n",
    "# Print the array values as a dataframe\n",
    "print(arr_values)"
   ]
  },
  {
   "cell_type": "markdown",
   "id": "3f96be0b-5c9b-454b-aa6d-8aa83973c5d6",
   "metadata": {},
   "source": [
    "As observed from the output of the above cell, the data values are retrieved from the downloaded product. Hence, validating the downloaded file.\n",
    "\n"
   ]
  }
 ],
 "metadata": {
  "kernelspec": {
   "display_name": "Python 3 (ipykernel)",
   "language": "python",
   "name": "python3"
  },
  "language_info": {
   "codemirror_mode": {
    "name": "ipython",
    "version": 3
   },
   "file_extension": ".py",
   "mimetype": "text/x-python",
   "name": "python",
   "nbconvert_exporter": "python",
   "pygments_lexer": "ipython3",
   "version": "3.10.13"
  }
 },
 "nbformat": 4,
 "nbformat_minor": 5
}
