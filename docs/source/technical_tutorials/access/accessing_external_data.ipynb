{
 "cells": [
  {
   "cell_type": "markdown",
   "id": "3bb79280",
   "metadata": {},
   "source": [
    "## Accessing data provided by NASA's Distributed Active Archive Centers (DAACs)"
   ]
  },
  {
   "cell_type": "markdown",
   "id": "857d06d6",
   "metadata": {},
   "source": [
    "It is possible to download data provided by [DAACs](https://www.earthdata.nasa.gov/eosdis/daacs), including data which is not cataloged by the MAAP's CMR, using the [NASA MAAP ADE](https://ade.maap-project.org/). This data is hosted externally from the MAAP but can be accessed using the NASA MAAP ADE's authentication systems.\n",
    "\n",
    "In order to do this, we start by creating a Jupyter workspace within the NASA MAAP ADE. Using the left-hand navigation, select \"+ Get Started\" and then select the \"Jupyter - MAAP Basic Stable\" workspace.\n",
    "\n",
    "![Create Jupyter Workspace](../../_static/create_jupyter_workspace.png)\n",
    "\n",
    "Alternatively, you can create a workspace using the \"Workspaces\" interface. See [Create Workspace](https://docs.maap-project.org/en/latest/system_reference_guide/create_workspace.html) for more information."
   ]
  },
  {
   "cell_type": "markdown",
   "id": "ca9e80e0",
   "metadata": {},
   "source": [
    "### Accessing data from Jupyter Notebooks in your workspace"
   ]
  },
  {
   "cell_type": "markdown",
   "id": "22c00f9b",
   "metadata": {},
   "source": [
    "Within your Jupyter Notebook, start by importing the `maap` package. Then invoke the `MAAP` constructor, setting the `maap_host` argument to `'api.maap-project.org'`."
   ]
  },
  {
   "cell_type": "code",
   "execution_count": null,
   "id": "47ee4a37",
   "metadata": {},
   "outputs": [],
   "source": [
    "# import the maap package\n",
    "from maap.maap import MAAP\n",
    "# invoke the MAAP constructor using the maap_host argument\n",
    "maap = MAAP(maap_host='api.maap-project.org')"
   ]
  },
  {
   "cell_type": "markdown",
   "id": "c7b5f903",
   "metadata": {},
   "source": [
    "### Granting Earthdata Login access to your target DAAC application"
   ]
  },
  {
   "cell_type": "markdown",
   "id": "1c508114",
   "metadata": {},
   "source": [
    "In order to access external DAAC data from the NASA MAAP ADE, MAAP uses your Earthdata Login profile to send a data request to the desired DAAC application. \n",
    "\n",
    "Some DAAC applications (such as 'Alaska Satellite Facility Data Access') must be authorized before you can use them. Login or register at https://urs.earthdata.nasa.gov/ in order to see the applications that you have authorized. From the profile page, click on the 'Applications' tab and select 'Authorized Apps' from the drop-down menu.\n",
    "\n",
    "![profile page](../../_static/profile_page.png)\n",
    "\n",
    "This takes you to the Approved Applications page which lists the applications you have authorized. To add more applications, scroll down to the bottom of the page and click the 'APPROVE MORE APPLICATIONS' button which takes you to the Application search page. \n",
    "\n",
    "![Approved Applications page](../../_static/approved_applications_page.png)\n",
    "\n",
    "Enter the desired application name within the search box and click the 'SEARCH' button. After this, a list of search results appears.\n",
    "\n",
    "![Application search page](../../_static/application_search_page.png)\n",
    "\n",
    "Once you find the desired application, click the 'AUTHORIZE' button next to the name. \n",
    "\n",
    "![search results](../../_static/search_results.png)\n",
    "\n",
    "You are then presented with its End User License Agreement. In order to have authorization, you need to select the 'I agree to the terms of End User License Agreement' checkbox and then click the 'AGREE' button.\n",
    "\n",
    "![End User License Agreement Page](../../_static/end_user_license_agreement_page.png)\n",
    "\n",
    "After this is done, you are then shown the Approved Applications page again and the desired application should now be listed.\n",
    "\n",
    "![page with authorized application](../../_static/page_with_authorized_application.png)\n",
    "\n",
    "Note that if Earthdata Login access is not granted to your target DAAC application, the following example will result in a 401-permission error."
   ]
  },
  {
   "cell_type": "markdown",
   "id": "72b2b987",
   "metadata": {},
   "source": [
    "### Accessing Sentinel-1 Granule Data from the Alaska Satellite Facility (ASF)"
   ]
  },
  {
   "cell_type": "markdown",
   "id": "ef0390b0",
   "metadata": {},
   "source": [
    "Search for a granule using the `searchGranule` function (for more information on searching for granules, see [Searching for Granules in MAAP](https://docs.maap-project.org/en/latest/technical_tutorials/search/granules.html)). Then utilize the `getData` function, which downloads granule data if it doesn't already exist locally. We can use `getData` to download the first result from our granule search into the file system and assign it to a variable (in this case `download`). Note that you will need to authorize the 'Alaska Satellite Facility Data Access' application before downloading any results from our search (see the above section for more information concerning authorizing applications)."
   ]
  },
  {
   "cell_type": "code",
   "execution_count": 3,
   "id": "6378e8de",
   "metadata": {},
   "outputs": [],
   "source": [
    "# search for granule data using the short_name argument \n",
    "results = maap.searchGranule(short_name='SENTINEL-1A_DP_GRD_HIGH')\n",
    "# download first result\n",
    "download = results[0].getData()"
   ]
  },
  {
   "cell_type": "markdown",
   "id": "b871373f",
   "metadata": {},
   "source": [
    "Note that we can then use the `print` function to see the file name and directory."
   ]
  },
  {
   "cell_type": "code",
   "execution_count": 4,
   "id": "e831ede2",
   "metadata": {},
   "outputs": [
    {
     "name": "stdout",
     "output_type": "stream",
     "text": [
      "./S1A_S3_GRDH_1SDH_20140615T034444_20140615T034512_001055_00107C_8977.zip\n"
     ]
    }
   ],
   "source": [
    "# print file directory\n",
    "print(download)"
   ]
  },
  {
   "cell_type": "markdown",
   "id": "abfe4af6",
   "metadata": {},
   "source": [
    "### Accessing Harmonized Landsat Sentinel-2 (HLS) Level 3 Granule Data from the Land Processes Distributed Active Archive Center (LP DAAC)\n",
    "\n",
    "We use a similar approach in order to access HLS Level 3 granule data. Note that this data is not cataloged by the MAAP's CMR but we can use `searchGranule`'s `cmr_host` argument to specify a CMR instance external to MAAP."
   ]
  },
  {
   "cell_type": "code",
   "execution_count": 5,
   "id": "924c0b46",
   "metadata": {},
   "outputs": [],
   "source": [
    "# search for granule data using CMR host name and short name arguments\n",
    "results = maap.searchGranule(\n",
    "    cmr_host='cmr.earthdata.nasa.gov',\n",
    "    short_name='HLSL30')\n",
    "# download first result\n",
    "download = results[0].getData()"
   ]
  },
  {
   "cell_type": "markdown",
   "id": "ef64180f",
   "metadata": {},
   "source": [
    "As in the previous example, we can use the `print` function to see the file name and directory."
   ]
  },
  {
   "cell_type": "code",
   "execution_count": 6,
   "id": "e08ce66e",
   "metadata": {},
   "outputs": [
    {
     "name": "stdout",
     "output_type": "stream",
     "text": [
      "./HLS.L30.T59WPT.2013101T001445.v2.0.B09.tif\n"
     ]
    }
   ],
   "source": [
    "# print file directory\n",
    "print(download)"
   ]
  }
 ],
 "metadata": {
  "kernelspec": {
   "display_name": "Python 3 (ipykernel)",
   "language": "python",
   "name": "python3"
  },
  "language_info": {
   "codemirror_mode": {
    "name": "ipython",
    "version": 3
   },
   "file_extension": ".py",
   "mimetype": "text/x-python",
   "name": "python",
   "nbconvert_exporter": "python",
   "pygments_lexer": "ipython3",
   "version": "3.10.8"
  }
 },
 "nbformat": 4,
 "nbformat_minor": 5
}
