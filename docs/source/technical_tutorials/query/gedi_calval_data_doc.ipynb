{
 "cells": [
  {
   "cell_type": "markdown",
   "metadata": {},
   "source": [
    "# Fields Within the Gedi Cal/Val Data"
   ]
  },
  {
   "cell_type": "markdown",
   "metadata": {},
   "source": [
    "Author: Samuel Ayers (UAH)\n",
    "\n",
    "Updated: June 30, 2020"
   ]
  },
  {
   "cell_type": "markdown",
   "metadata": {},
   "source": [
    "The Global Ecosystem Dynamics Investigation (GEDI) Forest Structure and Biomass Database (FSBD) is a collection of field and LiDAR datasets developed to serve a central repository for calibration and validation of the GEDI mission data. The GEDI Cal/Val Field Data collection contains the field data contributions to the FSBD. The database has contributions across the globe for a variety of vegetation types from projects dating back to 2003. "
   ]
  },
  {
   "cell_type": "markdown",
   "metadata": {},
   "source": [
    "The table below describes the variables found in the files:"
   ]
  },
  {
   "cell_type": "markdown",
   "metadata": {},
   "source": [
    "| variable   | units | description |\n",
    "| --------------|---------------| -----------|\n",
    "| plot | NA | name of plot |\n",
    "| subplot | NA | subplot identifier |\n",
    "| survey | NA | name of survey event |\n",
    "| private | NA | data privacy (1=private, 0=public) |\n",
    "| date | NA | date of survey event |\n",
    "| region | NA | region of plot location: Eu=Europe; As=Asia; Au=Australia/New Zealand; Af=Africa; SEAsia=South East Asia; SA=South/Central America; US=United States) |\n",
    "| vegetation | NA | vegetation type where sampled: Sav = Savannah; TropRF = Tropical rainforest; TempRF = Temperate rainforest; TropSF = Tropical seasonal forest; TempF = Temperate forest; BorF = Boreal forest; Wo = Woodland; Gr = Grassland; Sh = Shrubland; De = Desert |\n",
    "| map | mm | mean annual rainfall |\n",
    "| mat | deg | mean annual temperature |\n",
    "| pft.modis | NA | plant functional type from the nearest MCD12Q1 product date |\n",
    "| pft.name | NA | plant functional type from field descriptions or other ancillary data |\n",
    "| wwf.ecoregion | NA | Terrestrial ecoregion from the WWF Olson et al. (2004) terrestrial ecoregions of the globe |\n",
    "| latitude | deg | latitude of location where sampled (-90 to 90 deg South to North) |\n",
    "| longitude | deg | longitude of location where sampled (-180 to 180 deg West to East) |\n",
    "| p.sample | NA | subplot type: 0=independent fixed area plots; 1=variable area plots; 2=multiple fixed area plots for aggregation; 3=variable radius sampling |\n",
    "| p.stemmap | NA | stem mapped plot (1=TRUE,0=FALSE) |\n",
    "| p.origin | NA | origin of the plot, SW has to be interpreted as the lower left corner relative to the orientation |\n",
    "| p.orientation | deg | orientation of plot degrees clockwise from UTM map grid north |\n",
    "| p.shape | NA | plot shape (E=ellipse, R=rectangle) |\n",
    "| p.majoraxis | m | major axis of plot |\n",
    "| p.minoraxis | m | minor axis of plot |\n",
    "| p.geom | m | plot geometry WKT string |\n",
    "| p.epsg | NA | epsg code of the UTM zone used for the tree coordinates |\n",
    "| p.area | m2 | plot polygon area |\n",
    "| p.mindiam | m | minimum tree diameter measured across all subplots |\n",
    "| sp.geom | m | subplot geometry WKT string |\n",
    "| sp.ix | NA | subplot track index |\n",
    "| sp.iy | NA | subplot pulse index |\n",
    "| sp.shape | NA | subplot shape (E=ellipse, R=rectangle) |\n",
    "| sp.area | m2 | subplot area |\n",
    "| sp.mindiam | m | minimum tree diameter measured for the subplot |\n",
    "| pai | m2/m2 | plant area index of vegetation |\n",
    "| lai | m2/m2 | leaf area index of vegetation |\n",
    "| cover | NA | vertically projected canopy cover (1-Pgap) |\n",
    "| dft | NA | dominant plant functional type: EA = evergreen angiosperm; DA = deciduous angiosperm; EG = evergreen gymnosperm; DG = deciduous gymnosperm |\n",
    "| agb | kg | mass of above-ground standing trees and shrubs |\n",
    "| agb.valid | NA | valid above ground mass prediction (1=TRUE,0=FALSE) |\n",
    "| agb.lower | kg | lower limit of standard error of mass of above-ground standing trees and shrubs |\n",
    "| agb.upper | kg | upper limit of standard error of mass of above-ground standing trees and shrubs |\n",
    "| agbd.ha | Mg/ha | mass density of above-ground standing trees and shrubs |\n",
    "| agbd.ha.lower | Mg/ha | lower limit of standard error of mass density of above-ground standing trees and shrubs |\n",
    "| agbd.ha.upper | Mg/ha | upper limit of standard error of mass density of above-ground standing trees and shrubs |\n",
    "| sn | n | plot stem number |\n",
    "| snd.ha | n/ha | plot stem number density |\n",
    "| sba | m2 | plot stand basal area |\n",
    "| sba.ha | m2/ha | plot stand basal area per hectare |\n",
    "| swsg.ba | g/cm3/m2 | basal-area-weighted wood specific gravity |\n",
    "| h.t.max | m | maximum total height of plants from ground to highest leaf |\n",
    "| sp.agb | kg | subplot mass of above-ground standing trees and shrubs |\n",
    "| sp.agb.valid | NA | valid subplot above ground mass prediction (1=TRUE,0=FALSE) |\n",
    "| sp.agbd.ha | Mg/ha | subplot mass density of above-ground standing trees and shrubs |\n",
    "| sp.agbd.ha.lower | Mg/ha | subplot lower limit of standard error of mass density of above-ground standing trees and shrubs |\n",
    "| sp.agbd.ha.upper | Mg/ha | subplot upper limit of standard error of mass density of above-ground standing trees and shrubs |\n",
    "| sp.sba.ha | m2/ha | subplot stand basal area per hectare |\n",
    "| sp.swsg.ba | g/cm3/m2 | subplot basal-area-weighted wood specific gravity |\n",
    "| sp.h.t.max | m | subplot maximum total height of plants from ground to highest leaf |\n",
    "| l.project | NA | name of the lidar project dataset on UMD servers |\n",
    "| l.instr | NA | lidar instrument manufacturer and model |\n",
    "| l.epsg | NA | epsg code of the corresponding lidar data |\n",
    "| l.date | NA  | date of the corresponding lidar acquisition |\n",
    "| g.fp | NA | geometry collection WKT string of GEDI lidar footprint center locations |\n",
    "| tree.date | NA | date of tree measurement |\n",
    "| family | NA | latin name of botanical family |\n",
    "| species | NA | latin name of species (genus species) |\n",
    "| pft | NA | plant functional type: EA = evergreen angiosperm; DA = deciduous angiosperm; EG = evergreen gymnosperm; DG = deciduous gymnosperm |\n",
    "| wsg | g/cm3 | the ratio of wood density to water |\n",
    "| wsg.sd | g/cm3 | standard deviation of WSG sample values |\n",
    "| tree | NA | tree identifier |\n",
    "| stem | NA | stem identifier |\n",
    "| x | m | easting UTM coordinate |\n",
    "| y | m | northing UTM coordinate |\n",
    "| z | m | elevation relative to geoid coordinate |\n",
    "| status | NA | live tree (1=TRUE,0=FALSE) |\n",
    "| allom.key | NA | key to allometric LUT |\n",
    "| a.stem | m2 | area of total stem cross-section at measurement height |\n",
    "| h.t | m | total height of plant from ground to highest leaf |\n",
    "| h.t.mod | NA | tree heights modelled using local or regional DBH-Ht relationship |\n",
    "| d.stem | m | diameter of stem at measurement height |\n",
    "| d.stem.valid | NA | valid tree diameter to use in AGB calculation (1=TRUE,0=FALSE) |\n",
    "| d.ht | m | height at which stem diameter was measured |\n",
    "| c.w | m | diameter or width of crown |\n",
    "| m.agb | kg | mass of above-ground components of tree |"
   ]
  }
 ],
 "metadata": {
  "kernelspec": {
   "display_name": "Python 3 (ipykernel)",
   "language": "python",
   "name": "python3"
  },
  "language_info": {
   "codemirror_mode": {
    "name": "ipython",
    "version": 3
   },
   "file_extension": ".py",
   "mimetype": "text/x-python",
   "name": "python",
   "nbconvert_exporter": "python",
   "pygments_lexer": "ipython3",
   "version": "3.10.8"
  }
 },
 "nbformat": 4,
 "nbformat_minor": 4
}
