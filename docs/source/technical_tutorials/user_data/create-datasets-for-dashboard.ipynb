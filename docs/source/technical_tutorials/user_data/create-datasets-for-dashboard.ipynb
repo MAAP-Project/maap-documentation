{
 "cells": [
  {
   "cell_type": "markdown",
   "metadata": {},
   "source": [
    "## Adding Cloud-Optimized GeoTIFFs to the MAAP Dashboard\n",
    "\n",
    "The following notebook steps through how to add a dataset to the MAAP Dashboard.\n",
    "\n",
    "Note, there are 2 scenarios:\n",
    "\n",
    "1. Adding a single Cloud-Optimized GeoTIFF (COG) and,\n",
    "2. Adding many distinct COGs as a \"mosaic\" with mosaicJSON.\n",
    "\n",
    "High-level, the steps are:\n",
    "\n",
    "1. Inspect your COG(s) to understand the best rescale and colormap name parameters. Optionally create a mosaic.\n",
    "2. Define a colormap. Colormaps provide mappings of data values to RGB values.\n",
    "3. Create a PR to the datasets repo to add or update your dataset.\n",
    "\n",
    "The MAAP dashboard has 3 environments:\n",
    "\n",
    "1. Developer-in-test (DIT): https://biomass.dit.maap-project.org\n",
    "2. Staging: https://biomass.staging.maap-project.org\n",
    "3. Production: https://biomass.maap-project.org\n",
    "\n",
    "These instructions will guide you towards adding your dataset to `biomass.dit.maap-project.org`. The MAAP Dashboard team will \"promote\" changes to staging and production periodically (release schedule forthcoming)."
   ]
  },
  {
   "cell_type": "markdown",
   "metadata": {},
   "source": [
    "### Setup"
   ]
  },
  {
   "cell_type": "code",
   "execution_count": 1,
   "metadata": {},
   "outputs": [],
   "source": [
    "%%capture\n",
    "!pip install rasterio rio-cogeo supermercado"
   ]
  },
  {
   "cell_type": "code",
   "execution_count": 3,
   "metadata": {},
   "outputs": [],
   "source": [
    "# import the MAAP package\n",
    "import ipycmc\n",
    "from maap.maap import MAAP\n",
    "\n",
    "import glob\n",
    "import json\n",
    "import os\n",
    "import matplotlib\n",
    "import urllib\n",
    "\n",
    "# create MAAP class\n",
    "maap = MAAP(maap_host='api.maap-project.org')"
   ]
  },
  {
   "cell_type": "code",
   "execution_count": 4,
   "metadata": {},
   "outputs": [],
   "source": [
    "project_dir = \"/projects/shared-buckets/<your_name>/<project_dir>\"\n",
    "# e.g.\n",
    "project_dir = \"/projects/shared-buckets/alexdevseed/landsat8/viz/\""
   ]
  },
  {
   "cell_type": "code",
   "execution_count": 5,
   "metadata": {},
   "outputs": [],
   "source": [
    "# Search for files to include, use recursive if nested folders (common in DPS output)\n",
    "files = glob.glob(os.path.join(project_dir, \"*.tif\"), recursive=False)\n",
    "files = [os.path.basename(f) for f in files]\n",
    "#files"
   ]
  },
  {
   "cell_type": "code",
   "execution_count": 6,
   "metadata": {},
   "outputs": [],
   "source": [
    "my_tif = files[1]"
   ]
  },
  {
   "cell_type": "code",
   "execution_count": 7,
   "metadata": {},
   "outputs": [
    {
     "name": "stdout",
     "output_type": "stream",
     "text": [
      "/projects/shared-buckets/alexdevseed/landsat8/viz/Copernicus_30439_covars_cog_topo_stack.tif is a valid cloud optimized GeoTIFF\n"
     ]
    }
   ],
   "source": [
    "%%bash -s \"$project_dir\" \"$my_tif\"\n",
    "rio cogeo validate $1/$2"
   ]
  },
  {
   "cell_type": "code",
   "execution_count": 8,
   "metadata": {},
   "outputs": [
    {
     "name": "stdout",
     "output_type": "stream",
     "text": [
      "Driver: GTiff/GeoTIFF\n",
      "Files: /projects/shared-buckets/alexdevseed/landsat8/viz//Copernicus_30439_covars_cog_topo_stack.tif\n",
      "       /projects/shared-buckets/alexdevseed/landsat8/viz//Copernicus_30439_covars_cog_topo_stack.tif.aux.xml\n",
      "Size is 1000, 1000\n",
      "Coordinate System is:\n",
      "PROJCRS[\"unknown\",\n",
      "    BASEGEOGCRS[\"NAD83\",\n",
      "        DATUM[\"North American Datum 1983\",\n",
      "            ELLIPSOID[\"GRS 1980\",6378137,298.257222101004,\n",
      "                LENGTHUNIT[\"metre\",1]]],\n",
      "        PRIMEM[\"Greenwich\",0,\n",
      "            ANGLEUNIT[\"degree\",0.0174532925199433]],\n",
      "        ID[\"EPSG\",4269]],\n",
      "    CONVERSION[\"Albers Equal Area\",\n",
      "        METHOD[\"Albers Equal Area\",\n",
      "            ID[\"EPSG\",9822]],\n",
      "        PARAMETER[\"Latitude of false origin\",40,\n",
      "            ANGLEUNIT[\"degree\",0.0174532925199433],\n",
      "            ID[\"EPSG\",8821]],\n",
      "        PARAMETER[\"Longitude of false origin\",180,\n",
      "            ANGLEUNIT[\"degree\",0.0174532925199433],\n",
      "            ID[\"EPSG\",8822]],\n",
      "        PARAMETER[\"Latitude of 1st standard parallel\",50,\n",
      "            ANGLEUNIT[\"degree\",0.0174532925199433],\n",
      "            ID[\"EPSG\",8823]],\n",
      "        PARAMETER[\"Latitude of 2nd standard parallel\",70,\n",
      "            ANGLEUNIT[\"degree\",0.0174532925199433],\n",
      "            ID[\"EPSG\",8824]],\n",
      "        PARAMETER[\"Easting at false origin\",0,\n",
      "            LENGTHUNIT[\"metre\",1],\n",
      "            ID[\"EPSG\",8826]],\n",
      "        PARAMETER[\"Northing at false origin\",0,\n",
      "            LENGTHUNIT[\"metre\",1],\n",
      "            ID[\"EPSG\",8827]]],\n",
      "    CS[Cartesian,2],\n",
      "        AXIS[\"easting\",east,\n",
      "            ORDER[1],\n",
      "            LENGTHUNIT[\"metre\",1,\n",
      "                ID[\"EPSG\",9001]]],\n",
      "        AXIS[\"northing\",north,\n",
      "            ORDER[2],\n",
      "            LENGTHUNIT[\"metre\",1,\n",
      "                ID[\"EPSG\",9001]]]]\n",
      "Data axis to CRS axis mapping: 1,2\n",
      "Origin = (698522.000000000000000,3153304.000000000000000)\n",
      "Pixel Size = (30.000000000000000,-30.000000000000000)\n",
      "Metadata:\n",
      "  AREA_OR_POINT=Area\n",
      "  OVR_RESAMPLING_ALG=NEAREST\n",
      "Image Structure Metadata:\n",
      "  COMPRESSION=DEFLATE\n",
      "  INTERLEAVE=PIXEL\n",
      "  LAYOUT=COG\n",
      "Corner Coordinates:\n",
      "Upper Left  (  698522.000, 3153304.000) (163d20'28.79\"W, 67d29'44.89\"N)\n",
      "Lower Left  (  698522.000, 3123304.000) (163d30'48.19\"W, 67d14'14.17\"N)\n",
      "Upper Right (  728522.000, 3153304.000) (162d39'23.92\"W, 67d25'44.51\"N)\n",
      "Lower Right (  728522.000, 3123304.000) (162d50' 6.57\"W, 67d10'16.36\"N)\n",
      "Center      (  713522.000, 3138304.000) (163d 5'11.87\"W, 67d20' 1.17\"N)\n",
      "Band 1 Block=256x256 Type=Float32, ColorInterp=Gray\n",
      "  Description = elevation\n",
      "  Min=-1.830 Max=557.863 \n",
      "  Minimum=-1.830, Maximum=557.863, Mean=74.140, StdDev=84.128\n",
      "  Overviews: 500x500, 250x250\n",
      "  Metadata:\n",
      "    STATISTICS_MAXIMUM=557.86291503906\n",
      "    STATISTICS_MEAN=74.140305286651\n",
      "    STATISTICS_MINIMUM=-1.8297636508942\n",
      "    STATISTICS_STDDEV=84.128259469301\n",
      "    STATISTICS_VALID_PERCENT=100\n",
      "Band 2 Block=256x256 Type=Float32, ColorInterp=Undefined\n",
      "  Description = slope\n",
      "  Min=0.000 Max=40.566 \n",
      "  Minimum=0.000, Maximum=40.566, Mean=2.972, StdDev=4.108\n",
      "  Overviews: 500x500, 250x250\n",
      "  Metadata:\n",
      "    STATISTICS_MAXIMUM=40.566223144531\n",
      "    STATISTICS_MEAN=2.9720626801483\n",
      "    STATISTICS_MINIMUM=0\n",
      "    STATISTICS_STDDEV=4.1079777350157\n",
      "    STATISTICS_VALID_PERCENT=100\n",
      "Band 3 Block=256x256 Type=Float32, ColorInterp=Undefined\n",
      "  Description = tsri\n",
      "  Min=0.000 Max=1.000 \n",
      "  Minimum=0.000, Maximum=1.000, Mean=0.466, StdDev=0.333\n",
      "  Overviews: 500x500, 250x250\n",
      "  Metadata:\n",
      "    STATISTICS_MAXIMUM=0.99999368190765\n",
      "    STATISTICS_MEAN=0.46556238474922\n",
      "    STATISTICS_MINIMUM=4.3117461245856e-06\n",
      "    STATISTICS_STDDEV=0.33263731194436\n",
      "    STATISTICS_VALID_PERCENT=100\n",
      "Band 4 Block=256x256 Type=Float32, ColorInterp=Undefined\n",
      "  Description = tpi\n",
      "  Min=-4.774 Max=7.687 \n",
      "  Minimum=-4.774, Maximum=7.687, Mean=-0.000, StdDev=0.349\n",
      "  Overviews: 500x500, 250x250\n",
      "  Metadata:\n",
      "    STATISTICS_MAXIMUM=7.6866292953491\n",
      "    STATISTICS_MEAN=-4.5027400747145e-05\n",
      "    STATISTICS_MINIMUM=-4.7744207382202\n",
      "    STATISTICS_STDDEV=0.34907900787421\n",
      "    STATISTICS_VALID_PERCENT=100\n",
      "Band 5 Block=256x256 Type=Float32, ColorInterp=Undefined\n",
      "  Description = slopemask\n",
      "  Min=0.000 Max=1.000 \n",
      "  Minimum=0.000, Maximum=1.000, Mean=0.982, StdDev=0.128\n",
      "  Overviews: 500x500, 250x250\n",
      "  Metadata:\n",
      "    STATISTICS_MAXIMUM=1\n",
      "    STATISTICS_MEAN=0.98238805740667\n",
      "    STATISTICS_MINIMUM=0\n",
      "    STATISTICS_STDDEV=0.12799686533701\n",
      "    STATISTICS_VALID_PERCENT=100\n"
     ]
    }
   ],
   "source": [
    "%%bash -s \"$project_dir\" \"$my_tif\"\n",
    "gdalinfo $1/$2 -stats"
   ]
  },
  {
   "cell_type": "markdown",
   "metadata": {},
   "source": [
    "### Create some parameters for the dynamic tiler.\n",
    "\n",
    "These parameters will be pased to `titiler_url` for visualization.\n",
    "\n",
    "Note the values below: `band_min`, `band_max` and `colormap_name` are set as the current defaults for biomass in Mg/hectare for the dashboard. For other datasets, users should inspect the output of the `gdalinfo` for `band_min` and `band_max` and modify the `colormap_name` as makes sense for the current dataset. This notebook includes section on what colormaps are available and how to configure different types of colormaps and legends."
   ]
  },
  {
   "cell_type": "code",
   "execution_count": 9,
   "metadata": {},
   "outputs": [],
   "source": [
    "titiler_url = f\"https://titiler.maap-project.org\"\n",
    "band_min = 0\n",
    "band_max = 400\n",
    "rescale = f\"{band_min},{band_max}\"\n",
    "bidx = 1\n",
    "colormap_name = 'gist_earth_r'"
   ]
  },
  {
   "cell_type": "markdown",
   "metadata": {},
   "source": [
    "### Helper functions"
   ]
  },
  {
   "cell_type": "markdown",
   "metadata": {},
   "source": [
    "### Step 1, Scenario 1: Adding a single COG\n",
    "\n",
    "#### 1. Upload the file\n",
    "\n",
    "Only use the following steps if you only have one COG to share to the dashboard. If you want to create a mosaic from multiple COGs, skip to Step 1 Option 2.\n",
    "\n",
    "Upload the file to S3 and make note of the location."
   ]
  },
  {
   "cell_type": "code",
   "execution_count": 10,
   "metadata": {},
   "outputs": [
    {
     "data": {
      "text/plain": [
       "'s3://maap-ops-workspace/shared/alexdevseed/landsat8/viz/Copernicus_30439_covars_cog_topo_stack.tif'"
      ]
     },
     "execution_count": 10,
     "metadata": {},
     "output_type": "execute_result"
    }
   ],
   "source": [
    "def local_to_s3(url):\n",
    "    ''' A Function to convert local paths to s3 urls'''\n",
    "    return url.replace(\"/projects/shared-buckets\", \"s3://maap-ops-workspace/shared\")\n",
    "\n",
    "location = local_to_s3(f\"{project_dir}{my_tif}\")\n",
    "location"
   ]
  },
  {
   "cell_type": "markdown",
   "metadata": {},
   "source": [
    "### 2. Test the COG with the titiler and ipyCMC"
   ]
  },
  {
   "cell_type": "code",
   "execution_count": 11,
   "metadata": {},
   "outputs": [
    {
     "data": {
      "text/plain": [
       "'https://titiler.maap-project.org/cog/WMTSCapabilities.xml?tile_format=png&tile_scale=1&pixel_selection=first&TileMatrixSetId=WebMercatorQuad&url=s3%3A%2F%2Fmaap-ops-workspace%2Fshared%2Falexdevseed%2Flandsat8%2Fviz%2FCopernicus_30439_covars_cog_topo_stack.tif&bidx=1&resampling_method=nearest&rescale=0%2C400&return_mask=true&colormap_name=gist_earth_r'"
      ]
     },
     "execution_count": 11,
     "metadata": {},
     "output_type": "execute_result"
    }
   ],
   "source": [
    "## Build a WMTS call\n",
    "wmts_url = f\"{titiler_url}/cog/WMTSCapabilities.xml\"\n",
    "params = {\n",
    "    \"tile_format\": \"png\",\n",
    "    \"tile_scale\": \"1\",\n",
    "    \"pixel_selection\": \"first\",\n",
    "    \"TileMatrixSetId\": \"WebMercatorQuad\",\n",
    "    \"url\": location,\n",
    "    \"bidx\": bidx, # Select which band to use\n",
    "    \"resampling_method\":\"nearest\",\n",
    "    \"rescale\": rescale,\n",
    "    \"return_mask\": \"true\",\n",
    "    \"colormap_name\": colormap_name # Any colormap from matplotlib will work\n",
    "}\n",
    "\n",
    "wmts_call = \"?\".join([wmts_url, urllib.parse.urlencode(params)])\n",
    "\n",
    "# Note Jupyter bug add amp; incorrectly when printing the url\n",
    "wmts_call"
   ]
  },
  {
   "cell_type": "code",
   "execution_count": 12,
   "metadata": {},
   "outputs": [
    {
     "data": {
      "application/vnd.jupyter.widget-view+json": {
       "model_id": "b7bb576ce72842b6af8e0abb509fda00",
       "version_major": 2,
       "version_minor": 0
      },
      "text/plain": [
       "MapCMC()"
      ]
     },
     "metadata": {},
     "output_type": "display_data"
    }
   ],
   "source": [
    "w = ipycmc.MapCMC()\n",
    "w"
   ]
  },
  {
   "cell_type": "code",
   "execution_count": 13,
   "metadata": {},
   "outputs": [],
   "source": [
    "w.load_layer_config(wmts_call, \"wmts/xml\")"
   ]
  },
  {
   "cell_type": "markdown",
   "metadata": {},
   "source": [
    "### Step 1, Scenario 2: Adding data from multiple COGs by creating a mosaic\n",
    "\n",
    "Many datasets are comprised of many tiles distributed spatially over the globe. In order to visualize them all together, we can use [mosaicJSON](https://github.com/developmentseed/mosaicjson-spec) to create a mosaic for the dynamic tiler API. The dynamic tiler API knows how to read this mosaicJSON and select which tiles to render based on the current zoom, x and y coordinates across spatially distinct COGs."
   ]
  },
  {
   "cell_type": "code",
   "execution_count": 14,
   "metadata": {},
   "outputs": [],
   "source": [
    "%%capture\n",
    "!pip install cogeo-mosaic"
   ]
  },
  {
   "cell_type": "code",
   "execution_count": 15,
   "metadata": {},
   "outputs": [],
   "source": [
    "import glob\n",
    "import os\n",
    "import urllib\n",
    "\n",
    "from cogeo_mosaic.mosaic import MosaicJSON\n",
    "from cogeo_mosaic.backends import MosaicBackend"
   ]
  },
  {
   "cell_type": "code",
   "execution_count": 16,
   "metadata": {},
   "outputs": [],
   "source": [
    "# Skipping this step since we don't want to upload these large files more than once!\n",
    "full_path_files = [f'{project_dir}{file}' for file in files]"
   ]
  },
  {
   "cell_type": "code",
   "execution_count": 17,
   "metadata": {},
   "outputs": [
    {
     "name": "stdout",
     "output_type": "stream",
     "text": [
      "['s3://maap-ops-workspace/shared/alexdevseed/landsat8/viz/Copernicus_30438_covars_cog_topo_stack.tif', 's3://maap-ops-workspace/shared/alexdevseed/landsat8/viz/Copernicus_30439_covars_cog_topo_stack.tif', 's3://maap-ops-workspace/shared/alexdevseed/landsat8/viz/Copernicus_30440_covars_cog_topo_stack.tif', 's3://maap-ops-workspace/shared/alexdevseed/landsat8/viz/Copernicus_30542_covars_cog_topo_stack.tif', 's3://maap-ops-workspace/shared/alexdevseed/landsat8/viz/Copernicus_30543_covars_cog_topo_stack.tif', 's3://maap-ops-workspace/shared/alexdevseed/landsat8/viz/Copernicus_30821_covars_cog_topo_stack.tif', 's3://maap-ops-workspace/shared/alexdevseed/landsat8/viz/Copernicus_30822_covars_cog_topo_stack.tif', 's3://maap-ops-workspace/shared/alexdevseed/landsat8/viz/Copernicus_30823_covars_cog_topo_stack.tif', 's3://maap-ops-workspace/shared/alexdevseed/landsat8/viz/Landsat8_30542_comp_cog_2015-2020_dps.tif', 's3://maap-ops-workspace/shared/alexdevseed/landsat8/viz/Landsat8_30543_comp_cog_2015-2020_dps.tif', 's3://maap-ops-workspace/shared/alexdevseed/landsat8/viz/Landsat8_30822_comp_cog_2015-2020_dps.tif', 's3://maap-ops-workspace/shared/alexdevseed/landsat8/viz/Landsat8_30823_comp_cog_2015-2020_dps.tif']\n"
     ]
    }
   ],
   "source": [
    "def local_to_s3(url):\n",
    "    ''' A Function to convert local paths to s3 urls'''\n",
    "    return url.replace(\"/projects/shared-buckets\", \"s3://maap-ops-workspace/shared\")\n",
    "\n",
    "tiles = [local_to_s3(file) for file in full_path_files]\n",
    "print(tiles)"
   ]
  },
  {
   "cell_type": "code",
   "execution_count": 18,
   "metadata": {},
   "outputs": [],
   "source": [
    "mosaicdata = MosaicJSON.from_urls(tiles, minzoom=1, maxzoom=16)"
   ]
  },
  {
   "cell_type": "markdown",
   "metadata": {},
   "source": [
    "### Using mosaicJSON with titiler\n",
    "\n",
    "There are 2 options for using mosaicJSON with titiler:\n",
    "\n",
    "1. (Preferred) Post mosaicJSON to titiler `mosaics` endpoint and use the `mosaicjson/mosaics` endpoint for dynamic tiling.\n",
    "2. Upload mosaicJSON to S3 and pass the S3 url to the titiler `mosaicjson/tiles` endpoint."
   ]
  },
  {
   "cell_type": "markdown",
   "metadata": {},
   "source": [
    "### Post mosaicJSON to titiler"
   ]
  },
  {
   "cell_type": "code",
   "execution_count": 19,
   "metadata": {},
   "outputs": [
    {
     "name": "stdout",
     "output_type": "stream",
     "text": [
      "{'id': 'a1cc4903-5810-4b38-a637-05c4d10edb75',\n",
      " 'links': [{'href': 'https://titiler.maap-project.org/mosaics/a1cc4903-5810-4b38-a637-05c4d10edb75',\n",
      "            'rel': 'self',\n",
      "            'title': 'Self',\n",
      "            'type': 'application/json'},\n",
      "           {'href': 'https://titiler.maap-project.org/mosaics/a1cc4903-5810-4b38-a637-05c4d10edb75/mosaicjson',\n",
      "            'rel': 'mosaicjson',\n",
      "            'title': 'MosaicJSON',\n",
      "            'type': 'application/json'},\n",
      "           {'href': 'https://titiler.maap-project.org/mosaics/a1cc4903-5810-4b38-a637-05c4d10edb75/tilejson.json',\n",
      "            'rel': 'tilejson',\n",
      "            'title': 'TileJSON',\n",
      "            'type': 'application/json'},\n",
      "           {'href': 'https://titiler.maap-project.org/mosaics/a1cc4903-5810-4b38-a637-05c4d10edb75/tiles/{z}/{x}/{y}',\n",
      "            'rel': 'tiles',\n",
      "            'title': 'Tiles',\n",
      "            'type': 'application/json'},\n",
      "           {'href': 'https://titiler.maap-project.org/mosaics/a1cc4903-5810-4b38-a637-05c4d10edb75/WMTSCapabilities.xml',\n",
      "            'rel': 'wmts',\n",
      "            'title': 'WMTS',\n",
      "            'type': 'application/json'}]}\n"
     ]
    }
   ],
   "source": [
    "import requests\n",
    "from pprint import pprint\n",
    "\n",
    "r = requests.post(\n",
    "    url=f\"{titiler_url}/mosaics\",\n",
    "    headers={\n",
    "        \"Content-Type\": \"application/vnd.titiler.mosaicjson+json\",\n",
    "    },\n",
    "    json=mosaicdata.dict(exclude_none=True)).json()\n",
    "\n",
    "pprint(r)"
   ]
  },
  {
   "cell_type": "code",
   "execution_count": 20,
   "metadata": {},
   "outputs": [],
   "source": [
    "mosaic_link = list(filter(lambda x: x['rel'] == 'tiles', r['links']))[0]['href']\n",
    "wmts_mosaic_link = list(filter(lambda x: x['rel'] == 'wmts', r['links']))[0]['href']"
   ]
  },
  {
   "cell_type": "markdown",
   "metadata": {},
   "source": [
    "### Test your mosaic"
   ]
  },
  {
   "cell_type": "code",
   "execution_count": 21,
   "metadata": {},
   "outputs": [],
   "source": [
    "params = {\n",
    "    \"tile_format\": \"png\",\n",
    "    \"bidx\": bidx, # Select which band to use\n",
    "    \"resampling_method\":\"nearest\",\n",
    "    \"rescale\": rescale, \n",
    "    \"return_mask\": \"true\",\n",
    "    \"colormap_name\": colormap_name # Any colormap from matplotlib will work\n",
    "}\n",
    "\n",
    "wmts_call = \"?\".join([wmts_mosaic_link, urllib.parse.urlencode(params)])\n",
    "\n",
    "w.load_layer_config(wmts_call, \"wmts/xml\")"
   ]
  },
  {
   "cell_type": "markdown",
   "metadata": {},
   "source": [
    "# Step 2. Define a color map\n",
    "\n",
    "By default, the image will be displayed in greyscale if no `colormap_name` parameter is passed to the titiler API. Guidance below is provided to help determine what a valid colormap_name might be and how to create a legend for the dashboard.\n",
    "\n",
    "#### Dashboard ColorRamps & Legends\n",
    "\n",
    "When using the dashboard, there 2 components for implementing a color scheme for your map. There is the map render and there is the legend.\n",
    "\n",
    "> Titiler used for Cloud Optimized Geotiff (COG) rendering accepts any color scheme from the python matplotlib library, and custom color formulas.\n",
    "\n",
    "* [Rio Tiler Colors](https://cogeotiff.github.io/rio-tiler/colormap/)\n",
    "* [Matplotlib Colors](https://matplotlib.org/stable/tutorials/colors/colormaps.html) \n",
    "\n",
    "Available `colormap_name` values for titiler: `above, accent, accent_r, afmhot, afmhot_r, autumn, autumn_r, binary, binary_r, blues, blues_r, bone, bone_r, brbg, brbg_r, brg, brg_r, bugn, bugn_r, bupu, bupu_r, bwr, bwr_r, cfastie, cividis, cividis_r, cmrmap, cmrmap_r, cool, cool_r, coolwarm, coolwarm_r, copper, copper_r, cubehelix, cubehelix_r, dark2, dark2_r, flag, flag_r, gist_earth, gist_earth_r, gist_gray, gist_gray_r, gist_heat, gist_heat_r, gist_ncar, gist_ncar_r, gist_rainbow, gist_rainbow_r, gist_stern, gist_stern_r, gist_yarg, gist_yarg_r, gnbu, gnbu_r, gnuplot, gnuplot2, gnuplot2_r, gnuplot_r, gray, gray_r, greens, greens_r, greys, greys_r, hot, hot_r, hsv, hsv_r, inferno, inferno_r, jet, jet_r, magma, magma_r, nipy_spectral, nipy_spectral_r, ocean, ocean_r, oranges, oranges_r, orrd, orrd_r, paired, paired_r, pastel1, pastel1_r, pastel2, pastel2_r, pink, pink_r, piyg, piyg_r, plasma, plasma_r, prgn, prgn_r, prism, prism_r, pubu, pubu_r, pubugn, pubugn_r, puor, puor_r, purd, purd_r, purples, purples_r, rainbow, rainbow_r, rdbu, rdbu_r, rdgy, rdgy_r, rdpu, rdpu_r, rdylbu, rdylbu_r, rdylgn, rdylgn_r, reds, reds_r, rplumbo, schwarzwald, seismic, seismic_r, set1, set1_r, set2, set2_r, set3, set3_r, spectral, spectral_r, spring, spring_r, summer, summer_r, tab10, tab10_r, tab20, tab20_r, tab20b, tab20b_r, tab20c, tab20c_r, terrain, terrain_r, twilight, twilight_r, twilight_shifted, twilight_shifted_r, viridis, viridis_r, winter, winter_r, wistia, wistia_r, ylgn, ylgn_r, ylgnbu, ylgnbu_r, ylorbr, ylorbr_r, ylorrd, ylorrd_r`\n"
   ]
  },
  {
   "cell_type": "markdown",
   "metadata": {},
   "source": [
    "#### Example 1: Class based known colors\n",
    "\n",
    "In this example, the raster represents classes of forest with 11 possible values. There are specific colors selected to correspond to each class. We combine the list of colors and the list of classes and format them for the legend parameter the dashboard needs.\n",
    "\n",
    "https://github.com/MAAP-Project/dashboard-datasets-maap/blob/main/datasets/taiga-forest-classification.json"
   ]
  },
  {
   "cell_type": "code",
   "execution_count": null,
   "metadata": {},
   "outputs": [],
   "source": [
    "colors = [\n",
    "    '#5255A3','#1796A3','#FDBF6F','#FF7F00', '#FFFFBF','#D9EF8B','#91CF60','#1A9850', '#C4C4C4','#FF0000', '#0000FF'\n",
    "]\n",
    "labels = [\n",
    "    'Sparse & Uniform',\n",
    "    'Sparse & Diffuse-gradual',\n",
    "    'Sparse & Diffuse-rapid',\n",
    "    'Sparse & Abrupt ',\n",
    "    'Open & Uniform ',\n",
    "    'Open & Diffuse-gradual',\n",
    "    'Open & Diffuse-rapid',\n",
    "    'Open & Abrupt',\n",
    "    'Intermediate & Closed',\n",
    "    'Non-forest edge (dry)',\n",
    "    'Non-forest edge (wet)'\n",
    "]\n",
    "\n",
    "legend = [dict(color=colors[i],label=labels[i]) for i in range(0, len(colors))]\n",
    "print(json.dumps(legend, indent=2))\n",
    "\n",
    "# Copy and Paste the output below to your dashboard config."
   ]
  },
  {
   "cell_type": "markdown",
   "metadata": {},
   "source": [
    "#### Example 2: Discrete ColorRamp\n",
    "\n",
    "In this example, the range of values is known, but the color scale has many non-sequential colors. Starting with the premade color list, we create a continuous color ramp that uses the known colors as stops points. Arbitrarly 12 breaks looked decent in the dashboard legend so we split it into 12 discrete colors. Then combine the list of values and colors into the correct json syntax.\n",
    "\n",
    "https://github.com/MAAP-Project/dashboard-datasets-maap/blob/main/datasets/ATL08.json"
   ]
  },
  {
   "cell_type": "code",
   "execution_count": null,
   "metadata": {},
   "outputs": [],
   "source": [
    "forest_ht = matplotlib.colors.LinearSegmentedColormap.from_list('forest_ht', ['#636363','#FC8D59','#FEE08B','#FFFFBF','#D9EF8B','#91CF60','#1A9850','#005A32'], 12)\n",
    "cols = [matplotlib.colors.to_hex(forest_ht(i)) for i in range(forest_ht.N)]\n",
    "\n",
    "cats = range(0,25, (25//len(cols)))\n",
    "legend = [[cats[i],cols[i]] for i in range(0, len(cols))]\n",
    "text = (json.dumps(legend, separators=(',', ': ') ))\n",
    "\n",
    "print(text.replace('],[','],\\n['))\n",
    " \n",
    "# Copy and Paste the output below to your dashboard config."
   ]
  },
  {
   "cell_type": "markdown",
   "metadata": {},
   "source": [
    "#### Example 3: Continuous ColorRamp\n",
    "\n",
    "In this example, we are using a built in ColorRamp from matplotlib. So we just need to extract enough colors to fill the legend adequately, and convert the colors to hex codes.\n",
    "\n",
    "https://github.com/MAAP-Project/dashboard-datasets-maap/blob/main/datasets/topo.json"
   ]
  },
  {
   "cell_type": "code",
   "execution_count": null,
   "metadata": {},
   "outputs": [],
   "source": [
    "cmap_name = 'gist_earth_r'\n",
    "cmap = matplotlib.cm.get_cmap(cmap_name, 12)\n",
    "cols = [matplotlib.colors.to_hex(cmap(i)) for i in range(cmap.N)]\n",
    "print(cols)\n",
    "\n",
    "# Copy and Paste the output below to your dashboard config."
   ]
  },
  {
   "cell_type": "markdown",
   "metadata": {},
   "source": [
    "### Step 3: Create and submit your dashboard dataset json"
   ]
  },
  {
   "cell_type": "code",
   "execution_count": 25,
   "metadata": {},
   "outputs": [],
   "source": [
    "# This example is for a continuous color ramps\n",
    "dataset_id = \"paraguay-estimated-biomass\"\n",
    "dataset_name = \"Estimated Biomass in Paraguay\"\n",
    "dataset_type = \"raster\"\n",
    "legend_type = \"gradient-adjustable\"\n",
    "info = \"Estimated biomass within 6km grids.\"\n",
    "stops = cols\n",
    "parameters = f\"colormap_name={cmap_name}&rescale={band_min},{band_max}&bidx={bidx}\""
   ]
  },
  {
   "cell_type": "code",
   "execution_count": 26,
   "metadata": {},
   "outputs": [],
   "source": [
    "# Single COG\n",
    "tiles_link = f\"{{titiler_server_url}}/cog/tiles/{{z}}/{{x}}/{{y}}.png?url={location}&{parameters}\""
   ]
  },
  {
   "cell_type": "code",
   "execution_count": null,
   "metadata": {},
   "outputs": [],
   "source": [
    "tiles_link"
   ]
  },
  {
   "cell_type": "code",
   "execution_count": null,
   "metadata": {},
   "outputs": [],
   "source": [
    "dataset_dict = {\n",
    "    \"id\": dataset_id,\n",
    "    \"name\": dataset_name,\n",
    "    \"type\": dataset_type,\n",
    "    \"swatch\": {\n",
    "      \"color\": \"#6976d7\",\n",
    "      \"name\": \"Moody Blue\"\n",
    "    },\n",
    "    \"source\": {\n",
    "        \"type\": dataset_type,\n",
    "        \"tiles\": [ tiles_link ]\n",
    "    },\n",
    "    \"legend\": {\n",
    "      \"type\": legend_type,\n",
    "       \"min\": band_min,\n",
    "       \"max\": band_max,\n",
    "      \"stops\": stops\n",
    "    },\n",
    "    \"info\": info\n",
    "}\n",
    "print(json.dumps(dataset_dict, indent=4))"
   ]
  },
  {
   "cell_type": "markdown",
   "metadata": {},
   "source": [
    "### Create a PR to the datasets repo\n",
    "\n",
    "```bash\n",
    "git clone git@github.com:MAAP-Project/biomass-dashboard-datasets.git\n",
    "cd biomass-dashboard-datasets\n",
    "git checkout -b ab/add-dataset\n",
    "# select and copy json above\n",
    "echo <copied_json> >> datasets/paraguay-estimated-biomass.json\n",
    "```"
   ]
  },
  {
   "cell_type": "markdown",
   "metadata": {},
   "source": [
    "#### Add to the datasets list in config.yml\n",
    "\n",
    "In `config.yml`:\n",
    "\n",
    "```yaml\n",
    "DATASETS:\n",
    "- paraguay-estimated-biomass.json\n",
    "```"
   ]
  },
  {
   "cell_type": "markdown",
   "metadata": {},
   "source": [
    "#### Add to the product or country pilot\n",
    "\n",
    "In `country_pilots/paraguay/country_pilot.json`:\n",
    "```json\n",
    "{\n",
    "    \"id\": \"paraguay\",\n",
    "    \"label\": \"Paraguay\",\n",
    "    //...\n",
    "    \"datasets\": [\n",
    "        {\n",
    "            \"id\": \"paraguay-forest-mask\"\n",
    "        },\n",
    "        {\n",
    "            \"id\": \"paraguay-tree-cover\"\n",
    "        },\n",
    "        {\n",
    "            \"id\": \"paraguay-estimated-biomass\"\n",
    "        }\n",
    "    ]\n",
    "}\n",
    "```"
   ]
  },
  {
   "cell_type": "markdown",
   "metadata": {},
   "source": [
    "### Add content to the summary\n",
    "\n",
    "There should be a `summary.html` file corresponding to the product or country pilot you are working on, for example: `country_pilots/paraguay/summary.html`. Add or modify content in that file as appropriate."
   ]
  },
  {
   "cell_type": "markdown",
   "metadata": {},
   "source": [
    "### Submit a PR\n",
    "\n",
    "Once you have added the dataset json file and summary content, submit a PR to https://github.com/MAAP-Project/biomass-dashboard-datasets. A member of the data team will review the PR and when it is merged your content will appear in biomass.dit.maap-project.org."
   ]
  }
 ],
 "metadata": {
  "interpreter": {
   "hash": "06a5d0145d2c0de679875a5546b4cbbf4cf8aec2ac17ee1072f90657257481e7"
  },
  "kernelspec": {
   "display_name": "Python 3 (ipykernel)",
   "language": "python",
   "name": "python3"
  },
  "language_info": {
   "codemirror_mode": {
    "name": "ipython",
    "version": 3
   },
   "file_extension": ".py",
   "mimetype": "text/x-python",
   "name": "python",
   "nbconvert_exporter": "python",
   "pygments_lexer": "ipython3",
   "version": "3.10.8"
  }
 },
 "nbformat": 4,
 "nbformat_minor": 4
}
