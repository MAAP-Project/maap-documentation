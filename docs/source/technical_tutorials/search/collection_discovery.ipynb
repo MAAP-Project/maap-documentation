{
 "cells": [
  {
   "cell_type": "markdown",
   "id": "337f5e01-9946-465a-8657-e4153fbac541",
   "metadata": {},
   "source": [
    "# BETA - Collection Discovery: searching for collections across multiple APIs using the Federated Collection Discovery API\n",
    "\n",
    "Author: Henry Rodman (DevSeed)\n",
    "\n",
    "Date: September 13, 2024\n",
    "\n",
    "Description: These examples show how to use the Federated Collection Discovery API to search for collections across multiple STAC APIs and/or CMR APIs. There is also an interactive search application for using the API which you can use at [https://discover.maap-project.org](https://discover.maap-project.org).\n",
    "\n",
    "<div class=\"alert alert-block alert-info\">\n",
    "<b>Note:</b> The Federated Collection Discovery API is not mature and is not yet supported by standard clients like pystac_client yet! Work has begun to upstream the collection filtering capabilities into pystac_client, though.\n",
    "</div>\n",
    "\n",
    "## Background\n",
    "It can be challenging to find the data that you need for an analysis when any of the following are true:\n",
    "- you don't know the collection ID for a collection that you know exists\n",
    "- you don't know which exact API the data can be accessed from\n",
    "- you don't know which collections you even need\n",
    "\n",
    "Fear not! The Federated Collection Discovery API can help you find the data you need by running your search for collections across several STAC APIs and/or CMR APIs at once.\n",
    "\n",
    "## Additional resources\n",
    "- [Federated Collection Discovery source code](https://github.com/developmentseed/federated-collection-discovery)\n",
    "- [Federated Collection Discovery app](https://discover.maap-project.org)\n",
    "- [Federated Collection Discovery API docs](https://discover-api.maap-project.org/docs#/default/search_collections_search_get)"
   ]
  },
  {
   "attachments": {},
   "cell_type": "markdown",
   "id": "54f09204-99e9-4bb3-b61f-3072b809c23d",
   "metadata": {},
   "source": [
    "![Federated Collection Discovery app](./federated_collection_discovery_app.png)"
   ]
  },
  {
   "cell_type": "markdown",
   "id": "e48d0f3d-5419-4d54-8447-2f7f10f00498",
   "metadata": {},
   "source": [
    "## Federated Collection Discovery API\n",
    "The Federated Collection Discovery API provides a STAC API-esque interface for finding collections that match your search criteria\n",
    "\n",
    "The application will query a list of STAC APIs and/or CMR APIs and, if the [Collection Search STAC API extension](https://github.com/stac-api-extensions/collection-search) is not implemented, it will do a client-side filter that mimics the filters proposed by that extension.\n",
    "\n",
    "**search parameters**:\n",
    "- `bbox`: bounding box coordinates (EPSG:4326)\n",
    "- `datetime`: datetime extent\n",
    "- `q`: free-text search\n",
    "\n",
    "**other parametes**:\n",
    "- `hint_lang`: programming language for item-level search hint\n",
    "  - only `python` right now :/ "
   ]
  },
  {
   "cell_type": "code",
   "execution_count": 1,
   "id": "a26384e7-18fa-423b-ac51-42ae501e9f7b",
   "metadata": {},
   "outputs": [],
   "source": [
    "from datetime import datetime, timezone\n",
    "\n",
    "import httpx\n",
    "import pandas as pd\n",
    "from IPython.display import display, HTML\n",
    "\n",
    "API_URL = \"https://discover-api.maap-project.org\""
   ]
  },
  {
   "cell_type": "markdown",
   "id": "7d0bed03-d419-44f3-9a51-6d78af677dac",
   "metadata": {},
   "source": [
    "The API is configured to search across several STAC APIs by default:"
   ]
  },
  {
   "cell_type": "code",
   "execution_count": 2,
   "id": "91b710d0-7417-4d60-9bb3-092ee5a84297",
   "metadata": {},
   "outputs": [
    {
     "data": {
      "text/plain": [
       "{'stac_api': ['https://stac.maap-project.org/',\n",
       "  'https://openveda.cloud/api/stac/',\n",
       "  'https://catalogue.dataspace.copernicus.eu/stac'],\n",
       " 'cmr': []}"
      ]
     },
     "execution_count": 2,
     "metadata": {},
     "output_type": "execute_result"
    }
   ],
   "source": [
    "default_api_urls = httpx.get(f\"{API_URL}/apis\", timeout=20).json()\n",
    "default_api_urls"
   ]
  },
  {
   "cell_type": "markdown",
   "id": "8408c299-7ea5-4b22-a8ff-759473fa61eb",
   "metadata": {},
   "source": [
    "### `free-text` filter\n",
    "Perform a search with a free-text filter for collections that include 'elevation' OR 'DEM' but not 'biomass'. The API will scan the 'title', 'description', and 'keywords' attributes of all of the collections in the catalogs.\n",
    "\n",
    "The free-text query parameter will follow the logic outlined in the [STAC API free-text extension](https://github.com/stac-api-extensions/freetext-search?tab=readme-ov-file). Here is a table that outlines the types of queries that are possible (borrowed from the STAC API free-text extension readme):\n",
    "| q | Summary | Detail |\n",
    "| ----------- | ------- | ------ |\n",
    "| `sentinel` | Free-text query against all properties | This will search for any matching items that CONTAIN `\"sentinel\"` |\n",
    "| `\"climate model\"` | Free-text search using exact | This will search for any matching items that CONTAIN the exact phrase `\"climate model\"` |\n",
    "|`climate model`| Using `OR` term match (**Default**) | This will search for any matching items that CONTAIN `\"climate\"` OR `\"model\"`|\n",
    "|`climate OR model`| Using `OR` term match (**Default**) | This will search for any matching items that CONTAIN `\"climate\"` OR `\"model\"`|\n",
    "|`climate AND model`| Using `AND` term match | This will search for any matching items that CONTAIN `\"climate\"` AND `\"model\"`|\n",
    "| `(quick OR brown) AND fox` | Parentheses can be used to group terms | This will search for matching items that CONTAIN `\"quick\"` OR `\"brown\"` AND `\"fox\"` |\n",
    "| `quick +brown -fox` | Indicate included and excluded terms using `+`/`-` | This will search for items that INCLUDES `\"brown\"` EXCLUDES `\"fox\"` OR CONTAIN `\"quick\"` |"
   ]
  },
  {
   "cell_type": "code",
   "execution_count": 3,
   "id": "dac6c45d-d233-4847-b12e-9acb9a803e67",
   "metadata": {},
   "outputs": [
    {
     "data": {
      "text/html": [
       "<table border=\"1\" class=\"dataframe\">\n",
       "  <thead>\n",
       "    <tr style=\"text-align: right;\">\n",
       "      <th></th>\n",
       "      <th>id</th>\n",
       "      <th>catalog_url</th>\n",
       "      <th>title</th>\n",
       "    </tr>\n",
       "  </thead>\n",
       "  <tbody>\n",
       "    <tr>\n",
       "      <th>0</th>\n",
       "      <td>ABoVE_UAVSAR_PALSAR</td>\n",
       "      <td>https://stac.maap-project.org/</td>\n",
       "      <td>Arctic-Boreal Vulnerability Experiment Uninhabited Aerial Vehicle Synthetic Aperture Radar Polarimetric SAR</td>\n",
       "    </tr>\n",
       "    <tr>\n",
       "      <th>1</th>\n",
       "      <td>SRTMGL1_COD</td>\n",
       "      <td>https://stac.maap-project.org/</td>\n",
       "      <td>NASA Shuttle Radar Topography Mission Global 1</td>\n",
       "    </tr>\n",
       "    <tr>\n",
       "      <th>2</th>\n",
       "      <td>COP-DEM</td>\n",
       "      <td>https://catalogue.dataspace.copernicus.eu/stac</td>\n",
       "      <td>COP-DEM</td>\n",
       "    </tr>\n",
       "  </tbody>\n",
       "</table>"
      ],
      "text/plain": [
       "<IPython.core.display.HTML object>"
      ]
     },
     "metadata": {},
     "output_type": "display_data"
    }
   ],
   "source": [
    "search_request = httpx.get(\n",
    "    f\"{API_URL}/search\",\n",
    "    params={\n",
    "        \"q\": \"(elevation OR DEM) -biomass\",\n",
    "        \"hint_lang\": \"python\",\n",
    "    },\n",
    "    timeout=20,\n",
    ")\n",
    "search_request.raise_for_status()\n",
    "search_results = search_request.json()\n",
    "\n",
    "results_df = pd.DataFrame(search_results[\"results\"])\n",
    "display(HTML(results_df[[\"id\", \"catalog_url\", \"title\"]].to_html()))"
   ]
  },
  {
   "cell_type": "markdown",
   "id": "e4317cdf-5631-46ae-b968-4aea375b2ecd",
   "metadata": {},
   "source": [
    "The `results` contain a list of collection-level metadata with some basic properties that you can review further."
   ]
  },
  {
   "cell_type": "code",
   "execution_count": 4,
   "id": "90807432-3d17-43c5-bad9-b1bd1bfd3899",
   "metadata": {},
   "outputs": [
    {
     "name": "stdout",
     "output_type": "stream",
     "text": [
      "id                                               ABoVE_UAVSAR_PALSAR\n",
      "catalog_url                           https://stac.maap-project.org/\n",
      "title              Arctic-Boreal Vulnerability Experiment Uninhab...\n",
      "spatial_extent     [[-166.788382, 69.708769, -110.947561, 59.7293...\n",
      "temporal_extent       [[2017-06-13T22:03:35Z, 2017-06-22T19:25:35Z]]\n",
      "short_name                                                      None\n",
      "description        The Arctic-Boreal Vulnerability Experiment (AB...\n",
      "keywords                                                          []\n",
      "hint               import pystac_client\\n\\ncatalog = pystac_clien...\n",
      "Name: 0, dtype: object\n",
      "\n",
      "description:\n",
      " The Arctic-Boreal Vulnerability Experiment (ABoVE) is a NASA Terrestrial Ecology Program field campaign conducted from June through September 2017 over Alaska and Western Canada. ABoVE is a large-scale study of environmental change and to assess the vulnerability and resilience of Arctic and boreal ecosystems and provide scientific bases for societal response decision making.  ABoVE utilized the Uninhabited Aerial Vehicle Synthetic Aperture Radar (UAVSAR) Polarimetric SAR (PALSAR) instrument to provide image transects to survey the land surface, hydrological systems and vegetation.  SAR products in this collection include the Digital Elevation Model (DEM), the local incidence angle, the terrain slope product, ground projected complex cross products, the compressed stokes matrix, pauli decompositions, multi-look cross products, and scene annotation files.  \n"
     ]
    }
   ],
   "source": [
    "collection_info = results_df.iloc[0]\n",
    "print(collection_info)\n",
    "\n",
    "print(\"\\ndescription:\\n\", collection_info.description)"
   ]
  },
  {
   "cell_type": "markdown",
   "id": "b5e7f2a9-1dab-4a8d-99ab-32548f2281e7",
   "metadata": {},
   "source": [
    "You can also get a code snippet for performing an item-level search against the home API for a particular collection if you provide the `hint_lang` parameter in the request."
   ]
  },
  {
   "cell_type": "code",
   "execution_count": 5,
   "id": "58a78940-f76a-482c-a18a-0a177e1f5778",
   "metadata": {},
   "outputs": [
    {
     "name": "stdout",
     "output_type": "stream",
     "text": [
      "import pystac_client\n",
      "\n",
      "catalog = pystac_client.Client.open(\"https://stac.maap-project.org/\")\n",
      "search = catalog.search(collections=\"ABoVE_UAVSAR_PALSAR\")\n",
      "item_collection = search.item_collection()\n",
      "\n"
     ]
    }
   ],
   "source": [
    "print(collection_info.hint)"
   ]
  },
  {
   "cell_type": "markdown",
   "id": "b542b4e3-82b5-4e81-8110-bba176128cc7",
   "metadata": {},
   "source": [
    "### `bbox` filter\n",
    "Perform a search for collections that intersect Finland's bounding box with a free-text filter for 'biomass'"
   ]
  },
  {
   "cell_type": "code",
   "execution_count": 6,
   "id": "9d528f9a-2a21-4ec5-bccc-89b7ea461b5e",
   "metadata": {},
   "outputs": [
    {
     "data": {
      "text/html": [
       "<table border=\"1\" class=\"dataframe\">\n",
       "  <thead>\n",
       "    <tr style=\"text-align: right;\">\n",
       "      <th></th>\n",
       "      <th>id</th>\n",
       "      <th>catalog_url</th>\n",
       "      <th>title</th>\n",
       "    </tr>\n",
       "  </thead>\n",
       "  <tbody>\n",
       "    <tr>\n",
       "      <th>0</th>\n",
       "      <td>GEDI_CalVal_Field_Data</td>\n",
       "      <td>https://stac.maap-project.org/</td>\n",
       "      <td>Global Ecosystem Dynamics Investigation (GEDI) Calibration/Validation Field Survey Dataset</td>\n",
       "    </tr>\n",
       "    <tr>\n",
       "      <th>1</th>\n",
       "      <td>BIOSAR1</td>\n",
       "      <td>https://stac.maap-project.org/</td>\n",
       "      <td>BIOSAR1</td>\n",
       "    </tr>\n",
       "    <tr>\n",
       "      <th>2</th>\n",
       "      <td>ICESat2_Boreal_AGB_tindex_average</td>\n",
       "      <td>https://stac.maap-project.org/</td>\n",
       "      <td>ICESat2-Boreal Above Ground Biomass T-Index Average</td>\n",
       "    </tr>\n",
       "    <tr>\n",
       "      <th>3</th>\n",
       "      <td>ESACCI_Biomass_L4_AGB_V4_100m</td>\n",
       "      <td>https://stac.maap-project.org/</td>\n",
       "      <td>ESA CCI Above-Ground Biomass Product Level 4 Version 4</td>\n",
       "    </tr>\n",
       "    <tr>\n",
       "      <th>4</th>\n",
       "      <td>icesat2-boreal</td>\n",
       "      <td>https://stac.maap-project.org/</td>\n",
       "      <td>Gridded Boreal Aboveground Biomass Density c.2020 at 30m resolution</td>\n",
       "    </tr>\n",
       "  </tbody>\n",
       "</table>"
      ],
      "text/plain": [
       "<IPython.core.display.HTML object>"
      ]
     },
     "metadata": {},
     "output_type": "display_data"
    }
   ],
   "source": [
    "finland_bbox = (18.061, 59.348, 31.181, 70.576)\n",
    "search_request = httpx.get(\n",
    "    f\"{API_URL}/search\",\n",
    "    params={\n",
    "        \"q\": \"biomass\",\n",
    "        \"bbox\": \",\".join(str(coord) for coord in finland_bbox),\n",
    "        \"hint_lang\": \"python\",\n",
    "    },\n",
    "    timeout=20,\n",
    ")\n",
    "search_request.raise_for_status()\n",
    "search_results = search_request.json()\n",
    "\n",
    "results_df = pd.DataFrame(search_results[\"results\"])\n",
    "display(HTML(results_df[[\"id\", \"catalog_url\", \"title\"]].to_html()))"
   ]
  },
  {
   "cell_type": "code",
   "execution_count": 7,
   "id": "ce19f2b7-bb7b-4c4e-9d68-34d726fc41d6",
   "metadata": {},
   "outputs": [
    {
     "name": "stdout",
     "output_type": "stream",
     "text": [
      "import pystac_client\n",
      "\n",
      "catalog = pystac_client.Client.open(\"https://stac.maap-project.org/\")\n",
      "search = catalog.search(\n",
      "    collections=\"icesat2-boreal\",\n",
      "    bbox=(18.061, 59.348, 31.181, 70.576),\n",
      ")\n",
      "item_collection = search.item_collection()\n",
      "\n"
     ]
    }
   ],
   "source": [
    "collection_info = results_df.iloc[4]\n",
    "\n",
    "print(collection_info.hint)"
   ]
  },
  {
   "cell_type": "markdown",
   "id": "f98d900f-98c9-4d2f-98e1-cb87987c8ac5",
   "metadata": {},
   "source": [
    "## `datetime` filter\n",
    "You can use the `datetime` parameter to filter down to collections with temporal extents that overlap a provided range. For example, to find collections with a temporal extent that includes the term 'spectral' and has data as recent as September 15, 2024, you can run the following search:"
   ]
  },
  {
   "cell_type": "code",
   "execution_count": 8,
   "id": "3ed216df-c39f-4541-af86-3381b54f74a2",
   "metadata": {},
   "outputs": [
    {
     "data": {
      "text/html": [
       "<table border=\"1\" class=\"dataframe\">\n",
       "  <thead>\n",
       "    <tr style=\"text-align: right;\">\n",
       "      <th></th>\n",
       "      <th>id</th>\n",
       "      <th>catalog_url</th>\n",
       "      <th>temporal_extent</th>\n",
       "    </tr>\n",
       "  </thead>\n",
       "  <tbody>\n",
       "    <tr>\n",
       "      <th>0</th>\n",
       "      <td>TERRAAQUA</td>\n",
       "      <td>https://catalogue.dataspace.copernicus.eu/stac</td>\n",
       "      <td>[[2000-02-16T00:00:00Z, None]]</td>\n",
       "    </tr>\n",
       "    <tr>\n",
       "      <th>1</th>\n",
       "      <td>LANDSAT-8</td>\n",
       "      <td>https://catalogue.dataspace.copernicus.eu/stac</td>\n",
       "      <td>[[2013-03-24T00:00:00Z, None]]</td>\n",
       "    </tr>\n",
       "    <tr>\n",
       "      <th>2</th>\n",
       "      <td>SENTINEL-2</td>\n",
       "      <td>https://catalogue.dataspace.copernicus.eu/stac</td>\n",
       "      <td>[[2015-07-01T00:00:00Z, None]]</td>\n",
       "    </tr>\n",
       "  </tbody>\n",
       "</table>"
      ],
      "text/plain": [
       "<IPython.core.display.HTML object>"
      ]
     },
     "metadata": {},
     "output_type": "display_data"
    }
   ],
   "source": [
    "recent_date = datetime(year=2024, month=9, day=15, tzinfo=timezone.utc)\n",
    "\n",
    "search_request = httpx.get(\n",
    "    f\"{API_URL}/search\",\n",
    "    params={\n",
    "        \"datetime\": f\"{recent_date.isoformat()}/..\",\n",
    "        \"q\": \"spectral\",\n",
    "        \"hint_lang\": \"python\",\n",
    "    },\n",
    "    timeout=20,\n",
    ")\n",
    "search_request.raise_for_status()\n",
    "search_results = search_request.json()\n",
    "\n",
    "results_df = pd.DataFrame(search_results[\"results\"])\n",
    "display(HTML(results_df[[\"id\", \"catalog_url\", \"temporal_extent\"]].to_html()))"
   ]
  },
  {
   "cell_type": "markdown",
   "id": "541ca8ca-02c2-417c-aff4-337ea8815ada",
   "metadata": {},
   "source": [
    "<div class=\"alert alert-block alert-info\">\n",
    "<b>Note:</b> For open datetime ranges, use .. to represent either the beginning or ending timestamp.\n",
    "</div>"
   ]
  },
  {
   "cell_type": "code",
   "execution_count": 9,
   "id": "a5ad6305-dc0f-4285-8e63-5764e29eeb49",
   "metadata": {},
   "outputs": [
    {
     "name": "stdout",
     "output_type": "stream",
     "text": [
      "import pystac_client\n",
      "\n",
      "catalog = pystac_client.Client.open(\"https://catalogue.dataspace.copernicus.eu/stac\")\n",
      "search = catalog.search(\n",
      "    collections=\"SENTINEL-2\",\n",
      "    datetime=\"2024-09-15T00:00:00Z/..\",\n",
      ")\n",
      "item_collection = search.item_collection()\n",
      "\n"
     ]
    }
   ],
   "source": [
    "collection_info = results_df.iloc[2]\n",
    "\n",
    "print(collection_info.hint)"
   ]
  },
  {
   "cell_type": "markdown",
   "id": "17f1c3eb-33e3-45e0-9b63-841d99272946",
   "metadata": {},
   "source": [
    "## Specify APIs with `stac_api_urls` and/or `cmr_urls`\n",
    "You can specify a set of different STAC APIs to search through with the `stac_api_urls` parameter. This will override the default STAC API URLs."
   ]
  },
  {
   "cell_type": "code",
   "execution_count": 15,
   "id": "88e3178e-1fd4-434d-8f68-e4f16feb5e72",
   "metadata": {},
   "outputs": [
    {
     "data": {
      "text/html": [
       "<table border=\"1\" class=\"dataframe\">\n",
       "  <thead>\n",
       "    <tr style=\"text-align: right;\">\n",
       "      <th></th>\n",
       "      <th>id</th>\n",
       "      <th>catalog_url</th>\n",
       "      <th>title</th>\n",
       "    </tr>\n",
       "  </thead>\n",
       "  <tbody>\n",
       "    <tr>\n",
       "      <th>0</th>\n",
       "      <td>MAXAR_Marshall_Fire_21_Update</td>\n",
       "      <td>https://stac.eoapi.dev</td>\n",
       "      <td>Marshall Fire</td>\n",
       "    </tr>\n",
       "    <tr>\n",
       "      <th>1</th>\n",
       "      <td>MAXAR_McDougallCreekWildfire_BC_Canada_Aug_23</td>\n",
       "      <td>https://stac.eoapi.dev</td>\n",
       "      <td>McDougall Creek Wildfire</td>\n",
       "    </tr>\n",
       "    <tr>\n",
       "      <th>2</th>\n",
       "      <td>MAXAR_NWT_Canada_Aug_23</td>\n",
       "      <td>https://stac.eoapi.dev</td>\n",
       "      <td>Northwest Territories Fires</td>\n",
       "    </tr>\n",
       "  </tbody>\n",
       "</table>"
      ],
      "text/plain": [
       "<IPython.core.display.HTML object>"
      ]
     },
     "metadata": {},
     "output_type": "display_data"
    }
   ],
   "source": [
    "additional_stac_api_urls = [\n",
    "    \"https://stac.eoapi.dev\",\n",
    "    \"https://earth-search.aws.element84.com/v1\"\n",
    "]\n",
    "search_request = httpx.get(\n",
    "    f\"{API_URL}/search\",\n",
    "    params={\n",
    "        \"stac_api_urls\": \",\".join(additional_stac_api_urls),\n",
    "        \"q\": \"fire\"\n",
    "    },\n",
    "    timeout=30,\n",
    ")\n",
    "search_request.raise_for_status()\n",
    "search_results = search_request.json()\n",
    "\n",
    "results_df = pd.DataFrame(search_results[\"results\"])\n",
    "display(HTML(results_df[[\"id\", \"catalog_url\", \"title\"]].to_html()))"
   ]
  },
  {
   "cell_type": "markdown",
   "id": "7af548ef-52f6-4908-9363-cc8ba5f863d3",
   "metadata": {},
   "source": [
    "By adding the NASA Operational CMR Search API URL in the `cmr_urls` parameter you can run include the entire CMR catalog in your search and have "
   ]
  },
  {
   "cell_type": "code",
   "execution_count": 16,
   "id": "5f712582-2d65-4489-8625-7040cc2f32df",
   "metadata": {},
   "outputs": [
    {
     "data": {
      "text/html": [
       "<table border=\"1\" class=\"dataframe\">\n",
       "  <thead>\n",
       "    <tr style=\"text-align: right;\">\n",
       "      <th></th>\n",
       "      <th>id</th>\n",
       "      <th>catalog_url</th>\n",
       "      <th>title</th>\n",
       "    </tr>\n",
       "  </thead>\n",
       "  <tbody>\n",
       "    <tr>\n",
       "      <th>0</th>\n",
       "      <td>hls-ndvi</td>\n",
       "      <td>https://openveda.cloud/api/stac/</td>\n",
       "      <td>Normalized difference vegetation index from HLS</td>\n",
       "    </tr>\n",
       "    <tr>\n",
       "      <th>1</th>\n",
       "      <td>hls-l30-002-ej-reprocessed</td>\n",
       "      <td>https://openveda.cloud/api/stac/</td>\n",
       "      <td>HLSL30.002 Environmental Justice Events</td>\n",
       "    </tr>\n",
       "    <tr>\n",
       "      <th>2</th>\n",
       "      <td>darnah-flood</td>\n",
       "      <td>https://openveda.cloud/api/stac/</td>\n",
       "      <td>False Color Pre and Post Flood</td>\n",
       "    </tr>\n",
       "    <tr>\n",
       "      <th>3</th>\n",
       "      <td>hls-s30-002-ej-reprocessed</td>\n",
       "      <td>https://openveda.cloud/api/stac/</td>\n",
       "      <td>HLSS30.002 Environmental Justice Events</td>\n",
       "    </tr>\n",
       "    <tr>\n",
       "      <th>4</th>\n",
       "      <td>hls-ndvi-difference</td>\n",
       "      <td>https://openveda.cloud/api/stac/</td>\n",
       "      <td>HLS-derived NDVI difference for Assessing Impacts from Hurricane Iann</td>\n",
       "    </tr>\n",
       "    <tr>\n",
       "      <th>5</th>\n",
       "      <td>hls-entropy-difference</td>\n",
       "      <td>https://openveda.cloud/api/stac/</td>\n",
       "      <td>HLS-derived entropy difference for Assessing impacts from Hurricane Ian</td>\n",
       "    </tr>\n",
       "    <tr>\n",
       "      <th>6</th>\n",
       "      <td>hls-bais2-v2</td>\n",
       "      <td>https://openveda.cloud/api/stac/</td>\n",
       "      <td>HLS-calculated BAIS2 burned area</td>\n",
       "    </tr>\n",
       "    <tr>\n",
       "      <th>7</th>\n",
       "      <td>hls-swir-falsecolor-composite</td>\n",
       "      <td>https://openveda.cloud/api/stac/</td>\n",
       "      <td>HLS SWIR FalseColor Composite</td>\n",
       "    </tr>\n",
       "    <tr>\n",
       "      <th>8</th>\n",
       "      <td>C2021957657-LPCLOUD</td>\n",
       "      <td>https://cmr.earthdata.nasa.gov/search/</td>\n",
       "      <td>HLS Landsat Operational Land Imager Surface Reflectance and TOA Brightness Daily Global 30m v2.0</td>\n",
       "    </tr>\n",
       "    <tr>\n",
       "      <th>9</th>\n",
       "      <td>C2021957295-LPCLOUD</td>\n",
       "      <td>https://cmr.earthdata.nasa.gov/search/</td>\n",
       "      <td>HLS Sentinel-2 Multi-spectral Instrument Surface Reflectance Daily Global 30m v2.0</td>\n",
       "    </tr>\n",
       "    <tr>\n",
       "      <th>10</th>\n",
       "      <td>C2746980408-LPCLOUD</td>\n",
       "      <td>https://cmr.earthdata.nasa.gov/search/</td>\n",
       "      <td>OPERA Land Surface Disturbance Alert from Harmonized Landsat Sentinel-2 product (Version 1)</td>\n",
       "    </tr>\n",
       "    <tr>\n",
       "      <th>11</th>\n",
       "      <td>C2617126679-POCLOUD</td>\n",
       "      <td>https://cmr.earthdata.nasa.gov/search/</td>\n",
       "      <td>OPERA Dynamic Surface Water Extent from Harmonized Landsat Sentinel-2 product (Version 1)</td>\n",
       "    </tr>\n",
       "    <tr>\n",
       "      <th>12</th>\n",
       "      <td>C2076106409-LPCLOUD</td>\n",
       "      <td>https://cmr.earthdata.nasa.gov/search/</td>\n",
       "      <td>ECOSTRESS Tiled Evapotranspiration Instantaneous and Daytime L3 Global 70 m V002</td>\n",
       "    </tr>\n",
       "    <tr>\n",
       "      <th>13</th>\n",
       "      <td>C2074877891-LPCLOUD</td>\n",
       "      <td>https://cmr.earthdata.nasa.gov/search/</td>\n",
       "      <td>ECOSTRESS Tiled Downscaled Meteorology Instantaneous L3 Global 70 m V002</td>\n",
       "    </tr>\n",
       "    <tr>\n",
       "      <th>14</th>\n",
       "      <td>C2074852168-LPCLOUD</td>\n",
       "      <td>https://cmr.earthdata.nasa.gov/search/</td>\n",
       "      <td>ECOSTRESS Tiled Surface Energy Balance Instantaneous L3 Global 70 m V002</td>\n",
       "    </tr>\n",
       "    <tr>\n",
       "      <th>15</th>\n",
       "      <td>C2519119034-LPCLOUD</td>\n",
       "      <td>https://cmr.earthdata.nasa.gov/search/</td>\n",
       "      <td>OPERA Land Surface Disturbance Annual from Harmonized Landsat Sentinel-2 product (Version 1)</td>\n",
       "    </tr>\n",
       "    <tr>\n",
       "      <th>16</th>\n",
       "      <td>C2090073749-LPCLOUD</td>\n",
       "      <td>https://cmr.earthdata.nasa.gov/search/</td>\n",
       "      <td>ECOSTRESS Tiled Ancillary NDVI and Albedo L2 Global 70 m V002</td>\n",
       "    </tr>\n",
       "    <tr>\n",
       "      <th>17</th>\n",
       "      <td>C2595678301-LPCLOUD</td>\n",
       "      <td>https://cmr.earthdata.nasa.gov/search/</td>\n",
       "      <td>ECOSTRESS Tiled Top of Atmosphere Calibrated Radiance Instantaneous L1C Global 70 m V002</td>\n",
       "    </tr>\n",
       "    <tr>\n",
       "      <th>18</th>\n",
       "      <td>C2756302505-ORNL_CLOUD</td>\n",
       "      <td>https://cmr.earthdata.nasa.gov/search/</td>\n",
       "      <td>Aboveground Biomass Density for High Latitude Forests from ICESat-2, 2020</td>\n",
       "    </tr>\n",
       "    <tr>\n",
       "      <th>19</th>\n",
       "      <td>C2775078742-ORNL_CLOUD</td>\n",
       "      <td>https://cmr.earthdata.nasa.gov/search/</td>\n",
       "      <td>Phenology derived from Satellite Data and PhenoCam across CONUS and Alaska, 2019-2020</td>\n",
       "    </tr>\n",
       "    <tr>\n",
       "      <th>20</th>\n",
       "      <td>C2102664483-LPDAAC_ECS</td>\n",
       "      <td>https://cmr.earthdata.nasa.gov/search/</td>\n",
       "      <td>MuSLI Multi-Source Land Surface Phenology Yearly North America 30 m V011</td>\n",
       "    </tr>\n",
       "  </tbody>\n",
       "</table>"
      ],
      "text/plain": [
       "<IPython.core.display.HTML object>"
      ]
     },
     "metadata": {},
     "output_type": "display_data"
    }
   ],
   "source": [
    "search_request = httpx.get(\n",
    "    f\"{API_URL}/search\",\n",
    "    params={\n",
    "        \"cmr_urls\": \"https://cmr.earthdata.nasa.gov/search/\",\n",
    "        \"q\": \"HLS\"\n",
    "    },\n",
    "    timeout=20,\n",
    ")\n",
    "search_request.raise_for_status()\n",
    "search_results = search_request.json()\n",
    "\n",
    "results_df = pd.DataFrame(search_results[\"results\"])\n",
    "display(HTML(results_df[[\"id\", \"catalog_url\", \"title\"]].to_html()))"
   ]
  },
  {
   "cell_type": "code",
   "execution_count": null,
   "id": "ec2f6d3d-0e65-45e0-a394-1a88e3ef60ce",
   "metadata": {},
   "outputs": [],
   "source": []
  }
 ],
 "metadata": {
  "kernelspec": {
   "display_name": "Python [conda env:pangeo] *",
   "language": "python",
   "name": "conda-env-pangeo-py"
  },
  "language_info": {
   "codemirror_mode": {
    "name": "ipython",
    "version": 3
   },
   "file_extension": ".py",
   "mimetype": "text/x-python",
   "name": "python",
   "nbconvert_exporter": "python",
   "pygments_lexer": "ipython3",
   "version": "3.10.13"
  }
 },
 "nbformat": 4,
 "nbformat_minor": 5
}
