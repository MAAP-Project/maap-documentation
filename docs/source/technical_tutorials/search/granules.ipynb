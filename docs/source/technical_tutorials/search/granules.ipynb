{
 "cells": [
  {
   "cell_type": "markdown",
   "metadata": {},
   "source": [
    "# Searching for Granules in NASA's Operational CMR using maap-py\n",
    "\n",
    "Authors: Kel Markert (UAH), Katrina Virts (UAH), Samuel Ayers (UAH), Alex Mandel (DevSeed)\n",
    "\n",
    "Date: February 27, 2020 (updated in 2022)\n",
    "\n",
    "Description: These examples will walk through the MAAP API functionality of searching granules within a collection in NASA's Common Metadata Repository (CMR) based on specific parameters. Granules are individual files from a sensor where a group of granules make a collection within CMR. The granules are the raw data that will be used for processing."
   ]
  },
  {
   "cell_type": "markdown",
   "metadata": {},
   "source": [
    "## Run This Notebook\n",
    "To access and run this tutorial within MAAP's Algorithm Development Environment (ADE), please refer to the [\"Getting started with the MAAP\"](https://docs.maap-project.org/en/latest/getting_started/getting_started.html) section of our documentation.\n",
    "\n",
    "Disclaimer: it is highly recommended to run a tutorial within MAAP's ADE, which already includes packages specific to MAAP, such as maap-py. Running the tutorial outside of the MAAP ADE may lead to errors."
   ]
  },
  {
   "cell_type": "markdown",
   "metadata": {},
   "source": [
    "## Additional Resources\n",
    "- [NASA's CMR API Documentation](https://cmr.earthdata.nasa.gov/search/site/docs/search/api.html)"
   ]
  },
  {
   "cell_type": "markdown",
   "metadata": {},
   "source": [
    "## Importing and Installing Packages"
   ]
  },
  {
   "cell_type": "markdown",
   "metadata": {},
   "source": [
    "We begin by importing the `maap` and `pprint` packages. Then invoke the `MAAP` constructor, setting the `maap_host` argument to `'api.maap-project.org'`."
   ]
  },
  {
   "cell_type": "code",
   "execution_count": 1,
   "metadata": {},
   "outputs": [],
   "source": [
    "# import the MAAP package\n",
    "from maap.maap import MAAP\n",
    "\n",
    "# import printing package to help display outputs\n",
    "from pprint import pprint\n",
    "\n",
    "# invoke the MAAP constructor using the maap_host argument\n",
    "maap = MAAP(maap_host='api.maap-project.org')"
   ]
  },
  {
   "cell_type": "markdown",
   "metadata": {},
   "source": [
    "## About searchGranule"
   ]
  },
  {
   "cell_type": "markdown",
   "metadata": {},
   "source": [
    "Here we view the specific arguments and keywords for the `maap.searchGranule` function."
   ]
  },
  {
   "cell_type": "code",
   "execution_count": 2,
   "metadata": {},
   "outputs": [
    {
     "name": "stdout",
     "output_type": "stream",
     "text": [
      "Help on method searchGranule in module maap.maap:\n",
      "\n",
      "searchGranule(limit=20, **kwargs) method of maap.maap.MAAP instance\n",
      "    Search the CMR granules\n",
      "    \n",
      "    :param limit: limit of the number of results\n",
      "    :param kwargs: search parameters\n",
      "    :return: list of results (<Instance of Result>)\n",
      "\n"
     ]
    }
   ],
   "source": [
    "help(maap.searchGranule)"
   ]
  },
  {
   "cell_type": "markdown",
   "metadata": {},
   "source": [
    "As we can see from the result, `maap.searchGranule` accepts a limit keyword which limits the number of results from CMR. `maap.searchGranule()` also accepts any additional search parameters that are included in CMR. For a list of accepted parameters, please refer to the [CMR Search Granules API reference](https://cmr.earthdata.nasa.gov/search/site/docs/search/api.html#granule-search-by-parameters).\n",
    "\n",
    "It is important to note that _the default limit on results from the MAAP API is 20_. To increase the number of results we will specify a variable and use it in later queries."
   ]
  },
  {
   "cell_type": "code",
   "execution_count": 3,
   "metadata": {},
   "outputs": [],
   "source": [
    "# get at max 500 results from CMR\n",
    "MAX_RESULTS = 500"
   ]
  },
  {
   "cell_type": "markdown",
   "metadata": {},
   "source": [
    "In this example we will explore search options including:\n",
    "\n",
    "1. Searching by collection concept ID\n",
    "2. Searching by temporal filter\n",
    "3. Searching by spatial filter\n",
    "4. Using the results from one search as inputs into another\n",
    "5. Searching by additional attributes\n",
    "\n",
    "For the next couple of examples, we will focus on the [ICESat-2/ATLAS Land and Vegetation Height dataset](https://nsidc.org/data/atl08)."
   ]
  },
  {
   "cell_type": "markdown",
   "metadata": {},
   "source": [
    "## Searching by Collection Short Name, Version\n",
    "\n",
    "Here we will search by a short name and version which should uniquely identify a collection CMR. HOWEVER, some datasets exist both in the cloud and on-prem, so in the following example we actually get **2** results.\n"
   ]
  },
  {
   "cell_type": "code",
   "execution_count": 4,
   "metadata": {},
   "outputs": [
    {
     "data": {
      "text/plain": [
       "2"
      ]
     },
     "execution_count": 4,
     "metadata": {},
     "output_type": "execute_result"
    }
   ],
   "source": [
    "atl08_collections = maap.searchCollection(\n",
    "    short_name='ATL08',\n",
    "    version='005',\n",
    "    cmr_host='cmr.earthdata.nasa.gov'\n",
    ")\n",
    "len(atl08_collections)"
   ]
  },
  {
   "cell_type": "markdown",
   "metadata": {},
   "source": [
    "If you inspect the results, you will see the second result has distribution information which points to an S3 bucket location. You can see this information with the follow code: `atl08_collections[1]['Collection']['DirectDistributionInformation']`.\n",
    "\n",
    "A simpler solution to finding just the cloud-hosted dataset is to add the `cloud_hosted=\"true\"` parameter to our search."
   ]
  },
  {
   "cell_type": "code",
   "execution_count": 5,
   "metadata": {},
   "outputs": [
    {
     "data": {
      "text/plain": [
       "1"
      ]
     },
     "execution_count": 5,
     "metadata": {},
     "output_type": "execute_result"
    }
   ],
   "source": [
    "atl08_collections = maap.searchCollection(\n",
    "    short_name='ATL08',\n",
    "    version='005',\n",
    "    cmr_host='cmr.earthdata.nasa.gov',\n",
    "    cloud_hosted=\"true\"\n",
    ")\n",
    "len(atl08_collections)"
   ]
  },
  {
   "cell_type": "markdown",
   "metadata": {},
   "source": [
    "Now we can look up the collection concept id to find only granules in the cloud-hosted ATL08 v005 dataset."
   ]
  },
  {
   "cell_type": "code",
   "execution_count": 6,
   "metadata": {},
   "outputs": [
    {
     "name": "stdout",
     "output_type": "stream",
     "text": [
      "'Got 500 results'\n"
     ]
    }
   ],
   "source": [
    "COLLECTION_ID = atl08_collections[0]['concept-id']\n",
    "\n",
    "results = maap.searchGranule(\n",
    "    concept_id=COLLECTION_ID,\n",
    "    cmr_host='cmr.earthdata.nasa.gov',\n",
    "    limit=MAX_RESULTS)\n",
    "pprint(f'Got {len(results)} results')"
   ]
  },
  {
   "cell_type": "markdown",
   "metadata": {},
   "source": [
    "We were able to get 500 results! There are most likely more than 500 granules in search results, but remember we limited the results to 500 granules. The result from the MAAP API is a list of granules where each element in the list is the metadata for that particular granule.\n",
    "\n",
    "Now let's look at the metadata for the first result."
   ]
  },
  {
   "cell_type": "code",
   "execution_count": 7,
   "metadata": {},
   "outputs": [
    {
     "name": "stdout",
     "output_type": "stream",
     "text": [
      "{'Granule': {'AssociatedBrowseImageUrls': {...},\n",
      "             'Collection': {...},\n",
      "             'DataGranule': {...},\n",
      "             'GranuleUR': 'ATL08_20181014001049_02350102_005_01.h5',\n",
      "             'InsertTime': '2021-11-14T23:43:07.741Z',\n",
      "             'LastUpdate': '2021-11-14T23:43:07.741Z',\n",
      "             'OnlineAccessURLs': {...},\n",
      "             'OnlineResources': {...},\n",
      "             'OrbitCalculatedSpatialDomains': {...},\n",
      "             'Spatial': {...},\n",
      "             'Temporal': {...}},\n",
      " 'collection-concept-id': 'C2153574670-NSIDC_CPRD',\n",
      " 'concept-id': 'G2166182816-NSIDC_CPRD',\n",
      " 'format': 'application/echo10+xml',\n",
      " 'revision-id': '1'}\n"
     ]
    }
   ],
   "source": [
    "# print the first granule's metadata\n",
    "# we use the depth parameter to set the layer of metadata detail in the results, with (1) having the least detail\n",
    "# (1) displays the collection concept ID, concept ID, format, and revision ID\n",
    "# adjust the depth to a larger value (6) if you would like to view all of the metadata\n",
    "pprint(results[0], depth=2)"
   ]
  },
  {
   "cell_type": "markdown",
   "metadata": {},
   "source": [
    "There is a lot of information in the metadata so let's break it down...\n",
    "\n",
    "The `Granule` key has all of the granule information including attributes, browse imagery URLs, spatial, and temporal information. The `collection-concept-id` should match what you searched by and be the same for each granule. Lastly the granule specific `concept-id` is a unique identifier for this granule. This information can be used to further refine search results from CMR, specifically the granule information."
   ]
  },
  {
   "cell_type": "markdown",
   "metadata": {},
   "source": [
    "## Searching by Temporal Filter\n",
    "\n",
    "Here we will combine a search from earlier using the Collection Concept ID with a temporal filter to fine tune our results using the `temporal` keyword in our search.\n",
    "\n",
    "The temporal keyword takes datetime information in a [specific format](https://cmr.earthdata.nasa.gov/search/site/docs/search/api.html#g-temporal). The date format used is `YYYY-MM-DDThh:mm:ssZ` and temporal search criteria may be either a single date or a date range. If one date is provided then it can be inferred as start or end date. To define a start date and return all granules after the date, put a comma after the date (`YYYY-MM-DDThh:mm:ssZ,`). To define an end date and return all granules prior to the data, put a comma before the date (`,YYYY-MM-DDThh:mm:ssZ`). Lastly, to get a date range, provide the start date and end date separated by a comma (`YYYY-MM-DDThh:mm:ssZ,YYYY-MM-DDThh:mm:ssZ`).\n",
    "\n",
    "In this example we will search for one month of data."
   ]
  },
  {
   "cell_type": "code",
   "execution_count": 8,
   "metadata": {},
   "outputs": [
    {
     "name": "stdout",
     "output_type": "stream",
     "text": [
      "'Got 500 results'\n"
     ]
    }
   ],
   "source": [
    "date_range = '2018-12-01T00:00:00Z,2018-12-31T23:59:59Z' # specify a date range to search for data for Dec. 2018\n",
    "\n",
    "results = maap.searchGranule(\n",
    "    temporal=date_range,\n",
    "    concept_id=COLLECTION_ID,\n",
    "    limit=MAX_RESULTS,\n",
    "    cmr_host=\"cmr.earthdata.nasa.gov\"\n",
    ")\n",
    "pprint(f'Got {len(results)} results')"
   ]
  },
  {
   "cell_type": "code",
   "execution_count": 9,
   "metadata": {},
   "outputs": [
    {
     "name": "stdout",
     "output_type": "stream",
     "text": [
      "'Granule ATL08_20181201001339_09680103_005_01.h5 was acquired starting at 2018-12-01T00:13:48.477Z'\n"
     ]
    }
   ],
   "source": [
    "granuleFilename = results[0]['Granule']['DataGranule']['ProducerGranuleId'] # get the granule file name\n",
    "granuleDate = results[0]['Granule']['Temporal']['RangeDateTime']['BeginningDateTime'] # get the granule start time\n",
    "\n",
    "pprint(f'Granule {granuleFilename} was acquired starting at {granuleDate}',width=100)"
   ]
  },
  {
   "cell_type": "markdown",
   "metadata": {},
   "source": [
    "It looks like the first result correctly matches with the beginning temporal search parameter. Keep in mind that the results are limited to 500 so the final granule returned may not match the end date that was searched for."
   ]
  },
  {
   "cell_type": "markdown",
   "metadata": {},
   "source": [
    "## Searching by Spatial Filter\n",
    "\n",
    "Here we will illustrate how to search for granules by a spatial filter. There are a couple of [spatial filters available to search by](https://cmr.earthdata.nasa.gov/search/site/docs/search/api.html#g-spatial) in CMR including point, line, polygon, and bounding box. The most simple to use is the bounding box which is a sequence of four latitude and longitude values in the order of `[W,S,E,N]`. In this example, we are going to search for data over Gabon using the `bounding_box` keyword.\n"
   ]
  },
  {
   "cell_type": "code",
   "execution_count": 10,
   "metadata": {},
   "outputs": [
    {
     "name": "stdout",
     "output_type": "stream",
     "text": [
      "'Got 20 results'\n"
     ]
    }
   ],
   "source": [
    "granule_bbox = '8.79799563969,-3.97882659263,14.4254557634,2.32675751384' # specify bounding box to search by\n",
    "\n",
    "COLLECTION_ID = 'C1000000240-LPDAAC_ECS' # Collection title: \"NASA Shuttle Radar Topography Mission Global 1 arc second V003\"\n",
    "\n",
    "results = maap.searchGranule(\n",
    "    concept_id=COLLECTION_ID,\n",
    "    bounding_box=granule_bbox,\n",
    "    cmr_host=\"cmr.earthdata.nasa.gov\"\n",
    ")\n",
    "pprint(f'Got {len(results)} results')"
   ]
  },
  {
   "cell_type": "code",
   "execution_count": 11,
   "metadata": {},
   "outputs": [
    {
     "name": "stdout",
     "output_type": "stream",
     "text": [
      "'Granule S03E012.SRTMGL1.hgt.zip was acquired within the following geometry: '\n",
      "{'BoundingRectangle': {'EastBoundingCoordinate': '13.00027778',\n",
      "                       'NorthBoundingCoordinate': '-1.99972222',\n",
      "                       'SouthBoundingCoordinate': '-3.00027778',\n",
      "                       'WestBoundingCoordinate': '11.99972222'}}\n"
     ]
    }
   ],
   "source": [
    "granule_filename = results[0]['Granule']['DataGranule']['ProducerGranuleId'] # get the granule file name\n",
    "geometry = results[0]['Granule']['Spatial']['HorizontalSpatialDomain']['Geometry'] # grab the spatial information from granule\n",
    "\n",
    "pprint(f'Granule {granule_filename} was acquired within the following geometry: ', width=100)\n",
    "pprint(geometry)"
   ]
  },
  {
   "cell_type": "markdown",
   "metadata": {},
   "source": [
    "We can see from the first granule that the spatial coordinates of the granule intersect our search box."
   ]
  },
  {
   "cell_type": "markdown",
   "metadata": {},
   "source": [
    "The MAAP API provides rich functionality to interact with the CMR instance within the MAAP platform. Users can search datasets programmatically by many parameters and even combine parameters such as spatial and temporal filters to refine results."
   ]
  },
  {
   "cell_type": "markdown",
   "metadata": {},
   "source": [
    "## Generating ID List from Search Results\n",
    "\n",
    "Each element in the `results` list contains the metadata for the granules returned by the search. Within this metadata is the key concept-id, which is the unique identifier for each granule. To create a list of granule IDs, we create a new list and add the concept-id from each element of results into the that list."
   ]
  },
  {
   "cell_type": "code",
   "execution_count": 12,
   "metadata": {
    "tags": []
   },
   "outputs": [
    {
     "data": {
      "text/plain": [
       "['G1004577874-LPDAAC_ECS',\n",
       " 'G1004578009-LPDAAC_ECS',\n",
       " 'G1004578073-LPDAAC_ECS',\n",
       " 'G1004578089-LPDAAC_ECS',\n",
       " 'G1004578257-LPDAAC_ECS',\n",
       " 'G1004578334-LPDAAC_ECS',\n",
       " 'G1004578381-LPDAAC_ECS',\n",
       " 'G1004578586-LPDAAC_ECS',\n",
       " 'G1004578726-LPDAAC_ECS',\n",
       " 'G1004578728-LPDAAC_ECS']"
      ]
     },
     "execution_count": 12,
     "metadata": {},
     "output_type": "execute_result"
    }
   ],
   "source": [
    "granuleID_list = [result['concept-id'] for result in results]\n",
    "\n",
    "# View some of the results\n",
    "granuleID_list[:10]"
   ]
  }
 ],
 "metadata": {
  "kernelspec": {
   "display_name": "Python 3 (ipykernel)",
   "language": "python",
   "name": "python3"
  },
  "language_info": {
   "codemirror_mode": {
    "name": "ipython",
    "version": 3
   },
   "file_extension": ".py",
   "mimetype": "text/x-python",
   "name": "python",
   "nbconvert_exporter": "python",
   "pygments_lexer": "ipython3",
   "version": "3.10.8"
  }
 },
 "nbformat": 4,
 "nbformat_minor": 4
}
