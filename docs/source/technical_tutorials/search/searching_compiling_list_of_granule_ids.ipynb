{
 "cells": [
  {
   "cell_type": "markdown",
   "metadata": {},
   "source": [
    "## Searching for and Compiling a List of Granule IDs for Batch Processing"
   ]
  },
  {
   "cell_type": "markdown",
   "metadata": {},
   "source": [
    "While using the MAAP ADE, you may wish to create a list of granule IDs to be used for batch processing, granules being the individual files from a sensor that are used for processing. For this example, we will imagine a scenario that we wish to produce a biomass estimate for a single HLS tile, and then expand that estimate over a larger area. In order to produce this expanded estimate, we will create a list of the HLS files which fall within a certain area. "
   ]
  },
  {
   "cell_type": "markdown",
   "metadata": {},
   "source": [
    "We start by importing the `maap` and `pprint` packages and creating a new MAAP class."
   ]
  },
  {
   "cell_type": "code",
   "execution_count": 1,
   "metadata": {},
   "outputs": [],
   "source": [
    "# import the MAAP package\n",
    "from maap.maap import MAAP\n",
    "\n",
    "# import printing package to help display outputs\n",
    "from pprint import pprint\n",
    "\n",
    "# create MAAP class\n",
    "maap = MAAP()"
   ]
  },
  {
   "cell_type": "markdown",
   "metadata": {},
   "source": [
    "We can use the `searchGranule` function to search for \"HLS Landsat Operational Land Imager Surface Reflectance and TOA Brightness Daily Global 30m v2.0\" granules. Click [here](https://docs.maap-project.org/en/latest/technical_tutorials/search/granules.html) for more information about searching for granules with the `searchGranule` function. Since the default limit on results from the MAAP API is 20, we specify a variable to use in our search query. "
   ]
  },
  {
   "cell_type": "code",
   "execution_count": 2,
   "metadata": {},
   "outputs": [],
   "source": [
    "# get at max 1000 results from CMR\n",
    "MAX_RESULTS = 1000"
   ]
  },
  {
   "cell_type": "markdown",
   "metadata": {},
   "source": [
    "To filter our search to HLS data, we create a variable with the collection ID of the HLS collection. Using the collection concept ID is the preferred method to filter by a collection, as it is a unique identifier which avoids ambiguity."
   ]
  },
  {
   "cell_type": "code",
   "execution_count": 3,
   "metadata": {},
   "outputs": [],
   "source": [
    "COLLECTION_ID = 'C2021957657-LPCLOUD' # specifying the collection ID for the HLS dataset"
   ]
  },
  {
   "cell_type": "markdown",
   "metadata": {},
   "source": [
    "Next, we search for granules using the collection ID and a spatial filter. We can use a bounding box as our spatial filter. The bounding box is a sequence of four latitude and longitude values in the order of [W,S,E,N]. For this example, let's search for granules from the HLS data using a bounding box for the country Peru."
   ]
  },
  {
   "cell_type": "code",
   "execution_count": 4,
   "metadata": {},
   "outputs": [
    {
     "name": "stdout",
     "output_type": "stream",
     "text": [
      "'Got 1000 results'\n"
     ]
    }
   ],
   "source": [
    "collection_bbox = '-81.4109425524,-18.3479753557,-68.6650797187,-0.0572054988649' # specify bounding box to search by\n",
    "\n",
    "# getting results from granule search using the bounding box, collection ID, and results limit\n",
    "results = maap.searchGranule(\n",
    "    cmr_host='cmr.earthdata.nasa.gov',\n",
    "    bounding_box=collection_bbox,\n",
    "    concept_id=COLLECTION_ID,\n",
    "    limit=MAX_RESULTS\n",
    ") \n",
    "pprint(f'Got {len(results)} results') # print the number of results"
   ]
  },
  {
   "cell_type": "markdown",
   "metadata": {},
   "source": [
    "We were able to get 1000 results. Each element in the list `results` contains the metadata for one of the granules returned by the search. Within this metadata is the key `concept-id`, which is the unique identifier for each granule. To create a list of granule IDs, we create a new list and use a for loop to add the `concept-id` from each element of `results` into the new list."
   ]
  },
  {
   "cell_type": "code",
   "execution_count": 5,
   "metadata": {},
   "outputs": [],
   "source": [
    "granuleID_list = [] # create list for granule IDs\n",
    "\n",
    "for result in results: # loop through each element (granule) in the list `results`\n",
    "    granuleID_list.append(result['concept-id']) # add the concept id for each granule to `granuleID_list`\n",
    "\n",
    "# You can uncomment the line below to see the result \n",
    "# print(granuleID_list)"
   ]
  },
  {
   "cell_type": "markdown",
   "metadata": {},
   "source": [
    "Now we have a list of all the granule IDs for granules in the Landsat 8 collection that fall within the bounding box for the country Peru within `granuleID_list`."
   ]
  }
 ],
 "metadata": {
  "kernelspec": {
   "display_name": "Python 3 (ipykernel)",
   "language": "python",
   "name": "python3"
  },
  "language_info": {
   "codemirror_mode": {
    "name": "ipython",
    "version": 3
   },
   "file_extension": ".py",
   "mimetype": "text/x-python",
   "name": "python",
   "nbconvert_exporter": "python",
   "pygments_lexer": "ipython3",
   "version": "3.10.8"
  }
 },
 "nbformat": 4,
 "nbformat_minor": 4
}
