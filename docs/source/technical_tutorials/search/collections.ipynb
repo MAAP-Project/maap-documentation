{
 "cells": [
  {
   "attachments": {},
   "cell_type": "markdown",
   "metadata": {},
   "source": [
    "## Searching for Collections in NASA's Operational CMR using maap-py"
   ]
  },
  {
   "cell_type": "markdown",
   "metadata": {},
   "source": [
    "These examples walk through the MAAP API functionality of searching for collections based on specific parameters. Collections are groupings of files that share the same product specification. Searching for collections can be useful for finding individual files, known as granules, which are used for processing.\n",
    "\n",
    "We begin by importing the `maap` package and creating a new MAAP class."
   ]
  },
  {
   "cell_type": "code",
   "execution_count": 1,
   "metadata": {},
   "outputs": [],
   "source": [
    "# import the MAAP package to handle queries\n",
    "from maap.maap import MAAP\n",
    "\n",
    "# import printing package to help display outputs\n",
    "from pprint import pprint\n",
    "\n",
    "# invoke the MAAP search client\n",
    "maap = MAAP()"
   ]
  },
  {
   "cell_type": "markdown",
   "metadata": {},
   "source": [
    "We can use the `maap.searchCollection` function to return a list of desired collections. Before using this function, let's use the `help` function to view the specific arguments and keywords for `maap.searchCollection`."
   ]
  },
  {
   "cell_type": "code",
   "execution_count": 2,
   "metadata": {},
   "outputs": [
    {
     "name": "stdout",
     "output_type": "stream",
     "text": [
      "Help on method searchCollection in module maap.maap:\n",
      "\n",
      "searchCollection(limit=100, **kwargs) method of maap.maap.MAAP instance\n",
      "    Search the CMR collections\n",
      "    :param limit: limit of the number of results\n",
      "    :param kwargs: search parameters\n",
      "    :return: list of results (<Instance of Result>)\n",
      "\n"
     ]
    }
   ],
   "source": [
    "# view help for the searchCollection function\n",
    "help(maap.searchCollection)"
   ]
  },
  {
   "cell_type": "markdown",
   "metadata": {},
   "source": [
    "The help text is showing that `maap.searchCollection` accepts a limit and search parameters. The limit parameter limits the number of resulting collections returned by `maap.searchCollection`. Note that `limit=100` means that the *default limit* for results from the MAAP API is 100. `maap.searchCollection` accepts any additional search parameters that are included in the CMR. For a list of accepted parameters, please refer to the [CMR Search Collections API reference](https://cmr.earthdata.nasa.gov/search/site/docs/search/api.html#collection-search-by-parameters)."
   ]
  },
  {
   "cell_type": "markdown",
   "metadata": {},
   "source": [
    "In this example we will explore search options including:\n",
    "\n",
    "1. Finding all Collections\n",
    "2. Searching by temporal filter\n",
    "3. Searching by spatial filter\n",
    "4. Using the results from one search as inputs into another\n",
    "5. Searching by additional attributes"
   ]
  },
  {
   "cell_type": "markdown",
   "metadata": {},
   "source": [
    "### Finding all Collections\n",
    "\n",
    "Here we will demonstrate how to create a list containing all of the collections contained within the CMR. To do this, we will use the `maap.searchCollection` function without any additional search parameters. "
   ]
  },
  {
   "cell_type": "code",
   "execution_count": 3,
   "metadata": {},
   "outputs": [
    {
     "name": "stdout",
     "output_type": "stream",
     "text": [
      "'Got 100 results'\n"
     ]
    }
   ],
   "source": [
    "# search all collections\n",
    "results = maap.searchCollection(cmr_host=\"cmr.earthdata.nasa.gov\")\n",
    "\n",
    "# print the number of collections\n",
    "pprint(f'Got {len(results)} results')"
   ]
  },
  {
   "cell_type": "markdown",
   "metadata": {},
   "source": [
    "We get 100 results because of the default page limit. The result from the MAAP API is a list of collections where each element in the list is the metadata for that particular collection. To change the limit, type `limit=` and then a value within the parentheses after `maap.searchCollection()`.\n",
    "\n",
    "Let's look at the metadata for the first collection in our list of results (`results[0]`) using `pprint`. For formatting purposes, we can use the `depth` parameter to control the number of levels of metadata detail to display. By default, there is no constraint on the depth. By setting a `depth` parameter (in this case `depth=2`), we can ensure that the next contained level is replaced by an ellipsis."
   ]
  },
  {
   "cell_type": "code",
   "execution_count": 9,
   "metadata": {},
   "outputs": [
    {
     "name": "stdout",
     "output_type": "stream",
     "text": [
      "{'Collection': {'Campaigns': {...},\n",
      "                'CollectionState': 'COMPLETE',\n",
      "                'Contacts': {...},\n",
      "                'DOI': {...},\n",
      "                'DataSetId': '10 Days Synthesis of SPOT VEGETATION Images '\n",
      "                             '(VGT-S10)',\n",
      "                'Description': 'The VGT-S10 are near-global or continental, '\n",
      "                               '10-daily composite images which are '\n",
      "                               \"synthesised from the 'best available' \"\n",
      "                               'observations registered in the course of every '\n",
      "                               \"'dekad' by the orbiting earth observation \"\n",
      "                               'system SPOT-VEGETATION. The products provide '\n",
      "                               'data from all spectral bands (SWIR, NIR, RED, '\n",
      "                               'BLUE), the NDVI and auxiliary data on image '\n",
      "                               'acquisition parameters. The VEGETATION system '\n",
      "                               'allows operational and near real-time '\n",
      "                               'applications, at global, continental and '\n",
      "                               'regional scales, in very broad environmentally '\n",
      "                               'and socio-economically critical fields. The '\n",
      "                               'VEGETATION instrument is operational since '\n",
      "                               'April 1998, first with VGT1, from March 2003 '\n",
      "                               'onwards, with VGT2. More information is '\n",
      "                               'available on: '\n",
      "                               'https://docs.terrascope.be/#/DataProducts/SPOT-VGT/Level3/Level3',\n",
      "                'InsertTime': '2023-04-07T08:27:18.514Z',\n",
      "                'LastUpdate': '2023-04-07T08:27:18.514Z',\n",
      "                'LongName': 'Not provided',\n",
      "                'OnlineAccessURLs': {...},\n",
      "                'OnlineResources': {...},\n",
      "                'Platforms': {...},\n",
      "                'ProcessingLevelId': 'NA',\n",
      "                'ScienceKeywords': {...},\n",
      "                'ShortName': 'urn:ogc:def:EOP:VITO:VGT_S10',\n",
      "                'Spatial': {...},\n",
      "                'Temporal': {...},\n",
      "                'UseConstraints': {...},\n",
      "                'VersionId': '1'},\n",
      " 'concept-id': 'C2207472890-FEDEO',\n",
      " 'format': 'application/echo10+xml',\n",
      " 'revision-id': '5'}\n"
     ]
    }
   ],
   "source": [
    "# print the metadata for the first collection\n",
    "# we use the depth parameter to set the layer of metadata detail in the results, with (1) having the least detail\n",
    "# (1) displays the concept ID, format, and revision ID\n",
    "# adjust the depth to a larger value (6) if you would like to view all of the metadata\n",
    "pprint(results[0], depth=2)"
   ]
  },
  {
   "cell_type": "markdown",
   "metadata": {},
   "source": [
    "The `Collection` key has all of the collection information including attributes, the archive center, spatial, and temporal information. The `concept-id` is a unique identifier for this collection. It can be used to further refine search results from the CMR, such as when searching for granule information."
   ]
  },
  {
   "cell_type": "markdown",
   "metadata": {},
   "source": [
    "### Searching by Temporal Filter\n",
    "\n",
    "Here we use a temporal filter to narrow down our results using the `temporal` keyword in our search. The temporal keyword takes datetime information in a [specific format](https://cmr.earthdata.nasa.gov/search/site/docs/search/api.html#c-temporal). The date format used is `YYYY-MM-DDThh:mm:ssZ` and temporal search criteria may be either a single date or a date range. If one date is provided then it can be inferred as the start or end date. To define a start date and return all collections after the date, put a comma after the date (`YYYY-MM-DDThh:mm:ssZ,`). To define a end date and return all granules prior to the data, put a comma before the date (`,YYYY-MM-DDThh:mm:ssZ`). Lastly, to get a date range, provide the start date and end date separated by a comma (`YYYY-MM-DDThh:mm:ssZ,YYYY-MM-DDThh:mm:ssZ`).\n",
    "\n",
    "In this example we will search for one month of data."
   ]
  },
  {
   "cell_type": "code",
   "execution_count": 5,
   "metadata": {},
   "outputs": [
    {
     "name": "stdout",
     "output_type": "stream",
     "text": [
      "'Got 100 results'\n"
     ]
    }
   ],
   "source": [
    "datetimeRange = '2000-01-01T00:00:00Z,2000-01-31T23:59:59Z' # specify datetime range to search for data in January 2000\n",
    "\n",
    "results = maap.searchCollection(\n",
    "    cmr_host = \"cmr.earthdata.nasa.gov\",\n",
    "    temporal = datetimeRange\n",
    ")\n",
    "pprint(f'Got {len(results)} results')"
   ]
  },
  {
   "cell_type": "code",
   "execution_count": 6,
   "metadata": {},
   "outputs": [
    {
     "name": "stdout",
     "output_type": "stream",
     "text": [
      "'Collection GLDAS_NOAH025_3H was acquired starting at 2000-01-01T00:00:00.000Z'\n"
     ]
    }
   ],
   "source": [
    "collectionName = results[0]['Collection']['ShortName'] # get the collection short name\n",
    "collectionDate = results[0]['Collection']['Temporal']['RangeDateTime']['BeginningDateTime'] # get the collection start time\n",
    "\n",
    "pprint(\n",
    "    f'Collection {collectionName} was acquired starting at {collectionDate}', width=100)\n"
   ]
  },
  {
   "cell_type": "markdown",
   "metadata": {},
   "source": [
    "It appears the first result correctly matches with the beginning and ending temporal search parameters. Keep in mind that the results are limited to 100 so the final collection returned may not match the end date that was searched for."
   ]
  },
  {
   "cell_type": "markdown",
   "metadata": {},
   "source": [
    "### Searching by Spatial Filter\n",
    "\n",
    "Here we will illustrate how to search for collections by a spatial filter. There are a couple of [spatial filters available to search by](https://cmr.earthdata.nasa.gov/search/site/docs/search/api.html#c-spatial) in the CMR including point, line, polygon, and bounding box. In this example, we will explore filtering with a bounding box which is a sequence of four latitude and longitude values in the order of `[W,S,E,N]`. "
   ]
  },
  {
   "cell_type": "code",
   "execution_count": 7,
   "metadata": {},
   "outputs": [
    {
     "name": "stdout",
     "output_type": "stream",
     "text": [
      "'Got 100 results'\n"
     ]
    }
   ],
   "source": [
    "collectionDomain = '-42,10,42,20' # specify bounding box to search by\n",
    "\n",
    "results = maap.searchCollection(\n",
    "    cmr_host = \"cmr.earthdata.nasa.gov\",    \n",
    "    bounding_box = collectionDomain\n",
    ")\n",
    "pprint(f'Got {len(results)} results')"
   ]
  },
  {
   "cell_type": "code",
   "execution_count": 8,
   "metadata": {},
   "outputs": [
    {
     "name": "stdout",
     "output_type": "stream",
     "text": [
      "'Collection gov.noaa.nodc:0000029 was acquired within the following geometry: '\n",
      "{'BoundingRectangle': {'EastBoundingCoordinate': '-16.25',\n",
      "                       'NorthBoundingCoordinate': '46.263167',\n",
      "                       'SouthBoundingCoordinate': '0.766667',\n",
      "                       'WestBoundingCoordinate': '-124.041667'},\n",
      " 'CoordinateSystem': 'CARTESIAN'}\n"
     ]
    }
   ],
   "source": [
    "collectionName = results[3]['Collection']['ShortName'] # get a collection short name\n",
    "collectionGeometry = results[3]['Collection']['Spatial']['HorizontalSpatialDomain']['Geometry'] # grab the spatial information from collection\n",
    "\n",
    "pprint(f'Collection {collectionName} was acquired within the following geometry: ', width=100)\n",
    "pprint(collectionGeometry)\n"
   ]
  },
  {
   "cell_type": "markdown",
   "metadata": {},
   "source": [
    "We can see from the first collection that the spatial coordinates of the collection intersect our search box."
   ]
  }
 ],
 "metadata": {
  "kernelspec": {
   "display_name": "Python 3 (ipykernel)",
   "language": "python",
   "name": "python3"
  },
  "language_info": {
   "codemirror_mode": {
    "name": "ipython",
    "version": 3
   },
   "file_extension": ".py",
   "mimetype": "text/x-python",
   "name": "python",
   "nbconvert_exporter": "python",
   "pygments_lexer": "ipython3",
   "version": "3.7.8"
  }
 },
 "nbformat": 4,
 "nbformat_minor": 4
}
