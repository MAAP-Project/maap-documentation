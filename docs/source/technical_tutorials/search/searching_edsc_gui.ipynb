{
 "cells": [
  {
   "cell_type": "markdown",
   "metadata": {},
   "source": [
    "# Using the NASA Earthdata Search Client Graphical User Interface"
   ]
  },
  {
   "cell_type": "markdown",
   "metadata": {},
   "source": [
    "Author(s): Samuel Ayers (UAH)\n",
    "\n",
    "Date: July 27, 2020\n",
    "\n",
    "Description: A guide detailing how to use NASA's Earthdata Search client graphical user interface (GUI)."
   ]
  },
  {
   "cell_type": "markdown",
   "metadata": {},
   "source": [
    "## Additional Resources\n",
    "- [Earthdata Search](https://search.earthdata.nasa.gov/search)\n",
    "- [Find Earthdata](https://www.earthdata.nasa.gov/learn/find-data)"
   ]
  },
  {
   "cell_type": "markdown",
   "metadata": {},
   "source": [
    "## About the Earthdata Search Client (EDSC)\n",
    "\n",
    "The EDSC allows users to search, preview, download, and access EOSDIS Earth observation data. NASA's EDSC is located at [https://search.earthdata.nasa.gov](https://search.earthdata.nasa.gov). ESDC provides a GUI for NASA's Common Metadata Repository (CMR) to ease the process of discovering data. \n",
    "\n",
    "![Earthdata Search Client GUI](../../_static/edsc_screenshot.png)\n",
    "(*Image of the NASA EDSC GUI*)"
   ]
  },
  {
   "cell_type": "markdown",
   "metadata": {},
   "source": [
    "### Using the Earthdata Search Client"
   ]
  },
  {
   "cell_type": "markdown",
   "metadata": {},
   "source": [
    "We can use the searchbar to search for a term (example: *GEDI*) to narrow the resulting collections. The search can be further refined by picking a temporal range from the calendar using the **Temporal** ![Temporal](../../_static/temporal.png) button and setting spatial boundaries using the **Spatial** ![Spatial](../../_static/spatial.png) button. Additionally, using the **Advanced search** ![Advanced search](../../_static/advanced_search.png) lets you search by the HUC ID or region (more information about hydrological units may be found [here](https://water.usgs.gov/GIS/huc.html)). You can use the **Clear Search** ![Clear Filters](../../_static/clear_filters.png) button to undo any filters that have been set. The sidebar to the left allows you to further refine your search by selecting one of the available facets. These include *Features*, *Keywords*, *Platforms*, *Instruments*, *Organizations*, *Projects*, *Processing levels*, *Date Format*, *Tiling System*, *Horizontal Data Resolution*, and *Latency*.\n",
    "\n",
    "We can also use the tools with the background map to refine our search. We can search spatially using **Search by spatial polygon** ![Search by spatial polygon](../../_static/search_by_spatial_polygon.png), **Search by spatial rectangle** ![Search by spatial rectangle](../../_static/search_by_spatial_rectangle.png), **Search by spatial circle** ![Search by spatial circle](../../_static/search_by_spatial_circle.png), and **Search by spatial coordinate** ![Search by spatial coordinate](../../_static/search_by_spatial_coordinate.png). Layers may be edited using the **Edit layers** ![Edit layers](../../_static/edit_layers.png) button and deleted using the **Delete layers** ![Delete layers](../../_static/delete_layers.png) buttons. There are also options for **North Polar Stereographic** ![North Polar Stereographic](../../_static/north_polar_stereographic.png), **Geographic (Equirectangular)** ![Geographic (Equirectangular)](../../_static/geographic.png), and **South Polar Stereographic** ![South Polar Stereographic](../../_static/south_polar_stereographic.png) projections. There are options to **Zoom in** ![Zoom in](../../_static/zoom_in.png), **Zoom home** ![Zoom home](../../_static/zoom_home.png), and **Zoom out** ![Zoom out](../../_static/zoom_out.png). Finally, we can change the basemap by selecting the **Map layers** ![Map layers](../../_static/map_layers.png) button. \n",
    "\n",
    "The results of the search are displayed in the *Matching Collections* section. Collection names and summaries for each result are shown here. The **View collection details** ![View collection details](../../_static/view_collection_details.png) button may be used to view related URLs and additional information about the selected collection. Also, collections may be added to a project using the **Add collection to the current project** ![Add collection to the current project](../../_static/add_collection_to_the_current_project.png) button. Clicking anywhere else on a result allows you to see the granules within the collection available for download."
   ]
  },
  {
   "cell_type": "code",
   "execution_count": null,
   "metadata": {},
   "outputs": [],
   "source": []
  }
 ],
 "metadata": {
  "kernelspec": {
   "display_name": "Python 3 (ipykernel)",
   "language": "python",
   "name": "python3"
  },
  "language_info": {
   "codemirror_mode": {
    "name": "ipython",
    "version": 3
   },
   "file_extension": ".py",
   "mimetype": "text/x-python",
   "name": "python",
   "nbconvert_exporter": "python",
   "pygments_lexer": "ipython3",
   "version": "3.10.8"
  },
  "toc-showcode": true
 },
 "nbformat": 4,
 "nbformat_minor": 4
}
