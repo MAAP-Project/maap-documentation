{
 "cells": [
  {
   "cell_type": "markdown",
   "id": "732b28cc-f83a-4379-bf35-06d76a803d2c",
   "metadata": {},
   "source": [
    "# Visualize GEDI Data using Lonboard\n",
    "\n",
    "Authors: Harshini Girish(UAH), Rajat Shinde(UAH), Sheyenne Kirkland(UAH), Alex Mandel(DevSeed), Zac Deziel(DevSeed), Jamison French(DevSeed)\n",
    "\n",
    "Date: April 9, 2025\n",
    "\n",
    "Description: In the MAAP Algorithm Development Environment (ADE), Lonboard enables interactive geospatial visualization of GEDI calibration and validation data. By transforming CSV-based GEDI field measurements into a GeoDataFrame, we can map biomass and structural metrics across ecosystems with spatial precision. Lonboard not only facilitates intuitive exploration of these ecological patterns but also allows visualization of field measurements at scale, making it an essential tool for analyzing large datasets efficiently across diverse geographic regions.\n",
    "\n"
   ]
  },
  {
   "cell_type": "markdown",
   "id": "9875093f-09e9-41b2-a2cb-47dc13a0bd0a",
   "metadata": {},
   "source": [
    "## Run This Notebook"
   ]
  },
  {
   "cell_type": "markdown",
   "id": "845fbd79-e2a7-40e5-a94b-c1d12d4ed34a",
   "metadata": {},
   "source": [
    "To access and run this tutorial within MAAP's Algorithm Development Environment (ADE), please refer to the [\"Getting started with the MAAP\"](https://docs.maap-project.org/en/latest/getting_started/getting_started.html) section of our documentation.\n",
    "\n",
    "Disclaimer: it is highly recommended to run a tutorial within MAAP’s ADE, which already includes packages specific to MAAP, such as maap-py. Running the tutorial outside of the MAAP ADE may lead to errors."
   ]
  },
  {
   "cell_type": "markdown",
   "id": "1af0ed03-89b7-4c28-afac-ee6c36db8194",
   "metadata": {},
   "source": [
    "## Additional Resources"
   ]
  },
  {
   "cell_type": "markdown",
   "id": "558755b1-0bcf-4195-9196-4635404404fb",
   "metadata": {},
   "source": [
    "### Additional Resources\n",
    "\n",
    "- [Visualizing STAC Items](https://docs.maap-project.org/en/latest/technical_tutorials/visualizing.html): Official MAAP tutorial demonstrating how to visualize spatial footprints from STAC collections using different functions inside the ADE.\n",
    "\n",
    "- [MAAP STAC Spatial Coverage Example](https://github.com/MAAP-Project/maap-documentation-examples/blob/main/stac_spatial_coverage/notebooks/plot_items.ipynb): A practical example from MAAP’s documentation repository showing how to retrieve and plot spatial items from a STAC catalog.\n"
   ]
  },
  {
   "cell_type": "markdown",
   "id": "ab3e8048-7087-496b-a5e0-202b399a77fe",
   "metadata": {},
   "source": [
    "## Install/Import Packages"
   ]
  },
  {
   "cell_type": "markdown",
   "id": "4f2a30d3-7d7b-4795-83b9-24b4b5684fec",
   "metadata": {},
   "source": [
    "Make sure the following libraries are installed before running the notebook:"
   ]
  },
  {
   "cell_type": "code",
   "execution_count": null,
   "id": "2bf6d15a-5b4f-4c2c-b49a-018361982f15",
   "metadata": {},
   "outputs": [],
   "source": [
    "!pip install lonboard pyogrio\n"
   ]
  },
  {
   "cell_type": "code",
   "execution_count": 4,
   "id": "8fa34b1b-4a2c-4af6-ad92-1cde1f7a940b",
   "metadata": {},
   "outputs": [],
   "source": [
    "import geopandas as gpd\n",
    "import matplotlib as mpl\n",
    "from lonboard import ScatterplotLayer, Map\n",
    "from lonboard.colormap import apply_continuous_cmap\n",
    "from shapely.geometry import Point\n",
    "import pandas as pd\n",
    "from pystac_client import Client\n",
    "from maap.maap import MAAP\n",
    "from pprint import pprint\n",
    "import boto3\n",
    "from lonboard import viz"
   ]
  },
  {
   "cell_type": "markdown",
   "id": "10edd7aa-ca6e-4a20-87fc-ae876f3afe67",
   "metadata": {},
   "source": [
    "## Initializing the MAAP STAC Endpoint"
   ]
  },
  {
   "cell_type": "markdown",
   "id": "bdfcba9a-1f12-4489-8dcc-73604eee8b8c",
   "metadata": {},
   "source": [
    "Before beginning, we’ll form a connection to the MAAP STAC endpoint to set up"
   ]
  },
  {
   "cell_type": "code",
   "execution_count": 5,
   "id": "2f2585bf-caae-49e0-baa9-b544307f754b",
   "metadata": {},
   "outputs": [],
   "source": [
    "maap = MAAP()\n",
    "stac_endpoint = \"https://stac.maap-project.org\"\n",
    "catalog = Client.open(stac_endpoint)\n"
   ]
  },
  {
   "cell_type": "markdown",
   "id": "7d7391ac-8098-438f-8ab1-98275e0934a3",
   "metadata": {},
   "source": [
    "## Retrieving the Data\n"
   ]
  },
  {
   "cell_type": "markdown",
   "id": "be046e6e-d7d5-4f08-9980-3f2e7c3dc1ab",
   "metadata": {},
   "source": [
    "This code fetches and displays collections from a STAC endpoint. It extracts the `id` and `title` for each collection to support further exploration or querying."
   ]
  },
  {
   "cell_type": "code",
   "execution_count": 6,
   "id": "4b4e4c90-f695-4923-ad8d-fdc99f3a89ec",
   "metadata": {},
   "outputs": [
    {
     "name": "stdout",
     "output_type": "stream",
     "text": [
      "Collection ID: ABoVE_UAVSAR_PALSAR\n",
      "Title: Arctic-Boreal Vulnerability Experiment Uninhabited Aerial Vehicle Synthetic Aperture Radar Polarimetric SAR\n",
      "\n",
      "Collection ID: AFRISAR_DLR\n",
      "Title: AFRISAR_DLR\n",
      "\n",
      "Collection ID: AFRISAR_DLR2\n",
      "Title: AFRISAR_DLR2\n",
      "\n",
      "Collection ID: AfriSAR_UAVSAR_Coreg_SLC\n",
      "Title: AfriSAR UAVSAR Coregistered SLCs Generated Using NISAR Tools\n",
      "\n",
      "Collection ID: AfriSAR_UAVSAR_Geocoded_Covariance\n",
      "Title: AfriSAR UAVSAR Geocoded Covariance Matrix product Generated Using NISAR Tools\n",
      "\n",
      "Collection ID: AfriSAR_UAVSAR_Geocoded_SLC\n",
      "Title: AfriSAR UAVSAR Geocoded SLCs Generated Using NISAR Tools\n",
      "\n",
      "Collection ID: AfriSAR_UAVSAR_KZ\n",
      "Title: AfriSAR UAVSAR Vertical Wavenumber (KZ) Generated Using NISAR Tools\n",
      "\n",
      "Collection ID: AfriSAR_UAVSAR_Normalization_Area\n",
      "Title: AfriSAR UAVSAR Normalization Area Generated Using NISAR Tools\n",
      "\n",
      "Collection ID: AfriSAR_UAVSAR_Ungeocoded_Covariance\n",
      "Title: AfriSAR UAVSAR Ungeocoded Covariance Matrix product Generated Using NISAR Tools\n",
      "\n",
      "Collection ID: BIOSAR1\n",
      "Title: BIOSAR1\n",
      "\n",
      "Collection ID: ESACCI_Biomass_L4_AGB_V4_100m\n",
      "Title: ESA CCI Above-Ground Biomass Product Level 4 Version 4\n",
      "\n",
      "Collection ID: GEDI_CalVal_Field_Data\n",
      "Title: Global Ecosystem Dynamics Investigation (GEDI) Calibration/Validation Field Survey Dataset\n",
      "\n",
      "Collection ID: GEDI_CalVal_Lidar_COPC\n",
      "Title: GEDI CalVal Lidar COPC\n",
      "\n",
      "Collection ID: GEDI_CalVal_Lidar_Data\n",
      "Title: Global Ecosystem Dynamics Investigation (GEDI) Calibration/Validation Airborne Lidar Dataset\n",
      "\n",
      "Collection ID: GEDI_CalVal_Lidar_Data_Compressed\n",
      "Title: Global Ecosystem Dynamics Investigation (GEDI) Calibration/Validation Airborne Lidar Dataset (Compressed)\n",
      "\n",
      "Collection ID: glad-glclu2020-change-v2\n",
      "Title: GLAD: Net change of land cover and land use between 2000 and 2020\n",
      "\n",
      "Collection ID: glad-glclu2020-v2\n",
      "Title: GLAD: Annual maps of land cover and land use\n",
      "\n",
      "Collection ID: glad-global-forest-change-1.11\n",
      "Title: GLAD: Global Forest Change 2000-2023 v1.11\n",
      "\n",
      "Collection ID: Global_Forest_Change_2000-2017\n",
      "Title: Global Forest Change 2000-2017\n",
      "\n",
      "Collection ID: global-mangrove-watch-3.0\n",
      "Title: Global Mangrove Watch (1996 - 2020) Version 3.0 Dataset\n",
      "\n",
      "Collection ID: Global_PALSAR2_PALSAR_FNF\n",
      "Title: Global 25m Resolution PALSAR-2/PALSAR Forest/Non-Forest Map\n",
      "\n",
      "Collection ID: GlobCover_05_06\n",
      "Title: GlobCover Global Land Cover Product (2005-06)\n",
      "\n",
      "Collection ID: GlobCover_09\n",
      "Title: GlobCover Global Land Cover Product (2009)\n",
      "\n",
      "Collection ID: icesat2-boreal\n",
      "Title: Gridded Boreal Aboveground Biomass Density c.2020 at 30m resolution\n",
      "\n",
      "Collection ID: ICESat2_Boreal_AGB_tindex_average\n",
      "Title: ICESat2-Boreal Above Ground Biomass T-Index Average\n",
      "\n",
      "Collection ID: icesat2-boreal-v2.1-agb\n",
      "Title: Icesat2 Boreal v2.1: Gridded Aboveground Biomass Density\n",
      "\n",
      "Collection ID: icesat2-boreal-v2.1-ht\n",
      "Title: Icesat2 Boreal v2.1: Vegetation Height\n",
      "\n",
      "Collection ID: Landsat8_SurfaceReflectance\n",
      "Title: Landsat 8 Operational Land Imager (OLI) Surface Reflectance Analysis Ready Data (ARD) V1, Peru and Equatorial Western Africa, April 2013-January 2020\n",
      "\n",
      "Collection ID: NCEO_Africa_AGB_100m_2017\n",
      "Title: National Centre for Eath Oberservation (NCEO) Africa Aboveground Woody Biomass (AGB) 2017\n",
      "\n",
      "Collection ID: nisar-sim\n",
      "Title: Simulated NISAR\n",
      "\n",
      "Collection ID: Paraguay_Country_Pilot\n",
      "Title: Paraguay Country Pilot\n",
      "\n",
      "Collection ID: SRTMGL1_COD\n",
      "Title: NASA Shuttle Radar Topography Mission Global 1\n",
      "\n"
     ]
    },
    {
     "name": "stderr",
     "output_type": "stream",
     "text": [
      "/opt/conda/envs/python/lib/python3.12/site-packages/pystac/collection.py:703: DeprecatedWarning: The collection 'icesat2-boreal' is deprecated.\n",
      "  warnings.warn(\n"
     ]
    }
   ],
   "source": [
    "# Fetch all collections\n",
    "collections = list(catalog.get_collections())\n",
    "if collections:\n",
    "    for col in collections:\n",
    "        print(f\"Collection ID: {col.id}\")\n",
    "        print(f\"Title: {col.title}\\n\")\n",
    "else:\n",
    "    print(\"No collections found or error retrieving collections.\")\n"
   ]
  },
  {
   "cell_type": "markdown",
   "id": "dd3ab0f0-f16d-46a9-8153-586a796343b4",
   "metadata": {},
   "source": [
    "This code fetches one item from the `GEDI_CalVal_Field_Data` STAC collection and extracts the S3 URL of its first asset.It then reads the remote CSV file directly into a pandas DataFrame using `pd.read_csv()`."
   ]
  },
  {
   "cell_type": "code",
   "execution_count": 31,
   "id": "4a62b1a3-3358-42d3-b3d5-603011763908",
   "metadata": {},
   "outputs": [],
   "source": [
    "collection_id = \"GEDI_CalVal_Field_Data\"\n",
    "search_result = catalog.search(collections=[collection_id], max_items=1)\n",
    "item = list(search_result.items())[0]\n",
    "s3_url = next(iter(item.assets.values())).href\n",
    "df = pd.read_csv(s3_url)\n"
   ]
  },
  {
   "cell_type": "markdown",
   "id": "f63a7a5b-1c07-49a3-a121-ff9267ade526",
   "metadata": {},
   "source": [
    "## Explore Data"
   ]
  },
  {
   "cell_type": "markdown",
   "id": "a0c9ae4e-8008-44d1-8539-60b9de292128",
   "metadata": {},
   "source": [
    "Here the file is read into a pandas DataFrame named `df`. Each row in the CSV corresponds to a record, and columns represent associated attributes."
   ]
  },
  {
   "cell_type": "markdown",
   "id": "370620e4-b9ea-4c50-80ec-ecfbd710c63c",
   "metadata": {},
   "source": [
    "This step converts the `longitude` and `latitude` columns into spatial Point objects and wraps them in a `GeoDataFrame(gdf)`."
   ]
  },
  {
   "cell_type": "code",
   "execution_count": 11,
   "id": "0d4981cb-22fd-4eba-93e5-e6efaf0a7c37",
   "metadata": {},
   "outputs": [],
   "source": [
    "gdf = gpd.GeoDataFrame(df, geometry=gpd.points_from_xy(df['longitude'], df['latitude']), crs=\"EPSG:4326\")\n"
   ]
  },
  {
   "cell_type": "markdown",
   "id": "c306105c-f929-44c9-88c5-4a8fe736f839",
   "metadata": {},
   "source": [
    "## Create and Display the Map"
   ]
  },
  {
   "cell_type": "markdown",
   "id": "7a92019f-85e7-4bce-aaa0-6a8ab371a708",
   "metadata": {},
   "source": [
    "This step creates a `ScatterplotLayer` from the GeoDataFrame `gdf` and adds it to a Lonboard Map. The interactive map is rendered in the notebook, displaying all spatial points from your data. For quick visualization, you can also use `viz(gdf)`, which provides the simplest rendering using default styling.\n",
    "\n"
   ]
  },
  {
   "cell_type": "code",
   "execution_count": 12,
   "id": "a7f6ffff-88a1-42f8-a9ea-557588ef1751",
   "metadata": {
    "scrolled": true
   },
   "outputs": [
    {
     "data": {
      "application/vnd.jupyter.widget-view+json": {
       "model_id": "e7e282512c894943b65e99693be57ec1",
       "version_major": 2,
       "version_minor": 1
      },
      "text/plain": [
       "Map(basemap_style=<CartoBasemap.DarkMatter: 'https://basemaps.cartocdn.com/gl/dark-matter-gl-style/style.json'…"
      ]
     },
     "execution_count": 12,
     "metadata": {},
     "output_type": "execute_result"
    }
   ],
   "source": [
    "from lonboard import viz\n",
    "viz(gdf)\n"
   ]
  },
  {
   "cell_type": "code",
   "execution_count": 13,
   "id": "5630cd58-fbe9-4cae-afcd-d2186a1800dc",
   "metadata": {},
   "outputs": [
    {
     "data": {
      "application/vnd.jupyter.widget-view+json": {
       "model_id": "053121f8b5de49cb8c68169632a8868f",
       "version_major": 2,
       "version_minor": 1
      },
      "text/plain": [
       "Map(layers=[ScatterplotLayer(get_fill_color=[0, 255, 0], radius_min_pixels=4.0, table=pyarrow.Table\n",
       "project: s…"
      ]
     },
     "execution_count": 13,
     "metadata": {},
     "output_type": "execute_result"
    }
   ],
   "source": [
    "layer = ScatterplotLayer.from_geopandas(gdf,\n",
    "  get_fill_color=[0, 255, 0], \n",
    "  radius_min_pixels=4\n",
    ")\n",
    "Map(layer)"
   ]
  },
  {
   "cell_type": "markdown",
   "id": "a5c34c48-2e1a-4985-87ea-203460d0b9a1",
   "metadata": {},
   "source": [
    "##  Normalize and Visualizing with a Colormap"
   ]
  },
  {
   "cell_type": "markdown",
   "id": "7b770106-57d1-4473-83bb-af4e0146e05b",
   "metadata": {},
   "source": [
    "In visualizations, normalization ensures that variables with different units or magnitudes (like biomass or elevation) can be accurately mapped to color gradients or other visual elements for intuitive comparison.\n",
    "\n",
    "This prints the list of column names in the GeoDataFrame `gdf`. It helps you quickly inspect what data attributes are available — such as spatial coordinates, biomass, species names, or timestamps.\n"
   ]
  },
  {
   "cell_type": "code",
   "execution_count": 14,
   "id": "164600d1-86ff-4887-a214-5a8c183a3eb5",
   "metadata": {},
   "outputs": [
    {
     "name": "stdout",
     "output_type": "stream",
     "text": [
      "Index(['project', 'plot', 'subplot', 'survey', 'private', 'date', 'region',\n",
      "       'vegetation', 'map', 'mat', 'pft.modis', 'pft.name', 'wwf.ecoregion',\n",
      "       'latitude', 'longitude', 'p.sample', 'p.stemmap', 'p.origin',\n",
      "       'p.orientation', 'p.shape', 'p.majoraxis', 'p.minoraxis', 'p.geom',\n",
      "       'p.epsg', 'p.area', 'p.mindiam', 'sp.geom', 'sp.ix', 'sp.iy',\n",
      "       'sp.shape', 'sp.area', 'sp.mindiam', 'pai', 'lai', 'cover', 'dft',\n",
      "       'agb', 'agb.valid', 'agb.lower', 'agb.upper', 'agbd.ha',\n",
      "       'agbd.ha.lower', 'agbd.ha.upper', 'sn', 'snd.ha', 'sba', 'sba.ha',\n",
      "       'swsg.ba', 'h.t.max', 'sp.agb', 'sp.agb.valid', 'sp.agbd.ha',\n",
      "       'sp.agbd.ha.lower', 'sp.agbd.ha.upper', 'sp.sba.ha', 'sp.swsg.ba',\n",
      "       'sp.h.t.max', 'l.project', 'l.instr', 'l.epsg', 'l.date', 'g.fp',\n",
      "       'tree.date', 'family', 'species', 'pft', 'wsg', 'wsg.sd', 'tree',\n",
      "       'stem', 'x', 'y', 'z', 'status', 'allom.key', 'a.stem', 'h.t',\n",
      "       'h.t.mod', 'd.stem', 'd.stem.valid', 'd.ht', 'c.w', 'm.agb',\n",
      "       'sp.majoraxis', 'sp.minoraxis', 'geometry'],\n",
      "      dtype='object')\n"
     ]
    }
   ],
   "source": [
    "print(gdf.columns)\n"
   ]
  },
  {
   "cell_type": "markdown",
   "id": "5960877c-bdfe-40da-a535-375e9bdd6ad4",
   "metadata": {},
   "source": [
    "The `m.agb` column represents mean above-ground biomass (AGB), estimating the total mass of living plant material above the soil surface within a plot.  "
   ]
  },
  {
   "cell_type": "markdown",
   "id": "e1b72b5d-fd2b-4506-87aa-90b0e1e8a743",
   "metadata": {},
   "source": [
    "This sets the color scale range by extracting the 10th and 90th percentile values of `m.agb`, which helps reduce the influence of outliers and emphasize meaningful variation in the data.  \n"
   ]
  },
  {
   "cell_type": "code",
   "execution_count": 29,
   "id": "e79bf79e-2850-4b3d-b615-a4afbee5b643",
   "metadata": {},
   "outputs": [],
   "source": [
    "norm = mpl.colors.Normalize(*gdf[\"m.agb\"].quantile([0.1, 0.9]))\n"
   ]
  },
  {
   "cell_type": "code",
   "execution_count": 30,
   "id": "92dad872-20f0-4d22-9c29-57207fb3ec3d",
   "metadata": {},
   "outputs": [
    {
     "data": {
      "application/vnd.jupyter.widget-view+json": {
       "model_id": "826cb07ea51d4f069791dce0e69637c0",
       "version_major": 2,
       "version_minor": 1
      },
      "text/plain": [
       "Map(layers=[ScatterplotLayer(get_fill_color=<pyarrow.lib.FixedSizeListArray object at 0x7f76d8af17e0>\n",
       "[\n",
       "  [\n",
       "  …"
      ]
     },
     "execution_count": 30,
     "metadata": {},
     "output_type": "execute_result"
    }
   ],
   "source": [
    "colors = mpl.colormaps[\"viridis_r\"](norm(gdf[\"m.agb\"]), bytes=True)\n",
    "layer = ScatterplotLayer.from_geopandas(gdf, get_fill_color=colors, radius_min_pixels=3)\n",
    "Map(layer)\n"
   ]
  },
  {
   "cell_type": "markdown",
   "id": "5cf40439-61c9-49a6-afcc-03c422a9a2fe",
   "metadata": {},
   "source": [
    "## Visualizing Unique Species by Color "
   ]
  },
  {
   "cell_type": "markdown",
   "id": "a822e264-8338-4720-9bae-d21fea4d760f",
   "metadata": {},
   "source": [
    "This snippet assigns each unique species in the GeoDataFrame a distinct RGB color.\n",
    "The species are mapped to integer-scaled RGB values and set as the fill color for each point on a `ScatterplotLayer`.\n"
   ]
  },
  {
   "cell_type": "code",
   "execution_count": 25,
   "id": "e374c5dc-fced-4ac2-b381-481730ce0c71",
   "metadata": {},
   "outputs": [],
   "source": [
    "unique_species = gdf_cat[\"species\"].unique()\n",
    "color_map = {sp: (np.array(plt.cm.tab20(i % 20)) * 255).astype(int).tolist()\n",
    "             for i, sp in enumerate(unique_species)}\n",
    "gdf_cat[\"color\"] = gdf_cat[\"species\"].map(color_map)\n",
    "\n"
   ]
  },
  {
   "cell_type": "code",
   "execution_count": 26,
   "id": "e283836f-4865-4aef-96a1-fcfd70f62450",
   "metadata": {},
   "outputs": [
    {
     "data": {
      "application/vnd.jupyter.widget-view+json": {
       "model_id": "007473b5da8742d197a429ce56f4c5e0",
       "version_major": 2,
       "version_minor": 1
      },
      "text/plain": [
       "Map(layers=[ScatterplotLayer(get_fill_color=<pyarrow.lib.FixedSizeListArray object at 0x7f76da4a69e0>\n",
       "[\n",
       "  [\n",
       "  …"
      ]
     },
     "execution_count": 26,
     "metadata": {},
     "output_type": "execute_result"
    }
   ],
   "source": [
    "layer = lb.ScatterplotLayer.from_geopandas(\n",
    "    gdf_cat,\n",
    "    get_fill_color=np.array(gdf_cat[\"color\"].tolist(), dtype=np.uint8),\n",
    "    radius_min_pixels=4\n",
    ")\n",
    "lb.Map(layer)\n"
   ]
  }
 ],
 "metadata": {
  "kernelspec": {
   "display_name": "Python 3 (ipykernel)",
   "language": "python",
   "name": "python3"
  },
  "language_info": {
   "codemirror_mode": {
    "name": "ipython",
    "version": 3
   },
   "file_extension": ".py",
   "mimetype": "text/x-python",
   "name": "python",
   "nbconvert_exporter": "python",
   "pygments_lexer": "ipython3",
   "version": "3.12.7"
  }
 },
 "nbformat": 4,
 "nbformat_minor": 5
}
