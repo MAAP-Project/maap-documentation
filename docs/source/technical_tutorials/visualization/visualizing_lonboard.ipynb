{
 "cells": [
  {
   "cell_type": "markdown",
   "id": "732b28cc-f83a-4379-bf35-06d76a803d2c",
   "metadata": {},
   "source": [
    "# Visualize GEDI Data using Lonboard\n",
    "\n",
    "Authors: Harshini Girish (UAH), Rajat Shinde(UAH),Sheyenne Kirkland (UAH), Alex Mandel (DevSeed)\n",
    "\n",
    "Date: \n",
    "\n",
    "Description: In the MAAP Algorithm Development Environment (ADE), Lonboard enables interactive geospatial visualization of GEDI calibration and validation data. By transforming CSV-based GEDI field measurements into a GeoDataFrame, we can map biomass and structural metrics across ecosystems."
   ]
  },
  {
   "cell_type": "markdown",
   "id": "9875093f-09e9-41b2-a2cb-47dc13a0bd0a",
   "metadata": {},
   "source": [
    "## Run This Notebook"
   ]
  },
  {
   "cell_type": "markdown",
   "id": "845fbd79-e2a7-40e5-a94b-c1d12d4ed34a",
   "metadata": {},
   "source": [
    "To access and run this tutorial within MAAP's Algorithm Development Environment (ADE), please refer to the [\"Getting started with the MAAP\"](https://docs.maap-project.org/en/latest/getting_started/getting_started.html) section of our documentation.\n",
    "\n",
    "Disclaimer: it is highly recommended to run a tutorial within MAAP’s ADE, which already includes packages specific to MAAP, such as maap-py. Running the tutorial outside of the MAAP ADE may lead to errors."
   ]
  },
  {
   "cell_type": "markdown",
   "id": "1af0ed03-89b7-4c28-afac-ee6c36db8194",
   "metadata": {},
   "source": [
    "## Additional Resources"
   ]
  },
  {
   "cell_type": "markdown",
   "id": "e9de672c-a511-4585-89c0-2603670fde08",
   "metadata": {},
   "source": [
    " - [Visualizing STAC Items](https://docs.maap-project.org/en/latest/technical_tutorials/visualizing.html)  \n",
    "  Official MAAP tutorial demonstrating how to visualize spatial footprints from STAC collections using different functions inside the ADE.\n",
    "\n",
    "- [MAAP STAC Spatial Coverage Example ](https://github.com/MAAP-Project/maap-documentation-examples/blob/main/stac_spatial_coverage/notebooks/plot_items.ipynb)  \n",
    "  A practical example from MAAP’s documentation repository showing how to retrieve and plot spatial items from a STAC catalog.\n"
   ]
  },
  {
   "cell_type": "markdown",
   "id": "ab3e8048-7087-496b-a5e0-202b399a77fe",
   "metadata": {},
   "source": [
    "## Install/Import Packages"
   ]
  },
  {
   "cell_type": "markdown",
   "id": "4f2a30d3-7d7b-4795-83b9-24b4b5684fec",
   "metadata": {},
   "source": [
    "Make sure the following libraries are installed before running the notebook:"
   ]
  },
  {
   "cell_type": "markdown",
   "id": "7f2c6bda-bd8a-4424-83f7-a6b7d2f983fc",
   "metadata": {},
   "source": [
    "`!pip install lonboard pyogrio`\n"
   ]
  },
  {
   "cell_type": "code",
   "execution_count": null,
   "id": "8fa34b1b-4a2c-4af6-ad92-1cde1f7a940b",
   "metadata": {},
   "outputs": [],
   "source": [
    "import geopandas as gpd\n",
    "import matplotlib as mpl\n",
    "from lonboard import ScatterplotLayer, Map\n",
    "from lonboard.colormap import apply_continuous_cmap\n",
    "from shapely.geometry import Point\n",
    "import pandas as pd\n",
    "from pystac_client import Client\n",
    "# import the MAAP package to handle queries\n",
    "from maap.maap import MAAP\n",
    "\n",
    "# import printing package to help display outputs\n",
    "from pprint import pprint\n",
    "import boto3"
   ]
  },
  {
   "cell_type": "code",
   "execution_count": null,
   "id": "e42bec60-71d2-4d84-95b1-6e798894a78b",
   "metadata": {},
   "outputs": [],
   "source": []
  },
  {
   "cell_type": "code",
   "execution_count": null,
   "id": "55858ed3-2ccd-467d-b2bd-eb3bd453a46d",
   "metadata": {},
   "outputs": [],
   "source": []
  },
  {
   "cell_type": "code",
   "execution_count": 23,
   "id": "ff575c98-9ae0-42d2-adbf-0c99fc0acd5f",
   "metadata": {},
   "outputs": [
    {
     "name": "stdout",
     "output_type": "stream",
     "text": [
      "Requirement already satisfied: pystac-client in /opt/conda/envs/python/lib/python3.12/site-packages (0.6.1)\n",
      "Requirement already satisfied: requests>=2.27.1 in /opt/conda/envs/python/lib/python3.12/site-packages (from pystac-client) (2.32.3)\n",
      "Requirement already satisfied: pystac>=1.7.0 in /opt/conda/envs/python/lib/python3.12/site-packages (from pystac-client) (1.12.1)\n",
      "Requirement already satisfied: python-dateutil>=2.7.0 in /opt/conda/envs/python/lib/python3.12/site-packages (from pystac-client) (2.9.0)\n",
      "Requirement already satisfied: six>=1.5 in /opt/conda/envs/python/lib/python3.12/site-packages (from python-dateutil>=2.7.0->pystac-client) (1.17.0)\n",
      "Requirement already satisfied: charset_normalizer<4,>=2 in /opt/conda/envs/python/lib/python3.12/site-packages (from requests>=2.27.1->pystac-client) (3.4.1)\n",
      "Requirement already satisfied: idna<4,>=2.5 in /opt/conda/envs/python/lib/python3.12/site-packages (from requests>=2.27.1->pystac-client) (3.10)\n",
      "Requirement already satisfied: urllib3<3,>=1.21.1 in /opt/conda/envs/python/lib/python3.12/site-packages (from requests>=2.27.1->pystac-client) (1.26.19)\n",
      "Requirement already satisfied: certifi>=2017.4.17 in /opt/conda/envs/python/lib/python3.12/site-packages (from requests>=2.27.1->pystac-client) (2025.1.31)\n",
      "\u001b[33mWARNING: Running pip as the 'root' user can result in broken permissions and conflicting behaviour with the system package manager, possibly rendering your system unusable.It is recommended to use a virtual environment instead: https://pip.pypa.io/warnings/venv. Use the --root-user-action option if you know what you are doing and want to suppress this warning.\u001b[0m\u001b[33m\n",
      "\u001b[0m"
     ]
    }
   ],
   "source": [
    "!pip install pystac-client\n"
   ]
  },
  {
   "cell_type": "markdown",
   "id": "10edd7aa-ca6e-4a20-87fc-ae876f3afe67",
   "metadata": {},
   "source": [
    "## Initializing the MAAP STAC Endpoint"
   ]
  },
  {
   "cell_type": "markdown",
   "id": "bdfcba9a-1f12-4489-8dcc-73604eee8b8c",
   "metadata": {},
   "source": [
    "Before beginning, we’ll form a connection to the MAAP STAC endpoint to set up"
   ]
  },
  {
   "cell_type": "code",
   "execution_count": null,
   "id": "2f2585bf-caae-49e0-baa9-b544307f754b",
   "metadata": {},
   "outputs": [],
   "source": [
    "maap = MAAP()\n",
    "stac_endpoint = \"https://stac.maap-project.org\"\n",
    "catalog = Client.open(stac_endpoint)\n"
   ]
  },
  {
   "cell_type": "markdown",
   "id": "7d7391ac-8098-438f-8ab1-98275e0934a3",
   "metadata": {},
   "source": [
    "## Retrieving the Data\n"
   ]
  },
  {
   "cell_type": "markdown",
   "id": "be046e6e-d7d5-4f08-9980-3f2e7c3dc1ab",
   "metadata": {},
   "source": [
    "This code fetches and displays collections from a STAC endpoint. This code fetches and displays collections. It extracts id and title for each collection for further exploration or querying."
   ]
  },
  {
   "cell_type": "code",
   "execution_count": 25,
   "id": "4b4e4c90-f695-4923-ad8d-fdc99f3a89ec",
   "metadata": {},
   "outputs": [
    {
     "name": "stdout",
     "output_type": "stream",
     "text": [
      "Collection ID: ABoVE_UAVSAR_PALSAR\n",
      "Title: Arctic-Boreal Vulnerability Experiment Uninhabited Aerial Vehicle Synthetic Aperture Radar Polarimetric SAR\n",
      "\n",
      "Collection ID: AFRISAR_DLR\n",
      "Title: AFRISAR_DLR\n",
      "\n",
      "Collection ID: AFRISAR_DLR2\n",
      "Title: AFRISAR_DLR2\n",
      "\n",
      "Collection ID: AfriSAR_UAVSAR_Coreg_SLC\n",
      "Title: AfriSAR UAVSAR Coregistered SLCs Generated Using NISAR Tools\n",
      "\n",
      "Collection ID: AfriSAR_UAVSAR_Geocoded_Covariance\n",
      "Title: AfriSAR UAVSAR Geocoded Covariance Matrix product Generated Using NISAR Tools\n",
      "\n",
      "Collection ID: AfriSAR_UAVSAR_Geocoded_SLC\n",
      "Title: AfriSAR UAVSAR Geocoded SLCs Generated Using NISAR Tools\n",
      "\n",
      "Collection ID: AfriSAR_UAVSAR_KZ\n",
      "Title: AfriSAR UAVSAR Vertical Wavenumber (KZ) Generated Using NISAR Tools\n",
      "\n",
      "Collection ID: AfriSAR_UAVSAR_Normalization_Area\n",
      "Title: AfriSAR UAVSAR Normalization Area Generated Using NISAR Tools\n",
      "\n",
      "Collection ID: AfriSAR_UAVSAR_Ungeocoded_Covariance\n",
      "Title: AfriSAR UAVSAR Ungeocoded Covariance Matrix product Generated Using NISAR Tools\n",
      "\n",
      "Collection ID: BIOSAR1\n",
      "Title: BIOSAR1\n",
      "\n",
      "Collection ID: ESACCI_Biomass_L4_AGB_V4_100m\n",
      "Title: ESA CCI Above-Ground Biomass Product Level 4 Version 4\n",
      "\n",
      "Collection ID: GEDI_CalVal_Field_Data\n",
      "Title: Global Ecosystem Dynamics Investigation (GEDI) Calibration/Validation Field Survey Dataset\n",
      "\n",
      "Collection ID: GEDI_CalVal_Lidar_COPC\n",
      "Title: GEDI CalVal Lidar COPC\n",
      "\n",
      "Collection ID: GEDI_CalVal_Lidar_Data\n",
      "Title: Global Ecosystem Dynamics Investigation (GEDI) Calibration/Validation Airborne Lidar Dataset\n",
      "\n",
      "Collection ID: GEDI_CalVal_Lidar_Data_Compressed\n",
      "Title: Global Ecosystem Dynamics Investigation (GEDI) Calibration/Validation Airborne Lidar Dataset (Compressed)\n",
      "\n",
      "Collection ID: glad-glclu2020-change-v2\n",
      "Title: GLAD: Net change of land cover and land use between 2000 and 2020\n",
      "\n",
      "Collection ID: glad-glclu2020-v2\n",
      "Title: GLAD: Annual maps of land cover and land use\n",
      "\n",
      "Collection ID: glad-global-forest-change-1.11\n",
      "Title: GLAD: Global Forest Change 2000-2023 v1.11\n",
      "\n",
      "Collection ID: Global_Forest_Change_2000-2017\n",
      "Title: Global Forest Change 2000-2017\n",
      "\n",
      "Collection ID: global-mangrove-watch-3.0\n",
      "Title: Global Mangrove Watch (1996 - 2020) Version 3.0 Dataset\n",
      "\n",
      "Collection ID: Global_PALSAR2_PALSAR_FNF\n",
      "Title: Global 25m Resolution PALSAR-2/PALSAR Forest/Non-Forest Map\n",
      "\n",
      "Collection ID: GlobCover_05_06\n",
      "Title: GlobCover Global Land Cover Product (2005-06)\n",
      "\n",
      "Collection ID: GlobCover_09\n",
      "Title: GlobCover Global Land Cover Product (2009)\n",
      "\n",
      "Collection ID: icesat2-boreal\n",
      "Title: Gridded Boreal Aboveground Biomass Density c.2020 at 30m resolution\n",
      "\n",
      "Collection ID: ICESat2_Boreal_AGB_tindex_average\n",
      "Title: ICESat2-Boreal Above Ground Biomass T-Index Average\n",
      "\n",
      "Collection ID: icesat2-boreal-v2.1-agb\n",
      "Title: Icesat2 Boreal v2.1: Gridded Aboveground Biomass Density\n",
      "\n",
      "Collection ID: icesat2-boreal-v2.1-ht\n",
      "Title: Icesat2 Boreal v2.1: Vegetation Height\n",
      "\n",
      "Collection ID: Landsat8_SurfaceReflectance\n",
      "Title: Landsat 8 Operational Land Imager (OLI) Surface Reflectance Analysis Ready Data (ARD) V1, Peru and Equatorial Western Africa, April 2013-January 2020\n",
      "\n",
      "Collection ID: NCEO_Africa_AGB_100m_2017\n",
      "Title: National Centre for Eath Oberservation (NCEO) Africa Aboveground Woody Biomass (AGB) 2017\n",
      "\n",
      "Collection ID: nisar-sim\n",
      "Title: Simulated NISAR\n",
      "\n",
      "Collection ID: Paraguay_Country_Pilot\n",
      "Title: Paraguay Country Pilot\n",
      "\n",
      "Collection ID: SRTMGL1_COD\n",
      "Title: NASA Shuttle Radar Topography Mission Global 1\n",
      "\n"
     ]
    }
   ],
   "source": [
    "# Fetch all collections\n",
    "collections = list(catalog.get_collections())\n",
    "if collections:\n",
    "    for col in collections:\n",
    "        print(f\"Collection ID: {col.id}\")\n",
    "        print(f\"Title: {col.title}\\n\")\n",
    "else:\n",
    "    print(\"No collections found or error retrieving collections.\")\n"
   ]
  },
  {
   "cell_type": "markdown",
   "id": "85dee612-c6f1-4eee-b986-64a5d6040d37",
   "metadata": {},
   "source": [
    "In this notebook we use data set with collection with ID `GEDI_CalVal_Field_Data`, which contains GEDI calibration/validation field data. For each item, it extracts and stores the download URLs of all associated assets. "
   ]
  },
  {
   "cell_type": "code",
   "execution_count": 50,
   "id": "26adf510-837a-4a76-9d9c-f72281f7954b",
   "metadata": {},
   "outputs": [
    {
     "name": "stdout",
     "output_type": "stream",
     "text": [
      "Item ID: gedicalval_treedata_usa_neonyell_20200924_r03\n",
      "HREF: s3://nasa-maap-data-store/file-staging/nasa-map/GEDI_CalVal_Field_Data___2/gedicalval_treedata_usa_neonyell_20200924_r03.csv\n",
      "Item ID: gedicalval_plotdata_usa_neonyell_20200924_r03\n",
      "HREF: s3://nasa-maap-data-store/file-staging/nasa-map/GEDI_CalVal_Field_Data___2/gedicalval_plotdata_usa_neonyell_20200924_r03.csv\n",
      "Item ID: gedicalval_treedata_usa_neonpuum_20200924_r03\n",
      "HREF: s3://nasa-maap-data-store/file-staging/nasa-map/GEDI_CalVal_Field_Data___2/gedicalval_treedata_usa_neonpuum_20200924_r03.csv\n",
      "Item ID: gedicalval_plotdata_usa_neonpuum_20200924_r03\n",
      "HREF: s3://nasa-maap-data-store/file-staging/nasa-map/GEDI_CalVal_Field_Data___2/gedicalval_plotdata_usa_neonpuum_20200924_r03.csv\n",
      "Item ID: gedicalval_treedata_usa_neonwref_20200924_r03\n",
      "HREF: s3://nasa-maap-data-store/file-staging/nasa-map/GEDI_CalVal_Field_Data___2/gedicalval_treedata_usa_neonwref_20200924_r03.csv\n"
     ]
    }
   ],
   "source": [
    "collection_id = \"GEDI_CalVal_Field_Data\"\n",
    "\n",
    "search = catalog.search(collections=[collection_id], max_items=5)\n",
    "items = list(search.items())\n",
    "asset_data = []\n",
    "for item in items:\n",
    "    for key, asset in item.assets.items():\n",
    "        asset_data.append({\n",
    "            \"Item ID\": item.id,\n",
    "            \"HREF\": asset.href\n",
    "        })\n",
    "for entry in asset_data[:limit]:\n",
    "    print(f\"Item ID: {entry['Item ID']}\")\n",
    "    print(f\"HREF: {entry['HREF']}\")"
   ]
  },
  {
   "cell_type": "markdown",
   "id": "e2d11c30-5bfb-4c21-8b48-fbe3aac85c54",
   "metadata": {},
   "source": [
    "This code initializes an S3 client to interact with NASA MAAP's cloud storage. Here the file is saved locally using the item's ID as the filename."
   ]
  },
  {
   "cell_type": "code",
   "execution_count": 31,
   "id": "9e4ceb98-e74f-48f2-8851-1349d6ed4b11",
   "metadata": {},
   "outputs": [
    {
     "name": "stdout",
     "output_type": "stream",
     "text": [
      "Downloaded: gedicalval_treedata_usa_neonyell_20200924_r03.csv\n"
     ]
    }
   ],
   "source": [
    "s3 = boto3.client('s3')\n",
    "first_asset = asset_data[0]\n",
    "s3_href = first_asset[\"HREF\"]\n",
    "bucket = \"nasa-maap-data-store\"\n",
    "key = s3_href.split(\"s3://nasa-maap-data-store/\")[1]\n",
    "filename = f\"{first_asset['Item ID']}.csv\"\n",
    "\n",
    "# Download the file\n",
    "s3.download_file(bucket, key, filename)\n",
    "print(f\"Downloaded: {filename}\")\n"
   ]
  },
  {
   "cell_type": "markdown",
   "id": "f63a7a5b-1c07-49a3-a121-ff9267ade526",
   "metadata": {},
   "source": [
    "## Load Data"
   ]
  },
  {
   "cell_type": "markdown",
   "id": "a0c9ae4e-8008-44d1-8539-60b9de292128",
   "metadata": {},
   "source": [
    "Here the file is loaded into a pandas DataFrame named `df`. Each row in the CSV corresponds to a record (, and columns represent associated attributes."
   ]
  },
  {
   "cell_type": "code",
   "execution_count": 51,
   "id": "412a81ae-3e04-4f77-84f0-6e1768bf5405",
   "metadata": {},
   "outputs": [],
   "source": [
    "csv_path = \"gedicalval_treedata_usa_neonyell_20200924_r03.csv\"\n",
    "df = pd.read_csv(csv_path)\n"
   ]
  },
  {
   "cell_type": "markdown",
   "id": "370620e4-b9ea-4c50-80ec-ecfbd710c63c",
   "metadata": {},
   "source": [
    "This step converts the `longitude` and `latitude` columns into spatial Point objects and wraps them in a GeoDataFrame (gdf)."
   ]
  },
  {
   "cell_type": "code",
   "execution_count": 52,
   "id": "4f68fb2d-9653-45b0-83c5-64e33b914ef7",
   "metadata": {},
   "outputs": [],
   "source": [
    "geometry = [Point(xy) for xy in zip(df['longitude'], df['latitude'])]\n",
    "gdf = gpd.GeoDataFrame(df, geometry=geometry, crs=\"EPSG:4326\")\n"
   ]
  },
  {
   "cell_type": "markdown",
   "id": "c306105c-f929-44c9-88c5-4a8fe736f839",
   "metadata": {},
   "source": [
    "## Create and Display the Map"
   ]
  },
  {
   "cell_type": "markdown",
   "id": "7a92019f-85e7-4bce-aaa0-6a8ab371a708",
   "metadata": {},
   "source": [
    "This step creates a `ScatterplotLayer`from the GeoDataFrame `gdf` and adds it to a Lonboard Map. The interactive map is rendered in the notebook, displaying all spatial points from your data."
   ]
  },
  {
   "cell_type": "code",
   "execution_count": 89,
   "id": "52e229c8-e752-4231-91b5-c45f4932aab9",
   "metadata": {},
   "outputs": [
    {
     "data": {
      "application/vnd.jupyter.widget-view+json": {
       "model_id": "dc45c884b5e84c91b2600bc41a99fb24",
       "version_major": 2,
       "version_minor": 1
      },
      "text/plain": [
       "Map(layers=[ScatterplotLayer(get_fill_color=[0, 255, 0], radius_min_pixels=4.0, table=pyarrow.Table\n",
       "project: s…"
      ]
     },
     "execution_count": 89,
     "metadata": {},
     "output_type": "execute_result"
    }
   ],
   "source": [
    "layer = ScatterplotLayer.from_geopandas(gdf)\n",
    "layer.get_fill_color = [0, 255, 0]\n",
    "layer.radius_min_pixels = 4\n",
    "m = Map(layers=[layer])\n",
    "m\n"
   ]
  },
  {
   "cell_type": "markdown",
   "id": "a5c34c48-2e1a-4985-87ea-203460d0b9a1",
   "metadata": {},
   "source": [
    "## Apply Color Styling Based on Biomass "
   ]
  },
  {
   "cell_type": "code",
   "execution_count": null,
   "id": "ad4f2dea-3ee5-4ec0-9e07-acb6cd315315",
   "metadata": {},
   "outputs": [],
   "source": []
  },
  {
   "cell_type": "code",
   "execution_count": 38,
   "id": "164600d1-86ff-4887-a214-5a8c183a3eb5",
   "metadata": {},
   "outputs": [
    {
     "name": "stdout",
     "output_type": "stream",
     "text": [
      "Index(['project', 'plot', 'subplot', 'survey', 'private', 'date', 'region',\n",
      "       'vegetation', 'map', 'mat', 'pft.modis', 'pft.name', 'wwf.ecoregion',\n",
      "       'latitude', 'longitude', 'p.sample', 'p.stemmap', 'p.origin',\n",
      "       'p.orientation', 'p.shape', 'p.majoraxis', 'p.minoraxis', 'p.geom',\n",
      "       'p.epsg', 'p.area', 'p.mindiam', 'sp.geom', 'sp.ix', 'sp.iy',\n",
      "       'sp.shape', 'sp.area', 'sp.mindiam', 'pai', 'lai', 'cover', 'dft',\n",
      "       'agb', 'agb.valid', 'agb.lower', 'agb.upper', 'agbd.ha',\n",
      "       'agbd.ha.lower', 'agbd.ha.upper', 'sn', 'snd.ha', 'sba', 'sba.ha',\n",
      "       'swsg.ba', 'h.t.max', 'sp.agb', 'sp.agb.valid', 'sp.agbd.ha',\n",
      "       'sp.agbd.ha.lower', 'sp.agbd.ha.upper', 'sp.sba.ha', 'sp.swsg.ba',\n",
      "       'sp.h.t.max', 'l.project', 'l.instr', 'l.epsg', 'l.date', 'g.fp',\n",
      "       'tree.date', 'family', 'species', 'pft', 'wsg', 'wsg.sd', 'tree',\n",
      "       'stem', 'x', 'y', 'z', 'status', 'allom.key', 'a.stem', 'h.t',\n",
      "       'h.t.mod', 'd.stem', 'd.stem.valid', 'd.ht', 'c.w', 'm.agb',\n",
      "       'sp.majoraxis', 'sp.minoraxis', 'geometry'],\n",
      "      dtype='object')\n"
     ]
    }
   ],
   "source": [
    "print(gdf.columns)\n"
   ]
  },
  {
   "cell_type": "markdown",
   "id": "5960877c-bdfe-40da-a535-375e9bdd6ad4",
   "metadata": {},
   "source": [
    "This sets the color scale range by extracting the 10th and 90th percentile values of`m.agb`, helping to reduce the influence of outliers and highlight meaningful variation in the data."
   ]
  },
  {
   "cell_type": "code",
   "execution_count": 77,
   "id": "eb49e8c8-fc17-4f2f-af3b-42add85abe6c",
   "metadata": {},
   "outputs": [],
   "source": [
    "q10 = gdf['m.agb'].quantile(0.1)\n",
    "q90 = gdf['m.agb'].quantile(0.9)"
   ]
  },
  {
   "cell_type": "markdown",
   "id": "dc17308f-8344-4ec5-9800-840b5c26d3e0",
   "metadata": {},
   "source": [
    "The values of `m.abg` are scaled between 0 and 1 using `Normalize`, so they can be directly mapped onto a colormap. A reversed Viridis colormap is applied to the normalized data, generating RGB values for each point."
   ]
  },
  {
   "cell_type": "code",
   "execution_count": 88,
   "id": "de90a725-79e9-4e8f-b82a-e778ecf31f01",
   "metadata": {},
   "outputs": [
    {
     "data": {
      "application/vnd.jupyter.widget-view+json": {
       "model_id": "799b03c1558a4f1e9b813fa96fab4f1e",
       "version_major": 2,
       "version_minor": 1
      },
      "text/plain": [
       "Map(layers=[ScatterplotLayer(get_fill_color=<pyarrow.lib.FixedSizeListArray object at 0x7f4aac604dc0>\n",
       "[\n",
       "  [\n",
       "  …"
      ]
     },
     "execution_count": 88,
     "metadata": {},
     "output_type": "execute_result"
    }
   ],
   "source": [
    "normalizer = mpl.colors.Normalize(q10, q90)\n",
    "normalized_agb = normalizer(gdf['m.agb'])\n",
    "\n",
    "viridis_colormap = mpl.colormaps[\"viridis_r\"]\n",
    "layer = ScatterplotLayer.from_geopandas(gdf)\n",
    "layer.get_fill_color = viridis_colormap(normalized_agb, bytes=True)\n",
    "layer.radius_min_pixels = 6\n",
    "\n",
    "m2 = Map(layers=[layer])\n",
    "m2\n"
   ]
  }
 ],
 "metadata": {
  "kernelspec": {
   "display_name": "Python 3 (ipykernel)",
   "language": "python",
   "name": "python3"
  },
  "language_info": {
   "codemirror_mode": {
    "name": "ipython",
    "version": 3
   },
   "file_extension": ".py",
   "mimetype": "text/x-python",
   "name": "python",
   "nbconvert_exporter": "python",
   "pygments_lexer": "ipython3",
   "version": "3.12.7"
  }
 },
 "nbformat": 4,
 "nbformat_minor": 5
}
