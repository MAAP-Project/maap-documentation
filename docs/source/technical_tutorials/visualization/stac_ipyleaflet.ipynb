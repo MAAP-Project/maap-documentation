{
 "cells": [
  {
   "attachments": {},
   "cell_type": "markdown",
   "metadata": {},
   "source": [
    "## Visualizing STAC Data Layers using stac_ipyleaflet (beta)"
   ]
  },
  {
   "attachments": {},
   "cell_type": "markdown",
   "metadata": {},
   "source": [
    "This project - **stac_ipyleafet** - leverages the [ipyleaflet](https://pypi.org/project/ipyleaflet/) mapping library and is intended to reduce the code needed to visualize data from the [MAAP STAC](../search/searching_the_stac_catalog.ipynb). The beta version supports Cloud-Optimized GeoTIFFs (COGs).\n",
    "\n",
    "\n",
    "Currently, this package works within [this Algorithm Development Environment](https://ade.maap-project.org/)."
   ]
  },
  {
   "attachments": {},
   "cell_type": "markdown",
   "metadata": {},
   "source": [
    "### Package Import\n",
    "1. Open a new **PANGEO workspace**\n",
    "\n",
    "![ade workspace](../../_static/stac_ipyleaflet_workspace.png)\n",
    "\n",
    "2. Create a **Notebook**\n",
    "\n",
    "\n",
    "3. Within the first cell, **Import** the package and **create a map instance** - ```m```\n",
    "\n",
    "```\n",
    "    import stac_ipyleaflet\n",
    "    m = stac_ipyleaflet.StacIpyleaflet()\n",
    "    m\n",
    "```"
   ]
  },
  {
   "attachments": {},
   "cell_type": "markdown",
   "metadata": {},
   "source": [
    "![stac_ipyleaflet mapview](../../_static/stac_ipyleaflet_main.png)\n",
    "\n",
    "The **stac ipyleaflet** notebook's user interface consists of a map and a custom set of tools to aid in the discovery and visualization of STAC datasets, along with Biomass Layers and pre-determined Basemaps.\n",
    "\n",
    "\n",
    "***"
   ]
  },
  {
   "attachments": {},
   "cell_type": "markdown",
   "metadata": {},
   "source": [
    "### Map Navigation\n",
    "\n",
    "#### To move the map\n",
    "- press and hold a mouse-click, then drag the map\n",
    "\n",
    "#### To adjust the map's scale (zoom extent) - use 1 of 4 methods:\n",
    "- click the Zoom In / Out buttons in the top left-corner (this will maintain the center)\n",
    "- use your mouse's scroll-wheel - hovering over an area of interest\n",
    "- double-click within the map on an area of interest\n",
    "- while pressing the `shift` key on your keyboard, press and hold a mouse-click, then drag to draw a rectangle around the area of interest\n",
    "\n",
    "***"
   ]
  },
  {
   "attachments": {},
   "cell_type": "markdown",
   "metadata": {},
   "source": [
    "### Layers Tool\n",
    "\n",
    "Pressing the Layers button at the top opens the **Layers widget** that consists of 2 tabs. This tool currently allows users to:\n",
    "- View one or more **[Biomass Layers](https://www.earthdata.nasa.gov/maap-biomass/)** at the same time to see different combinations.\n",
    "- Choose between common **Basemap Layers** that are known favorites.\n",
    "- Have full control over the **opacity** of any layer or basemap for fine-tuning how the map looks.\n",
    "\n",
    "#### The Layers Tab\n",
    "- Toggle each layer's visibility by using its checkbox\n",
    "- Adjust each layer's opacity by moving its slider\n",
    "\n",
    "![stac_ipyleaflet layers widget](../../_static/stac_ipyleaflet_layers.png)\n",
    "\n",
    "#### The Basemaps Tab\n",
    "- Select a basemap from the dropdown\n",
    "- Adjust the basemap's opacity by moving its slider\n",
    "\n",
    "![stac_ipyleaflet basemap widget](../../_static/stac_ipyleaflet_basemaps.png)\n",
    "\n",
    "***"
   ]
  },
  {
   "attachments": {},
   "cell_type": "markdown",
   "metadata": {},
   "source": [
    "### STAC Discovery Tool\n",
    "Pressing the STAC Data button at the top opens the **STAC widget** that consists of 2 tabs. This tool currently allows users to:\n",
    "- **Connect** to the [MAAP STAC](https://stac-browser.maap-project.org) to access collections of mission data.\n",
    "- **Discover** items per the selected collection, including description, available dates, & direct URL.\n",
    "- **Identify** valid COG datasets.\n",
    "- **Add COG tiles** dynamically to the map.\n",
    "- **Customize** the tiles by changing the selected color palette for the selected item.\n",
    "\n",
    "\n",
    "#### The Catalog Data Discovery Tab\n",
    "- Select a Collection within the default STAC library.\n",
    "\n",
    "![stac_ipyleaflet stac widget](../../_static/stac_ipyleaflet_stac.png)\n",
    "\n",
    "- Browse through the Collection's details.\n",
    "\n",
    "![stac_ipyleaflet details](../../_static/stac_ipyleaflet_details.png)\n",
    "\n",
    "- Select an item from the collection to check if it is a valid COG. If it is, the Display button will become active (available) to add the selected item to the map. The displayed STAC layer's opacity can be adjusted by moving its slider.\n",
    "\n",
    "![stac_ipyleaflet items](../../_static/stac_ipyleaflet_items.png)\n",
    "\n",
    "\n",
    "#### The Visualization Tab\n",
    "- Select a category from the dropdown.\n",
    "- Select an item from the corresponding color palettes.\n",
    "- Press the Display button to update the data on the map.\n",
    "\n",
    "![stac_ipyleaflet color palettes](../../_static/stac_ipyleaflet_colors.png)\n",
    "\n",
    "***"
   ]
  },
  {
   "attachments": {},
   "cell_type": "markdown",
   "metadata": {},
   "source": [
    "### Interact with the Map\n",
    "\n",
    "1. **Activate the Interact Tools** (click on the top _Interact_ button)\n",
    "2. From within the `Point` tab: **Use your mouse** to activate the Point tool; then click on the map at a location of interest\n",
    "    - **Coordinates** will be printed within the open tab\n",
    "    - **Raster cell values** will be identified and printed, if raster layers are on\n",
    "3. From within the `Area` tab: **Use your mouse** to activate the Polygon tool; then click, hold and draw a polygon over the map - releasing to finish\n",
    "    - The area of interest's **Coordinates & BBox** within the open tab\n",
    "    - Alternatively **Print** the area of interest's bbox from within a cell:    \n",
    "    ![stac_ipyleaflet aoi bbox](../../_static/stac_ipyleaflet_bbox.png)\n",
    "4. **Clear** the point or polygon graphics as needed\n"
   ]
  },
  {
   "attachments": {},
   "cell_type": "markdown",
   "metadata": {},
   "source": [
    "### Package Install (outside of a Pangeo)\n",
    "\n",
    "> NOTE: This has only been tested in the **MAAP Basic Stable** environment.\n",
    "\n",
    "#### To install the `stac_ipyleaflet` package:\n",
    "1. Open a new Terminal\n",
    "![new Terminal](../../_static/stac_ipyleaflet_terminal.png)\n",
    "\n",
    "\n",
    "\n",
    "2. Copy, paste and RUN the following statement:\n",
    "\n",
    "`pip install git+https://github.com/MAAP-Project/stac_ipyleaflet.git#egg-info=stac_ipyleaflet`\n",
    "\n",
    "\n",
    "#### A successful installation will end in the following:\n",
    "```\n",
    "    Successfully built stac-ipyleaflet\n",
    "    Installing collected packages: stac-ipyleaflet\n",
    "    Successfully installed stac-ipyleaflet-0.2.0\n",
    "```"
   ]
  }
 ],
 "metadata": {
  "kernelspec": {
   "display_name": "Python 3 (ipykernel)",
   "language": "python",
   "name": "python3"
  },
  "language_info": {
   "codemirror_mode": {
    "name": "ipython",
    "version": 3
   },
   "file_extension": ".py",
   "mimetype": "text/x-python",
   "name": "python",
   "nbconvert_exporter": "python",
   "pygments_lexer": "ipython3",
   "version": "3.7.8"
  }
 },
 "nbformat": 4,
 "nbformat_minor": 4
}
