{
 "cells": [
  {
   "cell_type": "markdown",
   "id": "73e3b144",
   "metadata": {},
   "source": [
    "# Interval Color Mapping"
   ]
  },
  {
   "cell_type": "markdown",
   "id": "43833bad",
   "metadata": {},
   "source": [
    "Author(s): Aimee Barciauskas (DevSeed) \n",
    "\n",
    "Date: March 3, 2023 \n",
    "\n",
    "Description: In this tutorial, we will pull from a SpatioTemporal Asset Catalog (STAC) collection containing cloud optimized geotiffs (COG) to create a colormap using CSS RGBA values with the COG's data values. We will then use the custom colormap to visualize the Global Aboveground Biomass (AGB) density estimates."
   ]
  },
  {
   "cell_type": "markdown",
   "id": "44d71780",
   "metadata": {},
   "source": [
    "## Run This Notebook \n",
    "To access and run this tutorial within MAAP's Algorithm Development Environment (ADE), please refer to the \"Getting started with the MAAP\" section of our documentation. \n",
    "\n",
    "Disclaimer: it is highly recommended to run a tutorial within MAAP's ADE, which already includes packages specific to MAAP, such as maap-py. Running the tutorial outside of the MAAP ADE may lead to errors."
   ]
  },
  {
   "cell_type": "markdown",
   "id": "4bef439d",
   "metadata": {},
   "source": [
    "## Additional Resources \n",
    "- [Cloud Native Geoguide](https://guide.cloudnativegeo.org/)\n",
    "- [Examples of Working with COGs](https://guide.cloudnativegeo.org/cloud-optimized-geotiffs/cogs-examples.html)\n",
    "- [Predefined Color Maps](https://matplotlib.org/3.1.0/tutorials/colors/colormaps.html)\n",
    "- [CSS RGBA Colors](https://www.w3schools.com/css/css3_colors.asp)\n",
    "- [Using Python Zip Function](https://www.w3schools.com/python/ref_func_zip.asp)\n"
   ]
  },
  {
   "cell_type": "markdown",
   "id": "e90131a3",
   "metadata": {},
   "source": [
    "## Importing and Installing Packages \n",
    "We will begin by installing any packages we need and importing the packages that we will use."
   ]
  },
  {
   "cell_type": "markdown",
   "id": "84490d5a",
   "metadata": {},
   "source": [
    "Prerequisites\n",
    "\n",
    "- branca\n",
    "- folium"
   ]
  },
  {
   "cell_type": "code",
   "execution_count": null,
   "id": "2aba587e",
   "metadata": {
    "tags": []
   },
   "outputs": [],
   "source": [
    "# %pip install folium\n",
    "# %pip install branca"
   ]
  },
  {
   "cell_type": "code",
   "execution_count": 7,
   "id": "3be010a7",
   "metadata": {
    "tags": []
   },
   "outputs": [],
   "source": [
    "import branca\n",
    "from folium import Map, TileLayer\n",
    "import json\n",
    "from matplotlib import cm\n",
    "import requests"
   ]
  },
  {
   "cell_type": "markdown",
   "id": "6b054ec0",
   "metadata": {},
   "source": [
    "## Discover Data from STAC"
   ]
  },
  {
   "cell_type": "code",
   "execution_count": 8,
   "id": "b438e63d",
   "metadata": {
    "tags": []
   },
   "outputs": [],
   "source": [
    "titiler_endpoint = \"https://titiler-pgstac.maap-project.org\"\n",
    "collection = \"NCEO_Africa_AGB_100m_2017\"\n",
    "item = \"map_2017v0m_COG\"\n",
    "asset = \"biomass\"\n"
   ]
  },
  {
   "cell_type": "markdown",
   "id": "0ba557f6",
   "metadata": {},
   "source": [
    "## Get Data Values Using `/statistics` Endpoint"
   ]
  },
  {
   "cell_type": "code",
   "execution_count": 10,
   "id": "cdea833f",
   "metadata": {
    "tags": []
   },
   "outputs": [],
   "source": [
    "# You can use gdalinfo /vsis3/nasa-maap-data-store/file-staging/nasa-map/NASA_JPL_global_agb_mean_2020/global_008_06dc_agb_mean_prediction_2020_mosaic_veg_gfccorr_scale1_SAmerica_cog.tif -stats\n",
    "# or you can get metadata from titiler.\n",
    "stats_response = requests.get(\n",
    "    f\"{titiler_endpoint}/collections/{collection}/items/{item}/statistics\",\n",
    "    params={\"assets\": asset},\n",
    ").json()"
   ]
  },
  {
   "cell_type": "code",
   "execution_count": 11,
   "id": "2e4ceed4",
   "metadata": {
    "tags": []
   },
   "outputs": [
    {
     "data": {
      "text/plain": [
       "[[0.0, 42.9],\n",
       " [42.9, 85.8],\n",
       " [85.8, 128.7],\n",
       " [128.7, 171.6],\n",
       " [171.6, 214.5],\n",
       " [214.5, 257.4],\n",
       " [257.4, 300.3],\n",
       " [300.3, 343.2],\n",
       " [343.2, 386.09999999999997],\n",
       " [386.09999999999997, 429.0]]"
      ]
     },
     "execution_count": 11,
     "metadata": {},
     "output_type": "execute_result"
    }
   ],
   "source": [
    "bins = stats_response['biomass_b1']['histogram'][1]\n",
    "bin_ranges = [[bins[i], bins[i+1]] for i in range(len(bins)-1)]\n",
    "bin_ranges"
   ]
  },
  {
   "cell_type": "markdown",
   "id": "53910011",
   "metadata": {},
   "source": [
    "\n",
    "## Pick a Color Map and Create a Linear Mapping"
   ]
  },
  {
   "cell_type": "code",
   "execution_count": 12,
   "id": "d374b4fb",
   "metadata": {
    "tags": []
   },
   "outputs": [],
   "source": [
    "# There are many pre-defined colormaps supported by matplotlib.\n",
    "# Some are listed below but a complete list be found here: https://matplotlib.org/3.1.0/tutorials/colors/colormaps.html\n",
    "# You may define custom color maps, but using the predefined ones makes life easier.\n",
    "sequential_cmaps = [\n",
    "    'Greys', 'Purples', 'Blues', 'Greens', 'Oranges', 'Reds',\n",
    "    'YlOrBr', 'YlOrRd', 'OrRd', 'PuRd', 'RdPu', 'BuPu',\n",
    "    'GnBu', 'PuBu', 'YlGnBu', 'PuBuGn', 'BuGn', 'YlGn'\n",
    "]\n",
    "\n",
    "sequential_cmaps2 = [\n",
    "    'binary', 'gist_yarg', 'gist_gray', 'gray', 'bone', 'pink',\n",
    "    'spring', 'summer', 'autumn', 'winter', 'cool', 'Wistia',\n",
    "    'hot', 'afmhot', 'gist_heat', 'copper']"
   ]
  },
  {
   "cell_type": "code",
   "execution_count": 13,
   "id": "488e280f",
   "metadata": {
    "tags": []
   },
   "outputs": [
    {
     "data": {
      "text/plain": [
       "[([0.0, 42.9], [0, 0, 0, 255]),\n",
       " ([42.9, 85.8], [18, 48, 119, 255]),\n",
       " ([85.8, 128.7], [37, 102, 124, 255]),\n",
       " ([128.7, 171.6], [54, 135, 111, 255]),\n",
       " ([171.6, 214.5], [67, 151, 77, 255]),\n",
       " ([214.5, 257.4], [123, 167, 82, 255]),\n",
       " ([257.4, 300.3], [169, 179, 91, 255]),\n",
       " ([300.3, 343.2], [191, 164, 100, 255]),\n",
       " ([343.2, 386.09999999999997], [221, 186, 167, 255]),\n",
       " ([386.09999999999997, 429.0], [253, 250, 250, 255])]"
      ]
     },
     "execution_count": 13,
     "metadata": {},
     "output_type": "execute_result"
    }
   ],
   "source": [
    "# Here we create a list of pairs, each pair containing a data value interval range (aka \"bin\")\n",
    "# with a color value in RGBA (see https://www.w3schools.com/css/css3_colors.asp)\n",
    "# First we create a list of colors\n",
    "rgbas = [[int(value) for value in rgb] for rgb in cm.ScalarMappable(cmap='gist_earth').to_rgba(x=bins[:-1], bytes=True)]\n",
    "# Then we use python's zip function to pair rgba values with data values (https://www.w3schools.com/python/ref_func_zip.asp)\n",
    "color_map = list(zip(bin_ranges, rgbas))\n",
    "# some tweaking may be necessary\n",
    "color_map"
   ]
  },
  {
   "cell_type": "code",
   "execution_count": 14,
   "id": "3140ca88",
   "metadata": {
    "tags": []
   },
   "outputs": [],
   "source": [
    "# Let's also create a legend using the RGBA values and bins so our map visualization can be interpreted!\n",
    "legend = branca.colormap.StepColormap(rgbas, index=bins, vmin=round(bins[0], 2), vmax=round(bins[-1], 2))"
   ]
  },
  {
   "cell_type": "markdown",
   "id": "9361c54a",
   "metadata": {},
   "source": [
    "## Preview the data"
   ]
  },
  {
   "cell_type": "code",
   "execution_count": 15,
   "id": "0883da90",
   "metadata": {},
   "outputs": [
    {
     "data": {
      "text/html": [
       "<div style=\"width:100%;\"><div style=\"position:relative;width:100%;height:0;padding-bottom:60%;\"><span style=\"color:#565656\">Make this Notebook Trusted to load map: File -> Trust Notebook</span><iframe srcdoc=\"&lt;!DOCTYPE html&gt;\n",
       "&lt;html&gt;\n",
       "&lt;head&gt;\n",
       "    \n",
       "    &lt;meta http-equiv=&quot;content-type&quot; content=&quot;text/html; charset=UTF-8&quot; /&gt;\n",
       "    \n",
       "        &lt;script&gt;\n",
       "            L_NO_TOUCH = false;\n",
       "            L_DISABLE_3D = false;\n",
       "        &lt;/script&gt;\n",
       "    \n",
       "    &lt;style&gt;html, body {width: 100%;height: 100%;margin: 0;padding: 0;}&lt;/style&gt;\n",
       "    &lt;style&gt;#map {position:absolute;top:0;bottom:0;right:0;left:0;}&lt;/style&gt;\n",
       "    &lt;script src=&quot;https://cdn.jsdelivr.net/npm/leaflet@1.9.3/dist/leaflet.js&quot;&gt;&lt;/script&gt;\n",
       "    &lt;script src=&quot;https://code.jquery.com/jquery-3.7.1.min.js&quot;&gt;&lt;/script&gt;\n",
       "    &lt;script src=&quot;https://cdn.jsdelivr.net/npm/bootstrap@5.2.2/dist/js/bootstrap.bundle.min.js&quot;&gt;&lt;/script&gt;\n",
       "    &lt;script src=&quot;https://cdnjs.cloudflare.com/ajax/libs/Leaflet.awesome-markers/2.0.2/leaflet.awesome-markers.js&quot;&gt;&lt;/script&gt;\n",
       "    &lt;link rel=&quot;stylesheet&quot; href=&quot;https://cdn.jsdelivr.net/npm/leaflet@1.9.3/dist/leaflet.css&quot;/&gt;\n",
       "    &lt;link rel=&quot;stylesheet&quot; href=&quot;https://cdn.jsdelivr.net/npm/bootstrap@5.2.2/dist/css/bootstrap.min.css&quot;/&gt;\n",
       "    &lt;link rel=&quot;stylesheet&quot; href=&quot;https://netdna.bootstrapcdn.com/bootstrap/3.0.0/css/bootstrap.min.css&quot;/&gt;\n",
       "    &lt;link rel=&quot;stylesheet&quot; href=&quot;https://cdn.jsdelivr.net/npm/@fortawesome/fontawesome-free@6.2.0/css/all.min.css&quot;/&gt;\n",
       "    &lt;link rel=&quot;stylesheet&quot; href=&quot;https://cdnjs.cloudflare.com/ajax/libs/Leaflet.awesome-markers/2.0.2/leaflet.awesome-markers.css&quot;/&gt;\n",
       "    &lt;link rel=&quot;stylesheet&quot; href=&quot;https://cdn.jsdelivr.net/gh/python-visualization/folium/folium/templates/leaflet.awesome.rotate.min.css&quot;/&gt;\n",
       "    \n",
       "            &lt;meta name=&quot;viewport&quot; content=&quot;width=device-width,\n",
       "                initial-scale=1.0, maximum-scale=1.0, user-scalable=no&quot; /&gt;\n",
       "            &lt;style&gt;\n",
       "                #map_786cb2fc20a41256456cc2d63136f39c {\n",
       "                    position: relative;\n",
       "                    width: 100.0%;\n",
       "                    height: 100.0%;\n",
       "                    left: 0.0%;\n",
       "                    top: 0.0%;\n",
       "                }\n",
       "                .leaflet-container { font-size: 1rem; }\n",
       "            &lt;/style&gt;\n",
       "        \n",
       "    &lt;script src=&quot;https://cdnjs.cloudflare.com/ajax/libs/d3/3.5.5/d3.min.js&quot;&gt;&lt;/script&gt;\n",
       "&lt;/head&gt;\n",
       "&lt;body&gt;\n",
       "    \n",
       "    \n",
       "            &lt;div class=&quot;folium-map&quot; id=&quot;map_786cb2fc20a41256456cc2d63136f39c&quot; &gt;&lt;/div&gt;\n",
       "        \n",
       "&lt;/body&gt;\n",
       "&lt;script&gt;\n",
       "    \n",
       "    \n",
       "            var map_786cb2fc20a41256456cc2d63136f39c = L.map(\n",
       "                &quot;map_786cb2fc20a41256456cc2d63136f39c&quot;,\n",
       "                {\n",
       "                    center: [1.3384897733381251, 16.795351709540633],\n",
       "                    crs: L.CRS.EPSG3857,\n",
       "                    zoom: 3,\n",
       "                    zoomControl: true,\n",
       "                    preferCanvas: false,\n",
       "                }\n",
       "            );\n",
       "\n",
       "            \n",
       "\n",
       "        \n",
       "    \n",
       "            var tile_layer_2f43e64996fdf2c82382f9a6a6714a22 = L.tileLayer(\n",
       "                &quot;https://tile.openstreetmap.org/{z}/{x}/{y}.png&quot;,\n",
       "                {&quot;attribution&quot;: &quot;\\u0026copy; \\u003ca href=\\&quot;https://www.openstreetmap.org/copyright\\&quot;\\u003eOpenStreetMap\\u003c/a\\u003e contributors&quot;, &quot;detectRetina&quot;: false, &quot;maxNativeZoom&quot;: 19, &quot;maxZoom&quot;: 19, &quot;minZoom&quot;: 0, &quot;noWrap&quot;: false, &quot;opacity&quot;: 1, &quot;subdomains&quot;: &quot;abc&quot;, &quot;tms&quot;: false}\n",
       "            );\n",
       "        \n",
       "    \n",
       "            tile_layer_2f43e64996fdf2c82382f9a6a6714a22.addTo(map_786cb2fc20a41256456cc2d63136f39c);\n",
       "        \n",
       "    \n",
       "            var tile_layer_114a5c8d178c840489e5e32912297547 = L.tileLayer(\n",
       "                &quot;https://titiler-pgstac.maap-project.org/collections/NCEO_Africa_AGB_100m_2017/items/map_2017v0m_COG/tiles/WebMercatorQuad/{z}/{x}/{y}@1x?colormap=%5B%5B%5B0.0%2C+42.9%5D%2C+%5B0%2C+0%2C+0%2C+255%5D%5D%2C+%5B%5B42.9%2C+85.8%5D%2C+%5B18%2C+48%2C+119%2C+255%5D%5D%2C+%5B%5B85.8%2C+128.7%5D%2C+%5B37%2C+102%2C+124%2C+255%5D%5D%2C+%5B%5B128.7%2C+171.6%5D%2C+%5B54%2C+135%2C+111%2C+255%5D%5D%2C+%5B%5B171.6%2C+214.5%5D%2C+%5B67%2C+151%2C+77%2C+255%5D%5D%2C+%5B%5B214.5%2C+257.4%5D%2C+%5B123%2C+167%2C+82%2C+255%5D%5D%2C+%5B%5B257.4%2C+300.3%5D%2C+%5B169%2C+179%2C+91%2C+255%5D%5D%2C+%5B%5B300.3%2C+343.2%5D%2C+%5B191%2C+164%2C+100%2C+255%5D%5D%2C+%5B%5B343.2%2C+386.09999999999997%5D%2C+%5B221%2C+186%2C+167%2C+255%5D%5D%2C+%5B%5B386.09999999999997%2C+429.0%5D%2C+%5B253%2C+250%2C+250%2C+255%5D%5D%5D\\u0026assets=biomass&quot;,\n",
       "                {&quot;attribution&quot;: &quot;NCEO_Africa_AGB_100m_2017&quot;, &quot;detectRetina&quot;: false, &quot;maxNativeZoom&quot;: 18, &quot;maxZoom&quot;: 18, &quot;minZoom&quot;: 0, &quot;noWrap&quot;: false, &quot;opacity&quot;: 1, &quot;subdomains&quot;: &quot;abc&quot;, &quot;tms&quot;: false}\n",
       "            );\n",
       "        \n",
       "    \n",
       "            tile_layer_114a5c8d178c840489e5e32912297547.addTo(map_786cb2fc20a41256456cc2d63136f39c);\n",
       "        \n",
       "    \n",
       "    var color_map_6f047f445caa782ed457e883243bcd54 = {};\n",
       "\n",
       "    \n",
       "    color_map_6f047f445caa782ed457e883243bcd54.color = d3.scale.threshold()\n",
       "              .domain([0.0, 0.8597194388777555, 1.719438877755511, 2.5791583166332663, 3.438877755511022, 4.298597194388778, 5.158316633266533, 6.018036072144288, 6.877755511022044, 7.7374749498997994, 8.597194388777556, 9.45691382765531, 10.316633266533065, 11.176352705410821, 12.036072144288577, 12.895791583166332, 13.755511022044088, 14.615230460921843, 15.474949899799599, 16.334669338677354, 17.194388777555112, 18.054108216432866, 18.91382765531062, 19.773547094188377, 20.63326653306613, 21.492985971943888, 22.352705410821642, 23.2124248496994, 24.072144288577153, 24.93186372745491, 25.791583166332664, 26.65130260521042, 27.511022044088175, 28.370741482965933, 29.230460921843687, 30.090180360721444, 30.949899799599198, 31.809619238476955, 32.66933867735471, 33.52905811623246, 34.388777555110224, 35.24849699398798, 36.10821643286573, 36.967935871743485, 37.82765531062124, 38.687374749499, 39.547094188376754, 40.40681362725451, 41.26653306613226, 42.12625250501002, 42.985971943887776, 43.84569138276553, 44.705410821643284, 45.565130260521045, 46.4248496993988, 47.28456913827655, 48.144288577154306, 49.00400801603207, 49.86372745490982, 50.723446893787575, 51.58316633266533, 52.44288577154309, 53.30260521042084, 54.1623246492986, 55.02204408817635, 55.88176352705411, 56.741482965931866, 57.60120240480962, 58.46092184368737, 59.32064128256513, 60.18036072144289, 61.04008016032064, 61.899799599198396, 62.75951903807615, 63.61923847695391, 64.47895791583166, 65.33867735470942, 66.19839679358718, 67.05811623246493, 67.91783567134269, 68.77755511022045, 69.6372745490982, 70.49699398797596, 71.3567134268537, 72.21643286573146, 73.07615230460922, 73.93587174348697, 74.79559118236473, 75.65531062124248, 76.51503006012024, 77.374749498998, 78.23446893787575, 79.09418837675351, 79.95390781563127, 80.81362725450902, 81.67334669338678, 82.53306613226452, 83.39278557114228, 84.25250501002004, 85.11222444889779, 85.97194388777555, 86.83166332665331, 87.69138276553106, 88.55110220440882, 89.41082164328657, 90.27054108216433, 91.13026052104209, 91.98997995991984, 92.8496993987976, 93.70941883767534, 94.5691382765531, 95.42885771543087, 96.28857715430861, 97.14829659318637, 98.00801603206413, 98.86773547094188, 99.72745490981964, 100.58717434869739, 101.44689378757515, 102.30661322645291, 103.16633266533066, 104.02605210420842, 104.88577154308618, 105.74549098196393, 106.60521042084169, 107.46492985971943, 108.3246492985972, 109.18436873747495, 110.0440881763527, 110.90380761523046, 111.76352705410822, 112.62324649298597, 113.48296593186373, 114.34268537074148, 115.20240480961924, 116.062124248497, 116.92184368737475, 117.78156312625251, 118.64128256513025, 119.50100200400801, 120.36072144288578, 121.22044088176352, 122.08016032064128, 122.93987975951904, 123.79959919839679, 124.65931863727455, 125.5190380761523, 126.37875751503006, 127.23847695390782, 128.09819639278558, 128.9579158316633, 129.81763527054107, 130.67735470941884, 131.5370741482966, 132.39679358717436, 133.2565130260521, 134.11623246492985, 134.9759519038076, 135.83567134268537, 136.69539078156313, 137.5551102204409, 138.41482965931863, 139.2745490981964, 140.13426853707415, 140.9939879759519, 141.85370741482967, 142.7134268537074, 143.57314629258516, 144.43286573146293, 145.2925851703407, 146.15230460921845, 147.01202404809618, 147.87174348697394, 148.7314629258517, 149.59118236472946, 150.45090180360722, 151.31062124248496, 152.17034068136272, 153.03006012024048, 153.88977955911824, 154.749498997996, 155.60921843687376, 156.4689378757515, 157.32865731462925, 158.18837675350701, 159.04809619238478, 159.90781563126254, 160.76753507014027, 161.62725450901803, 162.4869739478958, 163.34669338677355, 164.2064128256513, 165.06613226452905, 165.9258517034068, 166.78557114228457, 167.64529058116233, 168.5050100200401, 169.36472945891782, 170.22444889779558, 171.08416833667334, 171.9438877755511, 172.80360721442887, 173.66332665330663, 174.52304609218436, 175.38276553106212, 176.24248496993988, 177.10220440881764, 177.9619238476954, 178.82164328657313, 179.6813627254509, 180.54108216432866, 181.40080160320642, 182.26052104208418, 183.1202404809619, 183.97995991983967, 184.83967935871743, 185.6993987975952, 186.55911823647295, 187.4188376753507, 188.27855711422845, 189.1382765531062, 189.99799599198397, 190.85771543086173, 191.7174348697395, 192.57715430861722, 193.43687374749499, 194.29659318637275, 195.1563126252505, 196.01603206412827, 196.875751503006, 197.73547094188376, 198.59519038076152, 199.45490981963928, 200.31462925851704, 201.17434869739478, 202.03406813627254, 202.8937875751503, 203.75350701402806, 204.61322645290582, 205.47294589178355, 206.3326653306613, 207.19238476953907, 208.05210420841684, 208.9118236472946, 209.77154308617236, 210.6312625250501, 211.49098196392785, 212.3507014028056, 213.21042084168337, 214.07014028056113, 214.92985971943887, 215.78957915831663, 216.6492985971944, 217.50901803607215, 218.3687374749499, 219.22845691382764, 220.0881763527054, 220.94789579158316, 221.80761523046093, 222.6673346693387, 223.52705410821645, 224.38677354709418, 225.24649298597194, 226.1062124248497, 226.96593186372746, 227.82565130260522, 228.68537074148296, 229.54509018036072, 230.40480961923848, 231.26452905811624, 232.124248496994, 232.98396793587173, 233.8436873747495, 234.70340681362725, 235.56312625250501, 236.42284569138278, 237.2825651302605, 238.14228456913827, 239.00200400801603, 239.8617234468938, 240.72144288577155, 241.5811623246493, 242.44088176352705, 243.3006012024048, 244.16032064128257, 245.02004008016033, 245.8797595190381, 246.73947895791582, 247.59919839679358, 248.45891783567134, 249.3186372745491, 250.17835671342687, 251.0380761523046, 251.89779559118236, 252.75751503006012, 253.61723446893788, 254.47695390781564, 255.33667334669337, 256.19639278557116, 257.0561122244489, 257.9158316633266, 258.7755511022044, 259.63527054108215, 260.49498997995994, 261.3547094188377, 262.2144288577154, 263.0741482965932, 263.9338677354709, 264.7935871743487, 265.65330661322645, 266.5130260521042, 267.37274549098197, 268.2324649298597, 269.0921843687375, 269.9519038076152, 270.811623246493, 271.67134268537075, 272.5310621242485, 273.39078156312627, 274.250501002004, 275.1102204408818, 275.9699398797595, 276.82965931863725, 277.68937875751504, 278.5490981963928, 279.40881763527057, 280.2685370741483, 281.12825651302603, 281.9879759519038, 282.84769539078155, 283.70741482965934, 284.5671342685371, 285.4268537074148, 286.2865731462926, 287.14629258517033, 288.0060120240481, 288.86573146292585, 289.7254509018036, 290.5851703406814, 291.4448897795591, 292.3046092184369, 293.1643286573146, 294.02404809619236, 294.88376753507015, 295.7434869739479, 296.60320641282567, 297.4629258517034, 298.32264529058114, 299.1823647294589, 300.04208416833666, 300.90180360721445, 301.7615230460922, 302.6212424849699, 303.4809619238477, 304.34068136272543, 305.2004008016032, 306.06012024048096, 306.91983967935874, 307.7795591182365, 308.6392785571142, 309.498997995992, 310.35871743486973, 311.2184368737475, 312.07815631262525, 312.937875751503, 313.7975951903808, 314.6573146292585, 315.5170340681363, 316.37675350701403, 317.23647294589176, 318.09619238476955, 318.9559118236473, 319.8156312625251, 320.6753507014028, 321.53507014028054, 322.3947895791583, 323.25450901803606, 324.11422845691385, 324.9739478957916, 325.8336673346693, 326.6933867735471, 327.55310621242484, 328.4128256513026, 329.27254509018036, 330.1322645290581, 330.9919839679359, 331.8517034068136, 332.7114228456914, 333.57114228456913, 334.43086172344687, 335.29058116232466, 336.1503006012024, 337.0100200400802, 337.8697394789579, 338.72945891783564, 339.58917835671343, 340.44889779559117, 341.30861723446895, 342.1683366733467, 343.0280561122245, 343.8877755511022, 344.74749498997994, 345.60721442885773, 346.46693386773546, 347.32665330661325, 348.186372745491, 349.0460921843687, 349.9058116232465, 350.76553106212424, 351.62525050100203, 352.48496993987976, 353.3446893787575, 354.2044088176353, 355.064128256513, 355.9238476953908, 356.78356713426854, 357.64328657314627, 358.50300601202406, 359.3627254509018, 360.2224448897796, 361.0821643286573, 361.94188376753505, 362.80160320641284, 363.66132264529057, 364.52104208416836, 365.3807615230461, 366.2404809619238, 367.1002004008016, 367.95991983967934, 368.81963927855713, 369.67935871743487, 370.5390781563126, 371.3987975951904, 372.2585170340681, 373.1182364729459, 373.97795591182364, 374.8376753507014, 375.69739478957916, 376.5571142284569, 377.4168336673347, 378.2765531062124, 379.1362725450902, 379.99599198396794, 380.8557114228457, 381.71543086172346, 382.5751503006012, 383.434869739479, 384.2945891783567, 385.15430861723445, 386.01402805611224, 386.87374749498997, 387.73346693386776, 388.5931863727455, 389.4529058116232, 390.312625250501, 391.17234468937875, 392.03206412825654, 392.89178356713427, 393.751503006012, 394.6112224448898, 395.4709418837675, 396.3306613226453, 397.19038076152304, 398.0501002004008, 398.90981963927857, 399.7695390781563, 400.6292585170341, 401.4889779559118, 402.34869739478955, 403.20841683366734, 404.0681362725451, 404.92785571142286, 405.7875751503006, 406.64729458917833, 407.5070140280561, 408.36673346693385, 409.22645290581164, 410.0861723446894, 410.9458917835671, 411.8056112224449, 412.6653306613226, 413.5250501002004, 414.38476953907815, 415.24448897795594, 416.10420841683367, 416.9639278557114, 417.8236472945892, 418.6833667334669, 419.5430861723447, 420.40280561122245, 421.2625250501002, 422.12224448897797, 422.9819639278557, 423.8416833667335, 424.7014028056112, 425.56112224448896, 426.42084168336675, 427.2805611222445, 428.14028056112227, 429.0])\n",
       "              .range([&#x27;#000000ff&#x27;, &#x27;#000000ff&#x27;, &#x27;#000000ff&#x27;, &#x27;#000000ff&#x27;, &#x27;#000000ff&#x27;, &#x27;#000000ff&#x27;, &#x27;#000000ff&#x27;, &#x27;#000000ff&#x27;, &#x27;#000000ff&#x27;, &#x27;#000000ff&#x27;, &#x27;#000000ff&#x27;, &#x27;#000000ff&#x27;, &#x27;#000000ff&#x27;, &#x27;#000000ff&#x27;, &#x27;#000000ff&#x27;, &#x27;#000000ff&#x27;, &#x27;#000000ff&#x27;, &#x27;#000000ff&#x27;, &#x27;#000000ff&#x27;, &#x27;#000000ff&#x27;, &#x27;#000000ff&#x27;, &#x27;#000000ff&#x27;, &#x27;#000000ff&#x27;, &#x27;#000000ff&#x27;, &#x27;#000000ff&#x27;, &#x27;#000000ff&#x27;, &#x27;#000000ff&#x27;, &#x27;#000000ff&#x27;, &#x27;#000000ff&#x27;, &#x27;#000000ff&#x27;, &#x27;#000000ff&#x27;, &#x27;#000000ff&#x27;, &#x27;#000000ff&#x27;, &#x27;#000000ff&#x27;, &#x27;#000000ff&#x27;, &#x27;#000000ff&#x27;, &#x27;#000000ff&#x27;, &#x27;#000000ff&#x27;, &#x27;#000000ff&#x27;, &#x27;#000000ff&#x27;, &#x27;#000000ff&#x27;, &#x27;#000000ff&#x27;, &#x27;#000000ff&#x27;, &#x27;#000000ff&#x27;, &#x27;#000000ff&#x27;, &#x27;#000000ff&#x27;, &#x27;#000000ff&#x27;, &#x27;#000000ff&#x27;, &#x27;#000000ff&#x27;, &#x27;#000000ff&#x27;, &#x27;#123077ff&#x27;, &#x27;#123077ff&#x27;, &#x27;#123077ff&#x27;, &#x27;#123077ff&#x27;, &#x27;#123077ff&#x27;, &#x27;#123077ff&#x27;, &#x27;#123077ff&#x27;, &#x27;#123077ff&#x27;, &#x27;#123077ff&#x27;, &#x27;#123077ff&#x27;, &#x27;#123077ff&#x27;, &#x27;#123077ff&#x27;, &#x27;#123077ff&#x27;, &#x27;#123077ff&#x27;, &#x27;#123077ff&#x27;, &#x27;#123077ff&#x27;, &#x27;#123077ff&#x27;, &#x27;#123077ff&#x27;, &#x27;#123077ff&#x27;, &#x27;#123077ff&#x27;, &#x27;#123077ff&#x27;, &#x27;#123077ff&#x27;, &#x27;#123077ff&#x27;, &#x27;#123077ff&#x27;, &#x27;#123077ff&#x27;, &#x27;#123077ff&#x27;, &#x27;#123077ff&#x27;, &#x27;#123077ff&#x27;, &#x27;#123077ff&#x27;, &#x27;#123077ff&#x27;, &#x27;#123077ff&#x27;, &#x27;#123077ff&#x27;, &#x27;#123077ff&#x27;, &#x27;#123077ff&#x27;, &#x27;#123077ff&#x27;, &#x27;#123077ff&#x27;, &#x27;#123077ff&#x27;, &#x27;#123077ff&#x27;, &#x27;#123077ff&#x27;, &#x27;#123077ff&#x27;, &#x27;#123077ff&#x27;, &#x27;#123077ff&#x27;, &#x27;#123077ff&#x27;, &#x27;#123077ff&#x27;, &#x27;#123077ff&#x27;, &#x27;#123077ff&#x27;, &#x27;#123077ff&#x27;, &#x27;#123077ff&#x27;, &#x27;#123077ff&#x27;, &#x27;#123077ff&#x27;, &#x27;#25667cff&#x27;, &#x27;#25667cff&#x27;, &#x27;#25667cff&#x27;, &#x27;#25667cff&#x27;, &#x27;#25667cff&#x27;, &#x27;#25667cff&#x27;, &#x27;#25667cff&#x27;, &#x27;#25667cff&#x27;, &#x27;#25667cff&#x27;, &#x27;#25667cff&#x27;, &#x27;#25667cff&#x27;, &#x27;#25667cff&#x27;, &#x27;#25667cff&#x27;, &#x27;#25667cff&#x27;, &#x27;#25667cff&#x27;, &#x27;#25667cff&#x27;, &#x27;#25667cff&#x27;, &#x27;#25667cff&#x27;, &#x27;#25667cff&#x27;, &#x27;#25667cff&#x27;, &#x27;#25667cff&#x27;, &#x27;#25667cff&#x27;, &#x27;#25667cff&#x27;, &#x27;#25667cff&#x27;, &#x27;#25667cff&#x27;, &#x27;#25667cff&#x27;, &#x27;#25667cff&#x27;, &#x27;#25667cff&#x27;, &#x27;#25667cff&#x27;, &#x27;#25667cff&#x27;, &#x27;#25667cff&#x27;, &#x27;#25667cff&#x27;, &#x27;#25667cff&#x27;, &#x27;#25667cff&#x27;, &#x27;#25667cff&#x27;, &#x27;#25667cff&#x27;, &#x27;#25667cff&#x27;, &#x27;#25667cff&#x27;, &#x27;#25667cff&#x27;, &#x27;#25667cff&#x27;, &#x27;#25667cff&#x27;, &#x27;#25667cff&#x27;, &#x27;#25667cff&#x27;, &#x27;#25667cff&#x27;, &#x27;#25667cff&#x27;, &#x27;#25667cff&#x27;, &#x27;#25667cff&#x27;, &#x27;#25667cff&#x27;, &#x27;#25667cff&#x27;, &#x27;#25667cff&#x27;, &#x27;#36876fff&#x27;, &#x27;#36876fff&#x27;, &#x27;#36876fff&#x27;, &#x27;#36876fff&#x27;, &#x27;#36876fff&#x27;, &#x27;#36876fff&#x27;, &#x27;#36876fff&#x27;, &#x27;#36876fff&#x27;, &#x27;#36876fff&#x27;, &#x27;#36876fff&#x27;, &#x27;#36876fff&#x27;, &#x27;#36876fff&#x27;, &#x27;#36876fff&#x27;, &#x27;#36876fff&#x27;, &#x27;#36876fff&#x27;, &#x27;#36876fff&#x27;, &#x27;#36876fff&#x27;, &#x27;#36876fff&#x27;, &#x27;#36876fff&#x27;, &#x27;#36876fff&#x27;, &#x27;#36876fff&#x27;, &#x27;#36876fff&#x27;, &#x27;#36876fff&#x27;, &#x27;#36876fff&#x27;, &#x27;#36876fff&#x27;, &#x27;#36876fff&#x27;, &#x27;#36876fff&#x27;, &#x27;#36876fff&#x27;, &#x27;#36876fff&#x27;, &#x27;#36876fff&#x27;, &#x27;#36876fff&#x27;, &#x27;#36876fff&#x27;, &#x27;#36876fff&#x27;, &#x27;#36876fff&#x27;, &#x27;#36876fff&#x27;, &#x27;#36876fff&#x27;, &#x27;#36876fff&#x27;, &#x27;#36876fff&#x27;, &#x27;#36876fff&#x27;, &#x27;#36876fff&#x27;, &#x27;#36876fff&#x27;, &#x27;#36876fff&#x27;, &#x27;#36876fff&#x27;, &#x27;#36876fff&#x27;, &#x27;#36876fff&#x27;, &#x27;#36876fff&#x27;, &#x27;#36876fff&#x27;, &#x27;#36876fff&#x27;, &#x27;#36876fff&#x27;, &#x27;#36876fff&#x27;, &#x27;#43974dff&#x27;, &#x27;#43974dff&#x27;, &#x27;#43974dff&#x27;, &#x27;#43974dff&#x27;, &#x27;#43974dff&#x27;, &#x27;#43974dff&#x27;, &#x27;#43974dff&#x27;, &#x27;#43974dff&#x27;, &#x27;#43974dff&#x27;, &#x27;#43974dff&#x27;, &#x27;#43974dff&#x27;, &#x27;#43974dff&#x27;, &#x27;#43974dff&#x27;, &#x27;#43974dff&#x27;, &#x27;#43974dff&#x27;, &#x27;#43974dff&#x27;, &#x27;#43974dff&#x27;, &#x27;#43974dff&#x27;, &#x27;#43974dff&#x27;, &#x27;#43974dff&#x27;, &#x27;#43974dff&#x27;, &#x27;#43974dff&#x27;, &#x27;#43974dff&#x27;, &#x27;#43974dff&#x27;, &#x27;#43974dff&#x27;, &#x27;#43974dff&#x27;, &#x27;#43974dff&#x27;, &#x27;#43974dff&#x27;, &#x27;#43974dff&#x27;, &#x27;#43974dff&#x27;, &#x27;#43974dff&#x27;, &#x27;#43974dff&#x27;, &#x27;#43974dff&#x27;, &#x27;#43974dff&#x27;, &#x27;#43974dff&#x27;, &#x27;#43974dff&#x27;, &#x27;#43974dff&#x27;, &#x27;#43974dff&#x27;, &#x27;#43974dff&#x27;, &#x27;#43974dff&#x27;, &#x27;#43974dff&#x27;, &#x27;#43974dff&#x27;, &#x27;#43974dff&#x27;, &#x27;#43974dff&#x27;, &#x27;#43974dff&#x27;, &#x27;#43974dff&#x27;, &#x27;#43974dff&#x27;, &#x27;#43974dff&#x27;, &#x27;#43974dff&#x27;, &#x27;#43974dff&#x27;, &#x27;#7ba752ff&#x27;, &#x27;#7ba752ff&#x27;, &#x27;#7ba752ff&#x27;, &#x27;#7ba752ff&#x27;, &#x27;#7ba752ff&#x27;, &#x27;#7ba752ff&#x27;, &#x27;#7ba752ff&#x27;, &#x27;#7ba752ff&#x27;, &#x27;#7ba752ff&#x27;, &#x27;#7ba752ff&#x27;, &#x27;#7ba752ff&#x27;, &#x27;#7ba752ff&#x27;, &#x27;#7ba752ff&#x27;, &#x27;#7ba752ff&#x27;, &#x27;#7ba752ff&#x27;, &#x27;#7ba752ff&#x27;, &#x27;#7ba752ff&#x27;, &#x27;#7ba752ff&#x27;, &#x27;#7ba752ff&#x27;, &#x27;#7ba752ff&#x27;, &#x27;#7ba752ff&#x27;, &#x27;#7ba752ff&#x27;, &#x27;#7ba752ff&#x27;, &#x27;#7ba752ff&#x27;, &#x27;#7ba752ff&#x27;, &#x27;#7ba752ff&#x27;, &#x27;#7ba752ff&#x27;, &#x27;#7ba752ff&#x27;, &#x27;#7ba752ff&#x27;, &#x27;#7ba752ff&#x27;, &#x27;#7ba752ff&#x27;, &#x27;#7ba752ff&#x27;, &#x27;#7ba752ff&#x27;, &#x27;#7ba752ff&#x27;, &#x27;#7ba752ff&#x27;, &#x27;#7ba752ff&#x27;, &#x27;#7ba752ff&#x27;, &#x27;#7ba752ff&#x27;, &#x27;#7ba752ff&#x27;, &#x27;#7ba752ff&#x27;, &#x27;#7ba752ff&#x27;, &#x27;#7ba752ff&#x27;, &#x27;#7ba752ff&#x27;, &#x27;#7ba752ff&#x27;, &#x27;#7ba752ff&#x27;, &#x27;#7ba752ff&#x27;, &#x27;#7ba752ff&#x27;, &#x27;#7ba752ff&#x27;, &#x27;#7ba752ff&#x27;, &#x27;#7ba752ff&#x27;, &#x27;#a9b35bff&#x27;, &#x27;#a9b35bff&#x27;, &#x27;#a9b35bff&#x27;, &#x27;#a9b35bff&#x27;, &#x27;#a9b35bff&#x27;, &#x27;#a9b35bff&#x27;, &#x27;#a9b35bff&#x27;, &#x27;#a9b35bff&#x27;, &#x27;#a9b35bff&#x27;, &#x27;#a9b35bff&#x27;, &#x27;#a9b35bff&#x27;, &#x27;#a9b35bff&#x27;, &#x27;#a9b35bff&#x27;, &#x27;#a9b35bff&#x27;, &#x27;#a9b35bff&#x27;, &#x27;#a9b35bff&#x27;, &#x27;#a9b35bff&#x27;, &#x27;#a9b35bff&#x27;, &#x27;#a9b35bff&#x27;, &#x27;#a9b35bff&#x27;, &#x27;#a9b35bff&#x27;, &#x27;#a9b35bff&#x27;, &#x27;#a9b35bff&#x27;, &#x27;#a9b35bff&#x27;, &#x27;#a9b35bff&#x27;, &#x27;#a9b35bff&#x27;, &#x27;#a9b35bff&#x27;, &#x27;#a9b35bff&#x27;, &#x27;#a9b35bff&#x27;, &#x27;#a9b35bff&#x27;, &#x27;#a9b35bff&#x27;, &#x27;#a9b35bff&#x27;, &#x27;#a9b35bff&#x27;, &#x27;#a9b35bff&#x27;, &#x27;#a9b35bff&#x27;, &#x27;#a9b35bff&#x27;, &#x27;#a9b35bff&#x27;, &#x27;#a9b35bff&#x27;, &#x27;#a9b35bff&#x27;, &#x27;#a9b35bff&#x27;, &#x27;#a9b35bff&#x27;, &#x27;#a9b35bff&#x27;, &#x27;#a9b35bff&#x27;, &#x27;#a9b35bff&#x27;, &#x27;#a9b35bff&#x27;, &#x27;#a9b35bff&#x27;, &#x27;#a9b35bff&#x27;, &#x27;#a9b35bff&#x27;, &#x27;#a9b35bff&#x27;, &#x27;#a9b35bff&#x27;, &#x27;#bfa464ff&#x27;, &#x27;#bfa464ff&#x27;, &#x27;#bfa464ff&#x27;, &#x27;#bfa464ff&#x27;, &#x27;#bfa464ff&#x27;, &#x27;#bfa464ff&#x27;, &#x27;#bfa464ff&#x27;, &#x27;#bfa464ff&#x27;, &#x27;#bfa464ff&#x27;, &#x27;#bfa464ff&#x27;, &#x27;#bfa464ff&#x27;, &#x27;#bfa464ff&#x27;, &#x27;#bfa464ff&#x27;, &#x27;#bfa464ff&#x27;, &#x27;#bfa464ff&#x27;, &#x27;#bfa464ff&#x27;, &#x27;#bfa464ff&#x27;, &#x27;#bfa464ff&#x27;, &#x27;#bfa464ff&#x27;, &#x27;#bfa464ff&#x27;, &#x27;#bfa464ff&#x27;, &#x27;#bfa464ff&#x27;, &#x27;#bfa464ff&#x27;, &#x27;#bfa464ff&#x27;, &#x27;#bfa464ff&#x27;, &#x27;#bfa464ff&#x27;, &#x27;#bfa464ff&#x27;, &#x27;#bfa464ff&#x27;, &#x27;#bfa464ff&#x27;, &#x27;#bfa464ff&#x27;, &#x27;#bfa464ff&#x27;, &#x27;#bfa464ff&#x27;, &#x27;#bfa464ff&#x27;, &#x27;#bfa464ff&#x27;, &#x27;#bfa464ff&#x27;, &#x27;#bfa464ff&#x27;, &#x27;#bfa464ff&#x27;, &#x27;#bfa464ff&#x27;, &#x27;#bfa464ff&#x27;, &#x27;#bfa464ff&#x27;, &#x27;#bfa464ff&#x27;, &#x27;#bfa464ff&#x27;, &#x27;#bfa464ff&#x27;, &#x27;#bfa464ff&#x27;, &#x27;#bfa464ff&#x27;, &#x27;#bfa464ff&#x27;, &#x27;#bfa464ff&#x27;, &#x27;#bfa464ff&#x27;, &#x27;#bfa464ff&#x27;, &#x27;#bfa464ff&#x27;, &#x27;#ddbaa7ff&#x27;, &#x27;#ddbaa7ff&#x27;, &#x27;#ddbaa7ff&#x27;, &#x27;#ddbaa7ff&#x27;, &#x27;#ddbaa7ff&#x27;, &#x27;#ddbaa7ff&#x27;, &#x27;#ddbaa7ff&#x27;, &#x27;#ddbaa7ff&#x27;, &#x27;#ddbaa7ff&#x27;, &#x27;#ddbaa7ff&#x27;, &#x27;#ddbaa7ff&#x27;, &#x27;#ddbaa7ff&#x27;, &#x27;#ddbaa7ff&#x27;, &#x27;#ddbaa7ff&#x27;, &#x27;#ddbaa7ff&#x27;, &#x27;#ddbaa7ff&#x27;, &#x27;#ddbaa7ff&#x27;, &#x27;#ddbaa7ff&#x27;, &#x27;#ddbaa7ff&#x27;, &#x27;#ddbaa7ff&#x27;, &#x27;#ddbaa7ff&#x27;, &#x27;#ddbaa7ff&#x27;, &#x27;#ddbaa7ff&#x27;, &#x27;#ddbaa7ff&#x27;, &#x27;#ddbaa7ff&#x27;, &#x27;#ddbaa7ff&#x27;, &#x27;#ddbaa7ff&#x27;, &#x27;#ddbaa7ff&#x27;, &#x27;#ddbaa7ff&#x27;, &#x27;#ddbaa7ff&#x27;, &#x27;#ddbaa7ff&#x27;, &#x27;#ddbaa7ff&#x27;, &#x27;#ddbaa7ff&#x27;, &#x27;#ddbaa7ff&#x27;, &#x27;#ddbaa7ff&#x27;, &#x27;#ddbaa7ff&#x27;, &#x27;#ddbaa7ff&#x27;, &#x27;#ddbaa7ff&#x27;, &#x27;#ddbaa7ff&#x27;, &#x27;#ddbaa7ff&#x27;, &#x27;#ddbaa7ff&#x27;, &#x27;#ddbaa7ff&#x27;, &#x27;#ddbaa7ff&#x27;, &#x27;#ddbaa7ff&#x27;, &#x27;#ddbaa7ff&#x27;, &#x27;#ddbaa7ff&#x27;, &#x27;#ddbaa7ff&#x27;, &#x27;#ddbaa7ff&#x27;, &#x27;#ddbaa7ff&#x27;, &#x27;#ddbaa7ff&#x27;, &#x27;#fdfafaff&#x27;, &#x27;#fdfafaff&#x27;, &#x27;#fdfafaff&#x27;, &#x27;#fdfafaff&#x27;, &#x27;#fdfafaff&#x27;, &#x27;#fdfafaff&#x27;, &#x27;#fdfafaff&#x27;, &#x27;#fdfafaff&#x27;, &#x27;#fdfafaff&#x27;, &#x27;#fdfafaff&#x27;, &#x27;#fdfafaff&#x27;, &#x27;#fdfafaff&#x27;, &#x27;#fdfafaff&#x27;, &#x27;#fdfafaff&#x27;, &#x27;#fdfafaff&#x27;, &#x27;#fdfafaff&#x27;, &#x27;#fdfafaff&#x27;, &#x27;#fdfafaff&#x27;, &#x27;#fdfafaff&#x27;, &#x27;#fdfafaff&#x27;, &#x27;#fdfafaff&#x27;, &#x27;#fdfafaff&#x27;, &#x27;#fdfafaff&#x27;, &#x27;#fdfafaff&#x27;, &#x27;#fdfafaff&#x27;, &#x27;#fdfafaff&#x27;, &#x27;#fdfafaff&#x27;, &#x27;#fdfafaff&#x27;, &#x27;#fdfafaff&#x27;, &#x27;#fdfafaff&#x27;, &#x27;#fdfafaff&#x27;, &#x27;#fdfafaff&#x27;, &#x27;#fdfafaff&#x27;, &#x27;#fdfafaff&#x27;, &#x27;#fdfafaff&#x27;, &#x27;#fdfafaff&#x27;, &#x27;#fdfafaff&#x27;, &#x27;#fdfafaff&#x27;, &#x27;#fdfafaff&#x27;, &#x27;#fdfafaff&#x27;, &#x27;#fdfafaff&#x27;, &#x27;#fdfafaff&#x27;, &#x27;#fdfafaff&#x27;, &#x27;#fdfafaff&#x27;, &#x27;#fdfafaff&#x27;, &#x27;#fdfafaff&#x27;, &#x27;#fdfafaff&#x27;, &#x27;#fdfafaff&#x27;, &#x27;#fdfafaff&#x27;, &#x27;#fdfafaff&#x27;]);\n",
       "    \n",
       "\n",
       "    color_map_6f047f445caa782ed457e883243bcd54.x = d3.scale.linear()\n",
       "              .domain([0.0, 429.0])\n",
       "              .range([0, 450 - 50]);\n",
       "\n",
       "    color_map_6f047f445caa782ed457e883243bcd54.legend = L.control({position: &#x27;topright&#x27;});\n",
       "    color_map_6f047f445caa782ed457e883243bcd54.legend.onAdd = function (map) {var div = L.DomUtil.create(&#x27;div&#x27;, &#x27;legend&#x27;); return div};\n",
       "    color_map_6f047f445caa782ed457e883243bcd54.legend.addTo(map_786cb2fc20a41256456cc2d63136f39c);\n",
       "\n",
       "    color_map_6f047f445caa782ed457e883243bcd54.xAxis = d3.svg.axis()\n",
       "        .scale(color_map_6f047f445caa782ed457e883243bcd54.x)\n",
       "        .orient(&quot;top&quot;)\n",
       "        .tickSize(1)\n",
       "        .tickValues([0.0, &#x27;&#x27;, 85.8, &#x27;&#x27;, 171.6, &#x27;&#x27;, 257.4, &#x27;&#x27;, 343.2, &#x27;&#x27;, 429.0, &#x27;&#x27;]);\n",
       "\n",
       "    color_map_6f047f445caa782ed457e883243bcd54.svg = d3.select(&quot;.legend.leaflet-control&quot;).append(&quot;svg&quot;)\n",
       "        .attr(&quot;id&quot;, &#x27;legend&#x27;)\n",
       "        .attr(&quot;width&quot;, 450)\n",
       "        .attr(&quot;height&quot;, 40);\n",
       "\n",
       "    color_map_6f047f445caa782ed457e883243bcd54.g = color_map_6f047f445caa782ed457e883243bcd54.svg.append(&quot;g&quot;)\n",
       "        .attr(&quot;class&quot;, &quot;key&quot;)\n",
       "        .attr(&quot;transform&quot;, &quot;translate(25,16)&quot;);\n",
       "\n",
       "    color_map_6f047f445caa782ed457e883243bcd54.g.selectAll(&quot;rect&quot;)\n",
       "        .data(color_map_6f047f445caa782ed457e883243bcd54.color.range().map(function(d, i) {\n",
       "          return {\n",
       "            x0: i ? color_map_6f047f445caa782ed457e883243bcd54.x(color_map_6f047f445caa782ed457e883243bcd54.color.domain()[i - 1]) : color_map_6f047f445caa782ed457e883243bcd54.x.range()[0],\n",
       "            x1: i &lt; color_map_6f047f445caa782ed457e883243bcd54.color.domain().length ? color_map_6f047f445caa782ed457e883243bcd54.x(color_map_6f047f445caa782ed457e883243bcd54.color.domain()[i]) : color_map_6f047f445caa782ed457e883243bcd54.x.range()[1],\n",
       "            z: d\n",
       "          };\n",
       "        }))\n",
       "      .enter().append(&quot;rect&quot;)\n",
       "        .attr(&quot;height&quot;, 40 - 30)\n",
       "        .attr(&quot;x&quot;, function(d) { return d.x0; })\n",
       "        .attr(&quot;width&quot;, function(d) { return d.x1 - d.x0; })\n",
       "        .style(&quot;fill&quot;, function(d) { return d.z; });\n",
       "\n",
       "    color_map_6f047f445caa782ed457e883243bcd54.g.call(color_map_6f047f445caa782ed457e883243bcd54.xAxis).append(&quot;text&quot;)\n",
       "        .attr(&quot;class&quot;, &quot;caption&quot;)\n",
       "        .attr(&quot;y&quot;, 21)\n",
       "        .text(&quot;Global Aboveground Biomass (AGB) Density Estimates in Mg/ha (megagram per hectare)&quot;);\n",
       "&lt;/script&gt;\n",
       "&lt;/html&gt;\" style=\"position:absolute;width:100%;height:100%;left:0;top:0;border:none !important;\" allowfullscreen webkitallowfullscreen mozallowfullscreen></iframe></div></div>"
      ],
      "text/plain": [
       "<folium.folium.Map at 0x7f38746d0280>"
      ]
     },
     "execution_count": 15,
     "metadata": {},
     "output_type": "execute_result"
    }
   ],
   "source": [
    "# Create a json string of the colormap, so it can be passed as a parameter to titiler's API.\n",
    "cmap = json.dumps(color_map)\n",
    "\n",
    "# We fetch tilejson from titiler endpoint, to build a better map with appropriate bounds and zoom level\n",
    "tilejson_response = requests.get(\n",
    "    f\"{titiler_endpoint}/collections/{collection}/items/{item}/tilejson.json\",\n",
    "    params = {\n",
    "        \"colormap\": cmap,\n",
    "        \"assets\": \"biomass\",\n",
    "        \"minzoom\": 2,\n",
    "    }\n",
    ").json()\n",
    "\n",
    "bounds = tilejson_response[\"bounds\"]\n",
    "\n",
    "m = Map(\n",
    "    location=((bounds[1] + bounds[3]) / 2,(bounds[0] + bounds[2]) / 2),\n",
    "    zoom_start=tilejson_response[\"minzoom\"] + 1\n",
    ")\n",
    "\n",
    "# We add a TileLayer using the tilejson_response \"tiles\" value which is the XYZ endpoint of titiler.\n",
    "aod_layer = TileLayer(\n",
    "    tiles=tilejson_response[\"tiles\"][0],\n",
    "    opacity=1,\n",
    "    attr=\"NCEO_Africa_AGB_100m_2017\"\n",
    ")\n",
    "aod_layer.add_to(m)\n",
    "\n",
    "# Finally, we add the legend.\n",
    "legend.caption = 'Global Aboveground Biomass (AGB) Density Estimates in Mg/ha (megagram per hectare)'\n",
    "legend.add_to(m)\n",
    "\n",
    "m"
   ]
  },
  {
   "cell_type": "code",
   "execution_count": null,
   "id": "546b5f66-286a-4b6a-aecd-c70dc6051fd9",
   "metadata": {},
   "outputs": [],
   "source": []
  }
 ],
 "metadata": {
  "kernelspec": {
   "display_name": "Python [conda env:pangeo] *",
   "language": "python",
   "name": "conda-env-pangeo-py"
  },
  "language_info": {
   "codemirror_mode": {
    "name": "ipython",
    "version": 3
   },
   "file_extension": ".py",
   "mimetype": "text/x-python",
   "name": "python",
   "nbconvert_exporter": "python",
   "pygments_lexer": "ipython3",
   "version": "3.10.13"
  },
  "vscode": {
   "interpreter": {
    "hash": "b0fa6594d8f4cbf19f97940f81e996739fb7646882a419484c72d19e05852a7e"
   }
  }
 },
 "nbformat": 4,
 "nbformat_minor": 5
}
