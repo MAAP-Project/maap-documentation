{
 "cells": [
  {
   "cell_type": "code",
   "execution_count": 3,
   "id": "2aba587e",
   "metadata": {
    "tags": []
   },
   "outputs": [],
   "source": [
    "#!pip install folium branca\n",
    "#!pip install -U pystac-client"
   ]
  },
  {
   "cell_type": "code",
   "execution_count": 30,
   "id": "3be010a7",
   "metadata": {
    "tags": []
   },
   "outputs": [],
   "source": [
    "import branca\n",
    "from folium import Map, TileLayer\n",
    "import json\n",
    "from matplotlib import cm\n",
    "import requests"
   ]
  },
  {
   "cell_type": "markdown",
   "id": "6b054ec0",
   "metadata": {},
   "source": [
    "# Discover data from STAC"
   ]
  },
  {
   "cell_type": "code",
   "execution_count": 33,
   "id": "b438e63d",
   "metadata": {
    "tags": []
   },
   "outputs": [
    {
     "data": {
      "text/plain": [
       "'https://bmap-catalogue-data.oss.eu-west-0.prod-cloud-ocb.orange-business.com/Campaign_data/biosar1/biosar1_301_SLC_HH.tiff'"
      ]
     },
     "execution_count": 33,
     "metadata": {},
     "output_type": "execute_result"
    }
   ],
   "source": [
    "stac_endpoint = \"https://stac.maap-project.org\"\n",
    "titiler_endpoint = \"https://titiler.ops.maap-project.org\"\n",
    "collection = \"BIOSAR1\"\n",
    "item = \"biosar1_301_SLC_HH\"\n",
    "items_response = requests.get(f\"{stac_endpoint}/collections/{collection}/items/{item}\").json()\n",
    "url = items_response['assets']['biosar1_301_SLC_HH.tiff']['href']\n",
    "url"
   ]
  },
  {
   "cell_type": "markdown",
   "id": "0ba557f6",
   "metadata": {},
   "source": [
    "# Get data values from the `/statistics` endpoint"
   ]
  },
  {
   "cell_type": "code",
   "execution_count": 32,
   "id": "cdea833f",
   "metadata": {
    "tags": []
   },
   "outputs": [
    {
     "data": {
      "text/plain": [
       "{'message': 'Service Unavailable'}"
      ]
     },
     "execution_count": 32,
     "metadata": {},
     "output_type": "execute_result"
    }
   ],
   "source": [
    "# You can use gdalinfo /vsis3/nasa-maap-data-store/file-staging/nasa-map/SRTMGL1_COD___001/N21W089.SRTMGL1.tif -stats\n",
    "# or you can get metadata from titiler.\n",
    "stats_response = requests.get(\n",
    "    f\"{titiler_endpoint}/cog/statistics\",\n",
    "    params = {\n",
    "        \"url\": url\n",
    "    }\n",
    ").json()"
   ]
  },
  {
   "cell_type": "code",
   "execution_count": null,
   "id": "2e4ceed4",
   "metadata": {
    "tags": []
   },
   "outputs": [],
   "source": [
    "bins = stats_response['b1']['histogram'][1]\n",
    "bin_ranges = [[bins[i], bins[i+1]] for i in range(len(bins)-1)]\n",
    "bin_ranges"
   ]
  },
  {
   "cell_type": "code",
   "execution_count": 63,
   "id": "d374b4fb",
   "metadata": {
    "tags": []
   },
   "outputs": [],
   "source": [
    "# There are many pre-defined colormaps supported by matplotlib.\n",
    "# Some are listed below but a complete list be found here: https://matplotlib.org/3.1.0/tutorials/colors/colormaps.html\n",
    "# You may define custom color maps, but using the predefined ones makes life easier.\n",
    "sequential_cmaps = [\n",
    "    'Greys', 'Purples', 'Blues', 'Greens', 'Oranges', 'Reds',\n",
    "    'YlOrBr', 'YlOrRd', 'OrRd', 'PuRd', 'RdPu', 'BuPu',\n",
    "    'GnBu', 'PuBu', 'YlGnBu', 'PuBuGn', 'BuGn', 'YlGn'\n",
    "]\n",
    "\n",
    "sequential_cmaps2 = [\n",
    "    'binary', 'gist_yarg', 'gist_gray', 'gray', 'bone', 'pink',\n",
    "    'spring', 'summer', 'autumn', 'winter', 'cool', 'Wistia',\n",
    "    'hot', 'afmhot', 'gist_heat', 'copper']"
   ]
  },
  {
   "cell_type": "code",
   "execution_count": 64,
   "id": "488e280f",
   "metadata": {
    "tags": []
   },
   "outputs": [],
   "source": [
    "# Here we create a list of pairs, each pair containing a data value interval range (aka \"bin\")\n",
    "# with a color value in RGBA (see https://www.w3schools.com/css/css3_colors.asp)\n",
    "# First we create a list of colors\n",
    "rgbas = [[int(value) for value in rgb] for rgb in cm.ScalarMappable(cmap='gist_earth').to_rgba(x=bins[:-1], bytes=True)]\n",
    "# Then we use python's zip function to pair rgba values with data values (https://www.w3schools.com/python/ref_func_zip.asp)\n",
    "color_map = list(zip(bin_ranges, rgbas))\n",
    "# some tweaking may be necessary"
   ]
  },
  {
   "cell_type": "code",
   "execution_count": 65,
   "id": "3140ca88",
   "metadata": {
    "tags": []
   },
   "outputs": [],
   "source": [
    "# Let's also create a legend using the RGBA values and bins so our map visualization can be interpreted!\n",
    "legend = branca.colormap.StepColormap(rgbas, index=bins, vmin=round(bins[0], 2), vmax=round(bins[-1], 2))"
   ]
  },
  {
   "cell_type": "markdown",
   "id": "9361c54a",
   "metadata": {},
   "source": [
    "# Preview the data"
   ]
  },
  {
   "cell_type": "code",
   "execution_count": null,
   "id": "0883da90",
   "metadata": {},
   "outputs": [],
   "source": [
    "# Create a json string of the colormap, so it can be passed as a parameter to titiler's API.\n",
    "cmap = json.dumps(color_map)\n",
    "\n",
    "# We fetch tilejson from titiler endpoint, to build a better map with appropriate bounds and zoom level\n",
    "tilejson_response = requests.get(\n",
    "    f\"{titiler_endpoint}/cog/tilejson.json\",\n",
    "    params = {\n",
    "        \"url\": url,\n",
    "        \"colormap\": cmap\n",
    "    }\n",
    ").json()\n",
    "tilejson_response\n",
    "bounds = tilejson_response[\"bounds\"]\n",
    "m = Map(\n",
    "    location=((bounds[1] + bounds[3]) / 2,(bounds[0] + bounds[2]) / 2),\n",
    "    zoom_start=tilejson_response[\"minzoom\"] + 1\n",
    ")\n",
    "\n",
    "# We add a TileLayer using the tilejson_response \"tiles\" value which is the XYZ endpoint of titiler.\n",
    "aod_layer = TileLayer(\n",
    "    tiles=tilejson_response[\"tiles\"][0],\n",
    "    opacity=1,\n",
    "    attr=\"Swisstopo\"\n",
    ")\n",
    "aod_layer.add_to(m)\n",
    "\n",
    "# Finally, we add the legend.\n",
    "legend.caption = 'Estimated aboveground biomass in Mg/ha (megagram per hectare)'\n",
    "legend.add_to(m)\n",
    "\n",
    "m"
   ]
  },
  {
   "cell_type": "code",
   "execution_count": null,
   "id": "7ee1b7a2",
   "metadata": {},
   "outputs": [],
   "source": []
  }
 ],
 "metadata": {
  "kernelspec": {
   "display_name": "conda_base",
   "language": "python",
   "name": "conda_base"
  },
  "language_info": {
   "codemirror_mode": {
    "name": "ipython",
    "version": 3
   },
   "file_extension": ".py",
   "mimetype": "text/x-python",
   "name": "python",
   "nbconvert_exporter": "python",
   "pygments_lexer": "ipython3",
   "version": "3.7.8"
  }
 },
 "nbformat": 4,
 "nbformat_minor": 5
}
