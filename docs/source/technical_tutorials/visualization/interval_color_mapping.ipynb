{
 "cells": [
  {
   "cell_type": "code",
   "execution_count": 1,
   "id": "429b6cdf",
   "metadata": {},
   "outputs": [],
   "source": [
    "#!pip install folium branca"
   ]
  },
  {
   "cell_type": "code",
   "execution_count": 2,
   "id": "ee8173d9",
   "metadata": {},
   "outputs": [],
   "source": [
    "import branca\n",
    "from folium import Map, TileLayer\n",
    "import json\n",
    "from matplotlib import cm\n",
    "import requests"
   ]
  },
  {
   "cell_type": "markdown",
   "id": "41d15632",
   "metadata": {},
   "source": [
    "# Discover data from STAC"
   ]
  },
  {
   "cell_type": "code",
   "execution_count": 3,
   "id": "7a3524dc",
   "metadata": {},
   "outputs": [
    {
     "data": {
      "text/plain": [
       "'s3://nasa-maap-data-store/file-staging/nasa-map/AfriSAR_AGB_Maps_1681___1/Rabi_AGB_50m.tif'"
      ]
     },
     "execution_count": 3,
     "metadata": {},
     "output_type": "execute_result"
    }
   ],
   "source": [
    "stac_endpoint = \"https://stac.maap-project.org\"\n",
    "titiler_endpoint = \"https://titiler.maap-project.org\"\n",
    "collection = \"AfriSAR_AGB_Maps_1681\"\n",
    "items_response = requests.get(f\"{stac_endpoint}/collections/{collection}/items\").json()\n",
    "url = items_response['features'][0]['assets']['data']['href']\n",
    "url"
   ]
  },
  {
   "cell_type": "markdown",
   "id": "edb1f9fd",
   "metadata": {},
   "source": [
    "# Get data values from the `/statistics` endpoint"
   ]
  },
  {
   "cell_type": "code",
   "execution_count": 4,
   "id": "d303acb8",
   "metadata": {},
   "outputs": [],
   "source": [
    "# You can use gdalinfo /vsis3/nasa-maap-data-store/file-staging/nasa-map/SRTMGL1_COD___001/N21W089.SRTMGL1.tif -stats\n",
    "# or you can get metadata from titiler.\n",
    "stats_response = requests.get(\n",
    "    f\"{titiler_endpoint}/cog/statistics\",\n",
    "    params = {\n",
    "        \"url\": url\n",
    "    }\n",
    ").json()"
   ]
  },
  {
   "cell_type": "code",
   "execution_count": 5,
   "id": "d9e4d649",
   "metadata": {},
   "outputs": [
    {
     "data": {
      "text/plain": [
       "[[0.08733899891376495, 51.720603942871094],\n",
       " [51.720603942871094, 103.35386657714844],\n",
       " [103.35386657714844, 154.9871368408203],\n",
       " [154.9871368408203, 206.62039184570312],\n",
       " [206.62039184570312, 258.253662109375],\n",
       " [258.253662109375, 309.8869323730469],\n",
       " [309.8869323730469, 361.52020263671875],\n",
       " [361.52020263671875, 413.1534423828125],\n",
       " [413.1534423828125, 464.7867126464844],\n",
       " [464.7867126464844, 516.4199829101562]]"
      ]
     },
     "execution_count": 5,
     "metadata": {},
     "output_type": "execute_result"
    }
   ],
   "source": [
    "bins = stats_response['b1']['histogram'][1]\n",
    "bin_ranges = [[bins[i], bins[i+1]] for i in range(len(bins)-1)]\n",
    "bin_ranges"
   ]
  },
  {
   "cell_type": "markdown",
   "id": "a47012f9",
   "metadata": {},
   "source": [
    "# Pick a color map and create a linear mapping"
   ]
  },
  {
   "cell_type": "code",
   "execution_count": 6,
   "id": "62ae547f",
   "metadata": {},
   "outputs": [],
   "source": [
    "# There are many pre-defined colormaps supported by matplotlib.\n",
    "# Some are listed below but a complete list be found here: https://matplotlib.org/3.1.0/tutorials/colors/colormaps.html\n",
    "# You may define custom color maps, but using the predefined ones makes life easier.\n",
    "sequential_cmaps = [\n",
    "    'Greys', 'Purples', 'Blues', 'Greens', 'Oranges', 'Reds',\n",
    "    'YlOrBr', 'YlOrRd', 'OrRd', 'PuRd', 'RdPu', 'BuPu',\n",
    "    'GnBu', 'PuBu', 'YlGnBu', 'PuBuGn', 'BuGn', 'YlGn'\n",
    "]\n",
    "\n",
    "sequential_cmaps2 = [\n",
    "    'binary', 'gist_yarg', 'gist_gray', 'gray', 'bone', 'pink',\n",
    "    'spring', 'summer', 'autumn', 'winter', 'cool', 'Wistia',\n",
    "    'hot', 'afmhot', 'gist_heat', 'copper']"
   ]
  },
  {
   "cell_type": "code",
   "execution_count": 7,
   "id": "9dd8fd84",
   "metadata": {},
   "outputs": [
    {
     "data": {
      "text/plain": [
       "[([0.08733899891376495, 51.720603942871094], [0, 0, 0, 255]),\n",
       " ([51.720603942871094, 103.35386657714844], [18, 48, 119, 255]),\n",
       " ([103.35386657714844, 154.9871368408203], [37, 102, 124, 255]),\n",
       " ([154.9871368408203, 206.62039184570312], [54, 135, 111, 255]),\n",
       " ([206.62039184570312, 258.253662109375], [67, 151, 77, 255]),\n",
       " ([258.253662109375, 309.8869323730469], [123, 167, 82, 255]),\n",
       " ([309.8869323730469, 361.52020263671875], [169, 179, 91, 255]),\n",
       " ([361.52020263671875, 413.1534423828125], [191, 164, 100, 255]),\n",
       " ([413.1534423828125, 464.7867126464844], [221, 186, 167, 255]),\n",
       " ([464.7867126464844, 516.4199829101562], [253, 250, 250, 255])]"
      ]
     },
     "execution_count": 7,
     "metadata": {},
     "output_type": "execute_result"
    }
   ],
   "source": [
    "# Here we create a list of pairs, each pair containing a data value interval range (aka \"bin\")\n",
    "# with a color value in RGBA (see https://www.w3schools.com/css/css3_colors.asp)\n",
    "# First we create a list of colors\n",
    "rgbas = [[int(value) for value in rgb] for rgb in cm.ScalarMappable(cmap='gist_earth').to_rgba(x=bins[:-1], bytes=True)]\n",
    "# Then we use python's zip function to pair rgba values with data values (https://www.w3schools.com/python/ref_func_zip.asp)\n",
    "color_map = list(zip(bin_ranges, rgbas))\n",
    "# some tweaking may be necessary\n",
    "color_map"
   ]
  },
  {
   "cell_type": "code",
   "execution_count": 8,
   "id": "ebf03e23",
   "metadata": {},
   "outputs": [],
   "source": [
    "# Let's also create a legend using the RGBA values and bins so our map visualization can be interpreted!\n",
    "legend = branca.colormap.StepColormap(rgbas, index=bins, vmin=round(bins[0], 2), vmax=round(bins[-1], 2))"
   ]
  },
  {
   "cell_type": "markdown",
   "id": "fbb3ab7d",
   "metadata": {},
   "source": [
    "# Preview the data"
   ]
  },
  {
   "cell_type": "code",
   "execution_count": 9,
   "id": "84670d92",
   "metadata": {},
   "outputs": [
    {
     "data": {
      "text/html": [
       "<div style=\"width:100%;\"><div style=\"position:relative;width:100%;height:0;padding-bottom:60%;\"><span style=\"color:#565656\">Make this Notebook Trusted to load map: File -> Trust Notebook</span><iframe srcdoc=\"&lt;!DOCTYPE html&gt;\n",
       "&lt;html&gt;\n",
       "&lt;head&gt;\n",
       "    \n",
       "    &lt;meta http-equiv=&quot;content-type&quot; content=&quot;text/html; charset=UTF-8&quot; /&gt;\n",
       "    \n",
       "        &lt;script&gt;\n",
       "            L_NO_TOUCH = false;\n",
       "            L_DISABLE_3D = false;\n",
       "        &lt;/script&gt;\n",
       "    \n",
       "    &lt;style&gt;html, body {width: 100%;height: 100%;margin: 0;padding: 0;}&lt;/style&gt;\n",
       "    &lt;style&gt;#map {position:absolute;top:0;bottom:0;right:0;left:0;}&lt;/style&gt;\n",
       "    &lt;script src=&quot;https://cdn.jsdelivr.net/npm/leaflet@1.9.3/dist/leaflet.js&quot;&gt;&lt;/script&gt;\n",
       "    &lt;script src=&quot;https://code.jquery.com/jquery-1.12.4.min.js&quot;&gt;&lt;/script&gt;\n",
       "    &lt;script src=&quot;https://cdn.jsdelivr.net/npm/bootstrap@5.2.2/dist/js/bootstrap.bundle.min.js&quot;&gt;&lt;/script&gt;\n",
       "    &lt;script src=&quot;https://cdnjs.cloudflare.com/ajax/libs/Leaflet.awesome-markers/2.0.2/leaflet.awesome-markers.js&quot;&gt;&lt;/script&gt;\n",
       "    &lt;link rel=&quot;stylesheet&quot; href=&quot;https://cdn.jsdelivr.net/npm/leaflet@1.9.3/dist/leaflet.css&quot;/&gt;\n",
       "    &lt;link rel=&quot;stylesheet&quot; href=&quot;https://cdn.jsdelivr.net/npm/bootstrap@5.2.2/dist/css/bootstrap.min.css&quot;/&gt;\n",
       "    &lt;link rel=&quot;stylesheet&quot; href=&quot;https://netdna.bootstrapcdn.com/bootstrap/3.0.0/css/bootstrap.min.css&quot;/&gt;\n",
       "    &lt;link rel=&quot;stylesheet&quot; href=&quot;https://cdn.jsdelivr.net/npm/@fortawesome/fontawesome-free@6.2.0/css/all.min.css&quot;/&gt;\n",
       "    &lt;link rel=&quot;stylesheet&quot; href=&quot;https://cdnjs.cloudflare.com/ajax/libs/Leaflet.awesome-markers/2.0.2/leaflet.awesome-markers.css&quot;/&gt;\n",
       "    &lt;link rel=&quot;stylesheet&quot; href=&quot;https://cdn.jsdelivr.net/gh/python-visualization/folium/folium/templates/leaflet.awesome.rotate.min.css&quot;/&gt;\n",
       "    \n",
       "            &lt;meta name=&quot;viewport&quot; content=&quot;width=device-width,\n",
       "                initial-scale=1.0, maximum-scale=1.0, user-scalable=no&quot; /&gt;\n",
       "            &lt;style&gt;\n",
       "                #map_9e120e9557014b766ecdcd3e821fad17 {\n",
       "                    position: relative;\n",
       "                    width: 100.0%;\n",
       "                    height: 100.0%;\n",
       "                    left: 0.0%;\n",
       "                    top: 0.0%;\n",
       "                }\n",
       "                .leaflet-container { font-size: 1rem; }\n",
       "            &lt;/style&gt;\n",
       "        \n",
       "    &lt;script src=&quot;https://cdnjs.cloudflare.com/ajax/libs/d3/3.5.5/d3.min.js&quot;&gt;&lt;/script&gt;\n",
       "&lt;/head&gt;\n",
       "&lt;body&gt;\n",
       "    \n",
       "    \n",
       "            &lt;div class=&quot;folium-map&quot; id=&quot;map_9e120e9557014b766ecdcd3e821fad17&quot; &gt;&lt;/div&gt;\n",
       "        \n",
       "&lt;/body&gt;\n",
       "&lt;script&gt;\n",
       "    \n",
       "    \n",
       "            var map_9e120e9557014b766ecdcd3e821fad17 = L.map(\n",
       "                &quot;map_9e120e9557014b766ecdcd3e821fad17&quot;,\n",
       "                {\n",
       "                    center: [-1.9231676923251582, 9.882751062280121],\n",
       "                    crs: L.CRS.EPSG3857,\n",
       "                    zoom: 13,\n",
       "                    zoomControl: true,\n",
       "                    preferCanvas: false,\n",
       "                }\n",
       "            );\n",
       "\n",
       "            \n",
       "\n",
       "        \n",
       "    \n",
       "            var tile_layer_f4f59380fc1a412a07f33ea152fb07e6 = L.tileLayer(\n",
       "                &quot;https://{s}.tile.openstreetmap.org/{z}/{x}/{y}.png&quot;,\n",
       "                {&quot;attribution&quot;: &quot;Data by \\u0026copy; \\u003ca target=\\&quot;_blank\\&quot; href=\\&quot;http://openstreetmap.org\\&quot;\\u003eOpenStreetMap\\u003c/a\\u003e, under \\u003ca target=\\&quot;_blank\\&quot; href=\\&quot;http://www.openstreetmap.org/copyright\\&quot;\\u003eODbL\\u003c/a\\u003e.&quot;, &quot;detectRetina&quot;: false, &quot;maxNativeZoom&quot;: 18, &quot;maxZoom&quot;: 18, &quot;minZoom&quot;: 0, &quot;noWrap&quot;: false, &quot;opacity&quot;: 1, &quot;subdomains&quot;: &quot;abc&quot;, &quot;tms&quot;: false}\n",
       "            ).addTo(map_9e120e9557014b766ecdcd3e821fad17);\n",
       "        \n",
       "    \n",
       "            var tile_layer_ecf0b2680d22abcb62de51b5c4dcf38b = L.tileLayer(\n",
       "                &quot;https://titiler.ops.maap-project.org/cog/tiles/WebMercatorQuad/{z}/{x}/{y}@1x?url=s3%3A%2F%2Fnasa-maap-data-store%2Ffile-staging%2Fnasa-map%2FAfriSAR_AGB_Maps_1681___1%2FRabi_AGB_50m.tif\\u0026colormap=%5B%5B%5B0.08733899891376495%2C+51.720603942871094%5D%2C+%5B0%2C+0%2C+0%2C+255%5D%5D%2C+%5B%5B51.720603942871094%2C+103.35386657714844%5D%2C+%5B18%2C+48%2C+119%2C+255%5D%5D%2C+%5B%5B103.35386657714844%2C+154.9871368408203%5D%2C+%5B37%2C+102%2C+124%2C+255%5D%5D%2C+%5B%5B154.9871368408203%2C+206.62039184570312%5D%2C+%5B54%2C+135%2C+111%2C+255%5D%5D%2C+%5B%5B206.62039184570312%2C+258.253662109375%5D%2C+%5B67%2C+151%2C+77%2C+255%5D%5D%2C+%5B%5B258.253662109375%2C+309.8869323730469%5D%2C+%5B123%2C+167%2C+82%2C+255%5D%5D%2C+%5B%5B309.8869323730469%2C+361.52020263671875%5D%2C+%5B169%2C+179%2C+91%2C+255%5D%5D%2C+%5B%5B361.52020263671875%2C+413.1534423828125%5D%2C+%5B191%2C+164%2C+100%2C+255%5D%5D%2C+%5B%5B413.1534423828125%2C+464.7867126464844%5D%2C+%5B221%2C+186%2C+167%2C+255%5D%5D%2C+%5B%5B464.7867126464844%2C+516.4199829101562%5D%2C+%5B253%2C+250%2C+250%2C+255%5D%5D%5D&quot;,\n",
       "                {&quot;attribution&quot;: &quot;Swisstopo&quot;, &quot;detectRetina&quot;: false, &quot;maxNativeZoom&quot;: 18, &quot;maxZoom&quot;: 18, &quot;minZoom&quot;: 0, &quot;noWrap&quot;: false, &quot;opacity&quot;: 1, &quot;subdomains&quot;: &quot;abc&quot;, &quot;tms&quot;: false}\n",
       "            ).addTo(map_9e120e9557014b766ecdcd3e821fad17);\n",
       "        \n",
       "    \n",
       "    var color_map_98f0b43d5ccd7a52b34236a5624a9a60 = {};\n",
       "\n",
       "    \n",
       "    color_map_98f0b43d5ccd7a52b34236a5624a9a60.color = d3.scale.threshold()\n",
       "              .domain([0.09, 1.1247294589178356, 2.159458917835671, 3.1941883767535066, 4.228917835671342, 5.263647294589178, 6.298376753507013, 7.333106212424848, 8.367835671342684, 9.40256513026052, 10.437294589178356, 11.472024048096191, 12.506753507014027, 13.541482965931861, 14.576212424849697, 15.610941883767532, 16.645671342685368, 17.680400801603202, 18.71513026052104, 19.749859719438874, 20.78458917835671, 21.819318637274545, 22.854048096192383, 23.888777555110217, 24.923507014028054, 25.958236472945888, 26.992965931863722, 28.02769539078156, 29.062424849699394, 30.09715430861723, 31.131883767535065, 32.1666132264529, 33.20134268537074, 34.23607214428858, 35.27080160320641, 36.305531062124246, 37.34026052104208, 38.37498997995992, 39.40971943887775, 40.44444889779559, 41.479178356713426, 42.51390781563126, 43.548637274549094, 44.583366733466924, 45.61809619238477, 46.65282565130261, 47.68755511022044, 48.72228456913827, 49.75701402805611, 50.79174348697395, 51.82647294589178, 52.86120240480961, 53.89593186372745, 54.93066132264529, 55.96539078156312, 57.00012024048095, 58.03484969939879, 59.069579158316635, 60.104308617234466, 61.139038076152296, 62.173767535070134, 63.20849699398797, 64.2432264529058, 65.27795591182364, 66.31268537074148, 67.34741482965931, 68.38214428857715, 69.41687374749498, 70.45160320641281, 71.48633266533066, 72.52106212424849, 73.55579158316633, 74.59052104208416, 75.625250501002, 76.65997995991984, 77.69470941883766, 78.7294388777555, 79.76416833667334, 80.79889779559117, 81.83362725450901, 82.86835671342685, 83.90308617234469, 84.93781563126252, 85.97254509018035, 87.00727454909818, 88.04200400801602, 89.07673346693385, 90.1114629258517, 91.14619238476953, 92.18092184368737, 93.21565130260521, 94.25038076152303, 95.28511022044087, 96.31983967935871, 97.35456913827653, 98.38929859719437, 99.42402805611222, 100.45875751503006, 101.4934869739479, 102.52821643286572, 103.56294589178356, 104.5976753507014, 105.63240480961922, 106.66713426853705, 107.70186372745489, 108.73659318637274, 109.77132264529058, 110.8060521042084, 111.84078156312624, 112.87551102204408, 113.9102404809619, 114.94496993987974, 115.97969939879758, 117.01442885771542, 118.04915831663327, 119.08388777555109, 120.11861723446893, 121.15334669338677, 122.18807615230459, 123.22280561122243, 124.25753507014026, 125.2922645290581, 126.32699398797594, 127.36172344689376, 128.3964529058116, 129.43118236472944, 130.46591182364728, 131.5006412825651, 132.53537074148295, 133.5701002004008, 134.60482965931863, 135.63955911823646, 136.6742885771543, 137.7090180360721, 138.74374749498995, 139.77847695390778, 140.81320641282562, 141.8479358717435, 142.88266533066133, 143.91739478957916, 144.95212424849697, 145.9868537074148, 147.02158316633265, 148.05631262525048, 149.09104208416832, 150.12577154308616, 151.160501002004, 152.19523046092183, 153.22995991983967, 154.26468937875748, 155.29941883767532, 156.33414829659316, 157.368877755511, 158.40360721442883, 159.43833667334667, 160.47306613226453, 161.50779559118234, 162.54252505010018, 163.57725450901802, 164.61198396793586, 165.6467134268537, 166.68144288577153, 167.71617234468937, 168.7509018036072, 169.78563126252504, 170.82036072144285, 171.8550901803607, 172.88981963927853, 173.92454909819637, 174.9592785571142, 175.99400801603204, 177.02873747494988, 178.0634669338677, 179.09819639278552, 180.1329258517034, 181.16765531062123, 182.20238476953907, 183.2371142284569, 184.27184368737474, 185.30657314629258, 186.34130260521042, 187.37603206412822, 188.41076152304606, 189.4454909819639, 190.48022044088174, 191.51494989979957, 192.5496793587174, 193.58440881763525, 194.61913827655306, 195.6538677354709, 196.68859719438873, 197.72332665330657, 198.75805611222444, 199.79278557114228, 200.8275150300601, 201.86224448897795, 202.8969739478958, 203.9317034068136, 204.96643286573143, 206.00116232464927, 207.0358917835671, 208.07062124248495, 209.10535070140278, 210.14008016032062, 211.17480961923843, 212.20953907815627, 213.2442685370741, 214.27899799599194, 215.31372745490978, 216.34845691382762, 217.38318637274548, 218.41791583166332, 219.45264529058116, 220.48737474949897, 221.5221042084168, 222.55683366733464, 223.59156312625248, 224.62629258517032, 225.66102204408816, 226.695751503006, 227.7304809619238, 228.76521042084164, 229.79993987975948, 230.83466933867732, 231.86939879759515, 232.904128256513, 233.93885771543083, 234.97358717434867, 236.00831663326653, 237.04304609218434, 238.07777555110218, 239.11250501002002, 240.14723446893785, 241.1819639278557, 242.21669338677353, 243.25142284569137, 244.28615230460917, 245.320881763527, 246.35561122244485, 247.3903406813627, 248.42507014028052, 249.45979959919836, 250.4945290581162, 251.52925851703404, 252.56398797595187, 253.59871743486968, 254.63344689378752, 255.6681763527054, 256.70290581162317, 257.73763527054103, 258.77236472945884, 259.8070941883767, 260.8418236472945, 261.8765531062123, 262.9112825651302, 263.94601202404806, 264.98074148296587, 266.0154709418837, 267.05020040080154, 268.08492985971935, 269.1196593186372, 270.154388777555, 271.1891182364729, 272.2238476953907, 273.25857715430857, 274.2933066132264, 275.3280360721442, 276.36276553106205, 277.39749498997986, 278.4322244488977, 279.46695390781554, 280.5016833667334, 281.5364128256512, 282.571142284569, 283.60587174348694, 284.64060120240475, 285.6753306613226, 286.7100601202404, 287.7447895791583, 288.7795190380761, 289.8142484969939, 290.8489779559118, 291.8837074148296, 292.91843687374745, 293.95316633266526, 294.9878957915831, 296.02262525050094, 297.0573547094188, 298.0920841683366, 299.1268136272544, 300.1615430861723, 301.1962725450901, 302.23100200400796, 303.26573146292577, 304.30046092184364, 305.33519038076145, 306.3699198396793, 307.4046492985971, 308.43937875751493, 309.4741082164328, 310.5088376753506, 311.54356713426847, 312.5782965931863, 313.61302605210415, 314.64775551102196, 315.68248496993976, 316.71721442885763, 317.75194388777544, 318.7866733466933, 319.8214028056111, 320.85613226452904, 321.89086172344685, 322.92559118236466, 323.9603206412825, 324.99505010020033, 326.0297795591182, 327.064509018036, 328.0992384769539, 329.1339679358717, 330.16869739478955, 331.20342685370736, 332.23815631262516, 333.27288577154303, 334.30761523046084, 335.3423446893787, 336.3770741482965, 337.4118036072144, 338.4465330661322, 339.48126252505006, 340.51599198396787, 341.5507214428857, 342.58545090180354, 343.62018036072135, 344.6549098196392, 345.689639278557, 346.7243687374749, 347.7590981963927, 348.7938276553105, 349.8285571142284, 350.8632865731462, 351.89801603206405, 352.93274549098186, 353.9674749498997, 355.00220440881753, 356.03693386773534, 357.0716633266532, 358.106392785571, 359.14112224448894, 360.17585170340675, 361.2105811623246, 362.2453106212424, 363.2800400801603, 364.3147695390781, 365.3494989979959, 366.3842284569138, 367.4189579158316, 368.45368737474945, 369.48841683366726, 370.5231462925851, 371.55787575150293, 372.5926052104208, 373.6273346693386, 374.6620641282564, 375.6967935871743, 376.7315230460921, 377.76625250500996, 378.80098196392777, 379.83571142284563, 380.87044088176344, 381.90517034068125, 382.9398997995991, 383.9746292585169, 385.0093587174348, 386.0440881763526, 387.07881763527047, 388.1135470941883, 389.1482765531061, 390.18300601202395, 391.21773547094176, 392.2524649298596, 393.28719438877744, 394.3219238476953, 395.3566533066131, 396.39138276553103, 397.42611222444884, 398.46084168336665, 399.4955711422845, 400.5303006012023, 401.5650300601202, 402.599759519038, 403.63448897795587, 404.6692184368737, 405.70394789579154, 406.73867735470935, 407.77340681362716, 408.808136272545, 409.84286573146284, 410.8775951903807, 411.9123246492985, 412.9470541082164, 413.9817835671342, 415.016513026052, 416.05124248496986, 417.08597194388767, 418.12070140280554, 419.15543086172335, 420.1901603206412, 421.224889779559, 422.25961923847683, 423.2943486973947, 424.3290781563125, 425.36380761523037, 426.3985370741482, 427.43326653306605, 428.46799599198386, 429.5027254509017, 430.53745490981953, 431.57218436873734, 432.6069138276552, 433.641643286573, 434.67637274549094, 435.71110220440875, 436.7458316633266, 437.7805611222444, 438.8152905811623, 439.8500200400801, 440.8847494989979, 441.91947895791577, 442.9542084168336, 443.98893787575145, 445.02366733466926, 446.0583967935871, 447.09312625250493, 448.12785571142274, 449.1625851703406, 450.1973146292584, 451.2320440881763, 452.2667735470941, 453.30150300601196, 454.33623246492976, 455.3709619238476, 456.40569138276544, 457.44042084168325, 458.4751503006011, 459.5098797595189, 460.5446092184368, 461.5793386773546, 462.61406813627246, 463.6487975951903, 464.6835270541081, 465.71825651302595, 466.75298597194376, 467.7877154308616, 468.82244488977943, 469.8571743486973, 470.8919038076151, 471.92663326653303, 472.96136272545084, 473.99609218436865, 475.0308216432865, 476.0655511022043, 477.1002805611222, 478.13501002004, 479.16973947895787, 480.2044689378757, 481.2391983967935, 482.27392785571135, 483.30865731462916, 484.343386773547, 485.37811623246483, 486.4128456913827, 487.4475751503005, 488.4823046092183, 489.5170340681362, 490.551763527054, 491.58649298597186, 492.62122244488967, 493.65595190380753, 494.69068136272534, 495.7254108216432, 496.760140280561, 497.7948697394788, 498.8295991983967, 499.8643286573145, 500.89905811623237, 501.9337875751502, 502.96851703406804, 504.00324649298585, 505.0379759519037, 506.0727054108215, 507.10743486973934, 508.1421643286572, 509.176893787575, 510.21162324649293, 511.24635270541074, 512.2810821643286, 513.3158116232464, 514.3505410821642, 515.3852705410821, 516.42])\n",
       "              .range([&#x27;#000000ff&#x27;, &#x27;#000000ff&#x27;, &#x27;#000000ff&#x27;, &#x27;#000000ff&#x27;, &#x27;#000000ff&#x27;, &#x27;#000000ff&#x27;, &#x27;#000000ff&#x27;, &#x27;#000000ff&#x27;, &#x27;#000000ff&#x27;, &#x27;#000000ff&#x27;, &#x27;#000000ff&#x27;, &#x27;#000000ff&#x27;, &#x27;#000000ff&#x27;, &#x27;#000000ff&#x27;, &#x27;#000000ff&#x27;, &#x27;#000000ff&#x27;, &#x27;#000000ff&#x27;, &#x27;#000000ff&#x27;, &#x27;#000000ff&#x27;, &#x27;#000000ff&#x27;, &#x27;#000000ff&#x27;, &#x27;#000000ff&#x27;, &#x27;#000000ff&#x27;, &#x27;#000000ff&#x27;, &#x27;#000000ff&#x27;, &#x27;#000000ff&#x27;, &#x27;#000000ff&#x27;, &#x27;#000000ff&#x27;, &#x27;#000000ff&#x27;, &#x27;#000000ff&#x27;, &#x27;#000000ff&#x27;, &#x27;#000000ff&#x27;, &#x27;#000000ff&#x27;, &#x27;#000000ff&#x27;, &#x27;#000000ff&#x27;, &#x27;#000000ff&#x27;, &#x27;#000000ff&#x27;, &#x27;#000000ff&#x27;, &#x27;#000000ff&#x27;, &#x27;#000000ff&#x27;, &#x27;#000000ff&#x27;, &#x27;#000000ff&#x27;, &#x27;#000000ff&#x27;, &#x27;#000000ff&#x27;, &#x27;#000000ff&#x27;, &#x27;#000000ff&#x27;, &#x27;#000000ff&#x27;, &#x27;#000000ff&#x27;, &#x27;#000000ff&#x27;, &#x27;#000000ff&#x27;, &#x27;#123077ff&#x27;, &#x27;#123077ff&#x27;, &#x27;#123077ff&#x27;, &#x27;#123077ff&#x27;, &#x27;#123077ff&#x27;, &#x27;#123077ff&#x27;, &#x27;#123077ff&#x27;, &#x27;#123077ff&#x27;, &#x27;#123077ff&#x27;, &#x27;#123077ff&#x27;, &#x27;#123077ff&#x27;, &#x27;#123077ff&#x27;, &#x27;#123077ff&#x27;, &#x27;#123077ff&#x27;, &#x27;#123077ff&#x27;, &#x27;#123077ff&#x27;, &#x27;#123077ff&#x27;, &#x27;#123077ff&#x27;, &#x27;#123077ff&#x27;, &#x27;#123077ff&#x27;, &#x27;#123077ff&#x27;, &#x27;#123077ff&#x27;, &#x27;#123077ff&#x27;, &#x27;#123077ff&#x27;, &#x27;#123077ff&#x27;, &#x27;#123077ff&#x27;, &#x27;#123077ff&#x27;, &#x27;#123077ff&#x27;, &#x27;#123077ff&#x27;, &#x27;#123077ff&#x27;, &#x27;#123077ff&#x27;, &#x27;#123077ff&#x27;, &#x27;#123077ff&#x27;, &#x27;#123077ff&#x27;, &#x27;#123077ff&#x27;, &#x27;#123077ff&#x27;, &#x27;#123077ff&#x27;, &#x27;#123077ff&#x27;, &#x27;#123077ff&#x27;, &#x27;#123077ff&#x27;, &#x27;#123077ff&#x27;, &#x27;#123077ff&#x27;, &#x27;#123077ff&#x27;, &#x27;#123077ff&#x27;, &#x27;#123077ff&#x27;, &#x27;#123077ff&#x27;, &#x27;#123077ff&#x27;, &#x27;#123077ff&#x27;, &#x27;#123077ff&#x27;, &#x27;#123077ff&#x27;, &#x27;#25667cff&#x27;, &#x27;#25667cff&#x27;, &#x27;#25667cff&#x27;, &#x27;#25667cff&#x27;, &#x27;#25667cff&#x27;, &#x27;#25667cff&#x27;, &#x27;#25667cff&#x27;, &#x27;#25667cff&#x27;, &#x27;#25667cff&#x27;, &#x27;#25667cff&#x27;, &#x27;#25667cff&#x27;, &#x27;#25667cff&#x27;, &#x27;#25667cff&#x27;, &#x27;#25667cff&#x27;, &#x27;#25667cff&#x27;, &#x27;#25667cff&#x27;, &#x27;#25667cff&#x27;, &#x27;#25667cff&#x27;, &#x27;#25667cff&#x27;, &#x27;#25667cff&#x27;, &#x27;#25667cff&#x27;, &#x27;#25667cff&#x27;, &#x27;#25667cff&#x27;, &#x27;#25667cff&#x27;, &#x27;#25667cff&#x27;, &#x27;#25667cff&#x27;, &#x27;#25667cff&#x27;, &#x27;#25667cff&#x27;, &#x27;#25667cff&#x27;, &#x27;#25667cff&#x27;, &#x27;#25667cff&#x27;, &#x27;#25667cff&#x27;, &#x27;#25667cff&#x27;, &#x27;#25667cff&#x27;, &#x27;#25667cff&#x27;, &#x27;#25667cff&#x27;, &#x27;#25667cff&#x27;, &#x27;#25667cff&#x27;, &#x27;#25667cff&#x27;, &#x27;#25667cff&#x27;, &#x27;#25667cff&#x27;, &#x27;#25667cff&#x27;, &#x27;#25667cff&#x27;, &#x27;#25667cff&#x27;, &#x27;#25667cff&#x27;, &#x27;#25667cff&#x27;, &#x27;#25667cff&#x27;, &#x27;#25667cff&#x27;, &#x27;#25667cff&#x27;, &#x27;#25667cff&#x27;, &#x27;#36876fff&#x27;, &#x27;#36876fff&#x27;, &#x27;#36876fff&#x27;, &#x27;#36876fff&#x27;, &#x27;#36876fff&#x27;, &#x27;#36876fff&#x27;, &#x27;#36876fff&#x27;, &#x27;#36876fff&#x27;, &#x27;#36876fff&#x27;, &#x27;#36876fff&#x27;, &#x27;#36876fff&#x27;, &#x27;#36876fff&#x27;, &#x27;#36876fff&#x27;, &#x27;#36876fff&#x27;, &#x27;#36876fff&#x27;, &#x27;#36876fff&#x27;, &#x27;#36876fff&#x27;, &#x27;#36876fff&#x27;, &#x27;#36876fff&#x27;, &#x27;#36876fff&#x27;, &#x27;#36876fff&#x27;, &#x27;#36876fff&#x27;, &#x27;#36876fff&#x27;, &#x27;#36876fff&#x27;, &#x27;#36876fff&#x27;, &#x27;#36876fff&#x27;, &#x27;#36876fff&#x27;, &#x27;#36876fff&#x27;, &#x27;#36876fff&#x27;, &#x27;#36876fff&#x27;, &#x27;#36876fff&#x27;, &#x27;#36876fff&#x27;, &#x27;#36876fff&#x27;, &#x27;#36876fff&#x27;, &#x27;#36876fff&#x27;, &#x27;#36876fff&#x27;, &#x27;#36876fff&#x27;, &#x27;#36876fff&#x27;, &#x27;#36876fff&#x27;, &#x27;#36876fff&#x27;, &#x27;#36876fff&#x27;, &#x27;#36876fff&#x27;, &#x27;#36876fff&#x27;, &#x27;#36876fff&#x27;, &#x27;#36876fff&#x27;, &#x27;#36876fff&#x27;, &#x27;#36876fff&#x27;, &#x27;#36876fff&#x27;, &#x27;#36876fff&#x27;, &#x27;#36876fff&#x27;, &#x27;#43974dff&#x27;, &#x27;#43974dff&#x27;, &#x27;#43974dff&#x27;, &#x27;#43974dff&#x27;, &#x27;#43974dff&#x27;, &#x27;#43974dff&#x27;, &#x27;#43974dff&#x27;, &#x27;#43974dff&#x27;, &#x27;#43974dff&#x27;, &#x27;#43974dff&#x27;, &#x27;#43974dff&#x27;, &#x27;#43974dff&#x27;, &#x27;#43974dff&#x27;, &#x27;#43974dff&#x27;, &#x27;#43974dff&#x27;, &#x27;#43974dff&#x27;, &#x27;#43974dff&#x27;, &#x27;#43974dff&#x27;, &#x27;#43974dff&#x27;, &#x27;#43974dff&#x27;, &#x27;#43974dff&#x27;, &#x27;#43974dff&#x27;, &#x27;#43974dff&#x27;, &#x27;#43974dff&#x27;, &#x27;#43974dff&#x27;, &#x27;#43974dff&#x27;, &#x27;#43974dff&#x27;, &#x27;#43974dff&#x27;, &#x27;#43974dff&#x27;, &#x27;#43974dff&#x27;, &#x27;#43974dff&#x27;, &#x27;#43974dff&#x27;, &#x27;#43974dff&#x27;, &#x27;#43974dff&#x27;, &#x27;#43974dff&#x27;, &#x27;#43974dff&#x27;, &#x27;#43974dff&#x27;, &#x27;#43974dff&#x27;, &#x27;#43974dff&#x27;, &#x27;#43974dff&#x27;, &#x27;#43974dff&#x27;, &#x27;#43974dff&#x27;, &#x27;#43974dff&#x27;, &#x27;#43974dff&#x27;, &#x27;#43974dff&#x27;, &#x27;#43974dff&#x27;, &#x27;#43974dff&#x27;, &#x27;#43974dff&#x27;, &#x27;#43974dff&#x27;, &#x27;#43974dff&#x27;, &#x27;#7ba752ff&#x27;, &#x27;#7ba752ff&#x27;, &#x27;#7ba752ff&#x27;, &#x27;#7ba752ff&#x27;, &#x27;#7ba752ff&#x27;, &#x27;#7ba752ff&#x27;, &#x27;#7ba752ff&#x27;, &#x27;#7ba752ff&#x27;, &#x27;#7ba752ff&#x27;, &#x27;#7ba752ff&#x27;, &#x27;#7ba752ff&#x27;, &#x27;#7ba752ff&#x27;, &#x27;#7ba752ff&#x27;, &#x27;#7ba752ff&#x27;, &#x27;#7ba752ff&#x27;, &#x27;#7ba752ff&#x27;, &#x27;#7ba752ff&#x27;, &#x27;#7ba752ff&#x27;, &#x27;#7ba752ff&#x27;, &#x27;#7ba752ff&#x27;, &#x27;#7ba752ff&#x27;, &#x27;#7ba752ff&#x27;, &#x27;#7ba752ff&#x27;, &#x27;#7ba752ff&#x27;, &#x27;#7ba752ff&#x27;, &#x27;#7ba752ff&#x27;, &#x27;#7ba752ff&#x27;, &#x27;#7ba752ff&#x27;, &#x27;#7ba752ff&#x27;, &#x27;#7ba752ff&#x27;, &#x27;#7ba752ff&#x27;, &#x27;#7ba752ff&#x27;, &#x27;#7ba752ff&#x27;, &#x27;#7ba752ff&#x27;, &#x27;#7ba752ff&#x27;, &#x27;#7ba752ff&#x27;, &#x27;#7ba752ff&#x27;, &#x27;#7ba752ff&#x27;, &#x27;#7ba752ff&#x27;, &#x27;#7ba752ff&#x27;, &#x27;#7ba752ff&#x27;, &#x27;#7ba752ff&#x27;, &#x27;#7ba752ff&#x27;, &#x27;#7ba752ff&#x27;, &#x27;#7ba752ff&#x27;, &#x27;#7ba752ff&#x27;, &#x27;#7ba752ff&#x27;, &#x27;#7ba752ff&#x27;, &#x27;#7ba752ff&#x27;, &#x27;#7ba752ff&#x27;, &#x27;#a9b35bff&#x27;, &#x27;#a9b35bff&#x27;, &#x27;#a9b35bff&#x27;, &#x27;#a9b35bff&#x27;, &#x27;#a9b35bff&#x27;, &#x27;#a9b35bff&#x27;, &#x27;#a9b35bff&#x27;, &#x27;#a9b35bff&#x27;, &#x27;#a9b35bff&#x27;, &#x27;#a9b35bff&#x27;, &#x27;#a9b35bff&#x27;, &#x27;#a9b35bff&#x27;, &#x27;#a9b35bff&#x27;, &#x27;#a9b35bff&#x27;, &#x27;#a9b35bff&#x27;, &#x27;#a9b35bff&#x27;, &#x27;#a9b35bff&#x27;, &#x27;#a9b35bff&#x27;, &#x27;#a9b35bff&#x27;, &#x27;#a9b35bff&#x27;, &#x27;#a9b35bff&#x27;, &#x27;#a9b35bff&#x27;, &#x27;#a9b35bff&#x27;, &#x27;#a9b35bff&#x27;, &#x27;#a9b35bff&#x27;, &#x27;#a9b35bff&#x27;, &#x27;#a9b35bff&#x27;, &#x27;#a9b35bff&#x27;, &#x27;#a9b35bff&#x27;, &#x27;#a9b35bff&#x27;, &#x27;#a9b35bff&#x27;, &#x27;#a9b35bff&#x27;, &#x27;#a9b35bff&#x27;, &#x27;#a9b35bff&#x27;, &#x27;#a9b35bff&#x27;, &#x27;#a9b35bff&#x27;, &#x27;#a9b35bff&#x27;, &#x27;#a9b35bff&#x27;, &#x27;#a9b35bff&#x27;, &#x27;#a9b35bff&#x27;, &#x27;#a9b35bff&#x27;, &#x27;#a9b35bff&#x27;, &#x27;#a9b35bff&#x27;, &#x27;#a9b35bff&#x27;, &#x27;#a9b35bff&#x27;, &#x27;#a9b35bff&#x27;, &#x27;#a9b35bff&#x27;, &#x27;#a9b35bff&#x27;, &#x27;#a9b35bff&#x27;, &#x27;#a9b35bff&#x27;, &#x27;#bfa464ff&#x27;, &#x27;#bfa464ff&#x27;, &#x27;#bfa464ff&#x27;, &#x27;#bfa464ff&#x27;, &#x27;#bfa464ff&#x27;, &#x27;#bfa464ff&#x27;, &#x27;#bfa464ff&#x27;, &#x27;#bfa464ff&#x27;, &#x27;#bfa464ff&#x27;, &#x27;#bfa464ff&#x27;, &#x27;#bfa464ff&#x27;, &#x27;#bfa464ff&#x27;, &#x27;#bfa464ff&#x27;, &#x27;#bfa464ff&#x27;, &#x27;#bfa464ff&#x27;, &#x27;#bfa464ff&#x27;, &#x27;#bfa464ff&#x27;, &#x27;#bfa464ff&#x27;, &#x27;#bfa464ff&#x27;, &#x27;#bfa464ff&#x27;, &#x27;#bfa464ff&#x27;, &#x27;#bfa464ff&#x27;, &#x27;#bfa464ff&#x27;, &#x27;#bfa464ff&#x27;, &#x27;#bfa464ff&#x27;, &#x27;#bfa464ff&#x27;, &#x27;#bfa464ff&#x27;, &#x27;#bfa464ff&#x27;, &#x27;#bfa464ff&#x27;, &#x27;#bfa464ff&#x27;, &#x27;#bfa464ff&#x27;, &#x27;#bfa464ff&#x27;, &#x27;#bfa464ff&#x27;, &#x27;#bfa464ff&#x27;, &#x27;#bfa464ff&#x27;, &#x27;#bfa464ff&#x27;, &#x27;#bfa464ff&#x27;, &#x27;#bfa464ff&#x27;, &#x27;#bfa464ff&#x27;, &#x27;#bfa464ff&#x27;, &#x27;#bfa464ff&#x27;, &#x27;#bfa464ff&#x27;, &#x27;#bfa464ff&#x27;, &#x27;#bfa464ff&#x27;, &#x27;#bfa464ff&#x27;, &#x27;#bfa464ff&#x27;, &#x27;#bfa464ff&#x27;, &#x27;#bfa464ff&#x27;, &#x27;#bfa464ff&#x27;, &#x27;#bfa464ff&#x27;, &#x27;#ddbaa7ff&#x27;, &#x27;#ddbaa7ff&#x27;, &#x27;#ddbaa7ff&#x27;, &#x27;#ddbaa7ff&#x27;, &#x27;#ddbaa7ff&#x27;, &#x27;#ddbaa7ff&#x27;, &#x27;#ddbaa7ff&#x27;, &#x27;#ddbaa7ff&#x27;, &#x27;#ddbaa7ff&#x27;, &#x27;#ddbaa7ff&#x27;, &#x27;#ddbaa7ff&#x27;, &#x27;#ddbaa7ff&#x27;, &#x27;#ddbaa7ff&#x27;, &#x27;#ddbaa7ff&#x27;, &#x27;#ddbaa7ff&#x27;, &#x27;#ddbaa7ff&#x27;, &#x27;#ddbaa7ff&#x27;, &#x27;#ddbaa7ff&#x27;, &#x27;#ddbaa7ff&#x27;, &#x27;#ddbaa7ff&#x27;, &#x27;#ddbaa7ff&#x27;, &#x27;#ddbaa7ff&#x27;, &#x27;#ddbaa7ff&#x27;, &#x27;#ddbaa7ff&#x27;, &#x27;#ddbaa7ff&#x27;, &#x27;#ddbaa7ff&#x27;, &#x27;#ddbaa7ff&#x27;, &#x27;#ddbaa7ff&#x27;, &#x27;#ddbaa7ff&#x27;, &#x27;#ddbaa7ff&#x27;, &#x27;#ddbaa7ff&#x27;, &#x27;#ddbaa7ff&#x27;, &#x27;#ddbaa7ff&#x27;, &#x27;#ddbaa7ff&#x27;, &#x27;#ddbaa7ff&#x27;, &#x27;#ddbaa7ff&#x27;, &#x27;#ddbaa7ff&#x27;, &#x27;#ddbaa7ff&#x27;, &#x27;#ddbaa7ff&#x27;, &#x27;#ddbaa7ff&#x27;, &#x27;#ddbaa7ff&#x27;, &#x27;#ddbaa7ff&#x27;, &#x27;#ddbaa7ff&#x27;, &#x27;#ddbaa7ff&#x27;, &#x27;#ddbaa7ff&#x27;, &#x27;#ddbaa7ff&#x27;, &#x27;#ddbaa7ff&#x27;, &#x27;#ddbaa7ff&#x27;, &#x27;#ddbaa7ff&#x27;, &#x27;#ddbaa7ff&#x27;, &#x27;#fdfafaff&#x27;, &#x27;#fdfafaff&#x27;, &#x27;#fdfafaff&#x27;, &#x27;#fdfafaff&#x27;, &#x27;#fdfafaff&#x27;, &#x27;#fdfafaff&#x27;, &#x27;#fdfafaff&#x27;, &#x27;#fdfafaff&#x27;, &#x27;#fdfafaff&#x27;, &#x27;#fdfafaff&#x27;, &#x27;#fdfafaff&#x27;, &#x27;#fdfafaff&#x27;, &#x27;#fdfafaff&#x27;, &#x27;#fdfafaff&#x27;, &#x27;#fdfafaff&#x27;, &#x27;#fdfafaff&#x27;, &#x27;#fdfafaff&#x27;, &#x27;#fdfafaff&#x27;, &#x27;#fdfafaff&#x27;, &#x27;#fdfafaff&#x27;, &#x27;#fdfafaff&#x27;, &#x27;#fdfafaff&#x27;, &#x27;#fdfafaff&#x27;, &#x27;#fdfafaff&#x27;, &#x27;#fdfafaff&#x27;, &#x27;#fdfafaff&#x27;, &#x27;#fdfafaff&#x27;, &#x27;#fdfafaff&#x27;, &#x27;#fdfafaff&#x27;, &#x27;#fdfafaff&#x27;, &#x27;#fdfafaff&#x27;, &#x27;#fdfafaff&#x27;, &#x27;#fdfafaff&#x27;, &#x27;#fdfafaff&#x27;, &#x27;#fdfafaff&#x27;, &#x27;#fdfafaff&#x27;, &#x27;#fdfafaff&#x27;, &#x27;#fdfafaff&#x27;, &#x27;#fdfafaff&#x27;, &#x27;#fdfafaff&#x27;, &#x27;#fdfafaff&#x27;, &#x27;#fdfafaff&#x27;, &#x27;#fdfafaff&#x27;, &#x27;#fdfafaff&#x27;, &#x27;#fdfafaff&#x27;, &#x27;#fdfafaff&#x27;, &#x27;#fdfafaff&#x27;, &#x27;#fdfafaff&#x27;, &#x27;#fdfafaff&#x27;, &#x27;#fdfafaff&#x27;]);\n",
       "    \n",
       "\n",
       "    color_map_98f0b43d5ccd7a52b34236a5624a9a60.x = d3.scale.linear()\n",
       "              .domain([0.09, 516.42])\n",
       "              .range([0, 450 - 50]);\n",
       "\n",
       "    color_map_98f0b43d5ccd7a52b34236a5624a9a60.legend = L.control({position: &#x27;topright&#x27;});\n",
       "    color_map_98f0b43d5ccd7a52b34236a5624a9a60.legend.onAdd = function (map) {var div = L.DomUtil.create(&#x27;div&#x27;, &#x27;legend&#x27;); return div};\n",
       "    color_map_98f0b43d5ccd7a52b34236a5624a9a60.legend.addTo(map_9e120e9557014b766ecdcd3e821fad17);\n",
       "\n",
       "    color_map_98f0b43d5ccd7a52b34236a5624a9a60.xAxis = d3.svg.axis()\n",
       "        .scale(color_map_98f0b43d5ccd7a52b34236a5624a9a60.x)\n",
       "        .orient(&quot;top&quot;)\n",
       "        .tickSize(1)\n",
       "        .tickValues([0.08733899891376495, &#x27;&#x27;, 103.35386657714844, &#x27;&#x27;, 206.62039184570312, &#x27;&#x27;, 309.8869323730469, &#x27;&#x27;, 413.1534423828125, &#x27;&#x27;, 516.4199829101562, &#x27;&#x27;]);\n",
       "\n",
       "    color_map_98f0b43d5ccd7a52b34236a5624a9a60.svg = d3.select(&quot;.legend.leaflet-control&quot;).append(&quot;svg&quot;)\n",
       "        .attr(&quot;id&quot;, &#x27;legend&#x27;)\n",
       "        .attr(&quot;width&quot;, 450)\n",
       "        .attr(&quot;height&quot;, 40);\n",
       "\n",
       "    color_map_98f0b43d5ccd7a52b34236a5624a9a60.g = color_map_98f0b43d5ccd7a52b34236a5624a9a60.svg.append(&quot;g&quot;)\n",
       "        .attr(&quot;class&quot;, &quot;key&quot;)\n",
       "        .attr(&quot;transform&quot;, &quot;translate(25,16)&quot;);\n",
       "\n",
       "    color_map_98f0b43d5ccd7a52b34236a5624a9a60.g.selectAll(&quot;rect&quot;)\n",
       "        .data(color_map_98f0b43d5ccd7a52b34236a5624a9a60.color.range().map(function(d, i) {\n",
       "          return {\n",
       "            x0: i ? color_map_98f0b43d5ccd7a52b34236a5624a9a60.x(color_map_98f0b43d5ccd7a52b34236a5624a9a60.color.domain()[i - 1]) : color_map_98f0b43d5ccd7a52b34236a5624a9a60.x.range()[0],\n",
       "            x1: i &lt; color_map_98f0b43d5ccd7a52b34236a5624a9a60.color.domain().length ? color_map_98f0b43d5ccd7a52b34236a5624a9a60.x(color_map_98f0b43d5ccd7a52b34236a5624a9a60.color.domain()[i]) : color_map_98f0b43d5ccd7a52b34236a5624a9a60.x.range()[1],\n",
       "            z: d\n",
       "          };\n",
       "        }))\n",
       "      .enter().append(&quot;rect&quot;)\n",
       "        .attr(&quot;height&quot;, 40 - 30)\n",
       "        .attr(&quot;x&quot;, function(d) { return d.x0; })\n",
       "        .attr(&quot;width&quot;, function(d) { return d.x1 - d.x0; })\n",
       "        .style(&quot;fill&quot;, function(d) { return d.z; });\n",
       "\n",
       "    color_map_98f0b43d5ccd7a52b34236a5624a9a60.g.call(color_map_98f0b43d5ccd7a52b34236a5624a9a60.xAxis).append(&quot;text&quot;)\n",
       "        .attr(&quot;class&quot;, &quot;caption&quot;)\n",
       "        .attr(&quot;y&quot;, 21)\n",
       "        .text(&quot;Estimated aboveground biomass in Mg/ha (megagram per hectare)&quot;);\n",
       "&lt;/script&gt;\n",
       "&lt;/html&gt;\" style=\"position:absolute;width:100%;height:100%;left:0;top:0;border:none !important;\" allowfullscreen webkitallowfullscreen mozallowfullscreen></iframe></div></div>"
      ],
      "text/plain": [
       "<folium.folium.Map at 0x7ff922a031d0>"
      ]
     },
     "execution_count": 9,
     "metadata": {},
     "output_type": "execute_result"
    }
   ],
   "source": [
    "# Create a json string of the colormap, so it can be passed as a parameter to titiler's API.\n",
    "cmap = json.dumps(color_map)\n",
    "\n",
    "# We fetch tilejson from titiler endpoint, to build a better map with appropriate bounds and zoom level\n",
    "tilejson_response = requests.get(\n",
    "    f\"{titiler_endpoint}/cog/tilejson.json\",\n",
    "    params = {\n",
    "        \"url\": url,\n",
    "        \"colormap\": cmap\n",
    "    }\n",
    ").json()\n",
    "\n",
    "bounds = tilejson_response[\"bounds\"]\n",
    "m = Map(\n",
    "    location=((bounds[1] + bounds[3]) / 2,(bounds[0] + bounds[2]) / 2),\n",
    "    zoom_start=tilejson_response[\"minzoom\"] + 1\n",
    ")\n",
    "\n",
    "# We add a TileLayer using the tilejson_response \"tiles\" value which is the XYZ endpoint of titiler.\n",
    "aod_layer = TileLayer(\n",
    "    tiles=tilejson_response[\"tiles\"][0],\n",
    "    opacity=1,\n",
    "    attr=\"Swisstopo\"\n",
    ")\n",
    "aod_layer.add_to(m)\n",
    "\n",
    "# Finally, we add the legend.\n",
    "legend.caption = 'Estimated aboveground biomass in Mg/ha (megagram per hectare)'\n",
    "legend.add_to(m)\n",
    "\n",
    "m"
   ]
  }
 ],
 "metadata": {
  "kernelspec": {
   "display_name": "Python 3 (ipykernel)",
   "language": "python",
   "name": "python3"
  },
  "language_info": {
   "codemirror_mode": {
    "name": "ipython",
    "version": 3
   },
   "file_extension": ".py",
   "mimetype": "text/x-python",
   "name": "python",
   "nbconvert_exporter": "python",
   "pygments_lexer": "ipython3",
   "version": "3.7.8"
  }
 },
 "nbformat": 4,
 "nbformat_minor": 5
}
