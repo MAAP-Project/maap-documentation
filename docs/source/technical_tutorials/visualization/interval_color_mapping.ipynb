{
 "cells": [
  {
   "cell_type": "code",
   "execution_count": 3,
   "id": "e489b6a2",
   "metadata": {
    "tags": []
   },
   "outputs": [],
   "source": [
    "# !pip install folium branca\n",
    "# !pip install -U pystac-client"
   ]
  },
  {
   "cell_type": "code",
   "execution_count": 4,
   "id": "ef3e189f",
   "metadata": {
    "tags": []
   },
   "outputs": [],
   "source": [
    "import branca\n",
    "from folium import Map, TileLayer\n",
    "import json\n",
    "from matplotlib import cm\n",
    "import requests"
   ]
  },
  {
   "cell_type": "markdown",
   "id": "c3656391",
   "metadata": {},
   "source": [
    "# Discover data from STAC"
   ]
  },
  {
   "cell_type": "code",
   "execution_count": 17,
   "id": "afaabbd9",
   "metadata": {
    "tags": []
   },
   "outputs": [
    {
     "data": {
      "text/plain": [
       "'s3://nasa-maap-data-store/file-staging/nasa-map/NASA_JPL_global_agb_mean_2020/global_008_06dc_agb_mean_prediction_2020_mosaic_veg_gfccorr_scale1_NAmerica_cog.tif'"
      ]
     },
     "execution_count": 17,
     "metadata": {},
     "output_type": "execute_result"
    }
   ],
   "source": [
    "stac_endpoint = \"https://stac.maap-project.org\"\n",
    "titiler_endpoint = \"https://titiler.maap-project.org/\"\n",
    "collection = \"NASA_JPL_global_agb_mean_2020\"\n",
    "item = 'NAmerica'\n",
    "items_response = requests.get(f\"{stac_endpoint}/collections/{collection}/items/{item}\").json()\n",
    "url = items_response['assets']['mean']['href']\n",
    "url"
   ]
  },
  {
   "cell_type": "markdown",
   "id": "91bca523",
   "metadata": {},
   "source": [
    "# Get data values from the `/statistics` endpoint"
   ]
  },
  {
   "cell_type": "code",
   "execution_count": 18,
   "id": "e3e80f38",
   "metadata": {
    "tags": []
   },
   "outputs": [],
   "source": [
    "# You can use gdalinfo /vsis3/nasa-maap-data-store/file-staging/nasa-map/SRTMGL1_COD___001/N21W089.SRTMGL1.tif -stats\n",
    "# or you can get metadata from titiler.\n",
    "stats_response = requests.get(\n",
    "    f\"{titiler_endpoint}/cog/statistics\",\n",
    "    params = {\n",
    "        \"url\": url\n",
    "    }\n",
    ").json()"
   ]
  },
  {
   "cell_type": "code",
   "execution_count": 19,
   "id": "996aa9c8",
   "metadata": {
    "tags": []
   },
   "outputs": [
    {
     "data": {
      "text/plain": [
       "[[-148.0, -93.2],\n",
       " [-93.2, -38.400000000000006],\n",
       " [-38.400000000000006, 16.399999999999977],\n",
       " [16.399999999999977, 71.19999999999999],\n",
       " [71.19999999999999, 126.0],\n",
       " [126.0, 180.79999999999995],\n",
       " [180.79999999999995, 235.59999999999997],\n",
       " [235.59999999999997, 290.4],\n",
       " [290.4, 345.2],\n",
       " [345.2, 400.0]]"
      ]
     },
     "execution_count": 19,
     "metadata": {},
     "output_type": "execute_result"
    }
   ],
   "source": [
    "bins = stats_response['b1']['histogram'][1]\n",
    "bin_ranges = [[bins[i], bins[i+1]] for i in range(len(bins)-1)]\n",
    "bin_ranges"
   ]
  },
  {
   "cell_type": "code",
   "execution_count": 20,
   "id": "5d7ab6b0",
   "metadata": {
    "tags": []
   },
   "outputs": [],
   "source": [
    "# There are many pre-defined colormaps supported by matplotlib.\n",
    "# Some are listed below but a complete list be found here: https://matplotlib.org/3.1.0/tutorials/colors/colormaps.html\n",
    "# You may define custom color maps, but using the predefined ones makes life easier.\n",
    "sequential_cmaps = [\n",
    "    'Greys', 'Purples', 'Blues', 'Greens', 'Oranges', 'Reds',\n",
    "    'YlOrBr', 'YlOrRd', 'OrRd', 'PuRd', 'RdPu', 'BuPu',\n",
    "    'GnBu', 'PuBu', 'YlGnBu', 'PuBuGn', 'BuGn', 'YlGn'\n",
    "]\n",
    "\n",
    "sequential_cmaps2 = [\n",
    "    'binary', 'gist_yarg', 'gist_gray', 'gray', 'bone', 'pink',\n",
    "    'spring', 'summer', 'autumn', 'winter', 'cool', 'Wistia',\n",
    "    'hot', 'afmhot', 'gist_heat', 'copper']"
   ]
  },
  {
   "cell_type": "code",
   "execution_count": 21,
   "id": "8681124b",
   "metadata": {
    "tags": []
   },
   "outputs": [],
   "source": [
    "# Here we create a list of pairs, each pair containing a data value interval range (aka \"bin\")\n",
    "# with a color value in RGBA (see https://www.w3schools.com/css/css3_colors.asp)\n",
    "# First we create a list of colors\n",
    "rgbas = [[int(value) for value in rgb] for rgb in cm.ScalarMappable(cmap='gist_earth').to_rgba(x=bins[:-1], bytes=True)]\n",
    "# Then we use python's zip function to pair rgba values with data values (https://www.w3schools.com/python/ref_func_zip.asp)\n",
    "color_map = list(zip(bin_ranges, rgbas))\n",
    "# some tweaking may be necessary"
   ]
  },
  {
   "cell_type": "code",
   "execution_count": 22,
   "id": "8c2e5810",
   "metadata": {
    "tags": []
   },
   "outputs": [],
   "source": [
    "# Let's also create a legend using the RGBA values and bins so our map visualization can be interpreted!\n",
    "legend = branca.colormap.StepColormap(rgbas, index=bins, vmin=round(bins[0], 2), vmax=round(bins[-1], 2))"
   ]
  },
  {
   "cell_type": "markdown",
   "id": "d7a0ee27",
   "metadata": {},
   "source": [
    "# Preview the data"
   ]
  },
  {
   "cell_type": "code",
   "execution_count": 23,
   "id": "31cd26a4",
   "metadata": {},
   "outputs": [
    {
     "data": {
      "text/html": [
       "<div style=\"width:100%;\"><div style=\"position:relative;width:100%;height:0;padding-bottom:60%;\"><span style=\"color:#565656\">Make this Notebook Trusted to load map: File -> Trust Notebook</span><iframe srcdoc=\"&lt;!DOCTYPE html&gt;\n",
       "&lt;html&gt;\n",
       "&lt;head&gt;\n",
       "    \n",
       "    &lt;meta http-equiv=&quot;content-type&quot; content=&quot;text/html; charset=UTF-8&quot; /&gt;\n",
       "    \n",
       "        &lt;script&gt;\n",
       "            L_NO_TOUCH = false;\n",
       "            L_DISABLE_3D = false;\n",
       "        &lt;/script&gt;\n",
       "    \n",
       "    &lt;style&gt;html, body {width: 100%;height: 100%;margin: 0;padding: 0;}&lt;/style&gt;\n",
       "    &lt;style&gt;#map {position:absolute;top:0;bottom:0;right:0;left:0;}&lt;/style&gt;\n",
       "    &lt;script src=&quot;https://cdn.jsdelivr.net/npm/leaflet@1.9.3/dist/leaflet.js&quot;&gt;&lt;/script&gt;\n",
       "    &lt;script src=&quot;https://code.jquery.com/jquery-1.12.4.min.js&quot;&gt;&lt;/script&gt;\n",
       "    &lt;script src=&quot;https://cdn.jsdelivr.net/npm/bootstrap@5.2.2/dist/js/bootstrap.bundle.min.js&quot;&gt;&lt;/script&gt;\n",
       "    &lt;script src=&quot;https://cdnjs.cloudflare.com/ajax/libs/Leaflet.awesome-markers/2.0.2/leaflet.awesome-markers.js&quot;&gt;&lt;/script&gt;\n",
       "    &lt;link rel=&quot;stylesheet&quot; href=&quot;https://cdn.jsdelivr.net/npm/leaflet@1.9.3/dist/leaflet.css&quot;/&gt;\n",
       "    &lt;link rel=&quot;stylesheet&quot; href=&quot;https://cdn.jsdelivr.net/npm/bootstrap@5.2.2/dist/css/bootstrap.min.css&quot;/&gt;\n",
       "    &lt;link rel=&quot;stylesheet&quot; href=&quot;https://netdna.bootstrapcdn.com/bootstrap/3.0.0/css/bootstrap.min.css&quot;/&gt;\n",
       "    &lt;link rel=&quot;stylesheet&quot; href=&quot;https://cdn.jsdelivr.net/npm/@fortawesome/fontawesome-free@6.2.0/css/all.min.css&quot;/&gt;\n",
       "    &lt;link rel=&quot;stylesheet&quot; href=&quot;https://cdnjs.cloudflare.com/ajax/libs/Leaflet.awesome-markers/2.0.2/leaflet.awesome-markers.css&quot;/&gt;\n",
       "    &lt;link rel=&quot;stylesheet&quot; href=&quot;https://cdn.jsdelivr.net/gh/python-visualization/folium/folium/templates/leaflet.awesome.rotate.min.css&quot;/&gt;\n",
       "    \n",
       "            &lt;meta name=&quot;viewport&quot; content=&quot;width=device-width,\n",
       "                initial-scale=1.0, maximum-scale=1.0, user-scalable=no&quot; /&gt;\n",
       "            &lt;style&gt;\n",
       "                #map_e32b9954e8899133fb7e6d6e1fe9e23d {\n",
       "                    position: relative;\n",
       "                    width: 100.0%;\n",
       "                    height: 100.0%;\n",
       "                    left: 0.0%;\n",
       "                    top: 0.0%;\n",
       "                }\n",
       "                .leaflet-container { font-size: 1rem; }\n",
       "            &lt;/style&gt;\n",
       "        \n",
       "    &lt;script src=&quot;https://cdnjs.cloudflare.com/ajax/libs/d3/3.5.5/d3.min.js&quot;&gt;&lt;/script&gt;\n",
       "&lt;/head&gt;\n",
       "&lt;body&gt;\n",
       "    \n",
       "    \n",
       "            &lt;div class=&quot;folium-map&quot; id=&quot;map_e32b9954e8899133fb7e6d6e1fe9e23d&quot; &gt;&lt;/div&gt;\n",
       "        \n",
       "&lt;/body&gt;\n",
       "&lt;script&gt;\n",
       "    \n",
       "    \n",
       "            var map_e32b9954e8899133fb7e6d6e1fe9e23d = L.map(\n",
       "                &quot;map_e32b9954e8899133fb7e6d6e1fe9e23d&quot;,\n",
       "                {\n",
       "                    center: [49.50031625847915, -105.00092945723466],\n",
       "                    crs: L.CRS.EPSG3857,\n",
       "                    zoom: 2,\n",
       "                    zoomControl: true,\n",
       "                    preferCanvas: false,\n",
       "                }\n",
       "            );\n",
       "\n",
       "            \n",
       "\n",
       "        \n",
       "    \n",
       "            var tile_layer_aec4b7700c0833df731bfba3ca7c7fca = L.tileLayer(\n",
       "                &quot;https://{s}.tile.openstreetmap.org/{z}/{x}/{y}.png&quot;,\n",
       "                {&quot;attribution&quot;: &quot;Data by \\u0026copy; \\u003ca target=\\&quot;_blank\\&quot; href=\\&quot;http://openstreetmap.org\\&quot;\\u003eOpenStreetMap\\u003c/a\\u003e, under \\u003ca target=\\&quot;_blank\\&quot; href=\\&quot;http://www.openstreetmap.org/copyright\\&quot;\\u003eODbL\\u003c/a\\u003e.&quot;, &quot;detectRetina&quot;: false, &quot;maxNativeZoom&quot;: 18, &quot;maxZoom&quot;: 18, &quot;minZoom&quot;: 0, &quot;noWrap&quot;: false, &quot;opacity&quot;: 1, &quot;subdomains&quot;: &quot;abc&quot;, &quot;tms&quot;: false}\n",
       "            ).addTo(map_e32b9954e8899133fb7e6d6e1fe9e23d);\n",
       "        \n",
       "    \n",
       "            var tile_layer_b0793bd8ad87e5c90dea76f82962ba85 = L.tileLayer(\n",
       "                &quot;https://titiler.maap-project.org/cog/tiles/WebMercatorQuad/{z}/{x}/{y}@1x?url=s3%3A%2F%2Fnasa-maap-data-store%2Ffile-staging%2Fnasa-map%2FNASA_JPL_global_agb_mean_2020%2Fglobal_008_06dc_agb_mean_prediction_2020_mosaic_veg_gfccorr_scale1_NAmerica_cog.tif\\u0026colormap=%5B%5B%5B-148.0%2C+-93.2%5D%2C+%5B0%2C+0%2C+0%2C+255%5D%5D%2C+%5B%5B-93.2%2C+-38.400000000000006%5D%2C+%5B18%2C+48%2C+119%2C+255%5D%5D%2C+%5B%5B-38.400000000000006%2C+16.399999999999977%5D%2C+%5B37%2C+102%2C+124%2C+255%5D%5D%2C+%5B%5B16.399999999999977%2C+71.19999999999999%5D%2C+%5B54%2C+135%2C+111%2C+255%5D%5D%2C+%5B%5B71.19999999999999%2C+126.0%5D%2C+%5B67%2C+151%2C+77%2C+255%5D%5D%2C+%5B%5B126.0%2C+180.79999999999995%5D%2C+%5B123%2C+167%2C+82%2C+255%5D%5D%2C+%5B%5B180.79999999999995%2C+235.59999999999997%5D%2C+%5B169%2C+179%2C+91%2C+255%5D%5D%2C+%5B%5B235.59999999999997%2C+290.4%5D%2C+%5B191%2C+164%2C+100%2C+255%5D%5D%2C+%5B%5B290.4%2C+345.2%5D%2C+%5B221%2C+186%2C+167%2C+255%5D%5D%2C+%5B%5B345.2%2C+400.0%5D%2C+%5B253%2C+250%2C+250%2C+255%5D%5D%5D&quot;,\n",
       "                {&quot;attribution&quot;: &quot;Swisstopo&quot;, &quot;detectRetina&quot;: false, &quot;maxNativeZoom&quot;: 18, &quot;maxZoom&quot;: 18, &quot;minZoom&quot;: 0, &quot;noWrap&quot;: false, &quot;opacity&quot;: 1, &quot;subdomains&quot;: &quot;abc&quot;, &quot;tms&quot;: false}\n",
       "            ).addTo(map_e32b9954e8899133fb7e6d6e1fe9e23d);\n",
       "        \n",
       "    \n",
       "    var color_map_916dc1909eece673222fd6971041cef6 = {};\n",
       "\n",
       "    \n",
       "    color_map_916dc1909eece673222fd6971041cef6.color = d3.scale.threshold()\n",
       "              .domain([-148.0, -146.90180360721442, -145.80360721442887, -144.70541082164328, -143.6072144288577, -142.50901803607215, -141.41082164328657, -140.31262525050101, -139.21442885771543, -138.11623246492985, -137.0180360721443, -135.91983967935872, -134.82164328657313, -133.72344689378758, -132.625250501002, -131.52705410821642, -130.42885771543087, -129.33066132264528, -128.23246492985973, -127.13426853707415, -126.03607214428858, -124.93787575150301, -123.83967935871743, -122.74148296593187, -121.6432865731463, -120.54509018036072, -119.44689378757515, -118.34869739478958, -117.250501002004, -116.15230460921843, -115.05410821643287, -113.95591182364728, -112.85771543086173, -111.75951903807615, -110.66132264529058, -109.56312625250501, -108.46492985971943, -107.36673346693387, -106.2685370741483, -105.17034068136272, -104.07214428857716, -102.97394789579158, -101.87575150300601, -100.77755511022045, -99.67935871743487, -98.5811623246493, -97.48296593186373, -96.38476953907815, -95.28657314629258, -94.18837675350701, -93.09018036072143, -91.99198396793588, -90.8937875751503, -89.79559118236473, -88.69739478957916, -87.59919839679358, -86.50100200400801, -85.40280561122245, -84.30460921843687, -83.2064128256513, -82.10821643286573, -81.01002004008016, -79.91182364729458, -78.81362725450902, -77.71543086172345, -76.61723446893788, -75.5190380761523, -74.42084168336673, -73.32264529058116, -72.2244488977956, -71.12625250501002, -70.02805611222445, -68.92985971943888, -67.83166332665331, -66.73346693386773, -65.63527054108216, -64.5370741482966, -63.438877755511015, -62.34068136272545, -61.24248496993988, -60.14428857715431, -59.04609218436873, -57.947895791583164, -56.8496993987976, -55.75150300601203, -54.65330661322645, -53.55511022044088, -52.45691382765531, -51.358717434869746, -50.260521042084164, -49.1623246492986, -48.06412825651303, -46.96593186372745, -45.86773547094188, -44.76953907815631, -43.671342685370746, -42.573146292585164, -41.4749498997996, -40.37675350701403, -39.27855711422846, -38.18036072144288, -37.08216432865731, -35.983967935871746, -34.88577154308618, -33.7875751503006, -32.68937875751503, -31.591182364729463, -30.49298597194388, -29.394789579158314, -28.296593186372746, -27.19839679358718, -26.100200400801597, -25.00200400801603, -23.903807615230463, -22.805611222444895, -21.707414829659314, -20.609218436873746, -19.51102204408818, -18.412825651302597, -17.314629258517044, -16.216432865731463, -15.118236472945881, -14.020040080160328, -12.921843687374746, -11.823647294589165, -10.725450901803612, -9.62725450901803, -8.529058116232477, -7.430861723446895, -6.332665330661314, -5.234468937875761, -4.136272545090179, -3.0380761523045976, -1.9398797595190445, -0.8416833667334629, 0.25651302605209025, 1.3547094188376718, 2.4529058116232534, 3.5511022044088065, 4.649298597194388, 5.74749498997997, 6.845691382765523, 7.943887775551104, 9.042084168336686, 10.140280561122239, 11.23847695390782, 12.336673346693374, 13.434869739478955, 14.533066132264537, 15.63126252505009, 16.72945891783567, 17.827655310621253, 18.925851703406806, 20.024048096192388, 21.12224448897797, 22.220440881763523, 23.318637274549104, 24.416833667334657, 25.51503006012024, 26.61322645290582, 27.711422845691374, 28.809619238476955, 29.907815631262537, 31.00601202404809, 32.10420841683367, 33.202404809619225, 34.300601202404806, 35.39879759519039, 36.49699398797594, 37.59519038076152, 38.693386773547104, 39.79158316633266, 40.88977955911824, 41.98797595190382, 43.08617234468937, 44.184368737474955, 45.28256513026051, 46.38076152304609, 47.47895791583167, 48.577154308617224, 49.675350701402806, 50.77354709418839, 51.87174348697394, 52.96993987975952, 54.068136272545104, 55.16633266533066, 56.26452905811624, 57.36272545090179, 58.46092184368737, 59.559118236472955, 60.65731462925851, 61.75551102204409, 62.85370741482967, 63.951903807615224, 65.0501002004008, 66.14829659318636, 67.24649298597194, 68.34468937875752, 69.44288577154308, 70.54108216432866, 71.63927855711424, 72.73747494989979, 73.83567134268537, 74.93386773547095, 76.03206412825651, 77.13026052104209, 78.22845691382764, 79.32665330661322, 80.4248496993988, 81.52304609218436, 82.62124248496994, 83.71943887775552, 84.81763527054107, 85.91583166332666, 87.01402805611224, 88.11222444889779, 89.21042084168337, 90.30861723446893, 91.40681362725451, 92.50501002004009, 93.60320641282564, 94.70140280561122, 95.7995991983968, 96.89779559118236, 97.99599198396794, 99.0941883767535, 100.19238476953907, 101.29058116232466, 102.38877755511021, 103.48697394789579, 104.58517034068137, 105.68336673346693, 106.78156312625251, 107.87975951903809, 108.97795591182364, 110.0761523046092, 111.1743486973948, 112.27254509018036, 113.37074148296591, 114.46893787575152, 115.56713426853707, 116.66533066132263, 117.76352705410824, 118.86172344689379, 119.95991983967934, 121.05811623246495, 122.15631262525051, 123.25450901803606, 124.35270541082167, 125.45090180360722, 126.54909819639278, 127.64729458917833, 128.74549098196394, 129.8436873747495, 130.94188376753505, 132.04008016032066, 133.1382765531062, 134.23647294589176, 135.33466933867737, 136.43286573146293, 137.53106212424848, 138.6292585170341, 139.72745490981964, 140.8256513026052, 141.9238476953908, 143.02204408817636, 144.1202404809619, 145.21843687374752, 146.31663326653307, 147.41482965931863, 148.51302605210418, 149.6112224448898, 150.70941883767534, 151.8076152304609, 152.9058116232465, 154.00400801603206, 155.1022044088176, 156.20040080160322, 157.29859719438878, 158.39679358717433, 159.49498997995994, 160.5931863727455, 161.69138276553105, 162.78957915831666, 163.8877755511022, 164.98597194388776, 166.08416833667337, 167.18236472945893, 168.28056112224448, 169.3787575150301, 170.47695390781564, 171.5751503006012, 172.67334669338675, 173.77154308617236, 174.8697394789579, 175.96793587174346, 177.06613226452907, 178.16432865731463, 179.26252505010018, 180.3607214428858, 181.45891783567134, 182.5571142284569, 183.6553106212425, 184.75350701402806, 185.8517034068136, 186.94989979959922, 188.04809619238478, 189.14629258517033, 190.24448897795594, 191.3426853707415, 192.44088176352705, 193.5390781563126, 194.6372745490982, 195.73547094188376, 196.83366733466931, 197.93186372745492, 199.03006012024048, 200.12825651302603, 201.22645290581164, 202.3246492985972, 203.42284569138275, 204.52104208416836, 205.6192384769539, 206.71743486973946, 207.81563126252507, 208.91382765531063, 210.01202404809618, 211.1102204408818, 212.20841683366734, 213.3066132264529, 214.40480961923845, 215.50300601202406, 216.6012024048096, 217.69939879759517, 218.79759519038078, 219.89579158316633, 220.99398797595188, 222.0921843687375, 223.19038076152304, 224.2885771543086, 225.3867735470942, 226.48496993987976, 227.58316633266531, 228.68136272545092, 229.77955911823648, 230.87775551102203, 231.97595190380764, 233.0741482965932, 234.17234468937875, 235.27054108216436, 236.3687374749499, 237.46693386773546, 238.56513026052102, 239.66332665330663, 240.76152304609218, 241.85971943887773, 242.95791583166334, 244.0561122244489, 245.15430861723445, 246.25250501002006, 247.3507014028056, 248.44889779559117, 249.54709418837678, 250.64529058116233, 251.74348697394788, 252.8416833667335, 253.93987975951904, 255.0380761523046, 256.1362725450902, 257.23446893787576, 258.3326653306613, 259.43086172344687, 260.5290581162325, 261.62725450901803, 262.7254509018036, 263.8236472945892, 264.92184368737475, 266.0200400801603, 267.1182364729459, 268.21643286573146, 269.314629258517, 270.4128256513026, 271.5110220440882, 272.60921843687373, 273.70741482965934, 274.8056112224449, 275.90380761523045, 277.00200400801606, 278.1002004008016, 279.19839679358716, 280.2965931863727, 281.3947895791583, 282.4929859719439, 283.59118236472943, 284.68937875751504, 285.7875751503006, 286.88577154308615, 287.98396793587176, 289.0821643286573, 290.18036072144287, 291.2785571142285, 292.37675350701403, 293.4749498997996, 294.5731462925852, 295.67134268537075, 296.7695390781563, 297.8677354709419, 298.96593186372746, 300.064128256513, 301.1623246492986, 302.2605210420842, 303.35871743486973, 304.4569138276553, 305.5551102204409, 306.65330661322645, 307.751503006012, 308.8496993987976, 309.94789579158316, 311.0460921843687, 312.1442885771543, 313.2424849699399, 314.34068136272543, 315.43887775551104, 316.5370741482966, 317.63527054108215, 318.73346693386776, 319.8316633266533, 320.92985971943887, 322.0280561122245, 323.12625250501003, 324.2244488977956, 325.32264529058114, 326.42084168336675, 327.5190380761523, 328.61723446893785, 329.71543086172346, 330.813627254509, 331.91182364729457, 333.0100200400802, 334.10821643286573, 335.2064128256513, 336.3046092184369, 337.40280561122245, 338.501002004008, 339.5991983967936, 340.69739478957916, 341.7955911823647, 342.8937875751503, 343.9919839679359, 345.09018036072143, 346.188376753507, 347.2865731462926, 348.38476953907815, 349.4829659318637, 350.5811623246493, 351.67935871743487, 352.7775551102204, 353.87575150300603, 354.9739478957916, 356.07214428857714, 357.17034068136275, 358.2685370741483, 359.36673346693385, 360.46492985971946, 361.563126252505, 362.66132264529057, 363.7595190380762, 364.85771543086173, 365.9559118236473, 367.05410821643284, 368.1523046092184, 369.25050100200406, 370.3486973947896, 371.44689378757516, 372.5450901803607, 373.64328657314627, 374.7414829659318, 375.8396793587175, 376.93787575150304, 378.0360721442886, 379.13426853707415, 380.2324649298597, 381.33066132264526, 382.4288577154308, 383.5270541082165, 384.62525050100203, 385.7234468937876, 386.82164328657313, 387.9198396793587, 389.01803607214424, 390.1162324649299, 391.21442885771546, 392.312625250501, 393.41082164328657, 394.5090180360721, 395.6072144288577, 396.70541082164334, 397.8036072144289, 398.90180360721445, 400.0])\n",
       "              .range([&#x27;#000000ff&#x27;, &#x27;#000000ff&#x27;, &#x27;#000000ff&#x27;, &#x27;#000000ff&#x27;, &#x27;#000000ff&#x27;, &#x27;#000000ff&#x27;, &#x27;#000000ff&#x27;, &#x27;#000000ff&#x27;, &#x27;#000000ff&#x27;, &#x27;#000000ff&#x27;, &#x27;#000000ff&#x27;, &#x27;#000000ff&#x27;, &#x27;#000000ff&#x27;, &#x27;#000000ff&#x27;, &#x27;#000000ff&#x27;, &#x27;#000000ff&#x27;, &#x27;#000000ff&#x27;, &#x27;#000000ff&#x27;, &#x27;#000000ff&#x27;, &#x27;#000000ff&#x27;, &#x27;#000000ff&#x27;, &#x27;#000000ff&#x27;, &#x27;#000000ff&#x27;, &#x27;#000000ff&#x27;, &#x27;#000000ff&#x27;, &#x27;#000000ff&#x27;, &#x27;#000000ff&#x27;, &#x27;#000000ff&#x27;, &#x27;#000000ff&#x27;, &#x27;#000000ff&#x27;, &#x27;#000000ff&#x27;, &#x27;#000000ff&#x27;, &#x27;#000000ff&#x27;, &#x27;#000000ff&#x27;, &#x27;#000000ff&#x27;, &#x27;#000000ff&#x27;, &#x27;#000000ff&#x27;, &#x27;#000000ff&#x27;, &#x27;#000000ff&#x27;, &#x27;#000000ff&#x27;, &#x27;#000000ff&#x27;, &#x27;#000000ff&#x27;, &#x27;#000000ff&#x27;, &#x27;#000000ff&#x27;, &#x27;#000000ff&#x27;, &#x27;#000000ff&#x27;, &#x27;#000000ff&#x27;, &#x27;#000000ff&#x27;, &#x27;#000000ff&#x27;, &#x27;#000000ff&#x27;, &#x27;#123077ff&#x27;, &#x27;#123077ff&#x27;, &#x27;#123077ff&#x27;, &#x27;#123077ff&#x27;, &#x27;#123077ff&#x27;, &#x27;#123077ff&#x27;, &#x27;#123077ff&#x27;, &#x27;#123077ff&#x27;, &#x27;#123077ff&#x27;, &#x27;#123077ff&#x27;, &#x27;#123077ff&#x27;, &#x27;#123077ff&#x27;, &#x27;#123077ff&#x27;, &#x27;#123077ff&#x27;, &#x27;#123077ff&#x27;, &#x27;#123077ff&#x27;, &#x27;#123077ff&#x27;, &#x27;#123077ff&#x27;, &#x27;#123077ff&#x27;, &#x27;#123077ff&#x27;, &#x27;#123077ff&#x27;, &#x27;#123077ff&#x27;, &#x27;#123077ff&#x27;, &#x27;#123077ff&#x27;, &#x27;#123077ff&#x27;, &#x27;#123077ff&#x27;, &#x27;#123077ff&#x27;, &#x27;#123077ff&#x27;, &#x27;#123077ff&#x27;, &#x27;#123077ff&#x27;, &#x27;#123077ff&#x27;, &#x27;#123077ff&#x27;, &#x27;#123077ff&#x27;, &#x27;#123077ff&#x27;, &#x27;#123077ff&#x27;, &#x27;#123077ff&#x27;, &#x27;#123077ff&#x27;, &#x27;#123077ff&#x27;, &#x27;#123077ff&#x27;, &#x27;#123077ff&#x27;, &#x27;#123077ff&#x27;, &#x27;#123077ff&#x27;, &#x27;#123077ff&#x27;, &#x27;#123077ff&#x27;, &#x27;#123077ff&#x27;, &#x27;#123077ff&#x27;, &#x27;#123077ff&#x27;, &#x27;#123077ff&#x27;, &#x27;#123077ff&#x27;, &#x27;#123077ff&#x27;, &#x27;#25667cff&#x27;, &#x27;#25667cff&#x27;, &#x27;#25667cff&#x27;, &#x27;#25667cff&#x27;, &#x27;#25667cff&#x27;, &#x27;#25667cff&#x27;, &#x27;#25667cff&#x27;, &#x27;#25667cff&#x27;, &#x27;#25667cff&#x27;, &#x27;#25667cff&#x27;, &#x27;#25667cff&#x27;, &#x27;#25667cff&#x27;, &#x27;#25667cff&#x27;, &#x27;#25667cff&#x27;, &#x27;#25667cff&#x27;, &#x27;#25667cff&#x27;, &#x27;#25667cff&#x27;, &#x27;#25667cff&#x27;, &#x27;#25667cff&#x27;, &#x27;#25667cff&#x27;, &#x27;#25667cff&#x27;, &#x27;#25667cff&#x27;, &#x27;#25667cff&#x27;, &#x27;#25667cff&#x27;, &#x27;#25667cff&#x27;, &#x27;#25667cff&#x27;, &#x27;#25667cff&#x27;, &#x27;#25667cff&#x27;, &#x27;#25667cff&#x27;, &#x27;#25667cff&#x27;, &#x27;#25667cff&#x27;, &#x27;#25667cff&#x27;, &#x27;#25667cff&#x27;, &#x27;#25667cff&#x27;, &#x27;#25667cff&#x27;, &#x27;#25667cff&#x27;, &#x27;#25667cff&#x27;, &#x27;#25667cff&#x27;, &#x27;#25667cff&#x27;, &#x27;#25667cff&#x27;, &#x27;#25667cff&#x27;, &#x27;#25667cff&#x27;, &#x27;#25667cff&#x27;, &#x27;#25667cff&#x27;, &#x27;#25667cff&#x27;, &#x27;#25667cff&#x27;, &#x27;#25667cff&#x27;, &#x27;#25667cff&#x27;, &#x27;#25667cff&#x27;, &#x27;#25667cff&#x27;, &#x27;#36876fff&#x27;, &#x27;#36876fff&#x27;, &#x27;#36876fff&#x27;, &#x27;#36876fff&#x27;, &#x27;#36876fff&#x27;, &#x27;#36876fff&#x27;, &#x27;#36876fff&#x27;, &#x27;#36876fff&#x27;, &#x27;#36876fff&#x27;, &#x27;#36876fff&#x27;, &#x27;#36876fff&#x27;, &#x27;#36876fff&#x27;, &#x27;#36876fff&#x27;, &#x27;#36876fff&#x27;, &#x27;#36876fff&#x27;, &#x27;#36876fff&#x27;, &#x27;#36876fff&#x27;, &#x27;#36876fff&#x27;, &#x27;#36876fff&#x27;, &#x27;#36876fff&#x27;, &#x27;#36876fff&#x27;, &#x27;#36876fff&#x27;, &#x27;#36876fff&#x27;, &#x27;#36876fff&#x27;, &#x27;#36876fff&#x27;, &#x27;#36876fff&#x27;, &#x27;#36876fff&#x27;, &#x27;#36876fff&#x27;, &#x27;#36876fff&#x27;, &#x27;#36876fff&#x27;, &#x27;#36876fff&#x27;, &#x27;#36876fff&#x27;, &#x27;#36876fff&#x27;, &#x27;#36876fff&#x27;, &#x27;#36876fff&#x27;, &#x27;#36876fff&#x27;, &#x27;#36876fff&#x27;, &#x27;#36876fff&#x27;, &#x27;#36876fff&#x27;, &#x27;#36876fff&#x27;, &#x27;#36876fff&#x27;, &#x27;#36876fff&#x27;, &#x27;#36876fff&#x27;, &#x27;#36876fff&#x27;, &#x27;#36876fff&#x27;, &#x27;#36876fff&#x27;, &#x27;#36876fff&#x27;, &#x27;#36876fff&#x27;, &#x27;#36876fff&#x27;, &#x27;#36876fff&#x27;, &#x27;#43974dff&#x27;, &#x27;#43974dff&#x27;, &#x27;#43974dff&#x27;, &#x27;#43974dff&#x27;, &#x27;#43974dff&#x27;, &#x27;#43974dff&#x27;, &#x27;#43974dff&#x27;, &#x27;#43974dff&#x27;, &#x27;#43974dff&#x27;, &#x27;#43974dff&#x27;, &#x27;#43974dff&#x27;, &#x27;#43974dff&#x27;, &#x27;#43974dff&#x27;, &#x27;#43974dff&#x27;, &#x27;#43974dff&#x27;, &#x27;#43974dff&#x27;, &#x27;#43974dff&#x27;, &#x27;#43974dff&#x27;, &#x27;#43974dff&#x27;, &#x27;#43974dff&#x27;, &#x27;#43974dff&#x27;, &#x27;#43974dff&#x27;, &#x27;#43974dff&#x27;, &#x27;#43974dff&#x27;, &#x27;#43974dff&#x27;, &#x27;#43974dff&#x27;, &#x27;#43974dff&#x27;, &#x27;#43974dff&#x27;, &#x27;#43974dff&#x27;, &#x27;#43974dff&#x27;, &#x27;#43974dff&#x27;, &#x27;#43974dff&#x27;, &#x27;#43974dff&#x27;, &#x27;#43974dff&#x27;, &#x27;#43974dff&#x27;, &#x27;#43974dff&#x27;, &#x27;#43974dff&#x27;, &#x27;#43974dff&#x27;, &#x27;#43974dff&#x27;, &#x27;#43974dff&#x27;, &#x27;#43974dff&#x27;, &#x27;#43974dff&#x27;, &#x27;#43974dff&#x27;, &#x27;#43974dff&#x27;, &#x27;#43974dff&#x27;, &#x27;#43974dff&#x27;, &#x27;#43974dff&#x27;, &#x27;#43974dff&#x27;, &#x27;#43974dff&#x27;, &#x27;#43974dff&#x27;, &#x27;#7ba752ff&#x27;, &#x27;#7ba752ff&#x27;, &#x27;#7ba752ff&#x27;, &#x27;#7ba752ff&#x27;, &#x27;#7ba752ff&#x27;, &#x27;#7ba752ff&#x27;, &#x27;#7ba752ff&#x27;, &#x27;#7ba752ff&#x27;, &#x27;#7ba752ff&#x27;, &#x27;#7ba752ff&#x27;, &#x27;#7ba752ff&#x27;, &#x27;#7ba752ff&#x27;, &#x27;#7ba752ff&#x27;, &#x27;#7ba752ff&#x27;, &#x27;#7ba752ff&#x27;, &#x27;#7ba752ff&#x27;, &#x27;#7ba752ff&#x27;, &#x27;#7ba752ff&#x27;, &#x27;#7ba752ff&#x27;, &#x27;#7ba752ff&#x27;, &#x27;#7ba752ff&#x27;, &#x27;#7ba752ff&#x27;, &#x27;#7ba752ff&#x27;, &#x27;#7ba752ff&#x27;, &#x27;#7ba752ff&#x27;, &#x27;#7ba752ff&#x27;, &#x27;#7ba752ff&#x27;, &#x27;#7ba752ff&#x27;, &#x27;#7ba752ff&#x27;, &#x27;#7ba752ff&#x27;, &#x27;#7ba752ff&#x27;, &#x27;#7ba752ff&#x27;, &#x27;#7ba752ff&#x27;, &#x27;#7ba752ff&#x27;, &#x27;#7ba752ff&#x27;, &#x27;#7ba752ff&#x27;, &#x27;#7ba752ff&#x27;, &#x27;#7ba752ff&#x27;, &#x27;#7ba752ff&#x27;, &#x27;#7ba752ff&#x27;, &#x27;#7ba752ff&#x27;, &#x27;#7ba752ff&#x27;, &#x27;#7ba752ff&#x27;, &#x27;#7ba752ff&#x27;, &#x27;#7ba752ff&#x27;, &#x27;#7ba752ff&#x27;, &#x27;#7ba752ff&#x27;, &#x27;#7ba752ff&#x27;, &#x27;#7ba752ff&#x27;, &#x27;#7ba752ff&#x27;, &#x27;#a9b35bff&#x27;, &#x27;#a9b35bff&#x27;, &#x27;#a9b35bff&#x27;, &#x27;#a9b35bff&#x27;, &#x27;#a9b35bff&#x27;, &#x27;#a9b35bff&#x27;, &#x27;#a9b35bff&#x27;, &#x27;#a9b35bff&#x27;, &#x27;#a9b35bff&#x27;, &#x27;#a9b35bff&#x27;, &#x27;#a9b35bff&#x27;, &#x27;#a9b35bff&#x27;, &#x27;#a9b35bff&#x27;, &#x27;#a9b35bff&#x27;, &#x27;#a9b35bff&#x27;, &#x27;#a9b35bff&#x27;, &#x27;#a9b35bff&#x27;, &#x27;#a9b35bff&#x27;, &#x27;#a9b35bff&#x27;, &#x27;#a9b35bff&#x27;, &#x27;#a9b35bff&#x27;, &#x27;#a9b35bff&#x27;, &#x27;#a9b35bff&#x27;, &#x27;#a9b35bff&#x27;, &#x27;#a9b35bff&#x27;, &#x27;#a9b35bff&#x27;, &#x27;#a9b35bff&#x27;, &#x27;#a9b35bff&#x27;, &#x27;#a9b35bff&#x27;, &#x27;#a9b35bff&#x27;, &#x27;#a9b35bff&#x27;, &#x27;#a9b35bff&#x27;, &#x27;#a9b35bff&#x27;, &#x27;#a9b35bff&#x27;, &#x27;#a9b35bff&#x27;, &#x27;#a9b35bff&#x27;, &#x27;#a9b35bff&#x27;, &#x27;#a9b35bff&#x27;, &#x27;#a9b35bff&#x27;, &#x27;#a9b35bff&#x27;, &#x27;#a9b35bff&#x27;, &#x27;#a9b35bff&#x27;, &#x27;#a9b35bff&#x27;, &#x27;#a9b35bff&#x27;, &#x27;#a9b35bff&#x27;, &#x27;#a9b35bff&#x27;, &#x27;#a9b35bff&#x27;, &#x27;#a9b35bff&#x27;, &#x27;#a9b35bff&#x27;, &#x27;#a9b35bff&#x27;, &#x27;#bfa464ff&#x27;, &#x27;#bfa464ff&#x27;, &#x27;#bfa464ff&#x27;, &#x27;#bfa464ff&#x27;, &#x27;#bfa464ff&#x27;, &#x27;#bfa464ff&#x27;, &#x27;#bfa464ff&#x27;, &#x27;#bfa464ff&#x27;, &#x27;#bfa464ff&#x27;, &#x27;#bfa464ff&#x27;, &#x27;#bfa464ff&#x27;, &#x27;#bfa464ff&#x27;, &#x27;#bfa464ff&#x27;, &#x27;#bfa464ff&#x27;, &#x27;#bfa464ff&#x27;, &#x27;#bfa464ff&#x27;, &#x27;#bfa464ff&#x27;, &#x27;#bfa464ff&#x27;, &#x27;#bfa464ff&#x27;, &#x27;#bfa464ff&#x27;, &#x27;#bfa464ff&#x27;, &#x27;#bfa464ff&#x27;, &#x27;#bfa464ff&#x27;, &#x27;#bfa464ff&#x27;, &#x27;#bfa464ff&#x27;, &#x27;#bfa464ff&#x27;, &#x27;#bfa464ff&#x27;, &#x27;#bfa464ff&#x27;, &#x27;#bfa464ff&#x27;, &#x27;#bfa464ff&#x27;, &#x27;#bfa464ff&#x27;, &#x27;#bfa464ff&#x27;, &#x27;#bfa464ff&#x27;, &#x27;#bfa464ff&#x27;, &#x27;#bfa464ff&#x27;, &#x27;#bfa464ff&#x27;, &#x27;#bfa464ff&#x27;, &#x27;#bfa464ff&#x27;, &#x27;#bfa464ff&#x27;, &#x27;#bfa464ff&#x27;, &#x27;#bfa464ff&#x27;, &#x27;#bfa464ff&#x27;, &#x27;#bfa464ff&#x27;, &#x27;#bfa464ff&#x27;, &#x27;#bfa464ff&#x27;, &#x27;#bfa464ff&#x27;, &#x27;#bfa464ff&#x27;, &#x27;#bfa464ff&#x27;, &#x27;#bfa464ff&#x27;, &#x27;#bfa464ff&#x27;, &#x27;#ddbaa7ff&#x27;, &#x27;#ddbaa7ff&#x27;, &#x27;#ddbaa7ff&#x27;, &#x27;#ddbaa7ff&#x27;, &#x27;#ddbaa7ff&#x27;, &#x27;#ddbaa7ff&#x27;, &#x27;#ddbaa7ff&#x27;, &#x27;#ddbaa7ff&#x27;, &#x27;#ddbaa7ff&#x27;, &#x27;#ddbaa7ff&#x27;, &#x27;#ddbaa7ff&#x27;, &#x27;#ddbaa7ff&#x27;, &#x27;#ddbaa7ff&#x27;, &#x27;#ddbaa7ff&#x27;, &#x27;#ddbaa7ff&#x27;, &#x27;#ddbaa7ff&#x27;, &#x27;#ddbaa7ff&#x27;, &#x27;#ddbaa7ff&#x27;, &#x27;#ddbaa7ff&#x27;, &#x27;#ddbaa7ff&#x27;, &#x27;#ddbaa7ff&#x27;, &#x27;#ddbaa7ff&#x27;, &#x27;#ddbaa7ff&#x27;, &#x27;#ddbaa7ff&#x27;, &#x27;#ddbaa7ff&#x27;, &#x27;#ddbaa7ff&#x27;, &#x27;#ddbaa7ff&#x27;, &#x27;#ddbaa7ff&#x27;, &#x27;#ddbaa7ff&#x27;, &#x27;#ddbaa7ff&#x27;, &#x27;#ddbaa7ff&#x27;, &#x27;#ddbaa7ff&#x27;, &#x27;#ddbaa7ff&#x27;, &#x27;#ddbaa7ff&#x27;, &#x27;#ddbaa7ff&#x27;, &#x27;#ddbaa7ff&#x27;, &#x27;#ddbaa7ff&#x27;, &#x27;#ddbaa7ff&#x27;, &#x27;#ddbaa7ff&#x27;, &#x27;#ddbaa7ff&#x27;, &#x27;#ddbaa7ff&#x27;, &#x27;#ddbaa7ff&#x27;, &#x27;#ddbaa7ff&#x27;, &#x27;#ddbaa7ff&#x27;, &#x27;#ddbaa7ff&#x27;, &#x27;#ddbaa7ff&#x27;, &#x27;#ddbaa7ff&#x27;, &#x27;#ddbaa7ff&#x27;, &#x27;#ddbaa7ff&#x27;, &#x27;#ddbaa7ff&#x27;, &#x27;#fdfafaff&#x27;, &#x27;#fdfafaff&#x27;, &#x27;#fdfafaff&#x27;, &#x27;#fdfafaff&#x27;, &#x27;#fdfafaff&#x27;, &#x27;#fdfafaff&#x27;, &#x27;#fdfafaff&#x27;, &#x27;#fdfafaff&#x27;, &#x27;#fdfafaff&#x27;, &#x27;#fdfafaff&#x27;, &#x27;#fdfafaff&#x27;, &#x27;#fdfafaff&#x27;, &#x27;#fdfafaff&#x27;, &#x27;#fdfafaff&#x27;, &#x27;#fdfafaff&#x27;, &#x27;#fdfafaff&#x27;, &#x27;#fdfafaff&#x27;, &#x27;#fdfafaff&#x27;, &#x27;#fdfafaff&#x27;, &#x27;#fdfafaff&#x27;, &#x27;#fdfafaff&#x27;, &#x27;#fdfafaff&#x27;, &#x27;#fdfafaff&#x27;, &#x27;#fdfafaff&#x27;, &#x27;#fdfafaff&#x27;, &#x27;#fdfafaff&#x27;, &#x27;#fdfafaff&#x27;, &#x27;#fdfafaff&#x27;, &#x27;#fdfafaff&#x27;, &#x27;#fdfafaff&#x27;, &#x27;#fdfafaff&#x27;, &#x27;#fdfafaff&#x27;, &#x27;#fdfafaff&#x27;, &#x27;#fdfafaff&#x27;, &#x27;#fdfafaff&#x27;, &#x27;#fdfafaff&#x27;, &#x27;#fdfafaff&#x27;, &#x27;#fdfafaff&#x27;, &#x27;#fdfafaff&#x27;, &#x27;#fdfafaff&#x27;, &#x27;#fdfafaff&#x27;, &#x27;#fdfafaff&#x27;, &#x27;#fdfafaff&#x27;, &#x27;#fdfafaff&#x27;, &#x27;#fdfafaff&#x27;, &#x27;#fdfafaff&#x27;, &#x27;#fdfafaff&#x27;, &#x27;#fdfafaff&#x27;, &#x27;#fdfafaff&#x27;, &#x27;#fdfafaff&#x27;]);\n",
       "    \n",
       "\n",
       "    color_map_916dc1909eece673222fd6971041cef6.x = d3.scale.linear()\n",
       "              .domain([-148.0, 400.0])\n",
       "              .range([0, 450 - 50]);\n",
       "\n",
       "    color_map_916dc1909eece673222fd6971041cef6.legend = L.control({position: &#x27;topright&#x27;});\n",
       "    color_map_916dc1909eece673222fd6971041cef6.legend.onAdd = function (map) {var div = L.DomUtil.create(&#x27;div&#x27;, &#x27;legend&#x27;); return div};\n",
       "    color_map_916dc1909eece673222fd6971041cef6.legend.addTo(map_e32b9954e8899133fb7e6d6e1fe9e23d);\n",
       "\n",
       "    color_map_916dc1909eece673222fd6971041cef6.xAxis = d3.svg.axis()\n",
       "        .scale(color_map_916dc1909eece673222fd6971041cef6.x)\n",
       "        .orient(&quot;top&quot;)\n",
       "        .tickSize(1)\n",
       "        .tickValues([-148.0, &#x27;&#x27;, -38.400000000000006, &#x27;&#x27;, 71.19999999999999, &#x27;&#x27;, 180.79999999999995, &#x27;&#x27;, 290.4, &#x27;&#x27;, 400.0, &#x27;&#x27;]);\n",
       "\n",
       "    color_map_916dc1909eece673222fd6971041cef6.svg = d3.select(&quot;.legend.leaflet-control&quot;).append(&quot;svg&quot;)\n",
       "        .attr(&quot;id&quot;, &#x27;legend&#x27;)\n",
       "        .attr(&quot;width&quot;, 450)\n",
       "        .attr(&quot;height&quot;, 40);\n",
       "\n",
       "    color_map_916dc1909eece673222fd6971041cef6.g = color_map_916dc1909eece673222fd6971041cef6.svg.append(&quot;g&quot;)\n",
       "        .attr(&quot;class&quot;, &quot;key&quot;)\n",
       "        .attr(&quot;transform&quot;, &quot;translate(25,16)&quot;);\n",
       "\n",
       "    color_map_916dc1909eece673222fd6971041cef6.g.selectAll(&quot;rect&quot;)\n",
       "        .data(color_map_916dc1909eece673222fd6971041cef6.color.range().map(function(d, i) {\n",
       "          return {\n",
       "            x0: i ? color_map_916dc1909eece673222fd6971041cef6.x(color_map_916dc1909eece673222fd6971041cef6.color.domain()[i - 1]) : color_map_916dc1909eece673222fd6971041cef6.x.range()[0],\n",
       "            x1: i &lt; color_map_916dc1909eece673222fd6971041cef6.color.domain().length ? color_map_916dc1909eece673222fd6971041cef6.x(color_map_916dc1909eece673222fd6971041cef6.color.domain()[i]) : color_map_916dc1909eece673222fd6971041cef6.x.range()[1],\n",
       "            z: d\n",
       "          };\n",
       "        }))\n",
       "      .enter().append(&quot;rect&quot;)\n",
       "        .attr(&quot;height&quot;, 40 - 30)\n",
       "        .attr(&quot;x&quot;, function(d) { return d.x0; })\n",
       "        .attr(&quot;width&quot;, function(d) { return d.x1 - d.x0; })\n",
       "        .style(&quot;fill&quot;, function(d) { return d.z; });\n",
       "\n",
       "    color_map_916dc1909eece673222fd6971041cef6.g.call(color_map_916dc1909eece673222fd6971041cef6.xAxis).append(&quot;text&quot;)\n",
       "        .attr(&quot;class&quot;, &quot;caption&quot;)\n",
       "        .attr(&quot;y&quot;, 21)\n",
       "        .text(&quot;Estimated aboveground biomass in Mg/ha (megagram per hectare)&quot;);\n",
       "&lt;/script&gt;\n",
       "&lt;/html&gt;\" style=\"position:absolute;width:100%;height:100%;left:0;top:0;border:none !important;\" allowfullscreen webkitallowfullscreen mozallowfullscreen></iframe></div></div>"
      ],
      "text/plain": [
       "<folium.folium.Map at 0x7fce842c74d0>"
      ]
     },
     "execution_count": 23,
     "metadata": {},
     "output_type": "execute_result"
    }
   ],
   "source": [
    "# Create a json string of the colormap, so it can be passed as a parameter to titiler's API.\n",
    "cmap = json.dumps(color_map)\n",
    "\n",
    "# We fetch tilejson from titiler endpoint, to build a better map with appropriate bounds and zoom level\n",
    "tilejson_response = requests.get(\n",
    "    f\"{titiler_endpoint}/cog/tilejson.json\",\n",
    "    params = {\n",
    "        \"url\": url,\n",
    "        \"colormap\": cmap\n",
    "    }\n",
    ").json()\n",
    "tilejson_response\n",
    "bounds = tilejson_response[\"bounds\"]\n",
    "m = Map(\n",
    "    location=((bounds[1] + bounds[3]) / 2,(bounds[0] + bounds[2]) / 2),\n",
    "    zoom_start=tilejson_response[\"minzoom\"] + 1\n",
    ")\n",
    "\n",
    "# We add a TileLayer using the tilejson_response \"tiles\" value which is the XYZ endpoint of titiler.\n",
    "aod_layer = TileLayer(\n",
    "    tiles=tilejson_response[\"tiles\"][0],\n",
    "    opacity=1,\n",
    "    attr=\"Swisstopo\"\n",
    ")\n",
    "aod_layer.add_to(m)\n",
    "\n",
    "# Finally, we add the legend.\n",
    "legend.caption = 'Estimated aboveground biomass in Mg/ha (megagram per hectare)'\n",
    "legend.add_to(m)\n",
    "\n",
    "m"
   ]
  },
  {
   "cell_type": "code",
   "execution_count": null,
   "id": "b1d9fef8",
   "metadata": {},
   "outputs": [],
   "source": []
  }
 ],
 "metadata": {
  "kernelspec": {
   "display_name": "conda_base",
   "language": "python",
   "name": "conda_base"
  },
  "language_info": {
   "codemirror_mode": {
    "name": "ipython",
    "version": 3
   },
   "file_extension": ".py",
   "mimetype": "text/x-python",
   "name": "python",
   "nbconvert_exporter": "python",
   "pygments_lexer": "ipython3",
   "version": "3.7.8"
  }
 },
 "nbformat": 4,
 "nbformat_minor": 5
}
