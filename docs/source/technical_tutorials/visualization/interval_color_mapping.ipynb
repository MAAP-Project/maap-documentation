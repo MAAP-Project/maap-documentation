{
 "cells": [
  {
   "cell_type": "markdown",
   "id": "73e3b144",
   "metadata": {},
   "source": [
    "# Interval Color Mapping"
   ]
  },
  {
   "cell_type": "markdown",
   "id": "43833bad",
   "metadata": {},
   "source": [
    "Author(s): Aimee Barciauskas (DevSeed) \n",
    "\n",
    "Date: March 3, 2023 \n",
    "\n",
    "Description: In this tutorial, we will pull from a SpatioTemporal Asset Catalog (STAC) collection containing cloud optimized geotiffs (COG) to create a colormap using CSS RGBA values with the COG's data values. We will then use the custom colormap to visualize the Global Aboveground Biomass (AGB) density estimates."
   ]
  },
  {
   "cell_type": "markdown",
   "id": "44d71780",
   "metadata": {},
   "source": [
    "## Run This Notebook \n",
    "To access and run this tutorial within MAAP's Algorithm Development Environment (ADE), please refer to the \"Getting started with the MAAP\" section of our documentation. \n",
    "\n",
    "Disclaimer: it is highly recommended to run a tutorial within MAAP's ADE, which already includes packages specific to MAAP, such as maap-py. Running the tutorial outside of the MAAP ADE may lead to errors."
   ]
  },
  {
   "cell_type": "markdown",
   "id": "4bef439d",
   "metadata": {},
   "source": [
    "## Additional Resources \n",
    "- [Predefined Color Maps](https://matplotlib.org/3.1.0/tutorials/colors/colormaps.html)\n",
    "- [CSS RGBA Colors](https://www.w3schools.com/css/css3_colors.asp)\n",
    "- [Using Python Zip Function](https://www.w3schools.com/python/ref_func_zip.asp)\n"
   ]
  },
  {
   "cell_type": "markdown",
   "id": "e90131a3",
   "metadata": {},
   "source": [
    "## Importing and Installing Packages \n",
    "We will begin by installing any packages we need and importing the packages that we will use."
   ]
  },
  {
   "cell_type": "markdown",
   "id": "84490d5a",
   "metadata": {},
   "source": [
    "Prerequisites\n",
    "\n",
    "- branca\n",
    "- folium"
   ]
  },
  {
   "cell_type": "code",
   "execution_count": null,
   "id": "2aba587e",
   "metadata": {
    "tags": []
   },
   "outputs": [],
   "source": [
    "# %pip install folium\n",
    "# %pip install branca"
   ]
  },
  {
   "cell_type": "code",
   "execution_count": 1,
   "id": "3be010a7",
   "metadata": {
    "tags": []
   },
   "outputs": [],
   "source": [
    "import branca\n",
    "from folium import Map, TileLayer\n",
    "import json\n",
    "from matplotlib import cm\n",
    "import requests"
   ]
  },
  {
   "cell_type": "markdown",
   "id": "6b054ec0",
   "metadata": {},
   "source": [
    "## Discover Data from STAC"
   ]
  },
  {
   "cell_type": "code",
   "execution_count": 2,
   "id": "b438e63d",
   "metadata": {
    "tags": []
   },
   "outputs": [
    {
     "data": {
      "text/plain": [
       "'s3://nasa-maap-data-store/file-staging/nasa-map/NASA_JPL_global_agb_mean_2020/global_008_06dc_agb_mean_prediction_2020_mosaic_veg_gfccorr_scale1_SAmerica_cog.tif'"
      ]
     },
     "execution_count": 2,
     "metadata": {},
     "output_type": "execute_result"
    }
   ],
   "source": [
    "stac_endpoint = \"https://stac.maap-project.org\"\n",
    "titiler_endpoint = \"https://titiler.maap-project.org\"\n",
    "collection = \"NASA_JPL_global_agb_mean_2020\"\n",
    "item = \"SAmerica\"\n",
    "\n",
    "items_response = requests.get(f\"{stac_endpoint}/collections/{collection}/items/{item}\").json()\n",
    "url = items_response['assets']['mean']['href']\n",
    "url"
   ]
  },
  {
   "cell_type": "markdown",
   "id": "0ba557f6",
   "metadata": {},
   "source": [
    "## Get Data Values Using `/statistics` Endpoint"
   ]
  },
  {
   "cell_type": "code",
   "execution_count": 3,
   "id": "cdea833f",
   "metadata": {
    "tags": []
   },
   "outputs": [],
   "source": [
    "# You can use gdalinfo /vsis3/nasa-maap-data-store/file-staging/nasa-map/NASA_JPL_global_agb_mean_2020/global_008_06dc_agb_mean_prediction_2020_mosaic_veg_gfccorr_scale1_SAmerica_cog.tif -stats\n",
    "# or you can get metadata from titiler.\n",
    "stats_response = requests.get(\n",
    "    f\"{titiler_endpoint}/cog/statistics\",\n",
    "    params = {\n",
    "        \"url\": url\n",
    "    }\n",
    ").json()"
   ]
  },
  {
   "cell_type": "code",
   "execution_count": 4,
   "id": "2e4ceed4",
   "metadata": {
    "tags": []
   },
   "outputs": [
    {
     "data": {
      "text/plain": [
       "[[-1166.0, -882.5],\n",
       " [-882.5, -599.0],\n",
       " [-599.0, -315.5],\n",
       " [-315.5, -32.0],\n",
       " [-32.0, 251.5],\n",
       " [251.5, 535.0],\n",
       " [535.0, 818.5],\n",
       " [818.5, 1102.0],\n",
       " [1102.0, 1385.5],\n",
       " [1385.5, 1669.0]]"
      ]
     },
     "execution_count": 4,
     "metadata": {},
     "output_type": "execute_result"
    }
   ],
   "source": [
    "bins = stats_response['b1']['histogram'][1]\n",
    "bin_ranges = [[bins[i], bins[i+1]] for i in range(len(bins)-1)]\n",
    "bin_ranges"
   ]
  },
  {
   "cell_type": "markdown",
   "id": "53910011",
   "metadata": {},
   "source": [
    "\n",
    "## Pick a Color Map and Create a Linear Mapping"
   ]
  },
  {
   "cell_type": "code",
   "execution_count": 5,
   "id": "d374b4fb",
   "metadata": {
    "tags": []
   },
   "outputs": [],
   "source": [
    "# There are many pre-defined colormaps supported by matplotlib.\n",
    "# Some are listed below but a complete list be found here: https://matplotlib.org/3.1.0/tutorials/colors/colormaps.html\n",
    "# You may define custom color maps, but using the predefined ones makes life easier.\n",
    "sequential_cmaps = [\n",
    "    'Greys', 'Purples', 'Blues', 'Greens', 'Oranges', 'Reds',\n",
    "    'YlOrBr', 'YlOrRd', 'OrRd', 'PuRd', 'RdPu', 'BuPu',\n",
    "    'GnBu', 'PuBu', 'YlGnBu', 'PuBuGn', 'BuGn', 'YlGn'\n",
    "]\n",
    "\n",
    "sequential_cmaps2 = [\n",
    "    'binary', 'gist_yarg', 'gist_gray', 'gray', 'bone', 'pink',\n",
    "    'spring', 'summer', 'autumn', 'winter', 'cool', 'Wistia',\n",
    "    'hot', 'afmhot', 'gist_heat', 'copper']"
   ]
  },
  {
   "cell_type": "code",
   "execution_count": 9,
   "id": "488e280f",
   "metadata": {
    "tags": []
   },
   "outputs": [
    {
     "data": {
      "text/plain": [
       "[([-1166.0, -882.5], [0, 0, 0, 255]),\n",
       " ([-882.5, -599.0], [18, 48, 119, 255]),\n",
       " ([-599.0, -315.5], [37, 102, 124, 255]),\n",
       " ([-315.5, -32.0], [54, 135, 111, 255]),\n",
       " ([-32.0, 251.5], [67, 151, 77, 255]),\n",
       " ([251.5, 535.0], [123, 167, 82, 255]),\n",
       " ([535.0, 818.5], [169, 179, 91, 255]),\n",
       " ([818.5, 1102.0], [191, 164, 100, 255]),\n",
       " ([1102.0, 1385.5], [221, 186, 167, 255]),\n",
       " ([1385.5, 1669.0], [253, 250, 250, 255])]"
      ]
     },
     "execution_count": 9,
     "metadata": {},
     "output_type": "execute_result"
    }
   ],
   "source": [
    "# Here we create a list of pairs, each pair containing a data value interval range (aka \"bin\")\n",
    "# with a color value in RGBA (see https://www.w3schools.com/css/css3_colors.asp)\n",
    "# First we create a list of colors\n",
    "rgbas = [[int(value) for value in rgb] for rgb in cm.ScalarMappable(cmap='gist_earth').to_rgba(x=bins[:-1], bytes=True)]\n",
    "# Then we use python's zip function to pair rgba values with data values (https://www.w3schools.com/python/ref_func_zip.asp)\n",
    "color_map = list(zip(bin_ranges, rgbas))\n",
    "# some tweaking may be necessary\n",
    "color_map"
   ]
  },
  {
   "cell_type": "code",
   "execution_count": 7,
   "id": "3140ca88",
   "metadata": {
    "tags": []
   },
   "outputs": [],
   "source": [
    "# Let's also create a legend using the RGBA values and bins so our map visualization can be interpreted!\n",
    "legend = branca.colormap.StepColormap(rgbas, index=bins, vmin=round(bins[0], 2), vmax=round(bins[-1], 2))"
   ]
  },
  {
   "cell_type": "markdown",
   "id": "9361c54a",
   "metadata": {},
   "source": [
    "## Preview the data"
   ]
  },
  {
   "cell_type": "code",
   "execution_count": 10,
   "id": "0883da90",
   "metadata": {},
   "outputs": [
    {
     "data": {
      "text/html": [
       "<div style=\"width:100%;\"><div style=\"position:relative;width:100%;height:0;padding-bottom:60%;\"><span style=\"color:#565656\">Make this Notebook Trusted to load map: File -> Trust Notebook</span><iframe srcdoc=\"&lt;!DOCTYPE html&gt;\n",
       "&lt;html&gt;\n",
       "&lt;head&gt;\n",
       "    \n",
       "    &lt;meta http-equiv=&quot;content-type&quot; content=&quot;text/html; charset=UTF-8&quot; /&gt;\n",
       "    \n",
       "        &lt;script&gt;\n",
       "            L_NO_TOUCH = false;\n",
       "            L_DISABLE_3D = false;\n",
       "        &lt;/script&gt;\n",
       "    \n",
       "    &lt;style&gt;html, body {width: 100%;height: 100%;margin: 0;padding: 0;}&lt;/style&gt;\n",
       "    &lt;style&gt;#map {position:absolute;top:0;bottom:0;right:0;left:0;}&lt;/style&gt;\n",
       "    &lt;script src=&quot;https://cdn.jsdelivr.net/npm/leaflet@1.9.3/dist/leaflet.js&quot;&gt;&lt;/script&gt;\n",
       "    &lt;script src=&quot;https://code.jquery.com/jquery-1.12.4.min.js&quot;&gt;&lt;/script&gt;\n",
       "    &lt;script src=&quot;https://cdn.jsdelivr.net/npm/bootstrap@5.2.2/dist/js/bootstrap.bundle.min.js&quot;&gt;&lt;/script&gt;\n",
       "    &lt;script src=&quot;https://cdnjs.cloudflare.com/ajax/libs/Leaflet.awesome-markers/2.0.2/leaflet.awesome-markers.js&quot;&gt;&lt;/script&gt;\n",
       "    &lt;link rel=&quot;stylesheet&quot; href=&quot;https://cdn.jsdelivr.net/npm/leaflet@1.9.3/dist/leaflet.css&quot;/&gt;\n",
       "    &lt;link rel=&quot;stylesheet&quot; href=&quot;https://cdn.jsdelivr.net/npm/bootstrap@5.2.2/dist/css/bootstrap.min.css&quot;/&gt;\n",
       "    &lt;link rel=&quot;stylesheet&quot; href=&quot;https://netdna.bootstrapcdn.com/bootstrap/3.0.0/css/bootstrap.min.css&quot;/&gt;\n",
       "    &lt;link rel=&quot;stylesheet&quot; href=&quot;https://cdn.jsdelivr.net/npm/@fortawesome/fontawesome-free@6.2.0/css/all.min.css&quot;/&gt;\n",
       "    &lt;link rel=&quot;stylesheet&quot; href=&quot;https://cdnjs.cloudflare.com/ajax/libs/Leaflet.awesome-markers/2.0.2/leaflet.awesome-markers.css&quot;/&gt;\n",
       "    &lt;link rel=&quot;stylesheet&quot; href=&quot;https://cdn.jsdelivr.net/gh/python-visualization/folium/folium/templates/leaflet.awesome.rotate.min.css&quot;/&gt;\n",
       "    \n",
       "            &lt;meta name=&quot;viewport&quot; content=&quot;width=device-width,\n",
       "                initial-scale=1.0, maximum-scale=1.0, user-scalable=no&quot; /&gt;\n",
       "            &lt;style&gt;\n",
       "                #map_ea7d2eddd22c55fa8d30b7b8a80d7b21 {\n",
       "                    position: relative;\n",
       "                    width: 100.0%;\n",
       "                    height: 100.0%;\n",
       "                    left: 0.0%;\n",
       "                    top: 0.0%;\n",
       "                }\n",
       "                .leaflet-container { font-size: 1rem; }\n",
       "            &lt;/style&gt;\n",
       "        \n",
       "    &lt;script src=&quot;https://cdnjs.cloudflare.com/ajax/libs/d3/3.5.5/d3.min.js&quot;&gt;&lt;/script&gt;\n",
       "&lt;/head&gt;\n",
       "&lt;body&gt;\n",
       "    \n",
       "    \n",
       "            &lt;div class=&quot;folium-map&quot; id=&quot;map_ea7d2eddd22c55fa8d30b7b8a80d7b21&quot; &gt;&lt;/div&gt;\n",
       "        \n",
       "&lt;/body&gt;\n",
       "&lt;script&gt;\n",
       "    \n",
       "    \n",
       "            var map_ea7d2eddd22c55fa8d30b7b8a80d7b21 = L.map(\n",
       "                &quot;map_ea7d2eddd22c55fa8d30b7b8a80d7b21&quot;,\n",
       "                {\n",
       "                    center: [-23.499478674927353, -105.00092945723466],\n",
       "                    crs: L.CRS.EPSG3857,\n",
       "                    zoom: 2,\n",
       "                    zoomControl: true,\n",
       "                    preferCanvas: false,\n",
       "                }\n",
       "            );\n",
       "\n",
       "            \n",
       "\n",
       "        \n",
       "    \n",
       "            var tile_layer_15ed0b552967d75169f60ef6edf80c38 = L.tileLayer(\n",
       "                &quot;https://{s}.tile.openstreetmap.org/{z}/{x}/{y}.png&quot;,\n",
       "                {&quot;attribution&quot;: &quot;Data by \\u0026copy; \\u003ca target=\\&quot;_blank\\&quot; href=\\&quot;http://openstreetmap.org\\&quot;\\u003eOpenStreetMap\\u003c/a\\u003e, under \\u003ca target=\\&quot;_blank\\&quot; href=\\&quot;http://www.openstreetmap.org/copyright\\&quot;\\u003eODbL\\u003c/a\\u003e.&quot;, &quot;detectRetina&quot;: false, &quot;maxNativeZoom&quot;: 18, &quot;maxZoom&quot;: 18, &quot;minZoom&quot;: 0, &quot;noWrap&quot;: false, &quot;opacity&quot;: 1, &quot;subdomains&quot;: &quot;abc&quot;, &quot;tms&quot;: false}\n",
       "            ).addTo(map_ea7d2eddd22c55fa8d30b7b8a80d7b21);\n",
       "        \n",
       "    \n",
       "            var tile_layer_25b225afbb02de8ef54949ab22c969db = L.tileLayer(\n",
       "                &quot;https://titiler.maap-project.org/cog/tiles/WebMercatorQuad/{z}/{x}/{y}@1x?url=s3%3A%2F%2Fnasa-maap-data-store%2Ffile-staging%2Fnasa-map%2FNASA_JPL_global_agb_mean_2020%2Fglobal_008_06dc_agb_mean_prediction_2020_mosaic_veg_gfccorr_scale1_SAmerica_cog.tif\\u0026colormap=%5B%5B%5B-1166.0%2C+-882.5%5D%2C+%5B0%2C+0%2C+0%2C+255%5D%5D%2C+%5B%5B-882.5%2C+-599.0%5D%2C+%5B18%2C+48%2C+119%2C+255%5D%5D%2C+%5B%5B-599.0%2C+-315.5%5D%2C+%5B37%2C+102%2C+124%2C+255%5D%5D%2C+%5B%5B-315.5%2C+-32.0%5D%2C+%5B54%2C+135%2C+111%2C+255%5D%5D%2C+%5B%5B-32.0%2C+251.5%5D%2C+%5B67%2C+151%2C+77%2C+255%5D%5D%2C+%5B%5B251.5%2C+535.0%5D%2C+%5B123%2C+167%2C+82%2C+255%5D%5D%2C+%5B%5B535.0%2C+818.5%5D%2C+%5B169%2C+179%2C+91%2C+255%5D%5D%2C+%5B%5B818.5%2C+1102.0%5D%2C+%5B191%2C+164%2C+100%2C+255%5D%5D%2C+%5B%5B1102.0%2C+1385.5%5D%2C+%5B221%2C+186%2C+167%2C+255%5D%5D%2C+%5B%5B1385.5%2C+1669.0%5D%2C+%5B253%2C+250%2C+250%2C+255%5D%5D%5D&quot;,\n",
       "                {&quot;attribution&quot;: &quot;SAmerica&quot;, &quot;detectRetina&quot;: false, &quot;maxNativeZoom&quot;: 18, &quot;maxZoom&quot;: 18, &quot;minZoom&quot;: 0, &quot;noWrap&quot;: false, &quot;opacity&quot;: 1, &quot;subdomains&quot;: &quot;abc&quot;, &quot;tms&quot;: false}\n",
       "            ).addTo(map_ea7d2eddd22c55fa8d30b7b8a80d7b21);\n",
       "        \n",
       "    \n",
       "    var color_map_fbc0a317733528b152098c1d040e2151 = {};\n",
       "\n",
       "    \n",
       "    color_map_fbc0a317733528b152098c1d040e2151.color = d3.scale.threshold()\n",
       "              .domain([-1166.0, -1160.318637274549, -1154.6372745490983, -1148.9559118236473, -1143.2745490981963, -1137.5931863727455, -1131.9118236472946, -1126.2304609218436, -1120.5490981963928, -1114.8677354709419, -1109.186372745491, -1103.5050100200401, -1097.8236472945891, -1092.1422845691384, -1086.4609218436874, -1080.7795591182364, -1075.0981963927857, -1069.4168336673347, -1063.7354709418837, -1058.054108216433, -1052.372745490982, -1046.691382765531, -1041.0100200400802, -1035.3286573146293, -1029.6472945891783, -1023.9659318637275, -1018.2845691382765, -1012.6032064128257, -1006.9218436873748, -1001.2404809619238, -995.559118236473, -989.8777555110221, -984.1963927855711, -978.5150300601202, -972.8336673346694, -967.1523046092184, -961.4709418837675, -955.7895791583167, -950.1082164328657, -944.4268537074148, -938.7454909819639, -933.064128256513, -927.3827655310621, -921.7014028056112, -916.0200400801604, -910.3386773547095, -904.6573146292585, -898.9759519038076, -893.2945891783568, -887.6132264529058, -881.9318637274549, -876.2505010020041, -870.5691382765531, -864.8877755511022, -859.2064128256513, -853.5250501002004, -847.8436873747495, -842.1623246492986, -836.4809619238476, -830.7995991983968, -825.1182364729459, -819.4368737474949, -813.7555110220441, -808.0741482965932, -802.3927855711422, -796.7114228456915, -791.0300601202405, -785.3486973947895, -779.6673346693387, -773.9859719438878, -768.3046092184369, -762.623246492986, -756.941883767535, -751.2605210420842, -745.5791583166333, -739.8977955911823, -734.2164328657315, -728.5350701402806, -722.8537074148296, -717.1723446893787, -711.4909819639279, -705.8096192384769, -700.128256513026, -694.4468937875752, -688.7655310621242, -683.0841683366734, -677.4028056112224, -671.7214428857715, -666.0400801603207, -660.3587174348697, -654.6773547094189, -648.9959919839679, -643.314629258517, -637.6332665330661, -631.9519038076153, -626.2705410821643, -620.5891783567134, -614.9078156312626, -609.2264529058116, -603.5450901803607, -597.8637274549098, -592.1823647294589, -586.501002004008, -580.8196392785571, -575.1382765531063, -569.4569138276553, -563.7755511022044, -558.0941883767536, -552.4128256513026, -546.7314629258517, -541.0501002004008, -535.3687374749499, -529.687374749499, -524.0060120240481, -518.3246492985973, -512.6432865731463, -506.9619238476954, -501.28056112224453, -495.59919839679355, -489.9178356713427, -484.2364729458918, -478.55511022044084, -472.87374749498997, -467.1923847695391, -461.5110220440881, -455.82965931863725, -450.1482965931864, -444.4669338677355, -438.78557114228454, -433.10420841683367, -427.4228456913828, -421.7414829659318, -416.06012024048096, -410.3787575150301, -404.6973947895791, -399.01603206412824, -393.3346693386774, -387.6533066132265, -381.9719438877755, -376.29058116232466, -370.6092184368738, -364.9278557114228, -359.24649298597194, -353.5651302605211, -347.8837675350701, -342.2024048096192, -336.52104208416836, -330.8396793587175, -325.1583166332665, -319.47695390781564, -313.7955911823648, -308.1142284569138, -302.4328657314629, -296.75150300601206, -291.0701402805611, -285.3887775551102, -279.70741482965934, -274.02605210420836, -268.3446893787575, -262.6633266533066, -256.98196392785576, -251.30060120240478, -245.6192384769539, -239.93787575150304, -234.25651302605206, -228.5751503006012, -222.89378757515033, -217.21242484969935, -211.53106212424848, -205.8496993987976, -200.16833667334674, -194.48697394789576, -188.8056112224449, -183.12424849699403, -177.44288577154305, -171.76152304609218, -166.0801603206413, -160.39879759519033, -154.71743486973946, -149.0360721442886, -143.35470941883773, -137.67334669338675, -131.99198396793577, -126.31062124248501, -120.62925851703403, -114.94789579158328, -109.2665330661323, -103.58517034068132, -97.90380761523056, -92.22244488977958, -86.5410821643286, -80.85971943887785, -75.17835671342687, -69.49699398797588, -63.81563126252513, -58.13426853707415, -52.45290581162317, -46.771543086172414, -41.09018036072143, -35.40881763527045, -29.7274549098197, -24.046092184368717, -18.364729458917736, -12.683366733466983, -7.0020040080160015, -1.3206412825650204, 4.360721442885733, 10.042084168336714, 15.723446893787468, 21.40480961923845, 27.08617234468943, 32.767535070140184, 38.448897795591165, 44.130260521042146, 49.8116232464929, 55.49298597194388, 61.17434869739486, 66.85571142284562, 72.5370741482966, 78.21843687374758, 83.89979959919833, 89.58116232464931, 95.2625250501003, 100.94388777555105, 106.62525050100203, 112.30661322645301, 117.98797595190376, 123.66933867735474, 129.3507014028055, 135.03206412825648, 140.71342685370746, 146.3947895791582, 152.0761523046092, 157.75751503006018, 163.43887775551093, 169.1202404809619, 174.8016032064129, 180.48296593186365, 186.16432865731463, 191.8456913827656, 197.52705410821636, 203.20841683366734, 208.88977955911832, 214.57114228456908, 220.25250501002006, 225.93386773547104, 231.6152304609218, 237.29659318637277, 242.97795591182376, 248.6593186372745, 254.3406813627255, 260.02204408817624, 265.7034068136272, 271.3847695390782, 277.06613226452896, 282.74749498997994, 288.4288577154309, 294.1102204408817, 299.79158316633266, 305.47294589178364, 311.1543086172344, 316.8356713426854, 322.51703406813635, 328.1983967935871, 333.8797595190381, 339.56112224448907, 345.2424849699398, 350.9238476953908, 356.6052104208418, 362.28657314629254, 367.9679358717435, 373.6492985971945, 379.33066132264526, 385.01202404809624, 390.693386773547, 396.37474949899797, 402.05611222444895, 407.7374749498997, 413.4188376753507, 419.10020040080167, 424.7815631262524, 430.4629258517034, 436.1442885771544, 441.82565130260514, 447.5070140280561, 453.1883767535071, 458.86973947895785, 464.55110220440883, 470.2324649298598, 475.91382765531057, 481.59519038076155, 487.27655310621253, 492.9579158316633, 498.63927855711427, 504.320641282565, 510.002004008016, 515.683366733467, 521.3647294589177, 527.0460921843687, 532.7274549098197, 538.4088176352705, 544.0901803607214, 549.7715430861724, 555.4529058116232, 561.1342685370741, 566.8156312625251, 572.4969939879759, 578.1783567134269, 583.8597194388778, 589.5410821643286, 595.2224448897796, 600.9038076152306, 606.5851703406813, 612.2665330661323, 617.9478957915833, 623.629258517034, 629.310621242485, 634.9919839679358, 640.6733466933867, 646.3547094188377, 652.0360721442885, 657.7174348697395, 663.3987975951904, 669.0801603206412, 674.7615230460922, 680.4428857715432, 686.1242484969939, 691.8056112224449, 697.4869739478959, 703.1683366733466, 708.8496993987976, 714.5310621242486, 720.2124248496993, 725.8937875751503, 731.5751503006013, 737.2565130260521, 742.937875751503, 748.6192384769538, 754.3006012024048, 759.9819639278558, 765.6633266533065, 771.3446893787575, 777.0260521042085, 782.7074148296592, 788.3887775551102, 794.0701402805612, 799.751503006012, 805.4328657314629, 811.1142284569139, 816.7955911823647, 822.4769539078156, 828.1583166332666, 833.8396793587174, 839.5210420841684, 845.2024048096193, 850.8837675350701, 856.5651302605211, 862.246492985972, 867.9278557114228, 873.6092184368738, 879.2905811623245, 884.9719438877755, 890.6533066132265, 896.3346693386775, 902.0160320641285, 907.697394789579, 913.37875751503, 919.060120240481, 924.7414829659319, 930.4228456913829, 936.1042084168334, 941.7855711422844, 947.4669338677354, 953.1482965931864, 958.8296593186374, 964.5110220440883, 970.1923847695389, 975.8737474949899, 981.5551102204408, 987.2364729458918, 992.9178356713428, 998.5991983967938, 1004.2805611222443, 1009.9619238476953, 1015.6432865731463, 1021.3246492985973, 1027.0060120240482, 1032.6873747494992, 1038.3687374749497, 1044.0501002004007, 1049.7314629258517, 1055.4128256513027, 1061.0941883767537, 1066.7755511022042, 1072.4569138276552, 1078.1382765531062, 1083.8196392785571, 1089.5010020040081, 1095.182364729459, 1100.8637274549096, 1106.5450901803606, 1112.2264529058116, 1117.9078156312626, 1123.5891783567135, 1129.2705410821645, 1134.951903807615, 1140.633266533066, 1146.314629258517, 1151.995991983968, 1157.677354709419, 1163.35871743487, 1169.0400801603205, 1174.7214428857715, 1180.4028056112224, 1186.0841683366734, 1191.7655310621244, 1197.446893787575, 1203.128256513026, 1208.809619238477, 1214.4909819639279, 1220.1723446893789, 1225.8537074148298, 1231.5350701402804, 1237.2164328657313, 1242.8977955911823, 1248.5791583166333, 1254.2605210420843, 1259.9418837675353, 1265.6232464929858, 1271.3046092184368, 1276.9859719438878, 1282.6673346693387, 1288.3486973947897, 1294.0300601202407, 1299.7114228456912, 1305.3927855711422, 1311.0741482965932, 1316.7555110220442, 1322.4368737474952, 1328.1182364729457, 1333.7995991983967, 1339.4809619238476, 1345.1623246492986, 1350.8436873747496, 1356.5250501002006, 1362.2064128256511, 1367.887775551102, 1373.569138276553, 1379.250501002004, 1384.931863727455, 1390.613226452906, 1396.2945891783565, 1401.9759519038075, 1407.6573146292585, 1413.3386773547095, 1419.0200400801605, 1424.701402805611, 1430.382765531062, 1436.064128256513, 1441.745490981964, 1447.426853707415, 1453.108216432866, 1458.7895791583164, 1464.4709418837674, 1470.1523046092184, 1475.8336673346694, 1481.5150300601204, 1487.1963927855713, 1492.8777555110219, 1498.5591182364728, 1504.2404809619238, 1509.9218436873748, 1515.6032064128258, 1521.2845691382768, 1526.9659318637273, 1532.6472945891783, 1538.3286573146293, 1544.0100200400802, 1549.6913827655312, 1555.3727454909817, 1561.0541082164327, 1566.7354709418837, 1572.4168336673347, 1578.0981963927857, 1583.7795591182366, 1589.4609218436872, 1595.1422845691382, 1600.8236472945891, 1606.5050100200401, 1612.186372745491, 1617.867735470942, 1623.5490981963926, 1629.2304609218436, 1634.9118236472946, 1640.5931863727455, 1646.2745490981965, 1651.9559118236475, 1657.637274549098, 1663.318637274549, 1669.0])\n",
       "              .range([&#x27;#000000ff&#x27;, &#x27;#000000ff&#x27;, &#x27;#000000ff&#x27;, &#x27;#000000ff&#x27;, &#x27;#000000ff&#x27;, &#x27;#000000ff&#x27;, &#x27;#000000ff&#x27;, &#x27;#000000ff&#x27;, &#x27;#000000ff&#x27;, &#x27;#000000ff&#x27;, &#x27;#000000ff&#x27;, &#x27;#000000ff&#x27;, &#x27;#000000ff&#x27;, &#x27;#000000ff&#x27;, &#x27;#000000ff&#x27;, &#x27;#000000ff&#x27;, &#x27;#000000ff&#x27;, &#x27;#000000ff&#x27;, &#x27;#000000ff&#x27;, &#x27;#000000ff&#x27;, &#x27;#000000ff&#x27;, &#x27;#000000ff&#x27;, &#x27;#000000ff&#x27;, &#x27;#000000ff&#x27;, &#x27;#000000ff&#x27;, &#x27;#000000ff&#x27;, &#x27;#000000ff&#x27;, &#x27;#000000ff&#x27;, &#x27;#000000ff&#x27;, &#x27;#000000ff&#x27;, &#x27;#000000ff&#x27;, &#x27;#000000ff&#x27;, &#x27;#000000ff&#x27;, &#x27;#000000ff&#x27;, &#x27;#000000ff&#x27;, &#x27;#000000ff&#x27;, &#x27;#000000ff&#x27;, &#x27;#000000ff&#x27;, &#x27;#000000ff&#x27;, &#x27;#000000ff&#x27;, &#x27;#000000ff&#x27;, &#x27;#000000ff&#x27;, &#x27;#000000ff&#x27;, &#x27;#000000ff&#x27;, &#x27;#000000ff&#x27;, &#x27;#000000ff&#x27;, &#x27;#000000ff&#x27;, &#x27;#000000ff&#x27;, &#x27;#000000ff&#x27;, &#x27;#000000ff&#x27;, &#x27;#123077ff&#x27;, &#x27;#123077ff&#x27;, &#x27;#123077ff&#x27;, &#x27;#123077ff&#x27;, &#x27;#123077ff&#x27;, &#x27;#123077ff&#x27;, &#x27;#123077ff&#x27;, &#x27;#123077ff&#x27;, &#x27;#123077ff&#x27;, &#x27;#123077ff&#x27;, &#x27;#123077ff&#x27;, &#x27;#123077ff&#x27;, &#x27;#123077ff&#x27;, &#x27;#123077ff&#x27;, &#x27;#123077ff&#x27;, &#x27;#123077ff&#x27;, &#x27;#123077ff&#x27;, &#x27;#123077ff&#x27;, &#x27;#123077ff&#x27;, &#x27;#123077ff&#x27;, &#x27;#123077ff&#x27;, &#x27;#123077ff&#x27;, &#x27;#123077ff&#x27;, &#x27;#123077ff&#x27;, &#x27;#123077ff&#x27;, &#x27;#123077ff&#x27;, &#x27;#123077ff&#x27;, &#x27;#123077ff&#x27;, &#x27;#123077ff&#x27;, &#x27;#123077ff&#x27;, &#x27;#123077ff&#x27;, &#x27;#123077ff&#x27;, &#x27;#123077ff&#x27;, &#x27;#123077ff&#x27;, &#x27;#123077ff&#x27;, &#x27;#123077ff&#x27;, &#x27;#123077ff&#x27;, &#x27;#123077ff&#x27;, &#x27;#123077ff&#x27;, &#x27;#123077ff&#x27;, &#x27;#123077ff&#x27;, &#x27;#123077ff&#x27;, &#x27;#123077ff&#x27;, &#x27;#123077ff&#x27;, &#x27;#123077ff&#x27;, &#x27;#123077ff&#x27;, &#x27;#123077ff&#x27;, &#x27;#123077ff&#x27;, &#x27;#123077ff&#x27;, &#x27;#123077ff&#x27;, &#x27;#25667cff&#x27;, &#x27;#25667cff&#x27;, &#x27;#25667cff&#x27;, &#x27;#25667cff&#x27;, &#x27;#25667cff&#x27;, &#x27;#25667cff&#x27;, &#x27;#25667cff&#x27;, &#x27;#25667cff&#x27;, &#x27;#25667cff&#x27;, &#x27;#25667cff&#x27;, &#x27;#25667cff&#x27;, &#x27;#25667cff&#x27;, &#x27;#25667cff&#x27;, &#x27;#25667cff&#x27;, &#x27;#25667cff&#x27;, &#x27;#25667cff&#x27;, &#x27;#25667cff&#x27;, &#x27;#25667cff&#x27;, &#x27;#25667cff&#x27;, &#x27;#25667cff&#x27;, &#x27;#25667cff&#x27;, &#x27;#25667cff&#x27;, &#x27;#25667cff&#x27;, &#x27;#25667cff&#x27;, &#x27;#25667cff&#x27;, &#x27;#25667cff&#x27;, &#x27;#25667cff&#x27;, &#x27;#25667cff&#x27;, &#x27;#25667cff&#x27;, &#x27;#25667cff&#x27;, &#x27;#25667cff&#x27;, &#x27;#25667cff&#x27;, &#x27;#25667cff&#x27;, &#x27;#25667cff&#x27;, &#x27;#25667cff&#x27;, &#x27;#25667cff&#x27;, &#x27;#25667cff&#x27;, &#x27;#25667cff&#x27;, &#x27;#25667cff&#x27;, &#x27;#25667cff&#x27;, &#x27;#25667cff&#x27;, &#x27;#25667cff&#x27;, &#x27;#25667cff&#x27;, &#x27;#25667cff&#x27;, &#x27;#25667cff&#x27;, &#x27;#25667cff&#x27;, &#x27;#25667cff&#x27;, &#x27;#25667cff&#x27;, &#x27;#25667cff&#x27;, &#x27;#25667cff&#x27;, &#x27;#36876fff&#x27;, &#x27;#36876fff&#x27;, &#x27;#36876fff&#x27;, &#x27;#36876fff&#x27;, &#x27;#36876fff&#x27;, &#x27;#36876fff&#x27;, &#x27;#36876fff&#x27;, &#x27;#36876fff&#x27;, &#x27;#36876fff&#x27;, &#x27;#36876fff&#x27;, &#x27;#36876fff&#x27;, &#x27;#36876fff&#x27;, &#x27;#36876fff&#x27;, &#x27;#36876fff&#x27;, &#x27;#36876fff&#x27;, &#x27;#36876fff&#x27;, &#x27;#36876fff&#x27;, &#x27;#36876fff&#x27;, &#x27;#36876fff&#x27;, &#x27;#36876fff&#x27;, &#x27;#36876fff&#x27;, &#x27;#36876fff&#x27;, &#x27;#36876fff&#x27;, &#x27;#36876fff&#x27;, &#x27;#36876fff&#x27;, &#x27;#36876fff&#x27;, &#x27;#36876fff&#x27;, &#x27;#36876fff&#x27;, &#x27;#36876fff&#x27;, &#x27;#36876fff&#x27;, &#x27;#36876fff&#x27;, &#x27;#36876fff&#x27;, &#x27;#36876fff&#x27;, &#x27;#36876fff&#x27;, &#x27;#36876fff&#x27;, &#x27;#36876fff&#x27;, &#x27;#36876fff&#x27;, &#x27;#36876fff&#x27;, &#x27;#36876fff&#x27;, &#x27;#36876fff&#x27;, &#x27;#36876fff&#x27;, &#x27;#36876fff&#x27;, &#x27;#36876fff&#x27;, &#x27;#36876fff&#x27;, &#x27;#36876fff&#x27;, &#x27;#36876fff&#x27;, &#x27;#36876fff&#x27;, &#x27;#36876fff&#x27;, &#x27;#36876fff&#x27;, &#x27;#36876fff&#x27;, &#x27;#43974dff&#x27;, &#x27;#43974dff&#x27;, &#x27;#43974dff&#x27;, &#x27;#43974dff&#x27;, &#x27;#43974dff&#x27;, &#x27;#43974dff&#x27;, &#x27;#43974dff&#x27;, &#x27;#43974dff&#x27;, &#x27;#43974dff&#x27;, &#x27;#43974dff&#x27;, &#x27;#43974dff&#x27;, &#x27;#43974dff&#x27;, &#x27;#43974dff&#x27;, &#x27;#43974dff&#x27;, &#x27;#43974dff&#x27;, &#x27;#43974dff&#x27;, &#x27;#43974dff&#x27;, &#x27;#43974dff&#x27;, &#x27;#43974dff&#x27;, &#x27;#43974dff&#x27;, &#x27;#43974dff&#x27;, &#x27;#43974dff&#x27;, &#x27;#43974dff&#x27;, &#x27;#43974dff&#x27;, &#x27;#43974dff&#x27;, &#x27;#43974dff&#x27;, &#x27;#43974dff&#x27;, &#x27;#43974dff&#x27;, &#x27;#43974dff&#x27;, &#x27;#43974dff&#x27;, &#x27;#43974dff&#x27;, &#x27;#43974dff&#x27;, &#x27;#43974dff&#x27;, &#x27;#43974dff&#x27;, &#x27;#43974dff&#x27;, &#x27;#43974dff&#x27;, &#x27;#43974dff&#x27;, &#x27;#43974dff&#x27;, &#x27;#43974dff&#x27;, &#x27;#43974dff&#x27;, &#x27;#43974dff&#x27;, &#x27;#43974dff&#x27;, &#x27;#43974dff&#x27;, &#x27;#43974dff&#x27;, &#x27;#43974dff&#x27;, &#x27;#43974dff&#x27;, &#x27;#43974dff&#x27;, &#x27;#43974dff&#x27;, &#x27;#43974dff&#x27;, &#x27;#43974dff&#x27;, &#x27;#7ba752ff&#x27;, &#x27;#7ba752ff&#x27;, &#x27;#7ba752ff&#x27;, &#x27;#7ba752ff&#x27;, &#x27;#7ba752ff&#x27;, &#x27;#7ba752ff&#x27;, &#x27;#7ba752ff&#x27;, &#x27;#7ba752ff&#x27;, &#x27;#7ba752ff&#x27;, &#x27;#7ba752ff&#x27;, &#x27;#7ba752ff&#x27;, &#x27;#7ba752ff&#x27;, &#x27;#7ba752ff&#x27;, &#x27;#7ba752ff&#x27;, &#x27;#7ba752ff&#x27;, &#x27;#7ba752ff&#x27;, &#x27;#7ba752ff&#x27;, &#x27;#7ba752ff&#x27;, &#x27;#7ba752ff&#x27;, &#x27;#7ba752ff&#x27;, &#x27;#7ba752ff&#x27;, &#x27;#7ba752ff&#x27;, &#x27;#7ba752ff&#x27;, &#x27;#7ba752ff&#x27;, &#x27;#7ba752ff&#x27;, &#x27;#7ba752ff&#x27;, &#x27;#7ba752ff&#x27;, &#x27;#7ba752ff&#x27;, &#x27;#7ba752ff&#x27;, &#x27;#7ba752ff&#x27;, &#x27;#7ba752ff&#x27;, &#x27;#7ba752ff&#x27;, &#x27;#7ba752ff&#x27;, &#x27;#7ba752ff&#x27;, &#x27;#7ba752ff&#x27;, &#x27;#7ba752ff&#x27;, &#x27;#7ba752ff&#x27;, &#x27;#7ba752ff&#x27;, &#x27;#7ba752ff&#x27;, &#x27;#7ba752ff&#x27;, &#x27;#7ba752ff&#x27;, &#x27;#7ba752ff&#x27;, &#x27;#7ba752ff&#x27;, &#x27;#7ba752ff&#x27;, &#x27;#7ba752ff&#x27;, &#x27;#7ba752ff&#x27;, &#x27;#7ba752ff&#x27;, &#x27;#7ba752ff&#x27;, &#x27;#7ba752ff&#x27;, &#x27;#7ba752ff&#x27;, &#x27;#a9b35bff&#x27;, &#x27;#a9b35bff&#x27;, &#x27;#a9b35bff&#x27;, &#x27;#a9b35bff&#x27;, &#x27;#a9b35bff&#x27;, &#x27;#a9b35bff&#x27;, &#x27;#a9b35bff&#x27;, &#x27;#a9b35bff&#x27;, &#x27;#a9b35bff&#x27;, &#x27;#a9b35bff&#x27;, &#x27;#a9b35bff&#x27;, &#x27;#a9b35bff&#x27;, &#x27;#a9b35bff&#x27;, &#x27;#a9b35bff&#x27;, &#x27;#a9b35bff&#x27;, &#x27;#a9b35bff&#x27;, &#x27;#a9b35bff&#x27;, &#x27;#a9b35bff&#x27;, &#x27;#a9b35bff&#x27;, &#x27;#a9b35bff&#x27;, &#x27;#a9b35bff&#x27;, &#x27;#a9b35bff&#x27;, &#x27;#a9b35bff&#x27;, &#x27;#a9b35bff&#x27;, &#x27;#a9b35bff&#x27;, &#x27;#a9b35bff&#x27;, &#x27;#a9b35bff&#x27;, &#x27;#a9b35bff&#x27;, &#x27;#a9b35bff&#x27;, &#x27;#a9b35bff&#x27;, &#x27;#a9b35bff&#x27;, &#x27;#a9b35bff&#x27;, &#x27;#a9b35bff&#x27;, &#x27;#a9b35bff&#x27;, &#x27;#a9b35bff&#x27;, &#x27;#a9b35bff&#x27;, &#x27;#a9b35bff&#x27;, &#x27;#a9b35bff&#x27;, &#x27;#a9b35bff&#x27;, &#x27;#a9b35bff&#x27;, &#x27;#a9b35bff&#x27;, &#x27;#a9b35bff&#x27;, &#x27;#a9b35bff&#x27;, &#x27;#a9b35bff&#x27;, &#x27;#a9b35bff&#x27;, &#x27;#a9b35bff&#x27;, &#x27;#a9b35bff&#x27;, &#x27;#a9b35bff&#x27;, &#x27;#a9b35bff&#x27;, &#x27;#a9b35bff&#x27;, &#x27;#bfa464ff&#x27;, &#x27;#bfa464ff&#x27;, &#x27;#bfa464ff&#x27;, &#x27;#bfa464ff&#x27;, &#x27;#bfa464ff&#x27;, &#x27;#bfa464ff&#x27;, &#x27;#bfa464ff&#x27;, &#x27;#bfa464ff&#x27;, &#x27;#bfa464ff&#x27;, &#x27;#bfa464ff&#x27;, &#x27;#bfa464ff&#x27;, &#x27;#bfa464ff&#x27;, &#x27;#bfa464ff&#x27;, &#x27;#bfa464ff&#x27;, &#x27;#bfa464ff&#x27;, &#x27;#bfa464ff&#x27;, &#x27;#bfa464ff&#x27;, &#x27;#bfa464ff&#x27;, &#x27;#bfa464ff&#x27;, &#x27;#bfa464ff&#x27;, &#x27;#bfa464ff&#x27;, &#x27;#bfa464ff&#x27;, &#x27;#bfa464ff&#x27;, &#x27;#bfa464ff&#x27;, &#x27;#bfa464ff&#x27;, &#x27;#bfa464ff&#x27;, &#x27;#bfa464ff&#x27;, &#x27;#bfa464ff&#x27;, &#x27;#bfa464ff&#x27;, &#x27;#bfa464ff&#x27;, &#x27;#bfa464ff&#x27;, &#x27;#bfa464ff&#x27;, &#x27;#bfa464ff&#x27;, &#x27;#bfa464ff&#x27;, &#x27;#bfa464ff&#x27;, &#x27;#bfa464ff&#x27;, &#x27;#bfa464ff&#x27;, &#x27;#bfa464ff&#x27;, &#x27;#bfa464ff&#x27;, &#x27;#bfa464ff&#x27;, &#x27;#bfa464ff&#x27;, &#x27;#bfa464ff&#x27;, &#x27;#bfa464ff&#x27;, &#x27;#bfa464ff&#x27;, &#x27;#bfa464ff&#x27;, &#x27;#bfa464ff&#x27;, &#x27;#bfa464ff&#x27;, &#x27;#bfa464ff&#x27;, &#x27;#bfa464ff&#x27;, &#x27;#bfa464ff&#x27;, &#x27;#ddbaa7ff&#x27;, &#x27;#ddbaa7ff&#x27;, &#x27;#ddbaa7ff&#x27;, &#x27;#ddbaa7ff&#x27;, &#x27;#ddbaa7ff&#x27;, &#x27;#ddbaa7ff&#x27;, &#x27;#ddbaa7ff&#x27;, &#x27;#ddbaa7ff&#x27;, &#x27;#ddbaa7ff&#x27;, &#x27;#ddbaa7ff&#x27;, &#x27;#ddbaa7ff&#x27;, &#x27;#ddbaa7ff&#x27;, &#x27;#ddbaa7ff&#x27;, &#x27;#ddbaa7ff&#x27;, &#x27;#ddbaa7ff&#x27;, &#x27;#ddbaa7ff&#x27;, &#x27;#ddbaa7ff&#x27;, &#x27;#ddbaa7ff&#x27;, &#x27;#ddbaa7ff&#x27;, &#x27;#ddbaa7ff&#x27;, &#x27;#ddbaa7ff&#x27;, &#x27;#ddbaa7ff&#x27;, &#x27;#ddbaa7ff&#x27;, &#x27;#ddbaa7ff&#x27;, &#x27;#ddbaa7ff&#x27;, &#x27;#ddbaa7ff&#x27;, &#x27;#ddbaa7ff&#x27;, &#x27;#ddbaa7ff&#x27;, &#x27;#ddbaa7ff&#x27;, &#x27;#ddbaa7ff&#x27;, &#x27;#ddbaa7ff&#x27;, &#x27;#ddbaa7ff&#x27;, &#x27;#ddbaa7ff&#x27;, &#x27;#ddbaa7ff&#x27;, &#x27;#ddbaa7ff&#x27;, &#x27;#ddbaa7ff&#x27;, &#x27;#ddbaa7ff&#x27;, &#x27;#ddbaa7ff&#x27;, &#x27;#ddbaa7ff&#x27;, &#x27;#ddbaa7ff&#x27;, &#x27;#ddbaa7ff&#x27;, &#x27;#ddbaa7ff&#x27;, &#x27;#ddbaa7ff&#x27;, &#x27;#ddbaa7ff&#x27;, &#x27;#ddbaa7ff&#x27;, &#x27;#ddbaa7ff&#x27;, &#x27;#ddbaa7ff&#x27;, &#x27;#ddbaa7ff&#x27;, &#x27;#ddbaa7ff&#x27;, &#x27;#ddbaa7ff&#x27;, &#x27;#fdfafaff&#x27;, &#x27;#fdfafaff&#x27;, &#x27;#fdfafaff&#x27;, &#x27;#fdfafaff&#x27;, &#x27;#fdfafaff&#x27;, &#x27;#fdfafaff&#x27;, &#x27;#fdfafaff&#x27;, &#x27;#fdfafaff&#x27;, &#x27;#fdfafaff&#x27;, &#x27;#fdfafaff&#x27;, &#x27;#fdfafaff&#x27;, &#x27;#fdfafaff&#x27;, &#x27;#fdfafaff&#x27;, &#x27;#fdfafaff&#x27;, &#x27;#fdfafaff&#x27;, &#x27;#fdfafaff&#x27;, &#x27;#fdfafaff&#x27;, &#x27;#fdfafaff&#x27;, &#x27;#fdfafaff&#x27;, &#x27;#fdfafaff&#x27;, &#x27;#fdfafaff&#x27;, &#x27;#fdfafaff&#x27;, &#x27;#fdfafaff&#x27;, &#x27;#fdfafaff&#x27;, &#x27;#fdfafaff&#x27;, &#x27;#fdfafaff&#x27;, &#x27;#fdfafaff&#x27;, &#x27;#fdfafaff&#x27;, &#x27;#fdfafaff&#x27;, &#x27;#fdfafaff&#x27;, &#x27;#fdfafaff&#x27;, &#x27;#fdfafaff&#x27;, &#x27;#fdfafaff&#x27;, &#x27;#fdfafaff&#x27;, &#x27;#fdfafaff&#x27;, &#x27;#fdfafaff&#x27;, &#x27;#fdfafaff&#x27;, &#x27;#fdfafaff&#x27;, &#x27;#fdfafaff&#x27;, &#x27;#fdfafaff&#x27;, &#x27;#fdfafaff&#x27;, &#x27;#fdfafaff&#x27;, &#x27;#fdfafaff&#x27;, &#x27;#fdfafaff&#x27;, &#x27;#fdfafaff&#x27;, &#x27;#fdfafaff&#x27;, &#x27;#fdfafaff&#x27;, &#x27;#fdfafaff&#x27;, &#x27;#fdfafaff&#x27;, &#x27;#fdfafaff&#x27;]);\n",
       "    \n",
       "\n",
       "    color_map_fbc0a317733528b152098c1d040e2151.x = d3.scale.linear()\n",
       "              .domain([-1166.0, 1669.0])\n",
       "              .range([0, 450 - 50]);\n",
       "\n",
       "    color_map_fbc0a317733528b152098c1d040e2151.legend = L.control({position: &#x27;topright&#x27;});\n",
       "    color_map_fbc0a317733528b152098c1d040e2151.legend.onAdd = function (map) {var div = L.DomUtil.create(&#x27;div&#x27;, &#x27;legend&#x27;); return div};\n",
       "    color_map_fbc0a317733528b152098c1d040e2151.legend.addTo(map_ea7d2eddd22c55fa8d30b7b8a80d7b21);\n",
       "\n",
       "    color_map_fbc0a317733528b152098c1d040e2151.xAxis = d3.svg.axis()\n",
       "        .scale(color_map_fbc0a317733528b152098c1d040e2151.x)\n",
       "        .orient(&quot;top&quot;)\n",
       "        .tickSize(1)\n",
       "        .tickValues([-1166.0, &#x27;&#x27;, -599.0, &#x27;&#x27;, -32.0, &#x27;&#x27;, 535.0, &#x27;&#x27;, 1102.0, &#x27;&#x27;, 1669.0, &#x27;&#x27;]);\n",
       "\n",
       "    color_map_fbc0a317733528b152098c1d040e2151.svg = d3.select(&quot;.legend.leaflet-control&quot;).append(&quot;svg&quot;)\n",
       "        .attr(&quot;id&quot;, &#x27;legend&#x27;)\n",
       "        .attr(&quot;width&quot;, 450)\n",
       "        .attr(&quot;height&quot;, 40);\n",
       "\n",
       "    color_map_fbc0a317733528b152098c1d040e2151.g = color_map_fbc0a317733528b152098c1d040e2151.svg.append(&quot;g&quot;)\n",
       "        .attr(&quot;class&quot;, &quot;key&quot;)\n",
       "        .attr(&quot;transform&quot;, &quot;translate(25,16)&quot;);\n",
       "\n",
       "    color_map_fbc0a317733528b152098c1d040e2151.g.selectAll(&quot;rect&quot;)\n",
       "        .data(color_map_fbc0a317733528b152098c1d040e2151.color.range().map(function(d, i) {\n",
       "          return {\n",
       "            x0: i ? color_map_fbc0a317733528b152098c1d040e2151.x(color_map_fbc0a317733528b152098c1d040e2151.color.domain()[i - 1]) : color_map_fbc0a317733528b152098c1d040e2151.x.range()[0],\n",
       "            x1: i &lt; color_map_fbc0a317733528b152098c1d040e2151.color.domain().length ? color_map_fbc0a317733528b152098c1d040e2151.x(color_map_fbc0a317733528b152098c1d040e2151.color.domain()[i]) : color_map_fbc0a317733528b152098c1d040e2151.x.range()[1],\n",
       "            z: d\n",
       "          };\n",
       "        }))\n",
       "      .enter().append(&quot;rect&quot;)\n",
       "        .attr(&quot;height&quot;, 40 - 30)\n",
       "        .attr(&quot;x&quot;, function(d) { return d.x0; })\n",
       "        .attr(&quot;width&quot;, function(d) { return d.x1 - d.x0; })\n",
       "        .style(&quot;fill&quot;, function(d) { return d.z; });\n",
       "\n",
       "    color_map_fbc0a317733528b152098c1d040e2151.g.call(color_map_fbc0a317733528b152098c1d040e2151.xAxis).append(&quot;text&quot;)\n",
       "        .attr(&quot;class&quot;, &quot;caption&quot;)\n",
       "        .attr(&quot;y&quot;, 21)\n",
       "        .text(&quot;Global Aboveground Biomass (AGB) Density Estimates in Mg/ha (megagram per hectare)&quot;);\n",
       "&lt;/script&gt;\n",
       "&lt;/html&gt;\" style=\"position:absolute;width:100%;height:100%;left:0;top:0;border:none !important;\" allowfullscreen webkitallowfullscreen mozallowfullscreen></iframe></div></div>"
      ],
      "text/plain": [
       "<folium.folium.Map at 0x10877c890>"
      ]
     },
     "execution_count": 10,
     "metadata": {},
     "output_type": "execute_result"
    }
   ],
   "source": [
    "# Create a json string of the colormap, so it can be passed as a parameter to titiler's API.\n",
    "cmap = json.dumps(color_map)\n",
    "\n",
    "# We fetch tilejson from titiler endpoint, to build a better map with appropriate bounds and zoom level\n",
    "tilejson_response = requests.get(\n",
    "    f\"{titiler_endpoint}/cog/tilejson.json\",\n",
    "    params = {\n",
    "        \"url\": url,\n",
    "        \"colormap\": cmap\n",
    "    }\n",
    ").json()\n",
    "\n",
    "bounds = tilejson_response[\"bounds\"]\n",
    "m = Map(\n",
    "    location=((bounds[1] + bounds[3]) / 2,(bounds[0] + bounds[2]) / 2),\n",
    "    zoom_start=tilejson_response[\"minzoom\"] + 1\n",
    ")\n",
    "\n",
    "# We add a TileLayer using the tilejson_response \"tiles\" value which is the XYZ endpoint of titiler.\n",
    "aod_layer = TileLayer(\n",
    "    tiles=tilejson_response[\"tiles\"][0],\n",
    "    opacity=1,\n",
    "    attr=\"SAmerica\"\n",
    ")\n",
    "aod_layer.add_to(m)\n",
    "\n",
    "# Finally, we add the legend.\n",
    "legend.caption = 'Global Aboveground Biomass (AGB) Density Estimates in Mg/ha (megagram per hectare)'\n",
    "legend.add_to(m)\n",
    "\n",
    "m"
   ]
  }
 ],
 "metadata": {
  "kernelspec": {
   "display_name": "Python 3.11.2 64-bit",
   "language": "python",
   "name": "python3"
  },
  "language_info": {
   "codemirror_mode": {
    "name": "ipython",
    "version": 3
   },
   "file_extension": ".py",
   "mimetype": "text/x-python",
   "name": "python",
   "nbconvert_exporter": "python",
   "pygments_lexer": "ipython3",
   "version": "3.11.2"
  },
  "vscode": {
   "interpreter": {
    "hash": "b0fa6594d8f4cbf19f97940f81e996739fb7646882a419484c72d19e05852a7e"
   }
  }
 },
 "nbformat": 4,
 "nbformat_minor": 5
}
