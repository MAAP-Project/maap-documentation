{
 "cells": [
  {
   "cell_type": "markdown",
   "id": "5986c32c-58ce-4e31-9a2d-e0ca018b07bf",
   "metadata": {},
   "source": [
    "# Accessing Data from NASA's CMR in R\n",
    "\n",
    "Authors: Harshini Girish (UAH), Sheyenne Kirkland (UAH), Alex Mandel (DevSeed), Henry Rodman (DevSeed), Zac Deziel (DevSeed)\n",
    "\n",
    "Date: March 24, 2025\n",
    "\n",
    "Description: This notebook serves as a follow-up to [\"Searching for Data in NASA's CMR in R\"](https://docs.maap-project.org/en/develop/technical_tutorials/working_with_r/cmr_search_in_r.html). In this guide, users will learn how to:\n",
    "- Access data from a NASA Distributed Active Archive Center (DAAC) directly.\n",
    "- Use `paws` to download data from a NASA DAAC locally."
   ]
  },
  {
   "cell_type": "markdown",
   "id": "df352544-7428-421d-827a-510141080010",
   "metadata": {},
   "source": [
    "## Additional Resources\n",
    "- [Working with R in MAAP](https://docs.maap-project.org/en/develop/technical_tutorials/working_with_r.html)  \n",
    "  - Current R Documentation within the MAAP Docs.\n",
    "- [NASA's Operational CMR (MAAP Docs)](https://docs.maap-project.org/en/latest/technical_tutorials/search/catalog.html#nasa-s-operational-cmr)  \n",
    "  - A section in the MAAP Docs offering an overview of resources to search and access NASA's CMR.\n",
    "- [`ncdf4` Reference Manual](https://cran.r-project.org/web/packages/ncdf4/ncdf4.pdf)\n",
    "  - Documentation for reading and writing netCDF files using the `ncdf4` package.\n",
    "- [GDAL Raster Drivers](https://gdal.org/en/latest/drivers/raster/index.html)\n",
    "  - A list of drivers for raster data.\n",
    "- [`paws` Reference Manual](https://cran.r-project.org/web/packages/paws/paws.pdf)\n",
    "  - Documentation for using the `paws` package."
   ]
  },
  {
   "cell_type": "markdown",
   "id": "9f1d15ad-170f-4286-84ec-55a1b45b3d2e",
   "metadata": {},
   "source": [
    "## Run This Notebook\n",
    "To access and run this tutorial within MAAP’s Algorithm Development Environment (ADE), please refer to the [“Getting started with the MAAP”](https://docs.maap-project.org/en/latest/getting_started/getting_started.html) section of our documentation.\n",
    "\n",
    "Disclaimer: it is highly recommended to run a tutorial within MAAP’s ADE, which already includes packages specific to MAAP. Running the tutorial outside of the MAAP ADE may lead to errors. Users should work within an \"R/Python\" workspace."
   ]
  },
  {
   "cell_type": "markdown",
   "id": "201805c7-bd3b-42ce-a299-95acac3c7638",
   "metadata": {},
   "source": [
    "## Install and Load Required Libraries\n",
    "Let's load the packages needed for this notebook."
   ]
  },
  {
   "cell_type": "code",
   "execution_count": 89,
   "id": "dc1b93e1-fb92-45e5-ade0-7b4c19a9c867",
   "metadata": {},
   "outputs": [],
   "source": [
    "library(\"reticulate\")       \n",
    "library(\"paws\")\n",
    "library(\"ncdf4\")"
   ]
  },
  {
   "cell_type": "markdown",
   "id": "64131b26-1a47-4bb3-b105-d2d269afc06d",
   "metadata": {},
   "source": [
    "Additionally, we'll invoke the `MAAP` constructor. This will allow us to use the python-based `maapy-py` library from R."
   ]
  },
  {
   "cell_type": "code",
   "execution_count": 90,
   "id": "02382469-7ded-4f13-a826-7a9728b0a86f",
   "metadata": {},
   "outputs": [],
   "source": [
    "maap_py <- import(\"maap.maap\")\n",
    "maap <- maap_py$MAAP()"
   ]
  },
  {
   "cell_type": "markdown",
   "id": "7ea49dea-e3f6-4919-bb6e-e39815426cc5",
   "metadata": {},
   "source": [
    " ## Searching for Data\n",
    "\n",
    "In the example below, we'll demonstrate searching and accessing data from ORNL DAAC. We'll search for a GEDI L4B dataset, extract the associated links to access the data, and then open a file."
   ]
  },
  {
   "cell_type": "code",
   "execution_count": 91,
   "id": "c7a649a4-62e0-43a7-9090-c9556cd09d63",
   "metadata": {},
   "outputs": [
    {
     "name": "stdout",
     "output_type": "stream",
     "text": [
      "[1] \"Collection ID: C2792577683-ORNL_CLOUD\"\n"
     ]
    }
   ],
   "source": [
    "# Search for a dataset in NASA's CMR\n",
    "gedi_collection <- maap$searchCollection(\n",
    "  short_name = \"GEDI_L4B_Gridded_Biomass_V2_1_2299\",  \n",
    "  cmr_host = \"cmr.earthdata.nasa.gov\",\n",
    "  cloud_hosted = \"true\"\n",
    ")\n",
    "\n",
    "# Extract the collection’s concept ID\n",
    "collection_id <- gedi_collection[[1]][\"concept-id\"]\n",
    "print(paste(\"Collection ID:\", collection_id))\n",
    "\n",
    "# Retrieve granules (up to 5 granules)\n",
    "gedi_granules <- maap$searchGranule(\n",
    "  concept_id = collection_id,\n",
    "  limit = as.integer(5),\n",
    "  cmr_host = \"cmr.earthdata.nasa.gov\"\n",
    ")"
   ]
  },
  {
   "cell_type": "markdown",
   "id": "b9746a7a-37d8-46be-8559-c0875dc4d99f",
   "metadata": {},
   "source": [
    "Now that we have our granules, let's extract the URLs associated with the first granule. There are two links: an S3 link, and an https link."
   ]
  },
  {
   "cell_type": "code",
   "execution_count": 92,
   "id": "cf10ad4a-2aa9-4126-bc85-6d74bdeb51ed",
   "metadata": {},
   "outputs": [
    {
     "name": "stdout",
     "output_type": "stream",
     "text": [
      "[1] \"https Link: https://data.ornldaac.earthdata.nasa.gov/protected/gedi/GEDI_L4B_Gridded_Biomass_V2_1/data/GEDI04_B_MW019MW223_02_002_02_R01000M_SE.tif\"\n",
      "[1] \"S3 Link: s3://ornl-cumulus-prod-protected/gedi/GEDI_L4B_Gridded_Biomass_V2_1/data/GEDI04_B_MW019MW223_02_002_02_R01000M_SE.tif\"\n"
     ]
    }
   ],
   "source": [
    "http_link <- gedi_granules[[1]][\"Granule\"][\"OnlineAccessURLs\"][[1]][0][\"URL\"]\n",
    "print(paste(\"https Link:\", http_link))\n",
    "s3_link <- gedi_granules[[1]][\"Granule\"][\"OnlineAccessURLs\"][[1]][2][\"URL\"]\n",
    "print(paste(\"S3 Link:\", s3_link))"
   ]
  },
  {
   "cell_type": "markdown",
   "id": "f5d7be93-dbdf-4e24-8c79-60cbe625cea1",
   "metadata": {},
   "source": [
    "## Data Access"
   ]
  },
  {
   "cell_type": "markdown",
   "id": "ccab6a1d-3404-45c9-b3e3-a02274d37ea9",
   "metadata": {},
   "source": [
    "### Direct Access\n",
    "\n",
    "Let's use the `sf` package to open the TIFF file above. To read an item from S3 directly, `/vsis3/` needs to precede the S3 path. To do this, we'll use the `sub` function to replace `s3://` with `/vsis3/`."
   ]
  },
  {
   "cell_type": "code",
   "execution_count": 93,
   "id": "d084dd3b-bcb0-4cbc-9982-257270d1156e",
   "metadata": {},
   "outputs": [
    {
     "name": "stdout",
     "output_type": "stream",
     "text": [
      "Driver: GTiff/GeoTIFF\n",
      "Files: /vsis3/ornl-cumulus-prod-protected/gedi/GEDI_L4B_Gridded_Biomass_V2_1/data/GEDI04_B_MW019MW223_02_002_02_R01000M_SE.tif\n",
      "Size is 34704, 14616\n",
      "Coordinate System is:\n",
      "PROJCRS[\"WGS 84 / NSIDC EASE-Grid 2.0 Global\",\n",
      "    BASEGEOGCRS[\"WGS 84\",\n",
      "        ENSEMBLE[\"World Geodetic System 1984 ensemble\",\n",
      "            MEMBER[\"World Geodetic System 1984 (Transit)\"],\n",
      "            MEMBER[\"World Geodetic System 1984 (G730)\"],\n",
      "            MEMBER[\"World Geodetic System 1984 (G873)\"],\n",
      "            MEMBER[\"World Geodetic System 1984 (G1150)\"],\n",
      "            MEMBER[\"World Geodetic System 1984 (G1674)\"],\n",
      "            MEMBER[\"World Geodetic System 1984 (G1762)\"],\n",
      "            MEMBER[\"World Geodetic System 1984 (G2139)\"],\n",
      "            ELLIPSOID[\"WGS 84\",6378137,298.257223563,\n",
      "                LENGTHUNIT[\"metre\",1]],\n",
      "            ENSEMBLEACCURACY[2.0]],\n",
      "        PRIMEM[\"Greenwich\",0,\n",
      "            ANGLEUNIT[\"degree\",0.0174532925199433]],\n",
      "        ID[\"EPSG\",4326]],\n",
      "    CONVERSION[\"US NSIDC EASE-Grid 2.0 Global\",\n",
      "        METHOD[\"Lambert Cylindrical Equal Area\",\n",
      "            ID[\"EPSG\",9835]],\n",
      "        PARAMETER[\"Latitude of 1st standard parallel\",30,\n",
      "            ANGLEUNIT[\"degree\",0.0174532925199433],\n",
      "            ID[\"EPSG\",8823]],\n",
      "        PARAMETER[\"Longitude of natural origin\",0,\n",
      "            ANGLEUNIT[\"degree\",0.0174532925199433],\n",
      "            ID[\"EPSG\",8802]],\n",
      "        PARAMETER[\"False easting\",0,\n",
      "            LENGTHUNIT[\"metre\",1],\n",
      "            ID[\"EPSG\",8806]],\n",
      "        PARAMETER[\"False northing\",0,\n",
      "            LENGTHUNIT[\"metre\",1],\n",
      "            ID[\"EPSG\",8807]]],\n",
      "    CS[Cartesian,2],\n",
      "        AXIS[\"easting (X)\",east,\n",
      "            ORDER[1],\n",
      "            LENGTHUNIT[\"metre\",1]],\n",
      "        AXIS[\"northing (Y)\",north,\n",
      "            ORDER[2],\n",
      "            LENGTHUNIT[\"metre\",1]],\n",
      "    USAGE[\n",
      "        SCOPE[\"Environmental science - used as basis for EASE grid.\"],\n",
      "        AREA[\"World between 86°S and 86°N.\"],\n",
      "        BBOX[-86,-180,86,180]],\n",
      "    ID[\"EPSG\",6933]]\n",
      "Data axis to CRS axis mapping: 1,2\n",
      "Origin = (-17367530.445161499083042,7314540.830638599582016)\n",
      "Pixel Size = (1000.895023349667440,-1000.895023349667440)\n",
      "Metadata:\n",
      "  AREA_OR_POINT=Area\n",
      "Image Structure Metadata:\n",
      "  COMPRESSION=LZW\n",
      "  INTERLEAVE=BAND\n",
      "Corner Coordinates:\n",
      "Upper Left  (-17367530.445, 7314540.831) (180d 0' 0.00\"W, 85d 2'40.44\"N)\n",
      "Lower Left  (-17367530.445,-7314540.831) (180d 0' 0.00\"W, 85d 2'40.44\"S)\n",
      "Upper Right (17367530.445, 7314540.831) (180d 0' 0.00\"E, 85d 2'40.44\"N)\n",
      "Lower Right (17367530.445,-7314540.831) (180d 0' 0.00\"E, 85d 2'40.44\"S)\n",
      "Center      (   0.0000019,  -0.0000008) (  0d 0' 0.00\"E,  0d 0' 0.00\"S)\n",
      "Band 1 Block=256x256 Type=Float32, ColorInterp=Gray\n",
      "  NoData Value=-9999\n",
      "  Overviews: 17352x7308, 8676x3654, 4338x1827, 2169x914, 1085x457, 543x229\n"
     ]
    },
    {
     "data": {
      "text/html": [
       "<span style=white-space:pre-wrap>'Driver: GTiff/GeoTIFF\\nFiles: /vsis3/ornl-cumulus-prod-protected/gedi/GEDI_L4B_Gridded_Biomass_V2_1/data/GEDI04_B_MW019MW223_02_002_02_R01000M_SE.tif\\nSize is 34704, 14616\\nCoordinate System is:\\nPROJCRS[\"WGS 84 / NSIDC EASE-Grid 2.0 Global\",\\n    BASEGEOGCRS[\"WGS 84\",\\n        ENSEMBLE[\"World Geodetic System 1984 ensemble\",\\n            MEMBER[\"World Geodetic System 1984 (Transit)\"],\\n            MEMBER[\"World Geodetic System 1984 (G730)\"],\\n            MEMBER[\"World Geodetic System 1984 (G873)\"],\\n            MEMBER[\"World Geodetic System 1984 (G1150)\"],\\n            MEMBER[\"World Geodetic System 1984 (G1674)\"],\\n            MEMBER[\"World Geodetic System 1984 (G1762)\"],\\n            MEMBER[\"World Geodetic System 1984 (G2139)\"],\\n            ELLIPSOID[\"WGS 84\",6378137,298.257223563,\\n                LENGTHUNIT[\"metre\",1]],\\n            ENSEMBLEACCURACY[2.0]],\\n        PRIMEM[\"Greenwich\",0,\\n            ANGLEUNIT[\"degree\",0.0174532925199433]],\\n        ID[\"EPSG\",4326]],\\n    CONVERSION[\"US NSIDC EASE-Grid 2.0 Global\",\\n        METHOD[\"Lambert Cylindrical Equal Area\",\\n            ID[\"EPSG\",9835]],\\n        PARAMETER[\"Latitude of 1st standard parallel\",30,\\n            ANGLEUNIT[\"degree\",0.0174532925199433],\\n            ID[\"EPSG\",8823]],\\n        PARAMETER[\"Longitude of natural origin\",0,\\n            ANGLEUNIT[\"degree\",0.0174532925199433],\\n            ID[\"EPSG\",8802]],\\n        PARAMETER[\"False easting\",0,\\n            LENGTHUNIT[\"metre\",1],\\n            ID[\"EPSG\",8806]],\\n        PARAMETER[\"False northing\",0,\\n            LENGTHUNIT[\"metre\",1],\\n            ID[\"EPSG\",8807]]],\\n    CS[Cartesian,2],\\n        AXIS[\"easting (X)\",east,\\n            ORDER[1],\\n            LENGTHUNIT[\"metre\",1]],\\n        AXIS[\"northing (Y)\",north,\\n            ORDER[2],\\n            LENGTHUNIT[\"metre\",1]],\\n    USAGE[\\n        SCOPE[\"Environmental science - used as basis for EASE grid.\"],\\n        AREA[\"World between 86°S and 86°N.\"],\\n        BBOX[-86,-180,86,180]],\\n    ID[\"EPSG\",6933]]\\nData axis to CRS axis mapping: 1,2\\nOrigin = (-17367530.445161499083042,7314540.830638599582016)\\nPixel Size = (1000.895023349667440,-1000.895023349667440)\\nMetadata:\\n  AREA_OR_POINT=Area\\nImage Structure Metadata:\\n  COMPRESSION=LZW\\n  INTERLEAVE=BAND\\nCorner Coordinates:\\nUpper Left  (-17367530.445, 7314540.831) (180d 0\\' 0.00\"W, 85d 2\\'40.44\"N)\\nLower Left  (-17367530.445,-7314540.831) (180d 0\\' 0.00\"W, 85d 2\\'40.44\"S)\\nUpper Right (17367530.445, 7314540.831) (180d 0\\' 0.00\"E, 85d 2\\'40.44\"N)\\nLower Right (17367530.445,-7314540.831) (180d 0\\' 0.00\"E, 85d 2\\'40.44\"S)\\nCenter      (   0.0000019,  -0.0000008) (  0d 0\\' 0.00\"E,  0d 0\\' 0.00\"S)\\nBand 1 Block=256x256 Type=Float32, ColorInterp=Gray\\n  NoData Value=-9999\\n  Overviews: 17352x7308, 8676x3654, 4338x1827, 2169x914, 1085x457, 543x229\\n'</span>"
      ],
      "text/latex": [
       "'Driver: GTiff/GeoTIFF\\textbackslash{}nFiles: /vsis3/ornl-cumulus-prod-protected/gedi/GEDI\\_L4B\\_Gridded\\_Biomass\\_V2\\_1/data/GEDI04\\_B\\_MW019MW223\\_02\\_002\\_02\\_R01000M\\_SE.tif\\textbackslash{}nSize is 34704, 14616\\textbackslash{}nCoordinate System is:\\textbackslash{}nPROJCRS{[}\"WGS 84 / NSIDC EASE-Grid 2.0 Global\",\\textbackslash{}n    BASEGEOGCRS{[}\"WGS 84\",\\textbackslash{}n        ENSEMBLE{[}\"World Geodetic System 1984 ensemble\",\\textbackslash{}n            MEMBER{[}\"World Geodetic System 1984 (Transit)\"{]},\\textbackslash{}n            MEMBER{[}\"World Geodetic System 1984 (G730)\"{]},\\textbackslash{}n            MEMBER{[}\"World Geodetic System 1984 (G873)\"{]},\\textbackslash{}n            MEMBER{[}\"World Geodetic System 1984 (G1150)\"{]},\\textbackslash{}n            MEMBER{[}\"World Geodetic System 1984 (G1674)\"{]},\\textbackslash{}n            MEMBER{[}\"World Geodetic System 1984 (G1762)\"{]},\\textbackslash{}n            MEMBER{[}\"World Geodetic System 1984 (G2139)\"{]},\\textbackslash{}n            ELLIPSOID{[}\"WGS 84\",6378137,298.257223563,\\textbackslash{}n                LENGTHUNIT{[}\"metre\",1{]}{]},\\textbackslash{}n            ENSEMBLEACCURACY{[}2.0{]}{]},\\textbackslash{}n        PRIMEM{[}\"Greenwich\",0,\\textbackslash{}n            ANGLEUNIT{[}\"degree\",0.0174532925199433{]}{]},\\textbackslash{}n        ID{[}\"EPSG\",4326{]}{]},\\textbackslash{}n    CONVERSION{[}\"US NSIDC EASE-Grid 2.0 Global\",\\textbackslash{}n        METHOD{[}\"Lambert Cylindrical Equal Area\",\\textbackslash{}n            ID{[}\"EPSG\",9835{]}{]},\\textbackslash{}n        PARAMETER{[}\"Latitude of 1st standard parallel\",30,\\textbackslash{}n            ANGLEUNIT{[}\"degree\",0.0174532925199433{]},\\textbackslash{}n            ID{[}\"EPSG\",8823{]}{]},\\textbackslash{}n        PARAMETER{[}\"Longitude of natural origin\",0,\\textbackslash{}n            ANGLEUNIT{[}\"degree\",0.0174532925199433{]},\\textbackslash{}n            ID{[}\"EPSG\",8802{]}{]},\\textbackslash{}n        PARAMETER{[}\"False easting\",0,\\textbackslash{}n            LENGTHUNIT{[}\"metre\",1{]},\\textbackslash{}n            ID{[}\"EPSG\",8806{]}{]},\\textbackslash{}n        PARAMETER{[}\"False northing\",0,\\textbackslash{}n            LENGTHUNIT{[}\"metre\",1{]},\\textbackslash{}n            ID{[}\"EPSG\",8807{]}{]}{]},\\textbackslash{}n    CS{[}Cartesian,2{]},\\textbackslash{}n        AXIS{[}\"easting (X)\",east,\\textbackslash{}n            ORDER{[}1{]},\\textbackslash{}n            LENGTHUNIT{[}\"metre\",1{]}{]},\\textbackslash{}n        AXIS{[}\"northing (Y)\",north,\\textbackslash{}n            ORDER{[}2{]},\\textbackslash{}n            LENGTHUNIT{[}\"metre\",1{]}{]},\\textbackslash{}n    USAGE{[}\\textbackslash{}n        SCOPE{[}\"Environmental science - used as basis for EASE grid.\"{]},\\textbackslash{}n        AREA{[}\"World between 86°S and 86°N.\"{]},\\textbackslash{}n        BBOX{[}-86,-180,86,180{]}{]},\\textbackslash{}n    ID{[}\"EPSG\",6933{]}{]}\\textbackslash{}nData axis to CRS axis mapping: 1,2\\textbackslash{}nOrigin = (-17367530.445161499083042,7314540.830638599582016)\\textbackslash{}nPixel Size = (1000.895023349667440,-1000.895023349667440)\\textbackslash{}nMetadata:\\textbackslash{}n  AREA\\_OR\\_POINT=Area\\textbackslash{}nImage Structure Metadata:\\textbackslash{}n  COMPRESSION=LZW\\textbackslash{}n  INTERLEAVE=BAND\\textbackslash{}nCorner Coordinates:\\textbackslash{}nUpper Left  (-17367530.445, 7314540.831) (180d 0\\textbackslash{}' 0.00\"W, 85d 2\\textbackslash{}'40.44\"N)\\textbackslash{}nLower Left  (-17367530.445,-7314540.831) (180d 0\\textbackslash{}' 0.00\"W, 85d 2\\textbackslash{}'40.44\"S)\\textbackslash{}nUpper Right (17367530.445, 7314540.831) (180d 0\\textbackslash{}' 0.00\"E, 85d 2\\textbackslash{}'40.44\"N)\\textbackslash{}nLower Right (17367530.445,-7314540.831) (180d 0\\textbackslash{}' 0.00\"E, 85d 2\\textbackslash{}'40.44\"S)\\textbackslash{}nCenter      (   0.0000019,  -0.0000008) (  0d 0\\textbackslash{}' 0.00\"E,  0d 0\\textbackslash{}' 0.00\"S)\\textbackslash{}nBand 1 Block=256x256 Type=Float32, ColorInterp=Gray\\textbackslash{}n  NoData Value=-9999\\textbackslash{}n  Overviews: 17352x7308, 8676x3654, 4338x1827, 2169x914, 1085x457, 543x229\\textbackslash{}n'"
      ],
      "text/markdown": [
       "<span style=white-space:pre-wrap>'Driver: GTiff/GeoTIFF\\nFiles: /vsis3/ornl-cumulus-prod-protected/gedi/GEDI_L4B_Gridded_Biomass_V2_1/data/GEDI04_B_MW019MW223_02_002_02_R01000M_SE.tif\\nSize is 34704, 14616\\nCoordinate System is:\\nPROJCRS[\"WGS 84 / NSIDC EASE-Grid 2.0 Global\",\\n    BASEGEOGCRS[\"WGS 84\",\\n        ENSEMBLE[\"World Geodetic System 1984 ensemble\",\\n            MEMBER[\"World Geodetic System 1984 (Transit)\"],\\n            MEMBER[\"World Geodetic System 1984 (G730)\"],\\n            MEMBER[\"World Geodetic System 1984 (G873)\"],\\n            MEMBER[\"World Geodetic System 1984 (G1150)\"],\\n            MEMBER[\"World Geodetic System 1984 (G1674)\"],\\n            MEMBER[\"World Geodetic System 1984 (G1762)\"],\\n            MEMBER[\"World Geodetic System 1984 (G2139)\"],\\n            ELLIPSOID[\"WGS 84\",6378137,298.257223563,\\n                LENGTHUNIT[\"metre\",1]],\\n            ENSEMBLEACCURACY[2.0]],\\n        PRIMEM[\"Greenwich\",0,\\n            ANGLEUNIT[\"degree\",0.0174532925199433]],\\n        ID[\"EPSG\",4326]],\\n    CONVERSION[\"US NSIDC EASE-Grid 2.0 Global\",\\n        METHOD[\"Lambert Cylindrical Equal Area\",\\n            ID[\"EPSG\",9835]],\\n        PARAMETER[\"Latitude of 1st standard parallel\",30,\\n            ANGLEUNIT[\"degree\",0.0174532925199433],\\n            ID[\"EPSG\",8823]],\\n        PARAMETER[\"Longitude of natural origin\",0,\\n            ANGLEUNIT[\"degree\",0.0174532925199433],\\n            ID[\"EPSG\",8802]],\\n        PARAMETER[\"False easting\",0,\\n            LENGTHUNIT[\"metre\",1],\\n            ID[\"EPSG\",8806]],\\n        PARAMETER[\"False northing\",0,\\n            LENGTHUNIT[\"metre\",1],\\n            ID[\"EPSG\",8807]]],\\n    CS[Cartesian,2],\\n        AXIS[\"easting (X)\",east,\\n            ORDER[1],\\n            LENGTHUNIT[\"metre\",1]],\\n        AXIS[\"northing (Y)\",north,\\n            ORDER[2],\\n            LENGTHUNIT[\"metre\",1]],\\n    USAGE[\\n        SCOPE[\"Environmental science - used as basis for EASE grid.\"],\\n        AREA[\"World between 86°S and 86°N.\"],\\n        BBOX[-86,-180,86,180]],\\n    ID[\"EPSG\",6933]]\\nData axis to CRS axis mapping: 1,2\\nOrigin = (-17367530.445161499083042,7314540.830638599582016)\\nPixel Size = (1000.895023349667440,-1000.895023349667440)\\nMetadata:\\n  AREA_OR_POINT=Area\\nImage Structure Metadata:\\n  COMPRESSION=LZW\\n  INTERLEAVE=BAND\\nCorner Coordinates:\\nUpper Left  (-17367530.445, 7314540.831) (180d 0\\' 0.00\"W, 85d 2\\'40.44\"N)\\nLower Left  (-17367530.445,-7314540.831) (180d 0\\' 0.00\"W, 85d 2\\'40.44\"S)\\nUpper Right (17367530.445, 7314540.831) (180d 0\\' 0.00\"E, 85d 2\\'40.44\"N)\\nLower Right (17367530.445,-7314540.831) (180d 0\\' 0.00\"E, 85d 2\\'40.44\"S)\\nCenter      (   0.0000019,  -0.0000008) (  0d 0\\' 0.00\"E,  0d 0\\' 0.00\"S)\\nBand 1 Block=256x256 Type=Float32, ColorInterp=Gray\\n  NoData Value=-9999\\n  Overviews: 17352x7308, 8676x3654, 4338x1827, 2169x914, 1085x457, 543x229\\n'</span>"
      ],
      "text/plain": [
       "[1] \"Driver: GTiff/GeoTIFF\\nFiles: /vsis3/ornl-cumulus-prod-protected/gedi/GEDI_L4B_Gridded_Biomass_V2_1/data/GEDI04_B_MW019MW223_02_002_02_R01000M_SE.tif\\nSize is 34704, 14616\\nCoordinate System is:\\nPROJCRS[\\\"WGS 84 / NSIDC EASE-Grid 2.0 Global\\\",\\n    BASEGEOGCRS[\\\"WGS 84\\\",\\n        ENSEMBLE[\\\"World Geodetic System 1984 ensemble\\\",\\n            MEMBER[\\\"World Geodetic System 1984 (Transit)\\\"],\\n            MEMBER[\\\"World Geodetic System 1984 (G730)\\\"],\\n            MEMBER[\\\"World Geodetic System 1984 (G873)\\\"],\\n            MEMBER[\\\"World Geodetic System 1984 (G1150)\\\"],\\n            MEMBER[\\\"World Geodetic System 1984 (G1674)\\\"],\\n            MEMBER[\\\"World Geodetic System 1984 (G1762)\\\"],\\n            MEMBER[\\\"World Geodetic System 1984 (G2139)\\\"],\\n            ELLIPSOID[\\\"WGS 84\\\",6378137,298.257223563,\\n                LENGTHUNIT[\\\"metre\\\",1]],\\n            ENSEMBLEACCURACY[2.0]],\\n        PRIMEM[\\\"Greenwich\\\",0,\\n            ANGLEUNIT[\\\"degree\\\",0.0174532925199433]],\\n        ID[\\\"EPSG\\\",4326]],\\n    CONVERSION[\\\"US NSIDC EASE-Grid 2.0 Global\\\",\\n        METHOD[\\\"Lambert Cylindrical Equal Area\\\",\\n            ID[\\\"EPSG\\\",9835]],\\n        PARAMETER[\\\"Latitude of 1st standard parallel\\\",30,\\n            ANGLEUNIT[\\\"degree\\\",0.0174532925199433],\\n            ID[\\\"EPSG\\\",8823]],\\n        PARAMETER[\\\"Longitude of natural origin\\\",0,\\n            ANGLEUNIT[\\\"degree\\\",0.0174532925199433],\\n            ID[\\\"EPSG\\\",8802]],\\n        PARAMETER[\\\"False easting\\\",0,\\n            LENGTHUNIT[\\\"metre\\\",1],\\n            ID[\\\"EPSG\\\",8806]],\\n        PARAMETER[\\\"False northing\\\",0,\\n            LENGTHUNIT[\\\"metre\\\",1],\\n            ID[\\\"EPSG\\\",8807]]],\\n    CS[Cartesian,2],\\n        AXIS[\\\"easting (X)\\\",east,\\n            ORDER[1],\\n            LENGTHUNIT[\\\"metre\\\",1]],\\n        AXIS[\\\"northing (Y)\\\",north,\\n            ORDER[2],\\n            LENGTHUNIT[\\\"metre\\\",1]],\\n    USAGE[\\n        SCOPE[\\\"Environmental science - used as basis for EASE grid.\\\"],\\n        AREA[\\\"World between 86°S and 86°N.\\\"],\\n        BBOX[-86,-180,86,180]],\\n    ID[\\\"EPSG\\\",6933]]\\nData axis to CRS axis mapping: 1,2\\nOrigin = (-17367530.445161499083042,7314540.830638599582016)\\nPixel Size = (1000.895023349667440,-1000.895023349667440)\\nMetadata:\\n  AREA_OR_POINT=Area\\nImage Structure Metadata:\\n  COMPRESSION=LZW\\n  INTERLEAVE=BAND\\nCorner Coordinates:\\nUpper Left  (-17367530.445, 7314540.831) (180d 0' 0.00\\\"W, 85d 2'40.44\\\"N)\\nLower Left  (-17367530.445,-7314540.831) (180d 0' 0.00\\\"W, 85d 2'40.44\\\"S)\\nUpper Right (17367530.445, 7314540.831) (180d 0' 0.00\\\"E, 85d 2'40.44\\\"N)\\nLower Right (17367530.445,-7314540.831) (180d 0' 0.00\\\"E, 85d 2'40.44\\\"S)\\nCenter      (   0.0000019,  -0.0000008) (  0d 0' 0.00\\\"E,  0d 0' 0.00\\\"S)\\nBand 1 Block=256x256 Type=Float32, ColorInterp=Gray\\n  NoData Value=-9999\\n  Overviews: 17352x7308, 8676x3654, 4338x1827, 2169x914, 1085x457, 543x229\\n\""
      ]
     },
     "metadata": {},
     "output_type": "display_data"
    }
   ],
   "source": [
    "tiff_path <- sub(\"s3://\", \"/vsis3/\", s3_link)\n",
    "\n",
    "tiff_read <- sf::gdal_utils(\"info\", tiff_path)\n",
    "tiff_read"
   ]
  },
  {
   "cell_type": "markdown",
   "id": "e6af389b-5b6b-446b-b2a8-589e9d860c6a",
   "metadata": {},
   "source": [
    "### Download a File Locally"
   ]
  },
  {
   "cell_type": "markdown",
   "id": "cc21b20c-5832-41a4-a344-b056687c84b5",
   "metadata": {},
   "source": [
    "When data cannot or should not be directly accessed, the file can also be downloaded locally. For this example, let's search for a MODIS dataset provided by LP DAAC. Similar to above, we'll search for the collection and retrieve the associated granules, then extract the S3 link from the first granule."
   ]
  },
  {
   "cell_type": "code",
   "execution_count": 94,
   "id": "9b664986-b1ac-4fad-aef3-c4524ed20a12",
   "metadata": {},
   "outputs": [
    {
     "name": "stdout",
     "output_type": "stream",
     "text": [
      "[1] \"S3 Link: https://data.ornldaac.earthdata.nasa.gov/protected/gedi/GEDI_L4B_Gridded_Biomass_V2_1/data/GEDI04_B_MW019MW223_02_002_02_R01000M_SE.tif\"\n"
     ]
    }
   ],
   "source": [
    "# Search for a dataset in NASA's CMR\n",
    "modis_collection <- maap$searchCollection(\n",
    "  short_name = \"MOD13A1\",  \n",
    "  cmr_host = \"cmr.earthdata.nasa.gov\",\n",
    "  cloud_hosted = \"true\"\n",
    ")\n",
    "\n",
    "# Extract the collection’s concept ID\n",
    "collection_id <- modis_collection[[1]][\"concept-id\"]\n",
    "\n",
    "# Retrieve granules (up to 5 granules)\n",
    "modis_granules <- maap$searchGranule(\n",
    "  concept_id = collection_id,\n",
    "  limit = as.integer(5),\n",
    "  cmr_host = \"cmr.earthdata.nasa.gov\"\n",
    ")\n",
    "\n",
    "# Retrieve S3 link\n",
    "s3_link <- modis_granules[[1]][\"Granule\"][\"OnlineAccessURLs\"][[1]][1][\"URL\"]\n",
    "print(paste(\"S3 Link:\", http_link))"
   ]
  },
  {
   "cell_type": "markdown",
   "id": "3b9dc9bb-4eee-4659-9e85-0e562eb377c6",
   "metadata": {},
   "source": [
    "To download the data locally, temporary credentials for LP DAAC are needed. "
   ]
  },
  {
   "cell_type": "code",
   "execution_count": 95,
   "id": "87aa49fd-c3a0-47dc-b433-904a4283a9ae",
   "metadata": {},
   "outputs": [],
   "source": [
    "# Get AWS S3 credentials for LP DAAC\n",
    "credentials <- maap$aws$earthdata_s3_credentials(\n",
    "  \"https://data.lpdaac.earthdatacloud.nasa.gov/s3credentials\"\n",
    ")\n",
    "\n",
    "# Configure AWS S3 client using paws\n",
    "s3 <- paws::s3(\n",
    "  credentials = list(\n",
    "    creds = list(\n",
    "      access_key_id = credentials$accessKeyId,\n",
    "      secret_access_key = credentials$secretAccessKey,\n",
    "      session_token = credentials$sessionToken\n",
    "    )),\n",
    "  region = \"us-west-2\")"
   ]
  },
  {
   "cell_type": "markdown",
   "id": "ef2830d7-31b6-4dfc-83dc-f9eddd5cc5cc",
   "metadata": {},
   "source": [
    "Before downloading, let's do some final prepping. First, we'll create a directory to download our file to. Then, from our S3 link, we can get the bucket, key, and a filename."
   ]
  },
  {
   "cell_type": "code",
   "execution_count": null,
   "id": "f1920448-d661-4c55-99d3-d4f669b924d6",
   "metadata": {},
   "outputs": [],
   "source": [
    "# Create directory\n",
    "dir.create(\"./data\")"
   ]
  },
  {
   "cell_type": "code",
   "execution_count": 97,
   "id": "26b9ae26-2351-4264-b0d9-f0c34f5edaea",
   "metadata": {},
   "outputs": [
    {
     "data": {
      "text/html": [
       "'MOD13A1.A2000049.h02v06.061.2020041151125.hdf'"
      ],
      "text/latex": [
       "'MOD13A1.A2000049.h02v06.061.2020041151125.hdf'"
      ],
      "text/markdown": [
       "'MOD13A1.A2000049.h02v06.061.2020041151125.hdf'"
      ],
      "text/plain": [
       "[1] \"MOD13A1.A2000049.h02v06.061.2020041151125.hdf\""
      ]
     },
     "metadata": {},
     "output_type": "display_data"
    },
    {
     "data": {
      "text/html": [
       "'lp-prod-protected'"
      ],
      "text/latex": [
       "'lp-prod-protected'"
      ],
      "text/markdown": [
       "'lp-prod-protected'"
      ],
      "text/plain": [
       "[1] \"lp-prod-protected\""
      ]
     },
     "metadata": {},
     "output_type": "display_data"
    },
    {
     "data": {
      "text/html": [
       "'MOD13A1.061/MOD13A1.A2000049.h02v06.061.2020041151125/MOD13A1.A2000049.h02v06.061.2020041151125.hdf'"
      ],
      "text/latex": [
       "'MOD13A1.061/MOD13A1.A2000049.h02v06.061.2020041151125/MOD13A1.A2000049.h02v06.061.2020041151125.hdf'"
      ],
      "text/markdown": [
       "'MOD13A1.061/MOD13A1.A2000049.h02v06.061.2020041151125/MOD13A1.A2000049.h02v06.061.2020041151125.hdf'"
      ],
      "text/plain": [
       "[1] \"MOD13A1.061/MOD13A1.A2000049.h02v06.061.2020041151125/MOD13A1.A2000049.h02v06.061.2020041151125.hdf\""
      ]
     },
     "metadata": {},
     "output_type": "display_data"
    }
   ],
   "source": [
    "# Create file name for download\n",
    "filename <- strsplit(s3_link, \"/\", fixed = TRUE)[[1]] |> tail(n = 1)\n",
    "filename\n",
    "\n",
    "# Get bucket from file path\n",
    "bucket <- strsplit(s3_link, \"/\", fixed = TRUE)[[1]] |> head(n = 3)\n",
    "bucket <- bucket[3]\n",
    "bucket\n",
    "\n",
    "# Get key from file path\n",
    "key <- strsplit(s3_link, \"/\", fixed = TRUE)[[1]] |> tail(n = 3)\n",
    "key <- paste(key[1], key[2], key[3], sep = \"/\")\n",
    "key"
   ]
  },
  {
   "cell_type": "markdown",
   "id": "5570ef5d-69fd-4c81-9795-63fdba015532",
   "metadata": {},
   "source": [
    "Now we can download our file."
   ]
  },
  {
   "cell_type": "code",
   "execution_count": 98,
   "id": "7c410f1f-3359-4f27-aef5-b3519cbdd6da",
   "metadata": {},
   "outputs": [],
   "source": [
    "modis_file <- s3$download_file(Bucket = bucket, Key = key, Filename = paste(\"./data/\", filename))"
   ]
  },
  {
   "cell_type": "markdown",
   "id": "8e9e076c-0cd0-489d-92ee-6553987ca154",
   "metadata": {},
   "source": [
    "### Access the Downloaded File"
   ]
  },
  {
   "cell_type": "markdown",
   "id": "7f0fd644-dd63-4216-917c-da68e9930c87",
   "metadata": {},
   "source": [
    "The data has been downloaded and we can open the file. Since this is an HDF4 file, we can use the `ncdf4` package to open and work with it."
   ]
  },
  {
   "cell_type": "code",
   "execution_count": 99,
   "id": "c781de3c-e2ab-4e03-b2bb-ba6f200f4417",
   "metadata": {},
   "outputs": [],
   "source": [
    "modis_file <- nc_open(paste(\"./data/\", filename))"
   ]
  },
  {
   "cell_type": "markdown",
   "id": "0a657df0-4520-49b9-b607-45bc13721ace",
   "metadata": {},
   "source": [
    "The desired information can now be obtained from the opened file. For example, let's print the variable names."
   ]
  },
  {
   "cell_type": "code",
   "execution_count": 100,
   "id": "b7cc0e93-81e3-47fe-a15d-d0bd82d5fa6d",
   "metadata": {},
   "outputs": [
    {
     "data": {
      "text/html": [
       "<style>\n",
       ".list-inline {list-style: none; margin:0; padding: 0}\n",
       ".list-inline>li {display: inline-block}\n",
       ".list-inline>li:not(:last-child)::after {content: \"\\00b7\"; padding: 0 .5ex}\n",
       "</style>\n",
       "<ol class=list-inline><li>'500m 16 days NDVI'</li><li>'500m 16 days EVI'</li><li>'500m 16 days VI Quality'</li><li>'500m 16 days red reflectance'</li><li>'500m 16 days NIR reflectance'</li><li>'500m 16 days blue reflectance'</li><li>'500m 16 days MIR reflectance'</li><li>'500m 16 days view zenith angle'</li><li>'500m 16 days sun zenith angle'</li><li>'500m 16 days relative azimuth angle'</li><li>'500m 16 days composite day of the year'</li><li>'500m 16 days pixel reliability'</li></ol>\n"
      ],
      "text/latex": [
       "\\begin{enumerate*}\n",
       "\\item '500m 16 days NDVI'\n",
       "\\item '500m 16 days EVI'\n",
       "\\item '500m 16 days VI Quality'\n",
       "\\item '500m 16 days red reflectance'\n",
       "\\item '500m 16 days NIR reflectance'\n",
       "\\item '500m 16 days blue reflectance'\n",
       "\\item '500m 16 days MIR reflectance'\n",
       "\\item '500m 16 days view zenith angle'\n",
       "\\item '500m 16 days sun zenith angle'\n",
       "\\item '500m 16 days relative azimuth angle'\n",
       "\\item '500m 16 days composite day of the year'\n",
       "\\item '500m 16 days pixel reliability'\n",
       "\\end{enumerate*}\n"
      ],
      "text/markdown": [
       "1. '500m 16 days NDVI'\n",
       "2. '500m 16 days EVI'\n",
       "3. '500m 16 days VI Quality'\n",
       "4. '500m 16 days red reflectance'\n",
       "5. '500m 16 days NIR reflectance'\n",
       "6. '500m 16 days blue reflectance'\n",
       "7. '500m 16 days MIR reflectance'\n",
       "8. '500m 16 days view zenith angle'\n",
       "9. '500m 16 days sun zenith angle'\n",
       "10. '500m 16 days relative azimuth angle'\n",
       "11. '500m 16 days composite day of the year'\n",
       "12. '500m 16 days pixel reliability'\n",
       "\n",
       "\n"
      ],
      "text/plain": [
       " [1] \"500m 16 days NDVI\"                     \n",
       " [2] \"500m 16 days EVI\"                      \n",
       " [3] \"500m 16 days VI Quality\"               \n",
       " [4] \"500m 16 days red reflectance\"          \n",
       " [5] \"500m 16 days NIR reflectance\"          \n",
       " [6] \"500m 16 days blue reflectance\"         \n",
       " [7] \"500m 16 days MIR reflectance\"          \n",
       " [8] \"500m 16 days view zenith angle\"        \n",
       " [9] \"500m 16 days sun zenith angle\"         \n",
       "[10] \"500m 16 days relative azimuth angle\"   \n",
       "[11] \"500m 16 days composite day of the year\"\n",
       "[12] \"500m 16 days pixel reliability\"        "
      ]
     },
     "metadata": {},
     "output_type": "display_data"
    }
   ],
   "source": [
    "names(modis_file$var)"
   ]
  }
 ],
 "metadata": {
  "kernelspec": {
   "display_name": "R",
   "language": "R",
   "name": "ir"
  },
  "language_info": {
   "codemirror_mode": "r",
   "file_extension": ".r",
   "mimetype": "text/x-r-source",
   "name": "R",
   "pygments_lexer": "r",
   "version": "4.3.3"
  }
 },
 "nbformat": 4,
 "nbformat_minor": 5
}
