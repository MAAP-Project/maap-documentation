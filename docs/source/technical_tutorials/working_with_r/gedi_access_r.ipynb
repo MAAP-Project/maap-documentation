{
 "cells": [
  {
   "cell_type": "markdown",
   "id": "7cd9f447-0ffa-4655-8e78-4059687388f5",
   "metadata": {},
   "source": [
    "# GEDI Data Access \n",
    "\n",
    "Authors: Harshini Girish (UAH), Sheyenne Kirkland (UAH), Alex Mandel (DevSeed), Henry Rodman (DevSeed), Zac Deziel (DevSeed)\n",
    "\n",
    "Date: March 27, 2025\n",
    "\n",
    "Description: In this notebook, users will learn how to search for GEDI data using `maap-py`, download it, and then open it using `rhdf5`."
   ]
  },
  {
   "cell_type": "markdown",
   "id": "b7c5913a-a549-49c0-96d7-64b3b5c57972",
   "metadata": {},
   "source": [
    "## Run This Notebook\n",
    "\n",
    "To access and run this tutorial within MAAP's Algorithm Development Environment (ADE), please refer to the [\"Getting started with the MAAP\"](https://docs.maap-project.org/en/latest/getting_started/getting_started.html) section of our documentation.\n",
    "\n",
    "Disclaimer: it is highly recommended to run a tutorial within MAAP's ADE, which already includes packages specific to MAAP, such as maap-py. Running the tutorial outside of the MAAP ADE may lead to errors. Users should work within an \"R/Python\" workspace."
   ]
  },
  {
   "cell_type": "markdown",
   "id": "b3029ee9-143e-4fb9-bccd-fb2ab8fd7c46",
   "metadata": {},
   "source": [
    "## Additional Resources\n",
    "- [rhdf5](https://www.bioconductor.org/packages/release/bioc/html/rhdf5.html)\n",
    "  - The `rhdf5` package page, with installation instructions, documentation, and more.\n",
    " \n",
    "- [NASA's Operational CMR (MAAP Docs)](https://docs.maap-project.org/en/latest/technical_tutorials/search/catalog.html#nasa-s-operational-cmr) \n",
    "  - A section in the MAAP Docs offering an overview of resources to search and access NASA's CMR.\n",
    "\n",
    "- [GEDI02_A v2 Dataset Landing Page](https://lpdaac.usgs.gov/products/gedi02_av002/)\n",
    "  - Learn more about NASA's GEDI L2A dataset, which is accessed in this notebook.\n"
   ]
  },
  {
   "cell_type": "markdown",
   "id": "481f3d0b-fa32-4830-8cfd-fa5749661dcb",
   "metadata": {},
   "source": [
    "## Install and Load Required Libraries\n",
    "Let’s install and load the packages necessary for this tutorial."
   ]
  },
  {
   "cell_type": "code",
   "execution_count": 1,
   "id": "424804c9-0236-434e-adef-57b0067e0293",
   "metadata": {},
   "outputs": [],
   "source": [
    "library(\"rhdf5\") # to read HDF5 files \n",
    "library(\"reticulate\") # to use maap-py python"
   ]
  },
  {
   "cell_type": "markdown",
   "id": "f75c8e55-655b-4af4-8a32-e5f056451a1d",
   "metadata": {},
   "source": [
    "Let's also invoke the `MAAP` constructor. This will allow us to use the python-based `maap-py` library from R, which will be used to get credentials and conduct a NASA CMR search."
   ]
  },
  {
   "cell_type": "code",
   "execution_count": 2,
   "id": "49caadc2-6d06-4190-8a0e-0389ba10343a",
   "metadata": {},
   "outputs": [],
   "source": [
    "maap_py <- import(\"maap.maap\")\n",
    "maap <- maap_py$MAAP()"
   ]
  },
  {
   "cell_type": "markdown",
   "id": "e030f8f1-9d8a-4efd-95a9-359a9015029b",
   "metadata": {},
   "source": [
    "## Get Credentials\n",
    "\n",
    "Since we will be downloading the GEDI data, we will need temporary credentials for NASA LPDAAC."
   ]
  },
  {
   "cell_type": "code",
   "execution_count": 3,
   "id": "2e712519-fba8-4c14-8721-5836140e40a1",
   "metadata": {},
   "outputs": [],
   "source": [
    "credentials <- maap$aws$earthdata_s3_credentials(\n",
    "    \"https://data.lpdaac.earthdatacloud.nasa.gov/s3credentials\"\n",
    ")\n",
    "\n",
    "s3 <- paws::s3(\n",
    "    credentials = list(\n",
    "        creds = list(\n",
    "          access_key_id = credentials[\"accessKeyId\"],\n",
    "          secret_access_key = credentials[\"secretAccessKey\"],\n",
    "          session_token = credentials[\"sessionToken\"]\n",
    "          )),\n",
    "        region = \"us-west-2\")"
   ]
  },
  {
   "cell_type": "markdown",
   "id": "8b8999df-9875-4d26-8787-67fe10a7c3f4",
   "metadata": {},
   "source": [
    "## Collection and Granule Search\n",
    "\n",
    "Using `maap-py`, we can conduct a collection and granule search for data within NASA's CMR. For this example, we'll use data available within the GEDI L2A collection. For more information on CMR searching in R, see [\"Searching for Data in NASA's CMR in R\"](https://docs.maap-project.org/en/develop/technical_tutorials/working_with_r/cmr_search_in_r.html). "
   ]
  },
  {
   "cell_type": "code",
   "execution_count": 4,
   "id": "00960e01-9d92-4cd4-8243-5a2276a50a6e",
   "metadata": {},
   "outputs": [
    {
     "name": "stdout",
     "output_type": "stream",
     "text": [
      "Granules:\n",
      " [1] \"GEDI02_A_2019108002012_O01959_01_T03909_02_003_01_V002\"\n",
      " [2] \"GEDI02_A_2019108002012_O01959_03_T03909_02_003_01_V002\"\n",
      " [3] \"GEDI02_A_2019108002012_O01959_04_T03909_02_003_01_V002\"\n",
      " [4] \"GEDI02_A_2019108002012_O01959_02_T03909_02_003_01_V002\"\n",
      " [5] \"GEDI02_A_2019108015253_O01960_01_T03910_02_003_01_V002\"\n",
      " [6] \"GEDI02_A_2019108015253_O01960_03_T03910_02_003_01_V002\"\n",
      " [7] \"GEDI02_A_2019108015253_O01960_02_T03910_02_003_01_V002\"\n",
      " [8] \"GEDI02_A_2019108015253_O01960_04_T03910_02_003_01_V002\"\n",
      " [9] \"GEDI02_A_2019108032535_O01961_01_T03911_02_003_01_V002\"\n",
      "[10] \"GEDI02_A_2019108032535_O01961_03_T03911_02_003_01_V002\"\n"
     ]
    }
   ],
   "source": [
    "# search for a GEDI collection\n",
    "gedi_collections <- maap$searchCollection(\n",
    "    short_name = \"GEDI02_A\",\n",
    "    version = \"002\",\n",
    "    cmr_host = \"cmr.earthdata.nasa.gov\",\n",
    "    cloud_hosted = \"true\"\n",
    ")\n",
    "\n",
    "# get collection ID for granule search\n",
    "collection_id <- gedi_collections[[1]][\"concept-id\"]\n",
    "\n",
    "# search for the first granules\n",
    "gedi_granules <- maap$searchGranule(\n",
    "    concept_id = collection_id,\n",
    "    limit = as.integer(10),\n",
    "    cmr_host = \"cmr.earthdata.nasa.gov\"\n",
    ")\n",
    "\n",
    "granule_names <- sapply(gedi_granules, function(names) names[\"Granule\"][\"GranuleUR\"])\n",
    "cat(\"Granules:\\n\")\n",
    "print(granule_names)"
   ]
  },
  {
   "cell_type": "markdown",
   "id": "46a5ee49-1aea-47db-b00e-84ae80d79fc8",
   "metadata": {},
   "source": [
    "Let's get the S3 URL from the first granule from our granule search."
   ]
  },
  {
   "cell_type": "code",
   "execution_count": 5,
   "id": "2af4e627-e280-4db0-ae3f-615a371c579e",
   "metadata": {},
   "outputs": [
    {
     "name": "stdout",
     "output_type": "stream",
     "text": [
      "[1] \"s3://lp-prod-protected/GEDI02_A.002/GEDI02_A_2019108002012_O01959_01_T03909_02_003_01_V002/GEDI02_A_2019108002012_O01959_01_T03909_02_003_01_V002.h5\"\n"
     ]
    }
   ],
   "source": [
    "s3_link <- gedi_granules[[1]][\"Granule\"][\"OnlineAccessURLs\"][[1]][1][\"URL\"]\n",
    "print(s3_link)"
   ]
  },
  {
   "cell_type": "markdown",
   "id": "f530a65b-390e-4423-a299-adb09cda8665",
   "metadata": {},
   "source": [
    "## Download File"
   ]
  },
  {
   "cell_type": "markdown",
   "id": "389b790c-196e-43a4-b850-341ab2557f79",
   "metadata": {},
   "source": [
    "Before downloading, lets do some prepping. First we'll create a directory to download our file to. Then from our S3 link, we can get the bucket, key, and a filename."
   ]
  },
  {
   "cell_type": "code",
   "execution_count": 6,
   "id": "d27a1cb9-8f1b-4a83-a7ae-1f1647b36196",
   "metadata": {},
   "outputs": [],
   "source": [
    "# create directory\n",
    "dir_name = \"./data\"\n",
    "if(!dir.exists(dir_name)){dir.create(dir_name)}"
   ]
  },
  {
   "cell_type": "code",
   "execution_count": 7,
   "id": "672d1720-0eea-40dc-abbb-8fab3c9749b7",
   "metadata": {},
   "outputs": [
    {
     "data": {
      "text/html": [
       "'lp-prod-protected'"
      ],
      "text/latex": [
       "'lp-prod-protected'"
      ],
      "text/markdown": [
       "'lp-prod-protected'"
      ],
      "text/plain": [
       "[1] \"lp-prod-protected\""
      ]
     },
     "metadata": {},
     "output_type": "display_data"
    },
    {
     "data": {
      "text/html": [
       "'GEDI02_A.002/GEDI02_A_2019108002012_O01959_01_T03909_02_003_01_V002/GEDI02_A_2019108002012_O01959_01_T03909_02_003_01_V002.h5'"
      ],
      "text/latex": [
       "'GEDI02\\_A.002/GEDI02\\_A\\_2019108002012\\_O01959\\_01\\_T03909\\_02\\_003\\_01\\_V002/GEDI02\\_A\\_2019108002012\\_O01959\\_01\\_T03909\\_02\\_003\\_01\\_V002.h5'"
      ],
      "text/markdown": [
       "'GEDI02_A.002/GEDI02_A_2019108002012_O01959_01_T03909_02_003_01_V002/GEDI02_A_2019108002012_O01959_01_T03909_02_003_01_V002.h5'"
      ],
      "text/plain": [
       "[1] \"GEDI02_A.002/GEDI02_A_2019108002012_O01959_01_T03909_02_003_01_V002/GEDI02_A_2019108002012_O01959_01_T03909_02_003_01_V002.h5\""
      ]
     },
     "metadata": {},
     "output_type": "display_data"
    }
   ],
   "source": [
    "# get bucket from file path\n",
    "s3_parts <- strsplit(sub(\"s3://\",\"\", s3_link), \"/\", fixed = TRUE)[[1]] # drop the s3 prefix\n",
    "bucket <- s3_parts[1] # grab the 1st item which is the bucket name\n",
    "bucket\n",
    "\n",
    "# create file name for download\n",
    "filename <- tail(s3_parts, n=1) # grab the last part of the path\n",
    "file <- paste(\"./data/\", filename)\n",
    "\n",
    "\n",
    "# get key from file path\n",
    "key <- paste(tail(s3_parts, n=-1), collapse='/') # grab everything in the path, except the 1st item\n",
    "key"
   ]
  },
  {
   "cell_type": "markdown",
   "id": "a2a9ebf2-d5e6-4c01-9570-851541a524ab",
   "metadata": {},
   "source": [
    "Now we can download our file."
   ]
  },
  {
   "cell_type": "code",
   "execution_count": 8,
   "id": "176e33df-0b43-429d-b5d4-71344ab881d6",
   "metadata": {},
   "outputs": [],
   "source": [
    "gedi_file <- s3$download_file(Bucket = bucket, Key = key, Filename = file)"
   ]
  },
  {
   "cell_type": "markdown",
   "id": "350ad311-0d79-42e8-aac1-c43945762cd1",
   "metadata": {},
   "source": [
    "## Access Data\n",
    "\n",
    "Now that we have our downloaded data, we can use `rhdf5` to open our file for exploration."
   ]
  },
  {
   "cell_type": "code",
   "execution_count": 9,
   "id": "1b1c9b3e-0250-4079-ac1d-4dbfe1fef3df",
   "metadata": {},
   "outputs": [
    {
     "data": {
      "text/html": [
       "<table class=\"dataframe\">\n",
       "<caption>A data.frame: 4482 × 5</caption>\n",
       "<thead>\n",
       "\t<tr><th></th><th scope=col>group</th><th scope=col>name</th><th scope=col>otype</th><th scope=col>dclass</th><th scope=col>dim</th></tr>\n",
       "\t<tr><th></th><th scope=col>&lt;chr&gt;</th><th scope=col>&lt;chr&gt;</th><th scope=col>&lt;chr&gt;</th><th scope=col>&lt;chr&gt;</th><th scope=col>&lt;chr&gt;</th></tr>\n",
       "</thead>\n",
       "<tbody>\n",
       "\t<tr><th scope=row>0</th><td>/                    </td><td>BEAM0000                    </td><td>H5I_GROUP  </td><td>       </td><td>    </td></tr>\n",
       "\t<tr><th scope=row>1</th><td>/BEAM0000            </td><td>ancillary                   </td><td>H5I_GROUP  </td><td>       </td><td>    </td></tr>\n",
       "\t<tr><th scope=row>2</th><td>/BEAM0000/ancillary  </td><td>l2a_alg_count               </td><td>H5I_DATASET</td><td>INTEGER</td><td>1   </td></tr>\n",
       "\t<tr><th scope=row>3</th><td>/BEAM0000            </td><td>beam                        </td><td>H5I_DATASET</td><td>INTEGER</td><td>7279</td></tr>\n",
       "\t<tr><th scope=row>4</th><td>/BEAM0000            </td><td>channel                     </td><td>H5I_DATASET</td><td>INTEGER</td><td>7279</td></tr>\n",
       "\t<tr><th scope=row>5</th><td>/BEAM0000            </td><td>degrade_flag                </td><td>H5I_DATASET</td><td>INTEGER</td><td>7279</td></tr>\n",
       "\t<tr><th scope=row>6</th><td>/BEAM0000            </td><td>delta_time                  </td><td>H5I_DATASET</td><td>FLOAT  </td><td>7279</td></tr>\n",
       "\t<tr><th scope=row>7</th><td>/BEAM0000            </td><td>digital_elevation_model     </td><td>H5I_DATASET</td><td>FLOAT  </td><td>7279</td></tr>\n",
       "\t<tr><th scope=row>8</th><td>/BEAM0000            </td><td>digital_elevation_model_srtm</td><td>H5I_DATASET</td><td>FLOAT  </td><td>7279</td></tr>\n",
       "\t<tr><th scope=row>9</th><td>/BEAM0000            </td><td>elev_highestreturn          </td><td>H5I_DATASET</td><td>FLOAT  </td><td>7279</td></tr>\n",
       "\t<tr><th scope=row>10</th><td>/BEAM0000            </td><td>elev_lowestmode             </td><td>H5I_DATASET</td><td>FLOAT  </td><td>7279</td></tr>\n",
       "\t<tr><th scope=row>11</th><td>/BEAM0000            </td><td>elevation_bias_flag         </td><td>H5I_DATASET</td><td>INTEGER</td><td>7279</td></tr>\n",
       "\t<tr><th scope=row>12</th><td>/BEAM0000            </td><td>elevation_bin0_error        </td><td>H5I_DATASET</td><td>FLOAT  </td><td>7279</td></tr>\n",
       "\t<tr><th scope=row>13</th><td>/BEAM0000            </td><td>energy_total                </td><td>H5I_DATASET</td><td>FLOAT  </td><td>7279</td></tr>\n",
       "\t<tr><th scope=row>14</th><td>/BEAM0000            </td><td>geolocation                 </td><td>H5I_GROUP  </td><td>       </td><td>    </td></tr>\n",
       "\t<tr><th scope=row>15</th><td>/BEAM0000/geolocation</td><td>elev_highestreturn_a1       </td><td>H5I_DATASET</td><td>FLOAT  </td><td>7279</td></tr>\n",
       "\t<tr><th scope=row>16</th><td>/BEAM0000/geolocation</td><td>elev_highestreturn_a2       </td><td>H5I_DATASET</td><td>FLOAT  </td><td>7279</td></tr>\n",
       "\t<tr><th scope=row>17</th><td>/BEAM0000/geolocation</td><td>elev_highestreturn_a3       </td><td>H5I_DATASET</td><td>FLOAT  </td><td>7279</td></tr>\n",
       "\t<tr><th scope=row>18</th><td>/BEAM0000/geolocation</td><td>elev_highestreturn_a4       </td><td>H5I_DATASET</td><td>FLOAT  </td><td>7279</td></tr>\n",
       "\t<tr><th scope=row>19</th><td>/BEAM0000/geolocation</td><td>elev_highestreturn_a5       </td><td>H5I_DATASET</td><td>FLOAT  </td><td>7279</td></tr>\n",
       "\t<tr><th scope=row>20</th><td>/BEAM0000/geolocation</td><td>elev_highestreturn_a6       </td><td>H5I_DATASET</td><td>FLOAT  </td><td>7279</td></tr>\n",
       "\t<tr><th scope=row>21</th><td>/BEAM0000/geolocation</td><td>elev_lowestmode_a1          </td><td>H5I_DATASET</td><td>FLOAT  </td><td>7279</td></tr>\n",
       "\t<tr><th scope=row>22</th><td>/BEAM0000/geolocation</td><td>elev_lowestmode_a2          </td><td>H5I_DATASET</td><td>FLOAT  </td><td>7279</td></tr>\n",
       "\t<tr><th scope=row>23</th><td>/BEAM0000/geolocation</td><td>elev_lowestmode_a3          </td><td>H5I_DATASET</td><td>FLOAT  </td><td>7279</td></tr>\n",
       "\t<tr><th scope=row>24</th><td>/BEAM0000/geolocation</td><td>elev_lowestmode_a4          </td><td>H5I_DATASET</td><td>FLOAT  </td><td>7279</td></tr>\n",
       "\t<tr><th scope=row>25</th><td>/BEAM0000/geolocation</td><td>elev_lowestmode_a5          </td><td>H5I_DATASET</td><td>FLOAT  </td><td>7279</td></tr>\n",
       "\t<tr><th scope=row>26</th><td>/BEAM0000/geolocation</td><td>elev_lowestmode_a6          </td><td>H5I_DATASET</td><td>FLOAT  </td><td>7279</td></tr>\n",
       "\t<tr><th scope=row>27</th><td>/BEAM0000/geolocation</td><td>elev_lowestreturn_a1        </td><td>H5I_DATASET</td><td>FLOAT  </td><td>7279</td></tr>\n",
       "\t<tr><th scope=row>28</th><td>/BEAM0000/geolocation</td><td>elev_lowestreturn_a2        </td><td>H5I_DATASET</td><td>FLOAT  </td><td>7279</td></tr>\n",
       "\t<tr><th scope=row>29</th><td>/BEAM0000/geolocation</td><td>elev_lowestreturn_a3        </td><td>H5I_DATASET</td><td>FLOAT  </td><td>7279</td></tr>\n",
       "\t<tr><th scope=row>⋮</th><td>⋮</td><td>⋮</td><td>⋮</td><td>⋮</td><td>⋮</td></tr>\n",
       "\t<tr><th scope=row>4452</th><td>/BEAM1011/rx_processing_a6</td><td>rx_modelocalenergy         </td><td>H5I_DATASET</td><td>FLOAT  </td><td>20 x 6155</td></tr>\n",
       "\t<tr><th scope=row>4453</th><td>/BEAM1011/rx_processing_a6</td><td>rx_modelocalenergyabovemean</td><td>H5I_DATASET</td><td>FLOAT  </td><td>20 x 6155</td></tr>\n",
       "\t<tr><th scope=row>4454</th><td>/BEAM1011/rx_processing_a6</td><td>rx_modelocalslope          </td><td>H5I_DATASET</td><td>FLOAT  </td><td>20 x 6155</td></tr>\n",
       "\t<tr><th scope=row>4455</th><td>/BEAM1011/rx_processing_a6</td><td>rx_modelocs                </td><td>H5I_DATASET</td><td>FLOAT  </td><td>20 x 6155</td></tr>\n",
       "\t<tr><th scope=row>4456</th><td>/BEAM1011/rx_processing_a6</td><td>rx_modewidths              </td><td>H5I_DATASET</td><td>FLOAT  </td><td>20 x 6155</td></tr>\n",
       "\t<tr><th scope=row>4457</th><td>/BEAM1011/rx_processing_a6</td><td>rx_nummodes                </td><td>H5I_DATASET</td><td>INTEGER</td><td>6155     </td></tr>\n",
       "\t<tr><th scope=row>4458</th><td>/BEAM1011/rx_processing_a6</td><td>sd_sm                      </td><td>H5I_DATASET</td><td>FLOAT  </td><td>6155     </td></tr>\n",
       "\t<tr><th scope=row>4459</th><td>/BEAM1011/rx_processing_a6</td><td>search_end                 </td><td>H5I_DATASET</td><td>FLOAT  </td><td>6155     </td></tr>\n",
       "\t<tr><th scope=row>4460</th><td>/BEAM1011/rx_processing_a6</td><td>search_start               </td><td>H5I_DATASET</td><td>FLOAT  </td><td>6155     </td></tr>\n",
       "\t<tr><th scope=row>4461</th><td>/BEAM1011/rx_processing_a6</td><td>selected_mode              </td><td>H5I_DATASET</td><td>INTEGER</td><td>6155     </td></tr>\n",
       "\t<tr><th scope=row>4462</th><td>/BEAM1011/rx_processing_a6</td><td>selected_mode_flag         </td><td>H5I_DATASET</td><td>INTEGER</td><td>6155     </td></tr>\n",
       "\t<tr><th scope=row>4463</th><td>/BEAM1011/rx_processing_a6</td><td>smoothwidth                </td><td>H5I_DATASET</td><td>FLOAT  </td><td>6155     </td></tr>\n",
       "\t<tr><th scope=row>4464</th><td>/BEAM1011/rx_processing_a6</td><td>smoothwidth_zcross         </td><td>H5I_DATASET</td><td>FLOAT  </td><td>6155     </td></tr>\n",
       "\t<tr><th scope=row>4465</th><td>/BEAM1011/rx_processing_a6</td><td>stddev                     </td><td>H5I_DATASET</td><td>FLOAT  </td><td>6155     </td></tr>\n",
       "\t<tr><th scope=row>4466</th><td>/BEAM1011/rx_processing_a6</td><td>toploc                     </td><td>H5I_DATASET</td><td>FLOAT  </td><td>6155     </td></tr>\n",
       "\t<tr><th scope=row>4467</th><td>/BEAM1011/rx_processing_a6</td><td>toploc_miss                </td><td>H5I_DATASET</td><td>INTEGER</td><td>6155     </td></tr>\n",
       "\t<tr><th scope=row>4468</th><td>/BEAM1011/rx_processing_a6</td><td>zcross                     </td><td>H5I_DATASET</td><td>FLOAT  </td><td>6155     </td></tr>\n",
       "\t<tr><th scope=row>4469</th><td>/BEAM1011/rx_processing_a6</td><td>zcross0                    </td><td>H5I_DATASET</td><td>FLOAT  </td><td>6155     </td></tr>\n",
       "\t<tr><th scope=row>4470</th><td>/BEAM1011/rx_processing_a6</td><td>zcross_amp                 </td><td>H5I_DATASET</td><td>FLOAT  </td><td>6155     </td></tr>\n",
       "\t<tr><th scope=row>4471</th><td>/BEAM1011/rx_processing_a6</td><td>zcross_localenergy         </td><td>H5I_DATASET</td><td>FLOAT  </td><td>6155     </td></tr>\n",
       "\t<tr><th scope=row>4472</th><td>/BEAM1011                 </td><td>selected_algorithm         </td><td>H5I_DATASET</td><td>INTEGER</td><td>6155     </td></tr>\n",
       "\t<tr><th scope=row>4473</th><td>/BEAM1011                 </td><td>selected_mode              </td><td>H5I_DATASET</td><td>INTEGER</td><td>6155     </td></tr>\n",
       "\t<tr><th scope=row>4474</th><td>/BEAM1011                 </td><td>selected_mode_flag         </td><td>H5I_DATASET</td><td>INTEGER</td><td>6155     </td></tr>\n",
       "\t<tr><th scope=row>4475</th><td>/BEAM1011                 </td><td>sensitivity                </td><td>H5I_DATASET</td><td>FLOAT  </td><td>6155     </td></tr>\n",
       "\t<tr><th scope=row>4476</th><td>/BEAM1011                 </td><td>shot_number                </td><td>H5I_DATASET</td><td>INTEGER</td><td>6155     </td></tr>\n",
       "\t<tr><th scope=row>4477</th><td>/BEAM1011                 </td><td>solar_azimuth              </td><td>H5I_DATASET</td><td>FLOAT  </td><td>6155     </td></tr>\n",
       "\t<tr><th scope=row>4478</th><td>/BEAM1011                 </td><td>solar_elevation            </td><td>H5I_DATASET</td><td>FLOAT  </td><td>6155     </td></tr>\n",
       "\t<tr><th scope=row>4479</th><td>/BEAM1011                 </td><td>surface_flag               </td><td>H5I_DATASET</td><td>INTEGER</td><td>6155     </td></tr>\n",
       "\t<tr><th scope=row>4480</th><td>/                         </td><td>METADATA                   </td><td>H5I_GROUP  </td><td>       </td><td>         </td></tr>\n",
       "\t<tr><th scope=row>4481</th><td>/METADATA                 </td><td>DatasetIdentification      </td><td>H5I_GROUP  </td><td>       </td><td>         </td></tr>\n",
       "</tbody>\n",
       "</table>\n"
      ],
      "text/latex": [
       "A data.frame: 4482 × 5\n",
       "\\begin{tabular}{r|lllll}\n",
       "  & group & name & otype & dclass & dim\\\\\n",
       "  & <chr> & <chr> & <chr> & <chr> & <chr>\\\\\n",
       "\\hline\n",
       "\t0 & /                     & BEAM0000                     & H5I\\_GROUP   &         &     \\\\\n",
       "\t1 & /BEAM0000             & ancillary                    & H5I\\_GROUP   &         &     \\\\\n",
       "\t2 & /BEAM0000/ancillary   & l2a\\_alg\\_count                & H5I\\_DATASET & INTEGER & 1   \\\\\n",
       "\t3 & /BEAM0000             & beam                         & H5I\\_DATASET & INTEGER & 7279\\\\\n",
       "\t4 & /BEAM0000             & channel                      & H5I\\_DATASET & INTEGER & 7279\\\\\n",
       "\t5 & /BEAM0000             & degrade\\_flag                 & H5I\\_DATASET & INTEGER & 7279\\\\\n",
       "\t6 & /BEAM0000             & delta\\_time                   & H5I\\_DATASET & FLOAT   & 7279\\\\\n",
       "\t7 & /BEAM0000             & digital\\_elevation\\_model      & H5I\\_DATASET & FLOAT   & 7279\\\\\n",
       "\t8 & /BEAM0000             & digital\\_elevation\\_model\\_srtm & H5I\\_DATASET & FLOAT   & 7279\\\\\n",
       "\t9 & /BEAM0000             & elev\\_highestreturn           & H5I\\_DATASET & FLOAT   & 7279\\\\\n",
       "\t10 & /BEAM0000             & elev\\_lowestmode              & H5I\\_DATASET & FLOAT   & 7279\\\\\n",
       "\t11 & /BEAM0000             & elevation\\_bias\\_flag          & H5I\\_DATASET & INTEGER & 7279\\\\\n",
       "\t12 & /BEAM0000             & elevation\\_bin0\\_error         & H5I\\_DATASET & FLOAT   & 7279\\\\\n",
       "\t13 & /BEAM0000             & energy\\_total                 & H5I\\_DATASET & FLOAT   & 7279\\\\\n",
       "\t14 & /BEAM0000             & geolocation                  & H5I\\_GROUP   &         &     \\\\\n",
       "\t15 & /BEAM0000/geolocation & elev\\_highestreturn\\_a1        & H5I\\_DATASET & FLOAT   & 7279\\\\\n",
       "\t16 & /BEAM0000/geolocation & elev\\_highestreturn\\_a2        & H5I\\_DATASET & FLOAT   & 7279\\\\\n",
       "\t17 & /BEAM0000/geolocation & elev\\_highestreturn\\_a3        & H5I\\_DATASET & FLOAT   & 7279\\\\\n",
       "\t18 & /BEAM0000/geolocation & elev\\_highestreturn\\_a4        & H5I\\_DATASET & FLOAT   & 7279\\\\\n",
       "\t19 & /BEAM0000/geolocation & elev\\_highestreturn\\_a5        & H5I\\_DATASET & FLOAT   & 7279\\\\\n",
       "\t20 & /BEAM0000/geolocation & elev\\_highestreturn\\_a6        & H5I\\_DATASET & FLOAT   & 7279\\\\\n",
       "\t21 & /BEAM0000/geolocation & elev\\_lowestmode\\_a1           & H5I\\_DATASET & FLOAT   & 7279\\\\\n",
       "\t22 & /BEAM0000/geolocation & elev\\_lowestmode\\_a2           & H5I\\_DATASET & FLOAT   & 7279\\\\\n",
       "\t23 & /BEAM0000/geolocation & elev\\_lowestmode\\_a3           & H5I\\_DATASET & FLOAT   & 7279\\\\\n",
       "\t24 & /BEAM0000/geolocation & elev\\_lowestmode\\_a4           & H5I\\_DATASET & FLOAT   & 7279\\\\\n",
       "\t25 & /BEAM0000/geolocation & elev\\_lowestmode\\_a5           & H5I\\_DATASET & FLOAT   & 7279\\\\\n",
       "\t26 & /BEAM0000/geolocation & elev\\_lowestmode\\_a6           & H5I\\_DATASET & FLOAT   & 7279\\\\\n",
       "\t27 & /BEAM0000/geolocation & elev\\_lowestreturn\\_a1         & H5I\\_DATASET & FLOAT   & 7279\\\\\n",
       "\t28 & /BEAM0000/geolocation & elev\\_lowestreturn\\_a2         & H5I\\_DATASET & FLOAT   & 7279\\\\\n",
       "\t29 & /BEAM0000/geolocation & elev\\_lowestreturn\\_a3         & H5I\\_DATASET & FLOAT   & 7279\\\\\n",
       "\t⋮ & ⋮ & ⋮ & ⋮ & ⋮ & ⋮\\\\\n",
       "\t4452 & /BEAM1011/rx\\_processing\\_a6 & rx\\_modelocalenergy          & H5I\\_DATASET & FLOAT   & 20 x 6155\\\\\n",
       "\t4453 & /BEAM1011/rx\\_processing\\_a6 & rx\\_modelocalenergyabovemean & H5I\\_DATASET & FLOAT   & 20 x 6155\\\\\n",
       "\t4454 & /BEAM1011/rx\\_processing\\_a6 & rx\\_modelocalslope           & H5I\\_DATASET & FLOAT   & 20 x 6155\\\\\n",
       "\t4455 & /BEAM1011/rx\\_processing\\_a6 & rx\\_modelocs                 & H5I\\_DATASET & FLOAT   & 20 x 6155\\\\\n",
       "\t4456 & /BEAM1011/rx\\_processing\\_a6 & rx\\_modewidths               & H5I\\_DATASET & FLOAT   & 20 x 6155\\\\\n",
       "\t4457 & /BEAM1011/rx\\_processing\\_a6 & rx\\_nummodes                 & H5I\\_DATASET & INTEGER & 6155     \\\\\n",
       "\t4458 & /BEAM1011/rx\\_processing\\_a6 & sd\\_sm                       & H5I\\_DATASET & FLOAT   & 6155     \\\\\n",
       "\t4459 & /BEAM1011/rx\\_processing\\_a6 & search\\_end                  & H5I\\_DATASET & FLOAT   & 6155     \\\\\n",
       "\t4460 & /BEAM1011/rx\\_processing\\_a6 & search\\_start                & H5I\\_DATASET & FLOAT   & 6155     \\\\\n",
       "\t4461 & /BEAM1011/rx\\_processing\\_a6 & selected\\_mode               & H5I\\_DATASET & INTEGER & 6155     \\\\\n",
       "\t4462 & /BEAM1011/rx\\_processing\\_a6 & selected\\_mode\\_flag          & H5I\\_DATASET & INTEGER & 6155     \\\\\n",
       "\t4463 & /BEAM1011/rx\\_processing\\_a6 & smoothwidth                 & H5I\\_DATASET & FLOAT   & 6155     \\\\\n",
       "\t4464 & /BEAM1011/rx\\_processing\\_a6 & smoothwidth\\_zcross          & H5I\\_DATASET & FLOAT   & 6155     \\\\\n",
       "\t4465 & /BEAM1011/rx\\_processing\\_a6 & stddev                      & H5I\\_DATASET & FLOAT   & 6155     \\\\\n",
       "\t4466 & /BEAM1011/rx\\_processing\\_a6 & toploc                      & H5I\\_DATASET & FLOAT   & 6155     \\\\\n",
       "\t4467 & /BEAM1011/rx\\_processing\\_a6 & toploc\\_miss                 & H5I\\_DATASET & INTEGER & 6155     \\\\\n",
       "\t4468 & /BEAM1011/rx\\_processing\\_a6 & zcross                      & H5I\\_DATASET & FLOAT   & 6155     \\\\\n",
       "\t4469 & /BEAM1011/rx\\_processing\\_a6 & zcross0                     & H5I\\_DATASET & FLOAT   & 6155     \\\\\n",
       "\t4470 & /BEAM1011/rx\\_processing\\_a6 & zcross\\_amp                  & H5I\\_DATASET & FLOAT   & 6155     \\\\\n",
       "\t4471 & /BEAM1011/rx\\_processing\\_a6 & zcross\\_localenergy          & H5I\\_DATASET & FLOAT   & 6155     \\\\\n",
       "\t4472 & /BEAM1011                  & selected\\_algorithm          & H5I\\_DATASET & INTEGER & 6155     \\\\\n",
       "\t4473 & /BEAM1011                  & selected\\_mode               & H5I\\_DATASET & INTEGER & 6155     \\\\\n",
       "\t4474 & /BEAM1011                  & selected\\_mode\\_flag          & H5I\\_DATASET & INTEGER & 6155     \\\\\n",
       "\t4475 & /BEAM1011                  & sensitivity                 & H5I\\_DATASET & FLOAT   & 6155     \\\\\n",
       "\t4476 & /BEAM1011                  & shot\\_number                 & H5I\\_DATASET & INTEGER & 6155     \\\\\n",
       "\t4477 & /BEAM1011                  & solar\\_azimuth               & H5I\\_DATASET & FLOAT   & 6155     \\\\\n",
       "\t4478 & /BEAM1011                  & solar\\_elevation             & H5I\\_DATASET & FLOAT   & 6155     \\\\\n",
       "\t4479 & /BEAM1011                  & surface\\_flag                & H5I\\_DATASET & INTEGER & 6155     \\\\\n",
       "\t4480 & /                          & METADATA                    & H5I\\_GROUP   &         &          \\\\\n",
       "\t4481 & /METADATA                  & DatasetIdentification       & H5I\\_GROUP   &         &          \\\\\n",
       "\\end{tabular}\n"
      ],
      "text/markdown": [
       "\n",
       "A data.frame: 4482 × 5\n",
       "\n",
       "| <!--/--> | group &lt;chr&gt; | name &lt;chr&gt; | otype &lt;chr&gt; | dclass &lt;chr&gt; | dim &lt;chr&gt; |\n",
       "|---|---|---|---|---|---|\n",
       "| 0 | /                     | BEAM0000                     | H5I_GROUP   | <!----> | <!----> |\n",
       "| 1 | /BEAM0000             | ancillary                    | H5I_GROUP   | <!----> | <!----> |\n",
       "| 2 | /BEAM0000/ancillary   | l2a_alg_count                | H5I_DATASET | INTEGER | 1    |\n",
       "| 3 | /BEAM0000             | beam                         | H5I_DATASET | INTEGER | 7279 |\n",
       "| 4 | /BEAM0000             | channel                      | H5I_DATASET | INTEGER | 7279 |\n",
       "| 5 | /BEAM0000             | degrade_flag                 | H5I_DATASET | INTEGER | 7279 |\n",
       "| 6 | /BEAM0000             | delta_time                   | H5I_DATASET | FLOAT   | 7279 |\n",
       "| 7 | /BEAM0000             | digital_elevation_model      | H5I_DATASET | FLOAT   | 7279 |\n",
       "| 8 | /BEAM0000             | digital_elevation_model_srtm | H5I_DATASET | FLOAT   | 7279 |\n",
       "| 9 | /BEAM0000             | elev_highestreturn           | H5I_DATASET | FLOAT   | 7279 |\n",
       "| 10 | /BEAM0000             | elev_lowestmode              | H5I_DATASET | FLOAT   | 7279 |\n",
       "| 11 | /BEAM0000             | elevation_bias_flag          | H5I_DATASET | INTEGER | 7279 |\n",
       "| 12 | /BEAM0000             | elevation_bin0_error         | H5I_DATASET | FLOAT   | 7279 |\n",
       "| 13 | /BEAM0000             | energy_total                 | H5I_DATASET | FLOAT   | 7279 |\n",
       "| 14 | /BEAM0000             | geolocation                  | H5I_GROUP   | <!----> | <!----> |\n",
       "| 15 | /BEAM0000/geolocation | elev_highestreturn_a1        | H5I_DATASET | FLOAT   | 7279 |\n",
       "| 16 | /BEAM0000/geolocation | elev_highestreturn_a2        | H5I_DATASET | FLOAT   | 7279 |\n",
       "| 17 | /BEAM0000/geolocation | elev_highestreturn_a3        | H5I_DATASET | FLOAT   | 7279 |\n",
       "| 18 | /BEAM0000/geolocation | elev_highestreturn_a4        | H5I_DATASET | FLOAT   | 7279 |\n",
       "| 19 | /BEAM0000/geolocation | elev_highestreturn_a5        | H5I_DATASET | FLOAT   | 7279 |\n",
       "| 20 | /BEAM0000/geolocation | elev_highestreturn_a6        | H5I_DATASET | FLOAT   | 7279 |\n",
       "| 21 | /BEAM0000/geolocation | elev_lowestmode_a1           | H5I_DATASET | FLOAT   | 7279 |\n",
       "| 22 | /BEAM0000/geolocation | elev_lowestmode_a2           | H5I_DATASET | FLOAT   | 7279 |\n",
       "| 23 | /BEAM0000/geolocation | elev_lowestmode_a3           | H5I_DATASET | FLOAT   | 7279 |\n",
       "| 24 | /BEAM0000/geolocation | elev_lowestmode_a4           | H5I_DATASET | FLOAT   | 7279 |\n",
       "| 25 | /BEAM0000/geolocation | elev_lowestmode_a5           | H5I_DATASET | FLOAT   | 7279 |\n",
       "| 26 | /BEAM0000/geolocation | elev_lowestmode_a6           | H5I_DATASET | FLOAT   | 7279 |\n",
       "| 27 | /BEAM0000/geolocation | elev_lowestreturn_a1         | H5I_DATASET | FLOAT   | 7279 |\n",
       "| 28 | /BEAM0000/geolocation | elev_lowestreturn_a2         | H5I_DATASET | FLOAT   | 7279 |\n",
       "| 29 | /BEAM0000/geolocation | elev_lowestreturn_a3         | H5I_DATASET | FLOAT   | 7279 |\n",
       "| ⋮ | ⋮ | ⋮ | ⋮ | ⋮ | ⋮ |\n",
       "| 4452 | /BEAM1011/rx_processing_a6 | rx_modelocalenergy          | H5I_DATASET | FLOAT   | 20 x 6155 |\n",
       "| 4453 | /BEAM1011/rx_processing_a6 | rx_modelocalenergyabovemean | H5I_DATASET | FLOAT   | 20 x 6155 |\n",
       "| 4454 | /BEAM1011/rx_processing_a6 | rx_modelocalslope           | H5I_DATASET | FLOAT   | 20 x 6155 |\n",
       "| 4455 | /BEAM1011/rx_processing_a6 | rx_modelocs                 | H5I_DATASET | FLOAT   | 20 x 6155 |\n",
       "| 4456 | /BEAM1011/rx_processing_a6 | rx_modewidths               | H5I_DATASET | FLOAT   | 20 x 6155 |\n",
       "| 4457 | /BEAM1011/rx_processing_a6 | rx_nummodes                 | H5I_DATASET | INTEGER | 6155      |\n",
       "| 4458 | /BEAM1011/rx_processing_a6 | sd_sm                       | H5I_DATASET | FLOAT   | 6155      |\n",
       "| 4459 | /BEAM1011/rx_processing_a6 | search_end                  | H5I_DATASET | FLOAT   | 6155      |\n",
       "| 4460 | /BEAM1011/rx_processing_a6 | search_start                | H5I_DATASET | FLOAT   | 6155      |\n",
       "| 4461 | /BEAM1011/rx_processing_a6 | selected_mode               | H5I_DATASET | INTEGER | 6155      |\n",
       "| 4462 | /BEAM1011/rx_processing_a6 | selected_mode_flag          | H5I_DATASET | INTEGER | 6155      |\n",
       "| 4463 | /BEAM1011/rx_processing_a6 | smoothwidth                 | H5I_DATASET | FLOAT   | 6155      |\n",
       "| 4464 | /BEAM1011/rx_processing_a6 | smoothwidth_zcross          | H5I_DATASET | FLOAT   | 6155      |\n",
       "| 4465 | /BEAM1011/rx_processing_a6 | stddev                      | H5I_DATASET | FLOAT   | 6155      |\n",
       "| 4466 | /BEAM1011/rx_processing_a6 | toploc                      | H5I_DATASET | FLOAT   | 6155      |\n",
       "| 4467 | /BEAM1011/rx_processing_a6 | toploc_miss                 | H5I_DATASET | INTEGER | 6155      |\n",
       "| 4468 | /BEAM1011/rx_processing_a6 | zcross                      | H5I_DATASET | FLOAT   | 6155      |\n",
       "| 4469 | /BEAM1011/rx_processing_a6 | zcross0                     | H5I_DATASET | FLOAT   | 6155      |\n",
       "| 4470 | /BEAM1011/rx_processing_a6 | zcross_amp                  | H5I_DATASET | FLOAT   | 6155      |\n",
       "| 4471 | /BEAM1011/rx_processing_a6 | zcross_localenergy          | H5I_DATASET | FLOAT   | 6155      |\n",
       "| 4472 | /BEAM1011                  | selected_algorithm          | H5I_DATASET | INTEGER | 6155      |\n",
       "| 4473 | /BEAM1011                  | selected_mode               | H5I_DATASET | INTEGER | 6155      |\n",
       "| 4474 | /BEAM1011                  | selected_mode_flag          | H5I_DATASET | INTEGER | 6155      |\n",
       "| 4475 | /BEAM1011                  | sensitivity                 | H5I_DATASET | FLOAT   | 6155      |\n",
       "| 4476 | /BEAM1011                  | shot_number                 | H5I_DATASET | INTEGER | 6155      |\n",
       "| 4477 | /BEAM1011                  | solar_azimuth               | H5I_DATASET | FLOAT   | 6155      |\n",
       "| 4478 | /BEAM1011                  | solar_elevation             | H5I_DATASET | FLOAT   | 6155      |\n",
       "| 4479 | /BEAM1011                  | surface_flag                | H5I_DATASET | INTEGER | 6155      |\n",
       "| 4480 | /                          | METADATA                    | H5I_GROUP   | <!----> | <!----> |\n",
       "| 4481 | /METADATA                  | DatasetIdentification       | H5I_GROUP   | <!----> | <!----> |\n",
       "\n"
      ],
      "text/plain": [
       "     group                      name                         otype      \n",
       "0    /                          BEAM0000                     H5I_GROUP  \n",
       "1    /BEAM0000                  ancillary                    H5I_GROUP  \n",
       "2    /BEAM0000/ancillary        l2a_alg_count                H5I_DATASET\n",
       "3    /BEAM0000                  beam                         H5I_DATASET\n",
       "4    /BEAM0000                  channel                      H5I_DATASET\n",
       "5    /BEAM0000                  degrade_flag                 H5I_DATASET\n",
       "6    /BEAM0000                  delta_time                   H5I_DATASET\n",
       "7    /BEAM0000                  digital_elevation_model      H5I_DATASET\n",
       "8    /BEAM0000                  digital_elevation_model_srtm H5I_DATASET\n",
       "9    /BEAM0000                  elev_highestreturn           H5I_DATASET\n",
       "10   /BEAM0000                  elev_lowestmode              H5I_DATASET\n",
       "11   /BEAM0000                  elevation_bias_flag          H5I_DATASET\n",
       "12   /BEAM0000                  elevation_bin0_error         H5I_DATASET\n",
       "13   /BEAM0000                  energy_total                 H5I_DATASET\n",
       "14   /BEAM0000                  geolocation                  H5I_GROUP  \n",
       "15   /BEAM0000/geolocation      elev_highestreturn_a1        H5I_DATASET\n",
       "16   /BEAM0000/geolocation      elev_highestreturn_a2        H5I_DATASET\n",
       "17   /BEAM0000/geolocation      elev_highestreturn_a3        H5I_DATASET\n",
       "18   /BEAM0000/geolocation      elev_highestreturn_a4        H5I_DATASET\n",
       "19   /BEAM0000/geolocation      elev_highestreturn_a5        H5I_DATASET\n",
       "20   /BEAM0000/geolocation      elev_highestreturn_a6        H5I_DATASET\n",
       "21   /BEAM0000/geolocation      elev_lowestmode_a1           H5I_DATASET\n",
       "22   /BEAM0000/geolocation      elev_lowestmode_a2           H5I_DATASET\n",
       "23   /BEAM0000/geolocation      elev_lowestmode_a3           H5I_DATASET\n",
       "24   /BEAM0000/geolocation      elev_lowestmode_a4           H5I_DATASET\n",
       "25   /BEAM0000/geolocation      elev_lowestmode_a5           H5I_DATASET\n",
       "26   /BEAM0000/geolocation      elev_lowestmode_a6           H5I_DATASET\n",
       "27   /BEAM0000/geolocation      elev_lowestreturn_a1         H5I_DATASET\n",
       "28   /BEAM0000/geolocation      elev_lowestreturn_a2         H5I_DATASET\n",
       "29   /BEAM0000/geolocation      elev_lowestreturn_a3         H5I_DATASET\n",
       "⋮    ⋮                          ⋮                            ⋮          \n",
       "4452 /BEAM1011/rx_processing_a6 rx_modelocalenergy           H5I_DATASET\n",
       "4453 /BEAM1011/rx_processing_a6 rx_modelocalenergyabovemean  H5I_DATASET\n",
       "4454 /BEAM1011/rx_processing_a6 rx_modelocalslope            H5I_DATASET\n",
       "4455 /BEAM1011/rx_processing_a6 rx_modelocs                  H5I_DATASET\n",
       "4456 /BEAM1011/rx_processing_a6 rx_modewidths                H5I_DATASET\n",
       "4457 /BEAM1011/rx_processing_a6 rx_nummodes                  H5I_DATASET\n",
       "4458 /BEAM1011/rx_processing_a6 sd_sm                        H5I_DATASET\n",
       "4459 /BEAM1011/rx_processing_a6 search_end                   H5I_DATASET\n",
       "4460 /BEAM1011/rx_processing_a6 search_start                 H5I_DATASET\n",
       "4461 /BEAM1011/rx_processing_a6 selected_mode                H5I_DATASET\n",
       "4462 /BEAM1011/rx_processing_a6 selected_mode_flag           H5I_DATASET\n",
       "4463 /BEAM1011/rx_processing_a6 smoothwidth                  H5I_DATASET\n",
       "4464 /BEAM1011/rx_processing_a6 smoothwidth_zcross           H5I_DATASET\n",
       "4465 /BEAM1011/rx_processing_a6 stddev                       H5I_DATASET\n",
       "4466 /BEAM1011/rx_processing_a6 toploc                       H5I_DATASET\n",
       "4467 /BEAM1011/rx_processing_a6 toploc_miss                  H5I_DATASET\n",
       "4468 /BEAM1011/rx_processing_a6 zcross                       H5I_DATASET\n",
       "4469 /BEAM1011/rx_processing_a6 zcross0                      H5I_DATASET\n",
       "4470 /BEAM1011/rx_processing_a6 zcross_amp                   H5I_DATASET\n",
       "4471 /BEAM1011/rx_processing_a6 zcross_localenergy           H5I_DATASET\n",
       "4472 /BEAM1011                  selected_algorithm           H5I_DATASET\n",
       "4473 /BEAM1011                  selected_mode                H5I_DATASET\n",
       "4474 /BEAM1011                  selected_mode_flag           H5I_DATASET\n",
       "4475 /BEAM1011                  sensitivity                  H5I_DATASET\n",
       "4476 /BEAM1011                  shot_number                  H5I_DATASET\n",
       "4477 /BEAM1011                  solar_azimuth                H5I_DATASET\n",
       "4478 /BEAM1011                  solar_elevation              H5I_DATASET\n",
       "4479 /BEAM1011                  surface_flag                 H5I_DATASET\n",
       "4480 /                          METADATA                     H5I_GROUP  \n",
       "4481 /METADATA                  DatasetIdentification        H5I_GROUP  \n",
       "     dclass  dim      \n",
       "0                     \n",
       "1                     \n",
       "2    INTEGER 1        \n",
       "3    INTEGER 7279     \n",
       "4    INTEGER 7279     \n",
       "5    INTEGER 7279     \n",
       "6    FLOAT   7279     \n",
       "7    FLOAT   7279     \n",
       "8    FLOAT   7279     \n",
       "9    FLOAT   7279     \n",
       "10   FLOAT   7279     \n",
       "11   INTEGER 7279     \n",
       "12   FLOAT   7279     \n",
       "13   FLOAT   7279     \n",
       "14                    \n",
       "15   FLOAT   7279     \n",
       "16   FLOAT   7279     \n",
       "17   FLOAT   7279     \n",
       "18   FLOAT   7279     \n",
       "19   FLOAT   7279     \n",
       "20   FLOAT   7279     \n",
       "21   FLOAT   7279     \n",
       "22   FLOAT   7279     \n",
       "23   FLOAT   7279     \n",
       "24   FLOAT   7279     \n",
       "25   FLOAT   7279     \n",
       "26   FLOAT   7279     \n",
       "27   FLOAT   7279     \n",
       "28   FLOAT   7279     \n",
       "29   FLOAT   7279     \n",
       "⋮    ⋮       ⋮        \n",
       "4452 FLOAT   20 x 6155\n",
       "4453 FLOAT   20 x 6155\n",
       "4454 FLOAT   20 x 6155\n",
       "4455 FLOAT   20 x 6155\n",
       "4456 FLOAT   20 x 6155\n",
       "4457 INTEGER 6155     \n",
       "4458 FLOAT   6155     \n",
       "4459 FLOAT   6155     \n",
       "4460 FLOAT   6155     \n",
       "4461 INTEGER 6155     \n",
       "4462 INTEGER 6155     \n",
       "4463 FLOAT   6155     \n",
       "4464 FLOAT   6155     \n",
       "4465 FLOAT   6155     \n",
       "4466 FLOAT   6155     \n",
       "4467 INTEGER 6155     \n",
       "4468 FLOAT   6155     \n",
       "4469 FLOAT   6155     \n",
       "4470 FLOAT   6155     \n",
       "4471 FLOAT   6155     \n",
       "4472 INTEGER 6155     \n",
       "4473 INTEGER 6155     \n",
       "4474 INTEGER 6155     \n",
       "4475 FLOAT   6155     \n",
       "4476 INTEGER 6155     \n",
       "4477 FLOAT   6155     \n",
       "4478 FLOAT   6155     \n",
       "4479 INTEGER 6155     \n",
       "4480                  \n",
       "4481                  "
      ]
     },
     "metadata": {},
     "output_type": "display_data"
    }
   ],
   "source": [
    "gedi_data <- h5ls(file)\n",
    "gedi_data"
   ]
  },
  {
   "cell_type": "markdown",
   "id": "fc3f5b0e-23ca-4706-b268-d1364bdee6e4",
   "metadata": {},
   "source": [
    "We can extract the different beams associated with GEDI L2A."
   ]
  },
  {
   "cell_type": "code",
   "execution_count": 10,
   "id": "6a1f6404-c41b-4707-8324-8794a418b738",
   "metadata": {},
   "outputs": [
    {
     "name": "stdout",
     "output_type": "stream",
     "text": [
      "[1] \"BEAM0000\"\n",
      "[1] \"BEAM0001\"\n",
      "[1] \"BEAM0010\"\n",
      "[1] \"BEAM0011\"\n",
      "[1] \"BEAM0101\"\n",
      "[1] \"BEAM0110\"\n",
      "[1] \"BEAM1000\"\n",
      "[1] \"BEAM1011\"\n"
     ]
    }
   ],
   "source": [
    "for (beam in gedi_data$name) {\n",
    "  if (grepl(\"BEAM\", beam)) {\n",
    "    print(beam)}\n",
    "}"
   ]
  },
  {
   "cell_type": "markdown",
   "id": "40c4ccda-20cc-4017-bc6b-6c99d327cfb7",
   "metadata": {},
   "source": [
    "Now that we have a list of beams, we can see what data is held within each beam."
   ]
  },
  {
   "cell_type": "code",
   "execution_count": 11,
   "id": "56d6d330-e302-4559-9d30-56669a567b0d",
   "metadata": {},
   "outputs": [
    {
     "data": {
      "text/html": [
       "<table class=\"dataframe\">\n",
       "<caption>A data.frame: 10 × 5</caption>\n",
       "<thead>\n",
       "\t<tr><th></th><th scope=col>group</th><th scope=col>name</th><th scope=col>otype</th><th scope=col>dclass</th><th scope=col>dim</th></tr>\n",
       "\t<tr><th></th><th scope=col>&lt;chr&gt;</th><th scope=col>&lt;chr&gt;</th><th scope=col>&lt;chr&gt;</th><th scope=col>&lt;chr&gt;</th><th scope=col>&lt;chr&gt;</th></tr>\n",
       "</thead>\n",
       "<tbody>\n",
       "\t<tr><th scope=row>1</th><td>/BEAM0000</td><td>ancillary                   </td><td>H5I_GROUP  </td><td>       </td><td>    </td></tr>\n",
       "\t<tr><th scope=row>3</th><td>/BEAM0000</td><td>beam                        </td><td>H5I_DATASET</td><td>INTEGER</td><td>7279</td></tr>\n",
       "\t<tr><th scope=row>4</th><td>/BEAM0000</td><td>channel                     </td><td>H5I_DATASET</td><td>INTEGER</td><td>7279</td></tr>\n",
       "\t<tr><th scope=row>5</th><td>/BEAM0000</td><td>degrade_flag                </td><td>H5I_DATASET</td><td>INTEGER</td><td>7279</td></tr>\n",
       "\t<tr><th scope=row>6</th><td>/BEAM0000</td><td>delta_time                  </td><td>H5I_DATASET</td><td>FLOAT  </td><td>7279</td></tr>\n",
       "\t<tr><th scope=row>7</th><td>/BEAM0000</td><td>digital_elevation_model     </td><td>H5I_DATASET</td><td>FLOAT  </td><td>7279</td></tr>\n",
       "\t<tr><th scope=row>8</th><td>/BEAM0000</td><td>digital_elevation_model_srtm</td><td>H5I_DATASET</td><td>FLOAT  </td><td>7279</td></tr>\n",
       "\t<tr><th scope=row>9</th><td>/BEAM0000</td><td>elev_highestreturn          </td><td>H5I_DATASET</td><td>FLOAT  </td><td>7279</td></tr>\n",
       "\t<tr><th scope=row>10</th><td>/BEAM0000</td><td>elev_lowestmode             </td><td>H5I_DATASET</td><td>FLOAT  </td><td>7279</td></tr>\n",
       "\t<tr><th scope=row>11</th><td>/BEAM0000</td><td>elevation_bias_flag         </td><td>H5I_DATASET</td><td>INTEGER</td><td>7279</td></tr>\n",
       "</tbody>\n",
       "</table>\n"
      ],
      "text/latex": [
       "A data.frame: 10 × 5\n",
       "\\begin{tabular}{r|lllll}\n",
       "  & group & name & otype & dclass & dim\\\\\n",
       "  & <chr> & <chr> & <chr> & <chr> & <chr>\\\\\n",
       "\\hline\n",
       "\t1 & /BEAM0000 & ancillary                    & H5I\\_GROUP   &         &     \\\\\n",
       "\t3 & /BEAM0000 & beam                         & H5I\\_DATASET & INTEGER & 7279\\\\\n",
       "\t4 & /BEAM0000 & channel                      & H5I\\_DATASET & INTEGER & 7279\\\\\n",
       "\t5 & /BEAM0000 & degrade\\_flag                 & H5I\\_DATASET & INTEGER & 7279\\\\\n",
       "\t6 & /BEAM0000 & delta\\_time                   & H5I\\_DATASET & FLOAT   & 7279\\\\\n",
       "\t7 & /BEAM0000 & digital\\_elevation\\_model      & H5I\\_DATASET & FLOAT   & 7279\\\\\n",
       "\t8 & /BEAM0000 & digital\\_elevation\\_model\\_srtm & H5I\\_DATASET & FLOAT   & 7279\\\\\n",
       "\t9 & /BEAM0000 & elev\\_highestreturn           & H5I\\_DATASET & FLOAT   & 7279\\\\\n",
       "\t10 & /BEAM0000 & elev\\_lowestmode              & H5I\\_DATASET & FLOAT   & 7279\\\\\n",
       "\t11 & /BEAM0000 & elevation\\_bias\\_flag          & H5I\\_DATASET & INTEGER & 7279\\\\\n",
       "\\end{tabular}\n"
      ],
      "text/markdown": [
       "\n",
       "A data.frame: 10 × 5\n",
       "\n",
       "| <!--/--> | group &lt;chr&gt; | name &lt;chr&gt; | otype &lt;chr&gt; | dclass &lt;chr&gt; | dim &lt;chr&gt; |\n",
       "|---|---|---|---|---|---|\n",
       "| 1 | /BEAM0000 | ancillary                    | H5I_GROUP   | <!----> | <!----> |\n",
       "| 3 | /BEAM0000 | beam                         | H5I_DATASET | INTEGER | 7279 |\n",
       "| 4 | /BEAM0000 | channel                      | H5I_DATASET | INTEGER | 7279 |\n",
       "| 5 | /BEAM0000 | degrade_flag                 | H5I_DATASET | INTEGER | 7279 |\n",
       "| 6 | /BEAM0000 | delta_time                   | H5I_DATASET | FLOAT   | 7279 |\n",
       "| 7 | /BEAM0000 | digital_elevation_model      | H5I_DATASET | FLOAT   | 7279 |\n",
       "| 8 | /BEAM0000 | digital_elevation_model_srtm | H5I_DATASET | FLOAT   | 7279 |\n",
       "| 9 | /BEAM0000 | elev_highestreturn           | H5I_DATASET | FLOAT   | 7279 |\n",
       "| 10 | /BEAM0000 | elev_lowestmode              | H5I_DATASET | FLOAT   | 7279 |\n",
       "| 11 | /BEAM0000 | elevation_bias_flag          | H5I_DATASET | INTEGER | 7279 |\n",
       "\n"
      ],
      "text/plain": [
       "   group     name                         otype       dclass  dim \n",
       "1  /BEAM0000 ancillary                    H5I_GROUP               \n",
       "3  /BEAM0000 beam                         H5I_DATASET INTEGER 7279\n",
       "4  /BEAM0000 channel                      H5I_DATASET INTEGER 7279\n",
       "5  /BEAM0000 degrade_flag                 H5I_DATASET INTEGER 7279\n",
       "6  /BEAM0000 delta_time                   H5I_DATASET FLOAT   7279\n",
       "7  /BEAM0000 digital_elevation_model      H5I_DATASET FLOAT   7279\n",
       "8  /BEAM0000 digital_elevation_model_srtm H5I_DATASET FLOAT   7279\n",
       "9  /BEAM0000 elev_highestreturn           H5I_DATASET FLOAT   7279\n",
       "10 /BEAM0000 elev_lowestmode              H5I_DATASET FLOAT   7279\n",
       "11 /BEAM0000 elevation_bias_flag          H5I_DATASET INTEGER 7279"
      ]
     },
     "metadata": {},
     "output_type": "display_data"
    }
   ],
   "source": [
    "# print first 10 rows of dataframe\n",
    "gedi_data[gedi_data$group == \"/BEAM0000\",][1:10,]"
   ]
  },
  {
   "cell_type": "markdown",
   "id": "a549e718-65ec-4406-be32-5a047652c810",
   "metadata": {},
   "source": [
    "Let's read the data associated with specific object from our dataframe above."
   ]
  },
  {
   "cell_type": "code",
   "execution_count": 12,
   "id": "23e30a0f-dc69-41b3-9147-88f184b51da4",
   "metadata": {},
   "outputs": [
    {
     "data": {
      "text/html": [
       "<style>\n",
       ".list-inline {list-style: none; margin:0; padding: 0}\n",
       ".list-inline>li {display: inline-block}\n",
       ".list-inline>li:not(:last-child)::after {content: \"\\00b7\"; padding: 0 .5ex}\n",
       "</style>\n",
       "<ol class=list-inline><li>-2.77359927666858</li><li>-2.77338836849557</li><li>-2.77317732089534</li><li>-2.77296640807148</li><li>-2.77275562946122</li><li>-2.77254471201525</li><li>-2.77233365631047</li><li>-2.77212287222538</li><li>-2.77191194989565</li><li>-2.77170088989817</li><li>-2.77149010211337</li><li>-2.77127917705536</li><li>-2.77106811415996</li><li>-2.77085718763513</li><li>-2.77064626124335</li><li>-2.77043519760523</li><li>-2.77022427093008</li><li>-2.77000413673692</li><li>-2.76980269282395</li><li>-2.76959163095745</li></ol>\n"
      ],
      "text/latex": [
       "\\begin{enumerate*}\n",
       "\\item -2.77359927666858\n",
       "\\item -2.77338836849557\n",
       "\\item -2.77317732089534\n",
       "\\item -2.77296640807148\n",
       "\\item -2.77275562946122\n",
       "\\item -2.77254471201525\n",
       "\\item -2.77233365631047\n",
       "\\item -2.77212287222538\n",
       "\\item -2.77191194989565\n",
       "\\item -2.77170088989817\n",
       "\\item -2.77149010211337\n",
       "\\item -2.77127917705536\n",
       "\\item -2.77106811415996\n",
       "\\item -2.77085718763513\n",
       "\\item -2.77064626124335\n",
       "\\item -2.77043519760523\n",
       "\\item -2.77022427093008\n",
       "\\item -2.77000413673692\n",
       "\\item -2.76980269282395\n",
       "\\item -2.76959163095745\n",
       "\\end{enumerate*}\n"
      ],
      "text/markdown": [
       "1. -2.77359927666858\n",
       "2. -2.77338836849557\n",
       "3. -2.77317732089534\n",
       "4. -2.77296640807148\n",
       "5. -2.77275562946122\n",
       "6. -2.77254471201525\n",
       "7. -2.77233365631047\n",
       "8. -2.77212287222538\n",
       "9. -2.77191194989565\n",
       "10. -2.77170088989817\n",
       "11. -2.77149010211337\n",
       "12. -2.77127917705536\n",
       "13. -2.77106811415996\n",
       "14. -2.77085718763513\n",
       "15. -2.77064626124335\n",
       "16. -2.77043519760523\n",
       "17. -2.77022427093008\n",
       "18. -2.77000413673692\n",
       "19. -2.76980269282395\n",
       "20. -2.76959163095745\n",
       "\n",
       "\n"
      ],
      "text/plain": [
       " [1] -2.773599 -2.773388 -2.773177 -2.772966 -2.772756 -2.772545 -2.772334\n",
       " [8] -2.772123 -2.771912 -2.771701 -2.771490 -2.771279 -2.771068 -2.770857\n",
       "[15] -2.770646 -2.770435 -2.770224 -2.770004 -2.769803 -2.769592"
      ]
     },
     "metadata": {},
     "output_type": "display_data"
    }
   ],
   "source": [
    "# read first 20 values\n",
    "h5read(file, \"/BEAM0000/lat_lowestmode\")[1:20]"
   ]
  }
 ],
 "metadata": {
  "kernelspec": {
   "display_name": "R",
   "language": "R",
   "name": "ir"
  },
  "language_info": {
   "codemirror_mode": "r",
   "file_extension": ".r",
   "mimetype": "text/x-r-source",
   "name": "R",
   "pygments_lexer": "r",
   "version": "4.3.3"
  }
 },
 "nbformat": 4,
 "nbformat_minor": 5
}
