{
 "cells": [
  {
   "cell_type": "markdown",
   "id": "7cd9f447-0ffa-4655-8e78-4059687388f5",
   "metadata": {},
   "source": [
    "# GEDI Data Access \n",
    "\n",
    "Authors: Harshini Girish (UAH), Sheyenne Kirkland (UAH), Alex Mandel (DevSeed), Henry Rodman (DevSeed), Zac Deziel (DevSeed)\n",
    "\n",
    "Date: February 24, 2025\n",
    "\n",
    "Description: In this notebook, users will learn how to search for GEDI data using `maap-py`, download it, and then open it using `rhdf5`."
   ]
  },
  {
   "cell_type": "markdown",
   "id": "b7c5913a-a549-49c0-96d7-64b3b5c57972",
   "metadata": {},
   "source": [
    "## Run This Notebook\n",
    "\n",
    "To access and run this tutorial within MAAP's Algorithm Development Environment (ADE), please refer to the [\"Getting started with the MAAP\"](https://docs.maap-project.org/en/latest/getting_started/getting_started.html) section of our documentation.\n",
    "\n",
    "Disclaimer: it is highly recommended to run a tutorial within MAAP's ADE, which already includes packages specific to MAAP, such as maap-py. Running the tutorial outside of the MAAP ADE may lead to errors. Users should work within the \"R/Python\" workspace."
   ]
  },
  {
   "cell_type": "markdown",
   "id": "b3029ee9-143e-4fb9-bccd-fb2ab8fd7c46",
   "metadata": {},
   "source": [
    "## Additional Resources\n",
    "- [rhdf5](https://www.bioconductor.org/packages/release/bioc/html/rhdf5.html)\n",
    "  - The `rhdf5` package page, with installation instructions, documentation, and more.\n",
    " \n",
    "- [NASA's Operational CMR (MAAP Docs)](https://docs.maap-project.org/en/latest/technical_tutorials/search/catalog.html#nasa-s-operational-cmr) \n",
    "  - A section in the MAAP Docs offering an overview of resources to search and access NASA's CMR.\n",
    "\n",
    "- [GEDI02_A v2 Dataset Landing Page](https://lpdaac.usgs.gov/products/gedi02_av002/)\n",
    "  - Learn more about NASA's GEDI L2A dataset, which is accessed in this notebook.\n"
   ]
  },
  {
   "cell_type": "markdown",
   "id": "481f3d0b-fa32-4830-8cfd-fa5749661dcb",
   "metadata": {},
   "source": [
    "## Install and Load Required Libraries\n",
    "Let’s install and load the packages necessary for this tutorial."
   ]
  },
  {
   "cell_type": "markdown",
   "id": "9b77df27-f0fb-4944-8aa1-2396728e3b6d",
   "metadata": {},
   "source": [
    "Note: as of publishing this notebook, `rhdf5` is not yet within the MAAP workspace. Please run the following code in your terminal before proceeding.\n",
    "\n",
    "`conda install -c bioconda bioconductor-rhdf5`"
   ]
  },
  {
   "cell_type": "code",
   "execution_count": 1,
   "id": "424804c9-0236-434e-adef-57b0067e0293",
   "metadata": {},
   "outputs": [],
   "source": [
    "library(rhdf5)\n",
    "library(reticulate)"
   ]
  },
  {
   "cell_type": "markdown",
   "id": "f75c8e55-655b-4af4-8a32-e5f056451a1d",
   "metadata": {},
   "source": [
    "Let's also invoke the `MAAP` constructor. This will allow us to use the python-based `maap-py` library from R, which will be used to get credentials and conduct a NASA CMR search."
   ]
  },
  {
   "cell_type": "code",
   "execution_count": 2,
   "id": "49caadc2-6d06-4190-8a0e-0389ba10343a",
   "metadata": {},
   "outputs": [],
   "source": [
    "maap_py <- import(\"maap.maap\")\n",
    "maap <- maap_py$MAAP()"
   ]
  },
  {
   "cell_type": "markdown",
   "id": "e030f8f1-9d8a-4efd-95a9-359a9015029b",
   "metadata": {},
   "source": [
    "## Get Credentials\n",
    "\n",
    "Since we will be downloading the GEDI data, we will need temporary credentials for NASA LPDAAC."
   ]
  },
  {
   "cell_type": "code",
   "execution_count": 3,
   "id": "2e712519-fba8-4c14-8721-5836140e40a1",
   "metadata": {},
   "outputs": [],
   "source": [
    "credentials = maap$aws$earthdata_s3_credentials(\n",
    "    \"https://data.lpdaac.earthdatacloud.nasa.gov/s3credentials\"\n",
    ")\n",
    "\n",
    "s3 <- paws::s3(\n",
    "    credentials = list(\n",
    "        creds = list(\n",
    "          access_key_id = credentials[\"accessKeyId\"],\n",
    "          secret_access_key = credentials[\"secretAccessKey\"],\n",
    "          session_token = credentials[\"sessionToken\"]\n",
    "          )),\n",
    "        region = \"us-west-2\")"
   ]
  },
  {
   "cell_type": "markdown",
   "id": "8b8999df-9875-4d26-8787-67fe10a7c3f4",
   "metadata": {},
   "source": [
    "## Collection and Granule Search\n",
    "\n",
    "Using `maap-py`, we can conduct a collection and granule search for data within NASA's CMR. For this example, we'll use data available within the GEDI L2A collection. For more information on CMR searching in R, see [\"Searching for Data in NASA's CMR in R\"](https://docs.maap-project.org/en/develop/technical_tutorials/working_with_r/cmr_search_in_r.html). "
   ]
  },
  {
   "cell_type": "code",
   "execution_count": 4,
   "id": "00960e01-9d92-4cd4-8243-5a2276a50a6e",
   "metadata": {},
   "outputs": [],
   "source": [
    "# search for a GEDI collection\n",
    "gedi_collections = maap$searchCollection(\n",
    "    short_name = \"GEDI02_A\",\n",
    "    version = \"002\",\n",
    "    cmr_host = \"cmr.earthdata.nasa.gov\",\n",
    "    cloud_hosted = \"true\"\n",
    ")\n",
    "\n",
    "# get collection ID for granule search\n",
    "collection_id = gedi_collections[[1]][\"concept-id\"]\n",
    "\n",
    "# search for granules\n",
    "gedi_granules = maap$searchGranule(\n",
    "    concept_id = collection_id,\n",
    "    limit = as.integer(100),\n",
    "    cmr_host = \"cmr.earthdata.nasa.gov\"\n",
    ")"
   ]
  },
  {
   "cell_type": "markdown",
   "id": "46a5ee49-1aea-47db-b00e-84ae80d79fc8",
   "metadata": {},
   "source": [
    "Let's get the S3 URL from the first granule from our granule search."
   ]
  },
  {
   "cell_type": "code",
   "execution_count": 5,
   "id": "2af4e627-e280-4db0-ae3f-615a371c579e",
   "metadata": {},
   "outputs": [
    {
     "name": "stdout",
     "output_type": "stream",
     "text": [
      "[1] \"s3://lp-prod-protected/GEDI02_A.002/GEDI02_A_2019108002012_O01959_01_T03909_02_003_01_V002/GEDI02_A_2019108002012_O01959_01_T03909_02_003_01_V002.h5\"\n"
     ]
    }
   ],
   "source": [
    "s3_link <- gedi_granules[[1]][\"Granule\"][\"OnlineAccessURLs\"][[1]][1][\"URL\"]\n",
    "print(s3_link)"
   ]
  },
  {
   "cell_type": "markdown",
   "id": "f530a65b-390e-4423-a299-adb09cda8665",
   "metadata": {},
   "source": [
    "## Download File"
   ]
  },
  {
   "cell_type": "markdown",
   "id": "389b790c-196e-43a4-b850-341ab2557f79",
   "metadata": {},
   "source": [
    "Before downloading, lets do some prepping. First we'll create a directory to download our file to. Then from our S3 link, we can get the bucket, key, and a filename."
   ]
  },
  {
   "cell_type": "code",
   "execution_count": null,
   "id": "d27a1cb9-8f1b-4a83-a7ae-1f1647b36196",
   "metadata": {},
   "outputs": [],
   "source": [
    "# create directory\n",
    "dir.create(\"./data\")"
   ]
  },
  {
   "cell_type": "code",
   "execution_count": 7,
   "id": "9f421230-13ed-4f07-9e62-5ffe22370139",
   "metadata": {},
   "outputs": [
    {
     "data": {
      "text/html": [
       "'GEDI02_A_2019108002012_O01959_01_T03909_02_003_01_V002.h5'"
      ],
      "text/latex": [
       "'GEDI02\\_A\\_2019108002012\\_O01959\\_01\\_T03909\\_02\\_003\\_01\\_V002.h5'"
      ],
      "text/markdown": [
       "'GEDI02_A_2019108002012_O01959_01_T03909_02_003_01_V002.h5'"
      ],
      "text/plain": [
       "[1] \"GEDI02_A_2019108002012_O01959_01_T03909_02_003_01_V002.h5\""
      ]
     },
     "metadata": {},
     "output_type": "display_data"
    },
    {
     "data": {
      "text/html": [
       "'lp-prod-protected'"
      ],
      "text/latex": [
       "'lp-prod-protected'"
      ],
      "text/markdown": [
       "'lp-prod-protected'"
      ],
      "text/plain": [
       "[1] \"lp-prod-protected\""
      ]
     },
     "metadata": {},
     "output_type": "display_data"
    },
    {
     "data": {
      "text/html": [
       "'GEDI02_A.002/GEDI02_A_2019108002012_O01959_01_T03909_02_003_01_V002/GEDI02_A_2019108002012_O01959_01_T03909_02_003_01_V002.h5'"
      ],
      "text/latex": [
       "'GEDI02\\_A.002/GEDI02\\_A\\_2019108002012\\_O01959\\_01\\_T03909\\_02\\_003\\_01\\_V002/GEDI02\\_A\\_2019108002012\\_O01959\\_01\\_T03909\\_02\\_003\\_01\\_V002.h5'"
      ],
      "text/markdown": [
       "'GEDI02_A.002/GEDI02_A_2019108002012_O01959_01_T03909_02_003_01_V002/GEDI02_A_2019108002012_O01959_01_T03909_02_003_01_V002.h5'"
      ],
      "text/plain": [
       "[1] \"GEDI02_A.002/GEDI02_A_2019108002012_O01959_01_T03909_02_003_01_V002/GEDI02_A_2019108002012_O01959_01_T03909_02_003_01_V002.h5\""
      ]
     },
     "metadata": {},
     "output_type": "display_data"
    }
   ],
   "source": [
    "# create file name for download\n",
    "filename <- strsplit(s3_link, \"/\", fixed = TRUE)[[1]] |> tail(n = 1)\n",
    "filename\n",
    "\n",
    "# get bucket from file path\n",
    "bucket = strsplit(s3_link, \"/\", fixed = TRUE)[[1]] |> head(n = 3)\n",
    "bucket = bucket[3]\n",
    "bucket\n",
    "\n",
    "key <- strsplit(s3_link, \"/\", fixed = TRUE)[[1]] |> tail(n = 3)\n",
    "key <- paste(key[1], key[2], key[3], sep = \"/\")\n",
    "key"
   ]
  },
  {
   "cell_type": "markdown",
   "id": "a2a9ebf2-d5e6-4c01-9570-851541a524ab",
   "metadata": {},
   "source": [
    "Now we can download our file."
   ]
  },
  {
   "cell_type": "code",
   "execution_count": 8,
   "id": "176e33df-0b43-429d-b5d4-71344ab881d6",
   "metadata": {},
   "outputs": [],
   "source": [
    "gedi_file = s3$download_file(Bucket = bucket, Key = key, Filename = paste(\"./data\", filename))"
   ]
  },
  {
   "cell_type": "markdown",
   "id": "350ad311-0d79-42e8-aac1-c43945762cd1",
   "metadata": {},
   "source": [
    "## Access Data\n",
    "\n",
    "Now that we have our downloaded data, we can use `rhdf5` to open our file for exploration. For the purpose of this notebook, we will use \"head\" to condense our output."
   ]
  },
  {
   "cell_type": "code",
   "execution_count": 9,
   "id": "1b1c9b3e-0250-4079-ac1d-4dbfe1fef3df",
   "metadata": {},
   "outputs": [
    {
     "data": {
      "text/html": [
       "<table class=\"dataframe\">\n",
       "<caption>A data.frame: 6 × 5</caption>\n",
       "<thead>\n",
       "\t<tr><th></th><th scope=col>group</th><th scope=col>name</th><th scope=col>otype</th><th scope=col>dclass</th><th scope=col>dim</th></tr>\n",
       "\t<tr><th></th><th scope=col>&lt;chr&gt;</th><th scope=col>&lt;chr&gt;</th><th scope=col>&lt;chr&gt;</th><th scope=col>&lt;chr&gt;</th><th scope=col>&lt;chr&gt;</th></tr>\n",
       "</thead>\n",
       "<tbody>\n",
       "\t<tr><th scope=row>0</th><td>/                  </td><td>BEAM0000     </td><td>H5I_GROUP  </td><td>       </td><td>    </td></tr>\n",
       "\t<tr><th scope=row>1</th><td>/BEAM0000          </td><td>ancillary    </td><td>H5I_GROUP  </td><td>       </td><td>    </td></tr>\n",
       "\t<tr><th scope=row>2</th><td>/BEAM0000/ancillary</td><td>l2a_alg_count</td><td>H5I_DATASET</td><td>INTEGER</td><td>1   </td></tr>\n",
       "\t<tr><th scope=row>3</th><td>/BEAM0000          </td><td>beam         </td><td>H5I_DATASET</td><td>INTEGER</td><td>7279</td></tr>\n",
       "\t<tr><th scope=row>4</th><td>/BEAM0000          </td><td>channel      </td><td>H5I_DATASET</td><td>INTEGER</td><td>7279</td></tr>\n",
       "\t<tr><th scope=row>5</th><td>/BEAM0000          </td><td>degrade_flag </td><td>H5I_DATASET</td><td>INTEGER</td><td>7279</td></tr>\n",
       "</tbody>\n",
       "</table>\n"
      ],
      "text/latex": [
       "A data.frame: 6 × 5\n",
       "\\begin{tabular}{r|lllll}\n",
       "  & group & name & otype & dclass & dim\\\\\n",
       "  & <chr> & <chr> & <chr> & <chr> & <chr>\\\\\n",
       "\\hline\n",
       "\t0 & /                   & BEAM0000      & H5I\\_GROUP   &         &     \\\\\n",
       "\t1 & /BEAM0000           & ancillary     & H5I\\_GROUP   &         &     \\\\\n",
       "\t2 & /BEAM0000/ancillary & l2a\\_alg\\_count & H5I\\_DATASET & INTEGER & 1   \\\\\n",
       "\t3 & /BEAM0000           & beam          & H5I\\_DATASET & INTEGER & 7279\\\\\n",
       "\t4 & /BEAM0000           & channel       & H5I\\_DATASET & INTEGER & 7279\\\\\n",
       "\t5 & /BEAM0000           & degrade\\_flag  & H5I\\_DATASET & INTEGER & 7279\\\\\n",
       "\\end{tabular}\n"
      ],
      "text/markdown": [
       "\n",
       "A data.frame: 6 × 5\n",
       "\n",
       "| <!--/--> | group &lt;chr&gt; | name &lt;chr&gt; | otype &lt;chr&gt; | dclass &lt;chr&gt; | dim &lt;chr&gt; |\n",
       "|---|---|---|---|---|---|\n",
       "| 0 | /                   | BEAM0000      | H5I_GROUP   | <!----> | <!----> |\n",
       "| 1 | /BEAM0000           | ancillary     | H5I_GROUP   | <!----> | <!----> |\n",
       "| 2 | /BEAM0000/ancillary | l2a_alg_count | H5I_DATASET | INTEGER | 1    |\n",
       "| 3 | /BEAM0000           | beam          | H5I_DATASET | INTEGER | 7279 |\n",
       "| 4 | /BEAM0000           | channel       | H5I_DATASET | INTEGER | 7279 |\n",
       "| 5 | /BEAM0000           | degrade_flag  | H5I_DATASET | INTEGER | 7279 |\n",
       "\n"
      ],
      "text/plain": [
       "  group               name          otype       dclass  dim \n",
       "0 /                   BEAM0000      H5I_GROUP               \n",
       "1 /BEAM0000           ancillary     H5I_GROUP               \n",
       "2 /BEAM0000/ancillary l2a_alg_count H5I_DATASET INTEGER 1   \n",
       "3 /BEAM0000           beam          H5I_DATASET INTEGER 7279\n",
       "4 /BEAM0000           channel       H5I_DATASET INTEGER 7279\n",
       "5 /BEAM0000           degrade_flag  H5I_DATASET INTEGER 7279"
      ]
     },
     "metadata": {},
     "output_type": "display_data"
    }
   ],
   "source": [
    "head(h5ls(paste(\"./data\", filename)))"
   ]
  }
 ],
 "metadata": {
  "kernelspec": {
   "display_name": "R",
   "language": "R",
   "name": "ir"
  },
  "language_info": {
   "codemirror_mode": "r",
   "file_extension": ".r",
   "mimetype": "text/x-r-source",
   "name": "R",
   "pygments_lexer": "r",
   "version": "4.2.3"
  }
 },
 "nbformat": 4,
 "nbformat_minor": 5
}
