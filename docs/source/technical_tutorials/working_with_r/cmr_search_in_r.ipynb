{
 "cells": [
  {
   "cell_type": "markdown",
   "id": "9eaad1e4-f266-43c0-9176-1adbf2302b10",
   "metadata": {},
   "source": [
    "# Searching for Data in NASA's CMR in R"
   ]
  },
  {
   "cell_type": "markdown",
   "id": "18f31749-520c-4bd8-b081-46088d8838bc",
   "metadata": {},
   "source": [
    "Authors: Sheyenne Kirkland (UAH), Alex Mandel (DevSeed), Henry Rodman (DevSeed), Zac Deziel (DevSeed)\n",
    "\n",
    "Date: 11/21/24 (updated 5/5/25)\n",
    "\n",
    "Description: In this notebook, we'll demonstrate how to access data from NASA's CMR within R using `maap-py`. Users will learn how to search for collections, granules and links, then compile a list of granule IDs and links."
   ]
  },
  {
   "cell_type": "markdown",
   "id": "a5231a3b-9c51-46b1-a95c-402be1ed6f2c",
   "metadata": {},
   "source": [
    "## Run This Notebook\n",
    "\n",
    "To access and run this tutorial within MAAP's Algorithm Development Environment (ADE), please refer to the [\"Getting started with the MAAP\"](https://docs.maap-project.org/en/latest/getting_started/getting_started.html) section of our documentation.\n",
    "\n",
    "Disclaimer: it is highly recommended to run a tutorial within MAAP's ADE, which already includes packages specific to MAAP, such as maap-py. Running the tutorial outside of the MAAP ADE may lead to errors. Users should work within the \"R/Python\" workspace."
   ]
  },
  {
   "cell_type": "markdown",
   "id": "679ac1ca-673b-447c-b043-74b2942f4883",
   "metadata": {},
   "source": [
    "## Additional Resources\n",
    "\n",
    "- [R Interface to Python](https://rstudio.github.io/reticulate/)\n",
    "  - How to get started with the package `reticulate`, which is used in this notebook. This package allows us to use python-based libraries in R.\n",
    "- [Searching for Granules in NASA's Operational CMR using maap-py](https://docs.maap-project.org/en/latest/technical_tutorials/search/granules.html)\n",
    "  - The Python version of this notebook, also published in the MAAP Docs.\n",
    "- [How do I find data using R?](https://nasa-openscapes.github.io/earthdata-cloud-cookbook/how-tos/find-data/find-r.html)\n",
    "  - A resource from NASA Openscapes, showing users how to search for NASA data in R and get authentication using the package `earthdatalogin`. Additionally, it shows users how to find data stored in NASA STACs (spatio-temporal asset catalogs).\n",
    "- [Common Metadata Repository (CMR) API Documentation](https://cmr.earthdata.nasa.gov/search/site/docs/search/api.html)\n",
    "  - A resource that shows users how to search for collections and granules by parameter with the NASA CMR API.\n",
    "- [NASA's Operational CMR (MAAP Docs)](https://docs.maap-project.org/en/latest/technical_tutorials/search/catalog.html#nasa-s-operational-cmr)\n",
    "  - A section in the MAAP Docs that provides general information and resources to search and access NASA's CMR."
   ]
  },
  {
   "cell_type": "markdown",
   "id": "458e0aad-3974-44bf-b465-a4ee97bf9638",
   "metadata": {},
   "source": [
    "## Import/Install Packages\n",
    "\n",
    "Let's load the packages needed for this notebook."
   ]
  },
  {
   "cell_type": "code",
   "execution_count": 1,
   "id": "f3707d84-98e1-47f6-9f13-342785d26ba1",
   "metadata": {},
   "outputs": [],
   "source": [
    "library(reticulate) # to use maap-py python\n",
    "library(httr2) # to use federated search"
   ]
  },
  {
   "cell_type": "markdown",
   "id": "8b699c02-c6f5-4970-a084-e3a9c281cd92",
   "metadata": {},
   "source": [
    "## Search Collections\n",
    "### `maap-py`\n",
    "\n",
    "Before beginning our search, let's invoke the `MAAP` constructor. This will allow us to use the python-based `maap-py` library from R."
   ]
  },
  {
   "cell_type": "code",
   "execution_count": 2,
   "id": "2a18d16a-8216-4782-b6c4-49cbc6ab12ee",
   "metadata": {},
   "outputs": [],
   "source": [
    "maap_py <- import(\"maap.maap\")\n",
    "maap <- maap_py$MAAP()"
   ]
  },
  {
   "cell_type": "markdown",
   "id": "6ee3c039-b92d-4f44-8033-6b93ddd56ca6",
   "metadata": {},
   "source": [
    "Now let's search for a collection. The specific collection we have in mind is ATL08, so we will search for collections with that short name. Additionally, we want our data to be hosted within the cloud, so we will add the parameter `cloud_hosted=true`. If you are not sure of the version, that line can be commented out. However, we know the current version is 006."
   ]
  },
  {
   "cell_type": "code",
   "execution_count": 3,
   "id": "4a6395b4-12de-4265-bb8d-524d0cca7177",
   "metadata": {},
   "outputs": [
    {
     "data": {
      "text/html": [
       "1"
      ],
      "text/latex": [
       "1"
      ],
      "text/markdown": [
       "1"
      ],
      "text/plain": [
       "[1] 1"
      ]
     },
     "metadata": {},
     "output_type": "display_data"
    }
   ],
   "source": [
    "atl08_collections = maap$searchCollection(\n",
    "    short_name='ATL08',\n",
    "    version='006',\n",
    "    cmr_host='cmr.earthdata.nasa.gov',\n",
    "    cloud_hosted='true'\n",
    ")\n",
    "length(atl08_collections)"
   ]
  },
  {
   "cell_type": "markdown",
   "id": "03c82f60-84b7-4c62-9916-e66012a336e3",
   "metadata": {},
   "source": [
    "One collection was returned to us. To grab the concept ID of the collection, we'll use the code in the following cell."
   ]
  },
  {
   "cell_type": "code",
   "execution_count": 4,
   "id": "fd33b15f-6abf-49e7-99de-0b46720d7dd1",
   "metadata": {},
   "outputs": [
    {
     "name": "stdout",
     "output_type": "stream",
     "text": [
      "[1] \"C2613553260-NSIDC_CPRD\"\n"
     ]
    }
   ],
   "source": [
    "collection_id = atl08_collections[[1]]['concept-id']\n",
    "print(collection_id)"
   ]
  },
  {
   "cell_type": "markdown",
   "id": "cff7f8b0-000e-40c1-a91c-425bb5918cd5",
   "metadata": {},
   "source": [
    "### Federated Search\n",
    "\n",
    "If you do not know the short name or ID for a collection, you can also search for collections by keyword. While `maap-py` can be used for a keyword search, `maap-py` only searches within NASA Earthdata. This demonstration will use [Federated Search](https://discover.maap-project.org/), which searches NASA Earthdata, MAAP, ESA, and VEDA.\n",
    "\n",
    "For more information on Federated Search in Python, please see [\"BETA - Collection Discovery: searching for collections across multiple APIs using the Federated Collection Discovery API\"](https://docs.maap-project.org/en/latest/technical_tutorials/search/collection_discovery.html#Federated-Collection-Discovery-API).\n",
    "\n",
    "First, we'll set our API URL."
   ]
  },
  {
   "cell_type": "code",
   "execution_count": 5,
   "id": "9958293e-0ee7-4b80-a105-d4aafe04b103",
   "metadata": {},
   "outputs": [],
   "source": [
    "API_URL = \"https://discover-api.maap-project.org\""
   ]
  },
  {
   "cell_type": "markdown",
   "id": "40a641ef-54f3-41bb-a5dc-ecd6ceff79d2",
   "metadata": {},
   "source": [
    "In the following cell, we'll perform our keyword search and print the results. `q` is the parameter for a free-text search, where we will include all desired keywords. For this example, we'll use \"atlas\" and \"vegetation height\"."
   ]
  },
  {
   "cell_type": "code",
   "execution_count": 6,
   "id": "ae36f884-0ab6-496a-aaec-88172de46fc2",
   "metadata": {},
   "outputs": [
    {
     "data": {
      "text/html": [
       "'7 collections matched your search results'"
      ],
      "text/latex": [
       "'7 collections matched your search results'"
      ],
      "text/markdown": [
       "'7 collections matched your search results'"
      ],
      "text/plain": [
       "[1] \"7 collections matched your search results\""
      ]
     },
     "metadata": {},
     "output_type": "display_data"
    },
    {
     "data": {
      "text/html": [
       "<table class=\"dataframe\">\n",
       "<caption>A data.frame: 7 × 3</caption>\n",
       "<thead>\n",
       "\t<tr><th scope=col>id</th><th scope=col>catalog_url</th><th scope=col>title</th></tr>\n",
       "\t<tr><th scope=col>&lt;list&gt;</th><th scope=col>&lt;list&gt;</th><th scope=col>&lt;list&gt;</th></tr>\n",
       "</thead>\n",
       "<tbody>\n",
       "\t<tr><td>C2565090645-NSIDC_ECS</td><td>https://cmr.earthdata.nasa.gov/search/</td><td>ATLAS/ICESat-2 L3A Land and Vegetation Height V006</td></tr>\n",
       "\t<tr><td>C2613553260-NSIDC_CPRD</td><td>https://cmr.earthdata.nasa.gov/search/</td><td>ATLAS/ICESat-2 L3A Land and Vegetation Height V006</td></tr>\n",
       "\t<tr><td>C2548345108-NSIDC_ECS</td><td>https://cmr.earthdata.nasa.gov/search/</td><td>ATLAS/ICESat-2 L3A Land and Vegetation Height Quick Look V006</td></tr>\n",
       "\t<tr><td>C2231554508-CEOS_EXTRA</td><td>https://cmr.earthdata.nasa.gov/search/</td><td>Environmental Atlas of the Lake Pontchartrain Basin</td></tr>\n",
       "\t<tr><td>C2889522012-ORNL_CLOUD</td><td>https://cmr.earthdata.nasa.gov/search/</td><td>Global Vegetation Height Metrics from GEDI and ICESat2</td></tr>\n",
       "\t<tr><td>C2756296671-ORNL_CLOUD</td><td>https://cmr.earthdata.nasa.gov/search/</td><td>Global Forest Aboveground Carbon Stocks and Fluxes from GEDI and ICESat-2, 2018-2021</td></tr>\n",
       "\t<tr><td>C2854721666-NSIDC_ECS</td><td>https://cmr.earthdata.nasa.gov/search/</td><td>ICESat-2 Derived 30 m Along-Track Boreal Aboveground Biomass Density V001</td></tr>\n",
       "</tbody>\n",
       "</table>\n"
      ],
      "text/latex": [
       "A data.frame: 7 × 3\n",
       "\\begin{tabular}{lll}\n",
       " id & catalog\\_url & title\\\\\n",
       " <list> & <list> & <list>\\\\\n",
       "\\hline\n",
       "\t C2565090645-NSIDC\\_ECS & https://cmr.earthdata.nasa.gov/search/ & ATLAS/ICESat-2 L3A Land and Vegetation Height V006\\\\\n",
       "\t C2613553260-NSIDC\\_CPRD & https://cmr.earthdata.nasa.gov/search/ & ATLAS/ICESat-2 L3A Land and Vegetation Height V006\\\\\n",
       "\t C2548345108-NSIDC\\_ECS & https://cmr.earthdata.nasa.gov/search/ & ATLAS/ICESat-2 L3A Land and Vegetation Height Quick Look V006\\\\\n",
       "\t C2231554508-CEOS\\_EXTRA & https://cmr.earthdata.nasa.gov/search/ & Environmental Atlas of the Lake Pontchartrain Basin\\\\\n",
       "\t C2889522012-ORNL\\_CLOUD & https://cmr.earthdata.nasa.gov/search/ & Global Vegetation Height Metrics from GEDI and ICESat2\\\\\n",
       "\t C2756296671-ORNL\\_CLOUD & https://cmr.earthdata.nasa.gov/search/ & Global Forest Aboveground Carbon Stocks and Fluxes from GEDI and ICESat-2, 2018-2021\\\\\n",
       "\t C2854721666-NSIDC\\_ECS & https://cmr.earthdata.nasa.gov/search/ & ICESat-2 Derived 30 m Along-Track Boreal Aboveground Biomass Density V001\\\\\n",
       "\\end{tabular}\n"
      ],
      "text/markdown": [
       "\n",
       "A data.frame: 7 × 3\n",
       "\n",
       "| id &lt;list&gt; | catalog_url &lt;list&gt; | title &lt;list&gt; |\n",
       "|---|---|---|\n",
       "| C2565090645-NSIDC_ECS | https://cmr.earthdata.nasa.gov/search/ | ATLAS/ICESat-2 L3A Land and Vegetation Height V006 |\n",
       "| C2613553260-NSIDC_CPRD | https://cmr.earthdata.nasa.gov/search/ | ATLAS/ICESat-2 L3A Land and Vegetation Height V006 |\n",
       "| C2548345108-NSIDC_ECS | https://cmr.earthdata.nasa.gov/search/ | ATLAS/ICESat-2 L3A Land and Vegetation Height Quick Look V006 |\n",
       "| C2231554508-CEOS_EXTRA | https://cmr.earthdata.nasa.gov/search/ | Environmental Atlas of the Lake Pontchartrain Basin |\n",
       "| C2889522012-ORNL_CLOUD | https://cmr.earthdata.nasa.gov/search/ | Global Vegetation Height Metrics from GEDI and ICESat2 |\n",
       "| C2756296671-ORNL_CLOUD | https://cmr.earthdata.nasa.gov/search/ | Global Forest Aboveground Carbon Stocks and Fluxes from GEDI and ICESat-2, 2018-2021 |\n",
       "| C2854721666-NSIDC_ECS | https://cmr.earthdata.nasa.gov/search/ | ICESat-2 Derived 30 m Along-Track Boreal Aboveground Biomass Density V001 |\n",
       "\n"
      ],
      "text/plain": [
       "  id                     catalog_url                           \n",
       "1 C2565090645-NSIDC_ECS  https://cmr.earthdata.nasa.gov/search/\n",
       "2 C2613553260-NSIDC_CPRD https://cmr.earthdata.nasa.gov/search/\n",
       "3 C2548345108-NSIDC_ECS  https://cmr.earthdata.nasa.gov/search/\n",
       "4 C2231554508-CEOS_EXTRA https://cmr.earthdata.nasa.gov/search/\n",
       "5 C2889522012-ORNL_CLOUD https://cmr.earthdata.nasa.gov/search/\n",
       "6 C2756296671-ORNL_CLOUD https://cmr.earthdata.nasa.gov/search/\n",
       "7 C2854721666-NSIDC_ECS  https://cmr.earthdata.nasa.gov/search/\n",
       "  title                                                                               \n",
       "1 ATLAS/ICESat-2 L3A Land and Vegetation Height V006                                  \n",
       "2 ATLAS/ICESat-2 L3A Land and Vegetation Height V006                                  \n",
       "3 ATLAS/ICESat-2 L3A Land and Vegetation Height Quick Look V006                       \n",
       "4 Environmental Atlas of the Lake Pontchartrain Basin                                 \n",
       "5 Global Vegetation Height Metrics from GEDI and ICESat2                              \n",
       "6 Global Forest Aboveground Carbon Stocks and Fluxes from GEDI and ICESat-2, 2018-2021\n",
       "7 ICESat-2 Derived 30 m Along-Track Boreal Aboveground Biomass Density V001           "
      ]
     },
     "metadata": {},
     "output_type": "display_data"
    }
   ],
   "source": [
    "collection_search <- request(sprintf(\"%s/search\", API_URL))  |>\n",
    "    req_url_query(\"q\" = paste(\"atlas\", \"vegetation height\")) |>\n",
    "    req_perform()\n",
    "\n",
    "search_results <- resp_body_json(collection_search)$results\n",
    "result_total <- length(search_results)\n",
    "\n",
    "sprintf(\"%s collections matched your search results\", result_total)\n",
    "\n",
    "df <- data.frame(t(sapply(search_results, c)))\n",
    "df[c(\"id\", \"catalog_url\", \"title\")] "
   ]
  },
  {
   "cell_type": "markdown",
   "id": "fc7a9bb3-0c5e-4371-94b4-363dc52c989e",
   "metadata": {},
   "source": [
    "The second result matches the collection ID for the cloud-hosted version of ATL08 v006."
   ]
  },
  {
   "cell_type": "code",
   "execution_count": 7,
   "id": "0d44e87b-03f4-4d8e-80a3-b4ed027b5123",
   "metadata": {},
   "outputs": [
    {
     "data": {
      "text/html": [
       "'C2613553260-NSIDC_CPRD'"
      ],
      "text/latex": [
       "'C2613553260-NSIDC\\_CPRD'"
      ],
      "text/markdown": [
       "'C2613553260-NSIDC_CPRD'"
      ],
      "text/plain": [
       "[1] \"C2613553260-NSIDC_CPRD\""
      ]
     },
     "metadata": {},
     "output_type": "display_data"
    }
   ],
   "source": [
    "# get collection ID for second result\n",
    "collection_id = unlist(df[2, \"id\"])\n",
    "collection_id"
   ]
  },
  {
   "cell_type": "markdown",
   "id": "8970cac9-f13c-402a-8c6e-43b911ca8172",
   "metadata": {},
   "source": [
    "## Search Granules\n",
    "### Temporal Extent\n",
    "\n",
    "Now that we have our collection ID, let's search for granules within the collection. We'll also add a temporal filter to our search. If you would like to search for granules without the temporal filter, simply comment out or remove the `temporal=date_range` line."
   ]
  },
  {
   "cell_type": "code",
   "execution_count": 8,
   "id": "e1a3efe2-2aaf-4bf6-b642-29a9dc8354a8",
   "metadata": {},
   "outputs": [
    {
     "data": {
      "text/html": [
       "100"
      ],
      "text/latex": [
       "100"
      ],
      "text/markdown": [
       "100"
      ],
      "text/plain": [
       "[1] 100"
      ]
     },
     "metadata": {},
     "output_type": "display_data"
    }
   ],
   "source": [
    "date_range <- '2018-12-01T00:00:00Z,2018-12-31T23:59:59Z'\n",
    "\n",
    "results = maap$searchGranule(\n",
    "    temporal=date_range,\n",
    "    concept_id=collection_id,\n",
    "    limit=as.integer(100),\n",
    "    cmr_host='cmr.earthdata.nasa.gov'\n",
    ")\n",
    "length(results)"
   ]
  },
  {
   "cell_type": "markdown",
   "id": "aa58b34c-f6cb-4701-8eb6-fb6ffe509233",
   "metadata": {},
   "source": [
    "100 results were returned. There are thousands of granules within this date range, but because we set our limit to 100, we only get 100 back."
   ]
  },
  {
   "cell_type": "markdown",
   "id": "19d50a56-974e-4809-ae4d-53b9b809e15e",
   "metadata": {},
   "source": [
    "### Spatial Extent\n",
    "\n",
    "Another filter we can apply is a spatial filter."
   ]
  },
  {
   "cell_type": "code",
   "execution_count": 9,
   "id": "d3598619-01ed-43b5-a71d-346d52a1a0a0",
   "metadata": {},
   "outputs": [
    {
     "data": {
      "text/html": [
       "43"
      ],
      "text/latex": [
       "43"
      ],
      "text/markdown": [
       "43"
      ],
      "text/plain": [
       "[1] 43"
      ]
     },
     "metadata": {},
     "output_type": "display_data"
    }
   ],
   "source": [
    "collection_id = 'C2763266360-LPCLOUD'\n",
    "granule_bbox = '8.79799563969,-3.97882659263,14.4254557634,2.32675751384' # specify bounding box to search by\n",
    "\n",
    "results = maap$searchGranule(\n",
    "    concept_id=collection_id,\n",
    "    bounding_box=granule_bbox,\n",
    "    limit=as.integer(100),\n",
    "    cmr_host=\"cmr.earthdata.nasa.gov\"\n",
    ")\n",
    "length(results)"
   ]
  },
  {
   "cell_type": "markdown",
   "id": "83be1af8-5655-41b4-b250-8a6d30ab3b54",
   "metadata": {},
   "source": [
    "43 granules in the collection fell within our specified bounding coordinates. Let's grab the granule file name and the geometry."
   ]
  },
  {
   "cell_type": "code",
   "execution_count": 10,
   "id": "4a862d2c-1b94-415a-926b-728b79133dec",
   "metadata": {},
   "outputs": [
    {
     "name": "stdout",
     "output_type": "stream",
     "text": [
      "[1] \"N00E013.SRTMGL1.hgt\"\n",
      "{'BoundingRectangle': {'WestBoundingCoordinate': '12.99972222', 'NorthBoundingCoordinate': '1.00027778', 'EastBoundingCoordinate': '14.00027778', 'SouthBoundingCoordinate': '-0.00027778'}}\n"
     ]
    }
   ],
   "source": [
    "granule_filename = results[[1]]['Granule']['DataGranule']['ProducerGranuleId']\n",
    "print(granule_filename)\n",
    "\n",
    "geometry = results[[1]]['Granule']['Spatial']['HorizontalSpatialDomain']['Geometry']\n",
    "print(geometry)"
   ]
  },
  {
   "cell_type": "markdown",
   "id": "e6ac0269-5ff3-4af8-9c4d-4563d654e30c",
   "metadata": {},
   "source": [
    "## Granule Link Search\n",
    "\n",
    "After searching for your desired granule(s), you can also find the links for data access. "
   ]
  },
  {
   "cell_type": "code",
   "execution_count": 11,
   "id": "5cbb1edc-fc1d-43f9-ba2c-6d267e106dcb",
   "metadata": {},
   "outputs": [
    {
     "name": "stdout",
     "output_type": "stream",
     "text": [
      "[{'URL': 'https://data.lpdaac.earthdatacloud.nasa.gov/lp-prod-protected/SRTMGL1.003/N00E013.SRTMGL1.hgt/N00E013.SRTMGL1.hgt.zip', 'URLDescription': 'Download N00E013.SRTMGL1.hgt.zip'}, {'URL': 's3://lp-prod-protected/SRTMGL1.003/N00E013.SRTMGL1.hgt/N00E013.SRTMGL1.hgt.zip', 'URLDescription': 'This link provides direct download access via S3 to the granule'}]\n"
     ]
    }
   ],
   "source": [
    "granule_link = results[[1]]['Granule']['OnlineAccessURLs'][[1]]\n",
    "print(granule_link)"
   ]
  },
  {
   "cell_type": "markdown",
   "id": "f2522d8c-957b-40ea-8f87-f260836c22d9",
   "metadata": {},
   "source": [
    "Notice we have two links - one is https, and the other is S3. Let's pull both URLs associated with this granule. "
   ]
  },
  {
   "cell_type": "code",
   "execution_count": 12,
   "id": "cfb13926-94d1-4dee-9636-47840dc19d70",
   "metadata": {},
   "outputs": [
    {
     "name": "stdout",
     "output_type": "stream",
     "text": [
      "[1] \"https://data.lpdaac.earthdatacloud.nasa.gov/lp-prod-protected/SRTMGL1.003/N00E013.SRTMGL1.hgt/N00E013.SRTMGL1.hgt.zip\"\n",
      "[1] \"s3://lp-prod-protected/SRTMGL1.003/N00E013.SRTMGL1.hgt/N00E013.SRTMGL1.hgt.zip\"\n"
     ]
    }
   ],
   "source": [
    "granule_https <- granule_link[0]['URL']\n",
    "granule_s3 <- granule_link[1]['URL']\n",
    "\n",
    "print(granule_https)\n",
    "print(granule_s3)"
   ]
  },
  {
   "cell_type": "markdown",
   "id": "4626c4d0-213a-498a-b05e-84fd3837a016",
   "metadata": {},
   "source": [
    "## Granule ID List\n",
    "\n",
    "If you need multiple granules, you can also compile a list with multiple granule IDs from our search results."
   ]
  },
  {
   "cell_type": "code",
   "execution_count": 13,
   "id": "adc8a877-ebe1-4de5-ac74-b06ca3574136",
   "metadata": {},
   "outputs": [
    {
     "name": "stdout",
     "output_type": "stream",
     "text": [
      "[1] \"G2821018750-LPCLOUD\" \"G2821036920-LPCLOUD\" \"G2821037023-LPCLOUD\"\n",
      "[4] \"G2821037092-LPCLOUD\" \"G2821037143-LPCLOUD\"\n"
     ]
    }
   ],
   "source": [
    "granule_list <- c()\n",
    "\n",
    "for (result in results) {\n",
    "    granule_list <- c(granule_list, (result['concept-id']))\n",
    "}\n",
    "\n",
    "print(granule_list[1:5])"
   ]
  },
  {
   "cell_type": "markdown",
   "id": "81adf5d2-8a2d-4095-a8f5-c75ddf8df924",
   "metadata": {},
   "source": [
    "## Granule Link List\n",
    "\n",
    "Similarly, let's create a list of links to the granules. For this example, we'll just compile a list of S3 URLs."
   ]
  },
  {
   "cell_type": "code",
   "execution_count": 14,
   "id": "b22ab765-b82a-4601-9678-ba4d5cdb73ef",
   "metadata": {},
   "outputs": [
    {
     "name": "stdout",
     "output_type": "stream",
     "text": [
      "[1] \"s3://lp-prod-protected/SRTMGL1.003/N00E013.SRTMGL1.hgt/N00E013.SRTMGL1.hgt.zip\"\n",
      "[2] \"s3://lp-prod-protected/SRTMGL1.003/N02E011.SRTMGL1.hgt/N02E011.SRTMGL1.hgt.zip\"\n",
      "[3] \"s3://lp-prod-protected/SRTMGL1.003/N02E010.SRTMGL1.hgt/N02E010.SRTMGL1.hgt.zip\"\n",
      "[4] \"s3://lp-prod-protected/SRTMGL1.003/N01E014.SRTMGL1.hgt/N01E014.SRTMGL1.hgt.zip\"\n",
      "[5] \"s3://lp-prod-protected/SRTMGL1.003/N02E012.SRTMGL1.hgt/N02E012.SRTMGL1.hgt.zip\"\n"
     ]
    }
   ],
   "source": [
    "link_list <- c()\n",
    "\n",
    "for (result in results) {\n",
    "    link_list <- c(link_list, (result['Granule']['OnlineAccessURLs'][[1]][1]['URL']))\n",
    "}\n",
    "\n",
    "print(link_list[1:5])"
   ]
  }
 ],
 "metadata": {
  "kernelspec": {
   "display_name": "R",
   "language": "R",
   "name": "ir"
  },
  "language_info": {
   "codemirror_mode": "r",
   "file_extension": ".r",
   "mimetype": "text/x-r-source",
   "name": "R",
   "pygments_lexer": "r",
   "version": "4.3.3"
  }
 },
 "nbformat": 4,
 "nbformat_minor": 5
}
