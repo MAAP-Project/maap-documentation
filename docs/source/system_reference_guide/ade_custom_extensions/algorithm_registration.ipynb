{
 "cells": [
  {
   "cell_type": "markdown",
   "id": "31cdd027-e7ba-49dc-925c-05adbfe4f2a6",
   "metadata": {},
   "source": [
    "# Algorithm Registration UI\n",
    "The algorithm registration UI allows users to register algorithms stored in their public code repositories to the MAAP so the algorithms can then be used to run jobs on the MAAP."
   ]
  },
  {
   "cell_type": "markdown",
   "id": "af04f513-8e0d-4825-9743-3f4be61a60cf",
   "metadata": {},
   "source": [
    "## Access\n",
    "1. Open your workspace\n",
    "2. Click the __Register Algorithm__ button from the launcher menu.\n",
    "\n",
    "![](../../_static/algo_reg/algo_reg_access.png)"
   ]
  },
  {
   "cell_type": "markdown",
   "id": "db6cf90e-b313-4dc1-beba-088c4a8fc801",
   "metadata": {},
   "source": [
    "## Register an Algorithm\n",
    "1. Open the __Register Algorithm__ UI.\n",
    "2. Fill out the fields describing general information about the algorithm. This includes things like the repository the algorithm is stored in, the repository branch (also refered to as the version of the algorithm), the command to execute the algorithm, etc.\n",
    "\n",
    "![](../../_static/algo_reg/algo_reg_reg_general.png)\n",
    "\n",
    "3. Fill out the algorithm inputs. To add a new input, click the green plus circle. To remove an input click the red x circle.\n",
    "\n",
    "![](../../_static/algo_reg/algo_reg_reg_inputs.png)\n",
    "\n",
    "4. Once all information is filled out, click the __Register Algorithm__ button at the bottom of the form. After a few seconds, a modal will appear with the link to the registration job that was just submitted. Users can navigate to this link to access the registration logs and confirm their algorithm was registered successfully.\n",
    "\n",
    "![](../../_static/algo_reg/algo_reg_reg_ci.png)"
   ]
  }
 ],
 "metadata": {
  "kernelspec": {
   "display_name": "Python 3 (ipykernel)",
   "language": "python",
   "name": "python3"
  },
  "language_info": {
   "codemirror_mode": {
    "name": "ipython",
    "version": 3
   },
   "file_extension": ".py",
   "mimetype": "text/x-python",
   "name": "python",
   "nbconvert_exporter": "python",
   "pygments_lexer": "ipython3",
   "version": "3.11.4"
  }
 },
 "nbformat": 4,
 "nbformat_minor": 5
}