{
 "cells": [
  {
   "cell_type": "markdown",
   "metadata": {},
   "source": [
    "# Maap Help Jupyter Extension\n",
    "This Jupyter extension provides an interactive tutorial on a new user's first launch of the ADE and adds MAAP specific information to the help tab. The interactive tutorial can be accessed again from the help menu. "
   ]
  },
  {
   "cell_type": "markdown",
   "metadata": {},
   "source": [
    "## Interactive Tour \n",
    "1. Launch the ADE for your first time as a new user, and see the MAAP tour notification \n",
    "\n",
    "![](../../_static/maap_help/tour_notification.png)\n",
    "\n",
    "2. Step through the tour with the \"Next\" button. \n",
    "\n",
    "![](../../_static/maap_help/tour_intro.png)\n",
    "\n",
    "3. The MAAP tour will no longer appear on launch if you a) finish the tour, b) press skip during the tour, or c) press \"Don't show me again.\" You can revisit the MAAP tour by selecting it from the help menu. \n",
    "\n",
    "## MAAP Help Menu\n",
    "Options show MAAP specific help information along with default JupyterLab help information. \n",
    "\n",
    "![](../../_static/maap_help/help_menu.png)"
   ]
  }
 ],
 "metadata": {
  "kernelspec": {
   "display_name": "Python 3.11.1 64-bit",
   "language": "python",
   "name": "python3"
  },
  "language_info": {
   "name": "python",
   "version": "3.11.1"
  },
  "orig_nbformat": 4,
  "vscode": {
   "interpreter": {
    "hash": "5c7b89af1651d0b8571dde13640ecdccf7d5a6204171d6ab33e7c296e100e08a"
   }
  }
 },
 "nbformat": 4,
 "nbformat_minor": 2
}
