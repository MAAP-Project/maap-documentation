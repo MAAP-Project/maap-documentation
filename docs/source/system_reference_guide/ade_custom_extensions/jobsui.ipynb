{
 "cells": [
  {
   "cell_type": "markdown",
   "id": "cf2fa006-7f2d-407f-8490-2435b36fa55c",
   "metadata": {},
   "source": [
    "# Jobs UI\n",
    "\n",
    "The Jobs UI allows users to submit and view DPS jobs from their Jupyter workspace. Users can monitor job status, access generated products, view errors, and view other job metadata."
   ]
  },
  {
   "cell_type": "markdown",
   "id": "db3a214d-4c06-426e-a00c-1ffc8fec73b2",
   "metadata": {},
   "source": [
    "## Access\n",
    "\n",
    "1. From your workspace click on the __View & Submit Jobs__ card on the launcher tab.\n",
    "\n",
    "![job_ui_access](../../_static/jobs_ui_access.png)\n"
   ]
  },
  {
   "cell_type": "markdown",
   "id": "9c8fe4fc-170f-498c-a796-4c95e558e739",
   "metadata": {},
   "source": [
    "## View Jobs\n",
    "\n",
    "The __View__ pane lists all the jobs submitted by the user. The top table shows only a few key fields. Users can click on any row to view detailed data for the selected job such as inputs, outputs generated, and errors produced if the job failed to complete successfully.\n",
    "\n",
    "Users can sort jobs by queued, start, and end time in ascending/descending order. Users may use the search bar to filter the job list down to jobs containing the user-provided string in any of the fields shown.  \n",
    "\n",
    "![jobs_ui_overview](../../_static/jobs_ui_overview.png)\n"
   ]
  },
  {
   "cell_type": "markdown",
   "id": "12d97e53-edc1-469f-8387-860571be53fc",
   "metadata": {},
   "source": [
    "## Submit Jobs\n",
    "\n",
    "Users can submit individual jobs from the __Submit__ pane. The following are the minimum requirements for submitting a job:\n",
    "\n",
    "1. Select an algorithm from the dropdown menu. Note: only registered algorithms will be shown.\n",
    "2. Provide a tag that may then be used to easily search for and identify the submitted job.\n",
    "3. Select the resource to use for algorithm execution.\n",
    "\n",
    "![jobs_ui_submit](../../_static/jobs_ui_submit.png)\n",
    "\n",
    "Algorithms may contain additional inputs that users may have to provide.\n",
    "\n",
    "![jobs_ui_submit_detail](../../_static/jobs_ui_submit_detail.png)\n",
    "\n",
    "Once all inputs have been provided, the user may click __Submit Job__ to submit the job. If the job was submitted successfully, a toast will appear in the bottom right corner containing the unique job id.\n",
    "\n",
    "![jobs_ui_submit_toast](../../_static/jobs_ui_submit_toast.png)\n",
    "\n",
    "If the job failed to submit, a toast will appear indicating the job failed to submit.\n",
    "\n",
    "![jobs_ui_failed_toast](../../_static/jobs_ui_failed_toast.png)"
   ]
  },
  {
   "cell_type": "markdown",
   "id": "bc245e99-f531-4bcb-b504-c67d40352c29",
   "metadata": {},
   "source": [
    "## Generate Job Submission Command\n",
    "\n",
    "Users may fill out the job submission form and - instead of submitting the job - click the __Copy Jupyter Notebook Code__ button to copy the __maap-py__ job submission command to their clipboard to then paste it into a Jupyter notebook.\n",
    "\n",
    "![jobs_ui_copy_code](../../_static/jobs_ui_copy_code.png)"
   ]
  }
 ],
 "metadata": {
  "kernelspec": {
   "display_name": "Python 3",
   "language": "python",
   "name": "python3"
  },
  "language_info": {
   "codemirror_mode": {
    "name": "ipython",
    "version": 3
   },
   "file_extension": ".py",
   "mimetype": "text/x-python",
   "name": "python",
   "nbconvert_exporter": "python",
   "pygments_lexer": "ipython3",
   "version": "3.9.1"
  }
 },
 "nbformat": 4,
 "nbformat_minor": 5
}
