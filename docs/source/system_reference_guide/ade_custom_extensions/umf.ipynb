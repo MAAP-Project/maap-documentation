{
 "metadata": {
  "language_info": {
   "codemirror_mode": {
    "name": "ipython",
    "version": 3
   },
   "file_extension": ".py",
   "mimetype": "text/x-python",
   "name": "python",
   "nbconvert_exporter": "python",
   "pygments_lexer": "ipython3",
   "version": 3
  },
  "orig_nbformat": 2
 },
 "nbformat": 4,
 "nbformat_minor": 2,
 "cells": [
  {
   "source": [
    "# User Metadata Form\n",
    "\n",
    "This extension allows users to easily access the __MAAP User Shared Data Questionnaire__.\n",
    "\n",
    "## Access\n",
    "\n",
    "1. From your workspace, click on the command icon on the left ribbon menu and scroll down to the Metadata section.\n",
    "\n",
    "![](../../_static/user_metadata_form/umf_open.png)\n",
    "\n",
    "2. Click on __Open User Metadata Form__ to be redirected to the shared-data questionnaire in a new window."
   ],
   "cell_type": "markdown",
   "metadata": {}
  }
 ]
}