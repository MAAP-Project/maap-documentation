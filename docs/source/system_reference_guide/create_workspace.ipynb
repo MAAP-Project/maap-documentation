{
 "cells": [
  {
   "cell_type": "markdown",
   "metadata": {},
   "source": [
    "# Workspace Creation and Set-up\n",
    "## Create a Basic Workspace\n",
    "Navigate to the side panel tab `Workspaces` and click `Add Workspace`. On the Get Started tab, you can select a Stack (pre-set environment) to get started quickly. \n",
    "\n",
    "To see what each Stack has pre-installed, check the Github repo (https://github.com/MAAP-Project/maap-workspaces/tree/main/base_images) and look at the Dockerfiles. Currently there is not a better way to reliably understand what is in each.\n",
    "\n",
    "To customize your Workspace after creating it, you can use conda. Further documentation on how to do this is in the [Environments section](custom-environments.ipynb) of this documentation.\n",
    "\n",
    "![create workspace basic](../_static/create_workspace_basic.png)\n",
    "\n",
    "If you would like a more customized approach, on the Custom Workspace tab you can name your workspace, select the storage type, and select a devfile template from available stacks or upload your own devfile. \n",
    "\n",
    "![create workspace advanced](../_static/create_workspace_advanced.png)\n",
    "\n",
    "## Upgrading an Existing Workspace\n",
    "As improvements to workspaces are rolled out there are two main ways to upgrade your experience:\n",
    "\n",
    "1. Create a new workspace with the latest version of Stack that you are using.\n",
    "2. Edit the Workspace Devfile by going to the Workspaces section on the left-side blue-panel and selecting the gear icon (Configure workspace) for the Workspace that you wish to update. Then choose the Devfile tab. Update the \"image\" setting to the version of Workspace you would like to use and press Apply in the lower right——note that this will stop and restart the Workspace. If you are not sure which version of workspace to use, check the options by browsing the [Container Registry](https://repo.maap-project.org/root/maap-workspaces/container_registry).\n",
    "\n",
    "![Configure the workspace](../_static/config_workspace.png)\n",
    "![Update the version of image you are using](../_static/config_workspace_version.png)\n",
    "\n",
    "\n",
    "## Advanced Creation: Alter the Workspace Memory Limit\n",
    "Here, you can edit the devfile under `containers/jupyter/resources/limits/memory` to alter the memory limit for your workspace. \n",
    "\n",
    "![create workspace memory](../_static/create_workspace_memory.png)\n",
    "\n",
    "If you want to edit the devfile or your workspace's memory limit after its creation, just click on the `Workspaces` side panel tab, then the workspace, then the Devfile tab at the top of the page. \n",
    "\n",
    "**DISCLAIMER:** MAAP might change the way that we do workspace memory limits in the future, including restricting the memory that a user can allocate for their workspace. For now, as a courtesy to other users only increase the memory limit if your kernel keeps running out of memory and crashing. If you're not sure why your kernel is crashing after increasing your workspace's memory limit, please contact the development team. We recommend using a memory limit of 16GB (which means altering the devfile to `memory: 15258Mi`). "
   ]
  },
  {
   "cell_type": "markdown",
   "metadata": {},
   "source": [
    "## Rename a Workspace\n",
    "\n",
    "### Option 1: At Workspace Creation \n",
    "You can replace the auto-generated workspace name during creation via the Custom Workspace option. \n",
    "\n",
    " ![workspace name creation](../_static/faq_images/workspace_name_creation.png) \n",
    " \n",
    "### Option 2: Edit Existing Workspace \n",
    "1. In the workspaces tab under the Che side panel, select the workspace you want to rename.\n",
    "\n",
    " ![workspace name existing 1](../_static/faq_images/workspace_name_existing_1.png) \n",
    " \n",
    "2. Under the Overview section, you can replace the Workspace name field with whatever you wish to name it.\n",
    "\n",
    " ![workspace name existing 2](../_static/faq_images/workspace_name_existing_2.png) \n",
    " \n",
    "Caveat: no special characters like space, dollar sign, etc; name should start/end only with digits, Latin letters, or underscores\n"
   ]
  },
  {
   "cell_type": "markdown",
   "metadata": {},
   "source": [
    "## Share My Workspace With Another MAAP User\n",
    "1. In the workspaces tab under the Che side panel, select the workspace you want to share.\n",
    "\n",
    "![share workspace select](../_static/faq_images/share_workspace_select.png) \n",
    " \n",
    "2. Under the Share section, click the button + Add Developer. Then type in the email of the person/people you wish to share the workspace with and click *Share*.  Only emails registered with MAAP can be used to share workspaces.\n",
    "\n",
    " ![share workspace sharing](../_static/faq_images/share_workspace_sharing.png) \n",
    "\n",
    "3. The user will now be listed for this workspace.\n",
    "\n",
    " ![share workspace shared](../_static/faq_images/share_workspace_shared.png) \n",
    " \n",
    "Important notes: \n",
    "\n",
    "- If the workspace was opened under an organization, the workspace can only be shared with members of that organization and not any other MAAP user.\n",
    "\n",
    "- Currently, we do not have a way to denote shared workspaces in the Che side panel, so we recommend renaming your workspace so that you know it is shared (e.g. add _s)\n",
    "\n",
    "- Users who you share a workspace with will be able to see everything in your `my-private-bucket` folder and will have read, write, and delete permissions\n",
    "\n",
    "- You will be able to see what tabs other users have open by refreshing or clicking on the \"Running Terminals and Kernels\" side tab \n",
    "\n",
    "<img src=\"../_static/faq_images/share_workspace_running_kernels.png\"  width=\"360\" height=\"225\" alt=\"share workspace running kernels\">"
   ]
  },
  {
   "cell_type": "markdown",
   "metadata": {},
   "source": [
    "## Managing Workspace Storage\n",
    "See the [Storage Options](../getting_started/getting_started.ipynb#MAAP-Storage-Options) information in the Getting Started Guide for information on the options for personal and shared storage.\n",
    "\n",
    "### Recovering Files\n",
    "If you delete files, you have up to 30 days to restore them. Please ask the MAAP platform-development team for help if you need to restore deleted files.\n",
    "\n"
   ]
  }
 ],
 "metadata": {
  "kernelspec": {
   "display_name": "Python 3.11.1 64-bit",
   "language": "python",
   "name": "python3"
  },
  "language_info": {
   "codemirror_mode": {
    "name": "ipython",
    "version": 3
   },
   "file_extension": ".py",
   "mimetype": "text/x-python",
   "name": "python",
   "nbconvert_exporter": "python",
   "pygments_lexer": "ipython3",
   "version": "3.11.1"
  },
  "vscode": {
   "interpreter": {
    "hash": "5c7b89af1651d0b8571dde13640ecdccf7d5a6204171d6ab33e7c296e100e08a"
   }
  }
 },
 "nbformat": 4,
 "nbformat_minor": 4
}
