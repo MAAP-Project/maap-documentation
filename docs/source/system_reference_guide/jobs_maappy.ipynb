{
 "cells": [
  {
   "cell_type": "markdown",
   "id": "58641795-4f3e-40af-9374-b882f2be6eb1",
   "metadata": {},
   "source": [
    "# Job Management with maap-py"
   ]
  },
  {
   "cell_type": "markdown",
   "id": "55668263-b357-4eff-a44b-3a54e9068f97",
   "metadata": {},
   "source": [
    "## Set up maap.py\n",
    "\n",
    "1. Open a Jupyter Notebook then click the `MAAP` button from the notebook toolbar. This will paste the code snippet below into your notebook.\n",
    "\n",
    "![submit_job_4.png](../_static/faq_images/submit_job_4.png)\n",
    "\n",
    "2. Provide the MAAP host. For normal operations, this would be `api.maap-project.org`.\n",
    "\n",
    "```\n",
    "from maap.maap import MAAP\n",
    "maap = MAAP(maap_host='api.maap-project.org')\n",
    "```\n"
   ]
  },
  {
   "cell_type": "markdown",
   "id": "f6c3a51a",
   "metadata": {},
   "source": [
    "## Submit a Job\n",
    "\n",
    "Use the `submitJob` method and provide your algorithm inputs. The example below will run the `run-dps-test_ubuntu` algorithm.\n",
    "\n",
    ".. note::\n",
    "Experimental feature: The output data will be put into a folder named for your `algo_id` and the `identifier`. You can use the same `idenfitier` on several jobs (e.g. in a batch) to group related output data in one place. In the [View & Submit Jobs GUI](jobsui.ipynb#Submit-a-Job) this is the Job Tag field in the Submit form.\n",
    "\n",
    "```\n",
    "maap.submitJob(identifier=\"test-job\", \n",
    "               algo_id=\"run-dps-test_ubuntu\",\n",
    "               version=\"delay10\",\n",
    "               username=\"anonymous\",\n",
    "               queue=\"maap-dps-worker-8gb\",\n",
    "               input_file=\"https://raw.githubusercontent.com/MAAP-Project/dps-unit-test/main/README.md\")\n",
    "```\n",
    "\n",
    "4. Run the notebook to submit the job. The cell output for a job that was submitted successfully will look similar to this:\n",
    "\n",
    "```\n",
    "{'status': 'success',\n",
    " 'http_status_code': 200,\n",
    " 'job_id': '86fbac52-24b0-4963-8b67-59d0fc09946a'}\n",
    "```"
   ]
  },
  {
   "cell_type": "markdown",
   "id": "c81e7aed",
   "metadata": {},
   "source": [
    "## Monitor a Job\n",
    "\n",
    "1. Use the `getJobStatus` method and provide the job ID that was created upon job submission.\n",
    "\n",
    "```\n",
    "r = maap.getJobStatus(\"86fbac52-24b0-4963-8b67-59d0fc09946a\")\n",
    "r.text\n",
    "```\n",
    "\n",
    "2. Run the notebook to get the job status. The output should resemble the xml snippet below. In this example, the job status is `Succeeded`.\n",
    "\n",
    "```\n",
    "'<wps:StatusInfo xmlns:ows=\"http://www.opengis.net/ows/2.0\" xmlns:schemaLocation=\"http://schemas.opengis.net/wps/2.0/wps.xsd\" xmlns:wps=\"http://www.opengis.net/wps/2.0\" xmlns:xsi=\"http://www.w3.org/2001/XMLSchema-instance\"><wps:JobID>86fbac52-24b0-4963-8b67-59d0fc09946a</wps:JobID><wps:Status>Succeeded</wps:Status></wps:StatusInfo>'\n",
    "```"
   ]
  },
  {
   "cell_type": "markdown",
   "id": "dd5ea78e",
   "metadata": {},
   "source": [
    "## Get Job Results\n",
    "\n",
    "1. Use the `getJobResult` method and provide the job ID that was created upon job submission.\n",
    "\n",
    "```\n",
    "r = maap.getJobResult(\"86fbac52-24b0-4963-8b67-59d0fc09946a\")\n",
    "r.text\n",
    "```\n",
    "\n",
    "2. Run the notebook to get the job result. The output should resemble the xml snippet below.\n",
    "\n",
    "```\n",
    "<wps:Result xmlns:ows=\"http://www.opengis.net/ows/2.0\" xmlns:schemaLocation=\"http://schemas.opengis.net/wps/2.0/wps.xsd\" xmlns:wps=\"http://www.opengis.net/wps/2.0\" xmlns:xsi=\"http://www.w3.org/2001/XMLSchema-instance\"><wps:JobID>86fbac52-24b0-4963-8b67-59d0fc09946a</wps:JobID><wps:Output id=\"output-2023-05-10T15:39:51.905070\"><wps:Data>http://maap-dit-workspace.s3-website-us-west-2.amazonaws.com/anonymous/dps_output/run-dps-test_ubuntu/delay10/2023/05/10/15/39/51/905070</wps:Data><wps:Data>s3://s3-us-west-2.amazonaws.com:80/maap-dit-workspace/anonymous/dps_output/run-dps-test_ubuntu/delay10/2023/05/10/15/39/51/905070</wps:Data><wps:Data>https://s3.console.aws.amazon.com/s3/buckets/maap-dit-workspace/anonymous/dps_output/run-dps-test_ubuntu/delay10/2023/05/10/15/39/51/905070/?region=us-east-1&amp;tab=overview</wps:Data></wps:Output></wps:Result>\n",
    "```"
   ]
  },
  {
   "cell_type": "markdown",
   "id": "c92f2f06",
   "metadata": {},
   "source": []
  }
 ],
 "metadata": {
  "kernelspec": {
   "display_name": "Python 3",
   "language": "python",
   "name": "python3"
  },
  "language_info": {
   "codemirror_mode": {
    "name": "ipython",
    "version": 3
   },
   "file_extension": ".py",
   "mimetype": "text/x-python",
   "name": "python",
   "nbconvert_exporter": "python",
   "pygments_lexer": "ipython3",
   "version": "3.9.1"
  }
 },
 "nbformat": 4,
 "nbformat_minor": 5
}
