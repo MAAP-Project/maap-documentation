{
 "cells": [
  {
   "cell_type": "markdown",
   "metadata": {},
   "source": [
    "### Committing Changes to a Git Repository\n",
    "All projects imported from GitLab can be found in `/projects`. Instructions how to clone a repository from Git can be found [here](../getting_started/writing_code.html#Clone-a-Respository-with-GitHub) and instructions for working with MAAP GitLab can be found [here.](../getting_started/writing_code.html#Working-with-the-MAAP-GitLab)\n",
    "\n",
    "Before you update your project with your changes, you need to get a classic personal access token from GitHub. MAAP currently doesn't supported fine-grained tokens. Create a classic personal access token by following [these steps](https://docs.github.com/en/authentication/keeping-your-account-and-data-secure/managing-your-personal-access-tokens#creating-a-personal-access-token-classic) in Developer settings. Remember to save your personal access token for later use. \n",
    "\n",
    "Using the left side panel in the Jupyter interface, you can push changes to your Git project whether it is on the MAAP GitLab, or a public repository on GitHub. \n",
    "\n",
    "If you are more comfortable using the command line to interact with Git, you do not need to use the side panel. It will work the same way in the terminal, once you navigate to the project's filepath.\n",
    "\n",
    "When you are ready to update your project with your changes, navigate to the Git panel. Add the files you want to change to the list of staged changes by clicking the + to the right of the file name. Then write a commit message, and blue commit button. \n",
    "\n",
    "<img src=\"../_static/update_project_commit.png\"  width=\"220\" height=\"500\" alt=\"update project commit\">\n",
    "\n",
    "Now you need to push your changes by selecting the push changes button on the toolbar in the upper right.\n",
    "\n",
    "<img src=\"../_static/update_project_push.png\"  width=\"300\" height=\"150\" alt=\"update project push\">\n",
    "\n",
    "You will then be prompted for your Git username and personal access token that you got above \n",
    "\n",
    "<img src=\"../_static/update_project_git_login.png\"  width=\"600\" height=\"150\" alt=\"update project git login\">\n",
    "\n",
    "If you want to check your commit history, look at branches, and confirm your updates have been pushed, you can see this on the history tab.\n",
    "\n",
    "<img src=\"../_static/update_project_history.png\"  width=\"220\" height=\"500\" alt=\"update project history\">"
   ]
  }
 ],
 "metadata": {
  "kernelspec": {
   "display_name": "Python 3.11.1 64-bit",
   "language": "python",
   "name": "python3"
  },
  "language_info": {
   "codemirror_mode": {
    "name": "ipython",
    "version": 3
   },
   "file_extension": ".py",
   "mimetype": "text/x-python",
   "name": "python",
   "nbconvert_exporter": "python",
   "pygments_lexer": "ipython3",
   "version": "3.11.1"
  },
  "vscode": {
   "interpreter": {
    "hash": "5c7b89af1651d0b8571dde13640ecdccf7d5a6204171d6ab33e7c296e100e08a"
   }
  }
 },
 "nbformat": 4,
 "nbformat_minor": 4
}
