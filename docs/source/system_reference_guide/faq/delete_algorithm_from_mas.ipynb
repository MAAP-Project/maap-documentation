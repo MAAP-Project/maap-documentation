{
 "cells": [
  {
   "attachments": {},
   "cell_type": "markdown",
   "metadata": {},
   "source": [
    "# How Do I Delete My Algorithm From MAS?\n",
    "\n",
    "Open the *DPS/MAS Operations* menu and select *Delete Algorithm*. \n",
    "\n",
    "![delete algorithm](../../_static/faq_images/delete_algorithm.png) \n",
    "\n",
    "A dropdown list of the currently available algorithms will show up. \n",
    "\n",
    "![select an algorithm to delete](../../_static/faq_images/select_an_algorithm_to_delete.png)\n",
    "\n",
    "Select the algorithm you wish to delete and press OK."
   ]
  }
 ],
 "metadata": {
  "kernelspec": {
   "display_name": "Python 3",
   "language": "python",
   "name": "python3"
  },
  "language_info": {
   "codemirror_mode": {
    "name": "ipython",
    "version": 3
   },
   "file_extension": ".py",
   "mimetype": "text/x-python",
   "name": "python",
   "nbconvert_exporter": "python",
   "pygments_lexer": "ipython3",
   "version": "3.7.8"
  }
 },
 "nbformat": 4,
 "nbformat_minor": 4
}
