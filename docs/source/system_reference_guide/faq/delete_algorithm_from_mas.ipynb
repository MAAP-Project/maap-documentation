{
 "cells": [
  {
   "cell_type": "markdown",
   "metadata": {},
   "source": [
    "# How Do I Delete My Algorithm From MAS?\n",
    "\n",
    "Example of registered algorithm ids:\n",
    "![registered_algorithms](../../_static/faq_images/algorithm_dropdown.png)\n",
    "\n",
    "The code snippet below will delete an algorithm registered as \"test:develop\".\n",
    "```python\n",
    "from maap.maap import MAAP\n",
    "maap = MAAP(maap_host='api.maap-project.org')\n",
    "\n",
    "algorithm_name = \"test\"\n",
    "branch = \"develop\"\n",
    "\n",
    "# Takes in an algorithm id\n",
    "maap.deleteAlgorithm(f\"{algorithm_name}:{branch}\")\n",
    "```"
   ]
  },
  {
   "cell_type": "code",
   "execution_count": null,
   "metadata": {},
   "outputs": [],
   "source": []
  }
 ],
 "metadata": {
  "kernelspec": {
   "display_name": "Python 3 (ipykernel)",
   "language": "python",
   "name": "python3"
  },
  "language_info": {
   "codemirror_mode": {
    "name": "ipython",
    "version": 3
   },
   "file_extension": ".py",
   "mimetype": "text/x-python",
   "name": "python",
   "nbconvert_exporter": "python",
   "pygments_lexer": "ipython3",
   "version": "3.10.8"
  }
 },
 "nbformat": 4,
 "nbformat_minor": 4
}
