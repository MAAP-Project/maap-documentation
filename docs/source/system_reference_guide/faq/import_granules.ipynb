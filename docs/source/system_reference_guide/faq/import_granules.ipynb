{
 "cells": [
  {
   "attachments": {},
   "cell_type": "markdown",
   "metadata": {},
   "source": [
    "# How Do I Import Granules Over From My EARTHDATA Search Into My Jupyter Notebook?\n",
    "\n",
    "Launch EarthData Search by Data Search-> Open EarthData Search. After setting your search parameters or adding layers using the green plus, switch tabs back to your Jupyter notebook. At the top, open the Data Search menu, and select *Paste Granule Search Results*.\n",
    "\n",
    " ![Import Granules](../../_static/faq_images/import_granules.png) \n",
    " \n",
    "Caveat: The *Paste Granule Search Query* call uses the MAAP Python library.  Make sure you import it before running the inserted code.  You can do this by clicking on the blue “MAAP” button just below your notebook name (upper left corner)."
   ]
  }
 ],
 "metadata": {
  "kernelspec": {
   "display_name": "Python 3.12.2 64-bit",
   "language": "python",
   "name": "python3"
  },
  "language_info": {
   "codemirror_mode": {
    "name": "ipython",
    "version": 3
   },
   "file_extension": ".py",
   "mimetype": "text/x-python",
   "name": "python",
   "nbconvert_exporter": "python",
   "pygments_lexer": "ipython3",
   "version": "3.12.2"
  },
  "vscode": {
   "interpreter": {
    "hash": "b0fa6594d8f4cbf19f97940f81e996739fb7646882a419484c72d19e05852a7e"
   }
  }
 },
 "nbformat": 4,
 "nbformat_minor": 4
}
