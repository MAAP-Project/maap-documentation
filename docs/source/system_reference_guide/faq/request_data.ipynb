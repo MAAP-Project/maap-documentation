{
 "cells": [
  {
   "cell_type": "markdown",
   "metadata": {},
   "source": [
    "# How do I request new data to be available in MAAP? \n",
    "\n",
    "Authors: Emile Tenezakis (DevSeed), Sheyenne Kirkland (UAH)\n",
    "\n",
    "Date: September 27, 2023\n",
    "\n",
    "Description: in this example, we'll show you how to access MAAP's Data Request Form in Github, as well as provide an example on how to fill out and submit it. The purpose of this form is to provide a way for users to request data to be ingested into the MAAP platform for use."
   ]
  },
  {
   "cell_type": "markdown",
   "metadata": {},
   "source": [
    "## Accessing the Form"
   ]
  },
  {
   "cell_type": "markdown",
   "metadata": {},
   "source": [
    "### Direct Access Link\n",
    "\n",
    "You can directly access the form through [this link](https://github.com/MAAP-Project/Community/issues/new?assignees=freitagb%2C+wildintellect&labels=MSFC&projects=&template=data_request.yaml&title=%5BData%5D%3A).\n",
    "\n",
    "### Navigate Manually to the Form\n",
    "\n",
    "The form is hosted as an \"issue template\" in the [MAAP Community Github repository](https://github.com/MAAP-Project/Community). Navigate to this repository. From there, go to \"Issues\", and then click on \"New Issue\". There are three different options for users to open an issue. To request data, select \"Get Started\" next to \"Data Request\".\n",
    "\n",
    "![dr_community_repo](../../_static/data_request_community_repo.png)\n",
    "\n",
    "\n",
    "![dr_selector](../../_static/data_request_selector.png)\n",
    "\n",
    "\n",
    "![dr_issues](../../_static/data_request_issues.png) "
   ]
  },
  {
   "cell_type": "markdown",
   "metadata": {},
   "source": [
    "## Filling out the Form"
   ]
  },
  {
   "cell_type": "markdown",
   "metadata": {},
   "source": [
    "Once you open the form, you will see several fields to complete, some of which are required (marked with a red *) and some optional. This helps ensure that the data team recieves enough information. Assignees and labels are also automatically included, so all users have to do is enter information about the data.\n",
    "\n",
    "![dr_form](../../_static/data_request_form.png)"
   ]
  },
  {
   "cell_type": "markdown",
   "metadata": {},
   "source": [
    "## Submission"
   ]
  },
  {
   "cell_type": "markdown",
   "metadata": {},
   "source": [
    "Click on 'Submit new issue'. We've provided a screenshot of an example submitted issue below :\n",
    "\n",
    "![submitted_issue](../../_static/data_request_submitted.png)"
   ]
  }
 ],
 "metadata": {
  "kernelspec": {
   "display_name": "Python 3 (ipykernel)",
   "language": "python",
   "name": "python3"
  },
  "language_info": {
   "codemirror_mode": {
    "name": "ipython",
    "version": 3
   },
   "file_extension": ".py",
   "mimetype": "text/x-python",
   "name": "python",
   "nbconvert_exporter": "python",
   "pygments_lexer": "ipython3",
   "version": "3.10.8"
  }
 },
 "nbformat": 4,
 "nbformat_minor": 4
}
