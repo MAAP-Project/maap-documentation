{
 "cells": [
  {
   "attachments": {},
   "cell_type": "markdown",
   "metadata": {},
   "source": [
    "# How Do I Rename My Workspace?\n",
    "\n",
    "## Option 1: At Workspace Creation \n",
    "You can replace the auto-generated workspace name during creation.\n",
    "\n",
    " ![workspace name 1](../../_static/faq_images/workspace_name_1.png) \n",
    " \n",
    "## Option 2: Edit Existing Workspace \n",
    "1. In the workspaces tab under the Che side panel, select the workspace you want to rename.\n",
    "\n",
    " ![workspace name 2](../../_static/faq_images/workspace_name_2.png) \n",
    " \n",
    "2. Under the Overview section, you can replace the Workspace name field with whatever you wish to name it.\n",
    "\n",
    " ![workspace name 3](../../_static/faq_images/workspace_name_3.png) \n",
    " \n",
    "Caveat: no special characters like space, dollar sign, etc; name should start/end only with digits, Latin letters, or underscores\n"
   ]
  }
 ],
 "metadata": {
  "kernelspec": {
   "display_name": "Python 3",
   "language": "python",
   "name": "python3"
  },
  "language_info": {
   "codemirror_mode": {
    "name": "ipython",
    "version": 3
   },
   "file_extension": ".py",
   "mimetype": "text/x-python",
   "name": "python",
   "nbconvert_exporter": "python",
   "pygments_lexer": "ipython3",
   "version": "3.7.8"
  }
 },
 "nbformat": 4,
 "nbformat_minor": 4
}
