{
 "cells": [
  {
   "cell_type": "markdown",
   "metadata": {},
   "source": [
    "# Which Files In My Workspace Are Persistent?\n",
    "\n",
    "When you first start your workspace, there should be at least three folders already in the file browser: che, maap-users, and \\<username\\>.  \n",
    "\n",
    "* che contains config files for your ADE.  You don’t need to worry about it. \n",
    "* maap-users is an s3-backed folder shared among all members of the maap-users organization (every registered MAAP user).  If you are in other MAAP organizations, each organization will have its own shared s3-backed folder.  \n",
    "* Finally, \\<username\\> is also s3-backed, but only shown to you.  However, when you share your workspace with another user, both users’ personal folders will be mounted and accessible from the shared workspace.\n",
    "Anything placed within a s3-backed folder will be added to s3 and be persistent.  Anything outside those folders will be ephemeral. Please clone your git repositories (e.g., dps_plot) outside the s3-backed folders, as they should already be version controlled elsewhere."
   ]
  }
 ],
 "metadata": {
  "kernelspec": {
   "display_name": "Python 3",
   "language": "python",
   "name": "python3"
  },
  "language_info": {
   "codemirror_mode": {
    "name": "ipython",
    "version": 3
   },
   "file_extension": ".py",
   "mimetype": "text/x-python",
   "name": "python",
   "nbconvert_exporter": "python",
   "pygments_lexer": "ipython3",
   "version": "3.7.8"
  }
 },
 "nbformat": 4,
 "nbformat_minor": 4
}
