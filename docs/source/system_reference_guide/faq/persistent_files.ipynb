{
 "cells": [
  {
   "cell_type": "markdown",
   "metadata": {},
   "source": [
    "# Which Files In My Workspace Are Persistent?\n",
    "\n",
    "When you first start your workspace, there should be at least three folders already in the file browser: `my-private-bucket`, `my-public-bucket`, and `shared-buckets`.  \n",
    "\n",
    "* `my-private-bucket` is an S3 bucket with persistent storage, but only visible to you. However, when you share your workspace with another user, both users’ personal folders will be mounted and accessible from the shared workspace.\n",
    "* `my-public-bucket` is an S3 bucket with persistent storage. It is the same as `~/shared-buckets/<my_username>/` — anything you put in here will be accessible to other users via `~/shared-buckets/<my_username>` as a read-only file. Likewise, to find shared files from another user, look in `~/shared-buckets/<their_username>`.\n",
    "\n",
    "Anything placed within a s3-backed folder will be added to s3 and be persistent.  Anything outside those folders will be ephemeral. Please clone your git repositories (e.g., dps_plot) outside the s3-backed folders, as they should already be version controlled elsewhere."
   ]
  }
 ],
 "metadata": {
  "kernelspec": {
   "display_name": "Python 3.11.1 64-bit",
   "language": "python",
   "name": "python3"
  },
  "language_info": {
   "codemirror_mode": {
    "name": "ipython",
    "version": 3
   },
   "file_extension": ".py",
   "mimetype": "text/x-python",
   "name": "python",
   "nbconvert_exporter": "python",
   "pygments_lexer": "ipython3",
   "version": "3.11.1"
  },
  "vscode": {
   "interpreter": {
    "hash": "5c7b89af1651d0b8571dde13640ecdccf7d5a6204171d6ab33e7c296e100e08a"
   }
  }
 },
 "nbformat": 4,
 "nbformat_minor": 4
}
