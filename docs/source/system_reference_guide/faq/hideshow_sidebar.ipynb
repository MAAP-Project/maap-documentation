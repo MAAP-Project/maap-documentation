{
 "cells": [
  {
   "cell_type": "markdown",
   "id": "1afe36c9-6206-4366-b208-dfb4aa12cb31",
   "metadata": {},
   "source": [
    "# Can I Hide the Blue Sidebar?\n",
    "\n",
    "You can hide and show the blue sidebar (the Eclipse Che sidebar). To do so, open the Jupyter command palette and choose `Hide Che Side Panel` or `Show Che Side Panel`.\n",
    "\n",
    "Opening the Jupyter command palette:\n",
    "![Open Command Palette](_static/hide_che_view_menu.png)\n",
    "\n",
    "You will see options at the top to Hide or Show the Che Side Panel. You can also type in some text to filter the list and more easily select the option you would like using only the keyboard.\n",
    "![Hide Che Option](_static/hide_che_command_palette.png)\n",
    "\n"
   ]
  }
 ],
 "metadata": {
  "kernelspec": {
   "display_name": "Python 3",
   "language": "python",
   "name": "python3"
  },
  "language_info": {
   "codemirror_mode": {
    "name": "ipython",
    "version": 3
   },
   "file_extension": ".py",
   "mimetype": "text/x-python",
   "name": "python",
   "nbconvert_exporter": "python",
   "pygments_lexer": "ipython3",
   "version": "3.9.1"
  }
 },
 "nbformat": 4,
 "nbformat_minor": 5
}
