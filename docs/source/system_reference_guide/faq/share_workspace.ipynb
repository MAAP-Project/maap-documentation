{
 "cells": [
  {
   "attachments": {},
   "cell_type": "markdown",
   "metadata": {},
   "source": [
    "# How Do I Share My Workspace With Another MAAP User?\n",
    "1. In the workspaces tab under the Che side panel, select the workspace you want to share.\n",
    "\n",
    "![share workspace 1](../../_static/faq_images/share_workspace_1.png) \n",
    " \n",
    "2. Under the Share section, click the button + Add Developer.  Then check the box next to the email of the person/people you wish to share the workspace with and click *Share*.  Only emails registered with MAAP can be used to share workspaces.\n",
    "\n",
    " ![share workspace 2](../../_static/faq_images/share_workspace_2.png) \n",
    " ![share workspace 3](../../_static/faq_images/share_workspace_3.png) \n",
    " \n",
    "3. Note: If the workspace was opened under an organization, the workspace can only be shared with members of that organization and not any other MAAP user."
   ]
  }
 ],
 "metadata": {
  "kernelspec": {
   "display_name": "Python 3",
   "language": "python",
   "name": "python3"
  },
  "language_info": {
   "codemirror_mode": {
    "name": "ipython",
    "version": 3
   },
   "file_extension": ".py",
   "mimetype": "text/x-python",
   "name": "python",
   "nbconvert_exporter": "python",
   "pygments_lexer": "ipython3",
   "version": "3.7.8"
  }
 },
 "nbformat": 4,
 "nbformat_minor": 4
}
