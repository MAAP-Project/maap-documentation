{
 "cells": [
  {
   "attachments": {},
   "cell_type": "markdown",
   "metadata": {},
   "source": [
    "# Environments\n",
    "\n",
    "This document guides MAAP users in the process of selecting, extending existing environments (the set of libraries availables for analysis) or creating custom environments.\n",
    "\n",
    "## Workspaces\n",
    "\n",
    "The MAAP ADE offers various workspace options, each workspace coming with its own environment that has pre-installed essential libraries for computing and geospatial analysis. At the time of writing this guide, here are the options : \n",
    "\n",
    "![Workspace image options](../_static/workspace_options.png)\n",
    "\n",
    "For example, the `MAAP RGEDI Stable` and `MAAP R Stable` workspace options come with various pre-installed R packages. \n",
    "\n",
    "**For more information** : Each of these options rely on Docker images that were build off from Dockerfiles that are publicly available in the [MAAP workspace repository](https://github.com/MAAP-Project/maap-workspaces/tree/develop). If you want to learn more about what libraries each image contains, check out this repository."
   ]
  },
  {
   "attachments": {},
   "cell_type": "markdown",
   "metadata": {},
   "source": [
    "## Extending environments\n",
    "\n",
    "Users may need libraries for their specific analysis purposes that are not present in the environments of the different workspace options offered. In this case, ideally, the steps should be the following : \n",
    "\n",
    "1. The user explores her/his environment need by extending the environment of an existing workspace or creating her/his custom environment in an existing workspace (see next sections).\n",
    "2. Once that is done, the user submits a ticket/coordinates with the platform team to create a new workspace option with the requested, finalized environment.\n",
    "\n",
    "The above approach is ideal because modifications to the pre-defined workspace environment do not survive a workspace restart (see next sections), and because sharing new experimented environments is valuable.\n",
    "\n",
    "The next sections explain how to extend environments or create custom environments, and for this, introduces information regarding which environment management solution we are using. \n",
    "\n",
    "### Package manager\n",
    "\n",
    "We use `mamba` (a fast `conda` drop-in replacement) as a package manager to install, update or remove packages (libraries). `mamba` works with 'environments' that are directories in your local file system containing a set of packages. When you work 'in a given environment', it means you that your programs will look for dependencies in that environment's `mamba` directory. All workspaces launch with a environment called `base`, which is a `mamba` environment that has all the pre-installed libraries. If you open a terminal launcher after creating a `Basic Stable` workspace : \n",
    "\n",
    "\n",
    "![Base conda environment location](../_static/base_conda_environment_location.png)\n",
    "\n",
    "You can notice that a `base` `mamba` environment is activated, and its libraries are located in `/opt/conda`. \n",
    "\n",
    "### Extending the `base` environment in a given workspace session.\n",
    "\n",
    "**Note : any modification to the `base` environment does not survive a workspace restart. In other words, modifications to `/opt/conda` disappear after a workspace restart**. \n",
    "\n",
    "Extending an existing `mamba` environment means adding packages on top of what it contains, which works provided there are no dependency conflicts. You can use a configuration file specifying all the new libraries to add. It is recommended for reproducibility and shareability. See the below sections for configuration file usage. \n",
    "\n",
    "Alternatively, you can install libraries using the `mamba install` command to install additional packages in your current environment (run `mamba --help` to learn more about how to use `mamba` commands). For example :\n",
    "\n",
    "```\n",
    "mamba install xarray\n",
    "```\n",
    "\n"
   ]
  },
  {
   "attachments": {},
   "cell_type": "markdown",
   "metadata": {},
   "source": [
    "## Custom environments\n",
    "\n",
    "You can use the `mamba` CLI to create a new, custom environment. \n",
    "\n",
    "The parameters (the list of libraries, the location where to search for them, etc...) can be passed either from a configuration YAML file or directly on the console. We recommend using the first option (a YAML file is easier to share and modify). \n",
    "\n",
    "### Basic custom environment\n",
    "\n",
    "Here is an example configuration file that we name `env` :\n",
    "\n",
    "```\n",
    "# env.yml\n",
    "name: env\n",
    "channels:\n",
    "\t- conda-forge\n",
    "dependencies:\n",
    "\t- python=3.8\n",
    "\t- pandas=1.5.3\n",
    "    - geopandas=0.12.2\n",
    "```\n",
    "\n",
    "It installs specific versions `python`, `pandas` and `geopandas` from either `conda-forge` or `defaults`. If versions aren't specified, the latest is installed. We recommend to always specify the version for reproducibility. The basic command to create this environment would be :\n",
    "\n",
    "```\n",
    "mamba env create -f env.yml\n",
    "```\n",
    "\n",
    "However, this stores this environment files in `/opt/conda`, which a directory that is reset when the workspace restarts, and so custom environments are lost. Therefore, you want to specify a storage location in your user directory with the `--prefix` parameter\n",
    "\n",
    "```\n",
    "mamba env create -f env.yml --prefix /projects/env\n",
    "```\n",
    "\n",
    "and to activate it : \n",
    "\n",
    "```\n",
    "mamba activate env\n",
    "```\n",
    "\n",
    "### Updating an existing environment with a configuration file\n",
    "\n",
    "For this section and the next, you can find example configuration files in `example_conda_configuration_files` in the same folder as this notebook. \n",
    "\n",
    "You can update an existing environment with a configuration file as well. For example, let's assume you have a `mamba` environment with a set of packages already installed in it (for example the `base` environment), but it doesn't have `xarray` and `geopandas`. You can create a file like `base.yml`, that specifies updates to the `base` environment. Then, running `mamba env update -f base.yml` will update `base` by adding `xarray` and `geopandas`, provided it does not cause conflicts with the existing libraries. \n",
    "\n",
    "\n",
    "### Using `pip` for python packages\n",
    "\n",
    "Some python packages might not be availabe in the channel you are using, or in any `mamba` channel. If that package however is in `PyPI` (the official python package repository), one can use `pip` within a `mamba` environment to download packages. The recommended way is to specify this in the configuration file. You can find an example in `env2.yml`, that creates an environment named `env2`. In that example, we add `stackstac` as a dependency to install from `PyPI` because it is not available in the `conda-forge` channel. \n",
    "\n",
    "### Using custom environments in jupyter notebooks\n",
    "\n",
    "The following instruction steps are for python kernels.\n",
    "\n",
    "- Make sure ipykernel is listed as a dependency in your configuration file. An example that has such a dependency is env3.yml\n",
    "- Create your environment using that configuration file\n",
    "- Install the environment as a kernel by running the following command (parameter values follow the example mentioned):\n",
    "  ```\n",
    "  python -m ipykernel install --user --name custom_env_name --display-name \"Python env3\".\n",
    "  ```\n",
    "  The above command installs the environment as a kernel in Jupyter, making it accessible in the notebook with a display name of \"Python env3\".\n",
    "- Wait around 30 seconds and launch a new notebook. Among the kernel options, you should see \"Python env3\" listed. Below you can see a screenshot that shows what this step looks like:\n",
    "![Register a kernel with a conda environment and launch a notebook with it](../_static/launch_registered_kernel_custom_conda.png)\n",
    "\n",
    "### Suggested packages for custom environment\n",
    "\n",
    "MAAP users typically use the python `maap-py`. It's pre-installed in all workspaces, in the `base` mamba environment, but any custom environment should specify it, otherwise it is not going to be accessible from that environment. However, `maap-py` is not packaged in a public package repository, like `PyPI` or `conda-forge`. It is possible to install it directly from its github repository with `pip` though. An example configuration file can be found at `env4.yml`. You can note that inside of it `maap-py` is 'versioned' using a commit hash (at the end of the github URL). "
   ]
  },
  {
   "cell_type": "markdown",
   "metadata": {},
   "source": []
  }
 ],
 "metadata": {
  "kernelspec": {
   "display_name": "Python 3",
   "language": "python",
   "name": "python3"
  },
  "language_info": {
   "codemirror_mode": {
    "name": "ipython",
    "version": 3
   },
   "file_extension": ".py",
   "mimetype": "text/x-python",
   "name": "python",
   "nbconvert_exporter": "python",
   "pygments_lexer": "ipython3",
   "version": "3.10.10"
  },
  "metadata": {
   "interpreter": {
    "hash": "31f2aee4e71d21fbe5cf8b01ff0e069b9275f58929596ceb00d14d90e3e16cd6"
   }
  },
  "vscode": {
   "interpreter": {
    "hash": "8a5edab282632443219e051e4ade2d1d5bbc671c781051bf1437897cbdfea0f1"
   }
  }
 },
 "nbformat": 4,
 "nbformat_minor": 4
}
