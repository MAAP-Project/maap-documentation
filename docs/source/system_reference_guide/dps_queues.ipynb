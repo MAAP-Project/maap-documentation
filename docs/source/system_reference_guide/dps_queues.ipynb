{
 "cells": [
  {
   "cell_type": "markdown",
   "id": "58641795-4f3e-40af-9374-b882f2be6eb1",
   "metadata": {},
   "source": [
    "# Resource Queues"
   ]
  },
  {
   "cell_type": "markdown",
   "id": "cd3c4962",
   "metadata": {},
   "source": [
    "Resource Queues on the MAAP Data Processing Service are machines on the cloud that will be processing DPS Jobs. These are [EC2](https://aws.amazon.com/ec2/) machines on AWS and are managed by [auto scaling groups](https://docs.aws.amazon.com/autoscaling/ec2/userguide/auto-scaling-groups.html).\n",
    "\n",
    "When a user submits a job, a message is sent to the AWS Auto Scaling Group which provisions the appropriate [machine instance](https://aws.amazon.com/ec2/instance-types/) for processing, which takes about two minutes. The name of the queue provides an indication of what resources the machine will have.\n",
    "\n",
    "For example:\n",
    "\n",
    "- `maap-dps-worker-8gb` will spin a machine that has at max 8gb of RAM, like t3.large\n",
    "- `maap-dps-worker-16vcpu-32gb` will spin a machine that has 16 cores and 32gb RAM, like c5.4xlarge.\n",
    "\n",
    "\n",
    "## Queue Access and Organizations\n",
    "\n",
    "Only job queues assigned to your [organization(s)](organizations.ipynb) will be allowed for use when registering an Algorithm or submitting Jobs. When submitting Jobs via the Jobs UI, only your org-assigned queues are visible in the queue selection menu. Any publicly-accessible queues, such as the sandbox queue, are accessible to all users of the MAAP platform.\n",
    "\n",
    "## Public Queues\n",
    "\n",
    "Public queues are queues that are available to all MAAP users irrespective of their association with any organization (i.e guest accounts). Users who belong to an organization and have access to private queues are recommended to use the private queues.\n",
    "Currently available public queues on the MAAP platform are:\n",
    "\n",
    "\n",
    "| Queue | Memory | Time limit | Guest access | [AWS Instance Type](https://aws.amazon.com/ec2/instance-types/) |\n",
    "| --- | --- | --- | --- | --- |\n",
    "| `maap-dps-sandbox` | 8gb | 10 min | yes | t3.large or t3a.large |\n",
    "| `maap-dps-worker-8gb` | 8gb | unlimited | no | t3.large or t3a.large |\n",
    "| `maap-dps-worker-16gb` | 16gb | unlimited | no | t3.xlarge or t3a.xlarge |\n",
    "| `maap-dps-worker-32gb` | 32gb | unlimited | no | r5.xlarge or r5a.xlarge |\n",
    "\n",
    "\n",
    "`maap-dps-sandbox` is a queue introduced in v4.1.0 to allow users to quickly test their algorithm in DPS. This has a max job runtime of 10mins and max RAM of 8gb.\n",
    "\n",
    "Note: The platform team will start throttling users ability to submit a batch of jobs on public queues to about 10 jobs per hour.\n",
    "\n",
    "\n",
    "## Private Organization Queues\n",
    "\n",
    "Users and user-groups doing science on the MAAP are should reach out to the platform team to enable private organizational queues. Features of private queues are:\n",
    "\n",
    "- 24 hr time limit on individual jobs (can be increased upon request).\n",
    "- No job throttling.\n",
    "- Custom resources can be requested on the queue, like higher CPU, GPU, etc.\n",
    "- Dedicated queue, i.e not shared with other users on the MAAP reducing the amount of time spent waiting in the queued state.\n"
   ]
  }
 ],
 "metadata": {
  "kernelspec": {
   "display_name": "Python 3",
   "language": "python",
   "name": "python3"
  },
  "language_info": {
   "codemirror_mode": {
    "name": "ipython",
    "version": 3
   },
   "file_extension": ".py",
   "mimetype": "text/x-python",
   "name": "python",
   "nbconvert_exporter": "python",
   "pygments_lexer": "ipython3",
   "version": "3.9.1"
  }
 },
 "nbformat": 4,
 "nbformat_minor": 5
}
