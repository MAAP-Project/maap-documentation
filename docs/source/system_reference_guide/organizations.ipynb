{
 "cells": [
  {
   "cell_type": "markdown",
   "id": "58641795-4f3e-40af-9374-b882f2be6eb1",
   "metadata": {},
   "source": [
    "# MAAP Organizations"
   ]
  },
  {
   "cell_type": "markdown",
   "id": "cd3c4962",
   "metadata": {},
   "source": [
    "## Organization Membership within MAAP\n",
    "\n",
    "MAAP Organizations were added in version 4.1.0 to control access to job queues and other MAAP resources. Users may be assigned to one or more organizations within the MAAP hierarchy of organization teams. Users within these teams may be designated as Org Maintainers. \n",
    "\n",
    "In a future version of MAAP, Org Maintainers will have the ability to add and remove members to their teams, as well assign job queue resource limits per user as needed. As of version 4.1.0, organization membership is controlled strictly by MAAP administrators.\n",
    "\n",
    "## Job Queue Access\n",
    "\n",
    "Only job queues assigned to your organization(s) will be allowed for use when registering an algorithm or submitting jobs. When submitting jobs via the Jobs UI, only your org-assigned queues are visible in the queue selection menu. Any publicly-accessible queues, such as the sandbox queue, are accessible to all users of the MAAP platform.\n",
    "\n",
    "### Viewing Your Organizations\n",
    "\n",
    "```\n",
    "from maap.maap import MAAP\n",
    "import json\n",
    "maap = MAAP()\n",
    "\n",
    "me = maap.profile.account_info()\n",
    "print(json.dumps(me, indent=2))\n",
    ">>> {\n",
    "  \"id\": 1,\n",
    "  \"username\": \"maap_user\",\n",
    "  \"email\": \"maap_user@nasa.gov\",\n",
    "  \"first_name\": \"MAAP\",\n",
    "  \"last_name\": \"User\",\n",
    "  \"status\": \"active\",\n",
    "  \"creation_date\": \"2023-06-14T21:09:57.922240\",\n",
    "  \"organizations\": [\n",
    "    {\n",
    "      \"id\": 1,\n",
    "      \"name\": \"Dev Team\"\n",
    "    }\n",
    "  ]\n",
    "}\n",
    "```\n",
    "\n",
    "### Viewing Your Job Queues\n",
    "\n",
    "```\n",
    "from maap.maap import MAAP\n",
    "import json\n",
    "maap = MAAP()\n",
    "\n",
    "me = maap.getQueues().json()\n",
    "print(json.dumps(me, indent=2))\n",
    ">>> {\n",
    "  \"code\": 200,\n",
    "  \"message\": \"success\",\n",
    "  \"queues\": [\n",
    "    \"maap-dps-worker-16gb\",\n",
    "    \"maap-dps-worker-8gb\",\n",
    "    \"maap-dps-sandbox\"\n",
    "  ]\n",
    "}\n",
    "```"
   ]
  }
 ],
 "metadata": {
  "kernelspec": {
   "display_name": "Python 3",
   "language": "python",
   "name": "python3"
  },
  "language_info": {
   "codemirror_mode": {
    "name": "ipython",
    "version": 3
   },
   "file_extension": ".py",
   "mimetype": "text/x-python",
   "name": "python",
   "nbconvert_exporter": "python",
   "pygments_lexer": "ipython3",
   "version": "3.9.1"
  }
 },
 "nbformat": 4,
 "nbformat_minor": 5
}
