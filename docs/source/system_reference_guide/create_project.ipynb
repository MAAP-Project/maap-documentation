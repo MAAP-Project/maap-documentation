{
 "cells": [
  {
   "cell_type": "markdown",
   "metadata": {},
   "source": [
    "## Create a Project\n",
    "The first step in getting started with projects in MAAP is going to MAAP's GitLab and creating a new project. When you create a MAAP account, an account is automatically configured for you on MAAP's GitLab instance. To sign in, click on `Sign in with CAS`, then use your URS or ESA login. This will direct you to your projects.\n",
    "\n",
    "![create project welcome](../_static/create_project_1.png)\n",
    "\n",
    "Click on `Create a Project`. Name your project and select its visibility level.\n",
    "\n",
    "NOTE: Projects will default to private, meaning only you can see it, and if you want to allow another user to contribute, you will have to explicitly add them in the GitLab interface. Adding a user to a workspace that has a project in it does not automatically give them access to your GitLab project, you must also add them to the private project if you want to allow them to make changes.\n",
    "\n",
    "Projects set to internal can be seen by any authenticated MAAP user.\n",
    "Projects set to public can be seen by anyone, regardless of whether they are a MAAP user or not.\n",
    "\n",
    "Settings for your new project:\n",
    "\n",
    "![create project settings](../_static/create_project_2.png)\n",
    "\n",
    "Once you have created a project, copy the https url for the project that can be found under the clone button's dropdown. You will use this to add your project to your Che workspace.\n",
    "\n",
    "![create project git](../_static/create_project_3.png)"
   ]
  }
 ],
 "metadata": {
  "kernelspec": {
   "display_name": "Python 3",
   "language": "python",
   "name": "python3"
  },
  "language_info": {
   "codemirror_mode": {
    "name": "ipython",
    "version": 3
   },
   "file_extension": ".py",
   "mimetype": "text/x-python",
   "name": "python",
   "nbconvert_exporter": "python",
   "pygments_lexer": "ipython3",
   "version": "3.7.8"
  }
 },
 "nbformat": 4,
 "nbformat_minor": 4
}
