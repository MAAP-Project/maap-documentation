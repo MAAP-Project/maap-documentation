{
 "cells": [
  {
   "cell_type": "markdown",
   "id": "7d7ed6e3-3bfa-4976-901e-7c3c0ed6bf92",
   "metadata": {},
   "source": [
    "# Secrets Manager\n",
    "\n",
    "This notebook will help you add, list, and remove Secrets. See the System Reference Guide for more information: https://docs.maap-project.org/en/latest/system_reference_guide/jobs_maappy.html"
   ]
  },
  {
   "cell_type": "code",
   "execution_count": 1,
   "id": "823968a7-38c4-4da3-b004-db5b688878d9",
   "metadata": {},
   "outputs": [],
   "source": [
    "from maap.maap import MAAP\n",
    "maap = MAAP()"
   ]
  },
  {
   "cell_type": "markdown",
   "id": "da5910c9-51a3-48fe-bce3-a526dfdade80",
   "metadata": {},
   "source": [
    "## Add some Secrets"
   ]
  },
  {
   "cell_type": "code",
   "execution_count": 14,
   "id": "9aae5a69-b2c2-47fd-87ee-b21d1d214eca",
   "metadata": {},
   "outputs": [
    {
     "name": "stdout",
     "output_type": "stream",
     "text": [
      "{'secret_name': 'MY_TOKEN'}\n"
     ]
    }
   ],
   "source": [
    "response = maap.secrets.add_secret(\"MY_TOKEN\", \"98aj48j(774hh9*H\")\n",
    "print(response)"
   ]
  },
  {
   "cell_type": "code",
   "execution_count": 19,
   "id": "a3104664-f86a-47c8-a115-727d72c97386",
   "metadata": {},
   "outputs": [
    {
     "name": "stdout",
     "output_type": "stream",
     "text": [
      "{'secret_name': 'TOKEN_2'}\n"
     ]
    }
   ],
   "source": [
    "response = maap.secrets.add_secret(\"TOKEN_2\", \"value_of_token_2\")\n",
    "print(response)"
   ]
  },
  {
   "cell_type": "markdown",
   "id": "17a7bc43-2ef7-4142-89f0-f2796fb70278",
   "metadata": {},
   "source": [
    "## List your Secrets"
   ]
  },
  {
   "cell_type": "code",
   "execution_count": 20,
   "id": "5469e324-4dd8-4e16-88ec-9f827ac9582d",
   "metadata": {},
   "outputs": [
    {
     "data": {
      "text/plain": [
       "[{'secret_name': 'MY_TOKEN'}, {'secret_name': 'TOKEN_2'}]"
      ]
     },
     "execution_count": 20,
     "metadata": {},
     "output_type": "execute_result"
    }
   ],
   "source": [
    "maap.secrets.get_secrets()"
   ]
  },
  {
   "cell_type": "markdown",
   "id": "e3c11648-e020-4bb3-8aa7-dbfd5db15bef",
   "metadata": {},
   "source": [
    "## Get Secrets\n",
    "\n",
    "This is also how you will retrieve encrypted secret-values inside your Algorithms. Note that a secret may not be set, in which case your Algorithm will need to capture the error."
   ]
  },
  {
   "cell_type": "code",
   "execution_count": 21,
   "id": "767b5258-e21d-48dd-bb0a-dcb8d9b3f0c1",
   "metadata": {},
   "outputs": [
    {
     "name": "stdout",
     "output_type": "stream",
     "text": [
      "value_of_token_2\n"
     ]
    }
   ],
   "source": [
    "response = maap.secrets.get_secret(\"TOKEN_2\")\n",
    "print(response)"
   ]
  },
  {
   "cell_type": "code",
   "execution_count": 24,
   "id": "9d81c123-66db-4f84-aa1f-de12d58ea6f6",
   "metadata": {},
   "outputs": [
    {
     "name": "stdout",
     "output_type": "stream",
     "text": [
      "{'code': 404, 'message': 'No secret exists with name THIS_TOKEN_DOES_NOT_EXIST'}\n"
     ]
    }
   ],
   "source": [
    "response = maap.secrets.get_secret(\"THIS_TOKEN_DOES_NOT_EXIST\")\n",
    "print(response)"
   ]
  },
  {
   "cell_type": "markdown",
   "id": "82be9631-4a49-4c4c-98b4-03c1a799b630",
   "metadata": {},
   "source": [
    "## Delete Secrets"
   ]
  },
  {
   "cell_type": "code",
   "execution_count": 18,
   "id": "bce70db7-8871-4371-8965-ad0428700e1b",
   "metadata": {},
   "outputs": [
    {
     "name": "stdout",
     "output_type": "stream",
     "text": [
      "{'code': 200, 'message': 'Successfully deleted secret TOKEN_2'}\n"
     ]
    }
   ],
   "source": [
    "response = maap.secrets.delete_secret(\"TOKEN_2\")\n",
    "print(response)"
   ]
  }
 ],
 "metadata": {
  "kernelspec": {
   "display_name": "Python 3 (ipykernel)",
   "language": "python",
   "name": "python3"
  },
  "language_info": {
   "codemirror_mode": {
    "name": "ipython",
    "version": 3
   },
   "file_extension": ".py",
   "mimetype": "text/x-python",
   "name": "python",
   "nbconvert_exporter": "python",
   "pygments_lexer": "ipython3",
   "version": "3.10.13"
  }
 },
 "nbformat": 4,
 "nbformat_minor": 5
}
