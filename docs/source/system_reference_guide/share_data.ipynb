{
 "cells": [
  {
   "cell_type": "markdown",
   "metadata": {},
   "source": [
    "## Share Data\n",
    "\n",
    "Users who have access to a workspace have access to all the files contained in that workspace.\n",
    "\n",
    "All users have their own personal s3-bucket folder mounted in `/projects`, called `my-private-bucket`. \n",
    "Each user has a public s3-hosted folder called `my-public-bucket`. Files in this folder are automatically uploaded to s3 and are accessible from any workspace a user signs into.\n",
    "\n",
    "The intention of this mounted folder is that you can use this to share data with others, and also store files you want to access across different workspaces. It is not intended that you do all of your work in this directory. Because this directory is mounted to s3, you will notice that processes are slower when working in this directory. Other users can access what you put in your public bucket by going to `shared-buckets` and the folder marked with your CAS username. \n",
    "\n",
    "More information can also be found in the [Getting Started Guide (MAAP Storage Options)](../getting_started/getting_started.ipynb#MAAP-Storage-Options).\n",
    "\n",
    "![data](../_static/share_data.png)\n",
    "\n",
    "Users can create a shareable link for any files in their folder that is hosted on s3. To do this, go to `Command Palette -> User -> Get Presigned S3 Url` and enter the relative path to the file you want to share. You can also do this by right clicking a file and selecting \"Get Presigned S3 Url\". The link will expire after 12 hours."
   ]
  }
 ],
 "metadata": {
  "kernelspec": {
   "display_name": "Python 3.11.1 64-bit",
   "language": "python",
   "name": "python3"
  },
  "language_info": {
   "codemirror_mode": {
    "name": "ipython",
    "version": 3
   },
   "file_extension": ".py",
   "mimetype": "text/x-python",
   "name": "python",
   "nbconvert_exporter": "python",
   "pygments_lexer": "ipython3",
   "version": "3.11.1"
  },
  "vscode": {
   "interpreter": {
    "hash": "5c7b89af1651d0b8571dde13640ecdccf7d5a6204171d6ab33e7c296e100e08a"
   }
  }
 },
 "nbformat": 4,
 "nbformat_minor": 4
}
