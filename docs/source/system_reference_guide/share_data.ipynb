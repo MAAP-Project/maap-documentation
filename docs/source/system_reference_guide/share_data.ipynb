{
 "cells": [
  {
   "cell_type": "markdown",
   "metadata": {},
   "source": [
    "## Share Data\n",
    "\n",
    "Users who have access to a workspace have access to all the files contained in that workspace.\n",
    "\n",
    "All users have their own personal s3-bucket folder mounted in the FileBrowser home\n",
    "In `/projects`, each user has a personal s3-hosted folder with the same name as their CAS username. Files in this folder are automatically uploaded to s3 and are accessible from any workspace a user signs into.\n",
    "\n",
    "The intention of this mounted folder is that you can use this to share data with others, and also store files you want to access across different workspaces. It is not intended that you do all of your work in this directory. Because this directory is mounted to s3, you will notice that processes are slower when working in this directory.\n",
    "\n",
    "![data](../_static/share_data_1.png)\n",
    "\n",
    "Users can create a shareable link for any files in their folder that is hosted on s3. To do this, go to `Command Palette -> User -> Get Presigned S3 URL` and enter the relative path to the file you want to share. The link will expire after 12 hours."
   ]
  }
 ],
 "metadata": {
  "kernelspec": {
   "display_name": "Python 3",
   "language": "python",
   "name": "python3"
  },
  "language_info": {
   "codemirror_mode": {
    "name": "ipython",
    "version": 3
   },
   "file_extension": ".py",
   "mimetype": "text/x-python",
   "name": "python",
   "nbconvert_exporter": "python",
   "pygments_lexer": "ipython3",
   "version": "3.7.8"
  }
 },
 "nbformat": 4,
 "nbformat_minor": 4
}
