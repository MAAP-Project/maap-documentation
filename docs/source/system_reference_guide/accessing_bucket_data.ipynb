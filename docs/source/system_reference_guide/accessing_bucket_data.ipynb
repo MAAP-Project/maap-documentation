{
 "cells": [
  {
   "cell_type": "markdown",
   "metadata": {},
   "source": [
    "## Access workspace bucket data with temporary AWS credentials\n",
    "\n",
    "When logged into the ADE, temporary s3 credentials can be issued using the maap-py function `maap.aws.workspace_bucket_credentials()`\n",
    "\n",
    "This command issues a set of AWS credentials that grant full read/write access to your own user folder within the `maap-ops-workspace` bucket. Access is given to the directory corresponding to your `my-private-bucket` folder within the ADE. \n",
    "\n",
    "```python\n",
    "\n",
    "import json\n",
    "from maap.maap import MAAP\n",
    "maap = MAAP()\n",
    "\n",
    "print(json.dumps(maap.aws.workspace_bucket_credentials(), indent=2))\n",
    ">>> {\n",
    "  \"aws_access_key_id\": \"...\",\n",
    "  \"aws_bucket_name\": \"maap-ops-workspace\",\n",
    "  \"aws_bucket_prefix\": \"maap_user\",\n",
    "  \"aws_secret_access_key\": \"...\",\n",
    "  \"aws_session_expiration\": \"...\",\n",
    "  \"aws_session_token\": \"...\"\n",
    "}\n",
    "```"
   ]
  }
 ],
 "metadata": {
  "kernelspec": {
   "display_name": "Python 3",
   "language": "python",
   "name": "python3"
  },
  "language_info": {
   "codemirror_mode": {
    "name": "ipython",
    "version": 3
   },
   "file_extension": ".py",
   "mimetype": "text/x-python",
   "name": "python",
   "nbconvert_exporter": "python",
   "pygments_lexer": "ipython3",
   "version": "3.7.8"
  }
 },
 "nbformat": 4,
 "nbformat_minor": 4
}
