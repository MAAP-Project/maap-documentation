{
 "cells": [
  {
   "cell_type": "markdown",
   "metadata": {},
   "source": [
    "## SSH into Workspace\n",
    "\n",
    "As an alternative to using the jupyter interface, you can SSH directly into the container that your workspace set up. In order to get the IP and port information, navigate to the command palette of the jupyter interface. Find the command `Display SSH Info`, which will display the information you need (you can easily search for SSH). Your public SSH key that you added to your account will be added to any workspace you create. If you did not upload an SSH key to your profile, you will not be able to SSH in and must use the jupyter interface.\n",
    "\n",
    "![ssh workspace 1](../_static/ssh_1.png)\n",
    "\n",
    "![ssh workspace 2](../_static/ssh_2.png)"
   ]
  },
  {
   "attachments": {},
   "cell_type": "markdown",
   "metadata": {},
   "source": [
    "### Accessing MAAP workspaces over SSH\n",
    "\n",
    "If you would like to have your MAAP workspace mounted (via SSH) on your local computer, follow these steps. It is completely optional and if you do not know why you would want this, feel free to skip this part of the Getting Started Guide.\n",
    "\n",
    "Basically, this works the same as on any unix-based system: You need to add your Public SSH key from your computer/laptop to the `~/.ssh/authorized_keys` file in MAAP, as described below.\n",
    "\n",
    "#### Generate a Public SSH Key\n",
    "\n",
    "First, you need an SSH key for your personal machine. Here are [example instructions for creating an SSH key](https://docs.oracle.com/en/cloud/cloud-at-customer/occ-get-started/generate-ssh-key-pair.html). Note that there are different instructions for Windows and unix-based systems (MacOS, Linux). The outcome of this will be a Public SSH key on your local computer.\n",
    "\n",
    "#### Add the Public SSH Key to MAAP\n",
    "\n",
    "By default, you cannot see or edit hidden files in the MAAP Jupyter account. Therefore, you should do the following workaround:\n",
    "\n",
    "1. On your local computer, copy the contents of the public SSH key you just created. It will usually have a `.pub` extension (the default file is `~/.ssh/id_rsa.pub`) and its contents will look something like this (one long line):\n",
    "\n",
    "    `ssh-rsa AAAAB3Nza[...]TeDx1 ashiklom@gs610-ashiklom.ndc.nasa.gov`\n",
    "\n",
    "2. Use the Jupyter interface (right click in the file browser) to create a new folder in your home directory called `ssh`.\n",
    "3. Inside that folder, use the Jupyter interface (right click in the file browser) to create a new file called `authorized_keys` (NOTE: no file extension!).\n",
    "4. Double click the file you just created to open it in the editor.\n",
    "5. Copy the contents of your SSH key from your computer into this file. Save it and close it.\n",
    "6. Return to your home directory, right click the `ssh` folder, click “Rename”, and rename it to `.ssh` (period in front). You will get a 404 error, but the operation will have succeeded, and folder will ‘disappear’.\n",
    "     - To check that this worked, in a terminal window, run `ls -a` in your home directory. You should see the `.ssh` folder in there.\n",
    "7. Repeat these steps to add more SSH keys from different machines.\n",
    "     - Note that, to see the `.ssh` folder from JupyterLab, you’ll need to temporarily rename it to `ssh`. The only way to do this is via the terminal — `mv .ssh ssh`. Don’t forget to rename it back to `.ssh` when you’re done!\n",
    "\n",
    "To access a MAAP workspace over SSH, you will need a workspace-specific IP address and port. You can find this by going to the JupyterLab commands menu — the 4th button in the left panel of the Jupyter interface; shows a looking glass over a list; alternatively, press Control + Shift + C (Command + Shift + C on Mac) — and search for “SSH”. You’ll see “Display SSH Info”. Click this button. A dialog box with the correct SSH command will appear.\n",
    "\n",
    "#### Uploading your public SSH key \n",
    "\n",
    "**Is this an alternative way of doing the above? Or does this even work?**\n",
    "\n",
    "In order to access your ADE workspaces using SSH, you'll need to upload your public SSH key to your MAAP profile using the MAAP portal at https://ops.maap-project.org. \n",
    "\n",
    "Click on your profile name (or the \"Login\" button) in the top right corner shown here:\n",
    "\n",
    "![MAAP Portal](../_static/portal.png)\n",
    "\n",
    "On your profile page, click the \"Choose File\" button to upload your key.\n",
    "\n",
    "![SSH Key Upload](../_static/sshkey.png)\n",
    "\n",
    "After uploading your key, the SSH connection will be enabled **after your next** login into the ADE.\n",
    "\n"
   ]
  }
 ],
 "metadata": {
  "kernelspec": {
   "display_name": "Python 3",
   "language": "python",
   "name": "python3"
  },
  "language_info": {
   "codemirror_mode": {
    "name": "ipython",
    "version": 3
   },
   "file_extension": ".py",
   "mimetype": "text/x-python",
   "name": "python",
   "nbconvert_exporter": "python",
   "pygments_lexer": "ipython3",
   "version": "3.7.8"
  }
 },
 "nbformat": 4,
 "nbformat_minor": 4
}
