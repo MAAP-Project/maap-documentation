{
 "cells": [
  {
   "cell_type": "markdown",
   "id": "b1415c85-7a73-4c68-ade3-5ec2fb1fff00",
   "metadata": {
    "tags": []
   },
   "source": [
    "# Open-Source Science and MAAP\n",
    "\n",
    "Authors: Sheyenne Kirkland (UAH), Brian Freitag (MSFC), Alex Mandel (DevSeed)\n",
    "\n",
    "Date: December 12, 2023\n",
    "\n",
    "Description: A general overview of open-source science and how it applies to MAAP."
   ]
  },
  {
   "cell_type": "markdown",
   "id": "429588d7-beb6-41f2-b70f-c666564acf21",
   "metadata": {},
   "source": [
    "## What is Open-Source Science (OSS)?\n",
    "\n",
    "NASA's Transform to Open Science (TOPS) mission defines open science as \"the principle and practice of making research products and processes available to all, while respecting diverse cultures, maintaining security and privacy, and fostering collaborations, reproducability, and equity\" ([TOPS What is open science?](https://nasa.github.io/Transform-to-Open-Science/what-is-open-science/)).\n",
    "\n",
    "While other agencies and teams will have varying definitions, open-science generally revolves around making science more inclusive, accessible, and transparent."
   ]
  },
  {
   "cell_type": "markdown",
   "id": "01d2925c-d836-48a8-9931-74d0f8076b4b",
   "metadata": {},
   "source": [
    "## NASA OSS Policies and MAAP\n",
    "\n",
    "NASA has an Open-Source Science Initiative (OSSI) and provides guidance on how NASA-funded projects and activities should share publications, data, and software. The primary documentation referred to will be the [Open-Source Science Guidance](https://smd-cms.nasa.gov/wp-content/uploads/2023/07/smd-open-source-science-guidance-v2-20230407.pdf) by the NASA Science Mission Directorate (SMD), and the [SMD Policy Document SPD-41a](https://smd-cms.nasa.gov/wp-content/uploads/2023/08/smd-information-policy-spd-41a.pdf)."
   ]
  },
  {
   "cell_type": "markdown",
   "id": "5b869913-cb20-43c2-a3d4-e0a62fc54eca",
   "metadata": {},
   "source": [
    "### How does this apply to MAAP?\n",
    "\n",
    "MAAP already aims to make biomass-relevant content more discoverable and easily accessible, and has software and tools available to aid in data discoverability. Through the OSSI guidance, additional steps are being implemented to ensure that MAAP continues to promote and enhance open-science such as:\n",
    "\n",
    "- Minting DOIs (Digital Object Identifiers) for software and Github repositories. DOIs allow your content and software to be uniquely identified and accessed reliably ([doi.org](https://doi.org)).\n",
    "    - MAAP documents and software are available on Github and are also being added to Zenodo repositories.\n",
    "\n",
    "- Licensing our software. Licenses help make our content available to users.\n",
    "\n",
    "- Continually enhancing and adding to our documentation.\n",
    "\n",
    "MAAP users are also encouraged to engage in open-source science. Additional documentation is provided on [DOI minting and licensing](./doi_and_licensing.ipynb).\n",
    "\n",
    "**In addition, NASA has recently released their  [Open Science 101 curriculum](https://openscience101.org/). The course helps provide a more thorough understanding of open science, enabling participants to actively participate in open science. We recommend users complete the course and begin to align their work with the teachings of the course.**"
   ]
  }
 ],
 "metadata": {
  "kernelspec": {
   "display_name": "Python 3 (ipykernel)",
   "language": "python",
   "name": "python3"
  },
  "language_info": {
   "codemirror_mode": {
    "name": "ipython",
    "version": 3
   },
   "file_extension": ".py",
   "mimetype": "text/x-python",
   "name": "python",
   "nbconvert_exporter": "python",
   "pygments_lexer": "ipython3",
   "version": "3.10.12"
  }
 },
 "nbformat": 4,
 "nbformat_minor": 5
}
