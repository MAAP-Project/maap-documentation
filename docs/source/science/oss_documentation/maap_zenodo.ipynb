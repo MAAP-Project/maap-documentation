{
 "cells": [
  {
   "cell_type": "markdown",
   "metadata": {},
   "source": [
    "# Submitting to the MAAP Zenodo Community\n",
    "\n",
    "Authors: Sheyenne Kirkland (UAH), Brian Freitag (NASA MSFC), Alex Mandel (DevSeed)\n",
    "\n",
    "Date: January 23, 2024\n",
    "\n",
    "Description: In this notebook, we describe what content can be submitted to the [MAAP Zenodo Community](https://zenodo.org/communities/maap?q=&l=list&p=1&s=10&sort=newest) and how to submit that content."
   ]
  },
  {
   "cell_type": "markdown",
   "metadata": {},
   "source": [
    "## MAAP Zenodo Community\n",
    "In an effort to comply with and promote open science, we have created the [MAAP Zenodo Community](https://zenodo.org/communities/maap?q=&l=list&p=1&s=10&sort=newest). [Zenodo](https://zenodo.org/) is a general repository where users can upload data, software, publications, and additional materials that may be associated with your work.\n",
    "\n",
    "If your content does not already have a Digital Object Identifier (DOI), then one will be created once your content is uploaded to Zenodo. A DOI helps make your content more discoverable and easily citable. "
   ]
  },
  {
   "cell_type": "markdown",
   "metadata": {},
   "source": [
    "## Who Should Submit?\n",
    "\n",
    "MAAP users creating content using MAAP or MAAP data. There is a variety of currently acceptable content listed below."
   ]
  },
  {
   "cell_type": "markdown",
   "metadata": {},
   "source": [
    "## What Can Be Submitted?\n",
    "\n",
    "- Repositories with code\n",
    "\n",
    "- Software\n",
    "\n",
    "- Presentations, posters and publications\n",
    "\n",
    "- Models\n",
    "\n",
    "- Computational notebooks\n",
    "\n",
    "**Important: ONLY content developed on MAAP or using MAAP data will be accepted.**"
   ]
  },
  {
   "cell_type": "markdown",
   "metadata": {},
   "source": [
    "## How to Submit Content to the MAAP Community\n",
    "\n",
    "There are different ways to submit your MAAP content to Zenodo.\n",
    "\n",
    "### 1. Directly on the MAAP Zenodo Community\n",
    "To fill out and submit content directly on the MAAP Community, you'll go to the [MAAP Zenodo Community](https://zenodo.org/communities/maap?q=&l=list&p=1&s=10&sort=newest) page and click \"New upload\" at the top.\n",
    "\n",
    "![MAAP Zenodo Community](../../_static/maap-zenodo-community.png)\n",
    "\n",
    "From there, you'll be taken to the form where you can upload your content, fill in the metadata, and submit.\n",
    "\n",
    "\n",
    "### 2. Upload to your Zenodo Account\n",
    "\n",
    "Users can also directly upload content to their Zenodo account, and then submit to the MAAP Community (and others - you can submit to more than one with this method!). Just go to the \"+\" dropdown menu at the top next to your account and select \"New upload\".\n",
    "\n",
    "![User Upload](../../_static/zenodo_user_upload.png)\n",
    "\n",
    "Similar to the option above, you'll be taken to a form to upload your content, fill in the metadata, and submit. Once submitted, you'll be taken to the main page of your newly uploaded content. On the right-side menu, scroll down to \"Communities\", hit the dropdown, and select \"Submit to community\".\n",
    "\n",
    "![Zenodo Community Upload](../../_static/zenodo_upload_test.png)\n",
    "\n",
    "Users can then search for their desired community (for MAAP, just search \"MAAP\"), select the community, follow the instructions and submit.\n",
    "\n",
    "### 3. Zenodo-Github Integration\n",
    "\n",
    "Github is integrated with Zenodo, so users can directly upload Github repositories. This is especially recommended for algorithms, as all future versions (releases in Github) will automatically receive DOIs in Zenodo.\n",
    "\n",
    "To do this, go to the Github Zenodo page by selecting the drop-down menu to the right of your Zenodo account and clicking \"Github\". In the upper right corner, click \"Sync now\" and you'll see your repositories pop up at the bottom of the screen. Toggle the button to \"On\" for the repository you want to upload.\n",
    "\n",
    "![Zenodo Github](../../_static/zenodo_github.png)\n",
    "\n",
    "Once you refresh the page, your repository should appear under \"Enabled Repositories\". Select your repo, and follow the instructions to make your first release. Once publishing your release, go back to Zenodo, refresh, and you will see a DOI with your repository.\n",
    "\n",
    "![Zendodo Github Release](../../_static/zenodo_github_release.png)\n",
    "\n",
    "Navigate to your repository in Zenodo by selecting \"My dashboard\" at the top of the page and then clicking your newly uploaded repository. Similar to above, select \"Submit to community\" under \"Communities\", select your desired community, and follow instructions.\n"
   ]
  },
  {
   "cell_type": "markdown",
   "metadata": {},
   "source": [
    "### Filling out Metadata and Best Practices\n",
    "\n",
    "There are 9 available sections that users can fill out: Files, Basic information, Recommended information, Funding, Alternate identifiers, Related works, References, Publishing information, and Conference.\n",
    "\n",
    "**Files**\n",
    "\n",
    "- The first step is uploading your file(s).\n",
    "\n",
    "**Basic information**\n",
    "\n",
    "- All fields under this section should be completed.\n",
    "\n",
    "- If your content does not have a DOI, select \"No\" under \"Digital Object Identifier\". A DOI will be created once uploaded and accepted.\n",
    "\n",
    "    - NOTE: if you use option 2 above and upload your content to your Zenodo account, select \"Get a DOI now!\" after \"No\" is selected, and a DOI will automatically be assigned.\n",
    "\n",
    "- The publication date should be the day you submit your content for review, unless it was already published elsewhere.\n",
    "\n",
    "- All co-authors should be listed under \"Creators\". If listed under creators, they will be included in the citation. Specific roles can be left blank, but we do recommend adding affiliations.\n",
    "\n",
    "- A plain language summary should be provided under \"Description\". If applicable, an abstract can also be provided here.\n",
    "\n",
    "- Your content should have a license; to comply with open science, the license should be permissive. The default license is \"Creative Commons Attribution 4.0 International\". For a list of other acceptable licenses, refer to our page on [Open Sourcing Code](./doi_and_licensing.ipynb).\n",
    "\n",
    "**Recommended Information**\n",
    "\n",
    "- Remember: co-authors should be listed in the previous section under \"Creators\" and not \"Contributors\".\n",
    "\n",
    "- Keywords will help make your content searchable, and are up to the user to provide. Some recommended, general keywords for MAAP users can be: `Software` `Data Science` `Data Visualization` `Earth Science` `Open Science` `Data Exploration` `Biomass` `AGU 2023 (adjust conference/year as necessary)`\n",
    "\n",
    "    - Specific datasets can also be listed as a keyword, like `GEDI` or `ICESat` for example.\n",
    "    \n",
    "    - Parameters also make good keywords, like `Land cover` or `Canopy height`.\n",
    "\n",
    "- Provide the language(s) your content is provided in.\n",
    "\n",
    "- \"Dates\" is where you can add other dates besides the publishing date. For example, a presentation that was given previously at a conference can be provided with a type of \"Available\" and a description of \"Conference presentation\".\n",
    "\n",
    "- The publisher should be \"NASA MAAP\" or \"ESA MAAP\" for MAAP users.\n",
    "\n",
    "**Funding**\n",
    "\n",
    "- Funding for your project can be added here, if applicable.\n",
    "\n",
    "**Alternate Identifiers**\n",
    "\n",
    "- An alternate identifier can be added here, if applicable.\n",
    "\n",
    "**Related Works**\n",
    "\n",
    "- We recommend providing related software in this section. For example, a presentation on MAAP's GEDI Subsetter would include the DOI for the GEDI Subsetter software ([10.5281/zenodo.10019412](https://doi.org/10.5281/zenodo.10019412)) under this section.\n",
    "\n",
    "**References**\n",
    "\n",
    "- References can be added here, if applicable.\n",
    "\n",
    "**Publishing Information**\n",
    "\n",
    "- Publishing information (if your content is also in a journal, print, or thesis) can be added here, if applicable.\n",
    "\n",
    "**Conference**\n",
    "\n",
    "- This section is recommended to be completed if your content was presented at a conference."
   ]
  },
  {
   "cell_type": "markdown",
   "metadata": {},
   "source": [
    "### Submission\n",
    "\n",
    "Once your content is submitted to the MAAP Community, the necessary contacts will be notified, and you will receive an email once your content is accepted or denied. Note that once accepted, you can still go back and make edits to the metadata."
   ]
  }
 ],
 "metadata": {
  "kernelspec": {
   "display_name": "Python 3",
   "language": "python",
   "name": "python3"
  },
  "language_info": {
   "codemirror_mode": {
    "name": "ipython",
    "version": 3
   },
   "file_extension": ".py",
   "mimetype": "text/x-python",
   "name": "python",
   "nbconvert_exporter": "python",
   "pygments_lexer": "ipython3",
   "version": "3.11.4"
  }
 },
 "nbformat": 4,
 "nbformat_minor": 2
}
