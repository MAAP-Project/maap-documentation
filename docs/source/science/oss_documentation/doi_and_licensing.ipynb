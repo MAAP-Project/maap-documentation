{
 "cells": [
  {
   "cell_type": "markdown",
   "id": "8e48e9df-35f4-444c-8c6d-89ed10e28ba0",
   "metadata": {},
   "source": [
    "# Open Sourcing Code"
   ]
  },
  {
   "cell_type": "markdown",
   "id": "3bb3ccb7-8ad5-4cbb-bf52-bf663535b449",
   "metadata": {},
   "source": [
    "Authors: Sheyenne Kirkland (UAH), Brian Freitag (MSFC), Alex Mandel (DevSeed)\n",
    "\n",
    "Date: December 12, 2023\n",
    "\n",
    "Description: A document to provide guidelines for MAAP users on sharing code based on NASA's Open-Source Science Initiative (OSSI). General references are provided on repositories, how to create a DOI (Digital Object Identifier) and choosing a license. For more general information on MAAP and open-source science, please see [the General OSS document](./general_oss.ipynb).\n",
    "\n",
    "**In addition, NASA has recently released their  [Open Science 101 curriculum](https://openscience101.org/). The course helps provide a more thorough understanding of open science, enabling participants to actively participate in open science. We recommend users complete the course and begin to align their work with the teachings of the course.**"
   ]
  },
  {
   "cell_type": "markdown",
   "id": "0d9346ab-455c-4e43-9fc7-5b492e8ef55a",
   "metadata": {},
   "source": [
    "## Additional Resources"
   ]
  },
  {
   "cell_type": "markdown",
   "id": "dc4875a4-0c6d-4033-a7f0-29e98098544e",
   "metadata": {},
   "source": [
    "- [NASA's Transform to Open Science (TOPS)](https://nasa.github.io/Transform-to-Open-Science/)"
   ]
  },
  {
   "cell_type": "markdown",
   "id": "93ee71bf-c135-47f1-8226-657d4892745a",
   "metadata": {},
   "source": [
    "## Sharing Software\n",
    "\n",
    "Per the Science Mission Directorate (SMD) Policy Document [SPD-41a](https://smd-cms.nasa.gov/wp-content/uploads/2023/08/smd-information-policy-spd-41a.pdf) under III.D, software that has been developed under NASA funding should be:\n",
    "\n",
    "- \"... made available in a publicly accessible repository that is widely recognized by the community.\"\n",
    "\n",
    "- \"... citable using a persistent identifier\" (i.e. a DOI) \n",
    "\n",
    "- \"... released under a permissive license that has broad acceptance in the community.\"\n",
    "\n",
    "Disclaimer: There can be some exceptions (like restricted software). It is best to familiarize yourself with policy documentation (the [SPD-41a](https://smd-cms.nasa.gov/wp-content/uploads/2023/08/smd-information-policy-spd-41a.pdf)) and reach out to the appropriate contact for advice if an exception could apply to your software. There are also some additional policies that can apply if NASA-funded. This documentation is to help provide some guidance and encourage MAAP users to enagage and comply with open-source science and policies."
   ]
  },
  {
   "cell_type": "markdown",
   "id": "45949408-493f-467b-b0de-e42418230c18",
   "metadata": {},
   "source": [
    "## Repositories for Archiving and Minting DOIs\n",
    "\n",
    "Domain-specific repositories are encouraged when possible, and if not possible, an external repository can be used instead. A DOI helps make your code more discoverable and accessible, and can be assigned by the repository.\n",
    "\n",
    "There are some public repositories for software that are already used within the scientific community, mentioned in the [Open-Source Science Guidance](https://smd-cms.nasa.gov/wp-content/uploads/2023/07/smd-open-source-science-guidance-v2-20230407.pdf):\n",
    "\n",
    "- [Zenodo](https://zenodo.org/)\n",
    "    - Note that Zenodo has integration with [Github](https://github.com/) (another acceptable repository for MAAP users), making it easier to create an archived copy.\n",
    "\n",
    "- [Astrophysics Source Code Library](https://ascl.net/)\n",
    "\n",
    "- [Software Heritage](https://www.softwareheritage.org/)\n",
    "\n",
    "Some other well-known repositories:\n",
    "\n",
    "- [Dataverse](https://dataverse.org/)\n",
    "\n",
    "- [Figshare](https://figshare.com/)\n",
    "\n",
    "- [Dryad](https://datadryad.org/stash)\n",
    "\n",
    "- [OSF](https://osf.io/)\n",
    "\n",
    "- [Gitlab](https://gitlab.com/)\n",
    "\n",
    "There are other external repositories out there that could also be acceptable. A list is provided by the USGS on criteria to consider when choosing an external repository, which can be found [here](https://www.usgs.gov/office-of-science-quality-and-integrity/fundamental-science-practices-fsp-criteria-selecting-non).\n",
    "\n",
    "***Notes for MAAP users:**\n",
    "\n",
    "- Users can create repositories within the [MAAP Gitlab](https://repo.maap-project.org/).\n",
    "    - Users *cannot* create their own repository under the [MAAP Github](https://github.com/MAAP-Project), but can create a new Organization for their research project. However, MAAP users are welcome to [contribute](https://github.com/MAAP-Project/maap-documentation/blob/develop/CONTRIBUTING.md) to already-existing MAAP repositories. \n",
    "    \n",
    "- **If you are a MAAP user developing code, we recommend submitting your repository to the [MAAP Community on Zenodo](https://zenodo.org/communities/maap?q=&l=list&p=1&s=10&sort=newest).*\n",
    "\n",
    "### If you are NASA-Funded:\n",
    "\n",
    "If NASA-funded, you should follow guidance for how and where to share your code as there may be a specific repository you should submit to. However, if no repository if specified, it is encouraged to choose a [NASA Science Data Archive](https://science.data.nasa.gov/) if applicable."
   ]
  },
  {
   "cell_type": "markdown",
   "id": "a51d50f6-2a45-48a3-a47b-0b65292df336",
   "metadata": {},
   "source": [
    "## Choosing a License\n",
    "\n",
    "Open source licenses allow software to be freely used, modified, and shared ([Open Science Initiative](https://opensource.org/licenses/)). There are three permissive and widely accepted licenses that are recommended within the SPD-41a:\n",
    "\n",
    "1. Apache 2.0 license\n",
    "    - \"A permissive license whose main conditions require preservation of copyright and license notices.\" Also requires that changes made to the licensed material must be documented. (source: [choosealicence.com](https://choosealicense.com/))\n",
    "2. BSD 3-Clause license\n",
    "    - A short permissive license similar to the MIT license, but also prevents someone from claiming false endorsement (stated in clause 3 of the BSD 3-Clause license).\n",
    "3. MIT license\n",
    "    - \"A short and simple permissive license with conditions only requiring preservation of copyright and license notices.\" (source: [choosealicence.com](https://choosealicense.com/))\n",
    "\n",
    "[choosealicence.com](https://choosealicense.com/) and [opensource.org](https://opensource.org/) provide a list of licenses. [choosealicence.com](https://choosealicense.com/) also provides some additional information about each one."
   ]
  }
 ],
 "metadata": {
  "kernelspec": {
   "display_name": "Python 3 (ipykernel)",
   "language": "python",
   "name": "python3"
  },
  "language_info": {
   "codemirror_mode": {
    "name": "ipython",
    "version": 3
   },
   "file_extension": ".py",
   "mimetype": "text/x-python",
   "name": "python",
   "nbconvert_exporter": "python",
   "pygments_lexer": "ipython3",
   "version": "3.10.13"
  }
 },
 "nbformat": 4,
 "nbformat_minor": 5
}
