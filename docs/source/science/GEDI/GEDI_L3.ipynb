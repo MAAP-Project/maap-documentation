{
 "cells": [
  {
   "cell_type": "markdown",
   "id": "37756a5c",
   "metadata": {},
   "source": [
    "# GEDI_L3 Search and Download"
   ]
  },
  {
   "cell_type": "markdown",
   "id": "a5124a49",
   "metadata": {},
   "source": [
    "Authors: Anish Bhusal (UAH), Sumant Jha (MSFC/USRA), Jamison French (DevSeed), Aimee Barciauskas (DevSeed), Alex Mandel (DevSeed)\n",
    "\n",
    "Date: February 8, 2023\n",
    "\n",
    "Description: In this tutorial, we will search for GEDI L3 data in NASA's Earthdata Search, and then download a GeoTIFF file from the ORNL DAAC S3. We will then visualize the GeoTIFF file, which consists of canopy heights."
   ]
  },
  {
   "cell_type": "markdown",
   "id": "fd51e936",
   "metadata": {},
   "source": [
    "## Run This Notebook\n",
    "To access and run this tutorial within MAAP's Algorithm Development Environment (ADE), please refer to the [\"Getting started with the MAAP\"](https://docs.maap-project.org/en/latest/getting_started/getting_started.html) section of our documentation.\n",
    "\n",
    "Disclaimer: it is highly recommended to run a tutorial within MAAP's ADE, which already includes packages specific to MAAP, such as maap-py. Running the tutorial outside of the MAAP ADE may lead to errors."
   ]
  },
  {
   "cell_type": "markdown",
   "id": "b62a45d6",
   "metadata": {},
   "source": [
    "## About the Data\n",
    "\n",
    "GEDI L3 Gridded Land Surface Metrics, Version 2\n",
    "\n",
    "This dataset provides Global Ecosystem Dynamics Investigation (GEDI) Level 3 (L3) gridded mean canopy height, standard deviation of canopy height, mean ground elevation, standard deviation of ground elevation, and counts of laser footprints per 1-km x 1-km grid cells globally within -52 and 52 degrees latitude. GEDI is attached to the International Space Station (ISS) and collects data globally between 51.6° N and 51.6° S latitudes at the highest resolution and densest sampling of any light detection and ranging (lidar) instrument in orbit to date. \n",
    "\n",
    "GEDI L3 data products are gridded by spatially interpolating Level 2 footprint estimates of canopy cover, canopy height, Leaf Area Index (LAI), vertical foliage profile and their uncertainties. Level 2 data contains terrain elevation, canopy height, RH metrics and Leaf Area Index (LAI). The raw waveforms are collected by GEDI system and processed to provide canopy height and profile metrics. These metrics provide easy to use and interpret information about the vertical distribution of canopy material. \n",
    "\n",
    "Source: [GEDI L3 Gridded Land Surface Metrics, Version 2 Data Set Landing Page](https://daac.ornl.gov/cgi-bin/dsviewer.pl?ds_id=1952)"
   ]
  },
  {
   "cell_type": "markdown",
   "id": "5089d922",
   "metadata": {},
   "source": [
    "![Canopy](../../_static/canopy_footprint_level2.png)"
   ]
  },
  {
   "cell_type": "markdown",
   "id": "053cc63d",
   "metadata": {},
   "source": [
    "Source: https://gedi.umd.edu/data/products/\n",
    "\n",
    "Figure: Sample of GEDI lidar waveform (left). The light brown area under the curve represents the return energy from the canopy, while the dark brown area signifies the return from the underlying typography. The black line is cumulative return energey, starting from the bottom of the ground return (normalized to 0) to the top of canopy (normalized to 1). The diagram on the right shows the distribution of trees that produced the waveform."
   ]
  },
  {
   "cell_type": "markdown",
   "id": "00822213",
   "metadata": {},
   "source": [
    "## Additional Resources\n",
    "- [GEDI L3 Gridded Land Surface Metrics, Version 2 User Guide](https://daac.ornl.gov/GEDI/guides/GEDI_L3_LandSurface_Metrics_V2.html)\n",
    "- [GEDI Overview Page, LPDAAC](https://lpdaac.usgs.gov/data/get-started-data/collection-overview/missions/gedi-overview/) "
   ]
  },
  {
   "cell_type": "markdown",
   "id": "d435622a",
   "metadata": {},
   "source": [
    "## Importing and Installing Packages\n",
    "\n",
    "This tutorial assumes you've all packages installed. If you haven't already, uncomment the following lines to install these packages."
   ]
  },
  {
   "cell_type": "code",
   "execution_count": null,
   "id": "19680200",
   "metadata": {},
   "outputs": [],
   "source": [
    "# !pip install geopandas\n",
    "# !pip install contextily\n",
    "# !pip install backoff\n",
    "# !pip install folium\n",
    "# !pip install geojsoncontour"
   ]
  },
  {
   "cell_type": "code",
   "execution_count": 16,
   "id": "dc332b7a",
   "metadata": {},
   "outputs": [],
   "source": [
    "from maap.maap import MAAP\n",
    "import pandas as pd\n",
    "import folium\n",
    "from rasterio.plot import show \n",
    "import rasterio\n",
    "import boto3\n",
    "import os"
   ]
  },
  {
   "cell_type": "markdown",
   "id": "4b292534",
   "metadata": {},
   "source": [
    "After importing necessary packages, the next step is to initialize MAAP constructor using `api.maap-project.org` as `maap_host` argument."
   ]
  },
  {
   "cell_type": "code",
   "execution_count": 17,
   "id": "e84b82ac",
   "metadata": {},
   "outputs": [],
   "source": [
    "maap = MAAP(maap_host=\"api.maap-project.org\")"
   ]
  },
  {
   "cell_type": "markdown",
   "id": "666b5e2d",
   "metadata": {},
   "source": [
    "Now, the next step is to seach granules from the CMR. To generate following query, you can use EarthData search feature from MAAP ADE. Refer to this [tutorial](https://docs.maap-project.org/en/latest/science/GEDI/SearchGEDI.html) for more info."
   ]
  },
  {
   "cell_type": "code",
   "execution_count": 18,
   "id": "964d18aa",
   "metadata": {},
   "outputs": [],
   "source": [
    "results=maap.searchGranule(cmr_host='cmr.earthdata.nasa.gov',concept_id=\"C2153683336-ORNL_CLOUD\", limit=1000)"
   ]
  },
  {
   "cell_type": "markdown",
   "id": "2f46ce72",
   "metadata": {},
   "source": [
    "The above query gives 1000 results by default. The number of necessary results can be changed using `limit` argument.\n",
    "We can view the `GranuleUR` from results using: "
   ]
  },
  {
   "cell_type": "code",
   "execution_count": 19,
   "id": "fbf53e2f",
   "metadata": {},
   "outputs": [
    {
     "data": {
      "text/plain": [
       "['GEDI_L3_LandSurface_Metrics_V2.GEDI03_elev_lowestmode_stddev_2019108_2020287_002_02.tif',\n",
       " 'GEDI_L3_LandSurface_Metrics_V2.GEDI03_counts_2019108_2020287_002_02.tif',\n",
       " 'GEDI_L3_LandSurface_Metrics_V2.GEDI03_counts_2019108_2021104_002_02.tif',\n",
       " 'GEDI_L3_LandSurface_Metrics_V2.GEDI03_rh100_mean_2019108_2020287_002_02.tif',\n",
       " 'GEDI_L3_LandSurface_Metrics_V2.GEDI03_rh100_stddev_2019108_2020287_002_02.tif',\n",
       " 'GEDI_L3_LandSurface_Metrics_V2.GEDI03_elev_lowestmode_stddev_2019108_2021104_002_02.tif',\n",
       " 'GEDI_L3_LandSurface_Metrics_V2.GEDI03_rh100_stddev_2019108_2021104_002_02.tif',\n",
       " 'GEDI_L3_LandSurface_Metrics_V2.GEDI03_elev_lowestmode_mean_2019108_2020287_002_02.tif',\n",
       " 'GEDI_L3_LandSurface_Metrics_V2.GEDI03_elev_lowestmode_mean_2019108_2021104_002_02.tif',\n",
       " 'GEDI_L3_LandSurface_Metrics_V2.GEDI03_rh100_mean_2019108_2021104_002_02.tif',\n",
       " 'GEDI_L3_LandSurface_Metrics_V2.GEDI03_elev_lowestmode_stddev_2019108_2021216_002_02.tif',\n",
       " 'GEDI_L3_LandSurface_Metrics_V2.GEDI03_elev_lowestmode_mean_2019108_2021216_002_02.tif',\n",
       " 'GEDI_L3_LandSurface_Metrics_V2.GEDI03_rh100_stddev_2019108_2021216_002_02.tif',\n",
       " 'GEDI_L3_LandSurface_Metrics_V2.GEDI03_rh100_mean_2019108_2021216_002_02.tif',\n",
       " 'GEDI_L3_LandSurface_Metrics_V2.GEDI03_counts_2019108_2021216_002_02.tif',\n",
       " 'GEDI_L3_LandSurface_Metrics_V2.GEDI03_elev_lowestmode_mean_2019108_2022019_002_03.tif',\n",
       " 'GEDI_L3_LandSurface_Metrics_V2.GEDI03_counts_2019108_2022019_002_03.tif',\n",
       " 'GEDI_L3_LandSurface_Metrics_V2.GEDI03_rh100_mean_2019108_2022019_002_03.tif',\n",
       " 'GEDI_L3_LandSurface_Metrics_V2.GEDI03_elev_lowestmode_stddev_2019108_2022019_002_03.tif',\n",
       " 'GEDI_L3_LandSurface_Metrics_V2.GEDI03_rh100_stddev_2019108_2022019_002_03.tif']"
      ]
     },
     "execution_count": 19,
     "metadata": {},
     "output_type": "execute_result"
    }
   ],
   "source": [
    "[result['Granule']['GranuleUR'] for result in results]"
   ]
  },
  {
   "cell_type": "markdown",
   "id": "2034db42",
   "metadata": {},
   "source": [
    "Before downloading a particular tif, let's catch the collection and file name for first item in results: "
   ]
  },
  {
   "cell_type": "code",
   "execution_count": 20,
   "id": "5923097c",
   "metadata": {},
   "outputs": [],
   "source": [
    "granule_ur=results[0]['Granule']['GranuleUR'].split(\".\")\n",
    "collection_name=granule_ur[0]\n",
    "file_name=granule_ur[1]"
   ]
  },
  {
   "cell_type": "code",
   "execution_count": 21,
   "id": "7d30dbc9",
   "metadata": {},
   "outputs": [
    {
     "name": "stdout",
     "output_type": "stream",
     "text": [
      "collection name: GEDI_L3_LandSurface_Metrics_V2 | file_name: GEDI03_elev_lowestmode_stddev_2019108_2020287_002_02\n"
     ]
    }
   ],
   "source": [
    "print(f\"collection name: {collection_name} | file_name: {file_name}\")"
   ]
  },
  {
   "cell_type": "markdown",
   "id": "e03631ad",
   "metadata": {},
   "source": [
    "## Download file from ORNL DAAC S3\n",
    "\n",
    "To download the file from the source, temporary s3 credentials are required for `maap` package. You can explicitly request `s3_cred_endpoint` for the credentials. The code below wraps that request to get credentials and download the file to your workspace. "
   ]
  },
  {
   "cell_type": "code",
   "execution_count": 22,
   "id": "d684eafe",
   "metadata": {},
   "outputs": [],
   "source": [
    "def get_s3_creds(url):\n",
    "    return maap.aws.earthdata_s3_credentials(url)\n",
    "\n",
    "def get_s3_client(s3_cred_endpoint):\n",
    "    creds=get_s3_creds(s3_cred_endpoint)\n",
    "    boto3_session = boto3.Session(\n",
    "            aws_access_key_id=creds['accessKeyId'],\n",
    "            aws_secret_access_key=creds['secretAccessKey'],\n",
    "            aws_session_token=creds['sessionToken']\n",
    "    )\n",
    "    return boto3_session.client(\"s3\")\n",
    "\n",
    "def download_s3_file(s3, bucket, collection_name, file_name):\n",
    "    os.makedirs(\"/projects/gedi_l3\", exist_ok=True) # create directories, as necessary\n",
    "    download_path=f\"/projects/gedi_l3/{file_name}.tif\"\n",
    "    s3.download_file(bucket, f\"gedi/{collection_name}/data/{file_name}.tif\", download_path)\n",
    "    return download_path"
   ]
  },
  {
   "cell_type": "code",
   "execution_count": 23,
   "id": "f08470da",
   "metadata": {},
   "outputs": [],
   "source": [
    "s3_cred_endpoint= 'https://data.ornldaac.earthdata.nasa.gov/s3credentials' \n",
    "s3=get_s3_client(s3_cred_endpoint)"
   ]
  },
  {
   "cell_type": "code",
   "execution_count": 24,
   "id": "c5bcbb50",
   "metadata": {},
   "outputs": [
    {
     "data": {
      "text/plain": [
       "'/projects/gedi_l3/GEDI03_elev_lowestmode_stddev_2019108_2020287_002_02.tif'"
      ]
     },
     "execution_count": 24,
     "metadata": {},
     "output_type": "execute_result"
    }
   ],
   "source": [
    "bucket=\"ornl-cumulus-prod-protected\"\n",
    "download_path=download_s3_file(s3, bucket, collection_name, file_name)\n",
    "download_path"
   ]
  },
  {
   "cell_type": "markdown",
   "id": "751a02f7",
   "metadata": {},
   "source": [
    "Now, we have the file in our local workspace. It's time to visualize it using `rasterio` package"
   ]
  },
  {
   "cell_type": "markdown",
   "id": "ee503aa3",
   "metadata": {},
   "source": [
    "## [Optional] Visualization using Rasterio"
   ]
  },
  {
   "cell_type": "markdown",
   "id": "9e700a3a",
   "metadata": {},
   "source": [
    "The downloaded file is too big to read and visualize directly so we might need to scale it down and view it as a small thumbnail. "
   ]
  },
  {
   "cell_type": "code",
   "execution_count": 25,
   "id": "b4e54a26",
   "metadata": {},
   "outputs": [],
   "source": [
    "def show_thumbnail(path):\n",
    "    src=rasterio.open(path)\n",
    "    oview = src.overviews(1)[0]\n",
    "    thumbnail = src.read(1, out_shape=(1, int(src.height // oview), int(src.width // oview)))\n",
    "    show(thumbnail)"
   ]
  },
  {
   "cell_type": "code",
   "execution_count": 26,
   "id": "075f4cc6",
   "metadata": {},
   "outputs": [
    {
     "data": {
      "image/png": "[encoded data removed]",
      "text/plain": [
       "<Figure size 432x288 with 1 Axes>"
      ]
     },
     "metadata": {
      "needs_background": "light"
     },
     "output_type": "display_data"
    }
   ],
   "source": [
    "show_thumbnail(download_path)"
   ]
  },
  {
   "cell_type": "markdown",
   "id": "7c33ab1e",
   "metadata": {},
   "source": [
    "## [Optional] Overlay Raster Layer on top of Folium Map\n",
    "\n",
    "To properly visualize the canopy heights, we need to display the TIF image on the map. The TIF image file may be too memory and compute-intensive for the kernel causing the process to exit."
   ]
  },
  {
   "cell_type": "code",
   "execution_count": 27,
   "id": "287ddc34",
   "metadata": {},
   "outputs": [],
   "source": [
    "# tif=rasterio.open(download_path)\n",
    "# arr=tif.read()\n",
    "# bounds=tif.bounds"
   ]
  },
  {
   "cell_type": "code",
   "execution_count": 28,
   "id": "4e92dd2c",
   "metadata": {},
   "outputs": [],
   "source": [
    "#import numpy as np\n",
    "\n",
    "# x1,y1,x2,y2=bounds\n",
    "# bbox=[(bounds.bottom, bounds.left), (bounds.top, bounds.right)]\n",
    "# m=folium.Map(location=[14.59, 120.98], zoom_start=10)\n",
    "# img = folium.raster_layers.ImageOverlay(image=np.moveaxis(arr, 0, -1), bounds=bbox, opacity=0.9, interactive=True, cross_origin=False, zindex=1)\n",
    "# m"
   ]
  }
 ],
 "metadata": {
  "kernelspec": {
   "display_name": "Python 3 (ipykernel)",
   "language": "python",
   "name": "python3"
  },
  "language_info": {
   "codemirror_mode": {
    "name": "ipython",
    "version": 3
   },
   "file_extension": ".py",
   "mimetype": "text/x-python",
   "name": "python",
   "nbconvert_exporter": "python",
   "pygments_lexer": "ipython3",
   "version": "3.7.8"
  },
  "vscode": {
   "interpreter": {
    "hash": "5c7b89af1651d0b8571dde13640ecdccf7d5a6204171d6ab33e7c296e100e08a"
   }
  }
 },
 "nbformat": 4,
 "nbformat_minor": 5
}
