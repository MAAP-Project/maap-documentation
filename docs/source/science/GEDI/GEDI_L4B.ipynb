{
 "cells": [
  {
   "cell_type": "markdown",
   "id": "03e829e9",
   "metadata": {},
   "source": [
    "# GEDI_L4B Search and Visualize"
   ]
  },
  {
   "cell_type": "markdown",
   "id": "39343211",
   "metadata": {},
   "source": [
    "Authors: Nikita Susan (UAH), Aimee Barciauskas (DevSeed), Sumant Jha (MSFC/USRA), Alex Mandel (DevSeed)\n",
    "\n",
    "Date: April 7, 2023\n",
    "\n",
    "Description: In this example, we demonstrate how to access the GEDI L4B collection and granule data on the MAAP ADE, and then visualize the data using matplotlib."
   ]
  },
  {
   "cell_type": "markdown",
   "id": "544e0985",
   "metadata": {},
   "source": [
    "## Run This Notebook\n",
    "To access and run this tutorial within MAAP's Algorithm Development Environment (ADE), please refer to the [\"Getting started with the MAAP\"](https://docs.maap-project.org/en/latest/getting_started/getting_started.html) section of our documentation.\n",
    "\n",
    "Disclaimer: it is highly recommended to run a tutorial within MAAP's ADE, which already includes packages specific to MAAP, such as maap-py. Running the tutorial outside of the MAAP ADE may lead to errors."
   ]
  },
  {
   "cell_type": "markdown",
   "id": "7fa174dd",
   "metadata": {},
   "source": [
    "## About the Data\n",
    "\n",
    "GEDI L4B Gridded Aboveground Biomass Density, Version 2\n",
    "\n",
    "This dataset provides Global Ecosystem Dynamics Investigation (GEDI) Level 4 (L4) data, which has the purpose of providing mean aboveground biomass density (AGBD) and consists of the GEDI_L4A and GEDI_L4B collections. GEDI_L4B uses a sample present within each 1km cell to statistically infer mean AGBD. GEDI is attached to the International Space Station (ISS) and collects data globally between 51.6° N and 51.6° S latitudes at the highest resolution and densest sampling of any light detection and ranging (lidar) instrument in orbit to date; specifically, GEDI L4B data has a spatial resolution of 1km. (Source: [GEDI_L4B Version 2 User Guide](https://daac.ornl.gov/GEDI/guides/GEDI_L4B_Gridded_Biomass.html))"
   ]
  },
  {
   "cell_type": "markdown",
   "id": "63a47555",
   "metadata": {},
   "source": [
    "## Additional Resources\n",
    "- [GEDI_L4B Version 2 Dataset Landing Page](https://daac.ornl.gov/cgi-bin/dsviewer.pl?ds_id=2017) \n",
    "- [The GEDI Website](https://gedi.umd.edu/)\n",
    "- [Earthdata Search](https://search.earthdata.nasa.gov/search?q=GEDI_L4B&lat=49.70652984841501&long=-102.041015625&zoom=6)"
   ]
  },
  {
   "cell_type": "markdown",
   "id": "e873e990",
   "metadata": {},
   "source": [
    "## Importing Packages"
   ]
  },
  {
   "cell_type": "markdown",
   "id": "7ddd527f",
   "metadata": {},
   "source": [
    "Within your Jupyter Notebook, start by importing the **maap package**. Then invoke the **MAAP** constructor, setting the maap_host argument to **'api.maap-project.org'**."
   ]
  },
  {
   "cell_type": "code",
   "execution_count": 22,
   "id": "751ea26d",
   "metadata": {},
   "outputs": [],
   "source": [
    "from maap.maap import MAAP\n",
    "from matplotlib import pyplot\n",
    "import os\n",
    "import pprint\n",
    "import rasterio\n",
    "import boto3\n",
    "\n",
    "maap = MAAP(maap_host=\"api.maap-project.org\")"
   ]
  },
  {
   "cell_type": "markdown",
   "id": "8039c1fd",
   "metadata": {},
   "source": [
    "## Search for the Collection and Associated Granules\n",
    "\n",
    "Now, we will search for the collection using the collection short name:"
   ]
  },
  {
   "cell_type": "code",
   "execution_count": 23,
   "id": "141ce670",
   "metadata": {},
   "outputs": [
    {
     "name": "stdout",
     "output_type": "stream",
     "text": [
      "[{'concept-id': 'C2244602422-ORNL_CLOUD', 'revision-id': '7', 'format': 'application/echo10+xml', 'Collection': {'ShortName': 'GEDI_L4B_Gridded_Biomass_2017', 'VersionId': '2', 'InsertTime': '2022-03-29T00:00:00Z', 'LastUpdate': '2023-06-12T20:25:17Z', 'LongName': 'GEDI L4B Gridded Aboveground Biomass Density, Version 2', 'DataSetId': 'GEDI L4B Gridded Aboveground Biomass Density, Version 2', 'Description': \"This Global Ecosystem Dynamics Investigation (GEDI) L4B product provides 1 km x 1 km (1 km,  hereafter) estimates of mean aboveground biomass density (AGBD) based on observations from mission week 19 starting on 2019-04-18 to mission week 138 ending on 2021-08-04. The GEDI L4A Footprint Biomass product converts each high-quality waveform to an AGBD prediction, and the L4B product uses the sample present within the borders of each 1 km cell to statistically infer mean AGBD. The gridding procedure is described in the GEDI L4B Algorithm Theoretical Basis Document (ATBD). Patterson et al. (2019) describes the hybrid model-based mode of inference used in the L4B product. Corresponding 1 km estimates of the standard error of the mean are also provided in the L4B product. Uncertainty is due to both GEDI's sampling of the 1 km area (as opposed to making wall-to-wall observations) and the fact that L4A biomass values are modeled in a process subject to error instead of measured in a process that may be assumed to be error-free.\", 'DOI': {'DOI': '10.3334/ORNLDAAC/2017', 'Authority': 'https://doi.org'}, 'Orderable': 'false', 'Visible': 'true', 'RevisionDate': '2022-03-29T00:00:00Z', 'ProcessingLevelId': '4', 'ProcessingLevelDescription': 'model products', 'ArchiveCenter': 'ORNL_DAAC', 'CitationForExternalPublication': 'Dubayah, R.O., J. Armston, S.P. Healey, Z. Yang, P.L. Patterson, S. Saarela, G. Stahl, L. Duncanson, and J.R. Kellner. 2022. GEDI L4B Gridded Aboveground Biomass Density, Version 2. ORNL DAAC, Oak Ridge, Tennessee, USA. https://doi.org/10.3334/ORNLDAAC/2017', 'CollectionState': 'COMPLETE', 'MaintenanceAndUpdateFrequency': 'As needed', 'UseConstraints': {'LicenseURL': {'URL': 'https://science.nasa.gov/earth-science/earth-science-data/data-information-policy', 'Description': 'License URL for data use policy', 'Type': 'Data Use Policy', 'MimeType': 'text/html'}}, 'Price': '0', 'DataFormat': 'GeoTIFF', 'SpatialKeywords': {'Keyword': 'GLOBAL LAND'}, 'Temporal': {'RangeDateTime': {'BeginningDateTime': '2019-04-18T00:00:00Z', 'EndingDateTime': '2021-08-04T23:59:59Z'}}, 'Contacts': {'Contact': {'Role': 'ARCHIVER', 'OrganizationName': 'ORNL_DAAC', 'OrganizationAddresses': {'Address': {'StreetAddress': 'ORNL DAAC User Services Office, P.O. Box 2008, MS 6407, Oak Ridge National Laboratory', 'City': 'Oak Ridge', 'StateProvince': 'Tennessee', 'PostalCode': '37831-6407', 'Country': 'USA'}}, 'OrganizationPhones': {'Phone': {'Number': '(865) 241-3952', 'Type': 'Direct Line'}}, 'OrganizationEmails': {'Email': 'uso@daac.ornl.gov'}}}, 'ScienceKeywords': {'ScienceKeyword': [{'CategoryKeyword': 'EARTH SCIENCE', 'TopicKeyword': 'BIOSPHERE', 'TermKeyword': 'ECOSYSTEMS', 'VariableLevel1Keyword': {'Value': 'TERRESTRIAL ECOSYSTEMS'}}, {'CategoryKeyword': 'EARTH SCIENCE', 'TopicKeyword': 'BIOSPHERE', 'TermKeyword': 'VEGETATION', 'VariableLevel1Keyword': {'Value': 'BIOMASS'}}, {'CategoryKeyword': 'EARTH SCIENCE', 'TopicKeyword': 'SPECTRAL/ENGINEERING', 'TermKeyword': 'LIDAR', 'VariableLevel1Keyword': {'Value': 'LIDAR WAVEFORM'}}]}, 'Platforms': {'Platform': {'ShortName': 'ISS', 'LongName': 'MUSES', 'Type': 'Space Stations/Crewed Spacecraft', 'Instruments': {'Instrument': {'ShortName': 'GEDI', 'LongName': 'Global Ecosystem Dynamics Investigation'}}}}, 'Campaigns': {'Campaign': {'ShortName': 'GEDI', 'LongName': 'Global Ecosystem Dynamics Investigation'}}, 'OnlineAccessURLs': {'OnlineAccessURL': {'URL': 'https://daac.ornl.gov/gedi/GEDI_L4B_Gridded_Biomass/', 'URLDescription': 'This link allows direct data access via Earthdata login'}}, 'OnlineResources': {'OnlineResource': [{'URL': 'https://daac.ornl.gov/GEDI/guides/GEDI_L4B_Gridded_Biomass.html', 'Description': 'ORNL DAAC Data Set Documentation', 'Type': \"USER'S GUIDE\"}, {'URL': 'https://doi.org/10.3334/ORNLDAAC/2017', 'Description': 'Data set Landing Page DOI URL', 'Type': 'DATA SET LANDING PAGE'}, {'URL': 'https://data.ornldaac.earthdata.nasa.gov/public/gedi/GEDI_L4B_Gridded_Biomass/comp/GEDI_L4B_ATBD_v1.0.pdf', 'Description': 'GEDI L4B Gridded Aboveground Biomass Density, Version 2: GEDI_L4B_ATBD_v1.0.pdf', 'Type': 'GENERAL DOCUMENTATION'}, {'URL': 'https://data.ornldaac.earthdata.nasa.gov/public/gedi/GEDI_L4B_Gridded_Biomass/comp/GEDI_L4B_Gridded_Biomass.pdf', 'Description': 'GEDI L4B Gridded Aboveground Biomass Density, Version 2: GEDI_L4B_Gridded_Biomass.pdf', 'Type': 'GENERAL DOCUMENTATION'}, {'URL': 'https://daac.ornl.gov/GEDI/guides/GEDI_L4B_Gridded_Biomass_Fig1.png', 'Description': 'Gridded mean aboveground biomass density (top) and standard error of the mean (bottom).', 'Type': 'GET RELATED VISUALIZATION', 'MimeType': 'image/png'}, {'URL': 'https://gedi.umd.edu', 'Description': 'GEDI Project Site', 'Type': 'PROJECT HOME PAGE', 'MimeType': 'text/html'}, {'URL': 'https://webmap.ornl.gov/wcsdown/dataset.jsp?ds_id=2017', 'Description': 'Web Coverage Service for this collection.', 'Type': 'WEB COVERAGE SERVICE (WCS)', 'MimeType': 'application/gml+xml'}]}, 'Spatial': {'SpatialCoverageType': 'HORIZONTAL', 'HorizontalSpatialDomain': {'Geometry': {'CoordinateSystem': 'CARTESIAN', 'BoundingRectangle': {'WestBoundingCoordinate': '-180.00', 'NorthBoundingCoordinate': '52.00', 'EastBoundingCoordinate': '180.00', 'SouthBoundingCoordinate': '-52.00'}}}, 'GranuleSpatialRepresentation': 'CARTESIAN'}, 'DirectDistributionInformation': {'Region': 'us-west-2', 'S3BucketAndObjectPrefixName': 's3://ornl-cumulus-prod-protected/gedi/GEDI_L4B_Gridded_Biomass/', 'S3CredentialsAPIEndpoint': 'https://data.ornldaac.earthdata.nasa.gov/s3credentials', 'S3CredentialsAPIDocumentationURL': 'https://data.ornldaac.earthdata.nasa.gov/s3credentialsREADME'}}}]\n"
     ]
    }
   ],
   "source": [
    "collection = maap.searchCollection(cmr_host='cmr.earthdata.nasa.gov', short_name=\"GEDI_L4B_Gridded_Biomass_2017\", limit=100)\n",
    "print(collection)"
   ]
  },
  {
   "cell_type": "markdown",
   "id": "56f227a3",
   "metadata": {},
   "source": [
    "Next, we can search for granules using the searchGranule function and the concept ID from our collection search above:"
   ]
  },
  {
   "cell_type": "code",
   "execution_count": 24,
   "id": "aa586fe9",
   "metadata": {},
   "outputs": [
    {
     "name": "stdout",
     "output_type": "stream",
     "text": [
      "Got 10 results\n"
     ]
    },
    {
     "data": {
      "text/plain": [
       "{'GranuleUR': 'GEDI_L4B_Gridded_Biomass.GEDI04_B_MW019MW138_02_002_05_R01000M_PS.tif',\n",
       " 'InsertTime': '2022-03-29T00:00:00Z',\n",
       " 'LastUpdate': '2023-04-10T21:58:24Z',\n",
       " 'Collection': {'ShortName': 'GEDI_L4B_Gridded_Biomass_2017',\n",
       "  'VersionId': '2'},\n",
       " 'DataGranule': {'DataGranuleSizeInBytes': '20103343',\n",
       "  'SizeMBDataGranule': '20.103343',\n",
       "  'Checksum': {'Value': '025a141348906d5e612262218c496a2d468446ca30875439be6651d851bfbe23',\n",
       "   'Algorithm': 'SHA-256'},\n",
       "  'DayNightFlag': 'BOTH',\n",
       "  'ProductionDateTime': '2022-03-29T00:00:00Z'},\n",
       " 'Temporal': {'RangeDateTime': {'BeginningDateTime': '2019-04-18T00:00:00Z',\n",
       "   'EndingDateTime': '2021-08-04T23:59:59Z'}},\n",
       " 'Spatial': {'HorizontalSpatialDomain': {'Geometry': {'BoundingRectangle': {'WestBoundingCoordinate': '-180',\n",
       "     'NorthBoundingCoordinate': '52',\n",
       "     'EastBoundingCoordinate': '180',\n",
       "     'SouthBoundingCoordinate': '-52'}}}},\n",
       " 'MeasuredParameters': {'MeasuredParameter': [{'ParameterName': 'LIDAR WAVEFORM'},\n",
       "   {'ParameterName': 'BIOMASS'},\n",
       "   {'ParameterName': 'TERRESTRIAL ECOSYSTEMS'}]},\n",
       " 'Platforms': {'Platform': {'ShortName': 'ISS',\n",
       "   'Instruments': {'Instrument': {'ShortName': 'GEDI'}}}},\n",
       " 'Campaigns': {'Campaign': {'ShortName': 'GEDI'}},\n",
       " 'Price': '0',\n",
       " 'OnlineAccessURLs': {'OnlineAccessURL': [{'URL': 'https://data.ornldaac.earthdata.nasa.gov/protected/gedi/GEDI_L4B_Gridded_Biomass/data/GEDI04_B_MW019MW138_02_002_05_R01000M_PS.tif',\n",
       "    'URLDescription': 'Download GEDI04_B_MW019MW138_02_002_05_R01000M_PS.tif',\n",
       "    'MimeType': 'image/tiff'},\n",
       "   {'URL': 'https://data.ornldaac.earthdata.nasa.gov/public/gedi/GEDI_L4B_Gridded_Biomass/data/GEDI04_B_MW019MW138_02_002_05_R01000M_PS.tif.sha256',\n",
       "    'URLDescription': 'Download GEDI04_B_MW019MW138_02_002_05_R01000M_PS.tif.sha256'},\n",
       "   {'URL': 's3://ornl-cumulus-prod-protected/gedi/GEDI_L4B_Gridded_Biomass/data/GEDI04_B_MW019MW138_02_002_05_R01000M_PS.tif',\n",
       "    'URLDescription': 'This link provides direct download access via S3 to the granule',\n",
       "    'MimeType': 'image/tiff'}]},\n",
       " 'OnlineResources': {'OnlineResource': [{'URL': 'https://daac.ornl.gov/GEDI/guides/GEDI_L4B_Gridded_Biomass.html',\n",
       "    'Description': 'ORNL DAAC Data Set Documentation',\n",
       "    'Type': \"USER'S GUIDE\"},\n",
       "   {'URL': 'https://doi.org/10.3334/ORNLDAAC/2017',\n",
       "    'Description': 'Data set Landing Page DOI URL',\n",
       "    'Type': 'DATA SET LANDING PAGE'},\n",
       "   {'URL': 'https://daac.ornl.gov/daacdata/gedi/GEDI_L4B_Gridded_Biomass/comp/GEDI_L4B_ATBD_v1.0.pdf',\n",
       "    'Description': 'Data Set Documentation',\n",
       "    'Type': 'GENERAL DOCUMENTATION'},\n",
       "   {'URL': 'https://daac.ornl.gov/daacdata/gedi/GEDI_L4B_Gridded_Biomass/comp/GEDI_L4B_Gridded_Biomass.pdf',\n",
       "    'Description': 'Data Set Documentation',\n",
       "    'Type': 'GENERAL DOCUMENTATION'},\n",
       "   {'URL': 'https://webmap.ornl.gov/sdat/pimg/2017_9.png',\n",
       "    'Description': 'GEDI L4B Gridded Prediction Stratum, Version 2, Mission Weeks 19-138',\n",
       "    'Type': 'BROWSE',\n",
       "    'MimeType': 'image/png'},\n",
       "   {'URL': 'https://data.ornldaac.earthdata.nasa.gov/s3credentials',\n",
       "    'Description': 'api endpoint to retrieve temporary credentials valid for same-region direct s3 access',\n",
       "    'Type': 'VIEW RELATED INFORMATION'}]},\n",
       " 'Orderable': 'false',\n",
       " 'DataFormat': 'COG'}"
      ]
     },
     "execution_count": 24,
     "metadata": {},
     "output_type": "execute_result"
    }
   ],
   "source": [
    "COLLECTIONID = collection[0]['concept-id']\n",
    "results = maap.searchGranule(cmr_host='cmr.earthdata.nasa.gov',concept_id=COLLECTIONID)  # COLLECTIONID 'C2244602422-ORNL_CLOUD'\n",
    "print(f'Got {len(results)} results')\n",
    "results[0]['Granule']"
   ]
  },
  {
   "cell_type": "markdown",
   "id": "3658daf5",
   "metadata": {},
   "source": [
    "## Accessing and Downloading the Granule from ORNL DAAC S3"
   ]
  },
  {
   "cell_type": "markdown",
   "id": "70e89637",
   "metadata": {},
   "source": [
    "Before downloading, we'll get the collection and file name:"
   ]
  },
  {
   "cell_type": "code",
   "execution_count": 25,
   "id": "d1df4352",
   "metadata": {},
   "outputs": [
    {
     "name": "stdout",
     "output_type": "stream",
     "text": [
      "GEDI_L4B_Gridded_Biomass\n",
      "GEDI04_B_MW019MW138_02_002_05_R01000M_PS\n"
     ]
    }
   ],
   "source": [
    "granule_ur=results[0]['Granule']['GranuleUR'].split(\".\")\n",
    "collection_name=granule_ur[0]\n",
    "file_name=granule_ur[1]\n",
    "\n",
    "print(collection_name)\n",
    "print(file_name)"
   ]
  },
  {
   "cell_type": "markdown",
   "id": "5a5cc477",
   "metadata": {},
   "source": [
    "Now we'll proceed to get tempory s3 credentials, and then download the tif file to our workspace:"
   ]
  },
  {
   "cell_type": "code",
   "execution_count": 26,
   "id": "b64e74ed",
   "metadata": {},
   "outputs": [],
   "source": [
    "def get_s3_creds(url):\n",
    "    return maap.aws.earthdata_s3_credentials(url)\n",
    "\n",
    "def get_s3_client(s3_cred_endpoint):\n",
    "    creds=get_s3_creds(s3_cred_endpoint)\n",
    "    boto3_session = boto3.Session(\n",
    "            aws_access_key_id=creds['accessKeyId'],\n",
    "            aws_secret_access_key=creds['secretAccessKey'],\n",
    "            aws_session_token=creds['sessionToken']\n",
    "    )\n",
    "    return boto3_session.client(\"s3\")\n",
    "\n",
    "def download_s3_file(s3, bucket, collection_name, file_name):\n",
    "    os.makedirs(\"/projects/gedi_l4b\", exist_ok=True) # create directories, as necessary\n",
    "    download_path=f\"/projects/gedi_l4b/{file_name}.tif\"\n",
    "    s3.download_file(bucket, f\"gedi/{collection_name}/data/{file_name}.tif\", download_path)\n",
    "    return download_path"
   ]
  },
  {
   "cell_type": "code",
   "execution_count": 27,
   "id": "17be51d1",
   "metadata": {},
   "outputs": [],
   "source": [
    "s3_cred_endpoint= 'https://data.ornldaac.earthdata.nasa.gov/s3credentials'\n",
    "s3=get_s3_client(s3_cred_endpoint)"
   ]
  },
  {
   "cell_type": "code",
   "execution_count": 28,
   "id": "829bb0e6",
   "metadata": {},
   "outputs": [
    {
     "data": {
      "text/plain": [
       "'/projects/gedi_l4b/GEDI04_B_MW019MW138_02_002_05_R01000M_PS.tif'"
      ]
     },
     "execution_count": 28,
     "metadata": {},
     "output_type": "execute_result"
    }
   ],
   "source": [
    "bucket=\"ornl-cumulus-prod-protected\"\n",
    "download_path=download_s3_file(s3, bucket, collection_name, file_name)\n",
    "download_path"
   ]
  },
  {
   "cell_type": "markdown",
   "id": "bc99db15",
   "metadata": {},
   "source": [
    "Open the local file using rasterio, and print the shape of the data to verify if the file was read properly:"
   ]
  },
  {
   "cell_type": "code",
   "execution_count": 29,
   "id": "bdd8d8fe",
   "metadata": {},
   "outputs": [
    {
     "name": "stdout",
     "output_type": "stream",
     "text": [
      "(14616, 34704)\n"
     ]
    }
   ],
   "source": [
    "src = rasterio.open(download_path)\n",
    "data = src.read(1)\n",
    "\n",
    "print(data.shape) "
   ]
  },
  {
   "cell_type": "markdown",
   "id": "3975bc91",
   "metadata": {},
   "source": [
    "## Plot the Data"
   ]
  },
  {
   "cell_type": "markdown",
   "id": "7e81e87f",
   "metadata": {},
   "source": [
    "Finally, we'll use matplotlib to visualize our .tif file:"
   ]
  },
  {
   "cell_type": "code",
   "execution_count": 30,
   "id": "eeeef31f",
   "metadata": {},
   "outputs": [
    {
     "data": {
      "image/png": "[encoded data removed]",
      "text/plain": [
       "<Figure size 432x288 with 1 Axes>"
      ]
     },
     "metadata": {
      "needs_background": "light"
     },
     "output_type": "display_data"
    }
   ],
   "source": [
    "pyplot.imshow(data)\n",
    "pyplot.show()"
   ]
  }
 ],
 "metadata": {
  "kernelspec": {
   "display_name": "Python 3 (ipykernel)",
   "language": "python",
   "name": "python3"
  },
  "language_info": {
   "codemirror_mode": {
    "name": "ipython",
    "version": 3
   },
   "file_extension": ".py",
   "mimetype": "text/x-python",
   "name": "python",
   "nbconvert_exporter": "python",
   "pygments_lexer": "ipython3",
   "version": "3.7.8"
  },
  "vscode": {
   "interpreter": {
    "hash": "399cbf6e48bb89cdd0bd14a04b5698e0be4f18543650a6891ef6d6d6c5ce46cd"
   }
  }
 },
 "nbformat": 4,
 "nbformat_minor": 5
}
