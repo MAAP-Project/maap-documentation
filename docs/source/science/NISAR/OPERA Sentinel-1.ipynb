{
 "cells": [
  {
   "cell_type": "markdown",
   "id": "0d9243d6-3aaf-47ef-852b-d81174bf5e6e",
   "metadata": {},
   "source": [
    "# OPERA Sentinel-1 Access and Explore"
   ]
  },
  {
   "cell_type": "markdown",
   "id": "73064a66-73a5-4004-9731-65b4f023ff26",
   "metadata": {},
   "source": [
    "Authors: Harshini Girish (UAH), Rajat Shinde (UAH), Alex Mandel (DevSeed), Chuck Daniels (DevSeed)\n",
    "\n",
    "Date:July 16, 2025\n",
    "\n",
    "Description: In this tutorial aims to provide information and code to help users get started working with the OPERA Sentinel-1 Surface Displacement product using the MAAP. We will search for the data within NASA’s Common Metadata Repository (CMR)"
   ]
  },
  {
   "cell_type": "markdown",
   "id": "a0ca2d41-6b47-4ff9-9405-ce0ed60dff18",
   "metadata": {},
   "source": [
    "## Run This Notebook"
   ]
  },
  {
   "cell_type": "markdown",
   "id": "f61c7f88-f9a4-4f24-bb85-ec5222d42631",
   "metadata": {},
   "source": [
    "To access and run this tutorial within MAAP’s Algorithm Development Environment (ADE), please refer to the “Getting started with the MAAP” section of our documentation.\n",
    "\n",
    "Disclaimer: it is highly recommended to run a tutorial within MAAP’s ADE, which already includes packages specific to MAAP, such as maap-py. Running the tutorial outside of the MAAP ADE may lead to errors.\n",
    "\n"
   ]
  },
  {
   "cell_type": "markdown",
   "id": "a18f2d82-ff3a-4807-b159-25544252c3b3",
   "metadata": {},
   "source": [
    "## About the Data"
   ]
  },
  {
   "cell_type": "markdown",
   "id": "f596abe1-cc8a-4c58-a3f8-23a05d75fc79",
   "metadata": {},
   "source": [
    "The Level-3 OPERA Sentinel-1 Surface Displacement (DISP) product is generated through interferometric time-series analysis of Level-2 Coregistered Sentinel-1 Single Look Complex (CSLC) datasets. Using a hybrid Persistent Scatterer (PS) and Distributed Scatterer (DS) approach, this product quantifies Earth's surface displacement in the radar line-of-sight. The DISP products enable the detection of anthropogenic and natural surface changes, including subsidence, tectonic deformation, and landslides. \n",
    "\n",
    "The OPERA DISP suite comprises complementary datasets derived from Sentinel-1 and NISAR inputs, designated as DISP-S1 and DISP-NI, respectively. Each product, created per acquisition, adheres to a consistent structure, HDF5 file format, file-naming convention, and a 30 m spatial posting. This collection specifically includes DISP-S1 products, derived from Sentinel-1 data. \n"
   ]
  },
  {
   "cell_type": "markdown",
   "id": "dbb122dd-1079-465c-8348-8a97eb46130e",
   "metadata": {},
   "source": [
    "Source: [OPERA Surface Displacement from Sentinel-1](https://cmr.earthdata.nasa.gov/search/concepts/C3294057315-ASF.html)"
   ]
  },
  {
   "cell_type": "markdown",
   "id": "7bae3cbe-f6f6-4591-8fcf-8d6f558bbc2e",
   "metadata": {},
   "source": [
    "## Importing Packages"
   ]
  },
  {
   "cell_type": "markdown",
   "id": "c5fe08ad-b1b5-4949-b358-01c965734072",
   "metadata": {},
   "source": [
    "You can access data from Jupyter Notebook within your workspace. In your Jupyter Notebook, start by importing the `maap` package. Then invoke the `MAAP` constructor, setting the `maap_host` argument to `'api.maap-project.org'`\n"
   ]
  },
  {
   "cell_type": "code",
   "execution_count": 7,
   "id": "f7a375c5-ed54-4db9-ba7f-c5c721208360",
   "metadata": {},
   "outputs": [],
   "source": [
    "from maap.maap import MAAP\n",
    "import xarray as xr\n",
    "import requests\n",
    "from pprint import pprint\n",
    "import matplotlib.pyplot as plt\n",
    "import rasterio\n",
    "# Initialize MAAP\n",
    "maap = MAAP()\n"
   ]
  },
  {
   "cell_type": "code",
   "execution_count": 8,
   "id": "b93663a9-347c-45c8-af49-40e49077152d",
   "metadata": {},
   "outputs": [
    {
     "name": "stdout",
     "output_type": "stream",
     "text": [
      "Requirement already satisfied: h5netcdf in /opt/conda/envs/python/lib/python3.12/site-packages (1.6.3)\n",
      "Requirement already satisfied: h5py in /opt/conda/envs/python/lib/python3.12/site-packages (from h5netcdf) (3.12.1)\n",
      "Requirement already satisfied: packaging in /opt/conda/envs/python/lib/python3.12/site-packages (from h5netcdf) (24.2)\n",
      "Requirement already satisfied: numpy>=1.19.3 in /opt/conda/envs/python/lib/python3.12/site-packages (from h5py->h5netcdf) (1.26.4)\n",
      "\u001b[33mWARNING: Running pip as the 'root' user can result in broken permissions and conflicting behaviour with the system package manager, possibly rendering your system unusable.It is recommended to use a virtual environment instead: https://pip.pypa.io/warnings/venv. Use the --root-user-action option if you know what you are doing and want to suppress this warning.\u001b[0m\u001b[33m\n",
      "\u001b[0mNote: you may need to restart the kernel to use updated packages.\n"
     ]
    }
   ],
   "source": [
    "pip install h5netcdf"
   ]
  },
  {
   "cell_type": "markdown",
   "id": "79bc1350-2cec-4a39-91ef-30f3def98514",
   "metadata": {},
   "source": [
    "## Searching the Data"
   ]
  },
  {
   "cell_type": "markdown",
   "id": "9a84f593-66c9-4bba-9d84-4f376ba1ffa5",
   "metadata": {},
   "source": [
    "This performs a granule search using the `maap.searchGranule()` function on the OPERA Sentinel-1 displacement product collection."
   ]
  },
  {
   "cell_type": "code",
   "execution_count": 9,
   "id": "ba83ee4e-75fd-4443-ae92-d6a356bee759",
   "metadata": {},
   "outputs": [
    {
     "data": {
      "text/plain": [
       "1"
      ]
     },
     "execution_count": 9,
     "metadata": {},
     "output_type": "execute_result"
    }
   ],
   "source": [
    "collection = maap.searchCollection(\n",
    "    cmr_host=\"cmr.earthdata.nasa.gov\",\n",
    "    short_name=\"OPERA_L3_DISP-S1_V1\"\n",
    ")\n",
    "len(collection)"
   ]
  },
  {
   "cell_type": "code",
   "execution_count": 10,
   "id": "34f89953-66ae-466d-91ae-dacf58569cbc",
   "metadata": {},
   "outputs": [
    {
     "name": "stdout",
     "output_type": "stream",
     "text": [
      "C3294057315-ASF\n"
     ]
    }
   ],
   "source": [
    "\n",
    "concept_id = collection[0][\"concept-id\"]\n",
    "print(concept_id)\n"
   ]
  },
  {
   "cell_type": "markdown",
   "id": "e6419706-d855-47b1-8afa-ccae9e5b1963",
   "metadata": {},
   "source": [
    "## Search Granules"
   ]
  },
  {
   "cell_type": "markdown",
   "id": "90caadc4-e4a0-4d05-87b7-e048c3be7c86",
   "metadata": {},
   "source": [
    "Now that we have our collection ID, let’s search for granules within the collection. We’ll also add a temporal filter to our search. If you would like to search for granules without the temporal filter, simply comment out or remove the `temporal=date_range` line."
   ]
  },
  {
   "cell_type": "code",
   "execution_count": 11,
   "id": "307d49e9-e1a6-4fa0-801c-3298ecb6524c",
   "metadata": {},
   "outputs": [
    {
     "name": "stdout",
     "output_type": "stream",
     "text": [
      "Found 20 granules\n",
      "OPERA_L3_DSWx-HLS_T56MNV_20250714T000016Z_20250716T090059Z_L8_30_v1.0\n",
      "OPERA_L3_DSWx-HLS_T56MLA_20250714T000016Z_20250716T090107Z_L8_30_v1.0\n",
      "OPERA_L3_DSWx-HLS_T56LLQ_20250714T000128Z_20250716T090056Z_L8_30_v1.0\n",
      "OPERA_L3_DSWx-HLS_T56LKR_20250714T000128Z_20250716T090105Z_L8_30_v1.0\n",
      "OPERA_L3_DSWx-HLS_T56LMR_20250714T000128Z_20250716T090055Z_L8_30_v1.0\n",
      "OPERA_L3_DSWx-HLS_T55LHL_20250714T000128Z_20250716T090059Z_L8_30_v1.0\n",
      "OPERA_L3_DSWx-HLS_T56LLR_20250714T000128Z_20250716T090054Z_L8_30_v1.0\n",
      "OPERA_L3_DSWx-HLS_T55LHK_20250714T000128Z_20250716T090102Z_L8_30_v1.0\n",
      "OPERA_L3_DSWx-HLS_T56LMQ_20250714T000128Z_20250716T090146Z_L8_30_v1.0\n",
      "OPERA_L3_DSWx-HLS_T56LKQ_20250714T000128Z_20250716T090106Z_L8_30_v1.0\n",
      "OPERA_L3_DSWx-HLS_T56LLP_20250714T000151Z_20250716T090056Z_L8_30_v1.0\n",
      "OPERA_L3_DSWx-HLS_T55LHH_20250714T000151Z_20250716T090059Z_L8_30_v1.0\n",
      "OPERA_L3_DSWx-HLS_T56LKN_20250714T000151Z_20250716T090057Z_L8_30_v1.0\n",
      "OPERA_L3_DSWx-HLS_T56LLN_20250714T000151Z_20250716T090054Z_L8_30_v1.0\n",
      "OPERA_L3_DSWx-HLS_T55LHJ_20250714T000151Z_20250716T090101Z_L8_30_v1.0\n",
      "OPERA_L3_DSWx-HLS_T56LKP_20250714T000151Z_20250716T090105Z_L8_30_v1.0\n",
      "OPERA_L3_DSWx-HLS_T55KHB_20250714T000327Z_20250716T090056Z_L8_30_v1.0\n",
      "OPERA_L3_DSWx-HLS_T55KGB_20250714T000327Z_20250716T090102Z_L8_30_v1.0\n",
      "OPERA_L3_DSWx-HLS_T55LHC_20250714T000327Z_20250716T090053Z_L8_30_v1.0\n",
      "OPERA_L3_DSWx-HLS_T55LGC_20250714T000327Z_20250716T090051Z_L8_30_v1.0\n"
     ]
    }
   ],
   "source": [
    "date_range = \"2025-07-14T00:00:00Z,2025-07-15T23:59:59Z\"\n",
    "\n",
    "results = maap.searchGranule(\n",
    "    temporal=date_range,\n",
    "    concept_id=\"C2617126679-POCLOUD\", \n",
    "    cmr_host=\"cmr.earthdata.nasa.gov\"\n",
    ")\n",
    "\n",
    "print(f\"Found {len(results)} granules\")\n",
    "for r in results:\n",
    "    print(r[\"Granule\"][\"GranuleUR\"])\n"
   ]
  },
  {
   "cell_type": "markdown",
   "id": "09db23fd-6026-495a-ab94-b328781065ca",
   "metadata": {},
   "source": [
    "## Spatial Extent"
   ]
  },
  {
   "cell_type": "markdown",
   "id": "a40ec4bc-c484-4286-abc1-11a1ad9c0fa1",
   "metadata": {},
   "source": [
    "Another filter we can apply is a spatial filter."
   ]
  },
  {
   "cell_type": "code",
   "execution_count": 12,
   "id": "fadb0238-e21c-4842-bfb9-dc96f60f68f7",
   "metadata": {},
   "outputs": [
    {
     "name": "stdout",
     "output_type": "stream",
     "text": [
      "Found 20 granules\n",
      "OPERA_L3_DSWx-HLS_T12SUA_20230409T175919Z_20230411T183923Z_S2B_30_v1.0\n",
      "OPERA_L3_DSWx-HLS_T12RUV_20230409T175919Z_20230411T211919Z_S2B_30_v1.0\n",
      "OPERA_L3_DSWx-HLS_T12RUU_20230409T175919Z_20230411T183843Z_S2B_30_v1.0\n",
      "OPERA_L3_DSWx-HLS_T11SPR_20230409T181557Z_20230411T155611Z_L8_30_v1.0\n",
      "OPERA_L3_DSWx-HLS_T11SQR_20230409T181557Z_20230411T155627Z_L8_30_v1.0\n",
      "OPERA_L3_DSWx-HLS_T12RTU_20230409T175919Z_20230411T183830Z_S2B_30_v1.0\n",
      "OPERA_L3_DSWx-HLS_T11RPQ_20230409T181621Z_20230411T155549Z_L8_30_v1.0\n",
      "OPERA_L3_DSWx-HLS_T11RPP_20230409T181645Z_20230411T155528Z_L8_30_v1.0\n",
      "OPERA_L3_DSWx-HLS_T11SQR_20230410T181921Z_20230412T165351Z_S2A_30_v1.0\n",
      "OPERA_L3_DSWx-HLS_T11SPR_20230410T181921Z_20230412T223905Z_S2A_30_v1.0\n",
      "OPERA_L3_DSWx-HLS_T11RQQ_20230410T181921Z_20230412T165340Z_S2A_30_v1.0\n",
      "OPERA_L3_DSWx-HLS_T11RPQ_20230410T181921Z_20230412T200744Z_S2A_30_v1.0\n",
      "OPERA_L3_DSWx-HLS_T11RQP_20230410T181921Z_20230412T165344Z_S2A_30_v1.0\n",
      "OPERA_L3_DSWx-HLS_T11RPP_20230410T181921Z_20230412T223903Z_S2A_30_v1.0\n",
      "OPERA_L3_DSWx-HLS_T12SUA_20230411T180334Z_20230414T012829Z_L8_30_v1.0\n",
      "OPERA_L3_DSWx-HLS_T12STA_20230411T180334Z_20230414T012829Z_L8_30_v1.0\n",
      "OPERA_L3_DSWx-HLS_T11RQQ_20230411T180358Z_20230414T012535Z_L8_30_v1.0\n",
      "OPERA_L3_DSWx-HLS_T11SQR_20230411T180358Z_20230414T012551Z_L8_30_v1.0\n",
      "OPERA_L3_DSWx-HLS_T12RTV_20230411T180358Z_20230414T012555Z_L8_30_v1.0\n",
      "OPERA_L3_DSWx-HLS_T12RUV_20230411T180358Z_20230414T012839Z_L8_30_v1.0\n"
     ]
    }
   ],
   "source": [
    "granule_bbox = '-115.64528,30.64261,-112.70297,32.43468'\n",
    "collection_id = \"C2617126679-POCLOUD\"\n",
    "results = maap.searchGranule(\n",
    "    concept_id=collection_id,\n",
    "    bounding_box=granule_bbox,\n",
    "    cmr_host=\"cmr.earthdata.nasa.gov\"\n",
    ")\n",
    "print(f\"Found {len(results)} granules\")\n",
    "for r in results:\n",
    "    print(r[\"Granule\"][\"GranuleUR\"])\n"
   ]
  },
  {
   "cell_type": "markdown",
   "id": "8015634a-e18f-4f9e-b0b1-6d58b4d3302c",
   "metadata": {},
   "source": [
    "## Granule Link Search"
   ]
  },
  {
   "cell_type": "markdown",
   "id": "8b8c8904-e0dd-449d-80b9-36ce8ba0a1ef",
   "metadata": {},
   "source": [
    "After searching for your desired granule(s), you can also find the links for data access."
   ]
  },
  {
   "cell_type": "code",
   "execution_count": 22,
   "id": "84caac31-eb72-48d9-b2d5-c649fd08809c",
   "metadata": {},
   "outputs": [
    {
     "name": "stdout",
     "output_type": "stream",
     "text": [
      "Access URL: https://archive.podaac.earthdata.nasa.gov/podaac-ops-cumulus-protected/OPERA_L3_DSWX-HLS_PROVISIONAL_V1/OPERA_L3_DSWx-HLS_T12SUA_20230409T175919Z_20230411T183923Z_S2B_30_v1.0_B01_WTR.tif\n",
      "Access URL: https://archive.podaac.earthdata.nasa.gov/podaac-ops-cumulus-protected/OPERA_L3_DSWX-HLS_PROVISIONAL_V1/OPERA_L3_DSWx-HLS_T12SUA_20230409T175919Z_20230411T183923Z_S2B_30_v1.0_B02_BWTR.tif\n",
      "Access URL: https://archive.podaac.earthdata.nasa.gov/podaac-ops-cumulus-protected/OPERA_L3_DSWX-HLS_PROVISIONAL_V1/OPERA_L3_DSWx-HLS_T12SUA_20230409T175919Z_20230411T183923Z_S2B_30_v1.0_B03_CONF.tif\n",
      "Access URL: https://archive.podaac.earthdata.nasa.gov/podaac-ops-cumulus-protected/OPERA_L3_DSWX-HLS_PROVISIONAL_V1/OPERA_L3_DSWx-HLS_T12SUA_20230409T175919Z_20230411T183923Z_S2B_30_v1.0_B04_DIAG.tif\n",
      "Access URL: https://archive.podaac.earthdata.nasa.gov/podaac-ops-cumulus-protected/OPERA_L3_DSWX-HLS_PROVISIONAL_V1/OPERA_L3_DSWx-HLS_T12SUA_20230409T175919Z_20230411T183923Z_S2B_30_v1.0_B05_WTR-1.tif\n",
      "Access URL: https://archive.podaac.earthdata.nasa.gov/podaac-ops-cumulus-protected/OPERA_L3_DSWX-HLS_PROVISIONAL_V1/OPERA_L3_DSWx-HLS_T12SUA_20230409T175919Z_20230411T183923Z_S2B_30_v1.0_B06_WTR-2.tif\n",
      "Access URL: https://archive.podaac.earthdata.nasa.gov/podaac-ops-cumulus-protected/OPERA_L3_DSWX-HLS_PROVISIONAL_V1/OPERA_L3_DSWx-HLS_T12SUA_20230409T175919Z_20230411T183923Z_S2B_30_v1.0_B07_LAND.tif\n",
      "Access URL: https://archive.podaac.earthdata.nasa.gov/podaac-ops-cumulus-protected/OPERA_L3_DSWX-HLS_PROVISIONAL_V1/OPERA_L3_DSWx-HLS_T12SUA_20230409T175919Z_20230411T183923Z_S2B_30_v1.0_B08_SHAD.tif\n",
      "Access URL: https://archive.podaac.earthdata.nasa.gov/podaac-ops-cumulus-protected/OPERA_L3_DSWX-HLS_PROVISIONAL_V1/OPERA_L3_DSWx-HLS_T12SUA_20230409T175919Z_20230411T183923Z_S2B_30_v1.0_B09_CLOUD.tif\n",
      "Access URL: https://archive.podaac.earthdata.nasa.gov/podaac-ops-cumulus-protected/OPERA_L3_DSWX-HLS_PROVISIONAL_V1/OPERA_L3_DSWx-HLS_T12SUA_20230409T175919Z_20230411T183923Z_S2B_30_v1.0_B10_DEM.tif\n",
      "Access URL: s3://podaac-ops-cumulus-protected/OPERA_L3_DSWX-HLS_PROVISIONAL_V1/OPERA_L3_DSWx-HLS_T12SUA_20230409T175919Z_20230411T183923Z_S2B_30_v1.0_B01_WTR.tif\n",
      "Access URL: s3://podaac-ops-cumulus-protected/OPERA_L3_DSWX-HLS_PROVISIONAL_V1/OPERA_L3_DSWx-HLS_T12SUA_20230409T175919Z_20230411T183923Z_S2B_30_v1.0_B02_BWTR.tif\n",
      "Access URL: s3://podaac-ops-cumulus-protected/OPERA_L3_DSWX-HLS_PROVISIONAL_V1/OPERA_L3_DSWx-HLS_T12SUA_20230409T175919Z_20230411T183923Z_S2B_30_v1.0_B03_CONF.tif\n",
      "Access URL: s3://podaac-ops-cumulus-protected/OPERA_L3_DSWX-HLS_PROVISIONAL_V1/OPERA_L3_DSWx-HLS_T12SUA_20230409T175919Z_20230411T183923Z_S2B_30_v1.0_B04_DIAG.tif\n",
      "Access URL: s3://podaac-ops-cumulus-protected/OPERA_L3_DSWX-HLS_PROVISIONAL_V1/OPERA_L3_DSWx-HLS_T12SUA_20230409T175919Z_20230411T183923Z_S2B_30_v1.0_B05_WTR-1.tif\n",
      "Access URL: s3://podaac-ops-cumulus-protected/OPERA_L3_DSWX-HLS_PROVISIONAL_V1/OPERA_L3_DSWx-HLS_T12SUA_20230409T175919Z_20230411T183923Z_S2B_30_v1.0_B06_WTR-2.tif\n",
      "Access URL: s3://podaac-ops-cumulus-protected/OPERA_L3_DSWX-HLS_PROVISIONAL_V1/OPERA_L3_DSWx-HLS_T12SUA_20230409T175919Z_20230411T183923Z_S2B_30_v1.0_B07_LAND.tif\n",
      "Access URL: s3://podaac-ops-cumulus-protected/OPERA_L3_DSWX-HLS_PROVISIONAL_V1/OPERA_L3_DSWx-HLS_T12SUA_20230409T175919Z_20230411T183923Z_S2B_30_v1.0_B08_SHAD.tif\n",
      "Access URL: s3://podaac-ops-cumulus-protected/OPERA_L3_DSWX-HLS_PROVISIONAL_V1/OPERA_L3_DSWx-HLS_T12SUA_20230409T175919Z_20230411T183923Z_S2B_30_v1.0_B09_CLOUD.tif\n",
      "Access URL: s3://podaac-ops-cumulus-protected/OPERA_L3_DSWX-HLS_PROVISIONAL_V1/OPERA_L3_DSWx-HLS_T12SUA_20230409T175919Z_20230411T183923Z_S2B_30_v1.0_B10_DEM.tif\n"
     ]
    }
   ],
   "source": [
    "granule_links = granule[\"OnlineAccessURLs\"][\"OnlineAccessURL\"]\n",
    "\n",
    "# Ensure it's a list\n",
    "if isinstance(granule_links, dict):\n",
    "    granule_links = [granule_links]\n",
    "\n",
    "# Print links\n",
    "for link in granule_links:\n",
    "    print(\"Access URL:\", link[\"URL\"])\n"
   ]
  },
  {
   "cell_type": "markdown",
   "id": "4b92ff97-d27d-4eae-b2f8-5643c8472468",
   "metadata": {},
   "source": [
    "## Download and Inspect "
   ]
  },
  {
   "cell_type": "markdown",
   "id": "94b0dc33-433e-4540-bfc7-ce6f63b43a27",
   "metadata": {},
   "source": [
    "The GeoTIFF file was downloaded and read using `rasterio`. Key metadata like CRS (EPSG:32612), bounding box, image dimensions (3660 × 3660), number of bands (1), and data type (uint8) were extracted. The first band was then loaded for visualization or analysis.\n"
   ]
  },
  {
   "cell_type": "code",
   "execution_count": 25,
   "id": "cbd12591-3efe-4dcc-b245-97160a97c0a6",
   "metadata": {},
   "outputs": [
    {
     "name": "stdout",
     "output_type": "stream",
     "text": [
      "First URL: https://archive.podaac.earthdata.nasa.gov/podaac-ops-cumulus-protected/OPERA_L3_DSWX-HLS_PROVISIONAL_V1/OPERA_L3_DSWx-HLS_T12SUA_20230409T175919Z_20230411T183923Z_S2B_30_v1.0_B01_WTR.tif\n",
      "Downloaded successfully.\n"
     ]
    }
   ],
   "source": [
    "# Extract the first link\n",
    "first_url = granule_links[0][\"URL\"]\n",
    "print(\"First URL:\", first_url)\n",
    "response = requests.get(first_url)\n",
    "with open(\"downloaded_file.tif\", \"wb\") as f:\n",
    "    f.write(response.content)\n",
    "print(\"Downloaded successfully.\")\n"
   ]
  },
  {
   "cell_type": "code",
   "execution_count": 26,
   "id": "b3144ed9-0125-4dff-8a4f-30480f66dc51",
   "metadata": {},
   "outputs": [
    {
     "name": "stdout",
     "output_type": "stream",
     "text": [
      "CRS: EPSG:32612\n",
      "Bounds: BoundingBox(left=300000.0, bottom=3490200.0, right=409800.0, top=3600000.0)\n",
      "Width x Height: 3660 x 3660\n",
      "Number of bands: 1\n",
      "Data type: ('uint8',)\n"
     ]
    }
   ],
   "source": [
    "with rasterio.open(\"downloaded_file.tif\") as dataset:\n",
    "    print(\"CRS:\", dataset.crs)\n",
    "    print(\"Bounds:\", dataset.bounds)\n",
    "    print(\"Width x Height:\", dataset.width, \"x\", dataset.height)\n",
    "    print(\"Number of bands:\", dataset.count)\n",
    "    print(\"Data type:\", dataset.dtypes)\n",
    "\n",
    "    # Read the first band\n",
    "    band1 = dataset.read(1)\n"
   ]
  },
  {
   "cell_type": "markdown",
   "id": "289b80d3-708a-4634-96c7-233f46ce8ce3",
   "metadata": {},
   "source": [
    "## Visualizing GeoTIFF Band Data"
   ]
  },
  {
   "cell_type": "markdown",
   "id": "309c6e5f-a29d-4167-bc37-0abd93d3a3bd",
   "metadata": {},
   "source": [
    "This plot shows the first band of the OPERA L3 HLS GeoTIFF using grayscale color mapping. The image is rendered from raster data (uint8) with a colorbar indicating pixel intensity. It provides a visual overview of the spatial distribution captured in the dataset."
   ]
  },
  {
   "cell_type": "code",
   "execution_count": 27,
   "id": "1f63102d-dbfe-46f8-b496-f32c72312351",
   "metadata": {},
   "outputs": [
    {
     "data": {
      "image/png": "[encoded data removed]",
      "text/plain": [
       "<Figure size 640x480 with 2 Axes>"
      ]
     },
     "metadata": {},
     "output_type": "display_data"
    }
   ],
   "source": [
    "plt.imshow(band1, cmap='gray')\n",
    "plt.title(\"Band 1 - OPERA L3 HLS\")\n",
    "plt.colorbar()\n",
    "plt.show()\n"
   ]
  }
 ],
 "metadata": {
  "kernelspec": {
   "display_name": "Python 3 (ipykernel)",
   "language": "python",
   "name": "python3"
  },
  "language_info": {
   "codemirror_mode": {
    "name": "ipython",
    "version": 3
   },
   "file_extension": ".py",
   "mimetype": "text/x-python",
   "name": "python",
   "nbconvert_exporter": "python",
   "pygments_lexer": "ipython3",
   "version": "3.12.7"
  }
 },
 "nbformat": 4,
 "nbformat_minor": 5
}
