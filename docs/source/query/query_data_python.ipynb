{
 "cells": [
  {
   "cell_type": "markdown",
   "metadata": {},
   "source": [
    "## How to Query Data from the MAAP via Python Client"
   ]
  },
  {
   "cell_type": "markdown",
   "metadata": {},
   "source": [
    "Supported collections can be subsetted through the MAAP Query Service. At the time of writing (03/22/2021), the GEDI Calibration/Validation Field Survey Dataset is the only valid dataset for this service. However, more data will be made available for querying as the MAAP team continues to develop expanded services for the platform. Users can interact with the service through the MAAP Python client."
   ]
  },
  {
   "cell_type": "markdown",
   "metadata": {},
   "source": [
    "First, we import the `json` module, import the `MAAP` package, and create a new MAAP class."
   ]
  },
  {
   "cell_type": "code",
   "execution_count": 18,
   "metadata": {},
   "outputs": [],
   "source": [
    "# import the json module\n",
    "import json\n",
    "# import the MAAP package\n",
    "from maap.maap import MAAP\n",
    "# create MAAP class\n",
    "maap = MAAP()"
   ]
  },
  {
   "cell_type": "markdown",
   "metadata": {},
   "source": [
    "### How to Use `maap.executequery()`"
   ]
  },
  {
   "cell_type": "markdown",
   "metadata": {},
   "source": [
    "We use the `executeQuery()` function to return a response object, containing the server's response to our HTTP request. This object can be used to view the response headers, access the raw data of the response, or parse the response as a JavaScript Object Notation (JSON). JSON is a data-interchange format, designed to be easy for humans to read and write."
   ]
  },
  {
   "cell_type": "markdown",
   "metadata": {},
   "source": [
    "#### `executeQuery` Parameters"
   ]
  },
  {
   "cell_type": "markdown",
   "metadata": {},
   "source": [
    "- `src` - a dictionary-like object specifying the dataset to query. Currently, the only option is as follows:\n",
    "```\n",
    "{ \n",
    "  \"Collection\": { \n",
    "    \"ShortName\": \"GEDI Cal/Val Field Data_1\", \n",
    "    \"VersionId\": \"2\" \n",
    "  } \n",
    "}\n",
    "```\n",
    "- `query` - a dictionary-like object specifying the parameters for query. A dictionary can include `bbox`, `where`, `fields`, and `table`:\n",
    "    - `bbox` - a list of floating point numbers identifying a bounding box of geographic coordinates.\n",
    "    - `where` - a dictionary-like object which maps fields to required values within a query. \n",
    "    - `fields` - a list of fields to return, a subset of all fields available for the corresponding dataset.\n",
    "    - `table` - the name of the table to query. At this time, the only valid options are \"tree\" or \"plot\" corresponding to tables in the GEDI Cal/Val database.\n",
    "- `poll_results` - a parameter which must be `True` to use the `timeout` parameter.\n",
    "- `timeout` - the waiting period for a response. This indicates the maximum number of seconds to wait for a response. Note that timeout has a default value of '180' and requires that the `poll_results` parameter be `True`. Depending on the request, it may be necessary to modify the timeout to make sure the server has enough time to process the request.\n",
    "- `wait_interval` - number of seconds to wait between each poll for results. `wait_interval` is only used if `poll_results`=`True` (default 0.5).\n",
    "-`max_redirects` - the maximum number of redirects to follow when scheduling an execution (default 5).\n"
   ]
  },
  {
   "cell_type": "markdown",
   "metadata": {},
   "source": [
    "### Query Searching for a Project Name"
   ]
  },
  {
   "cell_type": "markdown",
   "metadata": {},
   "source": [
    "In this example, we create a dictionary containing a `Collection` key, which contains entries for `ShortName` and `VersionId`. This is used later in the `executeQuery()` function. For this example, we use the GEDI Calibration/Validation Field Survey Dataset collection. More information about dictionaries in Python can be found [here](https://docs.python.org/3/tutorial/datastructures.html#dictionaries).\n"
   ]
  },
  {
   "cell_type": "code",
   "execution_count": 19,
   "metadata": {},
   "outputs": [],
   "source": [
    "# create dictionary with a \"Collection\" key containing short name and version ID entries:\n",
    "collection  = { \n",
    "  \"Collection\": { \n",
    "      \"ShortName\": \"GEDI Cal/Val Field Data_1\", \n",
    "      \"VersionId\": \"2\" \n",
    "  } \n",
    "}"
   ]
  },
  {
   "cell_type": "markdown",
   "metadata": {},
   "source": [
    "We also create a function (in this example named `fetch_results`) which utilizes the `executeQuery` function to return results of queries. Within this function, we use the `executeQuery` function to get a response object. Within the `executeQuery` function, our `collection` dictionary is assigned to `src`, a dictionary-like object specifying the dataset to query. We also have the query used in the argument assigned to `query`, a dictionary-like object which specifies the parameters for the query. We set `timeout` to the timeout used in the argument (default is 180 seconds) and set `poll_results` to `True` in order to set the maximum waiting period for a response. We can check the ‘Content-Type’ header of our response to see the content type of the response. In the following code, the ‘Content-Type’ header is checked to determine if it is JSON or not, in order to set an appropriate variable to return."
   ]
  },
  {
   "cell_type": "code",
   "execution_count": 20,
   "metadata": {},
   "outputs": [],
   "source": [
    "def fetch_results(query={}, timeout=180):\n",
    "    \"\"\"\n",
    "    Function which utilizes the `executeQuery` function to return the results of queries.\n",
    "    \"\"\"\n",
    "    # use the executeQuery() function to get a response object\n",
    "    response = maap.executeQuery(\n",
    "      # dictionary-like object specifying the dataset to query \n",
    "      src = collection,\n",
    "      # dictionary-like object specifying the parameters for query\n",
    "      query = query,\n",
    "      # must be True to use the timeout parameter\n",
    "      poll_results = True,\n",
    "      # max waiting period for a response in seconds\n",
    "      timeout = timeout\n",
    "    )\n",
    "    # if the 'Content-Type' is json, creates variable with json version of the response\n",
    "    if (response.headers.get(\"Content-Type\") == \"application/json\"):\n",
    "        data = response.json()\n",
    "    # if the 'Content-Type' is not json, creates variable with unicode content of the response\n",
    "    else:\n",
    "        data = response.text\n",
    "    # returns `data` as json string\n",
    "    return json.loads(data)"
   ]
  },
  {
   "cell_type": "markdown",
   "metadata": {},
   "source": [
    "Now that we have our collection dictionary and our function to return the results of queries, let's use a print statement to display the first project name from a query which utilizes the `bbox` and `fields` parameters within `query`. The `bbox` parameter is a GeoJSON-compliant bounding box ([minX, minY, maxX, maxY]) which is used to filter data spatially. GeoJSON is a format for encoding geographic data structures. More information about the bounding box can be found in the standard specification of the GeoJSON format, located here - https://tools.ietf.org/html/rfc7946#section-5. The `fields` parameter is a list of fields to return in the query response. In this case, we assign 'project' to `fields`."
   ]
  },
  {
   "cell_type": "code",
   "execution_count": 21,
   "metadata": {},
   "outputs": [
    {
     "name": "stdout",
     "output_type": "stream",
     "text": [
      "{\n",
      "  \"project\": \"gabon_mondah\"\n",
      "}\n"
     ]
    }
   ],
   "source": [
    "# prints the first project name in the results of the query as a json string\n",
    "print(json.dumps(fetch_results({\"bbox\": [9.31, 0.53, 9.32, 0.54], \"fields\": [\"project\"]})[0], indent=2))"
   ]
  },
  {
   "cell_type": "markdown",
   "metadata": {},
   "source": [
    "### Inspecting a Single Observation"
   ]
  },
  {
   "cell_type": "markdown",
   "metadata": {},
   "source": [
    "In the previous example, we displayed the project name for a result from our query, but let's say we wished to see all of the fields and their associated values for a result. In this example, we make another query, this time only specifying the bounding box. The print statement displays the variables for a single observation. A list of the variables and their units and descriptions can be found [here](https://maap-project.readthedocs.io/en/latest/query/gedi_calval_data_doc.html)."
   ]
  },
  {
   "cell_type": "code",
   "execution_count": 22,
   "metadata": {},
   "outputs": [
    {
     "name": "stdout",
     "output_type": "stream",
     "text": [
      "{\n",
      "  \"project\": \"gabon_mondah\",\n",
      "  \"plot\": \"NASA11\",\n",
      "  \"subplot\": \"1\",\n",
      "  \"survey\": \"AfriSAR_ESA_2016\",\n",
      "  \"private\": 0,\n",
      "  \"date\": \"2016-02-01\",\n",
      "  \"region\": \"Af\",\n",
      "  \"vegetation\": \"TropRF\",\n",
      "  \"map\": 3083.93471636915,\n",
      "  \"mat\": 25.6671529098763,\n",
      "  \"pft.modis\": \"Evergreen Broadleaf trees\",\n",
      "  \"pft.name\": null,\n",
      "  \"latitude\": 0.538705025207016,\n",
      "  \"longitude\": 9.31982893597376,\n",
      "  \"p.sample\": 0,\n",
      "  \"p.stemmap\": 0,\n",
      "  \"p.origin\": \"C\",\n",
      "  \"p.orientation\": -2.18195751718555,\n",
      "  \"p.shape\": \"R\",\n",
      "  \"p.majoraxis\": 100,\n",
      "  \"p.minoraxis\": 100,\n",
      "  \"p.geom\": \"POLYGON ((535537.75 59601.25, 535627.75 59590.5, 535642.25 59489.25, 535543 59498.5, 535537.75 59601.25, 535537.75 59601.25))\",\n",
      "  \"p.epsg\": 32632,\n",
      "  \"p.area\": 10000,\n",
      "  \"p.mindiam\": 0.01,\n",
      "  \"sp.geom\": \"POLYGON((535537.510093 59494.109258, 535537.526710 59519.109253, 535562.526704 59519.092636, 535562.510088 59494.092642, 535537.510093 59494.109258))\",\n",
      "  \"sp.ix\": 1,\n",
      "  \"sp.iy\": 4,\n",
      "  \"sp.shape\": \"R\",\n",
      "  \"sp.area\": 625,\n",
      "  \"sp.mindiam\": 0.01,\n",
      "  \"pai\": null,\n",
      "  \"lai\": null,\n",
      "  \"cover\": null,\n",
      "  \"dft\": \"EA\",\n",
      "  \"agb\": null,\n",
      "  \"agb.valid\": null,\n",
      "  \"agb.lower\": null,\n",
      "  \"agb.upper\": null,\n",
      "  \"agbd.ha\": null,\n",
      "  \"agbd.ha.lower\": null,\n",
      "  \"agbd.ha.upper\": null,\n",
      "  \"sn\": null,\n",
      "  \"snd.ha\": null,\n",
      "  \"sba\": null,\n",
      "  \"sba.ha\": null,\n",
      "  \"swsg.ba\": null,\n",
      "  \"h.t.max\": null,\n",
      "  \"sp.agb\": null,\n",
      "  \"sp.agb.valid\": null,\n",
      "  \"sp.agbd.ha\": null,\n",
      "  \"sp.agbd.ha.lower\": null,\n",
      "  \"sp.agbd.ha.upper\": null,\n",
      "  \"sp.sba.ha\": null,\n",
      "  \"sp.swsg.ba\": null,\n",
      "  \"sp.h.t.max\": null,\n",
      "  \"l.project\": \"jpl_mondah\",\n",
      "  \"l.instr\": null,\n",
      "  \"l.epsg\": 32632,\n",
      "  \"l.date\": null,\n",
      "  \"tree.date\": \"2016-02-10\",\n",
      "  \"family\": \"Myristicaceae\",\n",
      "  \"species\": \"Coelocaryon sp.\",\n",
      "  \"pft\": null,\n",
      "  \"wsg\": 0.49353216374269,\n",
      "  \"wsg.sd\": 0.0941339098036177,\n",
      "  \"tree\": \"5501\",\n",
      "  \"stem\": \"1\",\n",
      "  \"x\": 535539.544644182,\n",
      "  \"y\": 59496.0746845487,\n",
      "  \"z\": null,\n",
      "  \"status\": 1,\n",
      "  \"allom.key\": 2,\n",
      "  \"a.stem\": 0.0437435361085843,\n",
      "  \"h.t\": 9.46667,\n",
      "  \"h.t.mod\": 17.0934257579035,\n",
      "  \"d.stem\": 0.236,\n",
      "  \"d.stem.valid\": 1,\n",
      "  \"d.ht\": 1.3,\n",
      "  \"c.w\": null,\n",
      "  \"m.agb\": 145.005237378992,\n",
      "  \"id\": 2077,\n",
      "  \"geom_obj\": \"0103000020E6100000010000000500000032A8C5A385A32240A1FCE9F75E39E13F32892DA985A32240A012DE4C393BE13FF2CC041CA3A32240D4DDCAF5383BE13F85ED9C16A3A3224083B5D8A05E39E13F32A8C5A385A32240A1FCE9F75E39E13F\",\n",
      "  \"wwf.ecoregion\": \"Central African mangroves\"\n",
      "}\n"
     ]
    }
   ],
   "source": [
    "# prints the fields with values for the first result in the results of the query as a json string\n",
    "print(json.dumps(fetch_results({\"bbox\": [9.315, 0.535, 9.32, 0.54]})[0], indent=2))"
   ]
  },
  {
   "cell_type": "markdown",
   "metadata": {},
   "source": [
    "### Query Using Multiple Parameters With `where`"
   ]
  },
  {
   "cell_type": "markdown",
   "metadata": {},
   "source": [
    "In the output of the previous example, we can see the field `\"species\"`. Let's say we are interested in finding observations for the `\"gabon_mondah\"` project within the same bounding box as the previous example which have the same species. We can do this using `where`, a dictionary-like object which maps fields to required values within a query. To help demonstrate how to use `where`, we can create a new function (in this example named `species_query`) to print the number of results as well as the first result, adding on to our previous `fetch_results` function which utilized the `executeQuery` function."
   ]
  },
  {
   "cell_type": "code",
   "execution_count": 23,
   "metadata": {},
   "outputs": [],
   "source": [
    "def species_query(query = {}, timeout = 180):\n",
    "    \"\"\"\n",
    "    Function which utilizes the `fetch_results` (and thereby `executeQuery`) function and prints the number of results \n",
    "    as well as the first result.\n",
    "    \"\"\"\n",
    "    # set `data` to results of query\n",
    "    data = fetch_results(query = query, timeout = timeout)\n",
    "    # get the number of results within `data`\n",
    "    num_results = len(data)\n",
    "    # if `data` is not null and contains at least one result, the number of results and the first result are printed\n",
    "    if((data is not None) and (num_results > 0)):\n",
    "        first_result = data[0]\n",
    "        print(f\"Number of results: {num_results}\")\n",
    "        print(f\"First result: {json.dumps(first_result, indent=2)}\")  \n",
    "    # else prints \"No result\"\n",
    "    else:\n",
    "        print(num_results)\n",
    "        print(\"No result\")  "
   ]
  },
  {
   "cell_type": "markdown",
   "metadata": {},
   "source": [
    "Let's call the `species_query` function. We enter the same bounding box values as in the previous example. This time around, we enter `where` in our query and set the `project` as `gabon_mondah` and the `species` as `Coelocaryon sp.`. We can set a list of fields to return in query response using `fields`. For this example, we can choose to return only the project, family, species, latitude, and longitude values. After completing our query, we can manually set the timeout value (in this example '200')."
   ]
  },
  {
   "cell_type": "code",
   "execution_count": 24,
   "metadata": {},
   "outputs": [
    {
     "name": "stdout",
     "output_type": "stream",
     "text": [
      "Number of results: 10\n",
      "First result: {\n",
      "  \"project\": \"gabon_mondah\",\n",
      "  \"family\": \"Myristicaceae\",\n",
      "  \"species\": \"Coelocaryon sp.\",\n",
      "  \"latitude\": 0.538705025207016,\n",
      "  \"longitude\": 9.31982893597376\n",
      "}\n"
     ]
    }
   ],
   "source": [
    "# call `species_query` function with bounding box values, where the project is \"gabon_mondah\", \n",
    "# the species is \"Aucoumea klaineana\", fields include \"project\", \"family\", \"species\", \"latitude\", and \"longitude\",\n",
    "# and the timeout value is 200 (use the scrollbar to see the entire function call)\n",
    "species_query({\"bbox\": [9.315, 0.535, 9.32, 0.54], \"where\": {\"project\": \"gabon_mondah\", \"species\": \"Coelocaryon sp.\"}, \"fields\": [\"project\", \"family\", \"species\", \"latitude\", \"longitude\"]}, 200)"
   ]
  },
  {
   "cell_type": "markdown",
   "metadata": {},
   "source": [
    "We now see that there are many results and the latitude and longitude coordinates for the first result. To see this information for Aucoumea klaineana, we can copy the code from the above cell, changing the `species` to `Aucoumea klaineana` within the function argument."
   ]
  },
  {
   "cell_type": "code",
   "execution_count": 25,
   "metadata": {},
   "outputs": [
    {
     "name": "stdout",
     "output_type": "stream",
     "text": [
      "Number of results: 49\n",
      "First result: {\n",
      "  \"project\": \"gabon_mondah\",\n",
      "  \"family\": \"Burseraceae\",\n",
      "  \"species\": \"Aucoumea klaineana\",\n",
      "  \"latitude\": 0.538705025207016,\n",
      "  \"longitude\": 9.31982893597376\n",
      "}\n"
     ]
    }
   ],
   "source": [
    "# call `species_query` function with bounding box values, where the project is \"gabon_mondah\", \n",
    "# the species is \"Coelocaryon sp.\", fields include \"project\", \"family\", \"species\", \"latitude\", and \"longitude\",\n",
    "# and the timeout value is 200 (use the scrollbar to see the entire function call)\n",
    "species_query({\"bbox\": [9.315, 0.535, 9.32, 0.54], \"where\": {\"project\": \"gabon_mondah\", \"species\": \"Aucoumea klaineana\"}, \"fields\": [\"project\", \"family\", \"species\", \"latitude\", \"longitude\"]}, 200)"
   ]
  },
  {
   "cell_type": "markdown",
   "metadata": {},
   "source": [
    "### Using `executeQuery` to Vizualize Plots and Trees"
   ]
  },
  {
   "cell_type": "markdown",
   "metadata": {},
   "source": [
    "Now that we know how to print the query results of the collection, let's look at examples of vizualizing the information from query results. The first time you run this, you will need to install `folium`. `folium` allows us to visualize data on an interactive map. With `folium` installed, you will then import the `folium` library. Also import `matplotlib.pyplot`, which allows us to generate interactive plots"
   ]
  },
  {
   "cell_type": "code",
   "execution_count": 26,
   "metadata": {},
   "outputs": [
    {
     "name": "stdout",
     "output_type": "stream",
     "text": [
      "Requirement already satisfied: folium in /Users/philvarner/code/devseed/maap-documentation/.venv/lib/python3.7/site-packages (0.12.1.post1)\n",
      "Requirement already satisfied: numpy in /Users/philvarner/code/devseed/maap-documentation/.venv/lib/python3.7/site-packages (from folium) (1.21.5)\n",
      "Requirement already satisfied: jinja2>=2.9 in /Users/philvarner/code/devseed/maap-documentation/.venv/lib/python3.7/site-packages (from folium) (3.0.3)\n",
      "Requirement already satisfied: requests in /Users/philvarner/code/devseed/maap-documentation/.venv/lib/python3.7/site-packages (from folium) (2.27.1)\n",
      "Requirement already satisfied: branca>=0.3.0 in /Users/philvarner/code/devseed/maap-documentation/.venv/lib/python3.7/site-packages (from folium) (0.4.2)\n",
      "Requirement already satisfied: MarkupSafe>=2.0 in /Users/philvarner/code/devseed/maap-documentation/.venv/lib/python3.7/site-packages (from jinja2>=2.9->folium) (2.0.1)\n",
      "Requirement already satisfied: certifi>=2017.4.17 in /Users/philvarner/code/devseed/maap-documentation/.venv/lib/python3.7/site-packages (from requests->folium) (2021.10.8)\n",
      "Requirement already satisfied: idna<4,>=2.5 in /Users/philvarner/code/devseed/maap-documentation/.venv/lib/python3.7/site-packages (from requests->folium) (3.3)\n",
      "Requirement already satisfied: urllib3<1.27,>=1.21.1 in /Users/philvarner/code/devseed/maap-documentation/.venv/lib/python3.7/site-packages (from requests->folium) (1.26.8)\n",
      "Requirement already satisfied: charset-normalizer~=2.0.0 in /Users/philvarner/code/devseed/maap-documentation/.venv/lib/python3.7/site-packages (from requests->folium) (2.0.11)\n"
     ]
    }
   ],
   "source": [
    "# installs folium\n",
    "!pip install folium"
   ]
  },
  {
   "cell_type": "code",
   "execution_count": 27,
   "metadata": {},
   "outputs": [],
   "source": [
    "# import folium library and matplotlib.pyplot\n",
    "import folium\n",
    "import matplotlib.pyplot as plt"
   ]
  },
  {
   "cell_type": "markdown",
   "metadata": {},
   "source": [
    "#### Plot Project Plots"
   ]
  },
  {
   "cell_type": "markdown",
   "metadata": {},
   "source": [
    "Now we can begin plotting all the plots for a given project. For this example, we'll check out the `australia_ausplotsforests` project. We can query the plot table by using our `fetch_results` helper function. This time, we set the `table` parameter. `table` is the name of the table to query. The GEDI Cal/Val database has tables for \"tree\" and \"plot\" so let's set `table` to \"plot\". We can then preview our results."
   ]
  },
  {
   "cell_type": "code",
   "execution_count": 28,
   "metadata": {},
   "outputs": [
    {
     "data": {
      "text/plain": [
       "[{'latitude': -31.2421, 'longitude': 152.4609, 'plot': 'NSFNNC002'},\n",
       " {'latitude': -31.2421, 'longitude': 152.4609, 'plot': 'NSFNNC002'},\n",
       " {'latitude': -31.2421, 'longitude': 152.4609, 'plot': 'NSFNNC002'},\n",
       " {'latitude': -31.2421, 'longitude': 152.4609, 'plot': 'NSFNNC002'},\n",
       " {'latitude': -31.2421, 'longitude': 152.4609, 'plot': 'NSFNNC002'},\n",
       " {'latitude': -31.2421, 'longitude': 152.4609, 'plot': 'NSFNNC002'},\n",
       " {'latitude': -31.2421, 'longitude': 152.4609, 'plot': 'NSFNNC002'},\n",
       " {'latitude': -31.2421, 'longitude': 152.4609, 'plot': 'NSFNNC002'},\n",
       " {'latitude': -31.2421, 'longitude': 152.4609, 'plot': 'NSFNNC002'},\n",
       " {'latitude': -31.2421, 'longitude': 152.4609, 'plot': 'NSFNNC002'}]"
      ]
     },
     "execution_count": 28,
     "metadata": {},
     "output_type": "execute_result"
    }
   ],
   "source": [
    "# set project and query for all the plots in that project\n",
    "project = 'australia_ausplotsforests'\n",
    "results = fetch_results({\n",
    "    \"bbox\": [-180, 90, 180, -90],\n",
    "    \"where\": {\n",
    "        \"project\": project\n",
    "    },\n",
    "    \"fields\": [\"latitude\", \"longitude\", \"plot\"],\n",
    "    \"table\":\"plot\"\n",
    "}, 1000)\n",
    "# print first 10 results\n",
    "results[0:10]"
   ]
  },
  {
   "cell_type": "markdown",
   "metadata": {},
   "source": [
    "#### Create Project Plots Dictionary"
   ]
  },
  {
   "cell_type": "markdown",
   "metadata": {},
   "source": [
    "Now we can create a dictionary for the project plots from our results."
   ]
  },
  {
   "cell_type": "code",
   "execution_count": 29,
   "metadata": {},
   "outputs": [],
   "source": [
    "# create dictionary for project plots, where each plot has lat/lon info\n",
    "project_plots = {}\n",
    "keys = [ 'latitude', 'longitude' ]\n",
    "for result in results:\n",
    "    project_plots[result['plot']] = { key: result[key] for key in keys }"
   ]
  },
  {
   "cell_type": "markdown",
   "metadata": {},
   "source": [
    "To center our map more easily and plot trees later on, we can set a variable to the first project plot to be used for centering the map."
   ]
  },
  {
   "cell_type": "code",
   "execution_count": 30,
   "metadata": {},
   "outputs": [
    {
     "data": {
      "text/plain": [
       "'NSFNNC002'"
      ]
     },
     "execution_count": 30,
     "metadata": {},
     "output_type": "execute_result"
    }
   ],
   "source": [
    "# Select the first plot, just to center the map easily\n",
    "first_plot = list(project_plots.keys())[0]\n",
    "first_plot"
   ]
  },
  {
   "cell_type": "markdown",
   "metadata": {},
   "source": [
    "#### Map the Plots"
   ]
  },
  {
   "cell_type": "markdown",
   "metadata": {},
   "source": [
    "Now we can create a map and place the plot points onto it. First we will set variables for the map's location center and starting zoom level. Then we will use the `folium.Map` function to create a map which displays \"Stamen Terrain\" tiles with our location center and starting zoom level. Next, we will create a loop using the `folium.Marker` function to add markers to the map at the latitude and longitude for each plot and have popup text displaying each plot's name. Lastly, we display the map in order to interact with it. "
   ]
  },
  {
   "cell_type": "code",
   "execution_count": 31,
   "metadata": {},
   "outputs": [
    {
     "data": {
      "text/html": [
       "<div style=\"width:100%;\"><div style=\"position:relative;width:100%;height:0;padding-bottom:60%;\"><span style=\"color:#565656\">Make this Notebook Trusted to load map: File -> Trust Notebook</span><iframe src=\"about:blank\" style=\"position:absolute;width:100%;height:100%;left:0;top:0;border:none !important;\" data-html=%3C%21DOCTYPE%20html%3E%0A%3Chead%3E%20%20%20%20%0A%20%20%20%20%3Cmeta%20http-equiv%3D%22content-type%22%20content%3D%22text/html%3B%20charset%3DUTF-8%22%20/%3E%0A%20%20%20%20%0A%20%20%20%20%20%20%20%20%3Cscript%3E%0A%20%20%20%20%20%20%20%20%20%20%20%20L_NO_TOUCH%20%3D%20false%3B%0A%20%20%20%20%20%20%20%20%20%20%20%20L_DISABLE_3D%20%3D%20false%3B%0A%20%20%20%20%20%20%20%20%3C/script%3E%0A%20%20%20%20%0A%20%20%20%20%3Cstyle%3Ehtml%2C%20body%20%7Bwidth%3A%20100%25%3Bheight%3A%20100%25%3Bmargin%3A%200%3Bpadding%3A%200%3B%7D%3C/style%3E%0A%20%20%20%20%3Cstyle%3E%23map%20%7Bposition%3Aabsolute%3Btop%3A0%3Bbottom%3A0%3Bright%3A0%3Bleft%3A0%3B%7D%3C/style%3E%0A%20%20%20%20%3Cscript%20src%3D%22https%3A//cdn.jsdelivr.net/npm/leaflet%401.6.0/dist/leaflet.js%22%3E%3C/script%3E%0A%20%20%20%20%3Cscript%20src%3D%22https%3A//code.jquery.com/jquery-1.12.4.min.js%22%3E%3C/script%3E%0A%20%20%20%20%3Cscript%20src%3D%22https%3A//maxcdn.bootstrapcdn.com/bootstrap/3.2.0/js/bootstrap.min.js%22%3E%3C/script%3E%0A%20%20%20%20%3Cscript%20src%3D%22https%3A//cdnjs.cloudflare.com/ajax/libs/Leaflet.awesome-markers/2.0.2/leaflet.awesome-markers.js%22%3E%3C/script%3E%0A%20%20%20%20%3Clink%20rel%3D%22stylesheet%22%20href%3D%22https%3A//cdn.jsdelivr.net/npm/leaflet%401.6.0/dist/leaflet.css%22/%3E%0A%20%20%20%20%3Clink%20rel%3D%22stylesheet%22%20href%3D%22https%3A//maxcdn.bootstrapcdn.com/bootstrap/3.2.0/css/bootstrap.min.css%22/%3E%0A%20%20%20%20%3Clink%20rel%3D%22stylesheet%22%20href%3D%22https%3A//maxcdn.bootstrapcdn.com/bootstrap/3.2.0/css/bootstrap-theme.min.css%22/%3E%0A%20%20%20%20%3Clink%20rel%3D%22stylesheet%22%20href%3D%22https%3A//maxcdn.bootstrapcdn.com/font-awesome/4.6.3/css/font-awesome.min.css%22/%3E%0A%20%20%20%20%3Clink%20rel%3D%22stylesheet%22%20href%3D%22https%3A//cdnjs.cloudflare.com/ajax/libs/Leaflet.awesome-markers/2.0.2/leaflet.awesome-markers.css%22/%3E%0A%20%20%20%20%3Clink%20rel%3D%22stylesheet%22%20href%3D%22https%3A//cdn.jsdelivr.net/gh/python-visualization/folium/folium/templates/leaflet.awesome.rotate.min.css%22/%3E%0A%20%20%20%20%0A%20%20%20%20%20%20%20%20%20%20%20%20%3Cmeta%20name%3D%22viewport%22%20content%3D%22width%3Ddevice-width%2C%0A%20%20%20%20%20%20%20%20%20%20%20%20%20%20%20%20initial-scale%3D1.0%2C%20maximum-scale%3D1.0%2C%20user-scalable%3Dno%22%20/%3E%0A%20%20%20%20%20%20%20%20%20%20%20%20%3Cstyle%3E%0A%20%20%20%20%20%20%20%20%20%20%20%20%20%20%20%20%23map_75f9f0f51aaa4ac2ba70f3ad451bc6d1%20%7B%0A%20%20%20%20%20%20%20%20%20%20%20%20%20%20%20%20%20%20%20%20position%3A%20relative%3B%0A%20%20%20%20%20%20%20%20%20%20%20%20%20%20%20%20%20%20%20%20width%3A%20100.0%25%3B%0A%20%20%20%20%20%20%20%20%20%20%20%20%20%20%20%20%20%20%20%20height%3A%20100.0%25%3B%0A%20%20%20%20%20%20%20%20%20%20%20%20%20%20%20%20%20%20%20%20left%3A%200.0%25%3B%0A%20%20%20%20%20%20%20%20%20%20%20%20%20%20%20%20%20%20%20%20top%3A%200.0%25%3B%0A%20%20%20%20%20%20%20%20%20%20%20%20%20%20%20%20%7D%0A%20%20%20%20%20%20%20%20%20%20%20%20%3C/style%3E%0A%20%20%20%20%20%20%20%20%0A%3C/head%3E%0A%3Cbody%3E%20%20%20%20%0A%20%20%20%20%0A%20%20%20%20%20%20%20%20%20%20%20%20%3Cdiv%20class%3D%22folium-map%22%20id%3D%22map_75f9f0f51aaa4ac2ba70f3ad451bc6d1%22%20%3E%3C/div%3E%0A%20%20%20%20%20%20%20%20%0A%3C/body%3E%0A%3Cscript%3E%20%20%20%20%0A%20%20%20%20%0A%20%20%20%20%20%20%20%20%20%20%20%20var%20map_75f9f0f51aaa4ac2ba70f3ad451bc6d1%20%3D%20L.map%28%0A%20%20%20%20%20%20%20%20%20%20%20%20%20%20%20%20%22map_75f9f0f51aaa4ac2ba70f3ad451bc6d1%22%2C%0A%20%20%20%20%20%20%20%20%20%20%20%20%20%20%20%20%7B%0A%20%20%20%20%20%20%20%20%20%20%20%20%20%20%20%20%20%20%20%20center%3A%20%5B-31.2421%2C%20152.4609%5D%2C%0A%20%20%20%20%20%20%20%20%20%20%20%20%20%20%20%20%20%20%20%20crs%3A%20L.CRS.EPSG3857%2C%0A%20%20%20%20%20%20%20%20%20%20%20%20%20%20%20%20%20%20%20%20zoom%3A%203%2C%0A%20%20%20%20%20%20%20%20%20%20%20%20%20%20%20%20%20%20%20%20zoomControl%3A%20true%2C%0A%20%20%20%20%20%20%20%20%20%20%20%20%20%20%20%20%20%20%20%20preferCanvas%3A%20false%2C%0A%20%20%20%20%20%20%20%20%20%20%20%20%20%20%20%20%7D%0A%20%20%20%20%20%20%20%20%20%20%20%20%29%3B%0A%0A%20%20%20%20%20%20%20%20%20%20%20%20%0A%0A%20%20%20%20%20%20%20%20%0A%20%20%20%20%0A%20%20%20%20%20%20%20%20%20%20%20%20var%20tile_layer_594559796a2f4424b14e788fbc029748%20%3D%20L.tileLayer%28%0A%20%20%20%20%20%20%20%20%20%20%20%20%20%20%20%20%22https%3A//stamen-tiles-%7Bs%7D.a.ssl.fastly.net/terrain/%7Bz%7D/%7Bx%7D/%7By%7D.jpg%22%2C%0A%20%20%20%20%20%20%20%20%20%20%20%20%20%20%20%20%7B%22attribution%22%3A%20%22Map%20tiles%20by%20%5Cu003ca%20href%3D%5C%22http%3A//stamen.com%5C%22%5Cu003eStamen%20Design%5Cu003c/a%5Cu003e%2C%20under%20%5Cu003ca%20href%3D%5C%22http%3A//creativecommons.org/licenses/by/3.0%5C%22%5Cu003eCC%20BY%203.0%5Cu003c/a%5Cu003e.%20Data%20by%20%5Cu0026copy%3B%20%5Cu003ca%20href%3D%5C%22http%3A//openstreetmap.org%5C%22%5Cu003eOpenStreetMap%5Cu003c/a%5Cu003e%2C%20under%20%5Cu003ca%20href%3D%5C%22http%3A//creativecommons.org/licenses/by-sa/3.0%5C%22%5Cu003eCC%20BY%20SA%5Cu003c/a%5Cu003e.%22%2C%20%22detectRetina%22%3A%20false%2C%20%22maxNativeZoom%22%3A%2018%2C%20%22maxZoom%22%3A%2018%2C%20%22minZoom%22%3A%200%2C%20%22noWrap%22%3A%20false%2C%20%22opacity%22%3A%201%2C%20%22subdomains%22%3A%20%22abc%22%2C%20%22tms%22%3A%20false%7D%0A%20%20%20%20%20%20%20%20%20%20%20%20%29.addTo%28map_75f9f0f51aaa4ac2ba70f3ad451bc6d1%29%3B%0A%20%20%20%20%20%20%20%20%0A%20%20%20%20%0A%20%20%20%20%20%20%20%20%20%20%20%20var%20marker_36275595fe5c46cdb6072e992f7c7aff%20%3D%20L.marker%28%0A%20%20%20%20%20%20%20%20%20%20%20%20%20%20%20%20%5B-31.2421%2C%20152.4609%5D%2C%0A%20%20%20%20%20%20%20%20%20%20%20%20%20%20%20%20%7B%7D%0A%20%20%20%20%20%20%20%20%20%20%20%20%29.addTo%28map_75f9f0f51aaa4ac2ba70f3ad451bc6d1%29%3B%0A%20%20%20%20%20%20%20%20%0A%20%20%20%20%0A%20%20%20%20%20%20%20%20var%20popup_7a17ec52902d420db6d57260245fad29%20%3D%20L.popup%28%7B%22maxWidth%22%3A%20%22100%25%22%7D%29%3B%0A%0A%20%20%20%20%20%20%20%20%0A%20%20%20%20%20%20%20%20%20%20%20%20var%20html_1720b8a935ef48c8bebb8196a562e8eb%20%3D%20%24%28%60%3Cdiv%20id%3D%22html_1720b8a935ef48c8bebb8196a562e8eb%22%20style%3D%22width%3A%20100.0%25%3B%20height%3A%20100.0%25%3B%22%3Eplot%3A%20NSFNNC002%3C/div%3E%60%29%5B0%5D%3B%0A%20%20%20%20%20%20%20%20%20%20%20%20popup_7a17ec52902d420db6d57260245fad29.setContent%28html_1720b8a935ef48c8bebb8196a562e8eb%29%3B%0A%20%20%20%20%20%20%20%20%0A%0A%20%20%20%20%20%20%20%20marker_36275595fe5c46cdb6072e992f7c7aff.bindPopup%28popup_7a17ec52902d420db6d57260245fad29%29%0A%20%20%20%20%20%20%20%20%3B%0A%0A%20%20%20%20%20%20%20%20%0A%20%20%20%20%0A%20%20%20%20%0A%20%20%20%20%20%20%20%20%20%20%20%20var%20marker_ea04145d3d3d471b93452bcd4ed24970%20%3D%20L.marker%28%0A%20%20%20%20%20%20%20%20%20%20%20%20%20%20%20%20%5B-31.207873%2C%20152.525737%5D%2C%0A%20%20%20%20%20%20%20%20%20%20%20%20%20%20%20%20%7B%7D%0A%20%20%20%20%20%20%20%20%20%20%20%20%29.addTo%28map_75f9f0f51aaa4ac2ba70f3ad451bc6d1%29%3B%0A%20%20%20%20%20%20%20%20%0A%20%20%20%20%0A%20%20%20%20%20%20%20%20var%20popup_5b95e4985cf14edbbb6b9552e3460288%20%3D%20L.popup%28%7B%22maxWidth%22%3A%20%22100%25%22%7D%29%3B%0A%0A%20%20%20%20%20%20%20%20%0A%20%20%20%20%20%20%20%20%20%20%20%20var%20html_1dd222c44bd741b2b77127bab262b59a%20%3D%20%24%28%60%3Cdiv%20id%3D%22html_1dd222c44bd741b2b77127bab262b59a%22%20style%3D%22width%3A%20100.0%25%3B%20height%3A%20100.0%25%3B%22%3Eplot%3A%20NSFNNC003%3C/div%3E%60%29%5B0%5D%3B%0A%20%20%20%20%20%20%20%20%20%20%20%20popup_5b95e4985cf14edbbb6b9552e3460288.setContent%28html_1dd222c44bd741b2b77127bab262b59a%29%3B%0A%20%20%20%20%20%20%20%20%0A%0A%20%20%20%20%20%20%20%20marker_ea04145d3d3d471b93452bcd4ed24970.bindPopup%28popup_5b95e4985cf14edbbb6b9552e3460288%29%0A%20%20%20%20%20%20%20%20%3B%0A%0A%20%20%20%20%20%20%20%20%0A%20%20%20%20%0A%20%20%20%20%0A%20%20%20%20%20%20%20%20%20%20%20%20var%20marker_b297f4550e834bee928b6527a4a9cdb3%20%3D%20L.marker%28%0A%20%20%20%20%20%20%20%20%20%20%20%20%20%20%20%20%5B-31.591975%2C%20152.619338%5D%2C%0A%20%20%20%20%20%20%20%20%20%20%20%20%20%20%20%20%7B%7D%0A%20%20%20%20%20%20%20%20%20%20%20%20%29.addTo%28map_75f9f0f51aaa4ac2ba70f3ad451bc6d1%29%3B%0A%20%20%20%20%20%20%20%20%0A%20%20%20%20%0A%20%20%20%20%20%20%20%20var%20popup_f156aa407b8748f29bd4d924f70d8eba%20%3D%20L.popup%28%7B%22maxWidth%22%3A%20%22100%25%22%7D%29%3B%0A%0A%20%20%20%20%20%20%20%20%0A%20%20%20%20%20%20%20%20%20%20%20%20var%20html_38f4e2416bfd437cbc2dd98ac660d551%20%3D%20%24%28%60%3Cdiv%20id%3D%22html_38f4e2416bfd437cbc2dd98ac660d551%22%20style%3D%22width%3A%20100.0%25%3B%20height%3A%20100.0%25%3B%22%3Eplot%3A%20NSFNNC004%3C/div%3E%60%29%5B0%5D%3B%0A%20%20%20%20%20%20%20%20%20%20%20%20popup_f156aa407b8748f29bd4d924f70d8eba.setContent%28html_38f4e2416bfd437cbc2dd98ac660d551%29%3B%0A%20%20%20%20%20%20%20%20%0A%0A%20%20%20%20%20%20%20%20marker_b297f4550e834bee928b6527a4a9cdb3.bindPopup%28popup_f156aa407b8748f29bd4d924f70d8eba%29%0A%20%20%20%20%20%20%20%20%3B%0A%0A%20%20%20%20%20%20%20%20%0A%20%20%20%20%0A%20%20%20%20%0A%20%20%20%20%20%20%20%20%20%20%20%20var%20marker_82242ee2db2942aca8d9b094ce29e6d6%20%3D%20L.marker%28%0A%20%20%20%20%20%20%20%20%20%20%20%20%20%20%20%20%5B-31.686657%2C%20152.682894%5D%2C%0A%20%20%20%20%20%20%20%20%20%20%20%20%20%20%20%20%7B%7D%0A%20%20%20%20%20%20%20%20%20%20%20%20%29.addTo%28map_75f9f0f51aaa4ac2ba70f3ad451bc6d1%29%3B%0A%20%20%20%20%20%20%20%20%0A%20%20%20%20%0A%20%20%20%20%20%20%20%20var%20popup_5c9141803b0f44f190c651533241c013%20%3D%20L.popup%28%7B%22maxWidth%22%3A%20%22100%25%22%7D%29%3B%0A%0A%20%20%20%20%20%20%20%20%0A%20%20%20%20%20%20%20%20%20%20%20%20var%20html_3a2a1c3afc5d484ba29ca93dfbee149f%20%3D%20%24%28%60%3Cdiv%20id%3D%22html_3a2a1c3afc5d484ba29ca93dfbee149f%22%20style%3D%22width%3A%20100.0%25%3B%20height%3A%20100.0%25%3B%22%3Eplot%3A%20NSFNNC005%3C/div%3E%60%29%5B0%5D%3B%0A%20%20%20%20%20%20%20%20%20%20%20%20popup_5c9141803b0f44f190c651533241c013.setContent%28html_3a2a1c3afc5d484ba29ca93dfbee149f%29%3B%0A%20%20%20%20%20%20%20%20%0A%0A%20%20%20%20%20%20%20%20marker_82242ee2db2942aca8d9b094ce29e6d6.bindPopup%28popup_5c9141803b0f44f190c651533241c013%29%0A%20%20%20%20%20%20%20%20%3B%0A%0A%20%20%20%20%20%20%20%20%0A%20%20%20%20%0A%20%20%20%20%0A%20%20%20%20%20%20%20%20%20%20%20%20var%20marker_4b10a7ab90884e0fb6394a67ec524fb5%20%3D%20L.marker%28%0A%20%20%20%20%20%20%20%20%20%20%20%20%20%20%20%20%5B-30.15757%2C%20152.726671%5D%2C%0A%20%20%20%20%20%20%20%20%20%20%20%20%20%20%20%20%7B%7D%0A%20%20%20%20%20%20%20%20%20%20%20%20%29.addTo%28map_75f9f0f51aaa4ac2ba70f3ad451bc6d1%29%3B%0A%20%20%20%20%20%20%20%20%0A%20%20%20%20%0A%20%20%20%20%20%20%20%20var%20popup_f18f7b69d3524de2be91e722a23e3ad7%20%3D%20L.popup%28%7B%22maxWidth%22%3A%20%22100%25%22%7D%29%3B%0A%0A%20%20%20%20%20%20%20%20%0A%20%20%20%20%20%20%20%20%20%20%20%20var%20html_6fae49cc006b4d1eb583915affb61d25%20%3D%20%24%28%60%3Cdiv%20id%3D%22html_6fae49cc006b4d1eb583915affb61d25%22%20style%3D%22width%3A%20100.0%25%3B%20height%3A%20100.0%25%3B%22%3Eplot%3A%20NSFNNC006%3C/div%3E%60%29%5B0%5D%3B%0A%20%20%20%20%20%20%20%20%20%20%20%20popup_f18f7b69d3524de2be91e722a23e3ad7.setContent%28html_6fae49cc006b4d1eb583915affb61d25%29%3B%0A%20%20%20%20%20%20%20%20%0A%0A%20%20%20%20%20%20%20%20marker_4b10a7ab90884e0fb6394a67ec524fb5.bindPopup%28popup_f18f7b69d3524de2be91e722a23e3ad7%29%0A%20%20%20%20%20%20%20%20%3B%0A%0A%20%20%20%20%20%20%20%20%0A%20%20%20%20%0A%20%20%20%20%0A%20%20%20%20%20%20%20%20%20%20%20%20var%20marker_050f7148f05849fe8b5b46e6e13aacc3%20%3D%20L.marker%28%0A%20%20%20%20%20%20%20%20%20%20%20%20%20%20%20%20%5B-30.24019%2C%20153.091808%5D%2C%0A%20%20%20%20%20%20%20%20%20%20%20%20%20%20%20%20%7B%7D%0A%20%20%20%20%20%20%20%20%20%20%20%20%29.addTo%28map_75f9f0f51aaa4ac2ba70f3ad451bc6d1%29%3B%0A%20%20%20%20%20%20%20%20%0A%20%20%20%20%0A%20%20%20%20%20%20%20%20var%20popup_87dafcb980014f01af4edc7f65107822%20%3D%20L.popup%28%7B%22maxWidth%22%3A%20%22100%25%22%7D%29%3B%0A%0A%20%20%20%20%20%20%20%20%0A%20%20%20%20%20%20%20%20%20%20%20%20var%20html_98b025abc78e4cbdb9d00bcbdc4972f8%20%3D%20%24%28%60%3Cdiv%20id%3D%22html_98b025abc78e4cbdb9d00bcbdc4972f8%22%20style%3D%22width%3A%20100.0%25%3B%20height%3A%20100.0%25%3B%22%3Eplot%3A%20NSFNNC007%3C/div%3E%60%29%5B0%5D%3B%0A%20%20%20%20%20%20%20%20%20%20%20%20popup_87dafcb980014f01af4edc7f65107822.setContent%28html_98b025abc78e4cbdb9d00bcbdc4972f8%29%3B%0A%20%20%20%20%20%20%20%20%0A%0A%20%20%20%20%20%20%20%20marker_050f7148f05849fe8b5b46e6e13aacc3.bindPopup%28popup_87dafcb980014f01af4edc7f65107822%29%0A%20%20%20%20%20%20%20%20%3B%0A%0A%20%20%20%20%20%20%20%20%0A%20%20%20%20%0A%20%20%20%20%0A%20%20%20%20%20%20%20%20%20%20%20%20var%20marker_5aa167830e104699997eca23405f829a%20%3D%20L.marker%28%0A%20%20%20%20%20%20%20%20%20%20%20%20%20%20%20%20%5B-32.345474%2C%20152.259035%5D%2C%0A%20%20%20%20%20%20%20%20%20%20%20%20%20%20%20%20%7B%7D%0A%20%20%20%20%20%20%20%20%20%20%20%20%29.addTo%28map_75f9f0f51aaa4ac2ba70f3ad451bc6d1%29%3B%0A%20%20%20%20%20%20%20%20%0A%20%20%20%20%0A%20%20%20%20%20%20%20%20var%20popup_5b6158c9ddcd45bcbf829bc54f9c2b7a%20%3D%20L.popup%28%7B%22maxWidth%22%3A%20%22100%25%22%7D%29%3B%0A%0A%20%20%20%20%20%20%20%20%0A%20%20%20%20%20%20%20%20%20%20%20%20var%20html_74fa554eb7894543853b0bcfbdbbb2a0%20%3D%20%24%28%60%3Cdiv%20id%3D%22html_74fa554eb7894543853b0bcfbdbbb2a0%22%20style%3D%22width%3A%20100.0%25%3B%20height%3A%20100.0%25%3B%22%3Eplot%3A%20NSFNNC008%3C/div%3E%60%29%5B0%5D%3B%0A%20%20%20%20%20%20%20%20%20%20%20%20popup_5b6158c9ddcd45bcbf829bc54f9c2b7a.setContent%28html_74fa554eb7894543853b0bcfbdbbb2a0%29%3B%0A%20%20%20%20%20%20%20%20%0A%0A%20%20%20%20%20%20%20%20marker_5aa167830e104699997eca23405f829a.bindPopup%28popup_5b6158c9ddcd45bcbf829bc54f9c2b7a%29%0A%20%20%20%20%20%20%20%20%3B%0A%0A%20%20%20%20%20%20%20%20%0A%20%20%20%20%0A%20%20%20%20%0A%20%20%20%20%20%20%20%20%20%20%20%20var%20marker_04864233f3464607b3c9c2440091b0dc%20%3D%20L.marker%28%0A%20%20%20%20%20%20%20%20%20%20%20%20%20%20%20%20%5B-36.759165%2C%20149.435125%5D%2C%0A%20%20%20%20%20%20%20%20%20%20%20%20%20%20%20%20%7B%7D%0A%20%20%20%20%20%20%20%20%20%20%20%20%29.addTo%28map_75f9f0f51aaa4ac2ba70f3ad451bc6d1%29%3B%0A%20%20%20%20%20%20%20%20%0A%20%20%20%20%0A%20%20%20%20%20%20%20%20var%20popup_b2cd1be8bb5e4460a5f9d270905242de%20%3D%20L.popup%28%7B%22maxWidth%22%3A%20%22100%25%22%7D%29%3B%0A%0A%20%20%20%20%20%20%20%20%0A%20%20%20%20%20%20%20%20%20%20%20%20var%20html_a9c2888fc097420c8ddcd9357846f491%20%3D%20%24%28%60%3Cdiv%20id%3D%22html_a9c2888fc097420c8ddcd9357846f491%22%20style%3D%22width%3A%20100.0%25%3B%20height%3A%20100.0%25%3B%22%3Eplot%3A%20NSFSEC001%3C/div%3E%60%29%5B0%5D%3B%0A%20%20%20%20%20%20%20%20%20%20%20%20popup_b2cd1be8bb5e4460a5f9d270905242de.setContent%28html_a9c2888fc097420c8ddcd9357846f491%29%3B%0A%20%20%20%20%20%20%20%20%0A%0A%20%20%20%20%20%20%20%20marker_04864233f3464607b3c9c2440091b0dc.bindPopup%28popup_b2cd1be8bb5e4460a5f9d270905242de%29%0A%20%20%20%20%20%20%20%20%3B%0A%0A%20%20%20%20%20%20%20%20%0A%20%20%20%20%0A%20%20%20%20%0A%20%20%20%20%20%20%20%20%20%20%20%20var%20marker_7638eb9adb5d4f5196049cce60c0c662%20%3D%20L.marker%28%0A%20%20%20%20%20%20%20%20%20%20%20%20%20%20%20%20%5B-37.013029%2C%20149.381474%5D%2C%0A%20%20%20%20%20%20%20%20%20%20%20%20%20%20%20%20%7B%7D%0A%20%20%20%20%20%20%20%20%20%20%20%20%29.addTo%28map_75f9f0f51aaa4ac2ba70f3ad451bc6d1%29%3B%0A%20%20%20%20%20%20%20%20%0A%20%20%20%20%0A%20%20%20%20%20%20%20%20var%20popup_f21baec808e74e27874d0d0d863b2b2f%20%3D%20L.popup%28%7B%22maxWidth%22%3A%20%22100%25%22%7D%29%3B%0A%0A%20%20%20%20%20%20%20%20%0A%20%20%20%20%20%20%20%20%20%20%20%20var%20html_3bce2fb126c24046bea67244059e37d3%20%3D%20%24%28%60%3Cdiv%20id%3D%22html_3bce2fb126c24046bea67244059e37d3%22%20style%3D%22width%3A%20100.0%25%3B%20height%3A%20100.0%25%3B%22%3Eplot%3A%20NSFSEC002%3C/div%3E%60%29%5B0%5D%3B%0A%20%20%20%20%20%20%20%20%20%20%20%20popup_f21baec808e74e27874d0d0d863b2b2f.setContent%28html_3bce2fb126c24046bea67244059e37d3%29%3B%0A%20%20%20%20%20%20%20%20%0A%0A%20%20%20%20%20%20%20%20marker_7638eb9adb5d4f5196049cce60c0c662.bindPopup%28popup_f21baec808e74e27874d0d0d863b2b2f%29%0A%20%20%20%20%20%20%20%20%3B%0A%0A%20%20%20%20%20%20%20%20%0A%20%20%20%20%0A%20%20%20%20%0A%20%20%20%20%20%20%20%20%20%20%20%20var%20marker_19a0e4893aea4556917aadc762c044e8%20%3D%20L.marker%28%0A%20%20%20%20%20%20%20%20%20%20%20%20%20%20%20%20%5B-36.997418%2C%20149.382334%5D%2C%0A%20%20%20%20%20%20%20%20%20%20%20%20%20%20%20%20%7B%7D%0A%20%20%20%20%20%20%20%20%20%20%20%20%29.addTo%28map_75f9f0f51aaa4ac2ba70f3ad451bc6d1%29%3B%0A%20%20%20%20%20%20%20%20%0A%20%20%20%20%0A%20%20%20%20%20%20%20%20var%20popup_d3d04a9226074b98844723700355fdf8%20%3D%20L.popup%28%7B%22maxWidth%22%3A%20%22100%25%22%7D%29%3B%0A%0A%20%20%20%20%20%20%20%20%0A%20%20%20%20%20%20%20%20%20%20%20%20var%20html_2fcd972d922c44028fa1a6b90a669c66%20%3D%20%24%28%60%3Cdiv%20id%3D%22html_2fcd972d922c44028fa1a6b90a669c66%22%20style%3D%22width%3A%20100.0%25%3B%20height%3A%20100.0%25%3B%22%3Eplot%3A%20NSFSEC003%3C/div%3E%60%29%5B0%5D%3B%0A%20%20%20%20%20%20%20%20%20%20%20%20popup_d3d04a9226074b98844723700355fdf8.setContent%28html_2fcd972d922c44028fa1a6b90a669c66%29%3B%0A%20%20%20%20%20%20%20%20%0A%0A%20%20%20%20%20%20%20%20marker_19a0e4893aea4556917aadc762c044e8.bindPopup%28popup_d3d04a9226074b98844723700355fdf8%29%0A%20%20%20%20%20%20%20%20%3B%0A%0A%20%20%20%20%20%20%20%20%0A%20%20%20%20%0A%20%20%20%20%0A%20%20%20%20%20%20%20%20%20%20%20%20var%20marker_8526d912436b4a61b7c670af6724e2f5%20%3D%20L.marker%28%0A%20%20%20%20%20%20%20%20%20%20%20%20%20%20%20%20%5B-36.903761%2C%20149.717866%5D%2C%0A%20%20%20%20%20%20%20%20%20%20%20%20%20%20%20%20%7B%7D%0A%20%20%20%20%20%20%20%20%20%20%20%20%29.addTo%28map_75f9f0f51aaa4ac2ba70f3ad451bc6d1%29%3B%0A%20%20%20%20%20%20%20%20%0A%20%20%20%20%0A%20%20%20%20%20%20%20%20var%20popup_38b1be0c66da429a87b03051be25c058%20%3D%20L.popup%28%7B%22maxWidth%22%3A%20%22100%25%22%7D%29%3B%0A%0A%20%20%20%20%20%20%20%20%0A%20%20%20%20%20%20%20%20%20%20%20%20var%20html_c0db148ca63b490c8f93346e622c9717%20%3D%20%24%28%60%3Cdiv%20id%3D%22html_c0db148ca63b490c8f93346e622c9717%22%20style%3D%22width%3A%20100.0%25%3B%20height%3A%20100.0%25%3B%22%3Eplot%3A%20NSFSEC004%3C/div%3E%60%29%5B0%5D%3B%0A%20%20%20%20%20%20%20%20%20%20%20%20popup_38b1be0c66da429a87b03051be25c058.setContent%28html_c0db148ca63b490c8f93346e622c9717%29%3B%0A%20%20%20%20%20%20%20%20%0A%0A%20%20%20%20%20%20%20%20marker_8526d912436b4a61b7c670af6724e2f5.bindPopup%28popup_38b1be0c66da429a87b03051be25c058%29%0A%20%20%20%20%20%20%20%20%3B%0A%0A%20%20%20%20%20%20%20%20%0A%20%20%20%20%0A%20%20%20%20%0A%20%20%20%20%20%20%20%20%20%20%20%20var%20marker_77526cb668c2400ab65749b517a7ceec%20%3D%20L.marker%28%0A%20%20%20%20%20%20%20%20%20%20%20%20%20%20%20%20%5B-36.863176%2C%20149.594699%5D%2C%0A%20%20%20%20%20%20%20%20%20%20%20%20%20%20%20%20%7B%7D%0A%20%20%20%20%20%20%20%20%20%20%20%20%29.addTo%28map_75f9f0f51aaa4ac2ba70f3ad451bc6d1%29%3B%0A%20%20%20%20%20%20%20%20%0A%20%20%20%20%0A%20%20%20%20%20%20%20%20var%20popup_8ece48c7e4e74f38818b8fbafac5caa5%20%3D%20L.popup%28%7B%22maxWidth%22%3A%20%22100%25%22%7D%29%3B%0A%0A%20%20%20%20%20%20%20%20%0A%20%20%20%20%20%20%20%20%20%20%20%20var%20html_925de63cc43d41939ec21481e38453b7%20%3D%20%24%28%60%3Cdiv%20id%3D%22html_925de63cc43d41939ec21481e38453b7%22%20style%3D%22width%3A%20100.0%25%3B%20height%3A%20100.0%25%3B%22%3Eplot%3A%20NSFSEC005%3C/div%3E%60%29%5B0%5D%3B%0A%20%20%20%20%20%20%20%20%20%20%20%20popup_8ece48c7e4e74f38818b8fbafac5caa5.setContent%28html_925de63cc43d41939ec21481e38453b7%29%3B%0A%20%20%20%20%20%20%20%20%0A%0A%20%20%20%20%20%20%20%20marker_77526cb668c2400ab65749b517a7ceec.bindPopup%28popup_8ece48c7e4e74f38818b8fbafac5caa5%29%0A%20%20%20%20%20%20%20%20%3B%0A%0A%20%20%20%20%20%20%20%20%0A%20%20%20%20%0A%20%20%20%20%0A%20%20%20%20%20%20%20%20%20%20%20%20var%20marker_42ed4406913d49d2af7492a4476ee5b6%20%3D%20L.marker%28%0A%20%20%20%20%20%20%20%20%20%20%20%20%20%20%20%20%5B-41.311345%2C%20147.538381%5D%2C%0A%20%20%20%20%20%20%20%20%20%20%20%20%20%20%20%20%7B%7D%0A%20%20%20%20%20%20%20%20%20%20%20%20%29.addTo%28map_75f9f0f51aaa4ac2ba70f3ad451bc6d1%29%3B%0A%20%20%20%20%20%20%20%20%0A%20%20%20%20%0A%20%20%20%20%20%20%20%20var%20popup_97e0164d7cc1440192d707b0265e1d9a%20%3D%20L.popup%28%7B%22maxWidth%22%3A%20%22100%25%22%7D%29%3B%0A%0A%20%20%20%20%20%20%20%20%0A%20%20%20%20%20%20%20%20%20%20%20%20var%20html_70e6719ebebd4201b32fa52ac5c04de3%20%3D%20%24%28%60%3Cdiv%20id%3D%22html_70e6719ebebd4201b32fa52ac5c04de3%22%20style%3D%22width%3A%20100.0%25%3B%20height%3A%20100.0%25%3B%22%3Eplot%3A%20TCFBEL001%3C/div%3E%60%29%5B0%5D%3B%0A%20%20%20%20%20%20%20%20%20%20%20%20popup_97e0164d7cc1440192d707b0265e1d9a.setContent%28html_70e6719ebebd4201b32fa52ac5c04de3%29%3B%0A%20%20%20%20%20%20%20%20%0A%0A%20%20%20%20%20%20%20%20marker_42ed4406913d49d2af7492a4476ee5b6.bindPopup%28popup_97e0164d7cc1440192d707b0265e1d9a%29%0A%20%20%20%20%20%20%20%20%3B%0A%0A%20%20%20%20%20%20%20%20%0A%20%20%20%20%0A%20%20%20%20%0A%20%20%20%20%20%20%20%20%20%20%20%20var%20marker_a7818567aab945e18e68305df4adf41d%20%3D%20L.marker%28%0A%20%20%20%20%20%20%20%20%20%20%20%20%20%20%20%20%5B-41.367397%2C%20147.602513%5D%2C%0A%20%20%20%20%20%20%20%20%20%20%20%20%20%20%20%20%7B%7D%0A%20%20%20%20%20%20%20%20%20%20%20%20%29.addTo%28map_75f9f0f51aaa4ac2ba70f3ad451bc6d1%29%3B%0A%20%20%20%20%20%20%20%20%0A%20%20%20%20%0A%20%20%20%20%20%20%20%20var%20popup_87bb5a2ab9834b8b92787132eb77ca91%20%3D%20L.popup%28%7B%22maxWidth%22%3A%20%22100%25%22%7D%29%3B%0A%0A%20%20%20%20%20%20%20%20%0A%20%20%20%20%20%20%20%20%20%20%20%20var%20html_ec96c90fc54b41b9a034ec66d1f17724%20%3D%20%24%28%60%3Cdiv%20id%3D%22html_ec96c90fc54b41b9a034ec66d1f17724%22%20style%3D%22width%3A%20100.0%25%3B%20height%3A%20100.0%25%3B%22%3Eplot%3A%20TCFBEL002%3C/div%3E%60%29%5B0%5D%3B%0A%20%20%20%20%20%20%20%20%20%20%20%20popup_87bb5a2ab9834b8b92787132eb77ca91.setContent%28html_ec96c90fc54b41b9a034ec66d1f17724%29%3B%0A%20%20%20%20%20%20%20%20%0A%0A%20%20%20%20%20%20%20%20marker_a7818567aab945e18e68305df4adf41d.bindPopup%28popup_87bb5a2ab9834b8b92787132eb77ca91%29%0A%20%20%20%20%20%20%20%20%3B%0A%0A%20%20%20%20%20%20%20%20%0A%20%20%20%20%0A%20%20%20%20%0A%20%20%20%20%20%20%20%20%20%20%20%20var%20marker_81a6aa64dc9b4d959cbbefcc65e38dda%20%3D%20L.marker%28%0A%20%20%20%20%20%20%20%20%20%20%20%20%20%20%20%20%5B-40.90313%2C%20145.285228%5D%2C%0A%20%20%20%20%20%20%20%20%20%20%20%20%20%20%20%20%7B%7D%0A%20%20%20%20%20%20%20%20%20%20%20%20%29.addTo%28map_75f9f0f51aaa4ac2ba70f3ad451bc6d1%29%3B%0A%20%20%20%20%20%20%20%20%0A%20%20%20%20%0A%20%20%20%20%20%20%20%20var%20popup_abf6808a41b94d08a70d9f9369601a09%20%3D%20L.popup%28%7B%22maxWidth%22%3A%20%22100%25%22%7D%29%3B%0A%0A%20%20%20%20%20%20%20%20%0A%20%20%20%20%20%20%20%20%20%20%20%20var%20html_635f2697d597454791e48f64f96c1151%20%3D%20%24%28%60%3Cdiv%20id%3D%22html_635f2697d597454791e48f64f96c1151%22%20style%3D%22width%3A%20100.0%25%3B%20height%3A%20100.0%25%3B%22%3Eplot%3A%20TCFKIN001%3C/div%3E%60%29%5B0%5D%3B%0A%20%20%20%20%20%20%20%20%20%20%20%20popup_abf6808a41b94d08a70d9f9369601a09.setContent%28html_635f2697d597454791e48f64f96c1151%29%3B%0A%20%20%20%20%20%20%20%20%0A%0A%20%20%20%20%20%20%20%20marker_81a6aa64dc9b4d959cbbefcc65e38dda.bindPopup%28popup_abf6808a41b94d08a70d9f9369601a09%29%0A%20%20%20%20%20%20%20%20%3B%0A%0A%20%20%20%20%20%20%20%20%0A%20%20%20%20%0A%20%20%20%20%0A%20%20%20%20%20%20%20%20%20%20%20%20var%20marker_8a235161bc2240478db0fd8e7e2311ce%20%3D%20L.marker%28%0A%20%20%20%20%20%20%20%20%20%20%20%20%20%20%20%20%5B-40.952559%2C%20144.842051%5D%2C%0A%20%20%20%20%20%20%20%20%20%20%20%20%20%20%20%20%7B%7D%0A%20%20%20%20%20%20%20%20%20%20%20%20%29.addTo%28map_75f9f0f51aaa4ac2ba70f3ad451bc6d1%29%3B%0A%20%20%20%20%20%20%20%20%0A%20%20%20%20%0A%20%20%20%20%20%20%20%20var%20popup_7667edd706394bab91de9c1c28015f61%20%3D%20L.popup%28%7B%22maxWidth%22%3A%20%22100%25%22%7D%29%3B%0A%0A%20%20%20%20%20%20%20%20%0A%20%20%20%20%20%20%20%20%20%20%20%20var%20html_ee5b68138c6b4a7bb65464c18d36f91b%20%3D%20%24%28%60%3Cdiv%20id%3D%22html_ee5b68138c6b4a7bb65464c18d36f91b%22%20style%3D%22width%3A%20100.0%25%3B%20height%3A%20100.0%25%3B%22%3Eplot%3A%20TCFKIN002%3C/div%3E%60%29%5B0%5D%3B%0A%20%20%20%20%20%20%20%20%20%20%20%20popup_7667edd706394bab91de9c1c28015f61.setContent%28html_ee5b68138c6b4a7bb65464c18d36f91b%29%3B%0A%20%20%20%20%20%20%20%20%0A%0A%20%20%20%20%20%20%20%20marker_8a235161bc2240478db0fd8e7e2311ce.bindPopup%28popup_7667edd706394bab91de9c1c28015f61%29%0A%20%20%20%20%20%20%20%20%3B%0A%0A%20%20%20%20%20%20%20%20%0A%20%20%20%20%0A%20%20%20%20%0A%20%20%20%20%20%20%20%20%20%20%20%20var%20marker_1ec9c888afcc466dbca0db2280c559f8%20%3D%20L.marker%28%0A%20%20%20%20%20%20%20%20%20%20%20%20%20%20%20%20%5B-41.044984%2C%20145.566135%5D%2C%0A%20%20%20%20%20%20%20%20%20%20%20%20%20%20%20%20%7B%7D%0A%20%20%20%20%20%20%20%20%20%20%20%20%29.addTo%28map_75f9f0f51aaa4ac2ba70f3ad451bc6d1%29%3B%0A%20%20%20%20%20%20%20%20%0A%20%20%20%20%0A%20%20%20%20%20%20%20%20var%20popup_820a76cc1f2249eb9195852ff6192dc8%20%3D%20L.popup%28%7B%22maxWidth%22%3A%20%22100%25%22%7D%29%3B%0A%0A%20%20%20%20%20%20%20%20%0A%20%20%20%20%20%20%20%20%20%20%20%20var%20html_7ef64e8892aa436685e437971b81c337%20%3D%20%24%28%60%3Cdiv%20id%3D%22html_7ef64e8892aa436685e437971b81c337%22%20style%3D%22width%3A%20100.0%25%3B%20height%3A%20100.0%25%3B%22%3Eplot%3A%20TCFTNS001%3C/div%3E%60%29%5B0%5D%3B%0A%20%20%20%20%20%20%20%20%20%20%20%20popup_820a76cc1f2249eb9195852ff6192dc8.setContent%28html_7ef64e8892aa436685e437971b81c337%29%3B%0A%20%20%20%20%20%20%20%20%0A%0A%20%20%20%20%20%20%20%20marker_1ec9c888afcc466dbca0db2280c559f8.bindPopup%28popup_820a76cc1f2249eb9195852ff6192dc8%29%0A%20%20%20%20%20%20%20%20%3B%0A%0A%20%20%20%20%20%20%20%20%0A%20%20%20%20%0A%20%20%20%20%0A%20%20%20%20%20%20%20%20%20%20%20%20var%20marker_009c1a49214f4d51b05ec882225af859%20%3D%20L.marker%28%0A%20%20%20%20%20%20%20%20%20%20%20%20%20%20%20%20%5B-41.034643%2C%20145.405096%5D%2C%0A%20%20%20%20%20%20%20%20%20%20%20%20%20%20%20%20%7B%7D%0A%20%20%20%20%20%20%20%20%20%20%20%20%29.addTo%28map_75f9f0f51aaa4ac2ba70f3ad451bc6d1%29%3B%0A%20%20%20%20%20%20%20%20%0A%20%20%20%20%0A%20%20%20%20%20%20%20%20var%20popup_d739d8d1c41444f794e724b2c56ccd5b%20%3D%20L.popup%28%7B%22maxWidth%22%3A%20%22100%25%22%7D%29%3B%0A%0A%20%20%20%20%20%20%20%20%0A%20%20%20%20%20%20%20%20%20%20%20%20var%20html_2af6e0f268124fd3aefc91e01e5bbcb9%20%3D%20%24%28%60%3Cdiv%20id%3D%22html_2af6e0f268124fd3aefc91e01e5bbcb9%22%20style%3D%22width%3A%20100.0%25%3B%20height%3A%20100.0%25%3B%22%3Eplot%3A%20TCFTNS002%3C/div%3E%60%29%5B0%5D%3B%0A%20%20%20%20%20%20%20%20%20%20%20%20popup_d739d8d1c41444f794e724b2c56ccd5b.setContent%28html_2af6e0f268124fd3aefc91e01e5bbcb9%29%3B%0A%20%20%20%20%20%20%20%20%0A%0A%20%20%20%20%20%20%20%20marker_009c1a49214f4d51b05ec882225af859.bindPopup%28popup_d739d8d1c41444f794e724b2c56ccd5b%29%0A%20%20%20%20%20%20%20%20%3B%0A%0A%20%20%20%20%20%20%20%20%0A%20%20%20%20%0A%20%20%20%20%0A%20%20%20%20%20%20%20%20%20%20%20%20var%20marker_9dc5e6d444da450ca27ebf6727f3bc75%20%3D%20L.marker%28%0A%20%20%20%20%20%20%20%20%20%20%20%20%20%20%20%20%5B-41.629951%2C%20146.258356%5D%2C%0A%20%20%20%20%20%20%20%20%20%20%20%20%20%20%20%20%7B%7D%0A%20%20%20%20%20%20%20%20%20%20%20%20%29.addTo%28map_75f9f0f51aaa4ac2ba70f3ad451bc6d1%29%3B%0A%20%20%20%20%20%20%20%20%0A%20%20%20%20%0A%20%20%20%20%20%20%20%20var%20popup_672f20dd1e0042b993b374294782e73b%20%3D%20L.popup%28%7B%22maxWidth%22%3A%20%22100%25%22%7D%29%3B%0A%0A%20%20%20%20%20%20%20%20%0A%20%20%20%20%20%20%20%20%20%20%20%20var%20html_f92ac57ab9a04e139d0a5b21744957fe%20%3D%20%24%28%60%3Cdiv%20id%3D%22html_f92ac57ab9a04e139d0a5b21744957fe%22%20style%3D%22width%3A%20100.0%25%3B%20height%3A%20100.0%25%3B%22%3Eplot%3A%20TCFTNS003%3C/div%3E%60%29%5B0%5D%3B%0A%20%20%20%20%20%20%20%20%20%20%20%20popup_672f20dd1e0042b993b374294782e73b.setContent%28html_f92ac57ab9a04e139d0a5b21744957fe%29%3B%0A%20%20%20%20%20%20%20%20%0A%0A%20%20%20%20%20%20%20%20marker_9dc5e6d444da450ca27ebf6727f3bc75.bindPopup%28popup_672f20dd1e0042b993b374294782e73b%29%0A%20%20%20%20%20%20%20%20%3B%0A%0A%20%20%20%20%20%20%20%20%0A%20%20%20%20%0A%20%20%20%20%0A%20%20%20%20%20%20%20%20%20%20%20%20var%20marker_b0c75ae5f5ae497798829062cda998b8%20%3D%20L.marker%28%0A%20%20%20%20%20%20%20%20%20%20%20%20%20%20%20%20%5B-41.669875%2C%20146.501252%5D%2C%0A%20%20%20%20%20%20%20%20%20%20%20%20%20%20%20%20%7B%7D%0A%20%20%20%20%20%20%20%20%20%20%20%20%29.addTo%28map_75f9f0f51aaa4ac2ba70f3ad451bc6d1%29%3B%0A%20%20%20%20%20%20%20%20%0A%20%20%20%20%0A%20%20%20%20%20%20%20%20var%20popup_15663d9e51a74a7f86100fffcca66c73%20%3D%20L.popup%28%7B%22maxWidth%22%3A%20%22100%25%22%7D%29%3B%0A%0A%20%20%20%20%20%20%20%20%0A%20%20%20%20%20%20%20%20%20%20%20%20var%20html_b143db7ade244c5a8e1dc2c7c357ecab%20%3D%20%24%28%60%3Cdiv%20id%3D%22html_b143db7ade244c5a8e1dc2c7c357ecab%22%20style%3D%22width%3A%20100.0%25%3B%20height%3A%20100.0%25%3B%22%3Eplot%3A%20TCFTNS004%3C/div%3E%60%29%5B0%5D%3B%0A%20%20%20%20%20%20%20%20%20%20%20%20popup_15663d9e51a74a7f86100fffcca66c73.setContent%28html_b143db7ade244c5a8e1dc2c7c357ecab%29%3B%0A%20%20%20%20%20%20%20%20%0A%0A%20%20%20%20%20%20%20%20marker_b0c75ae5f5ae497798829062cda998b8.bindPopup%28popup_15663d9e51a74a7f86100fffcca66c73%29%0A%20%20%20%20%20%20%20%20%3B%0A%0A%20%20%20%20%20%20%20%20%0A%20%20%20%20%0A%20%20%20%20%0A%20%20%20%20%20%20%20%20%20%20%20%20var%20marker_6d25860b79bc4f77bcccf702fb0cd84b%20%3D%20L.marker%28%0A%20%20%20%20%20%20%20%20%20%20%20%20%20%20%20%20%5B-43.089424%2C%20146.643249%5D%2C%0A%20%20%20%20%20%20%20%20%20%20%20%20%20%20%20%20%7B%7D%0A%20%20%20%20%20%20%20%20%20%20%20%20%29.addTo%28map_75f9f0f51aaa4ac2ba70f3ad451bc6d1%29%3B%0A%20%20%20%20%20%20%20%20%0A%20%20%20%20%0A%20%20%20%20%20%20%20%20var%20popup_178d0b2ef06846bfbfdc40d07a74a69e%20%3D%20L.popup%28%7B%22maxWidth%22%3A%20%22100%25%22%7D%29%3B%0A%0A%20%20%20%20%20%20%20%20%0A%20%20%20%20%20%20%20%20%20%20%20%20var%20html_462f7843853d42879bc1d64ced076aec%20%3D%20%24%28%60%3Cdiv%20id%3D%22html_462f7843853d42879bc1d64ced076aec%22%20style%3D%22width%3A%20100.0%25%3B%20height%3A%20100.0%25%3B%22%3Eplot%3A%20TCFTSR001%3C/div%3E%60%29%5B0%5D%3B%0A%20%20%20%20%20%20%20%20%20%20%20%20popup_178d0b2ef06846bfbfdc40d07a74a69e.setContent%28html_462f7843853d42879bc1d64ced076aec%29%3B%0A%20%20%20%20%20%20%20%20%0A%0A%20%20%20%20%20%20%20%20marker_6d25860b79bc4f77bcccf702fb0cd84b.bindPopup%28popup_178d0b2ef06846bfbfdc40d07a74a69e%29%0A%20%20%20%20%20%20%20%20%3B%0A%0A%20%20%20%20%20%20%20%20%0A%20%20%20%20%0A%20%20%20%20%0A%20%20%20%20%20%20%20%20%20%20%20%20var%20marker_79d6f428cd2f4d1f881ec316bc0260e6%20%3D%20L.marker%28%0A%20%20%20%20%20%20%20%20%20%20%20%20%20%20%20%20%5B-43.095939%2C%20146.65341%5D%2C%0A%20%20%20%20%20%20%20%20%20%20%20%20%20%20%20%20%7B%7D%0A%20%20%20%20%20%20%20%20%20%20%20%20%29.addTo%28map_75f9f0f51aaa4ac2ba70f3ad451bc6d1%29%3B%0A%20%20%20%20%20%20%20%20%0A%20%20%20%20%0A%20%20%20%20%20%20%20%20var%20popup_714d2da9d8e94bbca05baa498e826ab4%20%3D%20L.popup%28%7B%22maxWidth%22%3A%20%22100%25%22%7D%29%3B%0A%0A%20%20%20%20%20%20%20%20%0A%20%20%20%20%20%20%20%20%20%20%20%20var%20html_0f58589803fd45dca3e72f327293b028%20%3D%20%24%28%60%3Cdiv%20id%3D%22html_0f58589803fd45dca3e72f327293b028%22%20style%3D%22width%3A%20100.0%25%3B%20height%3A%20100.0%25%3B%22%3Eplot%3A%20TCFTSR002%3C/div%3E%60%29%5B0%5D%3B%0A%20%20%20%20%20%20%20%20%20%20%20%20popup_714d2da9d8e94bbca05baa498e826ab4.setContent%28html_0f58589803fd45dca3e72f327293b028%29%3B%0A%20%20%20%20%20%20%20%20%0A%0A%20%20%20%20%20%20%20%20marker_79d6f428cd2f4d1f881ec316bc0260e6.bindPopup%28popup_714d2da9d8e94bbca05baa498e826ab4%29%0A%20%20%20%20%20%20%20%20%3B%0A%0A%20%20%20%20%20%20%20%20%0A%20%20%20%20%0A%20%20%20%20%0A%20%20%20%20%20%20%20%20%20%20%20%20var%20marker_987f441ea86a4f3fae3334fa5b33dcd9%20%3D%20L.marker%28%0A%20%20%20%20%20%20%20%20%20%20%20%20%20%20%20%20%5B-42.811485%2C%20146.608866%5D%2C%0A%20%20%20%20%20%20%20%20%20%20%20%20%20%20%20%20%7B%7D%0A%20%20%20%20%20%20%20%20%20%20%20%20%29.addTo%28map_75f9f0f51aaa4ac2ba70f3ad451bc6d1%29%3B%0A%20%20%20%20%20%20%20%20%0A%20%20%20%20%0A%20%20%20%20%20%20%20%20var%20popup_a58c889764214687828452e94ee7347a%20%3D%20L.popup%28%7B%22maxWidth%22%3A%20%22100%25%22%7D%29%3B%0A%0A%20%20%20%20%20%20%20%20%0A%20%20%20%20%20%20%20%20%20%20%20%20var%20html_b0978de09ba84b39addb216d0f2f5bac%20%3D%20%24%28%60%3Cdiv%20id%3D%22html_b0978de09ba84b39addb216d0f2f5bac%22%20style%3D%22width%3A%20100.0%25%3B%20height%3A%20100.0%25%3B%22%3Eplot%3A%20TCFTSR003%3C/div%3E%60%29%5B0%5D%3B%0A%20%20%20%20%20%20%20%20%20%20%20%20popup_a58c889764214687828452e94ee7347a.setContent%28html_b0978de09ba84b39addb216d0f2f5bac%29%3B%0A%20%20%20%20%20%20%20%20%0A%0A%20%20%20%20%20%20%20%20marker_987f441ea86a4f3fae3334fa5b33dcd9.bindPopup%28popup_a58c889764214687828452e94ee7347a%29%0A%20%20%20%20%20%20%20%20%3B%0A%0A%20%20%20%20%20%20%20%20%0A%20%20%20%20%0A%20%20%20%20%0A%20%20%20%20%20%20%20%20%20%20%20%20var%20marker_de8a8cd3a4c94106a2b5ab95811675d8%20%3D%20L.marker%28%0A%20%20%20%20%20%20%20%20%20%20%20%20%20%20%20%20%5B-43.041397%2C%20146.743861%5D%2C%0A%20%20%20%20%20%20%20%20%20%20%20%20%20%20%20%20%7B%7D%0A%20%20%20%20%20%20%20%20%20%20%20%20%29.addTo%28map_75f9f0f51aaa4ac2ba70f3ad451bc6d1%29%3B%0A%20%20%20%20%20%20%20%20%0A%20%20%20%20%0A%20%20%20%20%20%20%20%20var%20popup_946b6871774a429eafa2a43959c49981%20%3D%20L.popup%28%7B%22maxWidth%22%3A%20%22100%25%22%7D%29%3B%0A%0A%20%20%20%20%20%20%20%20%0A%20%20%20%20%20%20%20%20%20%20%20%20var%20html_8f132248c0804d8080945dfb9da813b1%20%3D%20%24%28%60%3Cdiv%20id%3D%22html_8f132248c0804d8080945dfb9da813b1%22%20style%3D%22width%3A%20100.0%25%3B%20height%3A%20100.0%25%3B%22%3Eplot%3A%20TCFTSR004%3C/div%3E%60%29%5B0%5D%3B%0A%20%20%20%20%20%20%20%20%20%20%20%20popup_946b6871774a429eafa2a43959c49981.setContent%28html_8f132248c0804d8080945dfb9da813b1%29%3B%0A%20%20%20%20%20%20%20%20%0A%0A%20%20%20%20%20%20%20%20marker_de8a8cd3a4c94106a2b5ab95811675d8.bindPopup%28popup_946b6871774a429eafa2a43959c49981%29%0A%20%20%20%20%20%20%20%20%3B%0A%0A%20%20%20%20%20%20%20%20%0A%20%20%20%20%0A%20%20%20%20%0A%20%20%20%20%20%20%20%20%20%20%20%20var%20marker_6e18c403fcbf48f998fc69528a8eb4d3%20%3D%20L.marker%28%0A%20%20%20%20%20%20%20%20%20%20%20%20%20%20%20%20%5B-43.101829%2C%20146.746355%5D%2C%0A%20%20%20%20%20%20%20%20%20%20%20%20%20%20%20%20%7B%7D%0A%20%20%20%20%20%20%20%20%20%20%20%20%29.addTo%28map_75f9f0f51aaa4ac2ba70f3ad451bc6d1%29%3B%0A%20%20%20%20%20%20%20%20%0A%20%20%20%20%0A%20%20%20%20%20%20%20%20var%20popup_5493d61b9604425dabb82502d2bb80aa%20%3D%20L.popup%28%7B%22maxWidth%22%3A%20%22100%25%22%7D%29%3B%0A%0A%20%20%20%20%20%20%20%20%0A%20%20%20%20%20%20%20%20%20%20%20%20var%20html_6f141af997b148368e9aa43311254140%20%3D%20%24%28%60%3Cdiv%20id%3D%22html_6f141af997b148368e9aa43311254140%22%20style%3D%22width%3A%20100.0%25%3B%20height%3A%20100.0%25%3B%22%3Eplot%3A%20TCFTSR005%3C/div%3E%60%29%5B0%5D%3B%0A%20%20%20%20%20%20%20%20%20%20%20%20popup_5493d61b9604425dabb82502d2bb80aa.setContent%28html_6f141af997b148368e9aa43311254140%29%3B%0A%20%20%20%20%20%20%20%20%0A%0A%20%20%20%20%20%20%20%20marker_6e18c403fcbf48f998fc69528a8eb4d3.bindPopup%28popup_5493d61b9604425dabb82502d2bb80aa%29%0A%20%20%20%20%20%20%20%20%3B%0A%0A%20%20%20%20%20%20%20%20%0A%20%20%20%20%0A%20%20%20%20%0A%20%20%20%20%20%20%20%20%20%20%20%20var%20marker_2d8b0af701c04ca9b0bb156fe03170c9%20%3D%20L.marker%28%0A%20%20%20%20%20%20%20%20%20%20%20%20%20%20%20%20%5B-42.682963%2C%20146.649282%5D%2C%0A%20%20%20%20%20%20%20%20%20%20%20%20%20%20%20%20%7B%7D%0A%20%20%20%20%20%20%20%20%20%20%20%20%29.addTo%28map_75f9f0f51aaa4ac2ba70f3ad451bc6d1%29%3B%0A%20%20%20%20%20%20%20%20%0A%20%20%20%20%0A%20%20%20%20%20%20%20%20var%20popup_5805a17484be48619264b9d1dfe97736%20%3D%20L.popup%28%7B%22maxWidth%22%3A%20%22100%25%22%7D%29%3B%0A%0A%20%20%20%20%20%20%20%20%0A%20%20%20%20%20%20%20%20%20%20%20%20var%20html_a1b89a9fb4cb47bdb94b1617fc9f184c%20%3D%20%24%28%60%3Cdiv%20id%3D%22html_a1b89a9fb4cb47bdb94b1617fc9f184c%22%20style%3D%22width%3A%20100.0%25%3B%20height%3A%20100.0%25%3B%22%3Eplot%3A%20TCFTSR006%3C/div%3E%60%29%5B0%5D%3B%0A%20%20%20%20%20%20%20%20%20%20%20%20popup_5805a17484be48619264b9d1dfe97736.setContent%28html_a1b89a9fb4cb47bdb94b1617fc9f184c%29%3B%0A%20%20%20%20%20%20%20%20%0A%0A%20%20%20%20%20%20%20%20marker_2d8b0af701c04ca9b0bb156fe03170c9.bindPopup%28popup_5805a17484be48619264b9d1dfe97736%29%0A%20%20%20%20%20%20%20%20%3B%0A%0A%20%20%20%20%20%20%20%20%0A%20%20%20%20%0A%20%20%20%20%0A%20%20%20%20%20%20%20%20%20%20%20%20var%20marker_29badd3dee60427aa4d495964c6b5b9c%20%3D%20L.marker%28%0A%20%20%20%20%20%20%20%20%20%20%20%20%20%20%20%20%5B-37.530841%2C%20145.516708%5D%2C%0A%20%20%20%20%20%20%20%20%20%20%20%20%20%20%20%20%7B%7D%0A%20%20%20%20%20%20%20%20%20%20%20%20%29.addTo%28map_75f9f0f51aaa4ac2ba70f3ad451bc6d1%29%3B%0A%20%20%20%20%20%20%20%20%0A%20%20%20%20%0A%20%20%20%20%20%20%20%20var%20popup_700b7587c58c4ad2a5dce56fc243c4a5%20%3D%20L.popup%28%7B%22maxWidth%22%3A%20%22100%25%22%7D%29%3B%0A%0A%20%20%20%20%20%20%20%20%0A%20%20%20%20%20%20%20%20%20%20%20%20var%20html_81c85f3b15d142a8baee615f16094ff6%20%3D%20%24%28%60%3Cdiv%20id%3D%22html_81c85f3b15d142a8baee615f16094ff6%22%20style%3D%22width%3A%20100.0%25%3B%20height%3A%20100.0%25%3B%22%3Eplot%3A%20VCFSEH001%3C/div%3E%60%29%5B0%5D%3B%0A%20%20%20%20%20%20%20%20%20%20%20%20popup_700b7587c58c4ad2a5dce56fc243c4a5.setContent%28html_81c85f3b15d142a8baee615f16094ff6%29%3B%0A%20%20%20%20%20%20%20%20%0A%0A%20%20%20%20%20%20%20%20marker_29badd3dee60427aa4d495964c6b5b9c.bindPopup%28popup_700b7587c58c4ad2a5dce56fc243c4a5%29%0A%20%20%20%20%20%20%20%20%3B%0A%0A%20%20%20%20%20%20%20%20%0A%20%20%20%20%0A%20%20%20%20%0A%20%20%20%20%20%20%20%20%20%20%20%20var%20marker_10e6edc960f84eb39b6f896210435dd2%20%3D%20L.marker%28%0A%20%20%20%20%20%20%20%20%20%20%20%20%20%20%20%20%5B-37.804973%2C%20145.867273%5D%2C%0A%20%20%20%20%20%20%20%20%20%20%20%20%20%20%20%20%7B%7D%0A%20%20%20%20%20%20%20%20%20%20%20%20%29.addTo%28map_75f9f0f51aaa4ac2ba70f3ad451bc6d1%29%3B%0A%20%20%20%20%20%20%20%20%0A%20%20%20%20%0A%20%20%20%20%20%20%20%20var%20popup_0fab6637fe584977b8d8c1bb6bee9b5f%20%3D%20L.popup%28%7B%22maxWidth%22%3A%20%22100%25%22%7D%29%3B%0A%0A%20%20%20%20%20%20%20%20%0A%20%20%20%20%20%20%20%20%20%20%20%20var%20html_678fa719880e4b5da1e367b2a77e1f22%20%3D%20%24%28%60%3Cdiv%20id%3D%22html_678fa719880e4b5da1e367b2a77e1f22%22%20style%3D%22width%3A%20100.0%25%3B%20height%3A%20100.0%25%3B%22%3Eplot%3A%20VCFSEH002%3C/div%3E%60%29%5B0%5D%3B%0A%20%20%20%20%20%20%20%20%20%20%20%20popup_0fab6637fe584977b8d8c1bb6bee9b5f.setContent%28html_678fa719880e4b5da1e367b2a77e1f22%29%3B%0A%20%20%20%20%20%20%20%20%0A%0A%20%20%20%20%20%20%20%20marker_10e6edc960f84eb39b6f896210435dd2.bindPopup%28popup_0fab6637fe584977b8d8c1bb6bee9b5f%29%0A%20%20%20%20%20%20%20%20%3B%0A%0A%20%20%20%20%20%20%20%20%0A%20%20%20%20%0A%20%20%20%20%0A%20%20%20%20%20%20%20%20%20%20%20%20var%20marker_ba108f0da54542c4a167cccac0cf20f3%20%3D%20L.marker%28%0A%20%20%20%20%20%20%20%20%20%20%20%20%20%20%20%20%5B-38.64372%2C%20143.474993%5D%2C%0A%20%20%20%20%20%20%20%20%20%20%20%20%20%20%20%20%7B%7D%0A%20%20%20%20%20%20%20%20%20%20%20%20%29.addTo%28map_75f9f0f51aaa4ac2ba70f3ad451bc6d1%29%3B%0A%20%20%20%20%20%20%20%20%0A%20%20%20%20%0A%20%20%20%20%20%20%20%20var%20popup_afd1cd6f8dd2416191cfeea21c30101d%20%3D%20L.popup%28%7B%22maxWidth%22%3A%20%22100%25%22%7D%29%3B%0A%0A%20%20%20%20%20%20%20%20%0A%20%20%20%20%20%20%20%20%20%20%20%20var%20html_e0953d139097426cb5398443bb959ca5%20%3D%20%24%28%60%3Cdiv%20id%3D%22html_e0953d139097426cb5398443bb959ca5%22%20style%3D%22width%3A%20100.0%25%3B%20height%3A%20100.0%25%3B%22%3Eplot%3A%20VCFSEH003%3C/div%3E%60%29%5B0%5D%3B%0A%20%20%20%20%20%20%20%20%20%20%20%20popup_afd1cd6f8dd2416191cfeea21c30101d.setContent%28html_e0953d139097426cb5398443bb959ca5%29%3B%0A%20%20%20%20%20%20%20%20%0A%0A%20%20%20%20%20%20%20%20marker_ba108f0da54542c4a167cccac0cf20f3.bindPopup%28popup_afd1cd6f8dd2416191cfeea21c30101d%29%0A%20%20%20%20%20%20%20%20%3B%0A%0A%20%20%20%20%20%20%20%20%0A%20%20%20%20%0A%20%20%20%20%0A%20%20%20%20%20%20%20%20%20%20%20%20var%20marker_9efeef95fb3a47e5b702ae5109f2a67f%20%3D%20L.marker%28%0A%20%20%20%20%20%20%20%20%20%20%20%20%20%20%20%20%5B-38.639815%2C%20143.702362%5D%2C%0A%20%20%20%20%20%20%20%20%20%20%20%20%20%20%20%20%7B%7D%0A%20%20%20%20%20%20%20%20%20%20%20%20%29.addTo%28map_75f9f0f51aaa4ac2ba70f3ad451bc6d1%29%3B%0A%20%20%20%20%20%20%20%20%0A%20%20%20%20%0A%20%20%20%20%20%20%20%20var%20popup_86dc1a474c64451f8c90003428b52586%20%3D%20L.popup%28%7B%22maxWidth%22%3A%20%22100%25%22%7D%29%3B%0A%0A%20%20%20%20%20%20%20%20%0A%20%20%20%20%20%20%20%20%20%20%20%20var%20html_efa6ab6d741347a1a48e74012180c473%20%3D%20%24%28%60%3Cdiv%20id%3D%22html_efa6ab6d741347a1a48e74012180c473%22%20style%3D%22width%3A%20100.0%25%3B%20height%3A%20100.0%25%3B%22%3Eplot%3A%20VCFSEH004%3C/div%3E%60%29%5B0%5D%3B%0A%20%20%20%20%20%20%20%20%20%20%20%20popup_86dc1a474c64451f8c90003428b52586.setContent%28html_efa6ab6d741347a1a48e74012180c473%29%3B%0A%20%20%20%20%20%20%20%20%0A%0A%20%20%20%20%20%20%20%20marker_9efeef95fb3a47e5b702ae5109f2a67f.bindPopup%28popup_86dc1a474c64451f8c90003428b52586%29%0A%20%20%20%20%20%20%20%20%3B%0A%0A%20%20%20%20%20%20%20%20%0A%20%20%20%20%0A%20%20%20%20%0A%20%20%20%20%20%20%20%20%20%20%20%20var%20marker_bedecc81ea3149df9f13f146b90f3a4d%20%3D%20L.marker%28%0A%20%20%20%20%20%20%20%20%20%20%20%20%20%20%20%20%5B-38.629258%2C%20143.625792%5D%2C%0A%20%20%20%20%20%20%20%20%20%20%20%20%20%20%20%20%7B%7D%0A%20%20%20%20%20%20%20%20%20%20%20%20%29.addTo%28map_75f9f0f51aaa4ac2ba70f3ad451bc6d1%29%3B%0A%20%20%20%20%20%20%20%20%0A%20%20%20%20%0A%20%20%20%20%20%20%20%20var%20popup_269136b5d47545539fcdfb0f674ce4fb%20%3D%20L.popup%28%7B%22maxWidth%22%3A%20%22100%25%22%7D%29%3B%0A%0A%20%20%20%20%20%20%20%20%0A%20%20%20%20%20%20%20%20%20%20%20%20var%20html_3eb8d97e03a8425bb04b1cec40adf338%20%3D%20%24%28%60%3Cdiv%20id%3D%22html_3eb8d97e03a8425bb04b1cec40adf338%22%20style%3D%22width%3A%20100.0%25%3B%20height%3A%20100.0%25%3B%22%3Eplot%3A%20VCFSEH005%3C/div%3E%60%29%5B0%5D%3B%0A%20%20%20%20%20%20%20%20%20%20%20%20popup_269136b5d47545539fcdfb0f674ce4fb.setContent%28html_3eb8d97e03a8425bb04b1cec40adf338%29%3B%0A%20%20%20%20%20%20%20%20%0A%0A%20%20%20%20%20%20%20%20marker_bedecc81ea3149df9f13f146b90f3a4d.bindPopup%28popup_269136b5d47545539fcdfb0f674ce4fb%29%0A%20%20%20%20%20%20%20%20%3B%0A%0A%20%20%20%20%20%20%20%20%0A%20%20%20%20%0A%20%20%20%20%0A%20%20%20%20%20%20%20%20%20%20%20%20var%20marker_b150661e05ed4149a7edf6e17788bf50%20%3D%20L.marker%28%0A%20%20%20%20%20%20%20%20%20%20%20%20%20%20%20%20%5B-37.59279%2C%20145.626745%5D%2C%0A%20%20%20%20%20%20%20%20%20%20%20%20%20%20%20%20%7B%7D%0A%20%20%20%20%20%20%20%20%20%20%20%20%29.addTo%28map_75f9f0f51aaa4ac2ba70f3ad451bc6d1%29%3B%0A%20%20%20%20%20%20%20%20%0A%20%20%20%20%0A%20%20%20%20%20%20%20%20var%20popup_764452bf1c2a4eb3bc4d39ace1b2d70e%20%3D%20L.popup%28%7B%22maxWidth%22%3A%20%22100%25%22%7D%29%3B%0A%0A%20%20%20%20%20%20%20%20%0A%20%20%20%20%20%20%20%20%20%20%20%20var%20html_463cf5357dc445d2b76f5bcc84a851b9%20%3D%20%24%28%60%3Cdiv%20id%3D%22html_463cf5357dc445d2b76f5bcc84a851b9%22%20style%3D%22width%3A%20100.0%25%3B%20height%3A%20100.0%25%3B%22%3Eplot%3A%20VCFSEH006%3C/div%3E%60%29%5B0%5D%3B%0A%20%20%20%20%20%20%20%20%20%20%20%20popup_764452bf1c2a4eb3bc4d39ace1b2d70e.setContent%28html_463cf5357dc445d2b76f5bcc84a851b9%29%3B%0A%20%20%20%20%20%20%20%20%0A%0A%20%20%20%20%20%20%20%20marker_b150661e05ed4149a7edf6e17788bf50.bindPopup%28popup_764452bf1c2a4eb3bc4d39ace1b2d70e%29%0A%20%20%20%20%20%20%20%20%3B%0A%0A%20%20%20%20%20%20%20%20%0A%20%20%20%20%0A%20%20%20%20%0A%20%20%20%20%20%20%20%20%20%20%20%20var%20marker_1e58109fc0604eda989dcef4b91f88f1%20%3D%20L.marker%28%0A%20%20%20%20%20%20%20%20%20%20%20%20%20%20%20%20%5B-37.588718%2C%20145.638847%5D%2C%0A%20%20%20%20%20%20%20%20%20%20%20%20%20%20%20%20%7B%7D%0A%20%20%20%20%20%20%20%20%20%20%20%20%29.addTo%28map_75f9f0f51aaa4ac2ba70f3ad451bc6d1%29%3B%0A%20%20%20%20%20%20%20%20%0A%20%20%20%20%0A%20%20%20%20%20%20%20%20var%20popup_601b778c28bc4d18863a7e69e948e01b%20%3D%20L.popup%28%7B%22maxWidth%22%3A%20%22100%25%22%7D%29%3B%0A%0A%20%20%20%20%20%20%20%20%0A%20%20%20%20%20%20%20%20%20%20%20%20var%20html_b5cd858319a04255b384993dbcc99f34%20%3D%20%24%28%60%3Cdiv%20id%3D%22html_b5cd858319a04255b384993dbcc99f34%22%20style%3D%22width%3A%20100.0%25%3B%20height%3A%20100.0%25%3B%22%3Eplot%3A%20VCFSEH007%3C/div%3E%60%29%5B0%5D%3B%0A%20%20%20%20%20%20%20%20%20%20%20%20popup_601b778c28bc4d18863a7e69e948e01b.setContent%28html_b5cd858319a04255b384993dbcc99f34%29%3B%0A%20%20%20%20%20%20%20%20%0A%0A%20%20%20%20%20%20%20%20marker_1e58109fc0604eda989dcef4b91f88f1.bindPopup%28popup_601b778c28bc4d18863a7e69e948e01b%29%0A%20%20%20%20%20%20%20%20%3B%0A%0A%20%20%20%20%20%20%20%20%0A%20%20%20%20%0A%20%20%20%20%0A%20%20%20%20%20%20%20%20%20%20%20%20var%20marker_686c8a051dff49c5b825335a3c73a454%20%3D%20L.marker%28%0A%20%20%20%20%20%20%20%20%20%20%20%20%20%20%20%20%5B-37.569273%2C%20145.546473%5D%2C%0A%20%20%20%20%20%20%20%20%20%20%20%20%20%20%20%20%7B%7D%0A%20%20%20%20%20%20%20%20%20%20%20%20%29.addTo%28map_75f9f0f51aaa4ac2ba70f3ad451bc6d1%29%3B%0A%20%20%20%20%20%20%20%20%0A%20%20%20%20%0A%20%20%20%20%20%20%20%20var%20popup_9007b2cb30bb495198ffe96ca3f51465%20%3D%20L.popup%28%7B%22maxWidth%22%3A%20%22100%25%22%7D%29%3B%0A%0A%20%20%20%20%20%20%20%20%0A%20%20%20%20%20%20%20%20%20%20%20%20var%20html_0ae9bee30b1c444baa7fef5eb41979a5%20%3D%20%24%28%60%3Cdiv%20id%3D%22html_0ae9bee30b1c444baa7fef5eb41979a5%22%20style%3D%22width%3A%20100.0%25%3B%20height%3A%20100.0%25%3B%22%3Eplot%3A%20VCFSEH008%3C/div%3E%60%29%5B0%5D%3B%0A%20%20%20%20%20%20%20%20%20%20%20%20popup_9007b2cb30bb495198ffe96ca3f51465.setContent%28html_0ae9bee30b1c444baa7fef5eb41979a5%29%3B%0A%20%20%20%20%20%20%20%20%0A%0A%20%20%20%20%20%20%20%20marker_686c8a051dff49c5b825335a3c73a454.bindPopup%28popup_9007b2cb30bb495198ffe96ca3f51465%29%0A%20%20%20%20%20%20%20%20%3B%0A%0A%20%20%20%20%20%20%20%20%0A%20%20%20%20%0A%20%20%20%20%0A%20%20%20%20%20%20%20%20%20%20%20%20var%20marker_9e1df5a12d9a4dfa9b3189252fbdce13%20%3D%20L.marker%28%0A%20%20%20%20%20%20%20%20%20%20%20%20%20%20%20%20%5B-34.386658%2C%20115.845703%5D%2C%0A%20%20%20%20%20%20%20%20%20%20%20%20%20%20%20%20%7B%7D%0A%20%20%20%20%20%20%20%20%20%20%20%20%29.addTo%28map_75f9f0f51aaa4ac2ba70f3ad451bc6d1%29%3B%0A%20%20%20%20%20%20%20%20%0A%20%20%20%20%0A%20%20%20%20%20%20%20%20var%20popup_8860cc41a7f343358d1cd39645e4427c%20%3D%20L.popup%28%7B%22maxWidth%22%3A%20%22100%25%22%7D%29%3B%0A%0A%20%20%20%20%20%20%20%20%0A%20%20%20%20%20%20%20%20%20%20%20%20var%20html_8f8513b3bfa14dd38634b07072c5f3db%20%3D%20%24%28%60%3Cdiv%20id%3D%22html_8f8513b3bfa14dd38634b07072c5f3db%22%20style%3D%22width%3A%20100.0%25%3B%20height%3A%20100.0%25%3B%22%3Eplot%3A%20WAFWAR001%3C/div%3E%60%29%5B0%5D%3B%0A%20%20%20%20%20%20%20%20%20%20%20%20popup_8860cc41a7f343358d1cd39645e4427c.setContent%28html_8f8513b3bfa14dd38634b07072c5f3db%29%3B%0A%20%20%20%20%20%20%20%20%0A%0A%20%20%20%20%20%20%20%20marker_9e1df5a12d9a4dfa9b3189252fbdce13.bindPopup%28popup_8860cc41a7f343358d1cd39645e4427c%29%0A%20%20%20%20%20%20%20%20%3B%0A%0A%20%20%20%20%20%20%20%20%0A%20%20%20%20%0A%20%20%20%20%0A%20%20%20%20%20%20%20%20%20%20%20%20var%20marker_b0e46f1dfd41494abdb845ad38619e5e%20%3D%20L.marker%28%0A%20%20%20%20%20%20%20%20%20%20%20%20%20%20%20%20%5B-34.577134%2C%20115.983409%5D%2C%0A%20%20%20%20%20%20%20%20%20%20%20%20%20%20%20%20%7B%7D%0A%20%20%20%20%20%20%20%20%20%20%20%20%29.addTo%28map_75f9f0f51aaa4ac2ba70f3ad451bc6d1%29%3B%0A%20%20%20%20%20%20%20%20%0A%20%20%20%20%0A%20%20%20%20%20%20%20%20var%20popup_8c4af17f0ac44d0abc5fa97ee41213fc%20%3D%20L.popup%28%7B%22maxWidth%22%3A%20%22100%25%22%7D%29%3B%0A%0A%20%20%20%20%20%20%20%20%0A%20%20%20%20%20%20%20%20%20%20%20%20var%20html_55b9a606a685497e9fc4d5a833cbf621%20%3D%20%24%28%60%3Cdiv%20id%3D%22html_55b9a606a685497e9fc4d5a833cbf621%22%20style%3D%22width%3A%20100.0%25%3B%20height%3A%20100.0%25%3B%22%3Eplot%3A%20WAFWAR002%3C/div%3E%60%29%5B0%5D%3B%0A%20%20%20%20%20%20%20%20%20%20%20%20popup_8c4af17f0ac44d0abc5fa97ee41213fc.setContent%28html_55b9a606a685497e9fc4d5a833cbf621%29%3B%0A%20%20%20%20%20%20%20%20%0A%0A%20%20%20%20%20%20%20%20marker_b0e46f1dfd41494abdb845ad38619e5e.bindPopup%28popup_8c4af17f0ac44d0abc5fa97ee41213fc%29%0A%20%20%20%20%20%20%20%20%3B%0A%0A%20%20%20%20%20%20%20%20%0A%20%20%20%20%0A%20%20%20%20%0A%20%20%20%20%20%20%20%20%20%20%20%20var%20marker_b7cd29cb1073429191c3296dab2d4091%20%3D%20L.marker%28%0A%20%20%20%20%20%20%20%20%20%20%20%20%20%20%20%20%5B-34.545976%2C%20115.952205%5D%2C%0A%20%20%20%20%20%20%20%20%20%20%20%20%20%20%20%20%7B%7D%0A%20%20%20%20%20%20%20%20%20%20%20%20%29.addTo%28map_75f9f0f51aaa4ac2ba70f3ad451bc6d1%29%3B%0A%20%20%20%20%20%20%20%20%0A%20%20%20%20%0A%20%20%20%20%20%20%20%20var%20popup_2545c7ed6a6742bb8858e6d759e7f73d%20%3D%20L.popup%28%7B%22maxWidth%22%3A%20%22100%25%22%7D%29%3B%0A%0A%20%20%20%20%20%20%20%20%0A%20%20%20%20%20%20%20%20%20%20%20%20var%20html_cf48f48b8293473e9b250480c5c4d93b%20%3D%20%24%28%60%3Cdiv%20id%3D%22html_cf48f48b8293473e9b250480c5c4d93b%22%20style%3D%22width%3A%20100.0%25%3B%20height%3A%20100.0%25%3B%22%3Eplot%3A%20WAFWAR003%3C/div%3E%60%29%5B0%5D%3B%0A%20%20%20%20%20%20%20%20%20%20%20%20popup_2545c7ed6a6742bb8858e6d759e7f73d.setContent%28html_cf48f48b8293473e9b250480c5c4d93b%29%3B%0A%20%20%20%20%20%20%20%20%0A%0A%20%20%20%20%20%20%20%20marker_b7cd29cb1073429191c3296dab2d4091.bindPopup%28popup_2545c7ed6a6742bb8858e6d759e7f73d%29%0A%20%20%20%20%20%20%20%20%3B%0A%0A%20%20%20%20%20%20%20%20%0A%20%20%20%20%0A%20%20%20%20%0A%20%20%20%20%20%20%20%20%20%20%20%20var%20marker_1bffc8653294471eb85cc0bafe5b4c35%20%3D%20L.marker%28%0A%20%20%20%20%20%20%20%20%20%20%20%20%20%20%20%20%5B-34.849788%2C%20116.687185%5D%2C%0A%20%20%20%20%20%20%20%20%20%20%20%20%20%20%20%20%7B%7D%0A%20%20%20%20%20%20%20%20%20%20%20%20%29.addTo%28map_75f9f0f51aaa4ac2ba70f3ad451bc6d1%29%3B%0A%20%20%20%20%20%20%20%20%0A%20%20%20%20%0A%20%20%20%20%20%20%20%20var%20popup_7bc662c733f44b77b78f9dc3ee54391f%20%3D%20L.popup%28%7B%22maxWidth%22%3A%20%22100%25%22%7D%29%3B%0A%0A%20%20%20%20%20%20%20%20%0A%20%20%20%20%20%20%20%20%20%20%20%20var%20html_392d8e4ef832439292f208789bb2fbf0%20%3D%20%24%28%60%3Cdiv%20id%3D%22html_392d8e4ef832439292f208789bb2fbf0%22%20style%3D%22width%3A%20100.0%25%3B%20height%3A%20100.0%25%3B%22%3Eplot%3A%20WAFWAR004%3C/div%3E%60%29%5B0%5D%3B%0A%20%20%20%20%20%20%20%20%20%20%20%20popup_7bc662c733f44b77b78f9dc3ee54391f.setContent%28html_392d8e4ef832439292f208789bb2fbf0%29%3B%0A%20%20%20%20%20%20%20%20%0A%0A%20%20%20%20%20%20%20%20marker_1bffc8653294471eb85cc0bafe5b4c35.bindPopup%28popup_7bc662c733f44b77b78f9dc3ee54391f%29%0A%20%20%20%20%20%20%20%20%3B%0A%0A%20%20%20%20%20%20%20%20%0A%20%20%20%20%0A%20%20%20%20%0A%20%20%20%20%20%20%20%20%20%20%20%20var%20marker_d2cf82918fce4850ae4bf68b423aed60%20%3D%20L.marker%28%0A%20%20%20%20%20%20%20%20%20%20%20%20%20%20%20%20%5B-34.980543%2C%20116.879329%5D%2C%0A%20%20%20%20%20%20%20%20%20%20%20%20%20%20%20%20%7B%7D%0A%20%20%20%20%20%20%20%20%20%20%20%20%29.addTo%28map_75f9f0f51aaa4ac2ba70f3ad451bc6d1%29%3B%0A%20%20%20%20%20%20%20%20%0A%20%20%20%20%0A%20%20%20%20%20%20%20%20var%20popup_adc97def77114622ac84374fbd65d512%20%3D%20L.popup%28%7B%22maxWidth%22%3A%20%22100%25%22%7D%29%3B%0A%0A%20%20%20%20%20%20%20%20%0A%20%20%20%20%20%20%20%20%20%20%20%20var%20html_3c1aa4b7879e49f784bdc65ff8ceaf01%20%3D%20%24%28%60%3Cdiv%20id%3D%22html_3c1aa4b7879e49f784bdc65ff8ceaf01%22%20style%3D%22width%3A%20100.0%25%3B%20height%3A%20100.0%25%3B%22%3Eplot%3A%20WAFWAR005%3C/div%3E%60%29%5B0%5D%3B%0A%20%20%20%20%20%20%20%20%20%20%20%20popup_adc97def77114622ac84374fbd65d512.setContent%28html_3c1aa4b7879e49f784bdc65ff8ceaf01%29%3B%0A%20%20%20%20%20%20%20%20%0A%0A%20%20%20%20%20%20%20%20marker_d2cf82918fce4850ae4bf68b423aed60.bindPopup%28popup_adc97def77114622ac84374fbd65d512%29%0A%20%20%20%20%20%20%20%20%3B%0A%0A%20%20%20%20%20%20%20%20%0A%20%20%20%20%0A%20%20%20%20%0A%20%20%20%20%20%20%20%20%20%20%20%20var%20marker_2314ebad069b49048b7f2330ed3b405f%20%3D%20L.marker%28%0A%20%20%20%20%20%20%20%20%20%20%20%20%20%20%20%20%5B-34.448862%2C%20116.249838%5D%2C%0A%20%20%20%20%20%20%20%20%20%20%20%20%20%20%20%20%7B%7D%0A%20%20%20%20%20%20%20%20%20%20%20%20%29.addTo%28map_75f9f0f51aaa4ac2ba70f3ad451bc6d1%29%3B%0A%20%20%20%20%20%20%20%20%0A%20%20%20%20%0A%20%20%20%20%20%20%20%20var%20popup_6f96198c8c7a459aa5bfbf3066fc5513%20%3D%20L.popup%28%7B%22maxWidth%22%3A%20%22100%25%22%7D%29%3B%0A%0A%20%20%20%20%20%20%20%20%0A%20%20%20%20%20%20%20%20%20%20%20%20var%20html_e934b9642fac47a0a35991b4be5a7683%20%3D%20%24%28%60%3Cdiv%20id%3D%22html_e934b9642fac47a0a35991b4be5a7683%22%20style%3D%22width%3A%20100.0%25%3B%20height%3A%20100.0%25%3B%22%3Eplot%3A%20WAFWAR006%3C/div%3E%60%29%5B0%5D%3B%0A%20%20%20%20%20%20%20%20%20%20%20%20popup_6f96198c8c7a459aa5bfbf3066fc5513.setContent%28html_e934b9642fac47a0a35991b4be5a7683%29%3B%0A%20%20%20%20%20%20%20%20%0A%0A%20%20%20%20%20%20%20%20marker_2314ebad069b49048b7f2330ed3b405f.bindPopup%28popup_6f96198c8c7a459aa5bfbf3066fc5513%29%0A%20%20%20%20%20%20%20%20%3B%0A%0A%20%20%20%20%20%20%20%20%0A%20%20%20%20%0A%20%20%20%20%0A%20%20%20%20%20%20%20%20%20%20%20%20var%20marker_3d1f72a62b7d4aabafc0c9d347897e4f%20%3D%20L.marker%28%0A%20%20%20%20%20%20%20%20%20%20%20%20%20%20%20%20%5B-34.824617%2C%20116.786015%5D%2C%0A%20%20%20%20%20%20%20%20%20%20%20%20%20%20%20%20%7B%7D%0A%20%20%20%20%20%20%20%20%20%20%20%20%29.addTo%28map_75f9f0f51aaa4ac2ba70f3ad451bc6d1%29%3B%0A%20%20%20%20%20%20%20%20%0A%20%20%20%20%0A%20%20%20%20%20%20%20%20var%20popup_e1dd49f6fb874f0894022817248035f4%20%3D%20L.popup%28%7B%22maxWidth%22%3A%20%22100%25%22%7D%29%3B%0A%0A%20%20%20%20%20%20%20%20%0A%20%20%20%20%20%20%20%20%20%20%20%20var%20html_63f47d60fe7247b786262626e5d54177%20%3D%20%24%28%60%3Cdiv%20id%3D%22html_63f47d60fe7247b786262626e5d54177%22%20style%3D%22width%3A%20100.0%25%3B%20height%3A%20100.0%25%3B%22%3Eplot%3A%20WAFWAR007%3C/div%3E%60%29%5B0%5D%3B%0A%20%20%20%20%20%20%20%20%20%20%20%20popup_e1dd49f6fb874f0894022817248035f4.setContent%28html_63f47d60fe7247b786262626e5d54177%29%3B%0A%20%20%20%20%20%20%20%20%0A%0A%20%20%20%20%20%20%20%20marker_3d1f72a62b7d4aabafc0c9d347897e4f.bindPopup%28popup_e1dd49f6fb874f0894022817248035f4%29%0A%20%20%20%20%20%20%20%20%3B%0A%0A%20%20%20%20%20%20%20%20%0A%20%20%20%20%0A%20%20%20%20%0A%20%20%20%20%20%20%20%20%20%20%20%20var%20marker_fade0c8bf37847408695bf526fdc2411%20%3D%20L.marker%28%0A%20%20%20%20%20%20%20%20%20%20%20%20%20%20%20%20%5B-34.995411%2C%20116.650415%5D%2C%0A%20%20%20%20%20%20%20%20%20%20%20%20%20%20%20%20%7B%7D%0A%20%20%20%20%20%20%20%20%20%20%20%20%29.addTo%28map_75f9f0f51aaa4ac2ba70f3ad451bc6d1%29%3B%0A%20%20%20%20%20%20%20%20%0A%20%20%20%20%0A%20%20%20%20%20%20%20%20var%20popup_39ffd1651914426b8bd6049a64b85cf1%20%3D%20L.popup%28%7B%22maxWidth%22%3A%20%22100%25%22%7D%29%3B%0A%0A%20%20%20%20%20%20%20%20%0A%20%20%20%20%20%20%20%20%20%20%20%20var%20html_dac4e90aa7a447d893661a08a7c7c634%20%3D%20%24%28%60%3Cdiv%20id%3D%22html_dac4e90aa7a447d893661a08a7c7c634%22%20style%3D%22width%3A%20100.0%25%3B%20height%3A%20100.0%25%3B%22%3Eplot%3A%20WAFWAR008%3C/div%3E%60%29%5B0%5D%3B%0A%20%20%20%20%20%20%20%20%20%20%20%20popup_39ffd1651914426b8bd6049a64b85cf1.setContent%28html_dac4e90aa7a447d893661a08a7c7c634%29%3B%0A%20%20%20%20%20%20%20%20%0A%0A%20%20%20%20%20%20%20%20marker_fade0c8bf37847408695bf526fdc2411.bindPopup%28popup_39ffd1651914426b8bd6049a64b85cf1%29%0A%20%20%20%20%20%20%20%20%3B%0A%0A%20%20%20%20%20%20%20%20%0A%20%20%20%20%0A%20%20%20%20%0A%20%20%20%20%20%20%20%20%20%20%20%20var%20marker_0f17d40f735d46e4bb31aa7d6fee089d%20%3D%20L.marker%28%0A%20%20%20%20%20%20%20%20%20%20%20%20%20%20%20%20%5B-34.507806%2C%20116.12422%5D%2C%0A%20%20%20%20%20%20%20%20%20%20%20%20%20%20%20%20%7B%7D%0A%20%20%20%20%20%20%20%20%20%20%20%20%29.addTo%28map_75f9f0f51aaa4ac2ba70f3ad451bc6d1%29%3B%0A%20%20%20%20%20%20%20%20%0A%20%20%20%20%0A%20%20%20%20%20%20%20%20var%20popup_4d63c6aa917d40e7963dbf2331b26dd1%20%3D%20L.popup%28%7B%22maxWidth%22%3A%20%22100%25%22%7D%29%3B%0A%0A%20%20%20%20%20%20%20%20%0A%20%20%20%20%20%20%20%20%20%20%20%20var%20html_e07c9728ae924481a6218762cb42df74%20%3D%20%24%28%60%3Cdiv%20id%3D%22html_e07c9728ae924481a6218762cb42df74%22%20style%3D%22width%3A%20100.0%25%3B%20height%3A%20100.0%25%3B%22%3Eplot%3A%20WAFWAR009%3C/div%3E%60%29%5B0%5D%3B%0A%20%20%20%20%20%20%20%20%20%20%20%20popup_4d63c6aa917d40e7963dbf2331b26dd1.setContent%28html_e07c9728ae924481a6218762cb42df74%29%3B%0A%20%20%20%20%20%20%20%20%0A%0A%20%20%20%20%20%20%20%20marker_0f17d40f735d46e4bb31aa7d6fee089d.bindPopup%28popup_4d63c6aa917d40e7963dbf2331b26dd1%29%0A%20%20%20%20%20%20%20%20%3B%0A%0A%20%20%20%20%20%20%20%20%0A%20%20%20%20%0A%3C/script%3E onload=\"this.contentDocument.open();this.contentDocument.write(    decodeURIComponent(this.getAttribute('data-html')));this.contentDocument.close();\" allowfullscreen webkitallowfullscreen mozallowfullscreen></iframe></div></div>"
      ],
      "text/plain": [
       "<folium.folium.Map at 0x125d8ccd0>"
      ]
     },
     "execution_count": 31,
     "metadata": {},
     "output_type": "execute_result"
    }
   ],
   "source": [
    "# set location center for map\n",
    "center = [ project_plots[first_plot]['latitude'], project_plots[first_plot]['longitude'] ]\n",
    "# set zoom level, note that depending on the project,\n",
    "# you may wish to increase the zoom level\n",
    "zoom = 3\n",
    "# create a map with Folium and Leaflet.js\n",
    "m = folium.Map(location=center, tiles=\"Stamen Terrain\", zoom_start = zoom)\n",
    "# Add markers to map for each plot in `project_plots`\n",
    "for plot in project_plots.items():\n",
    "    folium.Marker(\n",
    "        [plot[1]['latitude'], plot[1]['longitude']],\n",
    "        popup = f\"plot: {plot[0]}\"\n",
    "    ).add_to(m)\n",
    "# display map\n",
    "m"
   ]
  },
  {
   "cell_type": "markdown",
   "metadata": {},
   "source": [
    "The map has zoom in and zoom out buttons, can be dragged with a mouse, and displays markers which can be clicked on to display their popup text."
   ]
  },
  {
   "cell_type": "markdown",
   "metadata": {},
   "source": [
    "#### Plot Trees"
   ]
  },
  {
   "cell_type": "markdown",
   "metadata": {},
   "source": [
    "Now let's look at plotting trees for the first plot of the designated project. We construct another query with our `fetch_results` helper function. This time, we query for fields containing plant height, UTM coordinates, and elevation as well as set the `table` parameter to \"tree\"."
   ]
  },
  {
   "cell_type": "code",
   "execution_count": 32,
   "metadata": {},
   "outputs": [],
   "source": [
    "# query for trees for the first plot of the project\n",
    "results = fetch_results({\n",
    "    \"bbox\": [-180, 90, 180, -90],\n",
    "    \"where\": {\n",
    "        \"project\": project,\n",
    "        \"plot\": first_plot\n",
    "    },\n",
    "    # h.t -> total height of plant from ground to highest leaf\n",
    "    # x -> easting UTM coordinate\n",
    "    # y -> northing UTM coordinate\n",
    "    # z -> elevation relative to geoid coordinate\n",
    "    \"fields\": [ \"h.t\", \"x\", \"y\", \"z\"],\n",
    "    \"table\": \"tree\"\n",
    "}, 1000)"
   ]
  },
  {
   "cell_type": "markdown",
   "metadata": {},
   "source": [
    "#### Determine the Number and Height of Trees"
   ]
  },
  {
   "cell_type": "markdown",
   "metadata": {},
   "source": [
    "To see the number of trees in the list of results, we use the `len` function within a formatted print statement. Since not all of the results contain heights, lets check how many trees with height data exist by creating a new variable set to the results with heights and use the `len` function within a formatted print statement again. Also, we can set variables to contain the heights, x and y values contained within our results to be used when plotting the trees."
   ]
  },
  {
   "cell_type": "code",
   "execution_count": 33,
   "metadata": {},
   "outputs": [
    {
     "name": "stdout",
     "output_type": "stream",
     "text": [
      "Number of trees: 520\n",
      "Number of trees with heights: 117\n"
     ]
    }
   ],
   "source": [
    "# print number of trees in results\n",
    "print(f\"Number of trees: {len(results)}\")\n",
    "# print number of trees with heights\n",
    "heights = [r[\"h.t\"] for r in results if r[\"h.t\"] is not None]\n",
    "print(f\"Number of trees with heights: {len(heights)}\")\n",
    "# set variables to the heights, x and y values contained in the results\n",
    "hts = [r['h.t'] for r in results] \n",
    "xs = [r['x'] for r in results]\n",
    "ys = [r['y'] for r in results]"
   ]
  },
  {
   "cell_type": "markdown",
   "metadata": {},
   "source": [
    "#### Plot the Trees"
   ]
  },
  {
   "cell_type": "markdown",
   "metadata": {},
   "source": [
    "With our variables for tree heights, x and y coordinate values, let's use the `plt.scatter` function to create a scatter plot with a title and labels for the UTM coordinates of the trees. Lastly, let's also create a histogram using `plt.hist` to visualize the distribution of tree heights. Here we also include some code to adjust the display colors and add labels and a title."
   ]
  },
  {
   "cell_type": "code",
   "execution_count": 34,
   "metadata": {},
   "outputs": [
    {
     "data": {
      "image/png": "[encoded data removed]",
      "text/plain": [
       "<Figure size 432x288 with 1 Axes>"
      ]
     },
     "metadata": {
      "needs_background": "light"
     },
     "output_type": "display_data"
    },
    {
     "data": {
      "image/png": "[encoded data removed]",
      "text/plain": [
       "<Figure size 432x288 with 1 Axes>"
      ]
     },
     "metadata": {
      "needs_background": "light"
     },
     "output_type": "display_data"
    }
   ],
   "source": [
    "# create scatter plot with x and y values\n",
    "plt.scatter(xs, ys, c=hts, cmap=\"Greens\")\n",
    "# add labels and title\n",
    "plt.xlabel('Easting UTM Coordinate')\n",
    "plt.ylabel('Northing UTM Coordinate')\n",
    "plt.title(f\"UTM Coordinates for Plot {first_plot} in Project {project}\\n\", fontsize=22)\n",
    "plt.show()\n",
    "# adjust display colors\n",
    "cm = plt.cm.Greens\n",
    "nbins = 8\n",
    "# create histogram for tree heights\n",
    "n, bins, patches = plt.hist(x=heights, bins=nbins, rwidth=0.85)\n",
    "for i, p in enumerate(patches):\n",
    "    plt.setp(p, 'facecolor', cm(i/nbins))\n",
    "# add labels and title\n",
    "plt.xlabel('Height')\n",
    "plt.ylabel('Frequency')\n",
    "plt.title(f\"Tree Heights for Plot {first_plot} in Project {project}\\n\", fontsize=22)\n",
    "plt.show()\n"
   ]
  }
 ],
 "metadata": {
  "kernelspec": {
   "display_name": "Python 3",
   "language": "python",
   "name": "python3"
  },
  "language_info": {
   "codemirror_mode": {
    "name": "ipython",
    "version": 3
   },
   "file_extension": ".py",
   "mimetype": "text/x-python",
   "name": "python",
   "nbconvert_exporter": "python",
   "pygments_lexer": "ipython3",
   "version": "3.7.10"
  }
 },
 "nbformat": 4,
 "nbformat_minor": 4
}
