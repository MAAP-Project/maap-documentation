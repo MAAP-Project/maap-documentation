{
 "cells": [
  {
   "cell_type": "markdown",
   "metadata": {},
   "source": [
    "## How to Query Data from the MAAP via Python Client"
   ]
  },
  {
   "cell_type": "markdown",
   "metadata": {},
   "source": [
    "Supported collections can be subsetted through the MAAP Query Service. At the time of writing (03/22/2021), the GEDI Calibration/Validation Field Survey Dataset is the only valid dataset for this service. However, more data will be made available for querying as the MAAP team continues to develop expanded services for the platform. Users can interact with the service through the MAAP Python client."
   ]
  },
  {
   "cell_type": "markdown",
   "metadata": {},
   "source": [
    "First, we import the `json` module, import the `MAAP` package, and create a new MAAP class."
   ]
  },
  {
   "cell_type": "code",
   "execution_count": 9,
   "metadata": {},
   "outputs": [],
   "source": [
    "# import the json module\n",
    "import json\n",
    "\n",
    "# import the MAAP package\n",
    "from maap.maap import MAAP\n",
    "# create MAAP class\n",
    "maap = MAAP()\n",
    "\n",
    "# Load helpers\n",
    "from maappy_helpers import fetch_results"
   ]
  },
  {
   "cell_type": "markdown",
   "metadata": {},
   "source": [
    "### How to Use `maap.executequery()`"
   ]
  },
  {
   "cell_type": "markdown",
   "metadata": {},
   "source": [
    "We use the `executeQuery()` function to return a response object, containing the server's response to our HTTP request. This object can be used to view the response headers, access the raw data of the response, or parse the response as a JavaScript Object Notation (JSON). JSON is a data-interchange format, designed to be easy for humans to read and write."
   ]
  },
  {
   "cell_type": "markdown",
   "metadata": {},
   "source": [
    "#### `executeQuery` Parameters"
   ]
  },
  {
   "cell_type": "markdown",
   "metadata": {},
   "source": [
    "- `src` - a dictionary-like object specifying the dataset to query. Currently, the only option is as follows:\n",
    "```\n",
    "{ \n",
    "    \"Collection\": { \n",
    "        \"ShortName\": \"GEDI Cal/Val Field Data_1\", \n",
    "        \"VersionId\": \"2\" \n",
    "    } \n",
    "  }\n",
    "```\n",
    "- `query` - a dictionary-like object specifying the parameters for query. A dictionary can include `bbox`, `where`, `fields`, and `table`:\n",
    "    - `bbox` - a list of floating point numbers identifying a bounding box of geographic coordinates.\n",
    "    - `where` - a dictionary-like object which maps fields to required values within a query. \n",
    "    - `fields` - a list of fields to return, a subset of all fields available for the corresponding dataset.\n",
    "    - `table` - the name of the table to query. At this time, the only valid options are \"tree\" or \"plot\" corresponding to tables in the GEDI Cal/Val database.\n",
    "- `poll_results` - a parameter which must be `True` to use the `timeout` parameter.\n",
    "- `timeout` - the waiting period for a response. This indicates the maximum number of seconds to wait for a response. Note that timeout has a default value of '180' and requires that the `poll_results` parameter be `True`. Depending on the request, it may be necessary to modify the timeout to make sure the server has enough time to process the request.\n",
    "- `wait_interval` - number of seconds to wait between each poll for results. `wait_interval` is only used if `poll_results`=`True` (default 0.5).\n",
    "-`max_redirects` - the maximum number of redirects to follow when scheduling an execution (default 5).\n"
   ]
  },
  {
   "cell_type": "markdown",
   "metadata": {},
   "source": [
    "### Query Searching for a Project Name"
   ]
  },
  {
   "cell_type": "markdown",
   "metadata": {},
   "source": [
    "In this example, we create a dictionary containing a `Collection` key, which contains entries for `ShortName` and `VersionId`. This is used later in the `executeQuery()` function. For this example, we use the GEDI Calibration/Validation Field Survey Dataset collection. More information about dictionaries in Python can be found here - https://www.techbeamers.com/python-dictionary/. "
   ]
  },
  {
   "cell_type": "code",
   "execution_count": null,
   "metadata": {},
   "outputs": [],
   "source": [
    "# create dictionary with a \"Collection\" key containing short name and version ID entries:\n",
    "collection  = { \n",
    "  \"Collection\": { \n",
    "      \"ShortName\": \"GEDI Cal/Val Field Data_1\", \n",
    "      \"VersionId\": \"2\" \n",
    "  } \n",
    "}"
   ]
  },
  {
   "cell_type": "markdown",
   "metadata": {},
   "source": [
    "We also create a function (in this example named `fetch_results`, see `maappy_helpers.py`) which utilizes the `executeQuery` function to return results of queries.\n",
    "\n",
    "Within this function, we use the `executeQuery` function to get a response object. Within the `executeQuery` function, our `collection` dictionary is assigned to `src`, a dictionary-like object specifying the dataset to query. We also have the query used in the argument assigned to `query`, a dictionary-like object which specifies the parameters for the query. We set `timeout` to the timeout used in the argument (default is 180 seconds) and set `poll_results` to `True` in order to set the maximum waiting period for a response. We can check the ‘Content-Type’ header of our response to see the content type of the response. In the following code, the ‘Content-Type’ header is checked to determine if it is JSON or not, in order to set an appropriate variable to return."
   ]
  },
  {
   "cell_type": "markdown",
   "metadata": {},
   "source": [
    "Now that we have our collection dictionary and our function to return the results of queries, let's use a print statement to display the first project name from a query which utilizes the `bbox` and `fields` parameters within `query`. The `bbox` parameter is a GeoJSON-compliant bounding box ([minX, minY, maxX, maxY]) which is used to filter data spatially. GeoJSON is a format for encoding geographic data structures. More information about the bounding box can be found in the standard specification of the GeoJSON format, located here - https://tools.ietf.org/html/rfc7946#section-5. The `fields` parameter is a list of fields to return in the query response. In this case, we assign 'project' to `fields`."
   ]
  },
  {
   "cell_type": "code",
   "execution_count": null,
   "metadata": {},
   "outputs": [],
   "source": [
    "# prints the first project name in the results of the query as a json string\n",
    "print(json.dumps(fetch_results(maap, collection, {\"bbox\": [9.31, 0.53, 9.32, 0.54], \"fields\": [\"project\"]})[0], indent=2))"
   ]
  },
  {
   "cell_type": "markdown",
   "metadata": {},
   "source": [
    "### Inspecting a Single Observation"
   ]
  },
  {
   "cell_type": "markdown",
   "metadata": {},
   "source": [
    "In the previous example, we displayed the project name for a result from our query, but let's say we wished to see all of the fields and their associated values for a result. In this example, we make another query, this time only specifying the bounding box. The print statement displays the variables for a single observation. A list of the variables and their units and descriptions can be found [here](https://maap-project.readthedocs.io/en/latest/query/gedi_calval_data_doc.html)."
   ]
  },
  {
   "cell_type": "code",
   "execution_count": null,
   "metadata": {},
   "outputs": [],
   "source": [
    "# prints the fields with values for the first result in the results of the query as a json string\n",
    "print(json.dumps(fetch_results(maap, collection, {\"bbox\": [9.315, 0.535, 9.32, 0.54]})[0], indent=2))"
   ]
  },
  {
   "cell_type": "markdown",
   "metadata": {},
   "source": [
    "### Query Using Multiple Parameters With `where`"
   ]
  },
  {
   "cell_type": "markdown",
   "metadata": {},
   "source": [
    "In the output of the previous example, we can see the field `\"species\"`. Let's say we are interested in finding observations for the `\"gabon_mondah\"` project within the same bounding box as the previous example which have the same species. We can do this using `where`, a dictionary-like object which maps fields to required values within a query. To help demonstrate how to use `where`, we can create a new function (in this example named `species_query`) to print the number of results as well as the first result, adding on to our previous `fetch_results` function which utilized the `executeQuery` function."
   ]
  },
  {
   "cell_type": "code",
   "execution_count": null,
   "metadata": {},
   "outputs": [],
   "source": [
    "def species_query(collection={}, query={}, timeout = 180):\n",
    "    \"\"\"\n",
    "    Function which utilizes the `fetch_results` (and thereby `executeQuery`) function and prints the number of results \n",
    "    as well as the first result.\n",
    "    \"\"\"\n",
    "    # set `data` to results of query\n",
    "    data = fetch_results(maap, collection, query = query, timeout = timeout)\n",
    "    # get the number of results within `data`\n",
    "    num_results = len(data)\n",
    "    # if `data` is not null and contains at least one result, the number of results and the first result are printed\n",
    "    if((data is not None) and (num_results > 0)):\n",
    "        first_result = data[0]\n",
    "        print(f\"Number of results: {num_results}\")\n",
    "        print(f\"First result: {json.dumps(first_result, indent=2)}\")  \n",
    "    # else prints \"No result\"\n",
    "    else:\n",
    "        print(num_results)\n",
    "        print(\"No result\")  "
   ]
  },
  {
   "cell_type": "markdown",
   "metadata": {},
   "source": [
    "Let's call the `species_query` function. We enter the same bounding box values as in the previous example. This time around, we enter `where` in our query and set the `project` as `gabon_mondah` and the `species` as `Coelocaryon sp.`. We can set a list of fields to return in query response using `fields`. For this example, we can choose to return only the project, family, species, latitude, and longitude values. After completing our query, we can manually set the timeout value (in this example '200')."
   ]
  },
  {
   "cell_type": "code",
   "execution_count": null,
   "metadata": {},
   "outputs": [],
   "source": [
    "# call `species_query` function with bounding box values, where the project is \"gabon_mondah\", \n",
    "# the species is \"Aucoumea klaineana\", fields include \"project\", \"family\", \"species\", \"latitude\", and \"longitude\",\n",
    "# and the timeout value is 200 (use the scrollbar to see the entire function call)\n",
    "species_query(collection, {\"bbox\": [9.315, 0.535, 9.32, 0.54], \"where\": {\"project\": \"gabon_mondah\", \"species\": \"Coelocaryon sp.\"}, \"fields\": [\"project\", \"family\", \"species\", \"latitude\", \"longitude\"]}, 200)"
   ]
  },
  {
   "cell_type": "markdown",
   "metadata": {},
   "source": [
    "We now see that there are many results and the latitude and longitude coordinates for the first result. To see this information for Aucoumea klaineana, we can copy the code from the above cell, changing the `species` to `Aucoumea klaineana` within the function argument."
   ]
  },
  {
   "cell_type": "code",
   "execution_count": null,
   "metadata": {},
   "outputs": [],
   "source": [
    "# call `species_query` function with bounding box values, where the project is \"gabon_mondah\", \n",
    "# the species is \"Coelocaryon sp.\", fields include \"project\", \"family\", \"species\", \"latitude\", and \"longitude\",\n",
    "# and the timeout value is 200 (use the scrollbar to see the entire function call)\n",
    "species_query(collection, {\"bbox\": [9.315, 0.535, 9.32, 0.54], \"where\": {\"project\": \"gabon_mondah\", \"species\": \"Aucoumea klaineana\"}, \"fields\": [\"project\", \"family\", \"species\", \"latitude\", \"longitude\"]}, 200)"
   ]
  },
  {
   "cell_type": "markdown",
   "metadata": {},
   "source": [
    "### Using `executeQuery` to Vizualize Plots and Trees"
   ]
  },
  {
   "cell_type": "markdown",
   "metadata": {},
   "source": [
    "Now that we know how to print the query results of the collection, let's look at examples of vizualizing the information from query results. The first time you run this, you will need to install `folium`. `folium` allows us to visualize data on an interactive map. With `folium` installed, you will then import the `folium` library. Also import `matplotlib.pyplot`, which allows us to generate interactive plots"
   ]
  },
  {
   "cell_type": "code",
   "execution_count": null,
   "metadata": {},
   "outputs": [],
   "source": [
    "# import folium library and matplotlib.pyplot\n",
    "import folium\n",
    "import matplotlib.pyplot as plt"
   ]
  },
  {
   "cell_type": "markdown",
   "metadata": {},
   "source": [
    "#### Plot Project Plots"
   ]
  },
  {
   "cell_type": "markdown",
   "metadata": {},
   "source": [
    "Now we can begin plotting all the plots for a given project. For this example, we'll check out the `australia_ausplotsforests` project. We can query the plot table by using our `fetch_results` helper function. This time, we set the `table` parameter. `table` is the name of the table to query. The GEDI Cal/Val database has tables for \"tree\" and \"plot\" so let's set `table` to \"plot\". We can then preview our results."
   ]
  },
  {
   "cell_type": "code",
   "execution_count": null,
   "metadata": {},
   "outputs": [],
   "source": [
    "# set project and query for all the plots in that project\n",
    "project = 'australia_ausplotsforests'\n",
    "results = fetch_results(maap, collection, {\n",
    "    \"bbox\": [-180, 90, 180, -90],\n",
    "    \"where\": {\n",
    "        \"project\": project\n",
    "    },\n",
    "    \"fields\": [\"latitude\", \"longitude\", \"plot\"],\n",
    "    \"table\":\"plot\"\n",
    "}, 1000)\n",
    "# print first 10 results\n",
    "results[0:10]"
   ]
  },
  {
   "cell_type": "markdown",
   "metadata": {},
   "source": [
    "#### Create Project Plots Dictionary"
   ]
  },
  {
   "cell_type": "markdown",
   "metadata": {},
   "source": [
    "Now we can create a dictionary for the project plots from our results."
   ]
  },
  {
   "cell_type": "code",
   "execution_count": null,
   "metadata": {},
   "outputs": [],
   "source": [
    "# create dictionary for project plots, where each plot has lat/lon info\n",
    "project_plots = {}\n",
    "keys = [ 'latitude', 'longitude' ]\n",
    "for result in results:\n",
    "    project_plots[result['plot']] = { key: result[key] for key in keys }"
   ]
  },
  {
   "cell_type": "markdown",
   "metadata": {},
   "source": [
    "To center our map more easily and plot trees later on, we can set a variable to the first project plot to be used for centering the map."
   ]
  },
  {
   "cell_type": "code",
   "execution_count": null,
   "metadata": {},
   "outputs": [],
   "source": [
    "# Select the first plot, just to center the map easily\n",
    "first_plot = list(project_plots.keys())[0]\n",
    "first_plot"
   ]
  },
  {
   "cell_type": "markdown",
   "metadata": {},
   "source": [
    "#### Map the Plots"
   ]
  },
  {
   "cell_type": "markdown",
   "metadata": {},
   "source": [
    "Now we can create a map and place the plot points onto it. First we will set variables for the map's location center and starting zoom level. Then we will use the `folium.Map` function to create a map which displays \"Stamen Terrain\" tiles with our location center and starting zoom level. Next, we will create a loop using the `folium.Marker` function to add markers to the map at the latitude and longitude for each plot and have popup text displaying each plot's name. Lastly, we display the map in order to interact with it. "
   ]
  },
  {
   "cell_type": "code",
   "execution_count": null,
   "metadata": {},
   "outputs": [],
   "source": [
    "# set location center for map\n",
    "center = [ project_plots[first_plot]['latitude'], project_plots[first_plot]['longitude'] ]\n",
    "# set zoom level, note that depending on the project,\n",
    "# you may wish to increase the zoom level\n",
    "zoom = 3\n",
    "# create a map with Folium and Leaflet.js\n",
    "m = folium.Map(location=center, tiles=\"Stamen Terrain\", zoom_start = zoom)\n",
    "# Add markers to map for each plot in `project_plots`\n",
    "for plot in project_plots.items():\n",
    "    folium.Marker(\n",
    "        [plot[1]['latitude'], plot[1]['longitude']],\n",
    "        popup = f\"plot: {plot[0]}\"\n",
    "    ).add_to(m)\n",
    "# display map\n",
    "m"
   ]
  },
  {
   "cell_type": "markdown",
   "metadata": {},
   "source": [
    "The map has zoom in and zoom out buttons, can be dragged with a mouse, and displays markers which can be clicked on to display their popup text."
   ]
  },
  {
   "cell_type": "markdown",
   "metadata": {},
   "source": [
    "#### Plot Trees"
   ]
  },
  {
   "cell_type": "markdown",
   "metadata": {},
   "source": [
    "Now let's look at plotting trees for the first plot of the designated project. We construct another query with our `fetch_results` helper function. This time, we query for fields containing plant height, UTM coordinates, and elevation as well as set the `table` parameter to \"tree\"."
   ]
  },
  {
   "cell_type": "code",
   "execution_count": null,
   "metadata": {},
   "outputs": [],
   "source": [
    "# query for trees for the first plot of the project\n",
    "results = fetch_results(maap, collection, {\n",
    "    \"bbox\": [-180, 90, 180, -90],\n",
    "    \"where\": {\n",
    "        \"project\": project,\n",
    "        \"plot\": first_plot\n",
    "    },\n",
    "    # h.t -> total height of plant from ground to highest leaf\n",
    "    # x -> easting UTM coordinate\n",
    "    # y -> northing UTM coordinate\n",
    "    # z -> elevation relative to geoid coordinate\n",
    "    \"fields\": [ \"h.t\", \"x\", \"y\", \"z\"],\n",
    "    \"table\": \"tree\"\n",
    "}, 1000)"
   ]
  },
  {
   "cell_type": "markdown",
   "metadata": {},
   "source": [
    "#### Determine the Number and Height of Trees"
   ]
  },
  {
   "cell_type": "markdown",
   "metadata": {},
   "source": [
    "To see the number of trees in the list of results, we use the `len` function within a formatted print statement. Since not all of the results contain heights, lets check how many trees with height data exist by creating a new variable set to the results with heights and use the `len` function within a formatted print statement again. Also, we can set variables to contain the heights, x and y values contained within our results to be used when plotting the trees."
   ]
  },
  {
   "cell_type": "code",
   "execution_count": null,
   "metadata": {},
   "outputs": [],
   "source": [
    "# print number of trees in results\n",
    "print(f\"Number of trees: {len(results)}\")\n",
    "# print number of trees with heights\n",
    "heights = [r[\"h.t\"] for r in results if r[\"h.t\"] is not None]\n",
    "print(f\"Number of trees with heights: {len(heights)}\")\n",
    "# set variables to the heights, x and y values contained in the results\n",
    "hts = [r['h.t'] for r in results] \n",
    "xs = [r['x'] for r in results]\n",
    "ys = [r['y'] for r in results]"
   ]
  },
  {
   "cell_type": "markdown",
   "metadata": {},
   "source": [
    "#### Plot the Trees"
   ]
  },
  {
   "cell_type": "markdown",
   "metadata": {},
   "source": [
    "With our variables for tree heights, x and y coordinate values, let's use the `plt.scatter` function to create a scatter plot with a title and labels for the UTM coordinates of the trees. Lastly, let's also create a histogram using `plt.hist` to visualize the distribution of tree heights. Here we also include some code to adjust the display colors and add labels and a title."
   ]
  },
  {
   "cell_type": "code",
   "execution_count": null,
   "metadata": {},
   "outputs": [],
   "source": [
    "# create scatter plot with x and y values\n",
    "plt.scatter(xs, ys, c=hts, cmap=\"Greens\")\n",
    "# add labels and title\n",
    "plt.xlabel('Easting UTM Coordinate')\n",
    "plt.ylabel('Northing UTM Coordinate')\n",
    "plt.title(f\"UTM Coordinates for Plot {first_plot} in Project {project}\\n\", fontsize=22)\n",
    "plt.show()\n",
    "# adjust display colors\n",
    "cm = plt.cm.Greens\n",
    "nbins = 8\n",
    "# create histogram for tree heights\n",
    "n, bins, patches = plt.hist(x=heights, bins=nbins, rwidth=0.85)\n",
    "for i, p in enumerate(patches):\n",
    "    plt.setp(p, 'facecolor', cm(i/nbins))\n",
    "# add labels and title\n",
    "plt.xlabel('Height')\n",
    "plt.ylabel('Frequency')\n",
    "plt.title(f\"Tree Heights for Plot {first_plot} in Project {project}\\n\", fontsize=22)\n",
    "plt.show()\n"
   ]
  }
 ],
 "metadata": {
  "kernelspec": {
   "display_name": "Python 3",
   "language": "python",
   "name": "python3"
  },
  "language_info": {
   "codemirror_mode": {
    "name": "ipython",
    "version": 3
   },
   "file_extension": ".py",
   "mimetype": "text/x-python",
   "name": "python",
   "nbconvert_exporter": "python",
   "pygments_lexer": "ipython3",
   "version": "3.7.8"
  }
 },
 "nbformat": 4,
 "nbformat_minor": 4
}
