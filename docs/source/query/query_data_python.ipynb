{
 "cells": [
  {
   "cell_type": "markdown",
   "metadata": {},
   "source": [
    "## How to Query Data from the MAAP via Python Client"
   ]
  },
  {
   "cell_type": "markdown",
   "metadata": {},
   "source": [
    "Supported collections can be subsetted through the MAAP Query Service. At the time of writing (03/22/2021), the GEDI Calibration/Validation Field Survey Dataset is the only valid dataset for this service. However, more data will be made available for querying as the MAAP team continues to develop expanded services for the platform. Users can interact with the service through the MAAP Python client."
   ]
  },
  {
   "cell_type": "markdown",
   "metadata": {},
   "source": [
    "First, we import the `json` module, import the `MAAP` package, and create a new MAAP class."
   ]
  },
  {
   "cell_type": "code",
   "execution_count": 1,
   "metadata": {},
   "outputs": [],
   "source": [
    "# import the json module\n",
    "import json\n",
    "# import the MAAP package\n",
    "from maap.maap import MAAP\n",
    "# create MAAP class\n",
    "maap = MAAP()"
   ]
  },
  {
   "cell_type": "markdown",
   "metadata": {},
   "source": [
    "### How to Use `maap.executequery()`"
   ]
  },
  {
   "cell_type": "markdown",
   "metadata": {},
   "source": [
    "We use the `executeQuery()` function to return a response object, containing the server's response to our HTTP request. This object can be used to view the response headers, access the raw data of the response, or parse the response as a JavaScript Object Notation (JSON). JSON is a data-interchange format, designed to be easy for humans to read and write."
   ]
  },
  {
   "cell_type": "markdown",
   "metadata": {},
   "source": [
    "#### `executeQuery` Parameters"
   ]
  },
  {
   "cell_type": "markdown",
   "metadata": {},
   "source": [
    "- `src` - a dictionary-like object specifying the dataset to query. Currently, the only option is as follows:\n",
    "```\n",
    "{ \n",
    "    \"Collection\": { \n",
    "        \"ShortName\": \"GEDI Cal/Val Field Data_1\", \n",
    "        \"VersionId\": \"2\" \n",
    "    } \n",
    "  }\n",
    "```\n",
    "- `query` - a dictionary-like object specifying the parameters for query. A dictionary can include `bbox`, `where`, `fields`, and `table`:\n",
    "    - `bbox` - a list of floating point numbers identifying a bounding box of geographic coordinates.\n",
    "    - `where` - a dictionary-like object which maps fields to required values within a query. \n",
    "    - `fields` - a list of fields to return, a subset of all fields available for the corresponding dataset.\n",
    "    - `table` - the name of the table to query. At this time, the only valid options are \"tree\" or \"plot\" corresponding to tables in the GEDI Cal/Val database.\n",
    "- `poll_results` - a parameter which must be `True` to use the `timeout` parameter.\n",
    "- `timeout` - the waiting period for a response. This indicates the maximum number of seconds to wait for a response. Note that timeout has a default value of '180' and requires that the `poll_results` parameter be `True`. Depending on the request, it may be necessary to modify the timeout to make sure the server has enough time to process the request.\n",
    "- `wait_interval` - number of seconds to wait between each poll for results. `wait_interval` is only used if `poll_results`=`True` (default 0.5).\n",
    "-`max_redirects` - the maximum number of redirects to follow when scheduling an execution (default 5).\n"
   ]
  },
  {
   "cell_type": "markdown",
   "metadata": {},
   "source": [
    "### Query Searching for a Project Name"
   ]
  },
  {
   "cell_type": "markdown",
   "metadata": {},
   "source": [
    "In this example, we create a dictionary containing a `Collection` key, which contains entries for `ShortName` and `VersionId`. This is used later in the `executeQuery()` function. For this example, we use the GEDI Calibration/Validation Field Survey Dataset collection. More information about dictionaries in Python can be found here - https://www.techbeamers.com/python-dictionary/. "
   ]
  },
  {
   "cell_type": "code",
   "execution_count": 2,
   "metadata": {},
   "outputs": [],
   "source": [
    "# create dictionary with a \"Collection\" key containing short name and version ID entries:\n",
    "collection  = { \n",
    "  \"Collection\": { \n",
    "      \"ShortName\": \"GEDI Cal/Val Field Data_1\", \n",
    "      \"VersionId\": \"2\" \n",
    "  } \n",
    "}"
   ]
  },
  {
   "cell_type": "markdown",
   "metadata": {},
   "source": [
    "We also create a function (in this example named `fetch_results`) which utilizes the `executeQuery` function to return results of queries. Within this function, we use the `executeQuery` function to get a response object. Within the `executeQuery` function, our `collection` dictionary is assigned to `src`, a dictionary-like object specifying the dataset to query. We also have the query used in the argument assigned to `query`, a dictionary-like object which specifies the parameters for the query. We set `timeout` to the timeout used in the argument (default is 180 seconds) and set `poll_results` to `True` in order to set the maximum waiting period for a response. We can check the ‘Content-Type’ header of our response to see the content type of the response. In the following code, the ‘Content-Type’ header is checked to determine if it is JSON or not, in order to set an appropriate variable to return."
   ]
  },
  {
   "cell_type": "code",
   "execution_count": 3,
   "metadata": {},
   "outputs": [],
   "source": [
    "def fetch_results(query={}, timeout=180):\n",
    "    \"\"\"\n",
    "    Function which utilizes the `executeQuery` function to return the results of queries.\n",
    "    \"\"\"\n",
    "    # use the executeQuery() function to get a response object\n",
    "    response = maap.executeQuery(\n",
    "      # dictionary-like object specifying the dataset to query \n",
    "      src = collection,\n",
    "      # dictionary-like object specifying the parameters for query\n",
    "      query = query,\n",
    "      # must be True to use the timeout parameter\n",
    "      poll_results = True,\n",
    "      # max waiting period for a response in seconds\n",
    "      timeout = timeout\n",
    "    )\n",
    "    # if the 'Content-Type' is json, creates variable with json version of the response\n",
    "    if (response.headers.get(\"Content-Type\") == \"application/json\"):\n",
    "        data = response.json()\n",
    "    # if the 'Content-Type' is not json, creates variable with unicode content of the response\n",
    "    else:\n",
    "        data = response.text\n",
    "    # returns `data` as json string\n",
    "    return json.loads(data)"
   ]
  },
  {
   "cell_type": "markdown",
   "metadata": {},
   "source": [
    "Now that we have our collection dictionary and our function to return the results of queries, let's use a print statement to display the first project name from a query which utilizes the `bbox` and `fields` parameters within `query`. The `bbox` parameter is a GeoJSON-compliant bounding box ([minX, minY, maxX, maxY]) which is used to filter data spatially. GeoJSON is a format for encoding geographic data structures. More information about the bounding box can be found in the standard specification of the GeoJSON format, located here - https://tools.ietf.org/html/rfc7946#section-5. The `fields` parameter is a list of fields to return in the query response. In this case, we assign 'project' to `fields`."
   ]
  },
  {
   "cell_type": "code",
   "execution_count": 4,
   "metadata": {},
   "outputs": [
    {
     "name": "stdout",
     "output_type": "stream",
     "text": [
      "{\n",
      "  \"project\": \"gabon_mondah\"\n",
      "}\n"
     ]
    }
   ],
   "source": [
    "# prints the first project name in the results of the query as a json string\n",
    "print(json.dumps(fetch_results({\"bbox\": [9.31, 0.53, 9.32, 0.54], \"fields\": [\"project\"]})[0], indent=2))"
   ]
  },
  {
   "cell_type": "markdown",
   "metadata": {},
   "source": [
    "### Inspecting a Single Observation"
   ]
  },
  {
   "cell_type": "markdown",
   "metadata": {},
   "source": [
    "In the previous example, we displayed the project name for a result from our query, but let's say we wished to see all of the fields and their associated values for a result. In this example, we make another query, this time only specifying the bounding box. The print statement displays the variables for a single observation. A list of the variables and their units and descriptions can be found [here](https://maap-project.readthedocs.io/en/latest/query/gedi_calval_data_doc.html)."
   ]
  },
  {
   "cell_type": "code",
   "execution_count": 5,
   "metadata": {},
   "outputs": [
    {
     "name": "stdout",
     "output_type": "stream",
     "text": [
      "{\n",
      "  \"project\": \"gabon_mondah\",\n",
      "  \"plot\": \"NASA11\",\n",
      "  \"subplot\": \"1\",\n",
      "  \"survey\": \"AfriSAR_ESA_2016\",\n",
      "  \"private\": 0,\n",
      "  \"date\": \"2016-02-01\",\n",
      "  \"region\": \"Af\",\n",
      "  \"vegetation\": \"TropRF\",\n",
      "  \"map\": 3083.93471636915,\n",
      "  \"mat\": 25.6671529098763,\n",
      "  \"pft.modis\": \"Evergreen Broadleaf trees\",\n",
      "  \"pft.name\": null,\n",
      "  \"latitude\": 0.538705025207016,\n",
      "  \"longitude\": 9.31982893597376,\n",
      "  \"p.sample\": 0,\n",
      "  \"p.stemmap\": 0,\n",
      "  \"p.origin\": \"C\",\n",
      "  \"p.orientation\": -2.18195751718555,\n",
      "  \"p.shape\": \"R\",\n",
      "  \"p.majoraxis\": 100,\n",
      "  \"p.minoraxis\": 100,\n",
      "  \"p.geom\": \"POLYGON ((535537.75 59601.25, 535627.75 59590.5, 535642.25 59489.25, 535543 59498.5, 535537.75 59601.25, 535537.75 59601.25))\",\n",
      "  \"p.epsg\": 32632,\n",
      "  \"p.area\": 10000,\n",
      "  \"p.mindiam\": 0.01,\n",
      "  \"sp.geom\": \"POLYGON((535537.510093 59494.109258, 535537.526710 59519.109253, 535562.526704 59519.092636, 535562.510088 59494.092642, 535537.510093 59494.109258))\",\n",
      "  \"sp.ix\": 1,\n",
      "  \"sp.iy\": 4,\n",
      "  \"sp.shape\": \"R\",\n",
      "  \"sp.area\": 625,\n",
      "  \"sp.mindiam\": 0.01,\n",
      "  \"pai\": null,\n",
      "  \"lai\": null,\n",
      "  \"cover\": null,\n",
      "  \"dft\": \"EA\",\n",
      "  \"agb\": null,\n",
      "  \"agb.valid\": null,\n",
      "  \"agb.lower\": null,\n",
      "  \"agb.upper\": null,\n",
      "  \"agbd.ha\": null,\n",
      "  \"agbd.ha.lower\": null,\n",
      "  \"agbd.ha.upper\": null,\n",
      "  \"sn\": null,\n",
      "  \"snd.ha\": null,\n",
      "  \"sba\": null,\n",
      "  \"sba.ha\": null,\n",
      "  \"swsg.ba\": null,\n",
      "  \"h.t.max\": null,\n",
      "  \"sp.agb\": null,\n",
      "  \"sp.agb.valid\": null,\n",
      "  \"sp.agbd.ha\": null,\n",
      "  \"sp.agbd.ha.lower\": null,\n",
      "  \"sp.agbd.ha.upper\": null,\n",
      "  \"sp.sba.ha\": null,\n",
      "  \"sp.swsg.ba\": null,\n",
      "  \"sp.h.t.max\": null,\n",
      "  \"l.project\": \"jpl_mondah\",\n",
      "  \"l.instr\": null,\n",
      "  \"l.epsg\": 32632,\n",
      "  \"l.date\": null,\n",
      "  \"tree.date\": \"2016-02-10\",\n",
      "  \"family\": \"Myristicaceae\",\n",
      "  \"species\": \"Coelocaryon sp.\",\n",
      "  \"pft\": null,\n",
      "  \"wsg\": 0.49353216374269,\n",
      "  \"wsg.sd\": 0.0941339098036177,\n",
      "  \"tree\": \"5501\",\n",
      "  \"stem\": \"1\",\n",
      "  \"x\": 535539.544644182,\n",
      "  \"y\": 59496.0746845487,\n",
      "  \"z\": null,\n",
      "  \"status\": 1,\n",
      "  \"allom.key\": 2,\n",
      "  \"a.stem\": 0.0437435361085843,\n",
      "  \"h.t\": 9.46667,\n",
      "  \"h.t.mod\": 17.0934257579035,\n",
      "  \"d.stem\": 0.236,\n",
      "  \"d.stem.valid\": 1,\n",
      "  \"d.ht\": 1.3,\n",
      "  \"c.w\": null,\n",
      "  \"m.agb\": 145.005237378992,\n",
      "  \"id\": 2077,\n",
      "  \"geom_obj\": \"0103000020E6100000010000000500000032A8C5A385A32240A1FCE9F75E39E13F32892DA985A32240A012DE4C393BE13FF2CC041CA3A32240D4DDCAF5383BE13F85ED9C16A3A3224083B5D8A05E39E13F32A8C5A385A32240A1FCE9F75E39E13F\",\n",
      "  \"wwf.ecoregion\": \"Central African mangroves\"\n",
      "}\n"
     ]
    }
   ],
   "source": [
    "# prints the fields with values for the first result in the results of the query as a json string\n",
    "print(json.dumps(fetch_results({\"bbox\": [9.315, 0.535, 9.32, 0.54]})[0], indent=2))"
   ]
  },
  {
   "cell_type": "markdown",
   "metadata": {},
   "source": [
    "### Query Using Multiple Parameters With `where`"
   ]
  },
  {
   "cell_type": "markdown",
   "metadata": {},
   "source": [
    "In the output of the previous example, we can see the field `\"species\"`. Let's say we are interested in finding observations for the `\"gabon_mondah\"` project within the same bounding box as the previous example which have the same species. We can do this using `where`, a dictionary-like object which maps fields to required values within a query. To help demonstrate how to use `where`, we can create a new function (in this example named `species_query`) to print the number of results as well as the first result, adding on to our previous `fetch_results` function which utilized the `executeQuery` function."
   ]
  },
  {
   "cell_type": "code",
   "execution_count": 6,
   "metadata": {},
   "outputs": [],
   "source": [
    "def species_query(query = {}, timeout = 180):\n",
    "    \"\"\"\n",
    "    Function which utilizes the `fetch_results` (and thereby `executeQuery`) function and prints the number of results \n",
    "    as well as the first result.\n",
    "    \"\"\"\n",
    "    # set `data` to results of query\n",
    "    data = fetch_results(query = query, timeout = timeout)\n",
    "    # get the number of results within `data`\n",
    "    num_results = len(data)\n",
    "    # if `data` is not null and contains at least one result, the number of results and the first result are printed\n",
    "    if((data is not None) and (num_results > 0)):\n",
    "        first_result = data[0]\n",
    "        print(f\"Number of results: {num_results}\")\n",
    "        print(f\"First result: {json.dumps(first_result, indent=2)}\")  \n",
    "    # else prints \"No result\"\n",
    "    else:\n",
    "        print(num_results)\n",
    "        print(\"No result\")  "
   ]
  },
  {
   "cell_type": "markdown",
   "metadata": {},
   "source": [
    "Let's call the `species_query` function. We enter the same bounding box values as in the previous example. This time around, we enter `where` in our query and set the `project` as `gabon_mondah` and the `species` as `Coelocaryon sp.`. We can set a list of fields to return in query response using `fields`. For this example, we can choose to return only the project, family, species, latitude, and longitude values. After completing our query, we can manually set the timeout value (in this example '200')."
   ]
  },
  {
   "cell_type": "code",
   "execution_count": 7,
   "metadata": {},
   "outputs": [
    {
     "name": "stdout",
     "output_type": "stream",
     "text": [
      "Number of results: 10\n",
      "First result: {\n",
      "  \"project\": \"gabon_mondah\",\n",
      "  \"family\": \"Myristicaceae\",\n",
      "  \"species\": \"Coelocaryon sp.\",\n",
      "  \"latitude\": 0.538705025207016,\n",
      "  \"longitude\": 9.31982893597376\n",
      "}\n"
     ]
    }
   ],
   "source": [
    "# call `species_query` function with bounding box values, where the project is \"gabon_mondah\", \n",
    "# the species is \"Aucoumea klaineana\", fields include \"project\", \"family\", \"species\", \"latitude\", and \"longitude\",\n",
    "# and the timeout value is 200 (use the scrollbar to see the entire function call)\n",
    "species_query({\"bbox\": [9.315, 0.535, 9.32, 0.54], \"where\": {\"project\": \"gabon_mondah\", \"species\": \"Coelocaryon sp.\"}, \"fields\": [\"project\", \"family\", \"species\", \"latitude\", \"longitude\"]}, 200)"
   ]
  },
  {
   "cell_type": "markdown",
   "metadata": {},
   "source": [
    "We now see that there are many results and the latitude and longitude coordinates for the first result. To see this information for Aucoumea klaineana, we can copy the code from the above cell, changing the `species` to `Aucoumea klaineana` within the function argument."
   ]
  },
  {
   "cell_type": "code",
   "execution_count": 8,
   "metadata": {},
   "outputs": [
    {
     "name": "stdout",
     "output_type": "stream",
     "text": [
      "Number of results: 49\n",
      "First result: {\n",
      "  \"project\": \"gabon_mondah\",\n",
      "  \"family\": \"Burseraceae\",\n",
      "  \"species\": \"Aucoumea klaineana\",\n",
      "  \"latitude\": 0.538705025207016,\n",
      "  \"longitude\": 9.31982893597376\n",
      "}\n"
     ]
    }
   ],
   "source": [
    "# call `species_query` function with bounding box values, where the project is \"gabon_mondah\", \n",
    "# the species is \"Coelocaryon sp.\", fields include \"project\", \"family\", \"species\", \"latitude\", and \"longitude\",\n",
    "# and the timeout value is 200 (use the scrollbar to see the entire function call)\n",
    "species_query({\"bbox\": [9.315, 0.535, 9.32, 0.54], \"where\": {\"project\": \"gabon_mondah\", \"species\": \"Aucoumea klaineana\"}, \"fields\": [\"project\", \"family\", \"species\", \"latitude\", \"longitude\"]}, 200)"
   ]
  },
  {
   "cell_type": "markdown",
   "metadata": {},
   "source": [
    "### Using `executeQuery` to Vizualize Plots and Trees"
   ]
  },
  {
   "cell_type": "markdown",
   "metadata": {},
   "source": [
    "Now that we know how to print the query results of the collection, let's look at examples of vizualizing the information from query results. The first time you run this, you will need to install `folium`. `folium` allows us to visualize data on an interactive map. With `folium` installed, you will then import the `folium` library. Also import `matplotlib.pyplot`, which allows us to generate interactive plots"
   ]
  },
  {
   "cell_type": "code",
   "execution_count": 10,
   "metadata": {},
   "outputs": [
    {
     "name": "stdout",
     "output_type": "stream",
     "text": [
      "Requirement already satisfied: folium in /opt/conda/lib/python3.7/site-packages (0.12.1)\n",
      "Requirement already satisfied: jinja2>=2.9 in /opt/conda/lib/python3.7/site-packages (from folium) (2.11.2)\n",
      "Requirement already satisfied: requests in /opt/conda/lib/python3.7/site-packages (from folium) (2.24.0)\n",
      "Requirement already satisfied: numpy in /opt/conda/lib/python3.7/site-packages (from folium) (1.19.2)\n",
      "Requirement already satisfied: branca>=0.3.0 in /opt/conda/lib/python3.7/site-packages (from folium) (0.4.2)\n",
      "Requirement already satisfied: MarkupSafe>=0.23 in /opt/conda/lib/python3.7/site-packages (from jinja2>=2.9->folium) (1.1.1)\n",
      "Requirement already satisfied: urllib3!=1.25.0,!=1.25.1,<1.26,>=1.21.1 in /opt/conda/lib/python3.7/site-packages (from requests->folium) (1.25.11)\n",
      "Requirement already satisfied: chardet<4,>=3.0.2 in /opt/conda/lib/python3.7/site-packages (from requests->folium) (3.0.4)\n",
      "Requirement already satisfied: certifi>=2017.4.17 in /opt/conda/lib/python3.7/site-packages (from requests->folium) (2020.12.5)\n",
      "Requirement already satisfied: idna<3,>=2.5 in /opt/conda/lib/python3.7/site-packages (from requests->folium) (2.10)\n",
      "\u001b[33mWARNING: You are using pip version 21.0; however, version 21.1.3 is available.\n",
      "You should consider upgrading via the '/opt/conda/bin/python3.7 -m pip install --upgrade pip' command.\u001b[0m\n"
     ]
    }
   ],
   "source": [
    "# installs folium\n",
    "!pip install folium"
   ]
  },
  {
   "cell_type": "code",
   "execution_count": 11,
   "metadata": {},
   "outputs": [],
   "source": [
    "# import folium library and matplotlib.pyplot\n",
    "import folium\n",
    "import matplotlib.pyplot as plt"
   ]
  },
  {
   "cell_type": "markdown",
   "metadata": {},
   "source": [
    "#### Plot Project Plots"
   ]
  },
  {
   "cell_type": "markdown",
   "metadata": {},
   "source": [
    "Now we can begin plotting all the plots for a given project. For this example, we'll check out the `australia_ausplotsforests` project. We can query the plot table by using our `fetch_results` helper function. This time, we set the `table` parameter. `table` is the name of the table to query. The GEDI Cal/Val database has tables for \"tree\" and \"plot\" so let's set `table` to \"plot\". We can then preview our results."
   ]
  },
  {
   "cell_type": "code",
   "execution_count": 12,
   "metadata": {},
   "outputs": [
    {
     "data": {
      "text/plain": [
       "[{'latitude': -31.2421, 'longitude': 152.4609, 'plot': 'NSFNNC002'},\n",
       " {'latitude': -31.2421, 'longitude': 152.4609, 'plot': 'NSFNNC002'},\n",
       " {'latitude': -31.2421, 'longitude': 152.4609, 'plot': 'NSFNNC002'},\n",
       " {'latitude': -31.2421, 'longitude': 152.4609, 'plot': 'NSFNNC002'},\n",
       " {'latitude': -31.2421, 'longitude': 152.4609, 'plot': 'NSFNNC002'},\n",
       " {'latitude': -31.2421, 'longitude': 152.4609, 'plot': 'NSFNNC002'},\n",
       " {'latitude': -31.2421, 'longitude': 152.4609, 'plot': 'NSFNNC002'},\n",
       " {'latitude': -31.2421, 'longitude': 152.4609, 'plot': 'NSFNNC002'},\n",
       " {'latitude': -31.2421, 'longitude': 152.4609, 'plot': 'NSFNNC002'},\n",
       " {'latitude': -31.2421, 'longitude': 152.4609, 'plot': 'NSFNNC002'}]"
      ]
     },
     "execution_count": 12,
     "metadata": {},
     "output_type": "execute_result"
    }
   ],
   "source": [
    "# set project and query for all the plots in that project\n",
    "project = 'australia_ausplotsforests'\n",
    "results = fetch_results({\n",
    "    \"bbox\": [-180, 90, 180, -90],\n",
    "    \"where\": {\n",
    "        \"project\": project\n",
    "    },\n",
    "    \"fields\": [\"latitude\", \"longitude\", \"plot\"],\n",
    "    \"table\":\"plot\"\n",
    "}, 1000)\n",
    "# print first 10 results\n",
    "results[0:10]"
   ]
  },
  {
   "cell_type": "markdown",
   "metadata": {},
   "source": [
    "#### Create Project Plots Dictionary"
   ]
  },
  {
   "cell_type": "markdown",
   "metadata": {},
   "source": [
    "Now we can create a dictionary for the project plots from our results."
   ]
  },
  {
   "cell_type": "code",
   "execution_count": 13,
   "metadata": {},
   "outputs": [],
   "source": [
    "# create dictionary for project plots, where each plot has lat/lon info\n",
    "project_plots = {}\n",
    "keys = [ 'latitude', 'longitude' ]\n",
    "for result in results:\n",
    "    project_plots[result['plot']] = { key: result[key] for key in keys }"
   ]
  },
  {
   "cell_type": "markdown",
   "metadata": {},
   "source": [
    "To center our map more easily and plot trees later on, we can set a variable to the first project plot to be used for centering the map."
   ]
  },
  {
   "cell_type": "code",
   "execution_count": 14,
   "metadata": {},
   "outputs": [
    {
     "data": {
      "text/plain": [
       "'NSFNNC002'"
      ]
     },
     "execution_count": 14,
     "metadata": {},
     "output_type": "execute_result"
    }
   ],
   "source": [
    "# Select the first plot, just to center the map easily\n",
    "first_plot = list(project_plots.keys())[0]\n",
    "first_plot"
   ]
  },
  {
   "cell_type": "markdown",
   "metadata": {},
   "source": [
    "#### Map the Plots"
   ]
  },
  {
   "cell_type": "markdown",
   "metadata": {},
   "source": [
    "Now we can create a map and place the plot points onto it. First we will set variables for the map's location center and starting zoom level. Then we will use the `folium.Map` function to create a map which displays \"Stamen Terrain\" tiles with our location center and starting zoom level. Next, we will create a loop using the `folium.Marker` function to add markers to the map at the latitude and longitude for each plot and have popup text displaying each plot's name. Lastly, we display the map in order to interact with it. "
   ]
  },
  {
   "cell_type": "code",
   "execution_count": 15,
   "metadata": {},
   "outputs": [
    {
     "data": {
      "text/html": [
       "<div style=\"width:100%;\"><div style=\"position:relative;width:100%;height:0;padding-bottom:60%;\"><span style=\"color:#565656\">Make this Notebook Trusted to load map: File -> Trust Notebook</span><iframe src=\"about:blank\" style=\"position:absolute;width:100%;height:100%;left:0;top:0;border:none !important;\" data-html=%3C%21DOCTYPE%20html%3E%0A%3Chead%3E%20%20%20%20%0A%20%20%20%20%3Cmeta%20http-equiv%3D%22content-type%22%20content%3D%22text/html%3B%20charset%3DUTF-8%22%20/%3E%0A%20%20%20%20%0A%20%20%20%20%20%20%20%20%3Cscript%3E%0A%20%20%20%20%20%20%20%20%20%20%20%20L_NO_TOUCH%20%3D%20false%3B%0A%20%20%20%20%20%20%20%20%20%20%20%20L_DISABLE_3D%20%3D%20false%3B%0A%20%20%20%20%20%20%20%20%3C/script%3E%0A%20%20%20%20%0A%20%20%20%20%3Cstyle%3Ehtml%2C%20body%20%7Bwidth%3A%20100%25%3Bheight%3A%20100%25%3Bmargin%3A%200%3Bpadding%3A%200%3B%7D%3C/style%3E%0A%20%20%20%20%3Cstyle%3E%23map%20%7Bposition%3Aabsolute%3Btop%3A0%3Bbottom%3A0%3Bright%3A0%3Bleft%3A0%3B%7D%3C/style%3E%0A%20%20%20%20%3Cscript%20src%3D%22https%3A//cdn.jsdelivr.net/npm/leaflet%401.6.0/dist/leaflet.js%22%3E%3C/script%3E%0A%20%20%20%20%3Cscript%20src%3D%22https%3A//code.jquery.com/jquery-1.12.4.min.js%22%3E%3C/script%3E%0A%20%20%20%20%3Cscript%20src%3D%22https%3A//maxcdn.bootstrapcdn.com/bootstrap/3.2.0/js/bootstrap.min.js%22%3E%3C/script%3E%0A%20%20%20%20%3Cscript%20src%3D%22https%3A//cdnjs.cloudflare.com/ajax/libs/Leaflet.awesome-markers/2.0.2/leaflet.awesome-markers.js%22%3E%3C/script%3E%0A%20%20%20%20%3Clink%20rel%3D%22stylesheet%22%20href%3D%22https%3A//cdn.jsdelivr.net/npm/leaflet%401.6.0/dist/leaflet.css%22/%3E%0A%20%20%20%20%3Clink%20rel%3D%22stylesheet%22%20href%3D%22https%3A//maxcdn.bootstrapcdn.com/bootstrap/3.2.0/css/bootstrap.min.css%22/%3E%0A%20%20%20%20%3Clink%20rel%3D%22stylesheet%22%20href%3D%22https%3A//maxcdn.bootstrapcdn.com/bootstrap/3.2.0/css/bootstrap-theme.min.css%22/%3E%0A%20%20%20%20%3Clink%20rel%3D%22stylesheet%22%20href%3D%22https%3A//maxcdn.bootstrapcdn.com/font-awesome/4.6.3/css/font-awesome.min.css%22/%3E%0A%20%20%20%20%3Clink%20rel%3D%22stylesheet%22%20href%3D%22https%3A//cdnjs.cloudflare.com/ajax/libs/Leaflet.awesome-markers/2.0.2/leaflet.awesome-markers.css%22/%3E%0A%20%20%20%20%3Clink%20rel%3D%22stylesheet%22%20href%3D%22https%3A//cdn.jsdelivr.net/gh/python-visualization/folium/folium/templates/leaflet.awesome.rotate.min.css%22/%3E%0A%20%20%20%20%0A%20%20%20%20%20%20%20%20%20%20%20%20%3Cmeta%20name%3D%22viewport%22%20content%3D%22width%3Ddevice-width%2C%0A%20%20%20%20%20%20%20%20%20%20%20%20%20%20%20%20initial-scale%3D1.0%2C%20maximum-scale%3D1.0%2C%20user-scalable%3Dno%22%20/%3E%0A%20%20%20%20%20%20%20%20%20%20%20%20%3Cstyle%3E%0A%20%20%20%20%20%20%20%20%20%20%20%20%20%20%20%20%23map_cbdd0e5fdd554ddd9e0592b8cebf767e%20%7B%0A%20%20%20%20%20%20%20%20%20%20%20%20%20%20%20%20%20%20%20%20position%3A%20relative%3B%0A%20%20%20%20%20%20%20%20%20%20%20%20%20%20%20%20%20%20%20%20width%3A%20100.0%25%3B%0A%20%20%20%20%20%20%20%20%20%20%20%20%20%20%20%20%20%20%20%20height%3A%20100.0%25%3B%0A%20%20%20%20%20%20%20%20%20%20%20%20%20%20%20%20%20%20%20%20left%3A%200.0%25%3B%0A%20%20%20%20%20%20%20%20%20%20%20%20%20%20%20%20%20%20%20%20top%3A%200.0%25%3B%0A%20%20%20%20%20%20%20%20%20%20%20%20%20%20%20%20%7D%0A%20%20%20%20%20%20%20%20%20%20%20%20%3C/style%3E%0A%20%20%20%20%20%20%20%20%0A%3C/head%3E%0A%3Cbody%3E%20%20%20%20%0A%20%20%20%20%0A%20%20%20%20%20%20%20%20%20%20%20%20%3Cdiv%20class%3D%22folium-map%22%20id%3D%22map_cbdd0e5fdd554ddd9e0592b8cebf767e%22%20%3E%3C/div%3E%0A%20%20%20%20%20%20%20%20%0A%3C/body%3E%0A%3Cscript%3E%20%20%20%20%0A%20%20%20%20%0A%20%20%20%20%20%20%20%20%20%20%20%20var%20map_cbdd0e5fdd554ddd9e0592b8cebf767e%20%3D%20L.map%28%0A%20%20%20%20%20%20%20%20%20%20%20%20%20%20%20%20%22map_cbdd0e5fdd554ddd9e0592b8cebf767e%22%2C%0A%20%20%20%20%20%20%20%20%20%20%20%20%20%20%20%20%7B%0A%20%20%20%20%20%20%20%20%20%20%20%20%20%20%20%20%20%20%20%20center%3A%20%5B-31.2421%2C%20152.4609%5D%2C%0A%20%20%20%20%20%20%20%20%20%20%20%20%20%20%20%20%20%20%20%20crs%3A%20L.CRS.EPSG3857%2C%0A%20%20%20%20%20%20%20%20%20%20%20%20%20%20%20%20%20%20%20%20zoom%3A%203%2C%0A%20%20%20%20%20%20%20%20%20%20%20%20%20%20%20%20%20%20%20%20zoomControl%3A%20true%2C%0A%20%20%20%20%20%20%20%20%20%20%20%20%20%20%20%20%20%20%20%20preferCanvas%3A%20false%2C%0A%20%20%20%20%20%20%20%20%20%20%20%20%20%20%20%20%7D%0A%20%20%20%20%20%20%20%20%20%20%20%20%29%3B%0A%0A%20%20%20%20%20%20%20%20%20%20%20%20%0A%0A%20%20%20%20%20%20%20%20%0A%20%20%20%20%0A%20%20%20%20%20%20%20%20%20%20%20%20var%20tile_layer_f3660b89e45448af9da4a73a35f96047%20%3D%20L.tileLayer%28%0A%20%20%20%20%20%20%20%20%20%20%20%20%20%20%20%20%22https%3A//stamen-tiles-%7Bs%7D.a.ssl.fastly.net/terrain/%7Bz%7D/%7Bx%7D/%7By%7D.jpg%22%2C%0A%20%20%20%20%20%20%20%20%20%20%20%20%20%20%20%20%7B%22attribution%22%3A%20%22Map%20tiles%20by%20%5Cu003ca%20href%3D%5C%22http%3A//stamen.com%5C%22%5Cu003eStamen%20Design%5Cu003c/a%5Cu003e%2C%20under%20%5Cu003ca%20href%3D%5C%22http%3A//creativecommons.org/licenses/by/3.0%5C%22%5Cu003eCC%20BY%203.0%5Cu003c/a%5Cu003e.%20Data%20by%20%5Cu0026copy%3B%20%5Cu003ca%20href%3D%5C%22http%3A//openstreetmap.org%5C%22%5Cu003eOpenStreetMap%5Cu003c/a%5Cu003e%2C%20under%20%5Cu003ca%20href%3D%5C%22http%3A//creativecommons.org/licenses/by-sa/3.0%5C%22%5Cu003eCC%20BY%20SA%5Cu003c/a%5Cu003e.%22%2C%20%22detectRetina%22%3A%20false%2C%20%22maxNativeZoom%22%3A%2018%2C%20%22maxZoom%22%3A%2018%2C%20%22minZoom%22%3A%200%2C%20%22noWrap%22%3A%20false%2C%20%22opacity%22%3A%201%2C%20%22subdomains%22%3A%20%22abc%22%2C%20%22tms%22%3A%20false%7D%0A%20%20%20%20%20%20%20%20%20%20%20%20%29.addTo%28map_cbdd0e5fdd554ddd9e0592b8cebf767e%29%3B%0A%20%20%20%20%20%20%20%20%0A%20%20%20%20%0A%20%20%20%20%20%20%20%20%20%20%20%20var%20marker_32075db5636a4ad39e07ab0edc813fb2%20%3D%20L.marker%28%0A%20%20%20%20%20%20%20%20%20%20%20%20%20%20%20%20%5B-31.2421%2C%20152.4609%5D%2C%0A%20%20%20%20%20%20%20%20%20%20%20%20%20%20%20%20%7B%7D%0A%20%20%20%20%20%20%20%20%20%20%20%20%29.addTo%28map_cbdd0e5fdd554ddd9e0592b8cebf767e%29%3B%0A%20%20%20%20%20%20%20%20%0A%20%20%20%20%0A%20%20%20%20%20%20%20%20var%20popup_b905b3cf180f47a4b93b2a19bad1a732%20%3D%20L.popup%28%7B%22maxWidth%22%3A%20%22100%25%22%7D%29%3B%0A%0A%20%20%20%20%20%20%20%20%0A%20%20%20%20%20%20%20%20%20%20%20%20var%20html_054b8dcfe2714db3ba31eae2752a4520%20%3D%20%24%28%60%3Cdiv%20id%3D%22html_054b8dcfe2714db3ba31eae2752a4520%22%20style%3D%22width%3A%20100.0%25%3B%20height%3A%20100.0%25%3B%22%3Eplot%3A%20NSFNNC002%3C/div%3E%60%29%5B0%5D%3B%0A%20%20%20%20%20%20%20%20%20%20%20%20popup_b905b3cf180f47a4b93b2a19bad1a732.setContent%28html_054b8dcfe2714db3ba31eae2752a4520%29%3B%0A%20%20%20%20%20%20%20%20%0A%0A%20%20%20%20%20%20%20%20marker_32075db5636a4ad39e07ab0edc813fb2.bindPopup%28popup_b905b3cf180f47a4b93b2a19bad1a732%29%0A%20%20%20%20%20%20%20%20%3B%0A%0A%20%20%20%20%20%20%20%20%0A%20%20%20%20%0A%20%20%20%20%0A%20%20%20%20%20%20%20%20%20%20%20%20var%20marker_79d2ca093fcd4f68a7e9520ed5815db4%20%3D%20L.marker%28%0A%20%20%20%20%20%20%20%20%20%20%20%20%20%20%20%20%5B-31.207873%2C%20152.525737%5D%2C%0A%20%20%20%20%20%20%20%20%20%20%20%20%20%20%20%20%7B%7D%0A%20%20%20%20%20%20%20%20%20%20%20%20%29.addTo%28map_cbdd0e5fdd554ddd9e0592b8cebf767e%29%3B%0A%20%20%20%20%20%20%20%20%0A%20%20%20%20%0A%20%20%20%20%20%20%20%20var%20popup_e044fe8cf3624ca4aa4e31c27bdc856a%20%3D%20L.popup%28%7B%22maxWidth%22%3A%20%22100%25%22%7D%29%3B%0A%0A%20%20%20%20%20%20%20%20%0A%20%20%20%20%20%20%20%20%20%20%20%20var%20html_1ca301ce273d494fa38ee0fbbe1ec941%20%3D%20%24%28%60%3Cdiv%20id%3D%22html_1ca301ce273d494fa38ee0fbbe1ec941%22%20style%3D%22width%3A%20100.0%25%3B%20height%3A%20100.0%25%3B%22%3Eplot%3A%20NSFNNC003%3C/div%3E%60%29%5B0%5D%3B%0A%20%20%20%20%20%20%20%20%20%20%20%20popup_e044fe8cf3624ca4aa4e31c27bdc856a.setContent%28html_1ca301ce273d494fa38ee0fbbe1ec941%29%3B%0A%20%20%20%20%20%20%20%20%0A%0A%20%20%20%20%20%20%20%20marker_79d2ca093fcd4f68a7e9520ed5815db4.bindPopup%28popup_e044fe8cf3624ca4aa4e31c27bdc856a%29%0A%20%20%20%20%20%20%20%20%3B%0A%0A%20%20%20%20%20%20%20%20%0A%20%20%20%20%0A%20%20%20%20%0A%20%20%20%20%20%20%20%20%20%20%20%20var%20marker_f9a7834dd7ab4884bdfbb6153829eb13%20%3D%20L.marker%28%0A%20%20%20%20%20%20%20%20%20%20%20%20%20%20%20%20%5B-31.591975%2C%20152.619338%5D%2C%0A%20%20%20%20%20%20%20%20%20%20%20%20%20%20%20%20%7B%7D%0A%20%20%20%20%20%20%20%20%20%20%20%20%29.addTo%28map_cbdd0e5fdd554ddd9e0592b8cebf767e%29%3B%0A%20%20%20%20%20%20%20%20%0A%20%20%20%20%0A%20%20%20%20%20%20%20%20var%20popup_393015ddf26f4a2c9cf8ee7d52b8e4bd%20%3D%20L.popup%28%7B%22maxWidth%22%3A%20%22100%25%22%7D%29%3B%0A%0A%20%20%20%20%20%20%20%20%0A%20%20%20%20%20%20%20%20%20%20%20%20var%20html_94a5382ed8da474bbd1c0a0a29e59e0a%20%3D%20%24%28%60%3Cdiv%20id%3D%22html_94a5382ed8da474bbd1c0a0a29e59e0a%22%20style%3D%22width%3A%20100.0%25%3B%20height%3A%20100.0%25%3B%22%3Eplot%3A%20NSFNNC004%3C/div%3E%60%29%5B0%5D%3B%0A%20%20%20%20%20%20%20%20%20%20%20%20popup_393015ddf26f4a2c9cf8ee7d52b8e4bd.setContent%28html_94a5382ed8da474bbd1c0a0a29e59e0a%29%3B%0A%20%20%20%20%20%20%20%20%0A%0A%20%20%20%20%20%20%20%20marker_f9a7834dd7ab4884bdfbb6153829eb13.bindPopup%28popup_393015ddf26f4a2c9cf8ee7d52b8e4bd%29%0A%20%20%20%20%20%20%20%20%3B%0A%0A%20%20%20%20%20%20%20%20%0A%20%20%20%20%0A%20%20%20%20%0A%20%20%20%20%20%20%20%20%20%20%20%20var%20marker_f0ef392af2404b84956cd78e40ebde20%20%3D%20L.marker%28%0A%20%20%20%20%20%20%20%20%20%20%20%20%20%20%20%20%5B-31.686657%2C%20152.682894%5D%2C%0A%20%20%20%20%20%20%20%20%20%20%20%20%20%20%20%20%7B%7D%0A%20%20%20%20%20%20%20%20%20%20%20%20%29.addTo%28map_cbdd0e5fdd554ddd9e0592b8cebf767e%29%3B%0A%20%20%20%20%20%20%20%20%0A%20%20%20%20%0A%20%20%20%20%20%20%20%20var%20popup_e453792522d84dcf89f1f5799a67130c%20%3D%20L.popup%28%7B%22maxWidth%22%3A%20%22100%25%22%7D%29%3B%0A%0A%20%20%20%20%20%20%20%20%0A%20%20%20%20%20%20%20%20%20%20%20%20var%20html_c1521868d43a4e7d9fb5bad75a4e06e3%20%3D%20%24%28%60%3Cdiv%20id%3D%22html_c1521868d43a4e7d9fb5bad75a4e06e3%22%20style%3D%22width%3A%20100.0%25%3B%20height%3A%20100.0%25%3B%22%3Eplot%3A%20NSFNNC005%3C/div%3E%60%29%5B0%5D%3B%0A%20%20%20%20%20%20%20%20%20%20%20%20popup_e453792522d84dcf89f1f5799a67130c.setContent%28html_c1521868d43a4e7d9fb5bad75a4e06e3%29%3B%0A%20%20%20%20%20%20%20%20%0A%0A%20%20%20%20%20%20%20%20marker_f0ef392af2404b84956cd78e40ebde20.bindPopup%28popup_e453792522d84dcf89f1f5799a67130c%29%0A%20%20%20%20%20%20%20%20%3B%0A%0A%20%20%20%20%20%20%20%20%0A%20%20%20%20%0A%20%20%20%20%0A%20%20%20%20%20%20%20%20%20%20%20%20var%20marker_376935e8e8ed4fb99b03a3c78ed19cdf%20%3D%20L.marker%28%0A%20%20%20%20%20%20%20%20%20%20%20%20%20%20%20%20%5B-30.15757%2C%20152.726671%5D%2C%0A%20%20%20%20%20%20%20%20%20%20%20%20%20%20%20%20%7B%7D%0A%20%20%20%20%20%20%20%20%20%20%20%20%29.addTo%28map_cbdd0e5fdd554ddd9e0592b8cebf767e%29%3B%0A%20%20%20%20%20%20%20%20%0A%20%20%20%20%0A%20%20%20%20%20%20%20%20var%20popup_3e2a4732d9dd4090894f4658e4c6e752%20%3D%20L.popup%28%7B%22maxWidth%22%3A%20%22100%25%22%7D%29%3B%0A%0A%20%20%20%20%20%20%20%20%0A%20%20%20%20%20%20%20%20%20%20%20%20var%20html_dc3eb564b93d4d4a837ba12db99a6e81%20%3D%20%24%28%60%3Cdiv%20id%3D%22html_dc3eb564b93d4d4a837ba12db99a6e81%22%20style%3D%22width%3A%20100.0%25%3B%20height%3A%20100.0%25%3B%22%3Eplot%3A%20NSFNNC006%3C/div%3E%60%29%5B0%5D%3B%0A%20%20%20%20%20%20%20%20%20%20%20%20popup_3e2a4732d9dd4090894f4658e4c6e752.setContent%28html_dc3eb564b93d4d4a837ba12db99a6e81%29%3B%0A%20%20%20%20%20%20%20%20%0A%0A%20%20%20%20%20%20%20%20marker_376935e8e8ed4fb99b03a3c78ed19cdf.bindPopup%28popup_3e2a4732d9dd4090894f4658e4c6e752%29%0A%20%20%20%20%20%20%20%20%3B%0A%0A%20%20%20%20%20%20%20%20%0A%20%20%20%20%0A%20%20%20%20%0A%20%20%20%20%20%20%20%20%20%20%20%20var%20marker_1e4513c510464a84828d5cfacdc97763%20%3D%20L.marker%28%0A%20%20%20%20%20%20%20%20%20%20%20%20%20%20%20%20%5B-30.24019%2C%20153.091808%5D%2C%0A%20%20%20%20%20%20%20%20%20%20%20%20%20%20%20%20%7B%7D%0A%20%20%20%20%20%20%20%20%20%20%20%20%29.addTo%28map_cbdd0e5fdd554ddd9e0592b8cebf767e%29%3B%0A%20%20%20%20%20%20%20%20%0A%20%20%20%20%0A%20%20%20%20%20%20%20%20var%20popup_cec01238aed443ed93be615aa254196c%20%3D%20L.popup%28%7B%22maxWidth%22%3A%20%22100%25%22%7D%29%3B%0A%0A%20%20%20%20%20%20%20%20%0A%20%20%20%20%20%20%20%20%20%20%20%20var%20html_b3d38b3d6d844f178379b557a4cfbdf5%20%3D%20%24%28%60%3Cdiv%20id%3D%22html_b3d38b3d6d844f178379b557a4cfbdf5%22%20style%3D%22width%3A%20100.0%25%3B%20height%3A%20100.0%25%3B%22%3Eplot%3A%20NSFNNC007%3C/div%3E%60%29%5B0%5D%3B%0A%20%20%20%20%20%20%20%20%20%20%20%20popup_cec01238aed443ed93be615aa254196c.setContent%28html_b3d38b3d6d844f178379b557a4cfbdf5%29%3B%0A%20%20%20%20%20%20%20%20%0A%0A%20%20%20%20%20%20%20%20marker_1e4513c510464a84828d5cfacdc97763.bindPopup%28popup_cec01238aed443ed93be615aa254196c%29%0A%20%20%20%20%20%20%20%20%3B%0A%0A%20%20%20%20%20%20%20%20%0A%20%20%20%20%0A%20%20%20%20%0A%20%20%20%20%20%20%20%20%20%20%20%20var%20marker_4062ebf302a54743bf3343c8c14db2d9%20%3D%20L.marker%28%0A%20%20%20%20%20%20%20%20%20%20%20%20%20%20%20%20%5B-32.345474%2C%20152.259035%5D%2C%0A%20%20%20%20%20%20%20%20%20%20%20%20%20%20%20%20%7B%7D%0A%20%20%20%20%20%20%20%20%20%20%20%20%29.addTo%28map_cbdd0e5fdd554ddd9e0592b8cebf767e%29%3B%0A%20%20%20%20%20%20%20%20%0A%20%20%20%20%0A%20%20%20%20%20%20%20%20var%20popup_0ab03a24008542bb972ded6470f18bd5%20%3D%20L.popup%28%7B%22maxWidth%22%3A%20%22100%25%22%7D%29%3B%0A%0A%20%20%20%20%20%20%20%20%0A%20%20%20%20%20%20%20%20%20%20%20%20var%20html_db47102fd8c94e26bbb02407566fb907%20%3D%20%24%28%60%3Cdiv%20id%3D%22html_db47102fd8c94e26bbb02407566fb907%22%20style%3D%22width%3A%20100.0%25%3B%20height%3A%20100.0%25%3B%22%3Eplot%3A%20NSFNNC008%3C/div%3E%60%29%5B0%5D%3B%0A%20%20%20%20%20%20%20%20%20%20%20%20popup_0ab03a24008542bb972ded6470f18bd5.setContent%28html_db47102fd8c94e26bbb02407566fb907%29%3B%0A%20%20%20%20%20%20%20%20%0A%0A%20%20%20%20%20%20%20%20marker_4062ebf302a54743bf3343c8c14db2d9.bindPopup%28popup_0ab03a24008542bb972ded6470f18bd5%29%0A%20%20%20%20%20%20%20%20%3B%0A%0A%20%20%20%20%20%20%20%20%0A%20%20%20%20%0A%20%20%20%20%0A%20%20%20%20%20%20%20%20%20%20%20%20var%20marker_187d145c65064d7dac1d65b3d91727c9%20%3D%20L.marker%28%0A%20%20%20%20%20%20%20%20%20%20%20%20%20%20%20%20%5B-36.759165%2C%20149.435125%5D%2C%0A%20%20%20%20%20%20%20%20%20%20%20%20%20%20%20%20%7B%7D%0A%20%20%20%20%20%20%20%20%20%20%20%20%29.addTo%28map_cbdd0e5fdd554ddd9e0592b8cebf767e%29%3B%0A%20%20%20%20%20%20%20%20%0A%20%20%20%20%0A%20%20%20%20%20%20%20%20var%20popup_889eec81c9e241d788d3ae7d0db2ae92%20%3D%20L.popup%28%7B%22maxWidth%22%3A%20%22100%25%22%7D%29%3B%0A%0A%20%20%20%20%20%20%20%20%0A%20%20%20%20%20%20%20%20%20%20%20%20var%20html_b69312dd463e47a3b1dfe75a35325850%20%3D%20%24%28%60%3Cdiv%20id%3D%22html_b69312dd463e47a3b1dfe75a35325850%22%20style%3D%22width%3A%20100.0%25%3B%20height%3A%20100.0%25%3B%22%3Eplot%3A%20NSFSEC001%3C/div%3E%60%29%5B0%5D%3B%0A%20%20%20%20%20%20%20%20%20%20%20%20popup_889eec81c9e241d788d3ae7d0db2ae92.setContent%28html_b69312dd463e47a3b1dfe75a35325850%29%3B%0A%20%20%20%20%20%20%20%20%0A%0A%20%20%20%20%20%20%20%20marker_187d145c65064d7dac1d65b3d91727c9.bindPopup%28popup_889eec81c9e241d788d3ae7d0db2ae92%29%0A%20%20%20%20%20%20%20%20%3B%0A%0A%20%20%20%20%20%20%20%20%0A%20%20%20%20%0A%20%20%20%20%0A%20%20%20%20%20%20%20%20%20%20%20%20var%20marker_2267d00ee8fa4a05a34722a04b994e9b%20%3D%20L.marker%28%0A%20%20%20%20%20%20%20%20%20%20%20%20%20%20%20%20%5B-37.013029%2C%20149.381474%5D%2C%0A%20%20%20%20%20%20%20%20%20%20%20%20%20%20%20%20%7B%7D%0A%20%20%20%20%20%20%20%20%20%20%20%20%29.addTo%28map_cbdd0e5fdd554ddd9e0592b8cebf767e%29%3B%0A%20%20%20%20%20%20%20%20%0A%20%20%20%20%0A%20%20%20%20%20%20%20%20var%20popup_6ed8886acd944a79bc32a81c2b379ca4%20%3D%20L.popup%28%7B%22maxWidth%22%3A%20%22100%25%22%7D%29%3B%0A%0A%20%20%20%20%20%20%20%20%0A%20%20%20%20%20%20%20%20%20%20%20%20var%20html_78223f0e66d646ff90971496a5cffd43%20%3D%20%24%28%60%3Cdiv%20id%3D%22html_78223f0e66d646ff90971496a5cffd43%22%20style%3D%22width%3A%20100.0%25%3B%20height%3A%20100.0%25%3B%22%3Eplot%3A%20NSFSEC002%3C/div%3E%60%29%5B0%5D%3B%0A%20%20%20%20%20%20%20%20%20%20%20%20popup_6ed8886acd944a79bc32a81c2b379ca4.setContent%28html_78223f0e66d646ff90971496a5cffd43%29%3B%0A%20%20%20%20%20%20%20%20%0A%0A%20%20%20%20%20%20%20%20marker_2267d00ee8fa4a05a34722a04b994e9b.bindPopup%28popup_6ed8886acd944a79bc32a81c2b379ca4%29%0A%20%20%20%20%20%20%20%20%3B%0A%0A%20%20%20%20%20%20%20%20%0A%20%20%20%20%0A%20%20%20%20%0A%20%20%20%20%20%20%20%20%20%20%20%20var%20marker_46cb05d380294087acaf62c7508d77d7%20%3D%20L.marker%28%0A%20%20%20%20%20%20%20%20%20%20%20%20%20%20%20%20%5B-36.997418%2C%20149.382334%5D%2C%0A%20%20%20%20%20%20%20%20%20%20%20%20%20%20%20%20%7B%7D%0A%20%20%20%20%20%20%20%20%20%20%20%20%29.addTo%28map_cbdd0e5fdd554ddd9e0592b8cebf767e%29%3B%0A%20%20%20%20%20%20%20%20%0A%20%20%20%20%0A%20%20%20%20%20%20%20%20var%20popup_e56d0c31b38a4174b8a6f29744aed600%20%3D%20L.popup%28%7B%22maxWidth%22%3A%20%22100%25%22%7D%29%3B%0A%0A%20%20%20%20%20%20%20%20%0A%20%20%20%20%20%20%20%20%20%20%20%20var%20html_e04be72ffb2644e4914da7ad062451ae%20%3D%20%24%28%60%3Cdiv%20id%3D%22html_e04be72ffb2644e4914da7ad062451ae%22%20style%3D%22width%3A%20100.0%25%3B%20height%3A%20100.0%25%3B%22%3Eplot%3A%20NSFSEC003%3C/div%3E%60%29%5B0%5D%3B%0A%20%20%20%20%20%20%20%20%20%20%20%20popup_e56d0c31b38a4174b8a6f29744aed600.setContent%28html_e04be72ffb2644e4914da7ad062451ae%29%3B%0A%20%20%20%20%20%20%20%20%0A%0A%20%20%20%20%20%20%20%20marker_46cb05d380294087acaf62c7508d77d7.bindPopup%28popup_e56d0c31b38a4174b8a6f29744aed600%29%0A%20%20%20%20%20%20%20%20%3B%0A%0A%20%20%20%20%20%20%20%20%0A%20%20%20%20%0A%20%20%20%20%0A%20%20%20%20%20%20%20%20%20%20%20%20var%20marker_05ff67106a1940ef9705133ff0b0b4ff%20%3D%20L.marker%28%0A%20%20%20%20%20%20%20%20%20%20%20%20%20%20%20%20%5B-36.903761%2C%20149.717866%5D%2C%0A%20%20%20%20%20%20%20%20%20%20%20%20%20%20%20%20%7B%7D%0A%20%20%20%20%20%20%20%20%20%20%20%20%29.addTo%28map_cbdd0e5fdd554ddd9e0592b8cebf767e%29%3B%0A%20%20%20%20%20%20%20%20%0A%20%20%20%20%0A%20%20%20%20%20%20%20%20var%20popup_8f9948d0b7b84823bc9033499716de6e%20%3D%20L.popup%28%7B%22maxWidth%22%3A%20%22100%25%22%7D%29%3B%0A%0A%20%20%20%20%20%20%20%20%0A%20%20%20%20%20%20%20%20%20%20%20%20var%20html_edcea48ea66f44daa7751c60d3f25ac1%20%3D%20%24%28%60%3Cdiv%20id%3D%22html_edcea48ea66f44daa7751c60d3f25ac1%22%20style%3D%22width%3A%20100.0%25%3B%20height%3A%20100.0%25%3B%22%3Eplot%3A%20NSFSEC004%3C/div%3E%60%29%5B0%5D%3B%0A%20%20%20%20%20%20%20%20%20%20%20%20popup_8f9948d0b7b84823bc9033499716de6e.setContent%28html_edcea48ea66f44daa7751c60d3f25ac1%29%3B%0A%20%20%20%20%20%20%20%20%0A%0A%20%20%20%20%20%20%20%20marker_05ff67106a1940ef9705133ff0b0b4ff.bindPopup%28popup_8f9948d0b7b84823bc9033499716de6e%29%0A%20%20%20%20%20%20%20%20%3B%0A%0A%20%20%20%20%20%20%20%20%0A%20%20%20%20%0A%20%20%20%20%0A%20%20%20%20%20%20%20%20%20%20%20%20var%20marker_40c0356322b0491a86cb9bcc90c89c8f%20%3D%20L.marker%28%0A%20%20%20%20%20%20%20%20%20%20%20%20%20%20%20%20%5B-36.863176%2C%20149.594699%5D%2C%0A%20%20%20%20%20%20%20%20%20%20%20%20%20%20%20%20%7B%7D%0A%20%20%20%20%20%20%20%20%20%20%20%20%29.addTo%28map_cbdd0e5fdd554ddd9e0592b8cebf767e%29%3B%0A%20%20%20%20%20%20%20%20%0A%20%20%20%20%0A%20%20%20%20%20%20%20%20var%20popup_03f4d93569bc4e01a43ff1f14dc248bd%20%3D%20L.popup%28%7B%22maxWidth%22%3A%20%22100%25%22%7D%29%3B%0A%0A%20%20%20%20%20%20%20%20%0A%20%20%20%20%20%20%20%20%20%20%20%20var%20html_4cb56123d0d54e669593a8f072f59c46%20%3D%20%24%28%60%3Cdiv%20id%3D%22html_4cb56123d0d54e669593a8f072f59c46%22%20style%3D%22width%3A%20100.0%25%3B%20height%3A%20100.0%25%3B%22%3Eplot%3A%20NSFSEC005%3C/div%3E%60%29%5B0%5D%3B%0A%20%20%20%20%20%20%20%20%20%20%20%20popup_03f4d93569bc4e01a43ff1f14dc248bd.setContent%28html_4cb56123d0d54e669593a8f072f59c46%29%3B%0A%20%20%20%20%20%20%20%20%0A%0A%20%20%20%20%20%20%20%20marker_40c0356322b0491a86cb9bcc90c89c8f.bindPopup%28popup_03f4d93569bc4e01a43ff1f14dc248bd%29%0A%20%20%20%20%20%20%20%20%3B%0A%0A%20%20%20%20%20%20%20%20%0A%20%20%20%20%0A%20%20%20%20%0A%20%20%20%20%20%20%20%20%20%20%20%20var%20marker_18c29f0574074efdb5d1b677966a6001%20%3D%20L.marker%28%0A%20%20%20%20%20%20%20%20%20%20%20%20%20%20%20%20%5B-41.311345%2C%20147.538381%5D%2C%0A%20%20%20%20%20%20%20%20%20%20%20%20%20%20%20%20%7B%7D%0A%20%20%20%20%20%20%20%20%20%20%20%20%29.addTo%28map_cbdd0e5fdd554ddd9e0592b8cebf767e%29%3B%0A%20%20%20%20%20%20%20%20%0A%20%20%20%20%0A%20%20%20%20%20%20%20%20var%20popup_587bd5baf6854a9aaa4811ad0e7ed22d%20%3D%20L.popup%28%7B%22maxWidth%22%3A%20%22100%25%22%7D%29%3B%0A%0A%20%20%20%20%20%20%20%20%0A%20%20%20%20%20%20%20%20%20%20%20%20var%20html_7c13cbf0fbce426694fd36828559dd76%20%3D%20%24%28%60%3Cdiv%20id%3D%22html_7c13cbf0fbce426694fd36828559dd76%22%20style%3D%22width%3A%20100.0%25%3B%20height%3A%20100.0%25%3B%22%3Eplot%3A%20TCFBEL001%3C/div%3E%60%29%5B0%5D%3B%0A%20%20%20%20%20%20%20%20%20%20%20%20popup_587bd5baf6854a9aaa4811ad0e7ed22d.setContent%28html_7c13cbf0fbce426694fd36828559dd76%29%3B%0A%20%20%20%20%20%20%20%20%0A%0A%20%20%20%20%20%20%20%20marker_18c29f0574074efdb5d1b677966a6001.bindPopup%28popup_587bd5baf6854a9aaa4811ad0e7ed22d%29%0A%20%20%20%20%20%20%20%20%3B%0A%0A%20%20%20%20%20%20%20%20%0A%20%20%20%20%0A%20%20%20%20%0A%20%20%20%20%20%20%20%20%20%20%20%20var%20marker_c284a08fef1f4e50a224920ef3a79706%20%3D%20L.marker%28%0A%20%20%20%20%20%20%20%20%20%20%20%20%20%20%20%20%5B-41.367397%2C%20147.602513%5D%2C%0A%20%20%20%20%20%20%20%20%20%20%20%20%20%20%20%20%7B%7D%0A%20%20%20%20%20%20%20%20%20%20%20%20%29.addTo%28map_cbdd0e5fdd554ddd9e0592b8cebf767e%29%3B%0A%20%20%20%20%20%20%20%20%0A%20%20%20%20%0A%20%20%20%20%20%20%20%20var%20popup_18b5b58a22ad4c18913757338d004940%20%3D%20L.popup%28%7B%22maxWidth%22%3A%20%22100%25%22%7D%29%3B%0A%0A%20%20%20%20%20%20%20%20%0A%20%20%20%20%20%20%20%20%20%20%20%20var%20html_a673161905ba429aa41ad83eb258687a%20%3D%20%24%28%60%3Cdiv%20id%3D%22html_a673161905ba429aa41ad83eb258687a%22%20style%3D%22width%3A%20100.0%25%3B%20height%3A%20100.0%25%3B%22%3Eplot%3A%20TCFBEL002%3C/div%3E%60%29%5B0%5D%3B%0A%20%20%20%20%20%20%20%20%20%20%20%20popup_18b5b58a22ad4c18913757338d004940.setContent%28html_a673161905ba429aa41ad83eb258687a%29%3B%0A%20%20%20%20%20%20%20%20%0A%0A%20%20%20%20%20%20%20%20marker_c284a08fef1f4e50a224920ef3a79706.bindPopup%28popup_18b5b58a22ad4c18913757338d004940%29%0A%20%20%20%20%20%20%20%20%3B%0A%0A%20%20%20%20%20%20%20%20%0A%20%20%20%20%0A%20%20%20%20%0A%20%20%20%20%20%20%20%20%20%20%20%20var%20marker_26b3e956950d46fba863072b82d5e9aa%20%3D%20L.marker%28%0A%20%20%20%20%20%20%20%20%20%20%20%20%20%20%20%20%5B-40.90313%2C%20145.285228%5D%2C%0A%20%20%20%20%20%20%20%20%20%20%20%20%20%20%20%20%7B%7D%0A%20%20%20%20%20%20%20%20%20%20%20%20%29.addTo%28map_cbdd0e5fdd554ddd9e0592b8cebf767e%29%3B%0A%20%20%20%20%20%20%20%20%0A%20%20%20%20%0A%20%20%20%20%20%20%20%20var%20popup_b5e70eae3c144b14952c51d23fd7cdf1%20%3D%20L.popup%28%7B%22maxWidth%22%3A%20%22100%25%22%7D%29%3B%0A%0A%20%20%20%20%20%20%20%20%0A%20%20%20%20%20%20%20%20%20%20%20%20var%20html_f1086ed41f884e0e899bb3cc705c4500%20%3D%20%24%28%60%3Cdiv%20id%3D%22html_f1086ed41f884e0e899bb3cc705c4500%22%20style%3D%22width%3A%20100.0%25%3B%20height%3A%20100.0%25%3B%22%3Eplot%3A%20TCFKIN001%3C/div%3E%60%29%5B0%5D%3B%0A%20%20%20%20%20%20%20%20%20%20%20%20popup_b5e70eae3c144b14952c51d23fd7cdf1.setContent%28html_f1086ed41f884e0e899bb3cc705c4500%29%3B%0A%20%20%20%20%20%20%20%20%0A%0A%20%20%20%20%20%20%20%20marker_26b3e956950d46fba863072b82d5e9aa.bindPopup%28popup_b5e70eae3c144b14952c51d23fd7cdf1%29%0A%20%20%20%20%20%20%20%20%3B%0A%0A%20%20%20%20%20%20%20%20%0A%20%20%20%20%0A%20%20%20%20%0A%20%20%20%20%20%20%20%20%20%20%20%20var%20marker_d1f503a4b69e4cf2b7deb8657f9ef418%20%3D%20L.marker%28%0A%20%20%20%20%20%20%20%20%20%20%20%20%20%20%20%20%5B-40.952559%2C%20144.842051%5D%2C%0A%20%20%20%20%20%20%20%20%20%20%20%20%20%20%20%20%7B%7D%0A%20%20%20%20%20%20%20%20%20%20%20%20%29.addTo%28map_cbdd0e5fdd554ddd9e0592b8cebf767e%29%3B%0A%20%20%20%20%20%20%20%20%0A%20%20%20%20%0A%20%20%20%20%20%20%20%20var%20popup_daf8aefdfc10427192637d34ce718b19%20%3D%20L.popup%28%7B%22maxWidth%22%3A%20%22100%25%22%7D%29%3B%0A%0A%20%20%20%20%20%20%20%20%0A%20%20%20%20%20%20%20%20%20%20%20%20var%20html_6f3ee16618ec4b0da99a223e9208f701%20%3D%20%24%28%60%3Cdiv%20id%3D%22html_6f3ee16618ec4b0da99a223e9208f701%22%20style%3D%22width%3A%20100.0%25%3B%20height%3A%20100.0%25%3B%22%3Eplot%3A%20TCFKIN002%3C/div%3E%60%29%5B0%5D%3B%0A%20%20%20%20%20%20%20%20%20%20%20%20popup_daf8aefdfc10427192637d34ce718b19.setContent%28html_6f3ee16618ec4b0da99a223e9208f701%29%3B%0A%20%20%20%20%20%20%20%20%0A%0A%20%20%20%20%20%20%20%20marker_d1f503a4b69e4cf2b7deb8657f9ef418.bindPopup%28popup_daf8aefdfc10427192637d34ce718b19%29%0A%20%20%20%20%20%20%20%20%3B%0A%0A%20%20%20%20%20%20%20%20%0A%20%20%20%20%0A%20%20%20%20%0A%20%20%20%20%20%20%20%20%20%20%20%20var%20marker_3b2f27bbb24a45d0aff4b999cba85fdd%20%3D%20L.marker%28%0A%20%20%20%20%20%20%20%20%20%20%20%20%20%20%20%20%5B-41.044984%2C%20145.566135%5D%2C%0A%20%20%20%20%20%20%20%20%20%20%20%20%20%20%20%20%7B%7D%0A%20%20%20%20%20%20%20%20%20%20%20%20%29.addTo%28map_cbdd0e5fdd554ddd9e0592b8cebf767e%29%3B%0A%20%20%20%20%20%20%20%20%0A%20%20%20%20%0A%20%20%20%20%20%20%20%20var%20popup_4f84dd7b646c4947a8ed988d40b8d761%20%3D%20L.popup%28%7B%22maxWidth%22%3A%20%22100%25%22%7D%29%3B%0A%0A%20%20%20%20%20%20%20%20%0A%20%20%20%20%20%20%20%20%20%20%20%20var%20html_626b4f895bf54de19d417dcd0c22bcd6%20%3D%20%24%28%60%3Cdiv%20id%3D%22html_626b4f895bf54de19d417dcd0c22bcd6%22%20style%3D%22width%3A%20100.0%25%3B%20height%3A%20100.0%25%3B%22%3Eplot%3A%20TCFTNS001%3C/div%3E%60%29%5B0%5D%3B%0A%20%20%20%20%20%20%20%20%20%20%20%20popup_4f84dd7b646c4947a8ed988d40b8d761.setContent%28html_626b4f895bf54de19d417dcd0c22bcd6%29%3B%0A%20%20%20%20%20%20%20%20%0A%0A%20%20%20%20%20%20%20%20marker_3b2f27bbb24a45d0aff4b999cba85fdd.bindPopup%28popup_4f84dd7b646c4947a8ed988d40b8d761%29%0A%20%20%20%20%20%20%20%20%3B%0A%0A%20%20%20%20%20%20%20%20%0A%20%20%20%20%0A%20%20%20%20%0A%20%20%20%20%20%20%20%20%20%20%20%20var%20marker_b0db4165dab94b3aaecfb5861f84b433%20%3D%20L.marker%28%0A%20%20%20%20%20%20%20%20%20%20%20%20%20%20%20%20%5B-41.034643%2C%20145.405096%5D%2C%0A%20%20%20%20%20%20%20%20%20%20%20%20%20%20%20%20%7B%7D%0A%20%20%20%20%20%20%20%20%20%20%20%20%29.addTo%28map_cbdd0e5fdd554ddd9e0592b8cebf767e%29%3B%0A%20%20%20%20%20%20%20%20%0A%20%20%20%20%0A%20%20%20%20%20%20%20%20var%20popup_e1682561e9ee4120a03737fa576fbce8%20%3D%20L.popup%28%7B%22maxWidth%22%3A%20%22100%25%22%7D%29%3B%0A%0A%20%20%20%20%20%20%20%20%0A%20%20%20%20%20%20%20%20%20%20%20%20var%20html_614352e5f1f64caaa636a8e6bf2f6ad6%20%3D%20%24%28%60%3Cdiv%20id%3D%22html_614352e5f1f64caaa636a8e6bf2f6ad6%22%20style%3D%22width%3A%20100.0%25%3B%20height%3A%20100.0%25%3B%22%3Eplot%3A%20TCFTNS002%3C/div%3E%60%29%5B0%5D%3B%0A%20%20%20%20%20%20%20%20%20%20%20%20popup_e1682561e9ee4120a03737fa576fbce8.setContent%28html_614352e5f1f64caaa636a8e6bf2f6ad6%29%3B%0A%20%20%20%20%20%20%20%20%0A%0A%20%20%20%20%20%20%20%20marker_b0db4165dab94b3aaecfb5861f84b433.bindPopup%28popup_e1682561e9ee4120a03737fa576fbce8%29%0A%20%20%20%20%20%20%20%20%3B%0A%0A%20%20%20%20%20%20%20%20%0A%20%20%20%20%0A%20%20%20%20%0A%20%20%20%20%20%20%20%20%20%20%20%20var%20marker_6a0a38b68bea40dc927a3f9804683823%20%3D%20L.marker%28%0A%20%20%20%20%20%20%20%20%20%20%20%20%20%20%20%20%5B-41.629951%2C%20146.258356%5D%2C%0A%20%20%20%20%20%20%20%20%20%20%20%20%20%20%20%20%7B%7D%0A%20%20%20%20%20%20%20%20%20%20%20%20%29.addTo%28map_cbdd0e5fdd554ddd9e0592b8cebf767e%29%3B%0A%20%20%20%20%20%20%20%20%0A%20%20%20%20%0A%20%20%20%20%20%20%20%20var%20popup_30171891157c466ea5a10d7bef155048%20%3D%20L.popup%28%7B%22maxWidth%22%3A%20%22100%25%22%7D%29%3B%0A%0A%20%20%20%20%20%20%20%20%0A%20%20%20%20%20%20%20%20%20%20%20%20var%20html_8a219d2409e74295b7cc5cd27c310452%20%3D%20%24%28%60%3Cdiv%20id%3D%22html_8a219d2409e74295b7cc5cd27c310452%22%20style%3D%22width%3A%20100.0%25%3B%20height%3A%20100.0%25%3B%22%3Eplot%3A%20TCFTNS003%3C/div%3E%60%29%5B0%5D%3B%0A%20%20%20%20%20%20%20%20%20%20%20%20popup_30171891157c466ea5a10d7bef155048.setContent%28html_8a219d2409e74295b7cc5cd27c310452%29%3B%0A%20%20%20%20%20%20%20%20%0A%0A%20%20%20%20%20%20%20%20marker_6a0a38b68bea40dc927a3f9804683823.bindPopup%28popup_30171891157c466ea5a10d7bef155048%29%0A%20%20%20%20%20%20%20%20%3B%0A%0A%20%20%20%20%20%20%20%20%0A%20%20%20%20%0A%20%20%20%20%0A%20%20%20%20%20%20%20%20%20%20%20%20var%20marker_8e297dd997c44bb28ad0385450298fa8%20%3D%20L.marker%28%0A%20%20%20%20%20%20%20%20%20%20%20%20%20%20%20%20%5B-41.669875%2C%20146.501252%5D%2C%0A%20%20%20%20%20%20%20%20%20%20%20%20%20%20%20%20%7B%7D%0A%20%20%20%20%20%20%20%20%20%20%20%20%29.addTo%28map_cbdd0e5fdd554ddd9e0592b8cebf767e%29%3B%0A%20%20%20%20%20%20%20%20%0A%20%20%20%20%0A%20%20%20%20%20%20%20%20var%20popup_910a118d8b2e43f8ab69462546fcb95e%20%3D%20L.popup%28%7B%22maxWidth%22%3A%20%22100%25%22%7D%29%3B%0A%0A%20%20%20%20%20%20%20%20%0A%20%20%20%20%20%20%20%20%20%20%20%20var%20html_b4dfe468e2384b01a36c30f753368301%20%3D%20%24%28%60%3Cdiv%20id%3D%22html_b4dfe468e2384b01a36c30f753368301%22%20style%3D%22width%3A%20100.0%25%3B%20height%3A%20100.0%25%3B%22%3Eplot%3A%20TCFTNS004%3C/div%3E%60%29%5B0%5D%3B%0A%20%20%20%20%20%20%20%20%20%20%20%20popup_910a118d8b2e43f8ab69462546fcb95e.setContent%28html_b4dfe468e2384b01a36c30f753368301%29%3B%0A%20%20%20%20%20%20%20%20%0A%0A%20%20%20%20%20%20%20%20marker_8e297dd997c44bb28ad0385450298fa8.bindPopup%28popup_910a118d8b2e43f8ab69462546fcb95e%29%0A%20%20%20%20%20%20%20%20%3B%0A%0A%20%20%20%20%20%20%20%20%0A%20%20%20%20%0A%20%20%20%20%0A%20%20%20%20%20%20%20%20%20%20%20%20var%20marker_0887ee2e3d8b4ccf9e5dfe478f94ce2b%20%3D%20L.marker%28%0A%20%20%20%20%20%20%20%20%20%20%20%20%20%20%20%20%5B-43.089424%2C%20146.643249%5D%2C%0A%20%20%20%20%20%20%20%20%20%20%20%20%20%20%20%20%7B%7D%0A%20%20%20%20%20%20%20%20%20%20%20%20%29.addTo%28map_cbdd0e5fdd554ddd9e0592b8cebf767e%29%3B%0A%20%20%20%20%20%20%20%20%0A%20%20%20%20%0A%20%20%20%20%20%20%20%20var%20popup_7a96ee2cbbfa493c83c7ad6cd5d7f1c2%20%3D%20L.popup%28%7B%22maxWidth%22%3A%20%22100%25%22%7D%29%3B%0A%0A%20%20%20%20%20%20%20%20%0A%20%20%20%20%20%20%20%20%20%20%20%20var%20html_c1a100a085664339ac413a0ff1d3afa3%20%3D%20%24%28%60%3Cdiv%20id%3D%22html_c1a100a085664339ac413a0ff1d3afa3%22%20style%3D%22width%3A%20100.0%25%3B%20height%3A%20100.0%25%3B%22%3Eplot%3A%20TCFTSR001%3C/div%3E%60%29%5B0%5D%3B%0A%20%20%20%20%20%20%20%20%20%20%20%20popup_7a96ee2cbbfa493c83c7ad6cd5d7f1c2.setContent%28html_c1a100a085664339ac413a0ff1d3afa3%29%3B%0A%20%20%20%20%20%20%20%20%0A%0A%20%20%20%20%20%20%20%20marker_0887ee2e3d8b4ccf9e5dfe478f94ce2b.bindPopup%28popup_7a96ee2cbbfa493c83c7ad6cd5d7f1c2%29%0A%20%20%20%20%20%20%20%20%3B%0A%0A%20%20%20%20%20%20%20%20%0A%20%20%20%20%0A%20%20%20%20%0A%20%20%20%20%20%20%20%20%20%20%20%20var%20marker_b891ba5881b64515a951e710a5c7797e%20%3D%20L.marker%28%0A%20%20%20%20%20%20%20%20%20%20%20%20%20%20%20%20%5B-43.095939%2C%20146.65341%5D%2C%0A%20%20%20%20%20%20%20%20%20%20%20%20%20%20%20%20%7B%7D%0A%20%20%20%20%20%20%20%20%20%20%20%20%29.addTo%28map_cbdd0e5fdd554ddd9e0592b8cebf767e%29%3B%0A%20%20%20%20%20%20%20%20%0A%20%20%20%20%0A%20%20%20%20%20%20%20%20var%20popup_e417d4be1640475a838a54a96b1b8179%20%3D%20L.popup%28%7B%22maxWidth%22%3A%20%22100%25%22%7D%29%3B%0A%0A%20%20%20%20%20%20%20%20%0A%20%20%20%20%20%20%20%20%20%20%20%20var%20html_161de2c567244c51a4831a8fdf59bdbd%20%3D%20%24%28%60%3Cdiv%20id%3D%22html_161de2c567244c51a4831a8fdf59bdbd%22%20style%3D%22width%3A%20100.0%25%3B%20height%3A%20100.0%25%3B%22%3Eplot%3A%20TCFTSR002%3C/div%3E%60%29%5B0%5D%3B%0A%20%20%20%20%20%20%20%20%20%20%20%20popup_e417d4be1640475a838a54a96b1b8179.setContent%28html_161de2c567244c51a4831a8fdf59bdbd%29%3B%0A%20%20%20%20%20%20%20%20%0A%0A%20%20%20%20%20%20%20%20marker_b891ba5881b64515a951e710a5c7797e.bindPopup%28popup_e417d4be1640475a838a54a96b1b8179%29%0A%20%20%20%20%20%20%20%20%3B%0A%0A%20%20%20%20%20%20%20%20%0A%20%20%20%20%0A%20%20%20%20%0A%20%20%20%20%20%20%20%20%20%20%20%20var%20marker_43cbf7baa481431b9f14b326d63ec242%20%3D%20L.marker%28%0A%20%20%20%20%20%20%20%20%20%20%20%20%20%20%20%20%5B-42.811485%2C%20146.608866%5D%2C%0A%20%20%20%20%20%20%20%20%20%20%20%20%20%20%20%20%7B%7D%0A%20%20%20%20%20%20%20%20%20%20%20%20%29.addTo%28map_cbdd0e5fdd554ddd9e0592b8cebf767e%29%3B%0A%20%20%20%20%20%20%20%20%0A%20%20%20%20%0A%20%20%20%20%20%20%20%20var%20popup_874153e79ffb479f957d926e391e4c58%20%3D%20L.popup%28%7B%22maxWidth%22%3A%20%22100%25%22%7D%29%3B%0A%0A%20%20%20%20%20%20%20%20%0A%20%20%20%20%20%20%20%20%20%20%20%20var%20html_93bda88942ce42d3bb8ad8e0175abbab%20%3D%20%24%28%60%3Cdiv%20id%3D%22html_93bda88942ce42d3bb8ad8e0175abbab%22%20style%3D%22width%3A%20100.0%25%3B%20height%3A%20100.0%25%3B%22%3Eplot%3A%20TCFTSR003%3C/div%3E%60%29%5B0%5D%3B%0A%20%20%20%20%20%20%20%20%20%20%20%20popup_874153e79ffb479f957d926e391e4c58.setContent%28html_93bda88942ce42d3bb8ad8e0175abbab%29%3B%0A%20%20%20%20%20%20%20%20%0A%0A%20%20%20%20%20%20%20%20marker_43cbf7baa481431b9f14b326d63ec242.bindPopup%28popup_874153e79ffb479f957d926e391e4c58%29%0A%20%20%20%20%20%20%20%20%3B%0A%0A%20%20%20%20%20%20%20%20%0A%20%20%20%20%0A%20%20%20%20%0A%20%20%20%20%20%20%20%20%20%20%20%20var%20marker_75bee653eda54c4894c15fd8245c9bdf%20%3D%20L.marker%28%0A%20%20%20%20%20%20%20%20%20%20%20%20%20%20%20%20%5B-43.041397%2C%20146.743861%5D%2C%0A%20%20%20%20%20%20%20%20%20%20%20%20%20%20%20%20%7B%7D%0A%20%20%20%20%20%20%20%20%20%20%20%20%29.addTo%28map_cbdd0e5fdd554ddd9e0592b8cebf767e%29%3B%0A%20%20%20%20%20%20%20%20%0A%20%20%20%20%0A%20%20%20%20%20%20%20%20var%20popup_af3d49c1eef74d27badcd2dfbb443089%20%3D%20L.popup%28%7B%22maxWidth%22%3A%20%22100%25%22%7D%29%3B%0A%0A%20%20%20%20%20%20%20%20%0A%20%20%20%20%20%20%20%20%20%20%20%20var%20html_d8bae547ea07438fa369205d5c8470b0%20%3D%20%24%28%60%3Cdiv%20id%3D%22html_d8bae547ea07438fa369205d5c8470b0%22%20style%3D%22width%3A%20100.0%25%3B%20height%3A%20100.0%25%3B%22%3Eplot%3A%20TCFTSR004%3C/div%3E%60%29%5B0%5D%3B%0A%20%20%20%20%20%20%20%20%20%20%20%20popup_af3d49c1eef74d27badcd2dfbb443089.setContent%28html_d8bae547ea07438fa369205d5c8470b0%29%3B%0A%20%20%20%20%20%20%20%20%0A%0A%20%20%20%20%20%20%20%20marker_75bee653eda54c4894c15fd8245c9bdf.bindPopup%28popup_af3d49c1eef74d27badcd2dfbb443089%29%0A%20%20%20%20%20%20%20%20%3B%0A%0A%20%20%20%20%20%20%20%20%0A%20%20%20%20%0A%20%20%20%20%0A%20%20%20%20%20%20%20%20%20%20%20%20var%20marker_0338dfbbd6634e62bb5d5cfea044ec72%20%3D%20L.marker%28%0A%20%20%20%20%20%20%20%20%20%20%20%20%20%20%20%20%5B-43.101829%2C%20146.746355%5D%2C%0A%20%20%20%20%20%20%20%20%20%20%20%20%20%20%20%20%7B%7D%0A%20%20%20%20%20%20%20%20%20%20%20%20%29.addTo%28map_cbdd0e5fdd554ddd9e0592b8cebf767e%29%3B%0A%20%20%20%20%20%20%20%20%0A%20%20%20%20%0A%20%20%20%20%20%20%20%20var%20popup_1a500d086d844870b6afd3c82cdde308%20%3D%20L.popup%28%7B%22maxWidth%22%3A%20%22100%25%22%7D%29%3B%0A%0A%20%20%20%20%20%20%20%20%0A%20%20%20%20%20%20%20%20%20%20%20%20var%20html_ab3c787d36ea4c25842bad9c2715092b%20%3D%20%24%28%60%3Cdiv%20id%3D%22html_ab3c787d36ea4c25842bad9c2715092b%22%20style%3D%22width%3A%20100.0%25%3B%20height%3A%20100.0%25%3B%22%3Eplot%3A%20TCFTSR005%3C/div%3E%60%29%5B0%5D%3B%0A%20%20%20%20%20%20%20%20%20%20%20%20popup_1a500d086d844870b6afd3c82cdde308.setContent%28html_ab3c787d36ea4c25842bad9c2715092b%29%3B%0A%20%20%20%20%20%20%20%20%0A%0A%20%20%20%20%20%20%20%20marker_0338dfbbd6634e62bb5d5cfea044ec72.bindPopup%28popup_1a500d086d844870b6afd3c82cdde308%29%0A%20%20%20%20%20%20%20%20%3B%0A%0A%20%20%20%20%20%20%20%20%0A%20%20%20%20%0A%20%20%20%20%0A%20%20%20%20%20%20%20%20%20%20%20%20var%20marker_4864bb4b40c64457b9ec4b51fde65367%20%3D%20L.marker%28%0A%20%20%20%20%20%20%20%20%20%20%20%20%20%20%20%20%5B-42.682963%2C%20146.649282%5D%2C%0A%20%20%20%20%20%20%20%20%20%20%20%20%20%20%20%20%7B%7D%0A%20%20%20%20%20%20%20%20%20%20%20%20%29.addTo%28map_cbdd0e5fdd554ddd9e0592b8cebf767e%29%3B%0A%20%20%20%20%20%20%20%20%0A%20%20%20%20%0A%20%20%20%20%20%20%20%20var%20popup_be976f6a63a44ad3929a8c2163f54dae%20%3D%20L.popup%28%7B%22maxWidth%22%3A%20%22100%25%22%7D%29%3B%0A%0A%20%20%20%20%20%20%20%20%0A%20%20%20%20%20%20%20%20%20%20%20%20var%20html_005aa04d13f44406ac4de0d1de8a6dab%20%3D%20%24%28%60%3Cdiv%20id%3D%22html_005aa04d13f44406ac4de0d1de8a6dab%22%20style%3D%22width%3A%20100.0%25%3B%20height%3A%20100.0%25%3B%22%3Eplot%3A%20TCFTSR006%3C/div%3E%60%29%5B0%5D%3B%0A%20%20%20%20%20%20%20%20%20%20%20%20popup_be976f6a63a44ad3929a8c2163f54dae.setContent%28html_005aa04d13f44406ac4de0d1de8a6dab%29%3B%0A%20%20%20%20%20%20%20%20%0A%0A%20%20%20%20%20%20%20%20marker_4864bb4b40c64457b9ec4b51fde65367.bindPopup%28popup_be976f6a63a44ad3929a8c2163f54dae%29%0A%20%20%20%20%20%20%20%20%3B%0A%0A%20%20%20%20%20%20%20%20%0A%20%20%20%20%0A%20%20%20%20%0A%20%20%20%20%20%20%20%20%20%20%20%20var%20marker_4de6112ddc1243c09918827d6845e0b2%20%3D%20L.marker%28%0A%20%20%20%20%20%20%20%20%20%20%20%20%20%20%20%20%5B-37.530841%2C%20145.516708%5D%2C%0A%20%20%20%20%20%20%20%20%20%20%20%20%20%20%20%20%7B%7D%0A%20%20%20%20%20%20%20%20%20%20%20%20%29.addTo%28map_cbdd0e5fdd554ddd9e0592b8cebf767e%29%3B%0A%20%20%20%20%20%20%20%20%0A%20%20%20%20%0A%20%20%20%20%20%20%20%20var%20popup_5a38acf101ca49f58ebd504a140f286f%20%3D%20L.popup%28%7B%22maxWidth%22%3A%20%22100%25%22%7D%29%3B%0A%0A%20%20%20%20%20%20%20%20%0A%20%20%20%20%20%20%20%20%20%20%20%20var%20html_a101b10994724f769219e594c9db6c8d%20%3D%20%24%28%60%3Cdiv%20id%3D%22html_a101b10994724f769219e594c9db6c8d%22%20style%3D%22width%3A%20100.0%25%3B%20height%3A%20100.0%25%3B%22%3Eplot%3A%20VCFSEH001%3C/div%3E%60%29%5B0%5D%3B%0A%20%20%20%20%20%20%20%20%20%20%20%20popup_5a38acf101ca49f58ebd504a140f286f.setContent%28html_a101b10994724f769219e594c9db6c8d%29%3B%0A%20%20%20%20%20%20%20%20%0A%0A%20%20%20%20%20%20%20%20marker_4de6112ddc1243c09918827d6845e0b2.bindPopup%28popup_5a38acf101ca49f58ebd504a140f286f%29%0A%20%20%20%20%20%20%20%20%3B%0A%0A%20%20%20%20%20%20%20%20%0A%20%20%20%20%0A%20%20%20%20%0A%20%20%20%20%20%20%20%20%20%20%20%20var%20marker_08d0510fb9604d2691ca13694826ac33%20%3D%20L.marker%28%0A%20%20%20%20%20%20%20%20%20%20%20%20%20%20%20%20%5B-37.804973%2C%20145.867273%5D%2C%0A%20%20%20%20%20%20%20%20%20%20%20%20%20%20%20%20%7B%7D%0A%20%20%20%20%20%20%20%20%20%20%20%20%29.addTo%28map_cbdd0e5fdd554ddd9e0592b8cebf767e%29%3B%0A%20%20%20%20%20%20%20%20%0A%20%20%20%20%0A%20%20%20%20%20%20%20%20var%20popup_1f20b63dbb724b388c7d4f544df1a56a%20%3D%20L.popup%28%7B%22maxWidth%22%3A%20%22100%25%22%7D%29%3B%0A%0A%20%20%20%20%20%20%20%20%0A%20%20%20%20%20%20%20%20%20%20%20%20var%20html_205213410a204918b4a45b7509169ec4%20%3D%20%24%28%60%3Cdiv%20id%3D%22html_205213410a204918b4a45b7509169ec4%22%20style%3D%22width%3A%20100.0%25%3B%20height%3A%20100.0%25%3B%22%3Eplot%3A%20VCFSEH002%3C/div%3E%60%29%5B0%5D%3B%0A%20%20%20%20%20%20%20%20%20%20%20%20popup_1f20b63dbb724b388c7d4f544df1a56a.setContent%28html_205213410a204918b4a45b7509169ec4%29%3B%0A%20%20%20%20%20%20%20%20%0A%0A%20%20%20%20%20%20%20%20marker_08d0510fb9604d2691ca13694826ac33.bindPopup%28popup_1f20b63dbb724b388c7d4f544df1a56a%29%0A%20%20%20%20%20%20%20%20%3B%0A%0A%20%20%20%20%20%20%20%20%0A%20%20%20%20%0A%20%20%20%20%0A%20%20%20%20%20%20%20%20%20%20%20%20var%20marker_4aa22b2da18f446998eb4c4ef599b9ae%20%3D%20L.marker%28%0A%20%20%20%20%20%20%20%20%20%20%20%20%20%20%20%20%5B-38.64372%2C%20143.474993%5D%2C%0A%20%20%20%20%20%20%20%20%20%20%20%20%20%20%20%20%7B%7D%0A%20%20%20%20%20%20%20%20%20%20%20%20%29.addTo%28map_cbdd0e5fdd554ddd9e0592b8cebf767e%29%3B%0A%20%20%20%20%20%20%20%20%0A%20%20%20%20%0A%20%20%20%20%20%20%20%20var%20popup_7b055343fb9e465383add2437983ea39%20%3D%20L.popup%28%7B%22maxWidth%22%3A%20%22100%25%22%7D%29%3B%0A%0A%20%20%20%20%20%20%20%20%0A%20%20%20%20%20%20%20%20%20%20%20%20var%20html_29a0c5c9fbca4818af7e5f32e74b7551%20%3D%20%24%28%60%3Cdiv%20id%3D%22html_29a0c5c9fbca4818af7e5f32e74b7551%22%20style%3D%22width%3A%20100.0%25%3B%20height%3A%20100.0%25%3B%22%3Eplot%3A%20VCFSEH003%3C/div%3E%60%29%5B0%5D%3B%0A%20%20%20%20%20%20%20%20%20%20%20%20popup_7b055343fb9e465383add2437983ea39.setContent%28html_29a0c5c9fbca4818af7e5f32e74b7551%29%3B%0A%20%20%20%20%20%20%20%20%0A%0A%20%20%20%20%20%20%20%20marker_4aa22b2da18f446998eb4c4ef599b9ae.bindPopup%28popup_7b055343fb9e465383add2437983ea39%29%0A%20%20%20%20%20%20%20%20%3B%0A%0A%20%20%20%20%20%20%20%20%0A%20%20%20%20%0A%20%20%20%20%0A%20%20%20%20%20%20%20%20%20%20%20%20var%20marker_68c363ad2c8e4985b3a5d795aa6b206a%20%3D%20L.marker%28%0A%20%20%20%20%20%20%20%20%20%20%20%20%20%20%20%20%5B-38.639815%2C%20143.702362%5D%2C%0A%20%20%20%20%20%20%20%20%20%20%20%20%20%20%20%20%7B%7D%0A%20%20%20%20%20%20%20%20%20%20%20%20%29.addTo%28map_cbdd0e5fdd554ddd9e0592b8cebf767e%29%3B%0A%20%20%20%20%20%20%20%20%0A%20%20%20%20%0A%20%20%20%20%20%20%20%20var%20popup_c0c18be360504925876b15f79f9d09b0%20%3D%20L.popup%28%7B%22maxWidth%22%3A%20%22100%25%22%7D%29%3B%0A%0A%20%20%20%20%20%20%20%20%0A%20%20%20%20%20%20%20%20%20%20%20%20var%20html_4706ba80cd6b4a19aed5d3ac6952df8a%20%3D%20%24%28%60%3Cdiv%20id%3D%22html_4706ba80cd6b4a19aed5d3ac6952df8a%22%20style%3D%22width%3A%20100.0%25%3B%20height%3A%20100.0%25%3B%22%3Eplot%3A%20VCFSEH004%3C/div%3E%60%29%5B0%5D%3B%0A%20%20%20%20%20%20%20%20%20%20%20%20popup_c0c18be360504925876b15f79f9d09b0.setContent%28html_4706ba80cd6b4a19aed5d3ac6952df8a%29%3B%0A%20%20%20%20%20%20%20%20%0A%0A%20%20%20%20%20%20%20%20marker_68c363ad2c8e4985b3a5d795aa6b206a.bindPopup%28popup_c0c18be360504925876b15f79f9d09b0%29%0A%20%20%20%20%20%20%20%20%3B%0A%0A%20%20%20%20%20%20%20%20%0A%20%20%20%20%0A%20%20%20%20%0A%20%20%20%20%20%20%20%20%20%20%20%20var%20marker_32605ab1871743db96fc1f642399e596%20%3D%20L.marker%28%0A%20%20%20%20%20%20%20%20%20%20%20%20%20%20%20%20%5B-38.629258%2C%20143.625792%5D%2C%0A%20%20%20%20%20%20%20%20%20%20%20%20%20%20%20%20%7B%7D%0A%20%20%20%20%20%20%20%20%20%20%20%20%29.addTo%28map_cbdd0e5fdd554ddd9e0592b8cebf767e%29%3B%0A%20%20%20%20%20%20%20%20%0A%20%20%20%20%0A%20%20%20%20%20%20%20%20var%20popup_75cf618e989742868977593a462d7ba2%20%3D%20L.popup%28%7B%22maxWidth%22%3A%20%22100%25%22%7D%29%3B%0A%0A%20%20%20%20%20%20%20%20%0A%20%20%20%20%20%20%20%20%20%20%20%20var%20html_5d010cef72674cd9b6df9232cc30e553%20%3D%20%24%28%60%3Cdiv%20id%3D%22html_5d010cef72674cd9b6df9232cc30e553%22%20style%3D%22width%3A%20100.0%25%3B%20height%3A%20100.0%25%3B%22%3Eplot%3A%20VCFSEH005%3C/div%3E%60%29%5B0%5D%3B%0A%20%20%20%20%20%20%20%20%20%20%20%20popup_75cf618e989742868977593a462d7ba2.setContent%28html_5d010cef72674cd9b6df9232cc30e553%29%3B%0A%20%20%20%20%20%20%20%20%0A%0A%20%20%20%20%20%20%20%20marker_32605ab1871743db96fc1f642399e596.bindPopup%28popup_75cf618e989742868977593a462d7ba2%29%0A%20%20%20%20%20%20%20%20%3B%0A%0A%20%20%20%20%20%20%20%20%0A%20%20%20%20%0A%20%20%20%20%0A%20%20%20%20%20%20%20%20%20%20%20%20var%20marker_b8a0def31b644be89da1f64055ffb221%20%3D%20L.marker%28%0A%20%20%20%20%20%20%20%20%20%20%20%20%20%20%20%20%5B-37.59279%2C%20145.626745%5D%2C%0A%20%20%20%20%20%20%20%20%20%20%20%20%20%20%20%20%7B%7D%0A%20%20%20%20%20%20%20%20%20%20%20%20%29.addTo%28map_cbdd0e5fdd554ddd9e0592b8cebf767e%29%3B%0A%20%20%20%20%20%20%20%20%0A%20%20%20%20%0A%20%20%20%20%20%20%20%20var%20popup_8cec22ae2689441d9af5d0cd764975b1%20%3D%20L.popup%28%7B%22maxWidth%22%3A%20%22100%25%22%7D%29%3B%0A%0A%20%20%20%20%20%20%20%20%0A%20%20%20%20%20%20%20%20%20%20%20%20var%20html_9a0394fc0af34da4bc7dd2ea2a8002cb%20%3D%20%24%28%60%3Cdiv%20id%3D%22html_9a0394fc0af34da4bc7dd2ea2a8002cb%22%20style%3D%22width%3A%20100.0%25%3B%20height%3A%20100.0%25%3B%22%3Eplot%3A%20VCFSEH006%3C/div%3E%60%29%5B0%5D%3B%0A%20%20%20%20%20%20%20%20%20%20%20%20popup_8cec22ae2689441d9af5d0cd764975b1.setContent%28html_9a0394fc0af34da4bc7dd2ea2a8002cb%29%3B%0A%20%20%20%20%20%20%20%20%0A%0A%20%20%20%20%20%20%20%20marker_b8a0def31b644be89da1f64055ffb221.bindPopup%28popup_8cec22ae2689441d9af5d0cd764975b1%29%0A%20%20%20%20%20%20%20%20%3B%0A%0A%20%20%20%20%20%20%20%20%0A%20%20%20%20%0A%20%20%20%20%0A%20%20%20%20%20%20%20%20%20%20%20%20var%20marker_290dfeb7c063470ca28cf07df2c70184%20%3D%20L.marker%28%0A%20%20%20%20%20%20%20%20%20%20%20%20%20%20%20%20%5B-37.588718%2C%20145.638847%5D%2C%0A%20%20%20%20%20%20%20%20%20%20%20%20%20%20%20%20%7B%7D%0A%20%20%20%20%20%20%20%20%20%20%20%20%29.addTo%28map_cbdd0e5fdd554ddd9e0592b8cebf767e%29%3B%0A%20%20%20%20%20%20%20%20%0A%20%20%20%20%0A%20%20%20%20%20%20%20%20var%20popup_1c806213f27749a7a6f9a032a8233bf6%20%3D%20L.popup%28%7B%22maxWidth%22%3A%20%22100%25%22%7D%29%3B%0A%0A%20%20%20%20%20%20%20%20%0A%20%20%20%20%20%20%20%20%20%20%20%20var%20html_6c09012a4f59453584f2b049e8a58211%20%3D%20%24%28%60%3Cdiv%20id%3D%22html_6c09012a4f59453584f2b049e8a58211%22%20style%3D%22width%3A%20100.0%25%3B%20height%3A%20100.0%25%3B%22%3Eplot%3A%20VCFSEH007%3C/div%3E%60%29%5B0%5D%3B%0A%20%20%20%20%20%20%20%20%20%20%20%20popup_1c806213f27749a7a6f9a032a8233bf6.setContent%28html_6c09012a4f59453584f2b049e8a58211%29%3B%0A%20%20%20%20%20%20%20%20%0A%0A%20%20%20%20%20%20%20%20marker_290dfeb7c063470ca28cf07df2c70184.bindPopup%28popup_1c806213f27749a7a6f9a032a8233bf6%29%0A%20%20%20%20%20%20%20%20%3B%0A%0A%20%20%20%20%20%20%20%20%0A%20%20%20%20%0A%20%20%20%20%0A%20%20%20%20%20%20%20%20%20%20%20%20var%20marker_da42cb21907b40aab86387c2901512a4%20%3D%20L.marker%28%0A%20%20%20%20%20%20%20%20%20%20%20%20%20%20%20%20%5B-37.569273%2C%20145.546473%5D%2C%0A%20%20%20%20%20%20%20%20%20%20%20%20%20%20%20%20%7B%7D%0A%20%20%20%20%20%20%20%20%20%20%20%20%29.addTo%28map_cbdd0e5fdd554ddd9e0592b8cebf767e%29%3B%0A%20%20%20%20%20%20%20%20%0A%20%20%20%20%0A%20%20%20%20%20%20%20%20var%20popup_b62a7f745d7444829e5128bc2823343c%20%3D%20L.popup%28%7B%22maxWidth%22%3A%20%22100%25%22%7D%29%3B%0A%0A%20%20%20%20%20%20%20%20%0A%20%20%20%20%20%20%20%20%20%20%20%20var%20html_b88342756f904a4481bf9270d9afa524%20%3D%20%24%28%60%3Cdiv%20id%3D%22html_b88342756f904a4481bf9270d9afa524%22%20style%3D%22width%3A%20100.0%25%3B%20height%3A%20100.0%25%3B%22%3Eplot%3A%20VCFSEH008%3C/div%3E%60%29%5B0%5D%3B%0A%20%20%20%20%20%20%20%20%20%20%20%20popup_b62a7f745d7444829e5128bc2823343c.setContent%28html_b88342756f904a4481bf9270d9afa524%29%3B%0A%20%20%20%20%20%20%20%20%0A%0A%20%20%20%20%20%20%20%20marker_da42cb21907b40aab86387c2901512a4.bindPopup%28popup_b62a7f745d7444829e5128bc2823343c%29%0A%20%20%20%20%20%20%20%20%3B%0A%0A%20%20%20%20%20%20%20%20%0A%20%20%20%20%0A%20%20%20%20%0A%20%20%20%20%20%20%20%20%20%20%20%20var%20marker_8925a866dbd44d9b817557a963e1fa74%20%3D%20L.marker%28%0A%20%20%20%20%20%20%20%20%20%20%20%20%20%20%20%20%5B-34.386658%2C%20115.845703%5D%2C%0A%20%20%20%20%20%20%20%20%20%20%20%20%20%20%20%20%7B%7D%0A%20%20%20%20%20%20%20%20%20%20%20%20%29.addTo%28map_cbdd0e5fdd554ddd9e0592b8cebf767e%29%3B%0A%20%20%20%20%20%20%20%20%0A%20%20%20%20%0A%20%20%20%20%20%20%20%20var%20popup_7aae54bfada940fbbc7b9cf365959277%20%3D%20L.popup%28%7B%22maxWidth%22%3A%20%22100%25%22%7D%29%3B%0A%0A%20%20%20%20%20%20%20%20%0A%20%20%20%20%20%20%20%20%20%20%20%20var%20html_4e5aeb063034472c88d3d5e0f7720348%20%3D%20%24%28%60%3Cdiv%20id%3D%22html_4e5aeb063034472c88d3d5e0f7720348%22%20style%3D%22width%3A%20100.0%25%3B%20height%3A%20100.0%25%3B%22%3Eplot%3A%20WAFWAR001%3C/div%3E%60%29%5B0%5D%3B%0A%20%20%20%20%20%20%20%20%20%20%20%20popup_7aae54bfada940fbbc7b9cf365959277.setContent%28html_4e5aeb063034472c88d3d5e0f7720348%29%3B%0A%20%20%20%20%20%20%20%20%0A%0A%20%20%20%20%20%20%20%20marker_8925a866dbd44d9b817557a963e1fa74.bindPopup%28popup_7aae54bfada940fbbc7b9cf365959277%29%0A%20%20%20%20%20%20%20%20%3B%0A%0A%20%20%20%20%20%20%20%20%0A%20%20%20%20%0A%20%20%20%20%0A%20%20%20%20%20%20%20%20%20%20%20%20var%20marker_03077b40429c47d4bc09a3a34d4a1f62%20%3D%20L.marker%28%0A%20%20%20%20%20%20%20%20%20%20%20%20%20%20%20%20%5B-34.577134%2C%20115.983409%5D%2C%0A%20%20%20%20%20%20%20%20%20%20%20%20%20%20%20%20%7B%7D%0A%20%20%20%20%20%20%20%20%20%20%20%20%29.addTo%28map_cbdd0e5fdd554ddd9e0592b8cebf767e%29%3B%0A%20%20%20%20%20%20%20%20%0A%20%20%20%20%0A%20%20%20%20%20%20%20%20var%20popup_79ce77431d22458a8029f93ce20885c6%20%3D%20L.popup%28%7B%22maxWidth%22%3A%20%22100%25%22%7D%29%3B%0A%0A%20%20%20%20%20%20%20%20%0A%20%20%20%20%20%20%20%20%20%20%20%20var%20html_415de18869074ae9ab1198f36e0d626a%20%3D%20%24%28%60%3Cdiv%20id%3D%22html_415de18869074ae9ab1198f36e0d626a%22%20style%3D%22width%3A%20100.0%25%3B%20height%3A%20100.0%25%3B%22%3Eplot%3A%20WAFWAR002%3C/div%3E%60%29%5B0%5D%3B%0A%20%20%20%20%20%20%20%20%20%20%20%20popup_79ce77431d22458a8029f93ce20885c6.setContent%28html_415de18869074ae9ab1198f36e0d626a%29%3B%0A%20%20%20%20%20%20%20%20%0A%0A%20%20%20%20%20%20%20%20marker_03077b40429c47d4bc09a3a34d4a1f62.bindPopup%28popup_79ce77431d22458a8029f93ce20885c6%29%0A%20%20%20%20%20%20%20%20%3B%0A%0A%20%20%20%20%20%20%20%20%0A%20%20%20%20%0A%20%20%20%20%0A%20%20%20%20%20%20%20%20%20%20%20%20var%20marker_c0acb4b26a2a45a3aafc432146e4b41e%20%3D%20L.marker%28%0A%20%20%20%20%20%20%20%20%20%20%20%20%20%20%20%20%5B-34.545976%2C%20115.952205%5D%2C%0A%20%20%20%20%20%20%20%20%20%20%20%20%20%20%20%20%7B%7D%0A%20%20%20%20%20%20%20%20%20%20%20%20%29.addTo%28map_cbdd0e5fdd554ddd9e0592b8cebf767e%29%3B%0A%20%20%20%20%20%20%20%20%0A%20%20%20%20%0A%20%20%20%20%20%20%20%20var%20popup_7ff4da583f514102a5cfe4d0b88a6d64%20%3D%20L.popup%28%7B%22maxWidth%22%3A%20%22100%25%22%7D%29%3B%0A%0A%20%20%20%20%20%20%20%20%0A%20%20%20%20%20%20%20%20%20%20%20%20var%20html_92a8d912632d4929ab80bcf735a7c90f%20%3D%20%24%28%60%3Cdiv%20id%3D%22html_92a8d912632d4929ab80bcf735a7c90f%22%20style%3D%22width%3A%20100.0%25%3B%20height%3A%20100.0%25%3B%22%3Eplot%3A%20WAFWAR003%3C/div%3E%60%29%5B0%5D%3B%0A%20%20%20%20%20%20%20%20%20%20%20%20popup_7ff4da583f514102a5cfe4d0b88a6d64.setContent%28html_92a8d912632d4929ab80bcf735a7c90f%29%3B%0A%20%20%20%20%20%20%20%20%0A%0A%20%20%20%20%20%20%20%20marker_c0acb4b26a2a45a3aafc432146e4b41e.bindPopup%28popup_7ff4da583f514102a5cfe4d0b88a6d64%29%0A%20%20%20%20%20%20%20%20%3B%0A%0A%20%20%20%20%20%20%20%20%0A%20%20%20%20%0A%20%20%20%20%0A%20%20%20%20%20%20%20%20%20%20%20%20var%20marker_db46b0d228d648e2a5460037ce7abc9e%20%3D%20L.marker%28%0A%20%20%20%20%20%20%20%20%20%20%20%20%20%20%20%20%5B-34.849788%2C%20116.687185%5D%2C%0A%20%20%20%20%20%20%20%20%20%20%20%20%20%20%20%20%7B%7D%0A%20%20%20%20%20%20%20%20%20%20%20%20%29.addTo%28map_cbdd0e5fdd554ddd9e0592b8cebf767e%29%3B%0A%20%20%20%20%20%20%20%20%0A%20%20%20%20%0A%20%20%20%20%20%20%20%20var%20popup_bff718a2d48e49879c02de418896cb56%20%3D%20L.popup%28%7B%22maxWidth%22%3A%20%22100%25%22%7D%29%3B%0A%0A%20%20%20%20%20%20%20%20%0A%20%20%20%20%20%20%20%20%20%20%20%20var%20html_cc0d3d47e7344d619c224be98dd6d995%20%3D%20%24%28%60%3Cdiv%20id%3D%22html_cc0d3d47e7344d619c224be98dd6d995%22%20style%3D%22width%3A%20100.0%25%3B%20height%3A%20100.0%25%3B%22%3Eplot%3A%20WAFWAR004%3C/div%3E%60%29%5B0%5D%3B%0A%20%20%20%20%20%20%20%20%20%20%20%20popup_bff718a2d48e49879c02de418896cb56.setContent%28html_cc0d3d47e7344d619c224be98dd6d995%29%3B%0A%20%20%20%20%20%20%20%20%0A%0A%20%20%20%20%20%20%20%20marker_db46b0d228d648e2a5460037ce7abc9e.bindPopup%28popup_bff718a2d48e49879c02de418896cb56%29%0A%20%20%20%20%20%20%20%20%3B%0A%0A%20%20%20%20%20%20%20%20%0A%20%20%20%20%0A%20%20%20%20%0A%20%20%20%20%20%20%20%20%20%20%20%20var%20marker_d69451b016c44029bf0b493b2a976c03%20%3D%20L.marker%28%0A%20%20%20%20%20%20%20%20%20%20%20%20%20%20%20%20%5B-34.980543%2C%20116.879329%5D%2C%0A%20%20%20%20%20%20%20%20%20%20%20%20%20%20%20%20%7B%7D%0A%20%20%20%20%20%20%20%20%20%20%20%20%29.addTo%28map_cbdd0e5fdd554ddd9e0592b8cebf767e%29%3B%0A%20%20%20%20%20%20%20%20%0A%20%20%20%20%0A%20%20%20%20%20%20%20%20var%20popup_de5dc80ddd6f4d219aae604c522a68bf%20%3D%20L.popup%28%7B%22maxWidth%22%3A%20%22100%25%22%7D%29%3B%0A%0A%20%20%20%20%20%20%20%20%0A%20%20%20%20%20%20%20%20%20%20%20%20var%20html_5405116b789943c1827f3ef1d198e613%20%3D%20%24%28%60%3Cdiv%20id%3D%22html_5405116b789943c1827f3ef1d198e613%22%20style%3D%22width%3A%20100.0%25%3B%20height%3A%20100.0%25%3B%22%3Eplot%3A%20WAFWAR005%3C/div%3E%60%29%5B0%5D%3B%0A%20%20%20%20%20%20%20%20%20%20%20%20popup_de5dc80ddd6f4d219aae604c522a68bf.setContent%28html_5405116b789943c1827f3ef1d198e613%29%3B%0A%20%20%20%20%20%20%20%20%0A%0A%20%20%20%20%20%20%20%20marker_d69451b016c44029bf0b493b2a976c03.bindPopup%28popup_de5dc80ddd6f4d219aae604c522a68bf%29%0A%20%20%20%20%20%20%20%20%3B%0A%0A%20%20%20%20%20%20%20%20%0A%20%20%20%20%0A%20%20%20%20%0A%20%20%20%20%20%20%20%20%20%20%20%20var%20marker_1ab993e1642e4c1b9e0133a1c61f067e%20%3D%20L.marker%28%0A%20%20%20%20%20%20%20%20%20%20%20%20%20%20%20%20%5B-34.448862%2C%20116.249838%5D%2C%0A%20%20%20%20%20%20%20%20%20%20%20%20%20%20%20%20%7B%7D%0A%20%20%20%20%20%20%20%20%20%20%20%20%29.addTo%28map_cbdd0e5fdd554ddd9e0592b8cebf767e%29%3B%0A%20%20%20%20%20%20%20%20%0A%20%20%20%20%0A%20%20%20%20%20%20%20%20var%20popup_d969970984694da09175ff3f2400f96b%20%3D%20L.popup%28%7B%22maxWidth%22%3A%20%22100%25%22%7D%29%3B%0A%0A%20%20%20%20%20%20%20%20%0A%20%20%20%20%20%20%20%20%20%20%20%20var%20html_d1f07651ff624305adc77df8cc65e799%20%3D%20%24%28%60%3Cdiv%20id%3D%22html_d1f07651ff624305adc77df8cc65e799%22%20style%3D%22width%3A%20100.0%25%3B%20height%3A%20100.0%25%3B%22%3Eplot%3A%20WAFWAR006%3C/div%3E%60%29%5B0%5D%3B%0A%20%20%20%20%20%20%20%20%20%20%20%20popup_d969970984694da09175ff3f2400f96b.setContent%28html_d1f07651ff624305adc77df8cc65e799%29%3B%0A%20%20%20%20%20%20%20%20%0A%0A%20%20%20%20%20%20%20%20marker_1ab993e1642e4c1b9e0133a1c61f067e.bindPopup%28popup_d969970984694da09175ff3f2400f96b%29%0A%20%20%20%20%20%20%20%20%3B%0A%0A%20%20%20%20%20%20%20%20%0A%20%20%20%20%0A%20%20%20%20%0A%20%20%20%20%20%20%20%20%20%20%20%20var%20marker_75dd6709ea704d9a967b231d24709363%20%3D%20L.marker%28%0A%20%20%20%20%20%20%20%20%20%20%20%20%20%20%20%20%5B-34.824617%2C%20116.786015%5D%2C%0A%20%20%20%20%20%20%20%20%20%20%20%20%20%20%20%20%7B%7D%0A%20%20%20%20%20%20%20%20%20%20%20%20%29.addTo%28map_cbdd0e5fdd554ddd9e0592b8cebf767e%29%3B%0A%20%20%20%20%20%20%20%20%0A%20%20%20%20%0A%20%20%20%20%20%20%20%20var%20popup_3de3cef9f87b40638e10ad42df5f197e%20%3D%20L.popup%28%7B%22maxWidth%22%3A%20%22100%25%22%7D%29%3B%0A%0A%20%20%20%20%20%20%20%20%0A%20%20%20%20%20%20%20%20%20%20%20%20var%20html_4fbbe01062ab4db9899b4897930c047b%20%3D%20%24%28%60%3Cdiv%20id%3D%22html_4fbbe01062ab4db9899b4897930c047b%22%20style%3D%22width%3A%20100.0%25%3B%20height%3A%20100.0%25%3B%22%3Eplot%3A%20WAFWAR007%3C/div%3E%60%29%5B0%5D%3B%0A%20%20%20%20%20%20%20%20%20%20%20%20popup_3de3cef9f87b40638e10ad42df5f197e.setContent%28html_4fbbe01062ab4db9899b4897930c047b%29%3B%0A%20%20%20%20%20%20%20%20%0A%0A%20%20%20%20%20%20%20%20marker_75dd6709ea704d9a967b231d24709363.bindPopup%28popup_3de3cef9f87b40638e10ad42df5f197e%29%0A%20%20%20%20%20%20%20%20%3B%0A%0A%20%20%20%20%20%20%20%20%0A%20%20%20%20%0A%20%20%20%20%0A%20%20%20%20%20%20%20%20%20%20%20%20var%20marker_f274e0fb341f4706a2b57dc52db9cd02%20%3D%20L.marker%28%0A%20%20%20%20%20%20%20%20%20%20%20%20%20%20%20%20%5B-34.995411%2C%20116.650415%5D%2C%0A%20%20%20%20%20%20%20%20%20%20%20%20%20%20%20%20%7B%7D%0A%20%20%20%20%20%20%20%20%20%20%20%20%29.addTo%28map_cbdd0e5fdd554ddd9e0592b8cebf767e%29%3B%0A%20%20%20%20%20%20%20%20%0A%20%20%20%20%0A%20%20%20%20%20%20%20%20var%20popup_9ad60bce22da4b6399328073e345419f%20%3D%20L.popup%28%7B%22maxWidth%22%3A%20%22100%25%22%7D%29%3B%0A%0A%20%20%20%20%20%20%20%20%0A%20%20%20%20%20%20%20%20%20%20%20%20var%20html_3d95408815f94399bf7c6eb2cc4802de%20%3D%20%24%28%60%3Cdiv%20id%3D%22html_3d95408815f94399bf7c6eb2cc4802de%22%20style%3D%22width%3A%20100.0%25%3B%20height%3A%20100.0%25%3B%22%3Eplot%3A%20WAFWAR008%3C/div%3E%60%29%5B0%5D%3B%0A%20%20%20%20%20%20%20%20%20%20%20%20popup_9ad60bce22da4b6399328073e345419f.setContent%28html_3d95408815f94399bf7c6eb2cc4802de%29%3B%0A%20%20%20%20%20%20%20%20%0A%0A%20%20%20%20%20%20%20%20marker_f274e0fb341f4706a2b57dc52db9cd02.bindPopup%28popup_9ad60bce22da4b6399328073e345419f%29%0A%20%20%20%20%20%20%20%20%3B%0A%0A%20%20%20%20%20%20%20%20%0A%20%20%20%20%0A%20%20%20%20%0A%20%20%20%20%20%20%20%20%20%20%20%20var%20marker_41f152f4c53c448ab697ff55f07d3a29%20%3D%20L.marker%28%0A%20%20%20%20%20%20%20%20%20%20%20%20%20%20%20%20%5B-34.507806%2C%20116.12422%5D%2C%0A%20%20%20%20%20%20%20%20%20%20%20%20%20%20%20%20%7B%7D%0A%20%20%20%20%20%20%20%20%20%20%20%20%29.addTo%28map_cbdd0e5fdd554ddd9e0592b8cebf767e%29%3B%0A%20%20%20%20%20%20%20%20%0A%20%20%20%20%0A%20%20%20%20%20%20%20%20var%20popup_32965ed16b9545d08f01731aa9cc8bf4%20%3D%20L.popup%28%7B%22maxWidth%22%3A%20%22100%25%22%7D%29%3B%0A%0A%20%20%20%20%20%20%20%20%0A%20%20%20%20%20%20%20%20%20%20%20%20var%20html_8230aafbf36e4ece921e4d5a1cd2dcf7%20%3D%20%24%28%60%3Cdiv%20id%3D%22html_8230aafbf36e4ece921e4d5a1cd2dcf7%22%20style%3D%22width%3A%20100.0%25%3B%20height%3A%20100.0%25%3B%22%3Eplot%3A%20WAFWAR009%3C/div%3E%60%29%5B0%5D%3B%0A%20%20%20%20%20%20%20%20%20%20%20%20popup_32965ed16b9545d08f01731aa9cc8bf4.setContent%28html_8230aafbf36e4ece921e4d5a1cd2dcf7%29%3B%0A%20%20%20%20%20%20%20%20%0A%0A%20%20%20%20%20%20%20%20marker_41f152f4c53c448ab697ff55f07d3a29.bindPopup%28popup_32965ed16b9545d08f01731aa9cc8bf4%29%0A%20%20%20%20%20%20%20%20%3B%0A%0A%20%20%20%20%20%20%20%20%0A%20%20%20%20%0A%3C/script%3E onload=\"this.contentDocument.open();this.contentDocument.write(    decodeURIComponent(this.getAttribute('data-html')));this.contentDocument.close();\" allowfullscreen webkitallowfullscreen mozallowfullscreen></iframe></div></div>"
      ],
      "text/plain": [
       "<folium.folium.Map at 0x7f26e8183e50>"
      ]
     },
     "execution_count": 15,
     "metadata": {},
     "output_type": "execute_result"
    }
   ],
   "source": [
    "# set location center for map\n",
    "center = [ project_plots[first_plot]['latitude'], project_plots[first_plot]['longitude'] ]\n",
    "# set zoom level, note that depending on the project,\n",
    "# you may wish to increase the zoom level\n",
    "zoom = 3\n",
    "# create a map with Folium and Leaflet.js\n",
    "m = folium.Map(location=center, tiles=\"Stamen Terrain\", zoom_start = zoom)\n",
    "# Add markers to map for each plot in `project_plots`\n",
    "for plot in project_plots.items():\n",
    "    folium.Marker(\n",
    "        [plot[1]['latitude'], plot[1]['longitude']],\n",
    "        popup = f\"plot: {plot[0]}\"\n",
    "    ).add_to(m)\n",
    "# display map\n",
    "m"
   ]
  },
  {
   "cell_type": "markdown",
   "metadata": {},
   "source": [
    "The map has zoom in and zoom out buttons, can be dragged with a mouse, and displays markers which can be clicked on to display their popup text."
   ]
  },
  {
   "cell_type": "markdown",
   "metadata": {},
   "source": [
    "#### Plot Trees"
   ]
  },
  {
   "cell_type": "markdown",
   "metadata": {},
   "source": [
    "Now let's look at plotting trees for the first plot of the designated project. We construct another query with our `fetch_results` helper function. This time, we query for fields containing plant height, UTM coordinates, and elevation as well as set the `table` parameter to \"tree\"."
   ]
  },
  {
   "cell_type": "code",
   "execution_count": 16,
   "metadata": {},
   "outputs": [],
   "source": [
    "# query for trees for the first plot of the project\n",
    "results = fetch_results({\n",
    "    \"bbox\": [-180, 90, 180, -90],\n",
    "    \"where\": {\n",
    "        \"project\": project,\n",
    "        \"plot\": first_plot\n",
    "    },\n",
    "    # h.t -> total height of plant from ground to highest leaf\n",
    "    # x -> easting UTM coordinate\n",
    "    # y -> northing UTM coordinate\n",
    "    # z -> elevation relative to geoid coordinate\n",
    "    \"fields\": [ \"h.t\", \"x\", \"y\", \"z\"],\n",
    "    \"table\": \"tree\"\n",
    "}, 1000)"
   ]
  },
  {
   "cell_type": "markdown",
   "metadata": {},
   "source": [
    "#### Determine the Number and Height of Trees"
   ]
  },
  {
   "cell_type": "markdown",
   "metadata": {},
   "source": [
    "To see the number of trees in the list of results, we use the `len` function within a formatted print statement. Since not all of the results contain heights, lets check how many trees with height data exist by creating a new variable set to the results with heights and use the `len` function within a formatted print statement again. Also, we can set variables to contain the heights, x and y values contained within our results to be used when plotting the trees."
   ]
  },
  {
   "cell_type": "code",
   "execution_count": 17,
   "metadata": {},
   "outputs": [
    {
     "name": "stdout",
     "output_type": "stream",
     "text": [
      "Number of trees: 520\n",
      "Number of trees with heights: 117\n"
     ]
    }
   ],
   "source": [
    "# print number of trees in results\n",
    "print(f\"Number of trees: {len(results)}\")\n",
    "# print number of trees with heights\n",
    "heights = [r[\"h.t\"] for r in results if r[\"h.t\"] is not None]\n",
    "print(f\"Number of trees with heights: {len(heights)}\")\n",
    "# set variables to the heights, x and y values contained in the results\n",
    "hts = [r['h.t'] for r in results] \n",
    "xs = [r['x'] for r in results]\n",
    "ys = [r['y'] for r in results]"
   ]
  },
  {
   "cell_type": "markdown",
   "metadata": {},
   "source": [
    "#### Plot the Trees"
   ]
  },
  {
   "cell_type": "markdown",
   "metadata": {},
   "source": [
    "With our variables for tree heights, x and y coordinate values, let's use the `plt.scatter` function to create a scatter plot with a title and labels for the UTM coordinates of the trees. Lastly, let's also create a histogram using `plt.hist` to visualize the distribution of tree heights. Here we also include some code to adjust the display colors and add labels and a title."
   ]
  },
  {
   "cell_type": "code",
   "execution_count": 18,
   "metadata": {},
   "outputs": [
    {
     "data": {
      "image/png": "[encoded data removed]",
      "text/plain": [
       "<Figure size 432x288 with 1 Axes>"
      ]
     },
     "metadata": {
      "needs_background": "light"
     },
     "output_type": "display_data"
    },
    {
     "data": {
      "image/png": "[encoded data removed]",
      "text/plain": [
       "<Figure size 432x288 with 1 Axes>"
      ]
     },
     "metadata": {
      "needs_background": "light"
     },
     "output_type": "display_data"
    }
   ],
   "source": [
    "# create scatter plot with x and y values\n",
    "plt.scatter(xs, ys, c=hts, cmap=\"Greens\")\n",
    "# add labels and title\n",
    "plt.xlabel('Easting UTM Coordinate')\n",
    "plt.ylabel('Northing UTM Coordinate')\n",
    "plt.title(f\"UTM Coordinates for Plot {first_plot} in Project {project}\\n\", fontsize=22)\n",
    "plt.show()\n",
    "# adjust display colors\n",
    "cm = plt.cm.Greens\n",
    "nbins = 8\n",
    "# create histogram for tree heights\n",
    "n, bins, patches = plt.hist(x=heights, bins=nbins, rwidth=0.85)\n",
    "for i, p in enumerate(patches):\n",
    "    plt.setp(p, 'facecolor', cm(i/nbins))\n",
    "# add labels and title\n",
    "plt.xlabel('Height')\n",
    "plt.ylabel('Frequency')\n",
    "plt.title(f\"Tree Heights for Plot {first_plot} in Project {project}\\n\", fontsize=22)\n",
    "plt.show()\n"
   ]
  }
 ],
 "metadata": {
  "kernelspec": {
   "display_name": "Python 3",
   "language": "python",
   "name": "python3"
  },
  "language_info": {
   "codemirror_mode": {
    "name": "ipython",
    "version": 3
   },
   "file_extension": ".py",
   "mimetype": "text/x-python",
   "name": "python",
   "nbconvert_exporter": "python",
   "pygments_lexer": "ipython3",
   "version": "3.7.8"
  }
 },
 "nbformat": 4,
 "nbformat_minor": 4
}
