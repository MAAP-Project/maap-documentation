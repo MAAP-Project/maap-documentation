{
 "cells": [
  {
   "cell_type": "code",
   "execution_count": 4,
   "metadata": {},
   "outputs": [],
   "source": [
    "#!pip install https://git.ligo.org/cds/gpstime/-/archive/0.4.4/gpstime-0.4.4.zip"
   ]
  },
  {
   "cell_type": "markdown",
   "metadata": {},
   "source": [
    "## Warning: this notebook requires a working PDAL installation\n",
    "\n",
    "See https://pdal.io/download.html#download for how to install pdal"
   ]
  },
  {
   "cell_type": "code",
   "execution_count": 1,
   "metadata": {},
   "outputs": [],
   "source": [
    "import pdal\n",
    "import json\n",
    "import os\n",
    "import folium\n",
    "import geopandas as gpd\n",
    "from pyproj import CRS, Transformer\n",
    "import datetime\n",
    "import gpstime"
   ]
  },
  {
   "cell_type": "markdown",
   "metadata": {},
   "source": [
    "# Querying ATL08 Entwine Point Tiles\n",
    "\n",
    "This notebook provides sample code for querying and visualizing the Entwine Point Tiles Store for ATL08 V003.\n",
    "\n",
    "[Entwine Point Tiles (EPT)](https://entwine.io/entwine-point-tile.html) are a new \"cloud-optimized\" storage format for large point cloud data."
   ]
  },
  {
   "cell_type": "markdown",
   "metadata": {},
   "source": [
    "## Variables\n",
    "\n",
    "The data columns in the EPT data correspond to the following ATL08 variables:\n",
    "\n",
    "* Z - `gtx/land_segments/dem_h`\n",
    "* ElevationLow - `gtx/land_segments/terrain/h_te_best_fit`\n",
    "* HeightAboveGround - `gtx/land_segments/canopy/h_canopy`\n",
    "* OriginId - `OriginId` is a numeric reference to an origin file, and references for all `OriginId`s can be found in `ept-sources/list.json`. The origin file is a las file passed as `origin` to the pdal EPT reader.\n",
    "* GpsTime - `GpsTime` is the addition of the value of the HDF field `/ancillary_data/atlas_sdp_gps_epoch` (`1198800018`) and `gtx/land_segments/delta_time`.\n",
    "\n",
    "Read more about those variables in the [ATL08 Data Dictionary](https://nsidc.org/sites/nsidc.org/files/technical-references/ICESat2_ATL08_data_dict_v003.pdf)."
   ]
  },
  {
   "cell_type": "markdown",
   "metadata": {},
   "source": [
    "## PDAL Pipelines\n",
    "\n",
    "PDAL pipelines can be used for a large set of data querying functionality, such as filtering data variables to be within a given range. Read more about different PDAL pipeline options here: https://pdal.io/pipeline.html"
   ]
  },
  {
   "cell_type": "code",
   "execution_count": 2,
   "metadata": {},
   "outputs": [],
   "source": [
    "## Define the global EPT source for our data queries\n",
    "ept_store = \"s3://cumulus-map-internal/file-staging/nasa-map/ATL08_ARD-beta___001/global/ept/ept.json\"\n",
    "\n",
    "## Define a function for running a pdal pipeline and returning the filename as output\n",
    "def run_pipeline(pipeline_def, output_file):\n",
    "    pipeline_def[-1][\"filename\"] = output_file\n",
    "    pipeline_json =  json.dumps(pipeline_def)\n",
    "    pipeline = pdal.Pipeline(pipeline_json)\n",
    "\n",
    "    # remove the output file before building a new one\n",
    "    if os.path.exists(output_file):\n",
    "        os.remove(output_file)\n",
    "\n",
    "    count = pipeline.execute()\n",
    "    data = open(output_file, 'r').read()\n",
    "    data = data.replace(\"[,{\", \"[{\").replace(\"}{\", \"},{\")\n",
    "    open(output_file, 'w').write(data)\n",
    "    return output_file"
   ]
  },
  {
   "cell_type": "markdown",
   "metadata": {},
   "source": [
    "## Query by Granule using OriginId\n",
    "\n",
    "To query for data from a particular granule, we can use the filename prefix to query the EPT store by `origin`."
   ]
  },
  {
   "cell_type": "code",
   "execution_count": 3,
   "metadata": {},
   "outputs": [
    {
     "data": {
      "text/plain": [
       "'ATL08_20181026111023_04250106_003_01-subset.geojson'"
      ]
     },
     "execution_count": 3,
     "metadata": {},
     "output_type": "execute_result"
    }
   ],
   "source": [
    "granule_id = \"ATL08_20181026111023_04250106_003_01\"\n",
    "output_geojson = f\"{granule_id}-subset.geojson\"\n",
    "\n",
    "pipeline_def = [\n",
    "    {\n",
    "        \"type\": \"readers.ept\",\n",
    "        \"filename\": ept_store,\n",
    "        \"origin\": f\"{granule_id}.las\"\n",
    "    },\n",
    "    {\n",
    "        \"type\": \"filters.reprojection\",\n",
    "        \"out_srs\":\"EPSG:4326\"\n",
    "    },\n",
    "    {\n",
    "        \"type\" : \"writers.text\",\n",
    "        \"format\": \"geojson\",\n",
    "        \"write_header\": True\n",
    "    }\n",
    "]\n",
    "\n",
    "run_pipeline(pipeline_def, output_geojson)"
   ]
  },
  {
   "cell_type": "markdown",
   "metadata": {},
   "source": [
    "## Query by Bounding Box\n",
    "\n",
    "To query for data for a bounding box, we first have to convert coordinates to the CRS of the EPT store (EPSG:3857)."
   ]
  },
  {
   "cell_type": "code",
   "execution_count": 4,
   "metadata": {},
   "outputs": [
    {
     "data": {
      "text/plain": [
       "'([1127655.3097867817, 1127666.4417358614], [-11.131949079964679, 0.0])'"
      ]
     },
     "execution_count": 4,
     "metadata": {},
     "output_type": "execute_result"
    }
   ],
   "source": [
    "xmin, xmax = 10.1299,10.13\n",
    "ymin, ymax = -0.0001,0\n",
    "transformer = Transformer.from_crs(\"EPSG:4326\", \"EPSG:3857\", always_xy=True)\n",
    "xmin, ymax = transformer.transform(xmin, ymax)\n",
    "xmax, ymin = transformer.transform(xmax, ymin)\n",
    "pdal_aoi_bounds = f\"([{xmin}, {xmax}], [{ymin}, {ymax}])\"\n",
    "pdal_aoi_bounds"
   ]
  },
  {
   "cell_type": "code",
   "execution_count": null,
   "metadata": {},
   "outputs": [],
   "source": [
    "pipeline_def = [\n",
    "    {\n",
    "        \"type\": \"readers.ept\",\n",
    "        \"filename\": ept_store\n",
    "    },\n",
    "    {\n",
    "        \"type\":\"filters.crop\",\n",
    "        \"bounds\": pdal_aoi_bounds\n",
    "    },\n",
    "    {\n",
    "        \"type\" : \"writers.text\",\n",
    "        \"format\": \"geojson\",\n",
    "        \"write_header\": True\n",
    "    }\n",
    "]\n",
    "\n",
    "run_pipeline(pipeline_def, \"spatial-subset.geojson\")"
   ]
  },
  {
   "cell_type": "markdown",
   "metadata": {},
   "source": [
    "## Convert GpsTime to Datetime\n",
    "\n",
    "As described above, the data contains the field `GpsTime`:\n",
    "\n",
    ">GPS Time (GPST) is a continuous time scale (no leap seconds) defined by the GPS Control segment on the basis of a set of atomic clocks at the Monitor Stations and onboard the satellites. It starts at 0h UTC (midnight) of January 5th to 6th 1980.\n",
    "\n",
    "[Source gssc.esa.int](https://gssc.esa.int/navipedia/index.php/Time_References_in_GNSS#:~:text=GPS%20Time%20(GPST)%20is%20a,5th%20to%206th%201980%20(6.&text=0).)"
   ]
  },
  {
   "cell_type": "code",
   "execution_count": 12,
   "metadata": {},
   "outputs": [
    {
     "data": {
      "text/plain": [
       "datetime.datetime(2018, 10, 26, 11, 12, 19, 969000)"
      ]
     },
     "execution_count": 12,
     "metadata": {},
     "output_type": "execute_result"
    }
   ],
   "source": [
    "timestamp = gpstime.gps2unix(1224587557.969)\n",
    "datetime.datetime.fromtimestamp(timestamp)"
   ]
  },
  {
   "cell_type": "markdown",
   "metadata": {},
   "source": [
    "## Working with the results\n",
    "\n",
    "Below are a number of examples of how to work with the geojson output from the example pipelines above."
   ]
  },
  {
   "cell_type": "markdown",
   "metadata": {},
   "source": [
    "### Reading into a data frame"
   ]
  },
  {
   "cell_type": "code",
   "execution_count": 17,
   "metadata": {},
   "outputs": [
    {
     "data": {
      "text/html": [
       "<div>\n",
       "<style scoped>\n",
       "    .dataframe tbody tr th:only-of-type {\n",
       "        vertical-align: middle;\n",
       "    }\n",
       "\n",
       "    .dataframe tbody tr th {\n",
       "        vertical-align: top;\n",
       "    }\n",
       "\n",
       "    .dataframe thead th {\n",
       "        text-align: right;\n",
       "    }\n",
       "</style>\n",
       "<table border=\"1\" class=\"dataframe\">\n",
       "  <thead>\n",
       "    <tr style=\"text-align: right;\">\n",
       "      <th></th>\n",
       "      <th>X</th>\n",
       "      <th>Y</th>\n",
       "      <th>Z</th>\n",
       "      <th>Intensity</th>\n",
       "      <th>ReturnNumber</th>\n",
       "      <th>NumberOfReturns</th>\n",
       "      <th>ScanDirectionFlag</th>\n",
       "      <th>EdgeOfFlightLine</th>\n",
       "      <th>Classification</th>\n",
       "      <th>ScanAngleRank</th>\n",
       "      <th>...</th>\n",
       "      <th>GpsTime</th>\n",
       "      <th>Red</th>\n",
       "      <th>Green</th>\n",
       "      <th>Blue</th>\n",
       "      <th>ScanChannel</th>\n",
       "      <th>ClassFlags</th>\n",
       "      <th>HeightAboveGround</th>\n",
       "      <th>OffsetTime</th>\n",
       "      <th>OriginId</th>\n",
       "      <th>geometry</th>\n",
       "    </tr>\n",
       "  </thead>\n",
       "  <tbody>\n",
       "    <tr>\n",
       "      <th>0</th>\n",
       "      <td>-120.400</td>\n",
       "      <td>52.990</td>\n",
       "      <td>1798.850</td>\n",
       "      <td>0.000</td>\n",
       "      <td>1.000</td>\n",
       "      <td>1.000</td>\n",
       "      <td>0.000</td>\n",
       "      <td>0.000</td>\n",
       "      <td>0.000</td>\n",
       "      <td>0.000</td>\n",
       "      <td>...</td>\n",
       "      <td>1224587544.786</td>\n",
       "      <td>241.000</td>\n",
       "      <td>243.000</td>\n",
       "      <td>220.000</td>\n",
       "      <td>0.000</td>\n",
       "      <td>0.000</td>\n",
       "      <td>11.810</td>\n",
       "      <td>25787527.000</td>\n",
       "      <td>1656.000</td>\n",
       "      <td>POINT Z (-120.40000 52.99000 1798.85000)</td>\n",
       "    </tr>\n",
       "    <tr>\n",
       "      <th>1</th>\n",
       "      <td>-120.380</td>\n",
       "      <td>52.790</td>\n",
       "      <td>1898.400</td>\n",
       "      <td>0.000</td>\n",
       "      <td>1.000</td>\n",
       "      <td>1.000</td>\n",
       "      <td>0.000</td>\n",
       "      <td>0.000</td>\n",
       "      <td>0.000</td>\n",
       "      <td>0.000</td>\n",
       "      <td>...</td>\n",
       "      <td>1224587547.798</td>\n",
       "      <td>253.000</td>\n",
       "      <td>241.000</td>\n",
       "      <td>216.000</td>\n",
       "      <td>0.000</td>\n",
       "      <td>0.000</td>\n",
       "      <td>9.477</td>\n",
       "      <td>25787530.000</td>\n",
       "      <td>1656.000</td>\n",
       "      <td>POINT Z (-120.38000 52.79000 1898.40000)</td>\n",
       "    </tr>\n",
       "    <tr>\n",
       "      <th>2</th>\n",
       "      <td>-120.420</td>\n",
       "      <td>52.530</td>\n",
       "      <td>1566.290</td>\n",
       "      <td>0.000</td>\n",
       "      <td>1.000</td>\n",
       "      <td>1.000</td>\n",
       "      <td>0.000</td>\n",
       "      <td>0.000</td>\n",
       "      <td>0.000</td>\n",
       "      <td>0.000</td>\n",
       "      <td>...</td>\n",
       "      <td>1224587552.004</td>\n",
       "      <td>192.000</td>\n",
       "      <td>221.000</td>\n",
       "      <td>206.000</td>\n",
       "      <td>0.000</td>\n",
       "      <td>0.000</td>\n",
       "      <td>20.610</td>\n",
       "      <td>25787534.000</td>\n",
       "      <td>1656.000</td>\n",
       "      <td>POINT Z (-120.42000 52.53000 1566.29000)</td>\n",
       "    </tr>\n",
       "    <tr>\n",
       "      <th>3</th>\n",
       "      <td>-121.790</td>\n",
       "      <td>43.670</td>\n",
       "      <td>1304.740</td>\n",
       "      <td>0.000</td>\n",
       "      <td>1.000</td>\n",
       "      <td>1.000</td>\n",
       "      <td>0.000</td>\n",
       "      <td>0.000</td>\n",
       "      <td>0.000</td>\n",
       "      <td>0.000</td>\n",
       "      <td>...</td>\n",
       "      <td>1224587691.200</td>\n",
       "      <td>117.000</td>\n",
       "      <td>172.000</td>\n",
       "      <td>166.000</td>\n",
       "      <td>0.000</td>\n",
       "      <td>0.000</td>\n",
       "      <td>11.290</td>\n",
       "      <td>25787673.000</td>\n",
       "      <td>1656.000</td>\n",
       "      <td>POINT Z (-121.79000 43.67000 1304.74000)</td>\n",
       "    </tr>\n",
       "    <tr>\n",
       "      <th>4</th>\n",
       "      <td>-120.430</td>\n",
       "      <td>53.120</td>\n",
       "      <td>1737.410</td>\n",
       "      <td>0.000</td>\n",
       "      <td>1.000</td>\n",
       "      <td>1.000</td>\n",
       "      <td>0.000</td>\n",
       "      <td>0.000</td>\n",
       "      <td>0.000</td>\n",
       "      <td>0.000</td>\n",
       "      <td>...</td>\n",
       "      <td>1224587542.720</td>\n",
       "      <td>232.000</td>\n",
       "      <td>240.000</td>\n",
       "      <td>220.000</td>\n",
       "      <td>0.000</td>\n",
       "      <td>0.000</td>\n",
       "      <td>4.658</td>\n",
       "      <td>25787525.000</td>\n",
       "      <td>1656.000</td>\n",
       "      <td>POINT Z (-120.43000 53.12000 1737.41000)</td>\n",
       "    </tr>\n",
       "    <tr>\n",
       "      <th>...</th>\n",
       "      <td>...</td>\n",
       "      <td>...</td>\n",
       "      <td>...</td>\n",
       "      <td>...</td>\n",
       "      <td>...</td>\n",
       "      <td>...</td>\n",
       "      <td>...</td>\n",
       "      <td>...</td>\n",
       "      <td>...</td>\n",
       "      <td>...</td>\n",
       "      <td>...</td>\n",
       "      <td>...</td>\n",
       "      <td>...</td>\n",
       "      <td>...</td>\n",
       "      <td>...</td>\n",
       "      <td>...</td>\n",
       "      <td>...</td>\n",
       "      <td>...</td>\n",
       "      <td>...</td>\n",
       "      <td>...</td>\n",
       "      <td>...</td>\n",
       "    </tr>\n",
       "    <tr>\n",
       "      <th>5529</th>\n",
       "      <td>-120.540</td>\n",
       "      <td>52.110</td>\n",
       "      <td>2020.160</td>\n",
       "      <td>0.000</td>\n",
       "      <td>1.000</td>\n",
       "      <td>1.000</td>\n",
       "      <td>0.000</td>\n",
       "      <td>0.000</td>\n",
       "      <td>0.000</td>\n",
       "      <td>0.000</td>\n",
       "      <td>...</td>\n",
       "      <td>1224587558.603</td>\n",
       "      <td>255.000</td>\n",
       "      <td>231.000</td>\n",
       "      <td>203.000</td>\n",
       "      <td>0.000</td>\n",
       "      <td>0.000</td>\n",
       "      <td>9.739</td>\n",
       "      <td>25787541.000</td>\n",
       "      <td>1656.000</td>\n",
       "      <td>POINT Z (-120.54000 52.11000 2020.16000)</td>\n",
       "    </tr>\n",
       "    <tr>\n",
       "      <th>5530</th>\n",
       "      <td>-120.540</td>\n",
       "      <td>52.110</td>\n",
       "      <td>2042.320</td>\n",
       "      <td>0.000</td>\n",
       "      <td>1.000</td>\n",
       "      <td>1.000</td>\n",
       "      <td>0.000</td>\n",
       "      <td>0.000</td>\n",
       "      <td>0.000</td>\n",
       "      <td>0.000</td>\n",
       "      <td>...</td>\n",
       "      <td>1224587558.617</td>\n",
       "      <td>255.000</td>\n",
       "      <td>228.000</td>\n",
       "      <td>199.000</td>\n",
       "      <td>0.000</td>\n",
       "      <td>0.000</td>\n",
       "      <td>9.021</td>\n",
       "      <td>25787541.000</td>\n",
       "      <td>1656.000</td>\n",
       "      <td>POINT Z (-120.54000 52.11000 2042.32000)</td>\n",
       "    </tr>\n",
       "    <tr>\n",
       "      <th>5531</th>\n",
       "      <td>-120.540</td>\n",
       "      <td>52.110</td>\n",
       "      <td>2069.380</td>\n",
       "      <td>0.000</td>\n",
       "      <td>1.000</td>\n",
       "      <td>1.000</td>\n",
       "      <td>0.000</td>\n",
       "      <td>0.000</td>\n",
       "      <td>0.000</td>\n",
       "      <td>0.000</td>\n",
       "      <td>...</td>\n",
       "      <td>1224587558.631</td>\n",
       "      <td>255.000</td>\n",
       "      <td>225.000</td>\n",
       "      <td>195.000</td>\n",
       "      <td>0.000</td>\n",
       "      <td>0.000</td>\n",
       "      <td>9.126</td>\n",
       "      <td>25787541.000</td>\n",
       "      <td>1656.000</td>\n",
       "      <td>POINT Z (-120.54000 52.11000 2069.38000)</td>\n",
       "    </tr>\n",
       "    <tr>\n",
       "      <th>5532</th>\n",
       "      <td>-120.540</td>\n",
       "      <td>52.110</td>\n",
       "      <td>2103.160</td>\n",
       "      <td>0.000</td>\n",
       "      <td>1.000</td>\n",
       "      <td>1.000</td>\n",
       "      <td>0.000</td>\n",
       "      <td>0.000</td>\n",
       "      <td>0.000</td>\n",
       "      <td>0.000</td>\n",
       "      <td>...</td>\n",
       "      <td>1224587558.645</td>\n",
       "      <td>255.000</td>\n",
       "      <td>219.000</td>\n",
       "      <td>188.000</td>\n",
       "      <td>0.000</td>\n",
       "      <td>0.000</td>\n",
       "      <td>13.731</td>\n",
       "      <td>25787541.000</td>\n",
       "      <td>1656.000</td>\n",
       "      <td>POINT Z (-120.54000 52.11000 2103.16000)</td>\n",
       "    </tr>\n",
       "    <tr>\n",
       "      <th>5533</th>\n",
       "      <td>-120.540</td>\n",
       "      <td>52.110</td>\n",
       "      <td>2131.790</td>\n",
       "      <td>0.000</td>\n",
       "      <td>1.000</td>\n",
       "      <td>1.000</td>\n",
       "      <td>0.000</td>\n",
       "      <td>0.000</td>\n",
       "      <td>0.000</td>\n",
       "      <td>0.000</td>\n",
       "      <td>...</td>\n",
       "      <td>1224587558.659</td>\n",
       "      <td>255.000</td>\n",
       "      <td>215.000</td>\n",
       "      <td>183.000</td>\n",
       "      <td>0.000</td>\n",
       "      <td>0.000</td>\n",
       "      <td>15.327</td>\n",
       "      <td>25787541.000</td>\n",
       "      <td>1656.000</td>\n",
       "      <td>POINT Z (-120.54000 52.11000 2131.79000)</td>\n",
       "    </tr>\n",
       "  </tbody>\n",
       "</table>\n",
       "<p>5534 rows × 22 columns</p>\n",
       "</div>"
      ],
      "text/plain": [
       "             X       Y         Z Intensity ReturnNumber NumberOfReturns  \\\n",
       "0     -120.400  52.990  1798.850     0.000        1.000           1.000   \n",
       "1     -120.380  52.790  1898.400     0.000        1.000           1.000   \n",
       "2     -120.420  52.530  1566.290     0.000        1.000           1.000   \n",
       "3     -121.790  43.670  1304.740     0.000        1.000           1.000   \n",
       "4     -120.430  53.120  1737.410     0.000        1.000           1.000   \n",
       "...        ...     ...       ...       ...          ...             ...   \n",
       "5529  -120.540  52.110  2020.160     0.000        1.000           1.000   \n",
       "5530  -120.540  52.110  2042.320     0.000        1.000           1.000   \n",
       "5531  -120.540  52.110  2069.380     0.000        1.000           1.000   \n",
       "5532  -120.540  52.110  2103.160     0.000        1.000           1.000   \n",
       "5533  -120.540  52.110  2131.790     0.000        1.000           1.000   \n",
       "\n",
       "     ScanDirectionFlag EdgeOfFlightLine Classification ScanAngleRank  ...  \\\n",
       "0                0.000            0.000          0.000         0.000  ...   \n",
       "1                0.000            0.000          0.000         0.000  ...   \n",
       "2                0.000            0.000          0.000         0.000  ...   \n",
       "3                0.000            0.000          0.000         0.000  ...   \n",
       "4                0.000            0.000          0.000         0.000  ...   \n",
       "...                ...              ...            ...           ...  ...   \n",
       "5529             0.000            0.000          0.000         0.000  ...   \n",
       "5530             0.000            0.000          0.000         0.000  ...   \n",
       "5531             0.000            0.000          0.000         0.000  ...   \n",
       "5532             0.000            0.000          0.000         0.000  ...   \n",
       "5533             0.000            0.000          0.000         0.000  ...   \n",
       "\n",
       "             GpsTime      Red    Green     Blue ScanChannel ClassFlags  \\\n",
       "0     1224587544.786  241.000  243.000  220.000       0.000      0.000   \n",
       "1     1224587547.798  253.000  241.000  216.000       0.000      0.000   \n",
       "2     1224587552.004  192.000  221.000  206.000       0.000      0.000   \n",
       "3     1224587691.200  117.000  172.000  166.000       0.000      0.000   \n",
       "4     1224587542.720  232.000  240.000  220.000       0.000      0.000   \n",
       "...              ...      ...      ...      ...         ...        ...   \n",
       "5529  1224587558.603  255.000  231.000  203.000       0.000      0.000   \n",
       "5530  1224587558.617  255.000  228.000  199.000       0.000      0.000   \n",
       "5531  1224587558.631  255.000  225.000  195.000       0.000      0.000   \n",
       "5532  1224587558.645  255.000  219.000  188.000       0.000      0.000   \n",
       "5533  1224587558.659  255.000  215.000  183.000       0.000      0.000   \n",
       "\n",
       "     HeightAboveGround    OffsetTime  OriginId  \\\n",
       "0               11.810  25787527.000  1656.000   \n",
       "1                9.477  25787530.000  1656.000   \n",
       "2               20.610  25787534.000  1656.000   \n",
       "3               11.290  25787673.000  1656.000   \n",
       "4                4.658  25787525.000  1656.000   \n",
       "...                ...           ...       ...   \n",
       "5529             9.739  25787541.000  1656.000   \n",
       "5530             9.021  25787541.000  1656.000   \n",
       "5531             9.126  25787541.000  1656.000   \n",
       "5532            13.731  25787541.000  1656.000   \n",
       "5533            15.327  25787541.000  1656.000   \n",
       "\n",
       "                                      geometry  \n",
       "0     POINT Z (-120.40000 52.99000 1798.85000)  \n",
       "1     POINT Z (-120.38000 52.79000 1898.40000)  \n",
       "2     POINT Z (-120.42000 52.53000 1566.29000)  \n",
       "3     POINT Z (-121.79000 43.67000 1304.74000)  \n",
       "4     POINT Z (-120.43000 53.12000 1737.41000)  \n",
       "...                                        ...  \n",
       "5529  POINT Z (-120.54000 52.11000 2020.16000)  \n",
       "5530  POINT Z (-120.54000 52.11000 2042.32000)  \n",
       "5531  POINT Z (-120.54000 52.11000 2069.38000)  \n",
       "5532  POINT Z (-120.54000 52.11000 2103.16000)  \n",
       "5533  POINT Z (-120.54000 52.11000 2131.79000)  \n",
       "\n",
       "[5534 rows x 22 columns]"
      ]
     },
     "execution_count": 17,
     "metadata": {},
     "output_type": "execute_result"
    }
   ],
   "source": [
    "df = gpd.read_file(output_geojson)\n",
    "gdf = gpd.GeoDataFrame(df, crs='epsg:4326')\n",
    "gdf"
   ]
  },
  {
   "cell_type": "markdown",
   "metadata": {},
   "source": [
    "## Visualization\n",
    "\n",
    "We can use folium to map the data."
   ]
  },
  {
   "cell_type": "code",
   "execution_count": 9,
   "metadata": {},
   "outputs": [
    {
     "data": {
      "text/plain": [
       "<folium.features.GeoJson at 0x7f31f8914490>"
      ]
     },
     "execution_count": 9,
     "metadata": {},
     "output_type": "execute_result"
    }
   ],
   "source": [
    "import warnings\n",
    "warnings.filterwarnings('ignore')\n",
    "\n",
    "m = folium.Map(\n",
    "    location=[gdf.centroid[0].y, gdf.centroid[0].x],\n",
    "    zoom_start=10,\n",
    "    tiles='Stamen Terrain'\n",
    ")\n",
    "\n",
    "\n",
    "folium.GeoJson(\n",
    "    gdf,\n",
    "    name = \"geojson\"\n",
    ").add_to(m)\n",
    "\n",
    "#m"
   ]
  },
  {
   "cell_type": "markdown",
   "metadata": {},
   "source": [
    "## Plotting\n",
    "\n",
    "Finally, we can plot the data values"
   ]
  },
  {
   "cell_type": "code",
   "execution_count": 18,
   "metadata": {},
   "outputs": [
    {
     "data": {
      "text/plain": [
       "[<matplotlib.lines.Line2D at 0x7f321708a9d0>]"
      ]
     },
     "execution_count": 18,
     "metadata": {},
     "output_type": "execute_result"
    },
    {
     "data": {
      "image/png": "[encoded data removed]",
      "text/plain": [
       "<Figure size 432x288 with 1 Axes>"
      ]
     },
     "metadata": {},
     "output_type": "display_data"
    },
    {
     "data": {
      "image/png": "[encoded data removed]",
      "text/plain": [
       "<Figure size 432x288 with 1 Axes>"
      ]
     },
     "metadata": {},
     "output_type": "display_data"
    }
   ],
   "source": [
    "%matplotlib inline\n",
    "import matplotlib.pyplot as plt\n",
    "plt.style.use('seaborn-whitegrid')\n",
    "\n",
    "fig = plt.figure()\n",
    "ax = plt.axes()\n",
    "x = range(gdf.shape[0])\n",
    "\n",
    "plt.plot(x, gdf.HeightAboveGround.astype(float), color='blue')\n",
    "\n",
    "fig = plt.figure()\n",
    "ax = plt.axes()\n",
    "#plt.plot(x, gdf.ElevationLow.astype(float), color='red')\n",
    "plt.plot(x, gdf.Z.astype(float), color='green')"
   ]
  }
 ],
 "metadata": {
  "kernelspec": {
   "display_name": "Python 3",
   "language": "python",
   "name": "python3"
  },
  "language_info": {
   "codemirror_mode": {
    "name": "ipython",
    "version": 3
   },
   "file_extension": ".py",
   "mimetype": "text/x-python",
   "name": "python",
   "nbconvert_exporter": "python",
   "pygments_lexer": "ipython3",
   "version": "3.7.8"
  }
 },
 "nbformat": 4,
 "nbformat_minor": 4
}
