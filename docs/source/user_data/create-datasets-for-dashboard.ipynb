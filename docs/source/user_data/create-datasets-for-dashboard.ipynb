{
 "cells": [
  {
   "cell_type": "markdown",
   "metadata": {},
   "source": [
    "# Adding Cloud-Optimized GeoTIFFs to the MAAP Dashboard\n",
    "\n",
    "The following notebook steps through how to add a dataset to the MAAP Dashboard.\n",
    "\n",
    "The MAAP dashboard has 3 environments:\n",
    "\n",
    "* dit: biomass.dit.maap-project.org\n",
    "* staging: biomass.staging.maap-project.org\n",
    "* production: biomass.maap-project.org\n",
    "\n",
    "These instructions will guide you towards adding your dataset to `bimoass.dit.maap-project.org`. The MAAP Dashboard team will \"promote\" changes to staging and production periodically (release schedule forthcoming).\n",
    "\n",
    "Pre-requisites:\n",
    "\n",
    "* jupyter notebook\n",
    "* rasterio, rio-cogeo, supermercado"
   ]
  },
  {
   "cell_type": "code",
   "execution_count": null,
   "metadata": {},
   "outputs": [],
   "source": [
    "%%capture\n",
    "!pip install rasterio rio-cogeo supermercado"
   ]
  },
  {
   "cell_type": "code",
   "execution_count": null,
   "metadata": {},
   "outputs": [],
   "source": [
    "# import the MAAP package\n",
    "from maap.maap import MAAP\n",
    "import json\n",
    "import os\n",
    "import matplotlib\n",
    "\n",
    "# create MAAP class\n",
    "maap = MAAP(maap_host='api.ops.maap-project.org')"
   ]
  },
  {
   "cell_type": "markdown",
   "metadata": {},
   "source": [
    "## Check your file is a valid COG"
   ]
  },
  {
   "cell_type": "code",
   "execution_count": null,
   "metadata": {},
   "outputs": [],
   "source": [
    "my_tif = '5_biomass_cog.masked.tif'\n",
    "project_dir = \"/projects\""
   ]
  },
  {
   "cell_type": "code",
   "execution_count": null,
   "metadata": {},
   "outputs": [],
   "source": [
    "%%bash -s \"$project_dir\" \"$my_tif\"\n",
    "rio cogeo validate $1/$2"
   ]
  },
  {
   "cell_type": "markdown",
   "metadata": {},
   "source": [
    "## Upload the file"
   ]
  },
  {
   "cell_type": "code",
   "execution_count": null,
   "metadata": {},
   "outputs": [],
   "source": [
    "## Helper functions\n",
    "def generate_s3_upload_path(uuid, file):\n",
    "    filename = os.path.basename(file)\n",
    "    bucket = maap.config['aws']['user_upload_bucket']\n",
    "    directory = maap.config['aws']['user_upload_directory']\n",
    "    location = f\"s3://{bucket}/{directory}/{uuid}/{filename}\"\n",
    "    return location\n",
    "\n",
    "def upload_and_return_location(files):\n",
    "    response = maap.uploadFiles(files)\n",
    "    uuid = response\\\n",
    "      .replace(\"Upload file subdirectory: \", \"\")\\\n",
    "      .replace(\" (keep a record of this if you want to share these files with other users)\", \"\")\n",
    "    return [generate_s3_upload_path(uuid, file) for file in files]\n",
    "\n",
    "location = upload_and_return_location([f\"{project_dir}/{my_tif}\"])[0]\n",
    "s3_path = location.replace('s3://', '')\n",
    "location"
   ]
  },
  {
   "cell_type": "markdown",
   "metadata": {},
   "source": [
    "# Identify the right rescale and color parameters"
   ]
  },
  {
   "cell_type": "code",
   "execution_count": null,
   "metadata": {},
   "outputs": [],
   "source": [
    "%%bash -s \"$s3_path\"\n",
    "gdalinfo /vsis3/$1 -stats"
   ]
  },
  {
   "cell_type": "markdown",
   "metadata": {},
   "source": [
    "## Get valid x, y parameters for a given zoom\n",
    "\n",
    "When generating tiles, the titiler API requires a valid x, y set for the given zoom."
   ]
  },
  {
   "cell_type": "code",
   "execution_count": null,
   "metadata": {},
   "outputs": [],
   "source": [
    "%%bash -s \"$location\"\n",
    "rio bounds $1 | supermercado burn 1 # this last value is the \"zoom\""
   ]
  },
  {
   "cell_type": "markdown",
   "metadata": {},
   "source": [
    "# Test the link with the titiler"
   ]
  },
  {
   "cell_type": "code",
   "execution_count": null,
   "metadata": {},
   "outputs": [],
   "source": [
    "band_min=0\n",
    "band_max=140\n",
    "zxy = '1/0/1'\n",
    "titiler_url = f\"https://titiler.maap-project.org\"\n",
    "rescale = f\"{band_min},{band_max}\"\n",
    "band_index = 1\n",
    "test_img_url = f\"{titiler_url}/cog/tiles/{zxy}.png?url={location}&rescale={rescale}&bidx={band_index}\"\n",
    "# Jupyter auto adds &amp; to links so copy / paste everything after \"x\" into a browser\n",
    "print(f\"x{test_img_url}\")"
   ]
  },
  {
   "cell_type": "markdown",
   "metadata": {},
   "source": [
    "# Define a color map\n",
    "\n",
    "By default, the image will be displayed in greyscale if no `colormap_name` parameter is passed to the titiler API. Guidance below is provided to help determine what a valid colormap_name might be and how to create a legend for the dashboard.\n",
    "\n",
    "## Dashboard ColorRamps & Legends\n",
    "\n",
    "When using the dashboard, there 2 components for implementing a color scheme for your map. There is the map render and there is the legend.\n",
    "\n",
    "> Titiler used for Cloud Optimized Geotiff (COG) rendering accepts any color scheme from the python matplotlib library, and custom color formulas.\n",
    "\n",
    "* [Rio Tiler Colors](https://cogeotiff.github.io/rio-tiler/colormap/)\n",
    "* [Matplotlib Colors](https://matplotlib.org/stable/tutorials/colors/colormaps.html) \n",
    "\n",
    "Available `colormap_name` values for titiler: `above, accent, accent_r, afmhot, afmhot_r, autumn, autumn_r, binary, binary_r, blues, blues_r, bone, bone_r, brbg, brbg_r, brg, brg_r, bugn, bugn_r, bupu, bupu_r, bwr, bwr_r, cfastie, cividis, cividis_r, cmrmap, cmrmap_r, cool, cool_r, coolwarm, coolwarm_r, copper, copper_r, cubehelix, cubehelix_r, dark2, dark2_r, flag, flag_r, gist_earth, gist_earth_r, gist_gray, gist_gray_r, gist_heat, gist_heat_r, gist_ncar, gist_ncar_r, gist_rainbow, gist_rainbow_r, gist_stern, gist_stern_r, gist_yarg, gist_yarg_r, gnbu, gnbu_r, gnuplot, gnuplot2, gnuplot2_r, gnuplot_r, gray, gray_r, greens, greens_r, greys, greys_r, hot, hot_r, hsv, hsv_r, inferno, inferno_r, jet, jet_r, magma, magma_r, nipy_spectral, nipy_spectral_r, ocean, ocean_r, oranges, oranges_r, orrd, orrd_r, paired, paired_r, pastel1, pastel1_r, pastel2, pastel2_r, pink, pink_r, piyg, piyg_r, plasma, plasma_r, prgn, prgn_r, prism, prism_r, pubu, pubu_r, pubugn, pubugn_r, puor, puor_r, purd, purd_r, purples, purples_r, rainbow, rainbow_r, rdbu, rdbu_r, rdgy, rdgy_r, rdpu, rdpu_r, rdylbu, rdylbu_r, rdylgn, rdylgn_r, reds, reds_r, rplumbo, schwarzwald, seismic, seismic_r, set1, set1_r, set2, set2_r, set3, set3_r, spectral, spectral_r, spring, spring_r, summer, summer_r, tab10, tab10_r, tab20, tab20_r, tab20b, tab20b_r, tab20c, tab20c_r, terrain, terrain_r, twilight, twilight_r, twilight_shifted, twilight_shifted_r, viridis, viridis_r, winter, winter_r, wistia, wistia_r, ylgn, ylgn_r, ylgnbu, ylgnbu_r, ylorbr, ylorbr_r, ylorrd, ylorrd_r`\n"
   ]
  },
  {
   "cell_type": "markdown",
   "metadata": {},
   "source": [
    "## Example 1: Class based known colors\n",
    "\n",
    "In this example, the raster represents classes of forest with 11 possible values. There are specific colors selected to correspond to each class. We combine the list of colors and the list of classes and format them for the legend parameter the dashboard needs.\n",
    "\n",
    "https://github.com/MAAP-Project/dashboard-datasets-maap/blob/main/datasets/taiga-forest-classification.json"
   ]
  },
  {
   "cell_type": "code",
   "execution_count": null,
   "metadata": {},
   "outputs": [],
   "source": [
    "colors = [\n",
    "    '#5255A3','#1796A3','#FDBF6F','#FF7F00', '#FFFFBF','#D9EF8B','#91CF60','#1A9850', '#C4C4C4','#FF0000', '#0000FF'\n",
    "]\n",
    "labels = [\n",
    "    'Sparse & Uniform',\n",
    "    'Sparse & Diffuse-gradual',\n",
    "    'Sparse & Diffuse-rapid',\n",
    "    'Sparse & Abrupt ',\n",
    "    'Open & Uniform ',\n",
    "    'Open & Diffuse-gradual',\n",
    "    'Open & Diffuse-rapid',\n",
    "    'Open & Abrupt',\n",
    "    'Intermediate & Closed',\n",
    "    'Non-forest edge (dry)',\n",
    "    'Non-forest edge (wet)'\n",
    "]\n",
    "\n",
    "legend = [dict(color=colors[i],label=labels[i]) for i in range(0, len(colors))]\n",
    "print(json.dumps(legend, indent=2))\n",
    "\n",
    "# Copy and Paste the output below to your dashboard config."
   ]
  },
  {
   "cell_type": "markdown",
   "metadata": {},
   "source": [
    "## Example 2: Discrete ColorRamp\n",
    "\n",
    "In this example, the range of values is known, but the color scale has many non-sequential colors. Starting with the premade color list, we create a continuous color ramp that uses the known colors as stops points. Arbitrarly 12 breaks looked decent in the dashboard legend so we split it into 12 discrete colors. Then combine the list of values and colors into the correct json syntax.\n",
    "\n",
    "https://github.com/MAAP-Project/dashboard-datasets-maap/blob/main/datasets/ATL08.json"
   ]
  },
  {
   "cell_type": "code",
   "execution_count": null,
   "metadata": {},
   "outputs": [],
   "source": [
    "forest_ht = matplotlib.colors.LinearSegmentedColormap.from_list('forest_ht', ['#636363','#FC8D59','#FEE08B','#FFFFBF','#D9EF8B','#91CF60','#1A9850','#005A32'], 12)\n",
    "cols = [matplotlib.colors.to_hex(forest_ht(i)) for i in range(forest_ht.N)]\n",
    "\n",
    "cats = range(0,25, (25//len(cols)))\n",
    "legend = [[cats[i],cols[i]] for i in range(0, len(cols))]\n",
    "text = (json.dumps(legend, separators=(',', ': ') ))\n",
    "\n",
    "print(text.replace('],[','],\\n['))\n",
    " \n",
    "# Copy and Paste the output below to your dashboard config."
   ]
  },
  {
   "cell_type": "markdown",
   "metadata": {},
   "source": [
    "## Example 3: Continuous ColorRamp\n",
    "\n",
    "In this example, we are using a built in ColorRamp from matplotlib. So we just need to extract enough colors to fill the legend adequately, and convert the colors to hex codes.\n",
    "\n",
    "https://github.com/MAAP-Project/dashboard-datasets-maap/blob/main/datasets/topo.json"
   ]
  },
  {
   "cell_type": "code",
   "execution_count": null,
   "metadata": {},
   "outputs": [],
   "source": [
    "cmap_name = 'viridis'\n",
    "cmap = matplotlib.cm.get_cmap(cmap_name, 12)\n",
    "cols = [matplotlib.colors.to_hex(cmap(i)) for i in range(cmap.N)]\n",
    "print(cols)\n",
    "\n",
    "# Copy and Paste the output below to your dashboard config."
   ]
  },
  {
   "cell_type": "markdown",
   "metadata": {},
   "source": [
    "# Create and submit your dashboard dataset json"
   ]
  },
  {
   "cell_type": "code",
   "execution_count": null,
   "metadata": {},
   "outputs": [],
   "source": [
    "# This example is for a continuous color ramps\n",
    "dataset_id = \"paraguay-estimated-biomass\"\n",
    "dataset_name = \"Estimated Biomass in Paraguay\"\n",
    "dataset_type = \"raster\"\n",
    "legend_type = \"gradient-adjustable\"\n",
    "info = \"Estimated biomass within 6km grids.\"\n",
    "stops = cols\n",
    "tiles_link = f\"{{titiler_server_url}}/cog/tiles/{{z}}/{{x}}/{{y}}.png?url={location}&colormap_name={cmap_name}&rescale={band_min},{band_max}&bidx={band_index}\""
   ]
  },
  {
   "cell_type": "code",
   "execution_count": null,
   "metadata": {},
   "outputs": [],
   "source": [
    "dataset_dict = {\n",
    "    \"id\": dataset_id,\n",
    "    \"name\": dataset_name,\n",
    "    \"type\": dataset_type,\n",
    "    \"swatch\": {\n",
    "      \"color\": \"#6976d7\",\n",
    "      \"name\": \"Moody Blue\"\n",
    "    },\n",
    "    \"source\": {\n",
    "        \"type\": dataset_type,\n",
    "        \"tiles\": [ tiles_link ]\n",
    "    },\n",
    "    \"legend\": {\n",
    "      \"type\": legend_type,\n",
    "       \"min\": band_min,\n",
    "       \"max\": band_max,\n",
    "      \"stops\": stops\n",
    "    },\n",
    "    \"info\": info\n",
    "}\n",
    "print(json.dumps(dataset_dict, indent=4))"
   ]
  },
  {
   "cell_type": "markdown",
   "metadata": {},
   "source": [
    "## Create a PR to the datasets repo\n",
    "\n",
    "```bash\n",
    "git clone git@github.com:MAAP-Project/biomass-dashboard-datasets.git\n",
    "cd biomass-dashboard-datasets\n",
    "git checkout -b ab/add-dataset\n",
    "# select and copy json above\n",
    "echo <copied_json> >> datasets/paraguay-estimated-biomass.json\n",
    "```"
   ]
  },
  {
   "cell_type": "markdown",
   "metadata": {},
   "source": [
    "### Add to the datasets list in config.yml\n",
    "\n",
    "In `config.yml`:\n",
    "\n",
    "```yaml\n",
    "DATASETS:\n",
    "- paraguay-estimated-biomass.json\n",
    "```"
   ]
  },
  {
   "cell_type": "markdown",
   "metadata": {},
   "source": [
    "### Add to the product or country pilot\n",
    "\n",
    "In `country_pilots/paraguay/country_pilot.json`:\n",
    "```json\n",
    "{\n",
    "    \"id\": \"paraguay\",\n",
    "    \"label\": \"Paraguay\",\n",
    "    //...\n",
    "    \"datasets\": [\n",
    "        {\n",
    "            \"id\": \"paraguay-forest-mask\"\n",
    "        },\n",
    "        {\n",
    "            \"id\": \"paraguay-tree-cover\"\n",
    "        },\n",
    "        {\n",
    "            \"id\": \"paraguay-estimated-biomass\"\n",
    "        }\n",
    "    ]\n",
    "}\n",
    "```"
   ]
  },
  {
   "cell_type": "markdown",
   "metadata": {},
   "source": [
    "## Add content to the summary\n",
    "\n",
    "There should be a `summary.html` file corresponding to the product or country pilot you are working on, for example: `country_pilots/paraguay/summary.html`. Add or modify content in that file as appropriate."
   ]
  },
  {
   "cell_type": "markdown",
   "metadata": {},
   "source": [
    "## Submit a PR\n",
    "\n",
    "Once you have added the dataset json file and summary content, submit a PR to https://github.com/MAAP-Project/biomass-dashboard-datasets. A member of the data team will review the PR and when it is merged your content will appear in biomass.dit.maap-project.org."
   ]
  },
  {
   "cell_type": "markdown",
   "metadata": {},
   "source": [
    "# Optional: Create a mosaic\n",
    "\n",
    "Many datasets are comprised of many tiles distributed spatially over the globe. In order to visualize them all together, we can use [mosaicJSON](https://github.com/developmentseed/mosaicjson-spec) to create a mosaic for the dynamic tiler API. The dynamic tiler API knows how to read this mosaicJSON and select which tiles to render based on the current zoom, x and y coordinates across spatially distinct COGs."
   ]
  },
  {
   "cell_type": "code",
   "execution_count": null,
   "metadata": {},
   "outputs": [],
   "source": [
    "import glob\n",
    "import os\n",
    "import urllib\n",
    "\n",
    "from cogeo_mosaic.mosaic import MosaicJSON\n",
    "from cogeo_mosaic.backends import MosaicBackend"
   ]
  },
  {
   "cell_type": "code",
   "execution_count": null,
   "metadata": {},
   "outputs": [],
   "source": [
    "%%capture\n",
    "!pip install cogeo-mosaic"
   ]
  },
  {
   "cell_type": "code",
   "execution_count": null,
   "metadata": {},
   "outputs": [],
   "source": [
    "# Local Path to your COGs\n",
    "output = \"/projects/xXx/XXX/xxx/\"\n",
    "\n",
    "# Search for files to include, use recursive if nested folders (common in DPS output)\n",
    "files = glob.glob(os.path.join(output, \"*.tif\"), recursive=False)\n",
    "files = [os.path.basename(f) for f in files]\n",
    "files"
   ]
  },
  {
   "cell_type": "code",
   "execution_count": null,
   "metadata": {},
   "outputs": [],
   "source": [
    "# Skipping this step since we don't want to upload these large files more than once!\n",
    "# maap.uploadFiles(files)"
   ]
  },
  {
   "cell_type": "code",
   "execution_count": null,
   "metadata": {},
   "outputs": [],
   "source": [
    "uuid = ''\n",
    "tiles = [generate_s3_upload_path(uuid, file) for file in files]\n",
    "print(tiles)"
   ]
  },
  {
   "cell_type": "code",
   "execution_count": null,
   "metadata": {},
   "outputs": [],
   "source": [
    "mosaicdata = MosaicJSON.from_urls(tiles, minzoom=1, maxzoom=16)"
   ]
  },
  {
   "cell_type": "code",
   "execution_count": null,
   "metadata": {},
   "outputs": [],
   "source": [
    "tilefile_name = \"jpl_tile_test.json\"\n",
    "with MosaicBackend(tilefile_name, mosaic_def=mosaicdata) as mosaic:\n",
    "    mosaic.write(overwrite=True)"
   ]
  },
  {
   "cell_type": "code",
   "execution_count": null,
   "metadata": {},
   "outputs": [],
   "source": [
    "mosaic_file_location = upload_and_return_location([tilefile_name])\n",
    "mosaic_file_location"
   ]
  },
  {
   "cell_type": "code",
   "execution_count": null,
   "metadata": {},
   "outputs": [],
   "source": [
    "import ipycmc"
   ]
  },
  {
   "cell_type": "code",
   "execution_count": null,
   "metadata": {},
   "outputs": [],
   "source": [
    "w = ipycmc.MapCMC()\n",
    "w"
   ]
  },
  {
   "cell_type": "code",
   "execution_count": null,
   "metadata": {},
   "outputs": [],
   "source": [
    "# Build a WMTS call\n",
    "\"\"\"\n",
    "All of this is subject to change in a future version\n",
    "The important parameters for users:\n",
    "  url : the S3 path to the MosaicJSON file,\n",
    "  bidx (band number), \n",
    "  rescale (required if using non Byte data type), \n",
    "  colormap_name or colormap\n",
    "\n",
    "Other parameters are possible, see https://titiler.maap-project.org/docs#/MosaicJSON/wmts_mosaicjson_WMTSCapabilities_xml_get\n",
    "\"\"\"\n",
    "\n",
    "wmts_url = f\"x{titiler_url}/mosaicjson/WMTSCapabilities.xml\"\n",
    "params = {\n",
    "    \"tile_format\": \"png\",\n",
    "    \"tile_scale\": \"1\",\n",
    "    \"pixel_selection\": \"first\",\n",
    "    \"TileMatrixSetId\": \"WebMercatorQuad\",\n",
    "    \"url\": mosaic_file_location[0],\n",
    "    \"bidx\": \"1\", # Select which band to use\n",
    "    \"resampling_method\":\"nearest\",\n",
    "    \"rescale\": \"0,1000\", # Values in data are from 0 to 1\n",
    "    \"return_mask\": \"true\",\n",
    "    \"colormap_name\": \"viridis\" # Any colormap from matplotlib will work\n",
    "}\n",
    "\n",
    "wmts_call = \"?\".join([wmts_url, urllib.parse.urlencode(params)])\n",
    "\n",
    "# Note Jupyter bug add amp; incorrectly when printing the url\n",
    "wmts_call"
   ]
  },
  {
   "cell_type": "code",
   "execution_count": null,
   "metadata": {},
   "outputs": [],
   "source": [
    "wmts_link = wmts_call.replace('xhttps', 'https')\n",
    "w.load_layer_config(wmts_link, \"wmts/xml\")"
   ]
  },
  {
   "cell_type": "markdown",
   "metadata": {},
   "source": [
    "## Add your mosaic to dataset.json file\n",
    "\n",
    "Follow the same steps above for **Create your dashboard dataset json** however the `tiles_link` should start with `{titiler_server_url}/mosaicjson/tiles/WebMercatorQuad/{z}/{x}/{y}.png?`"
   ]
  }
 ],
 "metadata": {
  "interpreter": {
   "hash": "06a5d0145d2c0de679875a5546b4cbbf4cf8aec2ac17ee1072f90657257481e7"
  },
  "kernelspec": {
   "display_name": "Python 3 (ipykernel)",
   "language": "python",
   "name": "python3"
  },
  "language_info": {
   "codemirror_mode": {
    "name": "ipython",
    "version": 3
   },
   "file_extension": ".py",
   "mimetype": "text/x-python",
   "name": "python",
   "nbconvert_exporter": "python",
   "pygments_lexer": "ipython3",
   "version": "3.7.8"
  }
 },
 "nbformat": 4,
 "nbformat_minor": 4
}
