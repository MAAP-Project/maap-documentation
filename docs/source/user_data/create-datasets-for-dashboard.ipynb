{
 "cells": [
  {
   "cell_type": "markdown",
   "metadata": {},
   "source": [
    "# Adding Cloud-Optimized GeoTIFFs to the MAAP Dashboard\n",
    "\n",
    "The following notebook steps through how to add a dataset to the MAAP Dashboard.\n",
    "\n",
    "Note, there are 2 scenarios:\n",
    "\n",
    "1. Adding a single Cloud-Optimized GeoTIFF (COG) and,\n",
    "2. Adding many distinct COGs as a \"mosaic\" with mosaicJSON.\n",
    "\n",
    "High-level, the steps are:\n",
    "\n",
    "1. Inspect your COG(s) to understand the best rescale and colormap name parameters. Optionally create a mosaic.\n",
    "2. Define a colormap. Colormaps provide mappings of data values to RGB values.\n",
    "3. Create a PR to the datasets repo to add or update your dataset.\n",
    "\n",
    "The MAAP dashboard has 3 environments:\n",
    "\n",
    "1. Developer-in-test (DIT): https://biomass.dit.maap-project.org\n",
    "2. Staging: https://uat.earthdata.nasa.gov/maap-biomass\n",
    "3. Production: https://earthdata.nasa.gov/maap-biomass\n",
    "\n",
    "These instructions will guide you towards adding your dataset to `biomass.dit.maap-project.org`. The MAAP Dashboard team will \"promote\" changes to staging and production periodically (release schedule forthcoming)."
   ]
  },
  {
   "cell_type": "markdown",
   "metadata": {},
   "source": [
    "# Setup"
   ]
  },
  {
   "cell_type": "code",
   "execution_count": null,
   "metadata": {},
   "outputs": [],
   "source": [
    "%%capture\n",
    "!pip install rasterio rio-cogeo supermercado"
   ]
  },
  {
   "cell_type": "code",
   "execution_count": null,
   "metadata": {},
   "outputs": [],
   "source": [
    "# import the MAAP package\n",
    "import ipycmc\n",
    "from maap.maap import MAAP\n",
    "\n",
    "import glob\n",
    "import json\n",
    "import os\n",
    "import matplotlib\n",
    "import urllib\n",
    "\n",
    "# create MAAP class\n",
    "maap = MAAP(maap_host='api.ops.maap-project.org')"
   ]
  },
  {
   "cell_type": "code",
   "execution_count": null,
   "metadata": {},
   "outputs": [],
   "source": [
    "project_dir = \"/projects/shared-buckets/<your_name>/<project_dir>\""
   ]
  },
  {
   "cell_type": "code",
   "execution_count": null,
   "metadata": {},
   "outputs": [],
   "source": [
    "# Search for files to include, use recursive if nested folders (common in DPS output)\n",
    "files = glob.glob(os.path.join(project_dir, \"*.tif\"), recursive=False)\n",
    "files = [os.path.basename(f) for f in files]\n",
    "files"
   ]
  },
  {
   "cell_type": "code",
   "execution_count": null,
   "metadata": {},
   "outputs": [],
   "source": [
    "my_tif = files[1]"
   ]
  },
  {
   "cell_type": "code",
   "execution_count": null,
   "metadata": {},
   "outputs": [],
   "source": [
    "%%bash -s \"$project_dir\" \"$my_tif\"\n",
    "rio cogeo validate $1/$2"
   ]
  },
  {
   "cell_type": "code",
   "execution_count": null,
   "metadata": {},
   "outputs": [],
   "source": [
    "%%bash -s \"$project_dir\" \"$my_tif\"\n",
    "gdalinfo $1/$2 -stats"
   ]
  },
  {
   "cell_type": "markdown",
   "metadata": {},
   "source": [
    "## Create some parameters for the dynamic tiler.\n",
    "\n",
    "These parameters will be pased to `titiler_url` for visualization.\n",
    "\n",
    "Note the values below: `band_min`, `band_max` and `colormap_name` are set as the current defaults for biomass in Mg/hectare for the dashboard. For other datasets, users should inspect the output of the `gdalinfo` for `band_min` and `band_max` and modify the `colormap_name` as makes sense for the current dataset. This notebook includes section on what colormaps are available and how to configure different types of colormaps and legends."
   ]
  },
  {
   "cell_type": "code",
   "execution_count": null,
   "metadata": {},
   "outputs": [],
   "source": [
    "titiler_url = f\"https://titiler.maap-project.org\"\n",
    "band_min=0\n",
    "band_max=400\n",
    "rescale = f\"{band_min},{band_max}\"\n",
    "bidx = 1\n",
    "colormap_name = 'gist_earth_r'"
   ]
  },
  {
   "cell_type": "markdown",
   "metadata": {},
   "source": [
    "## Helper functions"
   ]
  },
  {
   "cell_type": "code",
   "execution_count": null,
   "metadata": {},
   "outputs": [],
   "source": [
    "def generate_s3_upload_path(uuid, file):\n",
    "    filename = os.path.basename(file)\n",
    "    bucket = maap.config['aws']['user_upload_bucket']\n",
    "    directory = maap.config['aws']['user_upload_directory']\n",
    "    location = f\"s3://{bucket}/{directory}/{uuid}/{filename}\"\n",
    "    return location\n",
    "\n",
    "def upload_and_return_location(files):\n",
    "    response = maap.uploadFiles(files)\n",
    "    uuid = response\\\n",
    "      .replace(\"Upload file subdirectory: \", \"\")\\\n",
    "      .replace(\" (keep a record of this if you want to share these files with other users)\", \"\")\n",
    "    return [generate_s3_upload_path(uuid, file) for file in files]"
   ]
  },
  {
   "cell_type": "markdown",
   "metadata": {},
   "source": [
    "# Step 1, Scenario 1: Adding a single COG\n",
    "\n",
    "## 1. Upload the file\n",
    "\n",
    "Only use the following steps if you only have one COG to share to the dashboard. If you want to create a mosaic from multiple COGs, skip to Step 1 Option 2.\n",
    "\n",
    "Upload the file to S3 and make note of the location."
   ]
  },
  {
   "cell_type": "code",
   "execution_count": null,
   "metadata": {},
   "outputs": [],
   "source": [
    "location = upload_and_return_location([f\"{project_dir}/{my_tif}\"])[0]\n",
    "s3_path = location.replace('s3://', '')\n",
    "location"
   ]
  },
  {
   "cell_type": "markdown",
   "metadata": {},
   "source": [
    "## 2. Test the COG with the titiler and ipyCMC"
   ]
  },
  {
   "cell_type": "code",
   "execution_count": null,
   "metadata": {},
   "outputs": [],
   "source": [
    "## Build a WMTS call\n",
    "wmts_url = f\"x{titiler_url}/cog/WMTSCapabilities.xml\"\n",
    "params = {\n",
    "    \"tile_format\": \"png\",\n",
    "    \"tile_scale\": \"1\",\n",
    "    \"pixel_selection\": \"first\",\n",
    "    \"TileMatrixSetId\": \"WebMercatorQuad\",\n",
    "    \"url\": location,\n",
    "    \"bidx\": bidx, # Select which band to use\n",
    "    \"resampling_method\":\"nearest\",\n",
    "    \"rescale\": rescale,\n",
    "    \"return_mask\": \"true\",\n",
    "    \"colormap_name\": colormap_name # Any colormap from matplotlib will work\n",
    "}\n",
    "\n",
    "wmts_call = \"?\".join([wmts_url, urllib.parse.urlencode(params)])\n",
    "\n",
    "# Note Jupyter bug add amp; incorrectly when printing the url\n",
    "wmts_call"
   ]
  },
  {
   "cell_type": "code",
   "execution_count": null,
   "metadata": {},
   "outputs": [],
   "source": [
    "w = ipycmc.MapCMC()\n",
    "w"
   ]
  },
  {
   "cell_type": "code",
   "execution_count": null,
   "metadata": {},
   "outputs": [],
   "source": [
    "wmts_link = wmts_call.replace('xhttps', 'https')\n",
    "w.load_layer_config(wmts_link, \"wmts/xml\")"
   ]
  },
  {
   "cell_type": "markdown",
   "metadata": {},
   "source": [
    "# Step 1, Scenario 2: Adding data from multiple COGs by creating a mosaic\n",
    "\n",
    "Many datasets are comprised of many tiles distributed spatially over the globe. In order to visualize them all together, we can use [mosaicJSON](https://github.com/developmentseed/mosaicjson-spec) to create a mosaic for the dynamic tiler API. The dynamic tiler API knows how to read this mosaicJSON and select which tiles to render based on the current zoom, x and y coordinates across spatially distinct COGs."
   ]
  },
  {
   "cell_type": "code",
   "execution_count": null,
   "metadata": {},
   "outputs": [],
   "source": [
    "%%capture\n",
    "!pip install cogeo-mosaic"
   ]
  },
  {
   "cell_type": "code",
   "execution_count": null,
   "metadata": {},
   "outputs": [],
   "source": [
    "import glob\n",
    "import os\n",
    "import urllib\n",
    "\n",
    "from cogeo_mosaic.mosaic import MosaicJSON\n",
    "from cogeo_mosaic.backends import MosaicBackend"
   ]
  },
  {
   "cell_type": "code",
   "execution_count": null,
   "metadata": {},
   "outputs": [],
   "source": [
    "# Skipping this step since we don't want to upload these large files more than once!\n",
    "full_path_files = [f'{project_dir}/{file}' for file in files]\n",
    "# maap.uploadFiles(full_path_files)"
   ]
  },
  {
   "cell_type": "code",
   "execution_count": null,
   "metadata": {},
   "outputs": [],
   "source": [
    "uuid = 'xxx'\n",
    "tiles = [generate_s3_upload_path(uuid, file) for file in files]\n",
    "print(tiles)"
   ]
  },
  {
   "cell_type": "code",
   "execution_count": null,
   "metadata": {},
   "outputs": [],
   "source": [
    "mosaicdata = MosaicJSON.from_urls(tiles, minzoom=1, maxzoom=16)"
   ]
  },
  {
   "cell_type": "markdown",
   "metadata": {},
   "source": [
    "## Using mosaicJSON with titiler\n",
    "\n",
    "There are 2 options for using mosaicJSON with titiler:\n",
    "\n",
    "1. (Preferred) Post mosaicJSON to titiler `mosaics` endpoint and use the `mosaicjson/mosaics` endpoint for dynamic tiling.\n",
    "2. Upload mosaicJSON to S3 and pass the S3 url to the titiler `mosaicjson/tiles` endpoint."
   ]
  },
  {
   "cell_type": "markdown",
   "metadata": {},
   "source": [
    "### Option 1: Post mosaicJSON to titiler"
   ]
  },
  {
   "cell_type": "code",
   "execution_count": null,
   "metadata": {},
   "outputs": [],
   "source": [
    "import requests\n",
    "from pprint import pprint\n",
    "\n",
    "r = requests.post(\n",
    "    url=f\"{titiler_url}/mosaicjson/mosaics\",\n",
    "    headers={\n",
    "        \"Content-Type\": \"application/vnd.titiler.mosaicjson+json\",\n",
    "    },\n",
    "    json=mosaicdata.dict(exclude_none=True)).json()\n",
    "\n",
    "pprint(r)"
   ]
  },
  {
   "cell_type": "code",
   "execution_count": null,
   "metadata": {},
   "outputs": [],
   "source": [
    "mosaic_link = list(filter(lambda x: x['rel'] == 'tiles', r['links']))[0]['href']\n",
    "wmts_mosaic_link = list(filter(lambda x: x['rel'] == 'wmts', r['links']))[0]['href']"
   ]
  },
  {
   "cell_type": "markdown",
   "metadata": {},
   "source": [
    "## Test your mosaic"
   ]
  },
  {
   "cell_type": "code",
   "execution_count": null,
   "metadata": {},
   "outputs": [],
   "source": [
    "params = {\n",
    "    \"tile_format\": \"png\",\n",
    "    \"bidx\": bidx, # Select which band to use\n",
    "    \"resampling_method\":\"nearest\",\n",
    "    \"rescale\": rescale, \n",
    "    \"return_mask\": \"true\",\n",
    "    \"colormap_name\": colormap_name # Any colormap from matplotlib will work\n",
    "}\n",
    "\n",
    "wmts_call = \"?\".join([wmts_mosaic_link, urllib.parse.urlencode(params)])\n",
    "\n",
    "w.load_layer_config(wmts_call, \"wmts/xml\")"
   ]
  },
  {
   "cell_type": "markdown",
   "metadata": {},
   "source": [
    "### Option 2: Upload mosaicJSON to S3 and pass the S3 url to titiler `tiles` endpoint"
   ]
  },
  {
   "cell_type": "code",
   "execution_count": null,
   "metadata": {},
   "outputs": [],
   "source": [
    "tilefile_name = \"mosaic.json\"\n",
    "with MosaicBackend(tilefile_name, mosaic_def=mosaicdata) as mosaic:\n",
    "    mosaic.write(overwrite=True)"
   ]
  },
  {
   "cell_type": "code",
   "execution_count": null,
   "metadata": {},
   "outputs": [],
   "source": [
    "mosaic_file_location = upload_and_return_location([tilefile_name])\n",
    "mosaic_file_location"
   ]
  },
  {
   "cell_type": "markdown",
   "metadata": {},
   "source": [
    "## Test your mosaic"
   ]
  },
  {
   "cell_type": "code",
   "execution_count": null,
   "metadata": {},
   "outputs": [],
   "source": [
    "wmts_url = f\"x{titiler_url}/mosaicjson/WMTSCapabilities.xml\"\n",
    "params = {\n",
    "    \"tile_format\": \"png\",\n",
    "    \"tile_scale\": \"1\",\n",
    "    \"pixel_selection\": \"first\",\n",
    "    \"TileMatrixSetId\": \"WebMercatorQuad\",\n",
    "    \"url\": mosaic_file_location[0],\n",
    "    \"bidx\": bidx, # Select which band to use\n",
    "    \"resampling_method\":\"nearest\",\n",
    "    \"rescale\": rescale, \n",
    "    \"return_mask\": \"true\",\n",
    "    \"colormap_name\": colormap_name # Any colormap from matplotlib will work\n",
    "}\n",
    "\n",
    "wmts_call = \"?\".join([wmts_url, urllib.parse.urlencode(params)])\n",
    "\n",
    "# Note Jupyter bug add amp; incorrectly when printing the url\n",
    "wmts_call"
   ]
  },
  {
   "cell_type": "code",
   "execution_count": null,
   "metadata": {},
   "outputs": [],
   "source": [
    "wmts_link = wmts_call.replace('xhttps', 'https')\n",
    "w.load_layer_config(wmts_link, \"wmts/xml\")"
   ]
  },
  {
   "cell_type": "markdown",
   "metadata": {},
   "source": [
    "# Step 2. Define a color map\n",
    "\n",
    "By default, the image will be displayed in greyscale if no `colormap_name` parameter is passed to the titiler API. Guidance below is provided to help determine what a valid colormap_name might be and how to create a legend for the dashboard.\n",
    "\n",
    "## Dashboard ColorRamps & Legends\n",
    "\n",
    "When using the dashboard, there 2 components for implementing a color scheme for your map. There is the map render and there is the legend.\n",
    "\n",
    "> Titiler used for Cloud Optimized Geotiff (COG) rendering accepts any color scheme from the python matplotlib library, and custom color formulas.\n",
    "\n",
    "* [Rio Tiler Colors](https://cogeotiff.github.io/rio-tiler/colormap/)\n",
    "* [Matplotlib Colors](https://matplotlib.org/stable/tutorials/colors/colormaps.html) \n",
    "\n",
    "Available `colormap_name` values for titiler: `above, accent, accent_r, afmhot, afmhot_r, autumn, autumn_r, binary, binary_r, blues, blues_r, bone, bone_r, brbg, brbg_r, brg, brg_r, bugn, bugn_r, bupu, bupu_r, bwr, bwr_r, cfastie, cividis, cividis_r, cmrmap, cmrmap_r, cool, cool_r, coolwarm, coolwarm_r, copper, copper_r, cubehelix, cubehelix_r, dark2, dark2_r, flag, flag_r, gist_earth, gist_earth_r, gist_gray, gist_gray_r, gist_heat, gist_heat_r, gist_ncar, gist_ncar_r, gist_rainbow, gist_rainbow_r, gist_stern, gist_stern_r, gist_yarg, gist_yarg_r, gnbu, gnbu_r, gnuplot, gnuplot2, gnuplot2_r, gnuplot_r, gray, gray_r, greens, greens_r, greys, greys_r, hot, hot_r, hsv, hsv_r, inferno, inferno_r, jet, jet_r, magma, magma_r, nipy_spectral, nipy_spectral_r, ocean, ocean_r, oranges, oranges_r, orrd, orrd_r, paired, paired_r, pastel1, pastel1_r, pastel2, pastel2_r, pink, pink_r, piyg, piyg_r, plasma, plasma_r, prgn, prgn_r, prism, prism_r, pubu, pubu_r, pubugn, pubugn_r, puor, puor_r, purd, purd_r, purples, purples_r, rainbow, rainbow_r, rdbu, rdbu_r, rdgy, rdgy_r, rdpu, rdpu_r, rdylbu, rdylbu_r, rdylgn, rdylgn_r, reds, reds_r, rplumbo, schwarzwald, seismic, seismic_r, set1, set1_r, set2, set2_r, set3, set3_r, spectral, spectral_r, spring, spring_r, summer, summer_r, tab10, tab10_r, tab20, tab20_r, tab20b, tab20b_r, tab20c, tab20c_r, terrain, terrain_r, twilight, twilight_r, twilight_shifted, twilight_shifted_r, viridis, viridis_r, winter, winter_r, wistia, wistia_r, ylgn, ylgn_r, ylgnbu, ylgnbu_r, ylorbr, ylorbr_r, ylorrd, ylorrd_r`\n"
   ]
  },
  {
   "cell_type": "markdown",
   "metadata": {},
   "source": [
    "## Example 1: Class based known colors\n",
    "\n",
    "In this example, the raster represents classes of forest with 11 possible values. There are specific colors selected to correspond to each class. We combine the list of colors and the list of classes and format them for the legend parameter the dashboard needs.\n",
    "\n",
    "https://github.com/MAAP-Project/dashboard-datasets-maap/blob/main/datasets/taiga-forest-classification.json"
   ]
  },
  {
   "cell_type": "code",
   "execution_count": null,
   "metadata": {},
   "outputs": [],
   "source": [
    "colors = [\n",
    "    '#5255A3','#1796A3','#FDBF6F','#FF7F00', '#FFFFBF','#D9EF8B','#91CF60','#1A9850', '#C4C4C4','#FF0000', '#0000FF'\n",
    "]\n",
    "labels = [\n",
    "    'Sparse & Uniform',\n",
    "    'Sparse & Diffuse-gradual',\n",
    "    'Sparse & Diffuse-rapid',\n",
    "    'Sparse & Abrupt ',\n",
    "    'Open & Uniform ',\n",
    "    'Open & Diffuse-gradual',\n",
    "    'Open & Diffuse-rapid',\n",
    "    'Open & Abrupt',\n",
    "    'Intermediate & Closed',\n",
    "    'Non-forest edge (dry)',\n",
    "    'Non-forest edge (wet)'\n",
    "]\n",
    "\n",
    "legend = [dict(color=colors[i],label=labels[i]) for i in range(0, len(colors))]\n",
    "print(json.dumps(legend, indent=2))\n",
    "\n",
    "# Copy and Paste the output below to your dashboard config."
   ]
  },
  {
   "cell_type": "markdown",
   "metadata": {},
   "source": [
    "## Example 2: Discrete ColorRamp\n",
    "\n",
    "In this example, the range of values is known, but the color scale has many non-sequential colors. Starting with the premade color list, we create a continuous color ramp that uses the known colors as stops points. Arbitrarly 12 breaks looked decent in the dashboard legend so we split it into 12 discrete colors. Then combine the list of values and colors into the correct json syntax.\n",
    "\n",
    "https://github.com/MAAP-Project/dashboard-datasets-maap/blob/main/datasets/ATL08.json"
   ]
  },
  {
   "cell_type": "code",
   "execution_count": null,
   "metadata": {},
   "outputs": [],
   "source": [
    "forest_ht = matplotlib.colors.LinearSegmentedColormap.from_list('forest_ht', ['#636363','#FC8D59','#FEE08B','#FFFFBF','#D9EF8B','#91CF60','#1A9850','#005A32'], 12)\n",
    "cols = [matplotlib.colors.to_hex(forest_ht(i)) for i in range(forest_ht.N)]\n",
    "\n",
    "cats = range(0,25, (25//len(cols)))\n",
    "legend = [[cats[i],cols[i]] for i in range(0, len(cols))]\n",
    "text = (json.dumps(legend, separators=(',', ': ') ))\n",
    "\n",
    "print(text.replace('],[','],\\n['))\n",
    " \n",
    "# Copy and Paste the output below to your dashboard config."
   ]
  },
  {
   "cell_type": "markdown",
   "metadata": {},
   "source": [
    "## Example 3: Continuous ColorRamp\n",
    "\n",
    "In this example, we are using a built in ColorRamp from matplotlib. So we just need to extract enough colors to fill the legend adequately, and convert the colors to hex codes.\n",
    "\n",
    "https://github.com/MAAP-Project/dashboard-datasets-maap/blob/main/datasets/topo.json"
   ]
  },
  {
   "cell_type": "code",
   "execution_count": null,
   "metadata": {},
   "outputs": [],
   "source": [
    "cmap_name = 'gist_earth_r'\n",
    "cmap = matplotlib.cm.get_cmap(cmap_name, 12)\n",
    "cols = [matplotlib.colors.to_hex(cmap(i)) for i in range(cmap.N)]\n",
    "print(cols)\n",
    "\n",
    "# Copy and Paste the output below to your dashboard config."
   ]
  },
  {
   "cell_type": "markdown",
   "metadata": {},
   "source": [
    "# Step 3: Create and submit your dashboard dataset json"
   ]
  },
  {
   "cell_type": "code",
   "execution_count": null,
   "metadata": {},
   "outputs": [],
   "source": [
    "# This example is for a continuous color ramps\n",
    "dataset_id = \"paraguay-estimated-biomass\"\n",
    "dataset_name = \"Estimated Biomass in Paraguay\"\n",
    "dataset_type = \"raster\"\n",
    "legend_type = \"gradient-adjustable\"\n",
    "info = \"Estimated biomass within 6km grids.\"\n",
    "stops = cols\n",
    "parameters = f\"colormap_name={cmap_name}&rescale={band_min},{band_max}&bidx={bidx}\""
   ]
  },
  {
   "cell_type": "code",
   "execution_count": null,
   "metadata": {},
   "outputs": [],
   "source": [
    "# Single COG\n",
    "tiles_link = f\"{{titiler_server_url}}/cog/tiles/{{z}}/{{x}}/{{y}}.png?url={location}&{parameters}\""
   ]
  },
  {
   "cell_type": "code",
   "execution_count": null,
   "metadata": {},
   "outputs": [],
   "source": [
    "# Mosaic via mosaic json POST \n",
    "# https://titiler.maap-project.org/mosaicjson/mosaics/897be444-51c8-4c75-b493-ae5aacd431c5/tiles/{z}/{x}/{y}?bidx=1&max_size=1024&resampling_method=nearest&rescale=0,400&return_mask=true&colormap_name=gist_earth_r\n",
    "tiles_link = f\"{mosaic_link}?{parameters}\""
   ]
  },
  {
   "cell_type": "code",
   "execution_count": null,
   "metadata": {},
   "outputs": [],
   "source": [
    "# Mosaic via mosaic json upload\n",
    "tiles_link = f\"{{titiler_server_url}}/mosaicjson/tiles/WebMercatorQuad/{{z}}/{{x}}/{{y}}.png?url={location}&{parameters}\""
   ]
  },
  {
   "cell_type": "code",
   "execution_count": null,
   "metadata": {},
   "outputs": [],
   "source": [
    "dataset_dict = {\n",
    "    \"id\": dataset_id,\n",
    "    \"name\": dataset_name,\n",
    "    \"type\": dataset_type,\n",
    "    \"swatch\": {\n",
    "      \"color\": \"#6976d7\",\n",
    "      \"name\": \"Moody Blue\"\n",
    "    },\n",
    "    \"source\": {\n",
    "        \"type\": dataset_type,\n",
    "        \"tiles\": [ tiles_link ]\n",
    "    },\n",
    "    \"legend\": {\n",
    "      \"type\": legend_type,\n",
    "       \"min\": band_min,\n",
    "       \"max\": band_max,\n",
    "      \"stops\": stops\n",
    "    },\n",
    "    \"info\": info\n",
    "}\n",
    "print(json.dumps(dataset_dict, indent=4))"
   ]
  },
  {
   "cell_type": "markdown",
   "metadata": {},
   "source": [
    "## Create a PR to the datasets repo\n",
    "\n",
    "```bash\n",
    "git clone git@github.com:MAAP-Project/biomass-dashboard-datasets.git\n",
    "cd biomass-dashboard-datasets\n",
    "git checkout -b ab/add-dataset\n",
    "# select and copy json above\n",
    "echo <copied_json> >> datasets/paraguay-estimated-biomass.json\n",
    "```"
   ]
  },
  {
   "cell_type": "markdown",
   "metadata": {},
   "source": [
    "### Add to the datasets list in config.yml\n",
    "\n",
    "In `config.yml`:\n",
    "\n",
    "```yaml\n",
    "DATASETS:\n",
    "- paraguay-estimated-biomass.json\n",
    "```"
   ]
  },
  {
   "cell_type": "markdown",
   "metadata": {},
   "source": [
    "### Add to the product or country pilot\n",
    "\n",
    "In `country_pilots/paraguay/country_pilot.json`:\n",
    "```json\n",
    "{\n",
    "    \"id\": \"paraguay\",\n",
    "    \"label\": \"Paraguay\",\n",
    "    //...\n",
    "    \"datasets\": [\n",
    "        {\n",
    "            \"id\": \"paraguay-forest-mask\"\n",
    "        },\n",
    "        {\n",
    "            \"id\": \"paraguay-tree-cover\"\n",
    "        },\n",
    "        {\n",
    "            \"id\": \"paraguay-estimated-biomass\"\n",
    "        }\n",
    "    ]\n",
    "}\n",
    "```"
   ]
  },
  {
   "cell_type": "markdown",
   "metadata": {},
   "source": [
    "## Add content to the summary\n",
    "\n",
    "There should be a `summary.html` file corresponding to the product or country pilot you are working on, for example: `country_pilots/paraguay/summary.html`. Add or modify content in that file as appropriate."
   ]
  },
  {
   "cell_type": "markdown",
   "metadata": {},
   "source": [
    "## Submit a PR\n",
    "\n",
    "Once you have added the dataset json file and summary content, submit a PR to https://github.com/MAAP-Project/biomass-dashboard-datasets. A member of the data team will review the PR and when it is merged your content will appear in biomass.dit.maap-project.org."
   ]
  }
 ],
 "metadata": {
  "interpreter": {
   "hash": "06a5d0145d2c0de679875a5546b4cbbf4cf8aec2ac17ee1072f90657257481e7"
  },
  "kernelspec": {
   "display_name": "Python 3 (ipykernel)",
   "language": "python",
   "name": "python3"
  },
  "language_info": {
   "codemirror_mode": {
    "name": "ipython",
    "version": 3
   },
   "file_extension": ".py",
   "mimetype": "text/x-python",
   "name": "python",
   "nbconvert_exporter": "python",
   "pygments_lexer": "ipython3",
   "version": "3.7.8"
  }
 },
 "nbformat": 4,
 "nbformat_minor": 4
}
