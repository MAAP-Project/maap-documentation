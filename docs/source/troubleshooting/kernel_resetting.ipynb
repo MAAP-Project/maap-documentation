{
 "cells": [
  {
   "cell_type": "markdown",
   "id": "58641795-4f3e-40af-9374-b882f2be6eb1",
   "metadata": {},
   "source": [
    "# Kernel resetting repeatedly"
   ]
  },
  {
   "cell_type": "markdown",
   "id": "cd3c4962",
   "metadata": {},
   "source": [
    "The underlying cause for this could be that you deleted the conda environment that you used to create the kernelspec you are trying to run with.\n",
    "\n",
    "Resolutions: \n",
    "\n",
    "1. Make sure the conda environment for the jupyter kernelspec still exists.\n",
    "2. Remove the problematic kernel from the jupyter environment as described below.\n",
    "\n",
    "### Removing a kernel in JupyterLab <sub>1</sub>\n",
    "\n",
    "Use the `jupyter kernelspec list` command from the terminal to view the currently installed kernels. Use this list to find the correct kernel name. Then use the following command to uninstall the kernel:\n",
    "\n",
    "```bash\n",
    "jupyter kernelspec uninstall {KERNEL_NAME}\n",
    "```\n",
    "\n",
    "{KERNEL_NAME} is the kernel’s name in the `jupyter kernelspec list` command and the `--name` argument in the `ipykernel install` command used to create the kernel.\n",
    "\n",
    "<sub>1: Instructions referenced from https://docs.posit.co/ide/server-pro/user/jupyter-lab/guide/jupyter-kernel-management.html#removing-kernels</sub>"
   ]
  }
 ],
 "metadata": {
  "kernelspec": {
   "display_name": "Python 3",
   "language": "python",
   "name": "python3"
  },
  "language_info": {
   "codemirror_mode": {
    "name": "ipython",
    "version": 3
   },
   "file_extension": ".py",
   "mimetype": "text/x-python",
   "name": "python",
   "nbconvert_exporter": "python",
   "pygments_lexer": "ipython3",
   "version": "3.9.1"
  }
 },
 "nbformat": 4,
 "nbformat_minor": 5
}
