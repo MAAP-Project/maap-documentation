{
 "cells": [
  {
   "cell_type": "markdown",
   "id": "58641795-4f3e-40af-9374-b882f2be6eb1",
   "metadata": {},
   "source": [
    "# Error Codes in DPS"
   ]
  },
  {
   "cell_type": "markdown",
   "id": "cd3c4962",
   "metadata": {},
   "source": [
    "Jobs run at scale in the DPS may fail for various reasons. Here are some of the common error codes and how to resolve those errors."
   ]
  },
  {
   "cell_type": "markdown",
   "id": "b647510a",
   "metadata": {},
   "source": [
    "error code | explanation | resolution\n",
    "---------- | ----------- | ----------\n",
    "exit code 143 | The system lost access to a resource due to [spot-instance interruption](https://docs.aws.amazon.com/AWSEC2/latest/UserGuide/spot-interruptions.html) | Re-run the job(s) later or with a different resource\n"
   ]
  }
 ],
 "metadata": {
  "kernelspec": {
   "display_name": "Python 3",
   "language": "python",
   "name": "python3"
  },
  "language_info": {
   "codemirror_mode": {
    "name": "ipython",
    "version": 3
   },
   "file_extension": ".py",
   "mimetype": "text/x-python",
   "name": "python",
   "nbconvert_exporter": "python",
   "pygments_lexer": "ipython3",
   "version": "3.9.1"
  }
 },
 "nbformat": 4,
 "nbformat_minor": 5
}
