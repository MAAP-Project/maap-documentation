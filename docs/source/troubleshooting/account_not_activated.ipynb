{
 "cells": [
  {
   "cell_type": "markdown",
   "id": "58641795-4f3e-40af-9374-b882f2be6eb1",
   "metadata": {},
   "source": [
    "# My Account is No Longer Activated"
   ]
  },
  {
   "cell_type": "markdown",
   "id": "cd3c4962",
   "metadata": {},
   "source": [
    "You may see an error message when logging in about your account not being \"activated.\" In this case, alert the MAAP support team via Slack or by sending an email to support@maap-project.org. Likely causes of this error include:\n",
    "\n",
    "1. **A MAAP service outage** - if an operational outage has occurred in one of the MAAP subsystems such as the REST API or the SSO service, this will prevent the ADE from being able to validate the user's account status. \n",
    "2. **EarthData profile change** - if the user has changed their email or username in EarthData Login, this may cause a sign-in conflict, requiring a MAAP admin to re-sync the user's profile within the ADE.\n",
    "3. **Account suspension** - if the user's account has been suspended, the account will need to be re-activated by a MAAP admin before the ADE can be accessed."
   ]
  }
 ],
 "metadata": {
  "kernelspec": {
   "display_name": "Python 3",
   "language": "python",
   "name": "python3"
  },
  "language_info": {
   "codemirror_mode": {
    "name": "ipython",
    "version": 3
   },
   "file_extension": ".py",
   "mimetype": "text/x-python",
   "name": "python",
   "nbconvert_exporter": "python",
   "pygments_lexer": "ipython3",
   "version": "3.9.1"
  }
 },
 "nbformat": 4,
 "nbformat_minor": 5
}
