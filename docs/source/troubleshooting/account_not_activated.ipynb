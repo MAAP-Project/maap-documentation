{
 "cells": [
  {
   "cell_type": "markdown",
   "id": "58641795-4f3e-40af-9374-b882f2be6eb1",
   "metadata": {},
   "source": [
    "# My Account is No Longer Activated"
   ]
  },
  {
   "cell_type": "markdown",
   "id": "cd3c4962",
   "metadata": {},
   "source": [
    "You may see an error message when logging in about your account not being \"activated.\"\n",
    "\n",
    "asdf\n"
   ]
  }
 ],
 "metadata": {
  "kernelspec": {
   "display_name": "Python 3",
   "language": "python",
   "name": "python3"
  },
  "language_info": {
   "codemirror_mode": {
    "name": "ipython",
    "version": 3
   },
   "file_extension": ".py",
   "mimetype": "text/x-python",
   "name": "python",
   "nbconvert_exporter": "python",
   "pygments_lexer": "ipython3",
   "version": "3.9.1"
  }
 },
 "nbformat": 4,
 "nbformat_minor": 5
}
