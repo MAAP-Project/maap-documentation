{
 "cells": [
  {
   "cell_type": "markdown",
   "metadata": {},
   "source": [
    "## Using the MAAP Earthdata Search Client Graphical User Interface"
   ]
  },
  {
   "cell_type": "markdown",
   "metadata": {},
   "source": [
    "The Earthdata Search Client (EDSC) allows users to search, preview, download, and access EOSDIS Earth observation data. The MAAP has its own separate instance of NASA's EDSC which is located at [search.maap-project.org](http://search.maap-project.org). This MAAP ESDC provides a graphical user interface (GUI) for the MAAP's Common Metadata Repository (CMR) in order to make the process of discovering data easy for MAAP users. \n",
    "\n",
    "![Earthdata Search Client GUI](../_static/edsc_gui.png)\n",
    "(*Image of the MAAP EDSC GUI*)"
   ]
  },
  {
   "cell_type": "markdown",
   "metadata": {},
   "source": [
    "### Using the Earthdata Search Client"
   ]
  },
  {
   "cell_type": "markdown",
   "metadata": {},
   "source": [
    "We can use the searchbar to search for a term (example: *GEDI*) to narrow the resulting collections. The search can be further refined by picking a temporal range from the calendar using the **Temporal** ![Temporal](../_static/temporal.png) button and setting spatial boundaries using the **Spatial** ![Spatial](../_static/spatial.png) button. Additionally, using the **Advanced search** ![Advanced search](../_static/advanced_search.png) lets you search by the HUC ID or region (more information about hydrological units may be found [here](https://water.usgs.gov/GIS/huc.html)). You can use the **Clear Filters** ![Clear Filters](../_static/clear_filters.png) button to undo any filters that have been set. The sidebar to the left allows you to further refine your search by selecting one of the available facets. These include *Features*, *Keywords*, *Platforms*, *Instruments*, *Organizations*, *Projects*, and *Processing levels*.\n",
    "\n",
    "We can also use the tools with the background map to refine our search. We can search spatially using **Search by spatial polygon** ![Search by spatial polygon](../_static/search_by_spatial_polygon.png), **Search by spatial rectangle** ![Search by spatial rectangle](../_static/search_by_spatial_rectangle.png), and **Search by spatial coordinate** ![Search by spatial coordinate](../_static/search_by_spatial_coordinate.png). Layers may be edited using the **Edit layers** ![Edit layers](../_static/edit_layers.png) button and deleted using the **Delete layers** ![Delete layers](../_static/delete_layers.png) buttons. There are also options for **North Polar Stereographic** ![North Polar Stereographic](../_static/north_polar_stereographic.png), **Geographic (Equirectangular)** ![Geographic (Equirectangular)](../_static/geographic.png), and **South Polar Stereographic** ![South Polar Stereographic](../_static/south_polar_stereographic.png) projections. There are options to **Zoom in** ![Zoom in](../_static/zoom_in.png), **Zoom home** ![Zoom home](../_static/zoom_home.png), and **Zoom out** ![Zoom out](../_static/zoom_out.png). Finally, we can change the basemap by selecting the **Map layers** ![Map layers](../_static/map_layers.png) button. \n",
    "\n",
    "The results of the search are displayed in the *Matching Collections* section. Collection names and summaries for each result are shown here. The **View collection details** ![View collection details](../_static/view_collection_details.png) button may be used to view related URLs and additional information about the selected collection. Also, collections may be added to a project using the **Add collection to the current project** ![Add collection to the current project](../_static/add_collection_to_the_current_project.png) button. Clicking anywhere else on a result allows you to see the granules within the collection available for download."
   ]
  },
  {
   "cell_type": "markdown",
   "metadata": {},
   "source": [
    "### Using the Earthdata Search Client in the MAAP Algorithm Development Environment (ADE)"
   ]
  },
  {
   "cell_type": "markdown",
   "metadata": {},
   "source": [
    "The MAAP EDSC can also be accessed within the MAAP ADE when using the MAAP JupyterLab IDE. When inside of a workspace, we can use the **Data Search** tab at the top of the Jupyter window to see the option to **Open EarthData Search**. We can also access the MAAP EDSC by selecting the **Commands**  tab on the JupyterLab sidebar and scrolling down to the *Search* section where the **Open EarthData Search** option is located. Alternatively, we can use the search bar at the top of the JupyterLab sidebar to find this option, or press Ctrl+Shift+C to be taken directly to the search bar.\n",
    "\n",
    "The JupyterLab Search extension is integrated with the embedded Earthdata Search Client allowing users to paste queries and query results into a notebook. This is accomplished by using the EDSC and navigating to the desired JupyterLab notebook. Next, use the **Data Search** tab at the top of the Jupyter window to see the **Paste Search Query** and **Paste Search Results** options can be selected (these can also be accessed by the **Commands**  tab on the JupyterLab sidebar)."
   ]
  }
 ],
 "metadata": {
  "kernelspec": {
   "display_name": "Python 3",
   "language": "python",
   "name": "python3"
  },
  "language_info": {
   "codemirror_mode": {
    "name": "ipython",
    "version": 3
   },
   "file_extension": ".py",
   "mimetype": "text/x-python",
   "name": "python",
   "nbconvert_exporter": "python",
   "pygments_lexer": "ipython3",
   "version": "3.7.8"
  }
 },
 "nbformat": 4,
 "nbformat_minor": 4
}
