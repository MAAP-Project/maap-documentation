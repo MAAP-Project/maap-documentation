{
 "cells": [
  {
   "cell_type": "markdown",
   "id": "8fbfd0e3",
   "metadata": {},
   "source": [
    "## Test Notebook"
   ]
  },
  {
   "cell_type": "raw",
   "id": "b7ae3574",
   "metadata": {},
   "source": [
    "---\n",
    "title: Test Notebook\n",
    "description: creating a test notebook for a presentation\n",
    "author: Sheyenne Kirkland\n",
    "date: June 13, 2023\n",
    "execute:\n",
    "    freeze: true\n",
    "---"
   ]
  },
  {
   "cell_type": "markdown",
   "id": "5aca315d",
   "metadata": {},
   "source": [
    "In this tutorial..."
   ]
  },
  {
   "cell_type": "code",
   "execution_count": null,
   "id": "ddd4d5ba",
   "metadata": {},
   "outputs": [],
   "source": []
  }
 ],
 "metadata": {
  "kernelspec": {
   "display_name": "Python 3 (ipykernel)",
   "language": "python",
   "name": "python3"
  },
  "language_info": {
   "codemirror_mode": {
    "name": "ipython",
    "version": 3
   },
   "file_extension": ".py",
   "mimetype": "text/x-python",
   "name": "python",
   "nbconvert_exporter": "python",
   "pygments_lexer": "ipython3",
   "version": "3.7.8"
  }
 },
 "nbformat": 4,
 "nbformat_minor": 5
}
