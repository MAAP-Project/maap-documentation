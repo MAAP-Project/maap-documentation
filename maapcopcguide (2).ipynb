{
 "cells": [
  {
   "cell_type": "markdown",
   "id": "119688c0-9e8f-4bd6-ba80-f6725863a5a7",
   "metadata": {},
   "source": [
    "# ****Cloud-Optimized Geospatial Formats Guide****"
   ]
  },
  {
   "cell_type": "markdown",
   "id": "59b8ea1e-d938-4cf9-a975-27f5152dd6d8",
   "metadata": {},
   "source": [
    "**Authors**: Harshini Girish (UAH), Rajat Shinde (UAH), Alex Mandel (DevSeed), Jamison French (DevSeed), Brian Freitag (NASA MSFC), Sheyenne Kirkland (UAH)\n",
    "\n",
    "**Date**: October 25, 2024\n",
    "\n",
    "**Description**: The LASER (LAS) file format is designed to store 3-dimensional (x,y,z) point cloud data typically collected from LiDAR. An LAZ file is a compressed LAS file, and a Cloud-Optimized Point Cloud (COPC) file is a valid LAZ file. COPC files are similar to COGs for GeoTIFFs: Both are valid versions of the original file format but with additional requirements to support cloud-optimized data access. In the case of COGs, there are additional requirements for tiling and overviews. For COPC, data must be organized into a clustered octree with a variable-length record (VLR) describing the octree structure.\n",
    "\n",
    "**Setup**\n",
    "This tutorial will explore how to:\n",
    "\n",
    "1. Read a LiDAR LAS file using PDAL in Python\n",
    "2. Convert the LiDAR LAS file to Cloud-Optimized Point Cloud (COPC) format\n",
    "3. Validate the generated COPC file\n",
    "\n",
    "## **Run This Notebook**\n",
    "\n",
    "To access and run this tutorial within MAAP’s Algorithm Development Environment (ADE), please refer to the [Getting started with the MAAP](#) section of our documentation.\n",
    "\n",
    "**Disclaimer**: It is highly recommended to run this tutorial within MAAP’s ADE, which already includes packages specific to MAAP, such as maap-py. Running the tutorial outside of the MAAP ADE may lead to errors.\n"
   ]
  },
  {
   "cell_type": "markdown",
   "id": "1de8e60d-5a61-438d-83a2-45476986277c",
   "metadata": {},
   "source": [
    "## **Importing Packages**\n",
    "In this example, we demonstrate how to read a LiDAR LAS file using PDAL in Python and convert the LiDAR LAS file to Cloud-Optimized Point Cloud (COPC) format on the MAAP ADE.\n",
    "\n",
    "Within your Jupyter Notebook, start by importing the maap package. Then invoke the MAAP constructor, setting the maap_host argument to 'api.ops.maap-project.org'"
   ]
  },
  {
   "cell_type": "code",
   "execution_count": null,
   "id": "901fdb83-fbdf-4eac-896a-6411e83e2dee",
   "metadata": {},
   "outputs": [],
   "source": [
    "# import os module\n",
    "import os\n",
    "# import the maap package to handle queries\n",
    "from maap.maap import MAAP\n",
    "# invoke the MAAP constructor using the maap_host argument\n",
    "maap = MAAP(maap_host='api.ops.maap-project.org')\n"
   ]
  },
  {
   "cell_type": "markdown",
   "id": "9c31c8b1-2778-4355-9408-14da183bea1c",
   "metadata": {},
   "source": [
    "## **Downloading The Data**\n",
    "We are using search_data method from the earthaccess module for searching the granules from the selected collection. The temporal argument defines the temporal range for\n",
    "\n"
   ]
  },
  {
   "cell_type": "code",
   "execution_count": null,
   "id": "108f7061-c7b1-42ca-bb3a-ab8daa521c9e",
   "metadata": {},
   "outputs": [],
   "source": [
    "results = maap.searchGranule(\n",
    "    short_name=\"GLLIDARPC\",\n",
    "    version=\"001\",\n",
    "    temporal = (\"2020\"), \n",
    "    count=3 \n",
    ")"
   ]
  },
  {
   "cell_type": "markdown",
   "id": "e16888af-0e2e-4f93-be33-f79a8feced68",
   "metadata": {},
   "source": [
    "<p style=\"font-family: 'Courier New', Courier, monospace; font-size: 15px; color: black;\">Granules found: 72</p>"
   ]
  },
  {
   "cell_type": "markdown",
   "id": "432653a4-8088-4572-b6e3-f51b8d7c8f0a",
   "metadata": {},
   "source": [
    "<div style=\"overflow-x: auto; white-space: pre-wrap; font-family: 'Courier New', monospace; padding: 5px; font-size:0.9em; line-height: 1.2;\">\n",
    "[Collection: {'EntryTitle': 'G-LiHT Lidar Point Cloud V001'}\n",
    " Spatial coverage: {'HorizontalSpatialDomain': {'Geometry': {'GPolygons': [{'Boundary': {'Points': [{'Longitude': -81.03452828650298, 'Latitude': 25.50220025425373}, {'Longitude': -81.01391715300757, 'Latitude': 25.50220365895999}, {'Longitude': -81.01391819492625, 'Latitude': 25.5112430715201}, {'Longitude': -81.03453087148995, 'Latitude': 25.511239665437053}, {'Longitude': -81.03452828650298, 'Latitude': 25.50220025425373}]}}]}}}\n",
    " Temporal coverage: {'RangeDateTime': {'BeginningDateTime': '2020-03-11T04:00:00.000Z', 'EndingDateTime': '2020-03-12T03:59:59.000Z'}}\n",
    " Size(MB): 238.623\n",
    " Data: ['https://e4ftl01.cr.usgs.gov//GWELD1/COMMUNITY/GLLIDARPC.001/2020.03.11/GLLIDARPC_FL_20200311_FIA8_l0s47.las'],\n",
    " \n",
    "Collection: {'EntryTitle': 'G-LiHT Lidar Point Cloud V001'}\n",
    " Spatial coverage: {'HorizontalSpatialDomain': {'Geometry': {'GPolygons': [{'Boundary': {'Points': [{'Longitude': -81.02242648723991, 'Latitude': 25.493163090615468}, {'Longitude': -80.99410838333016, 'Latitude': 25.49316468678571}, {'Longitude': -80.99410794242846, 'Latitude': 25.502204110708817}, {'Longitude': -81.02242816553566, 'Latitude': 25.50220251389295}, {'Longitude': -81.02242648723991, 'Latitude': 25.493163090615468}]}}]}}}\n",
    " Temporal coverage: {'RangeDateTime': {'BeginningDateTime': '2020-03-11T04:00:00.000Z', 'EndingDateTime': '2020-03-12T03:59:59.000Z'}}\n",
    " Size(MB): 248.383\n",
    " Data: ['https://e4ftl01.cr.usgs.gov//GWELD1/COMMUNITY/GLLIDARPC.001/2020.03.11/GLLIDARPC_FL_20200311_FIA8_l0s46.las'],\n",
    " \n",
    "Collection: {'EntryTitle': 'G-LiHT Lidar Point Cloud V001'}\n",
    " Spatial coverage: {'HorizontalSpatialDomain': {'Geometry': {'GPolygons': [{'Boundary': {'Points': [{'Longitude': -80.94099075054905, 'Latitude': 25.276201329530473}, {'Longitude': -80.9355627247816, 'Latitude': 25.276199059361314}, {'Longitude': -80.9355579494582, 'Latitude': 25.285238744206318}, {'Longitude': -80.94098637748567, 'Latitude': 25.285241015299494}, {'Longitude': -80.94099075054905, 'Latitude': 25.276201329530473}]}}]}}}\n",
    " Temporal coverage: {'RangeDateTime': {'BeginningDateTime': '2020-03-11T04:00:00.000Z', 'EndingDateTime': '2020-03-12T03:59:59.000Z'}}\n",
    " Size(MB): 91.0422\n",
    " Data: ['https://e4ftl01.cr.usgs.gov//GWELD1/COMMUNITY/GLLIDARPC.001/2020.03.11/GLLIDARPC_FL_20200311_FIA8_l0s22.las']]\n",
    "</div>"
   ]
  },
  {
   "cell_type": "markdown",
   "id": "70afdc78-3dc6-46f1-bd09-df8c543bbf33",
   "metadata": {},
   "source": [
    "Let’s use the file with size 91.04 MB and convert it to a COPC format."
   ]
  },
  {
   "cell_type": "code",
   "execution_count": null,
   "id": "099cc4a8-a228-4c31-a9b6-eea4c157f7b5",
   "metadata": {},
   "outputs": [],
   "source": [
    "# Download Data - Selecting the 3rd file from the list\n",
    "gliht_las_file = maap.downloadGranule(las_item_results[2], data_dir)\n",
    "las_filename = gliht_las_file[0]\n",
    "print(las_filename)"
   ]
  },
  {
   "cell_type": "markdown",
   "id": "b953a4b4-dd6f-4b06-864b-170aba0b168f",
   "metadata": {},
   "source": [
    "<div style=\"overflow-x: auto; white-space: pre-wrap; font-family: 'Courier New', monospace; padding: 5px; font-size: 0.9em; line-height: 1.2;\">Getting 1 granules, approx download size: 0.09 GB\n",
    "File GLLIDARPC_FL_20200311_FIA8_l0s22.las already downloaded\n",
    "data/GLLIDARPC_FL_20200311_FIA8_l0s22.las\n",
    "QUEUEING TASKS | : 100%|██████████| 1/1 [00:00<00:00, 1869.12it/s]\n",
    "PROCESSING TASKS | : 100%|██████████| 1/1 [00:00<00:00, 16131.94it/s]\n",
    "COLLECTING RESULTS | : 100%|██████████| 1/1 [00:00<00:00, 33554.43it/s]\n",
    "</div>\n"
   ]
  },
  {
   "cell_type": "markdown",
   "id": "7426b2df-c9e2-43fe-95c7-1dc298db3546",
   "metadata": {},
   "source": [
    "# **Validating The Product**\n",
    "As we can see from output of the below cell, the .copc.laz file is created in the destination directory."
   ]
  },
  {
   "cell_type": "code",
   "execution_count": null,
   "id": "b3b4adce-5702-4df3-81ec-e56b4b2487dc",
   "metadata": {},
   "outputs": [],
   "source": [
    "# using -go for removing user details and h for getting memory size in MBs\n",
    "!ls -goh ./data\n"
   ]
  },
  {
   "cell_type": "markdown",
   "id": "078a9fab-6225-45cf-8dd8-9657c0f56d48",
   "metadata": {},
   "source": [
    "<p style=\"font-family: 'Courier New', Courier, monospace; font-size: 13px; color: black; line-height: 1.2;\">total 239888</p>\n",
    "<p style=\"font-family: 'Courier New', Courier, monospace; font-size: 13px; color: black; line-height: 1.2;\">-rw-r--r--  1     26M Mar 20 11:55 GLLIDARPC_FL_20200311_FIA8_l0s22.copc.laz</p>\n",
    "<p style=\"font-family: 'Courier New', Courier, monospace; font-size: 13px; color: black; line-height: 1.2;\">-rw-r--r--  1     91M Feb 29 11:27 GLLIDARPC_FL_20200311_FIA8_l0s22.las</p>"
   ]
  },
  {
   "cell_type": "markdown",
   "id": "c555fa00-7888-4f5e-b062-ba23c5b990c7",
   "metadata": {},
   "source": [
    "Let’s read the created COPC file again and check the value of copc flag from the metadata. If the generated LiDAR file is a valid COPC file, then this flag should be set to True.\n"
   ]
  },
  {
   "cell_type": "code",
   "execution_count": null,
   "id": "d4040182-ca1b-4988-bef7-f04591fb7c3e",
   "metadata": {},
   "outputs": [],
   "source": [
    "# Creating a pipeline to validate COPC file and check metadata\n",
    "valid_pipe = pdal.Reader.copc(filename=copc_filename) | pdal.Filter.stats()\n",
    "valid_pipe.execute()\n",
    "\n",
    "# Getting value for the \"copc\" key under the metadata\n",
    "# Output is True for a valid COPC\n",
    "value = valid_pipe.metadata[\"metadata\"][\"readers.copc\"].get(\"copc\")\n",
    "print(value)\n",
    "\n"
   ]
  },
  {
   "cell_type": "markdown",
   "id": "4a6bc939-d047-4595-a592-d67cd2b859a7",
   "metadata": {},
   "source": [
    "<p style=\"font-family: 'Courier New', Courier, monospace; font-size: 15px; color: black;\">True</p>"
   ]
  },
  {
   "cell_type": "markdown",
   "id": "7eee3c51-c4fa-4ad5-91e6-5c75f03e417f",
   "metadata": {},
   "source": [
    "# **Accessing The Data**\n",
    "The data values can be accessed from the executed pipeline using valid_pipe.arrays. The values in the arrays represent the LiDAR point cloud attributes such as X, Y, Z, and Intensity, etc."
   ]
  },
  {
   "cell_type": "code",
   "execution_count": null,
   "id": "3cd2a89c-6509-4388-bd61-0f0eecf764a7",
   "metadata": {},
   "outputs": [],
   "source": [
    "# Extract array values from the pipeline\n",
    "arr_values = valid_pipe.arrays\n",
    "\n",
    "# Print the array values as a dataframe\n",
    "print(arr_values)"
   ]
  },
  {
   "cell_type": "markdown",
   "id": "71b5ff1d-45d2-4d1c-9f18-eb74e570eb2a",
   "metadata": {},
   "source": [
    "<div style=\"overflow-x: auto; white-space: pre-wrap; font-family: 'Courier New', Courier, monospace; font-size: 0.9em; color: black; line-height: 1;\">\n",
    "[array([(506245.56, 2796471.44, 0.24, 40740, 1, 1, 1, 0, 2, 0, 0, 0, 0,  16.998, 1,   0, 310483.75227621, 0),\n",
    "       (506247.16, 2796471.58, 0.27, 35541, 2, 2, 1, 0, 2, 0, 0, 0, 0,  16.998, 1,   0, 310483.75229014, 0),\n",
    "       (506247.95, 2796471.65, 0.24, 17716, 2, 2, 1, 0, 2, 0, 0, 0, 0,  16.998, 1,   0, 310483.75229699, 0),\n",
    "       ...,\n",
    "       (506066.58, 2796032.75, 2.34, 31587, 1, 1, 0, 0, 1, 0, 0, 0, 0, -24.   , 2, 203, 310477.36925451, 0),\n",
    "       (506067.37, 2796033.29, 2.52, 32876, 1, 1, 0, 0, 1, 0, 0, 0, 0, -22.998, 2, 216, 310477.37590641, 0),\n",
    "       (506062.6 , 2796033.27, 1.4 , 27393, 1, 1, 0, 0, 1, 0, 0, 0, 0, -24.   , 2, 108, 310477.38259945, 0)],\n",
    "</div>"
   ]
  },
  {
   "cell_type": "markdown",
   "id": "3f96be0b-5c9b-454b-aa6d-8aa83973c5d6",
   "metadata": {},
   "source": [
    "As observed from the output of the above cell, the data values are retrieved from the downloaded product. Hence, validating the downloaded file.\n",
    "\n"
   ]
  }
 ],
 "metadata": {
  "kernelspec": {
   "display_name": "Python 3 (ipykernel)",
   "language": "python",
   "name": "python3"
  },
  "language_info": {
   "codemirror_mode": {
    "name": "ipython",
    "version": 3
   },
   "file_extension": ".py",
   "mimetype": "text/x-python",
   "name": "python",
   "nbconvert_exporter": "python",
   "pygments_lexer": "ipython3",
   "version": "3.12.4"
  }
 },
 "nbformat": 4,
 "nbformat_minor": 5
}
